{
 "cells": [
  {
   "cell_type": "code",
   "execution_count": 1,
   "metadata": {
    "collapsed": false
   },
   "outputs": [
    {
     "ename": "SyntaxError",
     "evalue": "invalid syntax (<ipython-input-1-e171fb7b2daa>, line 2)",
     "output_type": "error",
     "traceback": [
      "\u001b[0;36m  File \u001b[0;32m\"<ipython-input-1-e171fb7b2daa>\"\u001b[0;36m, line \u001b[0;32m2\u001b[0m\n\u001b[0;31m    data=ascii.read(‘filename’)\u001b[0m\n\u001b[0m                    ^\u001b[0m\n\u001b[0;31mSyntaxError\u001b[0m\u001b[0;31m:\u001b[0m invalid syntax\n"
     ]
    }
   ],
   "source": [
    "import astropy.io.ascii as ascii\n",
    "data=ascii.read(‘filename’)\n",
    "# reads data into a structure\n",
    "# to make an array from a column in the table:\n",
    "ra = data[‘ra’]\n",
    "dec = data[‘dec’]"
   ]
  },
  {
   "cell_type": "code",
   "execution_count": 2,
   "metadata": {
    "collapsed": true
   },
   "outputs": [],
   "source": [
    "import astropy.io.ascii as ascii"
   ]
  },
  {
   "cell_type": "code",
   "execution_count": 3,
   "metadata": {
    "collapsed": false
   },
   "outputs": [
    {
     "ename": "SyntaxError",
     "evalue": "invalid syntax (<ipython-input-3-714e5ea6d203>, line 2)",
     "output_type": "error",
     "traceback": [
      "\u001b[0;36m  File \u001b[0;32m\"<ipython-input-3-714e5ea6d203>\"\u001b[0;36m, line \u001b[0;32m2\u001b[0m\n\u001b[0;31m    data=ascii.read(NGC 1097.tar)\u001b[0m\n\u001b[0m                            ^\u001b[0m\n\u001b[0;31mSyntaxError\u001b[0m\u001b[0;31m:\u001b[0m invalid syntax\n"
     ]
    }
   ],
   "source": [
    "import astropy.io.ascii as ascii\n",
    "data=ascii.read(NGC 1097.tar)\n",
    "# reads data into a structure\n",
    "# to make an array from a column in the table:\n",
    "ra = data[‘ra’]\n",
    "dec = data[‘dec’]"
   ]
  },
  {
   "cell_type": "code",
   "execution_count": 4,
   "metadata": {
    "collapsed": false
   },
   "outputs": [
    {
     "ename": "IOError",
     "evalue": "[Errno 2] No such file or directory: 'NGC 1097.tar'",
     "output_type": "error",
     "traceback": [
      "\u001b[0;31m---------------------------------------------------------------------------\u001b[0m",
      "\u001b[0;31mIOError\u001b[0m                                   Traceback (most recent call last)",
      "\u001b[0;32m<ipython-input-4-9194cfd13ec0>\u001b[0m in \u001b[0;36m<module>\u001b[0;34m()\u001b[0m\n\u001b[1;32m      1\u001b[0m \u001b[0;32mimport\u001b[0m \u001b[0mtarfile\u001b[0m\u001b[0;34m\u001b[0m\u001b[0m\n\u001b[0;32m----> 2\u001b[0;31m \u001b[0mtar\u001b[0m \u001b[0;34m=\u001b[0m \u001b[0mtarfile\u001b[0m\u001b[0;34m.\u001b[0m\u001b[0mopen\u001b[0m\u001b[0;34m(\u001b[0m\u001b[0;34m\"NGC 1097.tar\"\u001b[0m\u001b[0;34m)\u001b[0m\u001b[0;34m\u001b[0m\u001b[0m\n\u001b[0m\u001b[1;32m      3\u001b[0m \u001b[0mtar\u001b[0m\u001b[0;34m.\u001b[0m\u001b[0mextractall\u001b[0m\u001b[0;34m(\u001b[0m\u001b[0;34m)\u001b[0m\u001b[0;34m\u001b[0m\u001b[0m\n\u001b[1;32m      4\u001b[0m \u001b[0mtar\u001b[0m\u001b[0;34m.\u001b[0m\u001b[0mclose\u001b[0m\u001b[0;34m(\u001b[0m\u001b[0;34m)\u001b[0m\u001b[0;34m\u001b[0m\u001b[0m\n",
      "\u001b[0;32m/soft/anaconda/lib/python2.7/tarfile.pyc\u001b[0m in \u001b[0;36mopen\u001b[0;34m(cls, name, mode, fileobj, bufsize, **kwargs)\u001b[0m\n\u001b[1;32m   1671\u001b[0m                     \u001b[0msaved_pos\u001b[0m \u001b[0;34m=\u001b[0m \u001b[0mfileobj\u001b[0m\u001b[0;34m.\u001b[0m\u001b[0mtell\u001b[0m\u001b[0;34m(\u001b[0m\u001b[0;34m)\u001b[0m\u001b[0;34m\u001b[0m\u001b[0m\n\u001b[1;32m   1672\u001b[0m                 \u001b[0;32mtry\u001b[0m\u001b[0;34m:\u001b[0m\u001b[0;34m\u001b[0m\u001b[0m\n\u001b[0;32m-> 1673\u001b[0;31m                     \u001b[0;32mreturn\u001b[0m \u001b[0mfunc\u001b[0m\u001b[0;34m(\u001b[0m\u001b[0mname\u001b[0m\u001b[0;34m,\u001b[0m \u001b[0;34m\"r\"\u001b[0m\u001b[0;34m,\u001b[0m \u001b[0mfileobj\u001b[0m\u001b[0;34m,\u001b[0m \u001b[0;34m**\u001b[0m\u001b[0mkwargs\u001b[0m\u001b[0;34m)\u001b[0m\u001b[0;34m\u001b[0m\u001b[0m\n\u001b[0m\u001b[1;32m   1674\u001b[0m                 \u001b[0;32mexcept\u001b[0m \u001b[0;34m(\u001b[0m\u001b[0mReadError\u001b[0m\u001b[0;34m,\u001b[0m \u001b[0mCompressionError\u001b[0m\u001b[0;34m)\u001b[0m\u001b[0;34m,\u001b[0m \u001b[0me\u001b[0m\u001b[0;34m:\u001b[0m\u001b[0;34m\u001b[0m\u001b[0m\n\u001b[1;32m   1675\u001b[0m                     \u001b[0;32mif\u001b[0m \u001b[0mfileobj\u001b[0m \u001b[0;32mis\u001b[0m \u001b[0;32mnot\u001b[0m \u001b[0mNone\u001b[0m\u001b[0;34m:\u001b[0m\u001b[0;34m\u001b[0m\u001b[0m\n",
      "\u001b[0;32m/soft/anaconda/lib/python2.7/tarfile.pyc\u001b[0m in \u001b[0;36mgzopen\u001b[0;34m(cls, name, mode, fileobj, compresslevel, **kwargs)\u001b[0m\n\u001b[1;32m   1736\u001b[0m \u001b[0;34m\u001b[0m\u001b[0m\n\u001b[1;32m   1737\u001b[0m         \u001b[0;32mtry\u001b[0m\u001b[0;34m:\u001b[0m\u001b[0;34m\u001b[0m\u001b[0m\n\u001b[0;32m-> 1738\u001b[0;31m             \u001b[0mfileobj\u001b[0m \u001b[0;34m=\u001b[0m \u001b[0mgzip\u001b[0m\u001b[0;34m.\u001b[0m\u001b[0mGzipFile\u001b[0m\u001b[0;34m(\u001b[0m\u001b[0mname\u001b[0m\u001b[0;34m,\u001b[0m \u001b[0mmode\u001b[0m\u001b[0;34m,\u001b[0m \u001b[0mcompresslevel\u001b[0m\u001b[0;34m,\u001b[0m \u001b[0mfileobj\u001b[0m\u001b[0;34m)\u001b[0m\u001b[0;34m\u001b[0m\u001b[0m\n\u001b[0m\u001b[1;32m   1739\u001b[0m         \u001b[0;32mexcept\u001b[0m \u001b[0mOSError\u001b[0m\u001b[0;34m:\u001b[0m\u001b[0;34m\u001b[0m\u001b[0m\n\u001b[1;32m   1740\u001b[0m             \u001b[0;32mif\u001b[0m \u001b[0mfileobj\u001b[0m \u001b[0;32mis\u001b[0m \u001b[0;32mnot\u001b[0m \u001b[0mNone\u001b[0m \u001b[0;32mand\u001b[0m \u001b[0mmode\u001b[0m \u001b[0;34m==\u001b[0m \u001b[0;34m'r'\u001b[0m\u001b[0;34m:\u001b[0m\u001b[0;34m\u001b[0m\u001b[0m\n",
      "\u001b[0;32m/soft/anaconda/lib/python2.7/gzip.pyc\u001b[0m in \u001b[0;36m__init__\u001b[0;34m(self, filename, mode, compresslevel, fileobj, mtime)\u001b[0m\n\u001b[1;32m     92\u001b[0m             \u001b[0mmode\u001b[0m \u001b[0;34m+=\u001b[0m \u001b[0;34m'b'\u001b[0m\u001b[0;34m\u001b[0m\u001b[0m\n\u001b[1;32m     93\u001b[0m         \u001b[0;32mif\u001b[0m \u001b[0mfileobj\u001b[0m \u001b[0;32mis\u001b[0m \u001b[0mNone\u001b[0m\u001b[0;34m:\u001b[0m\u001b[0;34m\u001b[0m\u001b[0m\n\u001b[0;32m---> 94\u001b[0;31m             \u001b[0mfileobj\u001b[0m \u001b[0;34m=\u001b[0m \u001b[0mself\u001b[0m\u001b[0;34m.\u001b[0m\u001b[0mmyfileobj\u001b[0m \u001b[0;34m=\u001b[0m \u001b[0m__builtin__\u001b[0m\u001b[0;34m.\u001b[0m\u001b[0mopen\u001b[0m\u001b[0;34m(\u001b[0m\u001b[0mfilename\u001b[0m\u001b[0;34m,\u001b[0m \u001b[0mmode\u001b[0m \u001b[0;32mor\u001b[0m \u001b[0;34m'rb'\u001b[0m\u001b[0;34m)\u001b[0m\u001b[0;34m\u001b[0m\u001b[0m\n\u001b[0m\u001b[1;32m     95\u001b[0m         \u001b[0;32mif\u001b[0m \u001b[0mfilename\u001b[0m \u001b[0;32mis\u001b[0m \u001b[0mNone\u001b[0m\u001b[0;34m:\u001b[0m\u001b[0;34m\u001b[0m\u001b[0m\n\u001b[1;32m     96\u001b[0m             \u001b[0;31m# Issue #13781: os.fdopen() creates a fileobj with a bogus name\u001b[0m\u001b[0;34m\u001b[0m\u001b[0;34m\u001b[0m\u001b[0m\n",
      "\u001b[0;31mIOError\u001b[0m: [Errno 2] No such file or directory: 'NGC 1097.tar'"
     ]
    }
   ],
   "source": [
    "import tarfile\n",
    "tar = tarfile.open(\"NGC 1097.tar\")\n",
    "tar.extractall()\n",
    "tar.close()"
   ]
  },
  {
   "cell_type": "code",
   "execution_count": 5,
   "metadata": {
    "collapsed": false
   },
   "outputs": [
    {
     "ename": "IOError",
     "evalue": "[Errno 2] No such file or directory: '\\\\Users\\\\Anthony\\\\Dropbox\\\\galaxies\\x1096.tsv'",
     "output_type": "error",
     "traceback": [
      "\u001b[0;31m---------------------------------------------------------------------------\u001b[0m",
      "\u001b[0;31mIOError\u001b[0m                                   Traceback (most recent call last)",
      "\u001b[0;32m<ipython-input-5-12f529484a0e>\u001b[0m in \u001b[0;36m<module>\u001b[0;34m()\u001b[0m\n\u001b[1;32m      1\u001b[0m \u001b[0;32mimport\u001b[0m \u001b[0mastropy\u001b[0m\u001b[0;34m.\u001b[0m\u001b[0mio\u001b[0m\u001b[0;34m.\u001b[0m\u001b[0mascii\u001b[0m \u001b[0;32mas\u001b[0m \u001b[0mascii\u001b[0m\u001b[0;34m\u001b[0m\u001b[0m\n\u001b[0;32m----> 2\u001b[0;31m \u001b[0mdata\u001b[0m\u001b[0;34m=\u001b[0m\u001b[0mascii\u001b[0m\u001b[0;34m.\u001b[0m\u001b[0mread\u001b[0m\u001b[0;34m(\u001b[0m\u001b[0;34m'\\Users\\Anthony\\Dropbox\\galaxies\\2096.tsv'\u001b[0m\u001b[0;34m)\u001b[0m\u001b[0;34m\u001b[0m\u001b[0m\n\u001b[0m\u001b[1;32m      3\u001b[0m \u001b[0;31m# reads data into a structure\u001b[0m\u001b[0;34m\u001b[0m\u001b[0;34m\u001b[0m\u001b[0m\n\u001b[1;32m      4\u001b[0m \u001b[0;31m# to make an array from a column in the table:\u001b[0m\u001b[0;34m\u001b[0m\u001b[0;34m\u001b[0m\u001b[0m\n\u001b[1;32m      5\u001b[0m \u001b[0mra\u001b[0m \u001b[0;34m=\u001b[0m \u001b[0mdata\u001b[0m\u001b[0;34m[\u001b[0m\u001b[0;34m'ra'\u001b[0m\u001b[0;34m]\u001b[0m\u001b[0;34m\u001b[0m\u001b[0m\n",
      "\u001b[0;32m/soft/anaconda/lib/python2.7/site-packages/astropy/io/ascii/ui.py\u001b[0m in \u001b[0;36mread\u001b[0;34m(table, guess, **kwargs)\u001b[0m\n\u001b[1;32m    309\u001b[0m         \u001b[0;31m# through below to the non-guess way so that any problems result in a\u001b[0m\u001b[0;34m\u001b[0m\u001b[0;34m\u001b[0m\u001b[0m\n\u001b[1;32m    310\u001b[0m         \u001b[0;31m# more useful traceback.\u001b[0m\u001b[0;34m\u001b[0m\u001b[0;34m\u001b[0m\u001b[0m\n\u001b[0;32m--> 311\u001b[0;31m         \u001b[0mdat\u001b[0m \u001b[0;34m=\u001b[0m \u001b[0m_guess\u001b[0m\u001b[0;34m(\u001b[0m\u001b[0mtable\u001b[0m\u001b[0;34m,\u001b[0m \u001b[0mnew_kwargs\u001b[0m\u001b[0;34m,\u001b[0m \u001b[0mformat\u001b[0m\u001b[0;34m,\u001b[0m \u001b[0mfast_reader_param\u001b[0m\u001b[0;34m)\u001b[0m\u001b[0;34m\u001b[0m\u001b[0m\n\u001b[0m\u001b[1;32m    312\u001b[0m         \u001b[0;32mif\u001b[0m \u001b[0mdat\u001b[0m \u001b[0;32mis\u001b[0m \u001b[0mNone\u001b[0m\u001b[0;34m:\u001b[0m\u001b[0;34m\u001b[0m\u001b[0m\n\u001b[1;32m    313\u001b[0m             \u001b[0mguess\u001b[0m \u001b[0;34m=\u001b[0m \u001b[0mFalse\u001b[0m\u001b[0;34m\u001b[0m\u001b[0m\n",
      "\u001b[0;32m/soft/anaconda/lib/python2.7/site-packages/astropy/io/ascii/ui.py\u001b[0m in \u001b[0;36m_guess\u001b[0;34m(table, read_kwargs, format, fast_reader)\u001b[0m\n\u001b[1;32m    447\u001b[0m             \u001b[0mreader\u001b[0m \u001b[0;34m=\u001b[0m \u001b[0mget_reader\u001b[0m\u001b[0;34m(\u001b[0m\u001b[0;34m**\u001b[0m\u001b[0mguess_kwargs\u001b[0m\u001b[0;34m)\u001b[0m\u001b[0;34m\u001b[0m\u001b[0m\n\u001b[1;32m    448\u001b[0m             \u001b[0mreader\u001b[0m\u001b[0;34m.\u001b[0m\u001b[0mguessing\u001b[0m \u001b[0;34m=\u001b[0m \u001b[0mTrue\u001b[0m\u001b[0;34m\u001b[0m\u001b[0m\n\u001b[0;32m--> 449\u001b[0;31m             \u001b[0mdat\u001b[0m \u001b[0;34m=\u001b[0m \u001b[0mreader\u001b[0m\u001b[0;34m.\u001b[0m\u001b[0mread\u001b[0m\u001b[0;34m(\u001b[0m\u001b[0mtable\u001b[0m\u001b[0;34m)\u001b[0m\u001b[0;34m\u001b[0m\u001b[0m\n\u001b[0m\u001b[1;32m    450\u001b[0m             _read_trace.append({'kwargs': guess_kwargs, 'status': 'Success (guessing)',\n\u001b[1;32m    451\u001b[0m                                 'dt': '{0:.3f} ms'.format((time.time() - t0) * 1000)})\n",
      "\u001b[0;32m/soft/anaconda/lib/python2.7/site-packages/astropy/io/ascii/core.py\u001b[0m in \u001b[0;36mread\u001b[0;34m(self, table)\u001b[0m\n\u001b[1;32m   1128\u001b[0m \u001b[0;34m\u001b[0m\u001b[0m\n\u001b[1;32m   1129\u001b[0m         \u001b[0;31m# Get a list of the lines (rows) in the table\u001b[0m\u001b[0;34m\u001b[0m\u001b[0;34m\u001b[0m\u001b[0m\n\u001b[0;32m-> 1130\u001b[0;31m         \u001b[0mself\u001b[0m\u001b[0;34m.\u001b[0m\u001b[0mlines\u001b[0m \u001b[0;34m=\u001b[0m \u001b[0mself\u001b[0m\u001b[0;34m.\u001b[0m\u001b[0minputter\u001b[0m\u001b[0;34m.\u001b[0m\u001b[0mget_lines\u001b[0m\u001b[0;34m(\u001b[0m\u001b[0mtable\u001b[0m\u001b[0;34m)\u001b[0m\u001b[0;34m\u001b[0m\u001b[0m\n\u001b[0m\u001b[1;32m   1131\u001b[0m \u001b[0;34m\u001b[0m\u001b[0m\n\u001b[1;32m   1132\u001b[0m         \u001b[0;31m# Set self.data.data_lines to a slice of lines contain the data rows\u001b[0m\u001b[0;34m\u001b[0m\u001b[0;34m\u001b[0m\u001b[0m\n",
      "\u001b[0;32m/soft/anaconda/lib/python2.7/site-packages/astropy/io/ascii/core.py\u001b[0m in \u001b[0;36mget_lines\u001b[0;34m(self, table)\u001b[0m\n\u001b[1;32m    278\u001b[0m             if (hasattr(table, 'read') or\n\u001b[1;32m    279\u001b[0m                     ('\\n' not in table + '' and '\\r' not in table + '')):\n\u001b[0;32m--> 280\u001b[0;31m                 \u001b[0;32mwith\u001b[0m \u001b[0mget_readable_fileobj\u001b[0m\u001b[0;34m(\u001b[0m\u001b[0mtable\u001b[0m\u001b[0;34m)\u001b[0m \u001b[0;32mas\u001b[0m \u001b[0mfile_obj\u001b[0m\u001b[0;34m:\u001b[0m\u001b[0;34m\u001b[0m\u001b[0m\n\u001b[0m\u001b[1;32m    281\u001b[0m                     \u001b[0mtable\u001b[0m \u001b[0;34m=\u001b[0m \u001b[0mfile_obj\u001b[0m\u001b[0;34m.\u001b[0m\u001b[0mread\u001b[0m\u001b[0;34m(\u001b[0m\u001b[0;34m)\u001b[0m\u001b[0;34m\u001b[0m\u001b[0m\n\u001b[1;32m    282\u001b[0m             \u001b[0mlines\u001b[0m \u001b[0;34m=\u001b[0m \u001b[0mtable\u001b[0m\u001b[0;34m.\u001b[0m\u001b[0msplitlines\u001b[0m\u001b[0;34m(\u001b[0m\u001b[0;34m)\u001b[0m\u001b[0;34m\u001b[0m\u001b[0m\n",
      "\u001b[0;32m/soft/anaconda/lib/python2.7/contextlib.pyc\u001b[0m in \u001b[0;36m__enter__\u001b[0;34m(self)\u001b[0m\n\u001b[1;32m     15\u001b[0m     \u001b[0;32mdef\u001b[0m \u001b[0m__enter__\u001b[0m\u001b[0;34m(\u001b[0m\u001b[0mself\u001b[0m\u001b[0;34m)\u001b[0m\u001b[0;34m:\u001b[0m\u001b[0;34m\u001b[0m\u001b[0m\n\u001b[1;32m     16\u001b[0m         \u001b[0;32mtry\u001b[0m\u001b[0;34m:\u001b[0m\u001b[0;34m\u001b[0m\u001b[0m\n\u001b[0;32m---> 17\u001b[0;31m             \u001b[0;32mreturn\u001b[0m \u001b[0mself\u001b[0m\u001b[0;34m.\u001b[0m\u001b[0mgen\u001b[0m\u001b[0;34m.\u001b[0m\u001b[0mnext\u001b[0m\u001b[0;34m(\u001b[0m\u001b[0;34m)\u001b[0m\u001b[0;34m\u001b[0m\u001b[0m\n\u001b[0m\u001b[1;32m     18\u001b[0m         \u001b[0;32mexcept\u001b[0m \u001b[0mStopIteration\u001b[0m\u001b[0;34m:\u001b[0m\u001b[0;34m\u001b[0m\u001b[0m\n\u001b[1;32m     19\u001b[0m             \u001b[0;32mraise\u001b[0m \u001b[0mRuntimeError\u001b[0m\u001b[0;34m(\u001b[0m\u001b[0;34m\"generator didn't yield\"\u001b[0m\u001b[0;34m)\u001b[0m\u001b[0;34m\u001b[0m\u001b[0m\n",
      "\u001b[0;32m/soft/anaconda/lib/python2.7/site-packages/astropy/utils/data.py\u001b[0m in \u001b[0;36mget_readable_fileobj\u001b[0;34m(name_or_obj, encoding, cache, show_progress, remote_timeout)\u001b[0m\n\u001b[1;32m    200\u001b[0m             \u001b[0mfileobj\u001b[0m \u001b[0;34m=\u001b[0m \u001b[0mio\u001b[0m\u001b[0;34m.\u001b[0m\u001b[0mFileIO\u001b[0m\u001b[0;34m(\u001b[0m\u001b[0mname_or_obj\u001b[0m\u001b[0;34m,\u001b[0m \u001b[0;34m'r'\u001b[0m\u001b[0;34m)\u001b[0m\u001b[0;34m\u001b[0m\u001b[0m\n\u001b[1;32m    201\u001b[0m         \u001b[0;32melif\u001b[0m \u001b[0msix\u001b[0m\u001b[0;34m.\u001b[0m\u001b[0mPY2\u001b[0m\u001b[0;34m:\u001b[0m\u001b[0;34m\u001b[0m\u001b[0m\n\u001b[0;32m--> 202\u001b[0;31m             \u001b[0mfileobj\u001b[0m \u001b[0;34m=\u001b[0m \u001b[0mopen\u001b[0m\u001b[0;34m(\u001b[0m\u001b[0mname_or_obj\u001b[0m\u001b[0;34m,\u001b[0m \u001b[0;34m'rb'\u001b[0m\u001b[0;34m)\u001b[0m\u001b[0;34m\u001b[0m\u001b[0m\n\u001b[0m\u001b[1;32m    203\u001b[0m         \u001b[0;32mif\u001b[0m \u001b[0mis_url\u001b[0m \u001b[0;32mand\u001b[0m \u001b[0;32mnot\u001b[0m \u001b[0mcache\u001b[0m\u001b[0;34m:\u001b[0m\u001b[0;34m\u001b[0m\u001b[0m\n\u001b[1;32m    204\u001b[0m             \u001b[0mdelete_fds\u001b[0m\u001b[0;34m.\u001b[0m\u001b[0mappend\u001b[0m\u001b[0;34m(\u001b[0m\u001b[0mfileobj\u001b[0m\u001b[0;34m)\u001b[0m\u001b[0;34m\u001b[0m\u001b[0m\n",
      "\u001b[0;31mIOError\u001b[0m: [Errno 2] No such file or directory: '\\\\Users\\\\Anthony\\\\Dropbox\\\\galaxies\\x1096.tsv'"
     ]
    }
   ],
   "source": [
    "import astropy.io.ascii as ascii\n",
    "data=ascii.read('\\Users\\Anthony\\Dropbox\\galaxies\\2096.tsv')\n",
    "# reads data into a structure\n",
    "# to make an array from a column in the table:\n",
    "ra = data['ra']\n",
    "dec = data['dec']"
   ]
  },
  {
   "cell_type": "code",
   "execution_count": 6,
   "metadata": {
    "collapsed": true
   },
   "outputs": [],
   "source": [
    "import astropy.io.ascii as ascii"
   ]
  },
  {
   "cell_type": "code",
   "execution_count": 7,
   "metadata": {
    "collapsed": false
   },
   "outputs": [],
   "source": [
    "data = ascii.read('/home/asantini/Desktop/Dropbox/galaxies/ngc4651_ObsID-2096.tsv')"
   ]
  },
  {
   "cell_type": "code",
   "execution_count": 8,
   "metadata": {
    "collapsed": false
   },
   "outputs": [
    {
     "name": "stdout",
     "output_type": "stream",
     "text": [
      "        name             ra      dec    ... var_index_b var_index_w\n",
      "-------------------- --------- -------- ... ----------- -----------\n",
      "CXO J124329.7+161348 190.87412 16.23013 ...           0         nan\n",
      "CXO J124332.6+161023  190.8861 16.17316 ...           2         nan\n",
      "CXO J124335.7+161247 190.89894 16.21323 ...           1         nan\n",
      "CXO J124338.8+161728 190.91181 16.29118 ...           0         nan\n",
      "CXO J124341.3+161539  190.9221 16.26092 ...           0         nan\n",
      "CXO J124344.4+161813 190.93536 16.30366 ...           0         nan\n",
      "CXO J124347.4+161908  190.9476 16.31908 ...           6         nan\n",
      "CXO J124353.8+162454 190.97434 16.41525 ...           0         nan\n",
      "CXO J124356.1+162152 190.98375 16.36455 ...           0         nan\n",
      "CXO J124356.6+162128 190.98617 16.35793 ...           1         nan\n",
      "CXO J124356.7+162055  190.9866 16.34882 ...           0         nan\n",
      "CXO J124357.3+162301 190.98913 16.38385 ...           0         nan\n",
      "CXO J124357.6+162253 190.99021 16.38154 ...           0         nan\n",
      "CXO J124358.6+162651 190.99454 16.44774 ...           0         nan\n",
      "CXO J124400.2+162444 191.00123 16.41234 ...           2         nan\n",
      "CXO J124402.8+162142 191.01165 16.36183 ...           1         nan\n",
      "CXO J124408.0+162443 191.03353 16.41205 ...           0         nan\n",
      "CXO J124409.5+162534 191.03972 16.42621 ...           6         nan\n",
      "CXO J124410.8+162744 191.04539 16.46246 ...           0         nan\n",
      "CXO J124413.2+162503 191.05523 16.41755 ...           6         nan\n"
     ]
    }
   ],
   "source": [
    "print data"
   ]
  },
  {
   "cell_type": "code",
   "execution_count": 9,
   "metadata": {
    "collapsed": false
   },
   "outputs": [],
   "source": [
    "# to make an array from a column in the table:\n",
    "ra = data['ra']\n",
    "dec = data['dec']"
   ]
  },
  {
   "cell_type": "code",
   "execution_count": 10,
   "metadata": {
    "collapsed": false
   },
   "outputs": [
    {
     "name": "stdout",
     "output_type": "stream",
     "text": [
      "    ra   \n",
      "---------\n",
      "190.87412\n",
      " 190.8861\n",
      "190.89894\n",
      "190.91181\n",
      " 190.9221\n",
      "190.93536\n",
      " 190.9476\n",
      "190.97434\n",
      "190.98375\n",
      "190.98617\n",
      " 190.9866\n",
      "190.98913\n",
      "190.99021\n",
      "190.99454\n",
      "191.00123\n",
      "191.01165\n",
      "191.03353\n",
      "191.03972\n",
      "191.04539\n",
      "191.05523\n"
     ]
    }
   ],
   "source": [
    "print ra"
   ]
  },
  {
   "cell_type": "code",
   "execution_count": 11,
   "metadata": {
    "collapsed": true
   },
   "outputs": [],
   "source": [
    "ra_NGC4651=190.9275\n",
    "dec_NGC4651=16.39338888888889"
   ]
  },
  {
   "cell_type": "code",
   "execution_count": 12,
   "metadata": {
    "collapsed": false
   },
   "outputs": [],
   "source": [
    "def dis_GC(raGC,decGC,Data):\n",
    "    \"\"\"\n",
    "    raGC: float- the ra of the galatic center\n",
    "    decGC: float the dec of the galatic center\n",
    "    raA, array- A array of the ra's of the objects that you want to know the distances from the GC\n",
    "    decGC array- A array of the dec's of the objects that you want to know the distacnes from the GC\n",
    "    returns: array- the distances of each object away from the center of the galaxy\n",
    "    \n",
    "    This fucntion takes the inputs for the ra of the GC, the Dec of the GC, the ra's of an array of objects and the\n",
    "    declinations of an array of objects and returns an array that is those objects distances from the center of the\n",
    "    galaxy\n",
    "    \"\"\"\n",
    "    import math\n",
    "    decA=Data['dec']\n",
    "    raA=Data['ra']\n",
    "    disA=[math.sqrt(((decGC-dec)**2)+((raGC-ra)**2)) for dec in decA and ra in raA]\n",
    "    return disA"
   ]
  },
  {
   "cell_type": "code",
   "execution_count": 13,
   "metadata": {
    "collapsed": false
   },
   "outputs": [
    {
     "name": "stdout",
     "output_type": "stream",
     "text": [
      "        name             ra      dec    ... var_index_b var_index_w\n",
      "-------------------- --------- -------- ... ----------- -----------\n",
      "CXO J124329.7+161348 190.87412 16.23013 ...           0         nan\n",
      "CXO J124332.6+161023  190.8861 16.17316 ...           2         nan\n",
      "CXO J124335.7+161247 190.89894 16.21323 ...           1         nan\n",
      "CXO J124338.8+161728 190.91181 16.29118 ...           0         nan\n",
      "CXO J124341.3+161539  190.9221 16.26092 ...           0         nan\n",
      "CXO J124344.4+161813 190.93536 16.30366 ...           0         nan\n",
      "CXO J124347.4+161908  190.9476 16.31908 ...           6         nan\n",
      "CXO J124353.8+162454 190.97434 16.41525 ...           0         nan\n",
      "CXO J124356.1+162152 190.98375 16.36455 ...           0         nan\n",
      "CXO J124356.6+162128 190.98617 16.35793 ...           1         nan\n",
      "CXO J124356.7+162055  190.9866 16.34882 ...           0         nan\n",
      "CXO J124357.3+162301 190.98913 16.38385 ...           0         nan\n",
      "CXO J124357.6+162253 190.99021 16.38154 ...           0         nan\n",
      "CXO J124358.6+162651 190.99454 16.44774 ...           0         nan\n",
      "CXO J124400.2+162444 191.00123 16.41234 ...           2         nan\n",
      "CXO J124402.8+162142 191.01165 16.36183 ...           1         nan\n",
      "CXO J124408.0+162443 191.03353 16.41205 ...           0         nan\n",
      "CXO J124409.5+162534 191.03972 16.42621 ...           6         nan\n",
      "CXO J124410.8+162744 191.04539 16.46246 ...           0         nan\n",
      "CXO J124413.2+162503 191.05523 16.41755 ...           6         nan\n"
     ]
    }
   ],
   "source": [
    "print data"
   ]
  },
  {
   "cell_type": "code",
   "execution_count": 14,
   "metadata": {
    "collapsed": false
   },
   "outputs": [],
   "source": [
    "data = ascii.read('/home/asantini/Desktop/Dropbox/galaxies/ngc4651_ObsID-2096.tsv')"
   ]
  },
  {
   "cell_type": "code",
   "execution_count": 15,
   "metadata": {
    "collapsed": true
   },
   "outputs": [],
   "source": [
    "import astropy.io.ascii as ascii"
   ]
  },
  {
   "cell_type": "code",
   "execution_count": 16,
   "metadata": {
    "collapsed": true
   },
   "outputs": [],
   "source": [
    "data = ascii.read('/home/asantini/Desktop/Dropbox/galaxies/ngc4651_ObsID-2096.tsv')"
   ]
  },
  {
   "cell_type": "code",
   "execution_count": 17,
   "metadata": {
    "collapsed": false
   },
   "outputs": [
    {
     "name": "stdout",
     "output_type": "stream",
     "text": [
      "        name             ra      dec    ... var_index_b var_index_w\n",
      "-------------------- --------- -------- ... ----------- -----------\n",
      "CXO J124329.7+161348 190.87412 16.23013 ...           0         nan\n",
      "CXO J124332.6+161023  190.8861 16.17316 ...           2         nan\n",
      "CXO J124335.7+161247 190.89894 16.21323 ...           1         nan\n",
      "CXO J124338.8+161728 190.91181 16.29118 ...           0         nan\n",
      "CXO J124341.3+161539  190.9221 16.26092 ...           0         nan\n",
      "CXO J124344.4+161813 190.93536 16.30366 ...           0         nan\n",
      "CXO J124347.4+161908  190.9476 16.31908 ...           6         nan\n",
      "CXO J124353.8+162454 190.97434 16.41525 ...           0         nan\n",
      "CXO J124356.1+162152 190.98375 16.36455 ...           0         nan\n",
      "CXO J124356.6+162128 190.98617 16.35793 ...           1         nan\n",
      "CXO J124356.7+162055  190.9866 16.34882 ...           0         nan\n",
      "CXO J124357.3+162301 190.98913 16.38385 ...           0         nan\n",
      "CXO J124357.6+162253 190.99021 16.38154 ...           0         nan\n",
      "CXO J124358.6+162651 190.99454 16.44774 ...           0         nan\n",
      "CXO J124400.2+162444 191.00123 16.41234 ...           2         nan\n",
      "CXO J124402.8+162142 191.01165 16.36183 ...           1         nan\n",
      "CXO J124408.0+162443 191.03353 16.41205 ...           0         nan\n",
      "CXO J124409.5+162534 191.03972 16.42621 ...           6         nan\n",
      "CXO J124410.8+162744 191.04539 16.46246 ...           0         nan\n",
      "CXO J124413.2+162503 191.05523 16.41755 ...           6         nan\n"
     ]
    }
   ],
   "source": [
    "print data"
   ]
  },
  {
   "cell_type": "code",
   "execution_count": 18,
   "metadata": {
    "collapsed": false
   },
   "outputs": [
    {
     "ename": "ValueError",
     "evalue": "The truth value of an array with more than one element is ambiguous. Use a.any() or a.all()",
     "output_type": "error",
     "traceback": [
      "\u001b[0;31m---------------------------------------------------------------------------\u001b[0m",
      "\u001b[0;31mValueError\u001b[0m                                Traceback (most recent call last)",
      "\u001b[0;32m<ipython-input-18-1cb97e6ea733>\u001b[0m in \u001b[0;36m<module>\u001b[0;34m()\u001b[0m\n\u001b[0;32m----> 1\u001b[0;31m \u001b[0;32mprint\u001b[0m \u001b[0mdis_GC\u001b[0m\u001b[0;34m(\u001b[0m\u001b[0mra_NGC4651\u001b[0m\u001b[0;34m,\u001b[0m\u001b[0mdec_NGC4651\u001b[0m\u001b[0;34m,\u001b[0m\u001b[0mdata\u001b[0m\u001b[0;34m)\u001b[0m\u001b[0;34m\u001b[0m\u001b[0m\n\u001b[0m",
      "\u001b[0;32m<ipython-input-12-f6fb3328f270>\u001b[0m in \u001b[0;36mdis_GC\u001b[0;34m(raGC, decGC, Data)\u001b[0m\n\u001b[1;32m     14\u001b[0m     \u001b[0mdecA\u001b[0m\u001b[0;34m=\u001b[0m\u001b[0mData\u001b[0m\u001b[0;34m[\u001b[0m\u001b[0;34m'dec'\u001b[0m\u001b[0;34m]\u001b[0m\u001b[0;34m\u001b[0m\u001b[0m\n\u001b[1;32m     15\u001b[0m     \u001b[0mraA\u001b[0m\u001b[0;34m=\u001b[0m\u001b[0mData\u001b[0m\u001b[0;34m[\u001b[0m\u001b[0;34m'ra'\u001b[0m\u001b[0;34m]\u001b[0m\u001b[0;34m\u001b[0m\u001b[0m\n\u001b[0;32m---> 16\u001b[0;31m     \u001b[0mdisA\u001b[0m\u001b[0;34m=\u001b[0m\u001b[0;34m[\u001b[0m\u001b[0mmath\u001b[0m\u001b[0;34m.\u001b[0m\u001b[0msqrt\u001b[0m\u001b[0;34m(\u001b[0m\u001b[0;34m(\u001b[0m\u001b[0;34m(\u001b[0m\u001b[0mdecGC\u001b[0m\u001b[0;34m-\u001b[0m\u001b[0mdec\u001b[0m\u001b[0;34m)\u001b[0m\u001b[0;34m**\u001b[0m\u001b[0;36m2\u001b[0m\u001b[0;34m)\u001b[0m\u001b[0;34m+\u001b[0m\u001b[0;34m(\u001b[0m\u001b[0;34m(\u001b[0m\u001b[0mraGC\u001b[0m\u001b[0;34m-\u001b[0m\u001b[0mra\u001b[0m\u001b[0;34m)\u001b[0m\u001b[0;34m**\u001b[0m\u001b[0;36m2\u001b[0m\u001b[0;34m)\u001b[0m\u001b[0;34m)\u001b[0m \u001b[0;32mfor\u001b[0m \u001b[0mdec\u001b[0m \u001b[0;32min\u001b[0m \u001b[0mdecA\u001b[0m \u001b[0;32mand\u001b[0m \u001b[0mra\u001b[0m \u001b[0;32min\u001b[0m \u001b[0mraA\u001b[0m\u001b[0;34m]\u001b[0m\u001b[0;34m\u001b[0m\u001b[0m\n\u001b[0m\u001b[1;32m     17\u001b[0m     \u001b[0;32mreturn\u001b[0m \u001b[0mdisA\u001b[0m\u001b[0;34m\u001b[0m\u001b[0m\n",
      "\u001b[0;31mValueError\u001b[0m: The truth value of an array with more than one element is ambiguous. Use a.any() or a.all()"
     ]
    }
   ],
   "source": [
    "print dis_GC(ra_NGC4651,dec_NGC4651,data)"
   ]
  },
  {
   "cell_type": "code",
   "execution_count": null,
   "metadata": {
    "collapsed": false
   },
   "outputs": [],
   "source": [
    "def dis_GC(raGC,decGC,Data):\n",
    "    \"\"\"\n",
    "    raGC: float- the ra of the galatic center\n",
    "    decGC: float the dec of the galatic center\n",
    "    raA, array- A array of the ra's of the objects that you want to know the distances from the GC\n",
    "    decGC array- A array of the dec's of the objects that you want to know the distacnes from the GC\n",
    "    returns: array- the distances of each object away from the center of the galaxy\n",
    "    \n",
    "    This fucntion takes the inputs for the ra of the GC, the Dec of the GC, the ra's of an array of objects and the\n",
    "    declinations of an array of objects and returns an array that is those objects distances from the center of the\n",
    "    galaxy\n",
    "    \"\"\"\n",
    "    import math\n",
    "    decA=Data['dec']\n",
    "    raA=Data['ra']\n",
    "    disA=[math.sqrt(((decGC-dec)**2)+((raGC-ra)**2)) for ra in raA]\n",
    "    return disA"
   ]
  },
  {
   "cell_type": "code",
   "execution_count": null,
   "metadata": {
    "collapsed": false
   },
   "outputs": [],
   "source": [
    "print dis_GC(ra_NGC4651,dec_NGC4651,data)"
   ]
  },
  {
   "cell_type": "code",
   "execution_count": null,
   "metadata": {
    "collapsed": false
   },
   "outputs": [],
   "source": [
    "def dis_GC(raGC,decGC,Data):\n",
    "    \"\"\"\n",
    "    raGC: float- the ra of the galatic center\n",
    "    decGC: float the dec of the galatic center\n",
    "    raA, array- A array of the ra's of the objects that you want to know the distances from the GC\n",
    "    decGC array- A array of the dec's of the objects that you want to know the distacnes from the GC\n",
    "    returns: array- the distances of each object away from the center of the galaxy\n",
    "    \n",
    "    This fucntion takes the inputs for the ra of the GC, the Dec of the GC, the ra's of an array of objects and the\n",
    "    declinations of an array of objects and returns an array that is those objects distances from the center of the\n",
    "    galaxy\n",
    "    \"\"\"\n",
    "    import math\n",
    "    decA=Data['dec']\n",
    "    raA=Data['ra']\n",
    "    disA=[math.sqrt(((decGC-dec)**2)+((raGC-ra)**2)) for ra in raA]\n",
    "    return disA"
   ]
  },
  {
   "cell_type": "code",
   "execution_count": null,
   "metadata": {
    "collapsed": true
   },
   "outputs": [],
   "source": [
    "import numpy as np"
   ]
  },
  {
   "cell_type": "code",
   "execution_count": null,
   "metadata": {
    "collapsed": false
   },
   "outputs": [],
   "source": [
    "print data['dec','ra']"
   ]
  },
  {
   "cell_type": "code",
   "execution_count": null,
   "metadata": {
    "collapsed": false
   },
   "outputs": [],
   "source": [
    "print data['dec']"
   ]
  },
  {
   "cell_type": "code",
   "execution_count": null,
   "metadata": {
    "collapsed": false
   },
   "outputs": [],
   "source": [
    "def dis_GC(raGC,decGC,Data):\n",
    "    \"\"\"\n",
    "    raGC: float- the ra of the galatic center\n",
    "    decGC: float the dec of the galatic center\n",
    "    raA, array- A array of the ra's of the objects that you want to know the distances from the GC\n",
    "    decGC array- A array of the dec's of the objects that you want to know the distacnes from the GC\n",
    "    returns: array- the distances of each object away from the center of the galaxy\n",
    "    \n",
    "    This fucntion takes the inputs for the ra of the GC, the Dec of the GC, the ra's of an array of objects and the\n",
    "    declinations of an array of objects and returns an array that is those objects distances from the center of the\n",
    "    galaxy\n",
    "    \"\"\"\n",
    "    import math\n",
    "    decA=Data['dec']\n",
    "    raA=Data['ra']\n",
    "    disA=[math.sqrt(((decGC-dec)**2)+((raGC-ra)**2)) for dec,ra in zip(decA,raA)]\n",
    "    return disA"
   ]
  },
  {
   "cell_type": "code",
   "execution_count": 19,
   "metadata": {
    "collapsed": false
   },
   "outputs": [
    {
     "ename": "ValueError",
     "evalue": "The truth value of an array with more than one element is ambiguous. Use a.any() or a.all()",
     "output_type": "error",
     "traceback": [
      "\u001b[0;31m---------------------------------------------------------------------------\u001b[0m",
      "\u001b[0;31mValueError\u001b[0m                                Traceback (most recent call last)",
      "\u001b[0;32m<ipython-input-19-1cb97e6ea733>\u001b[0m in \u001b[0;36m<module>\u001b[0;34m()\u001b[0m\n\u001b[0;32m----> 1\u001b[0;31m \u001b[0;32mprint\u001b[0m \u001b[0mdis_GC\u001b[0m\u001b[0;34m(\u001b[0m\u001b[0mra_NGC4651\u001b[0m\u001b[0;34m,\u001b[0m\u001b[0mdec_NGC4651\u001b[0m\u001b[0;34m,\u001b[0m\u001b[0mdata\u001b[0m\u001b[0;34m)\u001b[0m\u001b[0;34m\u001b[0m\u001b[0m\n\u001b[0m",
      "\u001b[0;32m<ipython-input-12-f6fb3328f270>\u001b[0m in \u001b[0;36mdis_GC\u001b[0;34m(raGC, decGC, Data)\u001b[0m\n\u001b[1;32m     14\u001b[0m     \u001b[0mdecA\u001b[0m\u001b[0;34m=\u001b[0m\u001b[0mData\u001b[0m\u001b[0;34m[\u001b[0m\u001b[0;34m'dec'\u001b[0m\u001b[0;34m]\u001b[0m\u001b[0;34m\u001b[0m\u001b[0m\n\u001b[1;32m     15\u001b[0m     \u001b[0mraA\u001b[0m\u001b[0;34m=\u001b[0m\u001b[0mData\u001b[0m\u001b[0;34m[\u001b[0m\u001b[0;34m'ra'\u001b[0m\u001b[0;34m]\u001b[0m\u001b[0;34m\u001b[0m\u001b[0m\n\u001b[0;32m---> 16\u001b[0;31m     \u001b[0mdisA\u001b[0m\u001b[0;34m=\u001b[0m\u001b[0;34m[\u001b[0m\u001b[0mmath\u001b[0m\u001b[0;34m.\u001b[0m\u001b[0msqrt\u001b[0m\u001b[0;34m(\u001b[0m\u001b[0;34m(\u001b[0m\u001b[0;34m(\u001b[0m\u001b[0mdecGC\u001b[0m\u001b[0;34m-\u001b[0m\u001b[0mdec\u001b[0m\u001b[0;34m)\u001b[0m\u001b[0;34m**\u001b[0m\u001b[0;36m2\u001b[0m\u001b[0;34m)\u001b[0m\u001b[0;34m+\u001b[0m\u001b[0;34m(\u001b[0m\u001b[0;34m(\u001b[0m\u001b[0mraGC\u001b[0m\u001b[0;34m-\u001b[0m\u001b[0mra\u001b[0m\u001b[0;34m)\u001b[0m\u001b[0;34m**\u001b[0m\u001b[0;36m2\u001b[0m\u001b[0;34m)\u001b[0m\u001b[0;34m)\u001b[0m \u001b[0;32mfor\u001b[0m \u001b[0mdec\u001b[0m \u001b[0;32min\u001b[0m \u001b[0mdecA\u001b[0m \u001b[0;32mand\u001b[0m \u001b[0mra\u001b[0m \u001b[0;32min\u001b[0m \u001b[0mraA\u001b[0m\u001b[0;34m]\u001b[0m\u001b[0;34m\u001b[0m\u001b[0m\n\u001b[0m\u001b[1;32m     17\u001b[0m     \u001b[0;32mreturn\u001b[0m \u001b[0mdisA\u001b[0m\u001b[0;34m\u001b[0m\u001b[0m\n",
      "\u001b[0;31mValueError\u001b[0m: The truth value of an array with more than one element is ambiguous. Use a.any() or a.all()"
     ]
    }
   ],
   "source": [
    "print dis_GC(ra_NGC4651,dec_NGC4651,data)"
   ]
  },
  {
   "cell_type": "code",
   "execution_count": 20,
   "metadata": {
    "collapsed": false
   },
   "outputs": [
    {
     "ename": "NameError",
     "evalue": "name 'decA' is not defined",
     "output_type": "error",
     "traceback": [
      "\u001b[0;31m---------------------------------------------------------------------------\u001b[0m",
      "\u001b[0;31mNameError\u001b[0m                                 Traceback (most recent call last)",
      "\u001b[0;32m<ipython-input-20-163f4a948157>\u001b[0m in \u001b[0;36m<module>\u001b[0;34m()\u001b[0m\n\u001b[0;32m----> 1\u001b[0;31m \u001b[0;32mprint\u001b[0m \u001b[0mdecA\u001b[0m\u001b[0;34m\u001b[0m\u001b[0m\n\u001b[0m",
      "\u001b[0;31mNameError\u001b[0m: name 'decA' is not defined"
     ]
    }
   ],
   "source": [
    "print decA"
   ]
  },
  {
   "cell_type": "code",
   "execution_count": 21,
   "metadata": {
    "collapsed": true
   },
   "outputs": [],
   "source": [
    "def dis_GC(raGC,decGC,Data):\n",
    "    \"\"\"\n",
    "    raGC: float- the ra of the galatic center\n",
    "    decGC: float the dec of the galatic center\n",
    "    raA, array- A array of the ra's of the objects that you want to know the distances from the GC\n",
    "    decGC array- A array of the dec's of the objects that you want to know the distacnes from the GC\n",
    "    returns: array- the distances of each object away from the center of the galaxy\n",
    "    \n",
    "    This fucntion takes the inputs for the ra of the GC, the Dec of the GC, the ra's of an array of objects and the\n",
    "    declinations of an array of objects and returns an array that is those objects distances from the center of the\n",
    "    galaxy\n",
    "    \"\"\"\n",
    "    import math\n",
    "    decA=Data['dec']\n",
    "    raA=Data['ra']\n",
    "    disA=[math.sqrt(((decGC-dec)**2)+((raGC-ra)**2)) for dec,ra in zip(decA,raA)]\n",
    "    print zip(decA,raA)"
   ]
  },
  {
   "cell_type": "code",
   "execution_count": 22,
   "metadata": {
    "collapsed": false
   },
   "outputs": [
    {
     "name": "stdout",
     "output_type": "stream",
     "text": [
      "[(16.230129999999999, 190.87412), (16.173159999999999, 190.8861), (16.213229999999999, 190.89894000000001), (16.291180000000001, 190.91181), (16.260919999999999, 190.9221), (16.303660000000001, 190.93536), (16.31908, 190.94759999999999), (16.41525, 190.97434000000001), (16.364550000000001, 190.98374999999999), (16.35793, 190.98616999999999), (16.34882, 190.98660000000001), (16.383849999999999, 190.98912999999999), (16.381540000000001, 190.99020999999999), (16.44774, 190.99454), (16.41234, 191.00122999999999), (16.361830000000001, 191.01165), (16.412050000000001, 191.03353000000001), (16.426210000000001, 191.03971999999999), (16.46246, 191.04539), (16.417549999999999, 191.05522999999999)]\n",
      "None\n"
     ]
    }
   ],
   "source": [
    "print dis_GC(ra_NGC4651,dec_NGC4651,data)"
   ]
  },
  {
   "cell_type": "code",
   "execution_count": 23,
   "metadata": {
    "collapsed": true
   },
   "outputs": [],
   "source": [
    "def dis_GC(raGC,decGC,Data):\n",
    "    \"\"\"\n",
    "    raGC: float- the ra of the galatic center\n",
    "    decGC: float the dec of the galatic center\n",
    "    raA, array- A array of the ra's of the objects that you want to know the distances from the GC\n",
    "    decGC array- A array of the dec's of the objects that you want to know the distacnes from the GC\n",
    "    returns: array- the distances of each object away from the center of the galaxy\n",
    "    \n",
    "    This fucntion takes the inputs for the ra of the GC, the Dec of the GC, the ra's of an array of objects and the\n",
    "    declinations of an array of objects and returns an array that is those objects distances from the center of the\n",
    "    galaxy\n",
    "    \"\"\"\n",
    "    import math\n",
    "    decA=Data['dec']\n",
    "    raA=Data['ra']\n",
    "    disA=[math.sqrt(((decGC-dec)**2)+((raGC-ra)**2)) for dec,ra in zip(decA,raA)]\n",
    "    np.histogram(disA)\n",
    "    np.plot()"
   ]
  },
  {
   "cell_type": "code",
   "execution_count": 24,
   "metadata": {
    "collapsed": false
   },
   "outputs": [
    {
     "ename": "NameError",
     "evalue": "global name 'np' is not defined",
     "output_type": "error",
     "traceback": [
      "\u001b[0;31m---------------------------------------------------------------------------\u001b[0m",
      "\u001b[0;31mNameError\u001b[0m                                 Traceback (most recent call last)",
      "\u001b[0;32m<ipython-input-24-1cb97e6ea733>\u001b[0m in \u001b[0;36m<module>\u001b[0;34m()\u001b[0m\n\u001b[0;32m----> 1\u001b[0;31m \u001b[0;32mprint\u001b[0m \u001b[0mdis_GC\u001b[0m\u001b[0;34m(\u001b[0m\u001b[0mra_NGC4651\u001b[0m\u001b[0;34m,\u001b[0m\u001b[0mdec_NGC4651\u001b[0m\u001b[0;34m,\u001b[0m\u001b[0mdata\u001b[0m\u001b[0;34m)\u001b[0m\u001b[0;34m\u001b[0m\u001b[0m\n\u001b[0m",
      "\u001b[0;32m<ipython-input-23-d6df07193167>\u001b[0m in \u001b[0;36mdis_GC\u001b[0;34m(raGC, decGC, Data)\u001b[0m\n\u001b[1;32m     15\u001b[0m     \u001b[0mraA\u001b[0m\u001b[0;34m=\u001b[0m\u001b[0mData\u001b[0m\u001b[0;34m[\u001b[0m\u001b[0;34m'ra'\u001b[0m\u001b[0;34m]\u001b[0m\u001b[0;34m\u001b[0m\u001b[0m\n\u001b[1;32m     16\u001b[0m     \u001b[0mdisA\u001b[0m\u001b[0;34m=\u001b[0m\u001b[0;34m[\u001b[0m\u001b[0mmath\u001b[0m\u001b[0;34m.\u001b[0m\u001b[0msqrt\u001b[0m\u001b[0;34m(\u001b[0m\u001b[0;34m(\u001b[0m\u001b[0;34m(\u001b[0m\u001b[0mdecGC\u001b[0m\u001b[0;34m-\u001b[0m\u001b[0mdec\u001b[0m\u001b[0;34m)\u001b[0m\u001b[0;34m**\u001b[0m\u001b[0;36m2\u001b[0m\u001b[0;34m)\u001b[0m\u001b[0;34m+\u001b[0m\u001b[0;34m(\u001b[0m\u001b[0;34m(\u001b[0m\u001b[0mraGC\u001b[0m\u001b[0;34m-\u001b[0m\u001b[0mra\u001b[0m\u001b[0;34m)\u001b[0m\u001b[0;34m**\u001b[0m\u001b[0;36m2\u001b[0m\u001b[0;34m)\u001b[0m\u001b[0;34m)\u001b[0m \u001b[0;32mfor\u001b[0m \u001b[0mdec\u001b[0m\u001b[0;34m,\u001b[0m\u001b[0mra\u001b[0m \u001b[0;32min\u001b[0m \u001b[0mzip\u001b[0m\u001b[0;34m(\u001b[0m\u001b[0mdecA\u001b[0m\u001b[0;34m,\u001b[0m\u001b[0mraA\u001b[0m\u001b[0;34m)\u001b[0m\u001b[0;34m]\u001b[0m\u001b[0;34m\u001b[0m\u001b[0m\n\u001b[0;32m---> 17\u001b[0;31m     \u001b[0mnp\u001b[0m\u001b[0;34m.\u001b[0m\u001b[0mhistogram\u001b[0m\u001b[0;34m(\u001b[0m\u001b[0mdisA\u001b[0m\u001b[0;34m)\u001b[0m\u001b[0;34m\u001b[0m\u001b[0m\n\u001b[0m\u001b[1;32m     18\u001b[0m     \u001b[0mnp\u001b[0m\u001b[0;34m.\u001b[0m\u001b[0mplot\u001b[0m\u001b[0;34m(\u001b[0m\u001b[0;34m)\u001b[0m\u001b[0;34m\u001b[0m\u001b[0m\n",
      "\u001b[0;31mNameError\u001b[0m: global name 'np' is not defined"
     ]
    }
   ],
   "source": [
    "print dis_GC(ra_NGC4651,dec_NGC4651,data)"
   ]
  },
  {
   "cell_type": "code",
   "execution_count": 25,
   "metadata": {
    "collapsed": false
   },
   "outputs": [],
   "source": [
    "import matplotlib.pyplot as plt"
   ]
  },
  {
   "cell_type": "code",
   "execution_count": 26,
   "metadata": {
    "collapsed": true
   },
   "outputs": [],
   "source": [
    "def dis_GC(raGC,decGC,Data):\n",
    "    \"\"\"\n",
    "    raGC: float- the ra of the galatic center\n",
    "    decGC: float the dec of the galatic center\n",
    "    Data: array- a table of data containg the coordinates of each object\n",
    "    returns: array- the distances of each object away from the center of the galaxy\n",
    "    \n",
    "    This fucntion takes the inputs for the ra of the GC, the Dec of the GC, the ra's of an array of objects and the\n",
    "    declinations of an array of objects and returns an array that is those objects distances from the center of the\n",
    "    galaxy\n",
    "    \"\"\"\n",
    "    import math\n",
    "    decA=Data['dec']\n",
    "    raA=Data['ra']\n",
    "    disA=[math.sqrt(((decGC-dec)**2)+((raGC-ra)**2)) for dec,ra in zip(decA,raA)]\n",
    "    plt.hist(disA)\n",
    "    plt.show()"
   ]
  },
  {
   "cell_type": "code",
   "execution_count": 27,
   "metadata": {
    "collapsed": false
   },
   "outputs": [
    {
     "name": "stdout",
     "output_type": "stream",
     "text": [
      "None\n"
     ]
    }
   ],
   "source": [
    "print dis_GC(ra_NGC4651,dec_NGC4651,data)"
   ]
  },
  {
   "cell_type": "code",
   "execution_count": null,
   "metadata": {
    "collapsed": true
   },
   "outputs": [],
   "source": []
  },
  {
   "cell_type": "code",
   "execution_count": 28,
   "metadata": {
    "collapsed": true
   },
   "outputs": [],
   "source": [
    "data_NGC1316= ascii.read('/home/asantini/Desktop/Dropbox/galaxies/ngc1316_ObsID-2022.tsv')"
   ]
  },
  {
   "cell_type": "code",
   "execution_count": 29,
   "metadata": {
    "collapsed": false
   },
   "outputs": [
    {
     "name": "stdout",
     "output_type": "stream",
     "text": [
      "        name            ra       dec    ... var_index_b var_index_w\n",
      "-------------------- -------- --------- ... ----------- -----------\n",
      "CXO J032137.7-371452 50.40735  -37.2479 ...           0         nan\n",
      "CXO J032145.6-370435 50.44026 -37.07644 ...           0         nan\n",
      "CXO J032147.1-370721 50.44627 -37.12264 ...           0         nan\n",
      "CXO J032200.0-370508 50.50019 -37.08582 ...           0         nan\n",
      "CXO J032200.9-371916 50.50396 -37.32136 ...           1         nan\n",
      "CXO J032206.6-371909 50.52773 -37.31922 ...           0         nan\n",
      "CXO J032208.8-371023 50.53686 -37.17318 ...           0         nan\n",
      "CXO J032211.1-371747 50.54642 -37.29648 ...           0         nan\n",
      "CXO J032211.2-370953 50.54675 -37.16487 ...           0         nan\n",
      "CXO J032212.6-371212 50.55289  -37.2034 ...           0         nan\n",
      "CXO J032215.4-371655 50.56419 -37.28201 ...           2         nan\n",
      "CXO J032219.5-371337 50.58154 -37.22703 ...           0         nan\n",
      "CXO J032229.6-371510 50.62342 -37.25302 ...           1         nan\n"
     ]
    }
   ],
   "source": [
    "print data_NGC1316"
   ]
  },
  {
   "cell_type": "code",
   "execution_count": 30,
   "metadata": {
    "collapsed": true
   },
   "outputs": [],
   "source": [
    "ra_NGC1316=50.673825"
   ]
  },
  {
   "cell_type": "code",
   "execution_count": 31,
   "metadata": {
    "collapsed": true
   },
   "outputs": [],
   "source": [
    "dec_NGC1316=-37.208227"
   ]
  },
  {
   "cell_type": "code",
   "execution_count": 32,
   "metadata": {
    "collapsed": false
   },
   "outputs": [],
   "source": [
    "dis_GC(ra_NGC1316,dec_NGC1316,data_NGC1316)"
   ]
  },
  {
   "cell_type": "code",
   "execution_count": 33,
   "metadata": {
    "collapsed": true
   },
   "outputs": [],
   "source": [
    "data_NGC474= ascii.read('/home/asantini/Desktop/Dropbox/galaxies/ngc474_ObsID-7144.tsv')"
   ]
  },
  {
   "cell_type": "code",
   "execution_count": 34,
   "metadata": {
    "collapsed": false
   },
   "outputs": [
    {
     "name": "stdout",
     "output_type": "stream",
     "text": [
      "        name            ra      dec   ... var_index_b var_index_w\n",
      "-------------------- -------- ------- ... ----------- -----------\n",
      "CXO J011939.3+033855 19.91374 3.64866 ...           0         nan\n",
      "CXO J011944.6+034206 19.93622  3.7018 ...           0         nan\n",
      "CXO J011947.4+033146 19.94769 3.52957 ...           0         nan\n",
      "CXO J011955.2+033000  19.9803 3.50002 ...           0         nan\n",
      "CXO J011957.8+032231 19.99119 3.37553 ...           1         nan\n",
      "CXO J012000.9+033858 20.00387 3.64963 ...           0         nan\n",
      "CXO J012001.4+032411 20.00619 3.40315 ...           1         nan\n",
      "CXO J012002.3+032452 20.00992 3.41465 ...           0         nan\n",
      "CXO J012002.7+032504 20.01146 3.41791 ...           0         nan\n",
      "CXO J012005.6+031905 20.02367 3.31824 ...           1         nan\n",
      "                 ...      ...     ... ...         ...         ...\n",
      "CXO J012008.7+032056  20.0364 3.34916 ...           0         nan\n",
      "CXO J012019.3+032745 20.08081 3.46259 ...           1         nan\n",
      "CXO J012020.6+032428 20.08591 3.40804 ...           0         nan\n",
      "CXO J012034.3+033322 20.14322 3.55617 ...           0         nan\n",
      "CXO J012042.0+033403 20.17519  3.5676 ...           0         nan\n",
      "CXO J012042.1+032405 20.17567 3.40159 ...           0         nan\n",
      "CXO J012042.4+032728 20.17679 3.45788 ...           0         nan\n",
      "CXO J012044.0+032803 20.18371 3.46774 ...           2         nan\n",
      "CXO J012045.5+032938 20.18987 3.49416 ...           0         nan\n",
      "CXO J012046.1+032621 20.19246 3.43919 ...           2         nan\n",
      "CXO J012050.4+032638 20.21016  3.4439 ...           0         nan\n",
      "Length = 25 rows\n"
     ]
    }
   ],
   "source": [
    "print data_NGC474"
   ]
  },
  {
   "cell_type": "code",
   "execution_count": 35,
   "metadata": {
    "collapsed": true
   },
   "outputs": [],
   "source": [
    "ra_NGC474=20.027878"
   ]
  },
  {
   "cell_type": "code",
   "execution_count": 36,
   "metadata": {
    "collapsed": true
   },
   "outputs": [],
   "source": [
    "dec_NGC474=3.415399"
   ]
  },
  {
   "cell_type": "code",
   "execution_count": 37,
   "metadata": {
    "collapsed": false
   },
   "outputs": [],
   "source": [
    "dis_GC(ra_NGC474,dec_NGC474,data_NGC474)"
   ]
  },
  {
   "cell_type": "code",
   "execution_count": 38,
   "metadata": {
    "collapsed": true
   },
   "outputs": [],
   "source": [
    "data_NGC3077= ascii.read('/home/asantini/Desktop/Dropbox/galaxies/ngc3077_ObsID-2076.tsv')"
   ]
  },
  {
   "cell_type": "code",
   "execution_count": 39,
   "metadata": {
    "collapsed": false
   },
   "outputs": [
    {
     "name": "stdout",
     "output_type": "stream",
     "text": [
      "        name             ra      dec    ... var_index_b var_index_w\n",
      "-------------------- --------- -------- ... ----------- -----------\n",
      "CXO J100125.0+685336 150.35423 68.89343 ...           0         nan\n",
      "CXO J100126.4+684917 150.36032 68.82159 ...           1         nan\n",
      "CXO J100133.1+685227 150.38805 68.87441 ...           0         nan\n",
      "CXO J100140.2+685041 150.41764 68.84477 ...           1         nan\n",
      "CXO J100140.2+685553 150.41759 68.93162 ...           0         nan\n",
      "CXO J100143.3+684810 150.43071 68.80303 ...           0         nan\n",
      "CXO J100147.8+685203 150.44918 68.86759 ...           7         nan\n",
      "CXO J100149.3+690250 150.45562 69.04723 ...           0         nan\n",
      "CXO J100203.1+685024 150.51299 68.84023 ...           2         nan\n",
      "CXO J100215.1+685632 150.56301 68.94223 ...           0         nan\n",
      "CXO J100227.9+684958 150.61628 68.83288 ...           2         nan\n",
      "CXO J100229.4+685840 150.62272 68.97804 ...           0         nan\n",
      "CXO J100315.7+685529 150.81563 68.92478 ...           0         nan\n",
      "CXO J100320.3+685711 150.83498 68.95311 ...           6         nan\n",
      "CXO J100322.2+685125 150.84256 68.85702 ...           0         nan\n",
      "CXO J100324.6+685421 150.85282 68.90591 ...           0         nan\n",
      "CXO J100337.0+685318 150.90435 68.88848 ...           0         nan\n"
     ]
    }
   ],
   "source": [
    "print data_NGC3077"
   ]
  },
  {
   "cell_type": "code",
   "execution_count": 40,
   "metadata": {
    "collapsed": true
   },
   "outputs": [],
   "source": [
    "ra_NGC3077=150.829458"
   ]
  },
  {
   "cell_type": "code",
   "execution_count": 41,
   "metadata": {
    "collapsed": true
   },
   "outputs": [],
   "source": [
    "dec_NGC3077=68.733917"
   ]
  },
  {
   "cell_type": "code",
   "execution_count": 42,
   "metadata": {
    "collapsed": false
   },
   "outputs": [],
   "source": [
    "dis_GC(ra_NGC3077,dec_NGC3077,data_NGC3077)"
   ]
  },
  {
   "cell_type": "code",
   "execution_count": 43,
   "metadata": {
    "collapsed": true
   },
   "outputs": [],
   "source": [
    "data_eso137=ascii.read('/home/asantini/Desktop/Dropbox/galaxies/eso137-001_ObsID-9518.tsv')"
   ]
  },
  {
   "cell_type": "code",
   "execution_count": 44,
   "metadata": {
    "collapsed": false
   },
   "outputs": [
    {
     "name": "stdout",
     "output_type": "stream",
     "text": [
      "name  ra dec err_ellipse_r0 ... obi_hard_ms_lolim var_index_b var_index_w\n",
      "---- --- --- -------------- ... ----------------- ----------- -----------\n"
     ]
    }
   ],
   "source": [
    "print data_eso137"
   ]
  },
  {
   "cell_type": "code",
   "execution_count": 45,
   "metadata": {
    "collapsed": true
   },
   "outputs": [],
   "source": [
    "data_NGC2403=ascii.read('/home/asantini/Desktop/Dropbox/galaxies/ngc2403_ObsID-2014.tsv')"
   ]
  },
  {
   "cell_type": "code",
   "execution_count": 46,
   "metadata": {
    "collapsed": false
   },
   "outputs": [
    {
     "name": "stdout",
     "output_type": "stream",
     "text": [
      "        name             ra      dec    ... var_index_b var_index_w\n",
      "-------------------- --------- -------- ... ----------- -----------\n",
      "CXO J073603.9+651755  114.0164 65.29871 ...           1         nan\n",
      "CXO J073607.3+652150 114.03069 65.36393 ...           0         nan\n",
      "CXO J073614.6+654228 114.06089 65.70784 ...           0         nan\n",
      "CXO J073624.6+653138 114.10269 65.52736 ...           0         nan\n",
      "CXO J073624.8+654229  114.1035 65.70807 ...           2         nan\n",
      "CXO J073624.9+653915 114.10381 65.65418 ...           0         nan\n",
      "CXO J073625.2+653841 114.10511 65.64473 ...           1         nan\n",
      "CXO J073625.5+653539 114.10647 65.59441 ...           0         nan\n",
      "CXO J073630.0+653933 114.12522 65.65921 ...           0         nan\n",
      "CXO J073632.2+653031 114.13429 65.50877 ...           0         nan\n",
      "                 ...       ...      ... ...         ...         ...\n",
      "CXO J073713.9+652452 114.30808 65.41448 ...           1         nan\n",
      "CXO J073714.8+653428 114.31202 65.57471 ...           1         nan\n",
      "CXO J073716.0+653329 114.31694 65.55815 ...           1         nan\n",
      "CXO J073717.8+652954 114.32423 65.49845 ...           0         nan\n",
      "CXO J073719.1+653052 114.32989 65.51452 ...           0         nan\n",
      "CXO J073720.4+654938 114.33531  65.8275 ...           0         nan\n",
      "CXO J073722.5+652133 114.34381 65.35928 ...           1         nan\n",
      "CXO J073725.5+654302 114.35653 65.71746 ...           0         nan\n",
      "CXO J073726.0+653656 114.35861 65.61565 ...           1         nan\n",
      "CXO J073726.2+653922 114.35915 65.65613 ...           1         nan\n",
      "CXO J073727.3+653102 114.36376 65.51731 ...           0         nan\n",
      "Length = 58 rows\n"
     ]
    }
   ],
   "source": [
    "print data_NGC2403"
   ]
  },
  {
   "cell_type": "code",
   "execution_count": 47,
   "metadata": {
    "collapsed": true
   },
   "outputs": [],
   "source": [
    "ra_NGC2403=114.214167"
   ]
  },
  {
   "cell_type": "code",
   "execution_count": 48,
   "metadata": {
    "collapsed": true
   },
   "outputs": [],
   "source": [
    "dec_NGC2403=65.602556"
   ]
  },
  {
   "cell_type": "code",
   "execution_count": 49,
   "metadata": {
    "collapsed": false
   },
   "outputs": [],
   "source": [
    "dis_GC(ra_NGC2403,dec_NGC2403,data_NGC2403)"
   ]
  },
  {
   "cell_type": "code",
   "execution_count": 50,
   "metadata": {
    "collapsed": true
   },
   "outputs": [],
   "source": [
    "data_NGC4631=ascii.read('/home/asantini/Desktop/Dropbox/galaxies/ngc4631_ObsID-797.tsv')"
   ]
  },
  {
   "cell_type": "code",
   "execution_count": 51,
   "metadata": {
    "collapsed": false
   },
   "outputs": [
    {
     "name": "stdout",
     "output_type": "stream",
     "text": [
      "        name             ra      dec    ... var_index_b var_index_w\n",
      "-------------------- --------- -------- ... ----------- -----------\n",
      "CXO J124056.8+322829 190.23668 32.47476 ...           0         nan\n",
      "CXO J124100.3+322400  190.2516 32.40022 ...           0         nan\n",
      "CXO J124102.8+323802 190.26204 32.63396 ...           2         nan\n",
      "CXO J124104.9+323824  190.2706 32.64015 ...           0         nan\n",
      "CXO J124106.0+322519 190.27513 32.42203 ...           0         nan\n",
      "CXO J124106.0+323946 190.27516  32.6629 ...           0         nan\n",
      "CXO J124106.3+322354 190.27642 32.39849 ...           0         nan\n",
      "CXO J124108.6+323013 190.28588 32.50377 ...           5         nan\n",
      "CXO J124111.5+324135  190.2982 32.69312 ...           0         nan\n",
      "CXO J124115.3+323023 190.31389 32.50666 ...           2         nan\n",
      "                 ...       ...      ... ...         ...         ...\n",
      "CXO J124222.4+323242 190.59366 32.54518 ...           0         nan\n",
      "CXO J124224.9+323404 190.60412 32.56788 ...           0         nan\n",
      "CXO J124225.7+323321 190.60747 32.55598 ...           0         nan\n",
      "CXO J124230.1+323349 190.62559 32.56374 ...           1         nan\n",
      "CXO J124231.8+323418 190.63262 32.57184 ...           5         nan\n",
      "CXO J124232.5+323027 190.63572 32.50752 ...           0         nan\n",
      "CXO J124235.1+323337 190.64634 32.56052 ...           0         nan\n",
      "CXO J124236.4+323833 190.65188 32.64273 ...           0         nan\n",
      "CXO J124239.3+323050 190.66381 32.51414 ...           0         nan\n",
      "CXO J124252.6+323449 190.71934 32.58043 ...           0         nan\n",
      "CXO J124254.8+323220 190.72832 32.53893 ...           0         nan\n",
      "Length = 86 rows\n"
     ]
    }
   ],
   "source": [
    "print data_NGC4631"
   ]
  },
  {
   "cell_type": "code",
   "execution_count": 52,
   "metadata": {
    "collapsed": true
   },
   "outputs": [],
   "source": [
    "ra_NGC4631=190.533375"
   ]
  },
  {
   "cell_type": "code",
   "execution_count": 53,
   "metadata": {
    "collapsed": true
   },
   "outputs": [],
   "source": [
    "dec_NGC4631=32.541500"
   ]
  },
  {
   "cell_type": "code",
   "execution_count": 54,
   "metadata": {
    "collapsed": false
   },
   "outputs": [],
   "source": [
    "dis_GC(ra_NGC4631,dec_NGC4631,data_NGC4631)"
   ]
  },
  {
   "cell_type": "code",
   "execution_count": 55,
   "metadata": {
    "collapsed": true
   },
   "outputs": [],
   "source": [
    "data_NGC7331=ascii.read('/home/asantini/Desktop/Dropbox/galaxies/ngc7331_ObsID-2198.tsv')"
   ]
  },
  {
   "cell_type": "code",
   "execution_count": 56,
   "metadata": {
    "collapsed": false
   },
   "outputs": [
    {
     "name": "stdout",
     "output_type": "stream",
     "text": [
      "        name             ra      dec    ... var_index_b var_index_w\n",
      "-------------------- --------- -------- ... ----------- -----------\n",
      "CXO J223604.2+341209 339.01749 34.20272 ...           0         nan\n",
      "CXO J223627.7+342039 339.11541  34.3444 ...           2         nan\n",
      "CXO J223639.2+342637 339.16367 34.44368 ...           0         nan\n",
      "CXO J223650.6+342739 339.21095 34.46099 ...           0         nan\n",
      "CXO J223651.8+342600 339.21609 34.43359 ...           0         nan\n",
      "CXO J223653.3+342415 339.22215 34.40442 ...           0         nan\n",
      "CXO J223654.3+342626 339.22635 34.44082 ...           0         nan\n",
      "CXO J223657.2+342721 339.23856   34.456 ...           1         nan\n",
      "CXO J223658.4+341629 339.24362 34.27476 ...           0         nan\n",
      "CXO J223658.4+342418 339.24363 34.40525 ...           0         nan\n",
      "                 ...       ...      ... ...         ...         ...\n",
      "CXO J223709.4+342503 339.28945 34.41758 ...           0         nan\n",
      "CXO J223710.3+342348 339.29296 34.39681 ...           0         nan\n",
      "CXO J223711.8+342537 339.29931 34.42717 ...           0         nan\n",
      "CXO J223714.0+341509 339.30842 34.25264 ...           0         nan\n",
      "CXO J223716.7+342140 339.31969 34.36134 ...           1         nan\n",
      "CXO J223722.0+342316 339.34176  34.3879 ...           6         nan\n",
      "CXO J223723.0+342141 339.34617 34.36144 ...           0         nan\n",
      "CXO J223729.1+342333 339.37153 34.39252 ...           1         nan\n",
      "CXO J223731.5+342327 339.38124 34.39111 ...           1         nan\n",
      "CXO J223734.5+342111 339.39379 34.35313 ...           0         nan\n",
      "CXO J223738.5+342224 339.41055  34.3735 ...           0         nan\n",
      "Length = 58 rows\n"
     ]
    }
   ],
   "source": [
    "print data_NGC7331"
   ]
  },
  {
   "cell_type": "code",
   "execution_count": 57,
   "metadata": {
    "collapsed": true
   },
   "outputs": [],
   "source": [
    "ra_NGC7331=339.2667242"
   ]
  },
  {
   "cell_type": "code",
   "execution_count": 58,
   "metadata": {
    "collapsed": true
   },
   "outputs": [],
   "source": [
    "dec_NGC7331=34.4155189"
   ]
  },
  {
   "cell_type": "code",
   "execution_count": 59,
   "metadata": {
    "collapsed": false
   },
   "outputs": [],
   "source": [
    "dis_GC(ra_NGC7331,dec_NGC7331,data_NGC7331)"
   ]
  },
  {
   "cell_type": "code",
   "execution_count": 60,
   "metadata": {
    "collapsed": true
   },
   "outputs": [],
   "source": [
    "def dis_GC_B(raGC,decGC,Data,B):\n",
    "    \"\"\"\n",
    "    raGC: float- the ra of the galatic center in decimal degrees\n",
    "    decGC: float the dec of the galatic center in decimal degrees\n",
    "    Data: array- a table of data containg the coordinates of each object\n",
    "    B: int- the number of bins in the histogram\n",
    "    \n",
    "    This fucntion takes the inputs for the ra of the GC, the Dec of the GC, the ra's of an array of objects and the\n",
    "    declinations of an array of objects and returns an histrogram that plots the number of objects per bin by the\n",
    "    distance from the center of the galaxy to the objects in each bin are in degrees. This function allows you to modify\n",
    "    the number of bins yourself.\n",
    "    \"\"\"\n",
    "    import math\n",
    "    decA=Data['dec']\n",
    "    raA=Data['ra']\n",
    "    disA=[math.sqrt(((decGC-dec)**2)+((raGC-ra)**2)) for dec,ra in zip(decA,raA)]\n",
    "    plt.hist(disA,B)\n",
    "    plt.show()"
   ]
  },
  {
   "cell_type": "code",
   "execution_count": 61,
   "metadata": {
    "collapsed": false
   },
   "outputs": [],
   "source": [
    "dis_GC_B(ra_NGC7331,dec_NGC7331,data_NGC7331,50)"
   ]
  },
  {
   "cell_type": "code",
   "execution_count": 62,
   "metadata": {
    "collapsed": false
   },
   "outputs": [],
   "source": [
    "dis_GC_B(ra_NGC2403,dec_NGC2403,data_NGC2403,100)"
   ]
  },
  {
   "cell_type": "code",
   "execution_count": 63,
   "metadata": {
    "collapsed": true
   },
   "outputs": [],
   "source": [
    "dis_GC_B(ra_NGC4631,dec_NGC4631,data_NGC4631,15)"
   ]
  },
  {
   "cell_type": "code",
   "execution_count": 64,
   "metadata": {
    "collapsed": true
   },
   "outputs": [],
   "source": [
    "def dis_GC_R(raGC,decGC,Data,R):\n",
    "    \"\"\"\n",
    "    raGC: float- the ra of the galatic center\n",
    "    decGC: float the dec of the galatic center\n",
    "    raA, array- A array of the ra's of the objects that you want to know the distances from the GC\n",
    "    decGC array- A array of the dec's of the objects that you want to know the distacnes from the GC\n",
    "    returns: array- the distances of each object away from the center of the galaxy\n",
    "    \n",
    "    This fucntion takes the inputs for the ra of the GC, the Dec of the GC, the ra's of an array of objects and the\n",
    "    declinations of an array of objects and returns an array that is those objects distances from the center of the\n",
    "    galaxy\n",
    "    \"\"\"\n",
    "    import math\n",
    "    decA=Data['dec']\n",
    "    raA=Data['ra']\n",
    "    disA=[math.sqrt(((decGC-dec)**2)+((raGC-ra)**2)) for dec,ra in zip(decA,raA)]\n",
    "    np.histogram(disA)\n",
    "    plt.plot([R])\n",
    "    plt.plot()"
   ]
  },
  {
   "cell_type": "code",
   "execution_count": 65,
   "metadata": {
    "collapsed": false
   },
   "outputs": [
    {
     "ename": "NameError",
     "evalue": "global name 'np' is not defined",
     "output_type": "error",
     "traceback": [
      "\u001b[0;31m---------------------------------------------------------------------------\u001b[0m",
      "\u001b[0;31mNameError\u001b[0m                                 Traceback (most recent call last)",
      "\u001b[0;32m<ipython-input-65-47643fa6e3c6>\u001b[0m in \u001b[0;36m<module>\u001b[0;34m()\u001b[0m\n\u001b[0;32m----> 1\u001b[0;31m \u001b[0mdis_GC_R\u001b[0m\u001b[0;34m(\u001b[0m\u001b[0mra_NGC4631\u001b[0m\u001b[0;34m,\u001b[0m\u001b[0mdec_NGC4631\u001b[0m\u001b[0;34m,\u001b[0m\u001b[0mdata_NGC4631\u001b[0m\u001b[0;34m,\u001b[0m\u001b[0;36m0.14\u001b[0m\u001b[0;34m)\u001b[0m\u001b[0;34m\u001b[0m\u001b[0m\n\u001b[0m",
      "\u001b[0;32m<ipython-input-64-ff7fb989b096>\u001b[0m in \u001b[0;36mdis_GC_R\u001b[0;34m(raGC, decGC, Data, R)\u001b[0m\n\u001b[1;32m     15\u001b[0m     \u001b[0mraA\u001b[0m\u001b[0;34m=\u001b[0m\u001b[0mData\u001b[0m\u001b[0;34m[\u001b[0m\u001b[0;34m'ra'\u001b[0m\u001b[0;34m]\u001b[0m\u001b[0;34m\u001b[0m\u001b[0m\n\u001b[1;32m     16\u001b[0m     \u001b[0mdisA\u001b[0m\u001b[0;34m=\u001b[0m\u001b[0;34m[\u001b[0m\u001b[0mmath\u001b[0m\u001b[0;34m.\u001b[0m\u001b[0msqrt\u001b[0m\u001b[0;34m(\u001b[0m\u001b[0;34m(\u001b[0m\u001b[0;34m(\u001b[0m\u001b[0mdecGC\u001b[0m\u001b[0;34m-\u001b[0m\u001b[0mdec\u001b[0m\u001b[0;34m)\u001b[0m\u001b[0;34m**\u001b[0m\u001b[0;36m2\u001b[0m\u001b[0;34m)\u001b[0m\u001b[0;34m+\u001b[0m\u001b[0;34m(\u001b[0m\u001b[0;34m(\u001b[0m\u001b[0mraGC\u001b[0m\u001b[0;34m-\u001b[0m\u001b[0mra\u001b[0m\u001b[0;34m)\u001b[0m\u001b[0;34m**\u001b[0m\u001b[0;36m2\u001b[0m\u001b[0;34m)\u001b[0m\u001b[0;34m)\u001b[0m \u001b[0;32mfor\u001b[0m \u001b[0mdec\u001b[0m\u001b[0;34m,\u001b[0m\u001b[0mra\u001b[0m \u001b[0;32min\u001b[0m \u001b[0mzip\u001b[0m\u001b[0;34m(\u001b[0m\u001b[0mdecA\u001b[0m\u001b[0;34m,\u001b[0m\u001b[0mraA\u001b[0m\u001b[0;34m)\u001b[0m\u001b[0;34m]\u001b[0m\u001b[0;34m\u001b[0m\u001b[0m\n\u001b[0;32m---> 17\u001b[0;31m     \u001b[0mnp\u001b[0m\u001b[0;34m.\u001b[0m\u001b[0mhistogram\u001b[0m\u001b[0;34m(\u001b[0m\u001b[0mdisA\u001b[0m\u001b[0;34m)\u001b[0m\u001b[0;34m\u001b[0m\u001b[0m\n\u001b[0m\u001b[1;32m     18\u001b[0m     \u001b[0mplt\u001b[0m\u001b[0;34m.\u001b[0m\u001b[0mplot\u001b[0m\u001b[0;34m(\u001b[0m\u001b[0;34m[\u001b[0m\u001b[0mR\u001b[0m\u001b[0;34m]\u001b[0m\u001b[0;34m)\u001b[0m\u001b[0;34m\u001b[0m\u001b[0m\n\u001b[1;32m     19\u001b[0m     \u001b[0mplt\u001b[0m\u001b[0;34m.\u001b[0m\u001b[0mplot\u001b[0m\u001b[0;34m(\u001b[0m\u001b[0;34m)\u001b[0m\u001b[0;34m\u001b[0m\u001b[0m\n",
      "\u001b[0;31mNameError\u001b[0m: global name 'np' is not defined"
     ]
    }
   ],
   "source": [
    "dis_GC_R(ra_NGC4631,dec_NGC4631,data_NGC4631,0.14)"
   ]
  },
  {
   "cell_type": "code",
   "execution_count": 66,
   "metadata": {
    "collapsed": true
   },
   "outputs": [],
   "source": [
    "import matplotlib.pyplot as plt"
   ]
  },
  {
   "cell_type": "code",
   "execution_count": 67,
   "metadata": {
    "collapsed": true
   },
   "outputs": [],
   "source": [
    "def dis_GC_B_R(raGC,decGC,Data,B,Maj,Min):\n",
    "    \"\"\"\n",
    "    raGC: float- the ra of the galatic center in decimal degrees\n",
    "    decGC: float the dec of the galatic center in decimal degrees\n",
    "    Data: array- a table of data containg the coordinates of each object\n",
    "    B: int- the number of bins in the histogram\n",
    "    Maj: int- The major axis of the galaxy in arcseconds\n",
    "    Min: int- The minor axis of the galaxy in arcseconds\n",
    "    \n",
    "    This fucntion takes the inputs for the ra of the GC, the Dec of the GC, the ra's of an array of objects and the\n",
    "    declinations of an array of objects and returns an histrogram that plots the number of objects per bin by the\n",
    "    distance from the center of the galaxy to the objects in each bin are in degrees. This function allows you to modify\n",
    "    the number of bins yourself. This function plots the visible Major and Minor axis of the galaxies on the histogram.\n",
    "    \"\"\"\n",
    "    import math\n",
    "    decA=Data['dec']\n",
    "    raA=Data['ra']\n",
    "    Maj=Maj/3600\n",
    "    Min=Min/3600\n",
    "    S_Maj=Maj/2\n",
    "    S_Min=Min/2\n",
    "    disA=[math.sqrt(((decGC-dec)**2)+((raGC-ra)**2)) for dec,ra in zip(decA,raA)]\n",
    "    plt.vlines(S_Maj,0,10,color='red')\n",
    "    plt.vlines(S_Min,0,10,color='blue')\n",
    "    plt.hist(disA,B)\n",
    "    plt.plot()\n",
    "    plt.show()"
   ]
  },
  {
   "cell_type": "code",
   "execution_count": 68,
   "metadata": {
    "collapsed": false
   },
   "outputs": [],
   "source": [
    "Maj_NGC474=210.00\n",
    "Min_NGC474=207.90"
   ]
  },
  {
   "cell_type": "code",
   "execution_count": 69,
   "metadata": {
    "collapsed": false
   },
   "outputs": [],
   "source": [
    "dis_GC_B_R(ra_NGC474,dec_NGC474,data_NGC474,20,Maj_NGC474,Min_NGC474)"
   ]
  },
  {
   "cell_type": "code",
   "execution_count": 70,
   "metadata": {
    "collapsed": true
   },
   "outputs": [],
   "source": [
    "def dis_GC_R(raGC,decGC,Data,Maj,Min):\n",
    "    \"\"\"\n",
    "    raGC: float- the ra of the galatic center in decimal degrees\n",
    "    decGC: float the dec of the galatic center in decimal degrees\n",
    "    Data: array- a table of data containg the coordinates of each object\n",
    "    B: int- the number of bins in the histogram\n",
    "    Maj: int- The major axis of the galaxy in arcseconds\n",
    "    Min: int- The minor axis of the galaxy in arcseconds\n",
    "    \n",
    "    This fucntion takes the inputs for the ra of the GC, the Dec of the GC, the ra's of an array of objects and the\n",
    "    declinations of an array of objects and returns an histrogram that plots the number of objects per bin by the\n",
    "    distance from the center of the galaxy to the objects in each bin are in degrees.\n",
    "    This function plots the visible Major and Minor axis of the galaxies on the histogram.\n",
    "    \"\"\"\n",
    "    import math\n",
    "    decA=Data['dec']\n",
    "    raA=Data['ra']\n",
    "    Maj=Maj/3600\n",
    "    Min=Min/3600\n",
    "    S_Maj=Maj/2\n",
    "    S_Min=Min/2\n",
    "    disA=[math.sqrt(((decGC-dec)**2)+((raGC-ra)**2)) for dec,ra in zip(decA,raA)]\n",
    "    plt.vlines(S_Maj,0,10,color='red')\n",
    "    plt.vlines(S_Min,0,10,color='blue')\n",
    "    plt.hist(disA)\n",
    "    plt.plot()\n",
    "    plt.show()"
   ]
  },
  {
   "cell_type": "code",
   "execution_count": 71,
   "metadata": {
    "collapsed": false
   },
   "outputs": [],
   "source": [
    "dis_GC_R(ra_NGC474,dec_NGC474,data_NGC474,Maj_NGC474,Min_NGC474)"
   ]
  },
  {
   "cell_type": "code",
   "execution_count": 72,
   "metadata": {
    "collapsed": true
   },
   "outputs": [],
   "source": [
    "Maj_NGC1316=590.00\n",
    "Min_NGC1316=424.80"
   ]
  },
  {
   "cell_type": "code",
   "execution_count": 73,
   "metadata": {
    "collapsed": false
   },
   "outputs": [],
   "source": [
    "dis_GC_R(ra_NGC1316,dec_NGC1316,data_NGC1316,Maj_NGC1316,Min_NGC1316)"
   ]
  },
  {
   "cell_type": "code",
   "execution_count": 74,
   "metadata": {
    "collapsed": true
   },
   "outputs": [],
   "source": [
    "Maj_NGC2403=753.80\n",
    "Min_NGC2403=459.82"
   ]
  },
  {
   "cell_type": "code",
   "execution_count": 75,
   "metadata": {
    "collapsed": true
   },
   "outputs": [],
   "source": [
    "dis_GC_B_R(ra_NGC2403,dec_NGC2403,data_NGC2403,25,Maj_NGC2403,Min_NGC2403)"
   ]
  },
  {
   "cell_type": "code",
   "execution_count": 76,
   "metadata": {
    "collapsed": true
   },
   "outputs": [],
   "source": [
    "Maj_NGC3077=404.60\n",
    "Min_NGC3077=319.63"
   ]
  },
  {
   "cell_type": "code",
   "execution_count": 77,
   "metadata": {
    "collapsed": true
   },
   "outputs": [],
   "source": [
    "dis_GC_R(ra_NGC3077,dec_NGC3077,data_NGC3077,Maj_NGC3077,Min_NGC3077)"
   ]
  },
  {
   "cell_type": "code",
   "execution_count": 78,
   "metadata": {
    "collapsed": true
   },
   "outputs": [],
   "source": [
    "Maj_NGC4631=828.80\n",
    "Min_NGC4631=248.64"
   ]
  },
  {
   "cell_type": "code",
   "execution_count": 79,
   "metadata": {
    "collapsed": true
   },
   "outputs": [],
   "source": [
    "dis_GC_B_R(ra_NGC4631,dec_NGC4631,data_NGC4631,25,Maj_NGC4631,Min_NGC4631)"
   ]
  },
  {
   "cell_type": "code",
   "execution_count": 80,
   "metadata": {
    "collapsed": true
   },
   "outputs": [],
   "source": [
    "Maj_NGC4651=192.40\n",
    "Min_NGC4651=126.98"
   ]
  },
  {
   "cell_type": "code",
   "execution_count": 81,
   "metadata": {
    "collapsed": false
   },
   "outputs": [],
   "source": [
    "dis_GC_R(ra_NGC4651,dec_NGC4651,data,Maj_NGC4651,Min_NGC4651)"
   ]
  },
  {
   "cell_type": "code",
   "execution_count": 82,
   "metadata": {
    "collapsed": true
   },
   "outputs": [],
   "source": [
    "Maj_NGC7331=531.80\n",
    "Min_NGC7331=260.58"
   ]
  },
  {
   "cell_type": "code",
   "execution_count": 83,
   "metadata": {
    "collapsed": true
   },
   "outputs": [],
   "source": [
    "dis_GC_B_R(ra_NGC7331,dec_NGC7331,data_NGC7331,50,Maj_NGC7331,Min_NGC7331)"
   ]
  },
  {
   "cell_type": "code",
   "execution_count": 84,
   "metadata": {
    "collapsed": false
   },
   "outputs": [],
   "source": [
    "dis_GC_R(ra_NGC2403,dec_NGC2403,data_NGC2403,Maj_NGC2403,Min_NGC2403)"
   ]
  },
  {
   "cell_type": "code",
   "execution_count": 85,
   "metadata": {
    "collapsed": true
   },
   "outputs": [],
   "source": [
    "dis_GC_R(ra_NGC4631,dec_NGC4631,data_NGC4631,Maj_NGC4631,Min_NGC4631)"
   ]
  },
  {
   "cell_type": "code",
   "execution_count": 86,
   "metadata": {
    "collapsed": true
   },
   "outputs": [],
   "source": [
    "def dis_GC_R(raGC,decGC,Data,Maj,Min):\n",
    "    \"\"\"\n",
    "    raGC: float- the ra of the galatic center in decimal degrees\n",
    "    decGC: float the dec of the galatic center in decimal degrees\n",
    "    Data: array- a table of data containg the coordinates of each object\n",
    "    Maj: int- The major axis of the galaxy in arcseconds\n",
    "    Min: int- The minor axis of the galaxy in arcseconds\n",
    "    \n",
    "    This fucntion takes the inputs for the ra of the GC, the Dec of the GC, the ra's of an array of objects and the\n",
    "    declinations of an array of objects and returns an histrogram that plots the number of objects per bin by the\n",
    "    distance from the center of the galaxy to the objects in each bin are in degrees.\n",
    "    This function plots the visible Major and Minor axis of the galaxies on the histogram.\n",
    "    This function has verticle lines of length 20 objects\n",
    "    \"\"\"\n",
    "    import math\n",
    "    decA=Data['dec']\n",
    "    raA=Data['ra']\n",
    "    Maj=Maj/3600\n",
    "    Min=Min/3600\n",
    "    S_Maj=Maj/2\n",
    "    S_Min=Min/2\n",
    "    disA=[math.sqrt(((decGC-dec)**2)+((raGC-ra)**2)) for dec,ra in zip(decA,raA)]\n",
    "    plt.vlines(S_Maj,0,20,color='red')\n",
    "    plt.vlines(S_Min,0,20,color='blue')\n",
    "    plt.hist(disA)\n",
    "    plt.plot()\n",
    "    plt.show()"
   ]
  },
  {
   "cell_type": "code",
   "execution_count": 87,
   "metadata": {
    "collapsed": false
   },
   "outputs": [],
   "source": [
    "dis_GC_R(ra_NGC2403,dec_NGC2403,data_NGC2403,Maj_NGC2403,Min_NGC2403)"
   ]
  },
  {
   "cell_type": "code",
   "execution_count": 88,
   "metadata": {
    "collapsed": false
   },
   "outputs": [],
   "source": [
    "dis_GC_R(ra_NGC4631,dec_NGC4631,data_NGC4631,Maj_NGC4631,Min_NGC4631)"
   ]
  },
  {
   "cell_type": "code",
   "execution_count": 89,
   "metadata": {
    "collapsed": false
   },
   "outputs": [],
   "source": [
    "dis_GC_R(ra_NGC7331,dec_NGC7331,data_NGC7331,Maj_NGC7331,Min_NGC7331)"
   ]
  },
  {
   "cell_type": "code",
   "execution_count": 90,
   "metadata": {
    "collapsed": true
   },
   "outputs": [],
   "source": [
    "def dis_GC_R(raGC,decGC,Data,Maj,Min):\n",
    "    \"\"\"\n",
    "    raGC: float- the ra of the galatic center in decimal degrees\n",
    "    decGC: float the dec of the galatic center in decimal degrees\n",
    "    Data: array- a table of data containg the coordinates of each object\n",
    "    Maj: int- The major axis of the galaxy in arcseconds\n",
    "    Min: int- The minor axis of the galaxy in arcseconds\n",
    "    \n",
    "    This fucntion takes the inputs for the ra of the GC, the Dec of the GC, the ra's of an array of objects and the\n",
    "    declinations of an array of objects and returns an histrogram that plots the number of objects per bin by the\n",
    "    distance from the center of the galaxy to the objects in each bin are in degrees.\n",
    "    This function plots the visible Major and Minor axis of the galaxies on the histogram.\n",
    "    This function has verticle lines of length 35 objects\n",
    "    \"\"\"\n",
    "    import math\n",
    "    decA=Data['dec']\n",
    "    raA=Data['ra']\n",
    "    Maj=Maj/3600\n",
    "    Min=Min/3600\n",
    "    S_Maj=Maj/2\n",
    "    S_Min=Min/2\n",
    "    disA=[math.sqrt(((decGC-dec)**2)+((raGC-ra)**2)) for dec,ra in zip(decA,raA)]\n",
    "    plt.vlines(S_Maj,0,35,color='red')\n",
    "    plt.vlines(S_Min,0,35,color='blue')\n",
    "    plt.hist(disA)\n",
    "    plt.plot()\n",
    "    plt.show()"
   ]
  },
  {
   "cell_type": "code",
   "execution_count": 91,
   "metadata": {
    "collapsed": true
   },
   "outputs": [],
   "source": [
    "dis_GC_R(ra_NGC7331,dec_NGC7331,data_NGC7331,Maj_NGC7331,Min_NGC7331)"
   ]
  },
  {
   "cell_type": "code",
   "execution_count": 92,
   "metadata": {
    "collapsed": true
   },
   "outputs": [],
   "source": [
    "from astroquery.ned import Ned"
   ]
  },
  {
   "cell_type": "code",
   "execution_count": 93,
   "metadata": {
    "collapsed": true
   },
   "outputs": [],
   "source": [
    "data2_NGC7331= Ned.query_object(\"NGC 7331\")"
   ]
  },
  {
   "cell_type": "code",
   "execution_count": 94,
   "metadata": {
    "collapsed": false
   },
   "outputs": [
    {
     "name": "stdout",
     "output_type": "stream",
     "text": [
      "No. Object Name      RA(deg)       ... Diameter Points Associations\n",
      "                     degrees       ...                             \n",
      "--- ----------- ------------------ ... --------------- ------------\n",
      "  1    NGC 7331 339.26672000000002 ...               8            0\n"
     ]
    }
   ],
   "source": [
    "print (data2_NGC7331)"
   ]
  },
  {
   "cell_type": "code",
   "execution_count": 95,
   "metadata": {
    "collapsed": false
   },
   "outputs": [
    {
     "data": {
      "text/html": [
       "&lt;MaskedColumn name=&apos;Object Name&apos; dtype=&apos;str30&apos; description=u&apos;NED preferred name for the object&apos; length=1&gt;\n",
       "<table>\n",
       "<tr><td>NGC 7331</td></tr>\n",
       "</table>"
      ],
      "text/plain": [
       "<MaskedColumn name='Object Name' dtype='str30' description=u'NED preferred name for the object' length=1>\n",
       "NGC 7331"
      ]
     },
     "execution_count": 95,
     "metadata": {},
     "output_type": "execute_result"
    }
   ],
   "source": [
    "data2_NGC7331['Object Name']"
   ]
  },
  {
   "cell_type": "code",
   "execution_count": 96,
   "metadata": {
    "collapsed": false
   },
   "outputs": [
    {
     "data": {
      "text/html": [
       "&lt;MaskedColumn name=&apos;Diameter Points&apos; dtype=&apos;int32&apos; description=u&apos;Number of diameter data points stored by NED for the object.&apos; length=1&gt;\n",
       "<table>\n",
       "<tr><td>8</td></tr>\n",
       "</table>"
      ],
      "text/plain": [
       "<MaskedColumn name='Diameter Points' dtype='int32' description=u'Number of diameter data points stored by NED for the object.' length=1>\n",
       "8"
      ]
     },
     "execution_count": 96,
     "metadata": {},
     "output_type": "execute_result"
    }
   ],
   "source": [
    "data2_NGC7331['Diameter Points']"
   ]
  },
  {
   "cell_type": "code",
   "execution_count": 97,
   "metadata": {
    "collapsed": false
   },
   "outputs": [
    {
     "data": {
      "text/html": [
       "&lt;MaskedColumn name=&apos;RA(deg)&apos; dtype=&apos;float64&apos; unit=&apos;degrees&apos; format=u&apos;%10r&apos; description=u&apos;Right Ascension in degrees (Equatorial J2000.0)&apos; length=1&gt;\n",
       "<table>\n",
       "<tr><td>339.26672000000002</td></tr>\n",
       "</table>"
      ],
      "text/plain": [
       "<MaskedColumn name='RA(deg)' dtype='float64' unit='degrees' format=u'%10r' description=u'Right Ascension in degrees (Equatorial J2000.0)' length=1>\n",
       "339.26672000000002"
      ]
     },
     "execution_count": 97,
     "metadata": {},
     "output_type": "execute_result"
    }
   ],
   "source": [
    "data2_NGC7331['RA(deg)']"
   ]
  },
  {
   "cell_type": "code",
   "execution_count": 98,
   "metadata": {
    "collapsed": false
   },
   "outputs": [],
   "source": [
    "ra2_NGC7331=float(data2_NGC7331['RA(deg)'])"
   ]
  },
  {
   "cell_type": "code",
   "execution_count": 99,
   "metadata": {
    "collapsed": false
   },
   "outputs": [
    {
     "name": "stdout",
     "output_type": "stream",
     "text": [
      "339.26672\n"
     ]
    }
   ],
   "source": [
    "print ra2_NGC7331"
   ]
  },
  {
   "cell_type": "code",
   "execution_count": 100,
   "metadata": {
    "collapsed": true
   },
   "outputs": [],
   "source": [
    "def dis_GC_R_N(Gname,Data,Maj,Min):\n",
    "    \"\"\"\n",
    "    Gname: str- The name of the galaxy in the form NGC #\n",
    "    Data: array- a table of data containg the coordinates of each object\n",
    "    Maj: int- The major axis of the galaxy in arcseconds\n",
    "    Min: int- The minor axis of the galaxy in arcseconds\n",
    "    \n",
    "    This fucntion takes the inputs for the name of the galaxy, the Dec of the GC, the ra's of an array of objects and the\n",
    "    declinations of an array of objects and returns an histrogram that plots the number of objects per bin by the\n",
    "    distance from the center of the galaxy to the objects in each bin are in degrees.\n",
    "    This function plots the visible Major and Minor axis of the galaxies on the histogram.\n",
    "    This function uses astroquary to get data directly from NED\n",
    "    \"\"\"\n",
    "    import math\n",
    "    decA=Data['dec']\n",
    "    raA=Data['ra']\n",
    "    Maj=Maj/3600\n",
    "    Min=Min/3600\n",
    "    S_Maj=Maj/2\n",
    "    S_Min=Min/2\n",
    "    G_Data= Ned.query_object(Gname)\n",
    "    raGC=float(G_Data['RA(deg)'])\n",
    "    decGC=float(G_Data['DEC(deg)'])\n",
    "    disA=[math.sqrt(((decGC-dec)**2)+((raGC-ra)**2)) for dec,ra in zip(decA,raA)]\n",
    "    plt.vlines(S_Maj,0,10,color='red')\n",
    "    plt.vlines(S_Min,0,10,color='blue')\n",
    "    plt.hist(disA)\n",
    "    plt.plot()\n",
    "    plt.show()"
   ]
  },
  {
   "cell_type": "code",
   "execution_count": 101,
   "metadata": {
    "collapsed": false
   },
   "outputs": [],
   "source": [
    "dis_GC_R_N('NGC 474',data_NGC474,Maj_NGC474,Min_NGC474)"
   ]
  },
  {
   "cell_type": "code",
   "execution_count": 102,
   "metadata": {
    "collapsed": true
   },
   "outputs": [],
   "source": [
    "def Area_GC_R_N(Gname,Data,Maj,Min):\n",
    "    \"\"\"\n",
    "    Gname: str- The name of the galaxy in the form NGC #\n",
    "    Data: array- a table of data containg the coordinates of each object\n",
    "    Maj: int- The major axis of the galaxy in arcseconds\n",
    "    Min: int- The minor axis of the galaxy in arcseconds\n",
    "    \n",
    "    This fucntion takes the inputs for the name of the galaxy, the Dec of the GC, the ra's of an array of objects and the\n",
    "    declinations of an array of objects and returns an histrogram that plots the number of objects per bin by the\n",
    "    area enclosed by the cirlce centered on the center of the galaxy that inculdes the objects in each bin in \n",
    "    square degrees.\n",
    "    This function plots the visible Major axis of the galaxy area enclosed by a circle that uses the Major axis as \n",
    "    the diameter of the cirlce on histogram.\n",
    "    This function uses astroquary to get data directly from NED\n",
    "    \"\"\"\n",
    "    import math\n",
    "    decA=Data['dec']\n",
    "    raA=Data['ra']\n",
    "    Maj=Maj/3600\n",
    "    Min=Min/3600\n",
    "    S_Maj=Maj/2\n",
    "    S_Min=Min/2\n",
    "    area_T=((S_Maj)**2)*math.pi\n",
    "    G_Data= Ned.query_object(Gname)\n",
    "    raGC=float(G_Data['RA(deg)'])\n",
    "    decGC=float(G_Data['DEC(deg)'])\n",
    "    area_A=[((((decGC-dec)**2)+((raGC-ra)**2)))*(math.pi) for dec,ra in zip(decA,raA)]\n",
    "    plt.vlines(area_T,0,10,color='red')\n",
    "    #plt.vlines(S_Min,0,10,color='blue')\n",
    "    plt.hist(area_A)\n",
    "    plt.plot()\n",
    "    plt.show()"
   ]
  },
  {
   "cell_type": "code",
   "execution_count": 103,
   "metadata": {
    "collapsed": false
   },
   "outputs": [],
   "source": [
    "Area_GC_R_N('NGC 474',data_NGC474,Maj_NGC474,Min_NGC474)"
   ]
  },
  {
   "cell_type": "code",
   "execution_count": 104,
   "metadata": {
    "collapsed": true
   },
   "outputs": [],
   "source": [
    "def Area_GC_R_N(Gname,Data,Maj):\n",
    "    \"\"\"\n",
    "    Gname: str- The name of the galaxy in the form NGC #\n",
    "    Data: array- a table of data containg the coordinates of each object\n",
    "    Maj: int- The major axis of the galaxy in arcseconds\n",
    "    \n",
    "    This fucntion takes the the inputs for the name of the galaxy, the ra's of an array of objects and the\n",
    "    declinations of an array of objects and returns an histrogram that plots the number of objects per bin by the\n",
    "    area enclosed by the cirlce centered on the center of the galaxy that inculdes the objects in each bin in \n",
    "    square degrees.\n",
    "    This function plots the visible Major axis of the galaxy area enclosed by a circle that uses the Major axis as \n",
    "    the diameter of the cirlce on histogram.\n",
    "    This function uses astroquary to get data directly from NED\n",
    "    \"\"\"\n",
    "    import math\n",
    "    decA=Data['dec']\n",
    "    raA=Data['ra']\n",
    "    Maj=Maj/3600\n",
    "    S_Maj=Maj/2\n",
    "    area_T=((S_Maj)**2)*math.pi\n",
    "    G_Data= Ned.query_object(Gname)\n",
    "    raGC=float(G_Data['RA(deg)'])\n",
    "    decGC=float(G_Data['DEC(deg)'])\n",
    "    area_A=[((((decGC-dec)**2)+((raGC-ra)**2)))*(math.pi) for dec,ra in zip(decA,raA)]\n",
    "    plt.vlines(area_T,0,10,color='red')\n",
    "    plt.hist(area_A)\n",
    "    plt.plot()\n",
    "    plt.show()"
   ]
  },
  {
   "cell_type": "code",
   "execution_count": 105,
   "metadata": {
    "collapsed": true
   },
   "outputs": [],
   "source": [
    "Area_GC_R_N('NGC 474',data_NGC474,Maj_NGC474)"
   ]
  },
  {
   "cell_type": "code",
   "execution_count": 106,
   "metadata": {
    "collapsed": true
   },
   "outputs": [],
   "source": [
    "def Area_GC_R_N_F(Gname,Data,Maj):\n",
    "    \"\"\"\n",
    "    Gname: str- The name of the galaxy in the form NGC #\n",
    "    Data: array- a table of data containg the coordinates of each object\n",
    "    Maj: int- The major axis of the galaxy in arcseconds\n",
    "    \n",
    "    This fucntion takes the inputs for the name of the galaxy, the ra's of an array of objects and the\n",
    "    declinations of an array of objects and returns an histrogram that plots the number of objects per bin by the\n",
    "    area enclosed by the cirlce centered on the center of the galaxy that inculdes the objects in each bin in \n",
    "    square degrees divided by the visible area of the galaxy in square degrees.\n",
    "    This function plots the visible Major axis of the galaxy area enclosed by a circle that uses the Major axis as \n",
    "    the diameter of the cirlce divided by itself to give 1 on histogram.\n",
    "    This function uses astroquary to get data directly from NED\n",
    "    \"\"\"\n",
    "    import math\n",
    "    decA=Data['dec']\n",
    "    raA=Data['ra']\n",
    "    Maj=Maj/3600\n",
    "    S_Maj=Maj/2\n",
    "    area_T=((S_Maj)**2)*math.pi\n",
    "    G_Data= Ned.query_object(Gname)\n",
    "    raGC=float(G_Data['RA(deg)'])\n",
    "    decGC=float(G_Data['DEC(deg)'])\n",
    "    area_A=[((((((decGC-dec)**2)+((raGC-ra)**2)))*(math.pi))/area_T) for dec,ra in zip(decA,raA)]\n",
    "    #plt.vlines(1,0,10,color='red')\n",
    "    plt.hist(area_A)\n",
    "    plt.plot()\n",
    "    plt.show()"
   ]
  },
  {
   "cell_type": "code",
   "execution_count": 107,
   "metadata": {
    "collapsed": false
   },
   "outputs": [],
   "source": [
    "Area_GC_R_N_F('NGC 474',data_NGC474,Maj_NGC474)"
   ]
  },
  {
   "cell_type": "code",
   "execution_count": null,
   "metadata": {
    "collapsed": false
   },
   "outputs": [],
   "source": [
    "Area_GC_R_N_F('NGC 1316',data_NGC1316,Maj_NGC1316)"
   ]
  },
  {
   "cell_type": "code",
   "execution_count": null,
   "metadata": {
    "collapsed": true
   },
   "outputs": [],
   "source": [
    "Area_GC_R_N_F('NGC 2403',data_NGC2403,Maj_NGC2403)"
   ]
  },
  {
   "cell_type": "code",
   "execution_count": null,
   "metadata": {
    "collapsed": true
   },
   "outputs": [],
   "source": [
    "Area_GC_R_N_F('NGC 3077',data_NGC3077,Maj_NGC3077)"
   ]
  },
  {
   "cell_type": "code",
   "execution_count": null,
   "metadata": {
    "collapsed": true
   },
   "outputs": [],
   "source": [
    "Area_GC_R_N_F('NGC 4631',data_NGC4631,Maj_NGC4631)"
   ]
  },
  {
   "cell_type": "code",
   "execution_count": null,
   "metadata": {
    "collapsed": false
   },
   "outputs": [],
   "source": [
    "Area_GC_R_N_F('NGC 4651',data,Maj_NGC4651)"
   ]
  },
  {
   "cell_type": "code",
   "execution_count": null,
   "metadata": {
    "collapsed": true
   },
   "outputs": [],
   "source": [
    "Area_GC_R_N_F('NGC 7331',data_NGC7331,Maj_NGC7331)"
   ]
  },
  {
   "cell_type": "code",
   "execution_count": 108,
   "metadata": {
    "collapsed": true
   },
   "outputs": [],
   "source": [
    "def Area_GC_R_N_F_B(Gname,Data,Maj,B):\n",
    "    \"\"\"\n",
    "    Gname: str- The name of the galaxy in the form NGC #\n",
    "    Data: array- a table of data containg the coordinates of each object\n",
    "    Maj: int- The major axis of the galaxy in arcseconds\n",
    "    \n",
    "    This fucntion takes the inputs for the name of the galaxy, the ra's of an array of objects and the\n",
    "    declinations of an array of objects and returns an histrogram that plots the number of objects per bin by the\n",
    "    area enclosed by the cirlce centered on the center of the galaxy that inculdes the objects in each bin in \n",
    "    square degrees divided by the visible area of the galaxy in square degrees.\n",
    "    This function plots the visible Major axis of the galaxy area enclosed by a circle that uses the Major axis as \n",
    "    the diameter of the cirlce divided by itself to give 1 on histogram.\n",
    "    This function uses astroquary to get data directly from NED\n",
    "    This function allows you to modify the number of bins yourself.\n",
    "    \"\"\"\n",
    "    import math\n",
    "    decA=Data['dec']\n",
    "    raA=Data['ra']\n",
    "    Maj=Maj/3600\n",
    "    S_Maj=Maj/2\n",
    "    area_T=((S_Maj)**2)*math.pi\n",
    "    G_Data= Ned.query_object(Gname)\n",
    "    raGC=float(G_Data['RA(deg)'])\n",
    "    decGC=float(G_Data['DEC(deg)'])\n",
    "    area_A=[((((((decGC-dec)**2)+((raGC-ra)**2)))*(math.pi))/area_T) for dec,ra in zip(decA,raA)]\n",
    "    plt.vlines(1,0,10,color='red')\n",
    "    plt.hist(area_A,B)\n",
    "    plt.plot()\n",
    "    plt.show()"
   ]
  },
  {
   "cell_type": "code",
   "execution_count": null,
   "metadata": {
    "collapsed": true
   },
   "outputs": [],
   "source": [
    "Area_GC_R_N_F_B('NGC 474',data_NGC474,Maj_NGC474,100)"
   ]
  },
  {
   "cell_type": "code",
   "execution_count": null,
   "metadata": {
    "collapsed": false
   },
   "outputs": [],
   "source": [
    "Area_GC_R_N_F_B('NGC 1316',data_NGC1316,Maj_NGC1316,50)"
   ]
  },
  {
   "cell_type": "code",
   "execution_count": null,
   "metadata": {
    "collapsed": true
   },
   "outputs": [],
   "source": [
    "Area_GC_R_N_F_B('NGC 2403',data_NGC2403,Maj_NGC2403,100)"
   ]
  },
  {
   "cell_type": "code",
   "execution_count": null,
   "metadata": {
    "collapsed": true
   },
   "outputs": [],
   "source": [
    "Area_GC_R_N_F_B('NGC 3077',data_NGC3077,Maj_NGC3077,25)"
   ]
  },
  {
   "cell_type": "code",
   "execution_count": null,
   "metadata": {
    "collapsed": true
   },
   "outputs": [],
   "source": [
    "Area_GC_R_N_F_B('NGC 4631',data_NGC4631,Maj_NGC4631,150)"
   ]
  },
  {
   "cell_type": "code",
   "execution_count": null,
   "metadata": {
    "collapsed": false
   },
   "outputs": [],
   "source": [
    "Area_GC_R_N_F_B('NGC 4651',data,Maj_NGC4651,25)"
   ]
  },
  {
   "cell_type": "code",
   "execution_count": null,
   "metadata": {
    "collapsed": true
   },
   "outputs": [],
   "source": [
    "Area_GC_R_N_F_B('NGC 7331',data_NGC7331,Maj_NGC7331,100)"
   ]
  },
  {
   "cell_type": "code",
   "execution_count": null,
   "metadata": {
    "collapsed": true
   },
   "outputs": [],
   "source": [
    "Area_GC_R_N_F_B('NGC 7331',data_NGC7331,Maj_NGC7331,600)"
   ]
  },
  {
   "cell_type": "code",
   "execution_count": 109,
   "metadata": {
    "collapsed": true
   },
   "outputs": [],
   "source": [
    "def Area_GC_R_N(Gname,Data,Maj):\n",
    "    \"\"\"\n",
    "    raGC: float- the ra of the galatic center\n",
    "    decGC: float the dec of the galatic center\n",
    "    raA, array- A array of the ra's of the objects that you want to know the distances from the GC\n",
    "    decGC array- A array of the dec's of the objects that you want to know the distacnes from the GC\n",
    "    returns: array- the distances of each object away from the center of the galaxy\n",
    "    \n",
    "    This fucntion takes the inputs for the ra of the GC, the Dec of the GC, the ra's of an array of objects and the\n",
    "    declinations of an array of objects and returns an array that is those objects distances from the center of the\n",
    "    galaxy\n",
    "    \"\"\"\n",
    "    import math\n",
    "    decA=Data['dec']\n",
    "    raA=Data['ra']\n",
    "    Maj=Maj/3600\n",
    "    S_Maj=Maj/2\n",
    "    area_T=((S_Maj)**2)*math.pi\n",
    "    G_Data= Ned.query_object(Gname)\n",
    "    raGC=float(G_Data['RA(deg)'])\n",
    "    decGC=float(G_Data['DEC(deg)'])\n",
    "    area_A=[((((decGC-dec)**2)+((raGC-ra)**2)))*(math.pi) for dec,ra in zip(decA,raA)]\n",
    "    plt.vlines(area_T,0,10,color='red')\n",
    "    plt.hist(area_A)\n",
    "    plt.plot()\n",
    "    plt.show()"
   ]
  },
  {
   "cell_type": "code",
   "execution_count": null,
   "metadata": {
    "collapsed": true
   },
   "outputs": [],
   "source": [
    "Area_GC_R_N('NGC 474',data_NGC474,Maj_NGC474)"
   ]
  },
  {
   "cell_type": "code",
   "execution_count": null,
   "metadata": {
    "collapsed": false
   },
   "outputs": [],
   "source": [
    "Area_GC_R_N('NGC 1316',data_NGC1316,Maj_NGC1316)"
   ]
  },
  {
   "cell_type": "code",
   "execution_count": null,
   "metadata": {
    "collapsed": true
   },
   "outputs": [],
   "source": [
    "Area_GC_R_N('NGC 2403',data_NGC2403,Maj_NGC2403)"
   ]
  },
  {
   "cell_type": "code",
   "execution_count": null,
   "metadata": {
    "collapsed": true
   },
   "outputs": [],
   "source": [
    "Area_GC_R_N('NGC 3077',data_NGC3077,Maj_NGC3077)"
   ]
  },
  {
   "cell_type": "code",
   "execution_count": null,
   "metadata": {
    "collapsed": true
   },
   "outputs": [],
   "source": [
    "Area_GC_R_N('NGC 4631',data_NGC4631,Maj_NGC4631)"
   ]
  },
  {
   "cell_type": "code",
   "execution_count": null,
   "metadata": {
    "collapsed": true
   },
   "outputs": [],
   "source": [
    "Area_GC_R_N('NGC 4651',data,Maj_NGC4651)"
   ]
  },
  {
   "cell_type": "code",
   "execution_count": null,
   "metadata": {
    "collapsed": true
   },
   "outputs": [],
   "source": [
    "Area_GC_R_N('NGC 7331',data_NGC7331,Maj_NGC7331)"
   ]
  },
  {
   "cell_type": "code",
   "execution_count": 110,
   "metadata": {
    "collapsed": true
   },
   "outputs": [],
   "source": [
    "def Area_GC_R_N_B(Gname,Data,Maj,B):\n",
    "    \"\"\"\n",
    "    raGC: float- the ra of the galatic center\n",
    "    decGC: float the dec of the galatic center\n",
    "    raA, array- A array of the ra's of the objects that you want to know the distances from the GC\n",
    "    decGC array- A array of the dec's of the objects that you want to know the distacnes from the GC\n",
    "    returns: array- the distances of each object away from the center of the galaxy\n",
    "    \n",
    "    This fucntion takes the inputs for the ra of the GC, the Dec of the GC, the ra's of an array of objects and the\n",
    "    declinations of an array of objects and returns an array that is those objects distances from the center of the\n",
    "    galaxy\n",
    "    \"\"\"\n",
    "    import math\n",
    "    decA=Data['dec']\n",
    "    raA=Data['ra']\n",
    "    Maj=Maj/3600\n",
    "    S_Maj=Maj/2\n",
    "    area_T=((S_Maj)**2)*math.pi\n",
    "    G_Data= Ned.query_object(Gname)\n",
    "    raGC=float(G_Data['RA(deg)'])\n",
    "    decGC=float(G_Data['DEC(deg)'])\n",
    "    area_A=[((((decGC-dec)**2)+((raGC-ra)**2)))*(math.pi) for dec,ra in zip(decA,raA)]\n",
    "    plt.vlines(area_T,0,10,color='red')\n",
    "    plt.hist(area_A,B)\n",
    "    plt.plot()\n",
    "    plt.show()"
   ]
  },
  {
   "cell_type": "code",
   "execution_count": null,
   "metadata": {
    "collapsed": false
   },
   "outputs": [],
   "source": [
    "Area_GC_R_N_B('NGC 474',data_NGC474,Maj_NGC474,25)"
   ]
  },
  {
   "cell_type": "code",
   "execution_count": null,
   "metadata": {
    "collapsed": false
   },
   "outputs": [],
   "source": [
    "Area_GC_R_N_B('NGC 2403',data_NGC2403,Maj_NGC2403,50)"
   ]
  },
  {
   "cell_type": "code",
   "execution_count": null,
   "metadata": {
    "collapsed": false
   },
   "outputs": [],
   "source": [
    "Area_GC_R_N_B('NGC 4631',data_NGC4631,Maj_NGC4631,400)"
   ]
  },
  {
   "cell_type": "code",
   "execution_count": null,
   "metadata": {
    "collapsed": true
   },
   "outputs": [],
   "source": [
    "Area_GC_R_N_B('NGC 7331',data_NGC7331,Maj_NGC7331,5000)"
   ]
  },
  {
   "cell_type": "code",
   "execution_count": 111,
   "metadata": {
    "collapsed": true
   },
   "outputs": [],
   "source": [
    "def Area_GC_R_N_B_M(Gname,Data,B):\n",
    "    import math\n",
    "    decA=Data['dec']\n",
    "    raA=Data['ra']\n",
    "    G_Data= Ned.query_object(Gname)\n",
    "    raGC=float(G_Data['RA(deg)'])\n",
    "    decGC=float(G_Data['DEC(deg)'])\n",
    "    Dia_A= Ned.get_table(Gname,table='diameters')\n",
    "    Dia_A2=Dia_A[6]\n",
    "    Maj=Dia_A2[18]\n",
    "    Min=Dia_A2[25]\n",
    "    Min=Min/3600\n",
    "    Maj=Maj/3600\n",
    "    S_Maj=Maj/2\n",
    "    area_T=((S_Maj)**2)*math.pi\n",
    "    area_A=[((((decGC-dec)**2)+((raGC-ra)**2)))*(math.pi) for dec,ra in zip(decA,raA)]\n",
    "    plt.vlines(area_T,0,10,color='red')\n",
    "    plt.hist(area_A,B)\n",
    "    plt.plot()\n",
    "    plt.show()\n",
    "    print Maj\n",
    "    print Min\n",
    "    print Dia_A"
   ]
  },
  {
   "cell_type": "code",
   "execution_count": null,
   "metadata": {
    "collapsed": false
   },
   "outputs": [],
   "source": [
    "Area_GC_R_N_B_M('NGC 474',data_NGC474,25)"
   ]
  },
  {
   "cell_type": "code",
   "execution_count": null,
   "metadata": {
    "collapsed": false
   },
   "outputs": [],
   "source": [
    "Area_GC_R_N_B('NGC 474',data_NGC474,Maj_NGC474,25)"
   ]
  },
  {
   "cell_type": "code",
   "execution_count": null,
   "metadata": {
    "collapsed": false
   },
   "outputs": [],
   "source": [
    "Area_GC_R_N_B('NGC 474',data_NGC474,Maj_NGC474,25)"
   ]
  },
  {
   "cell_type": "code",
   "execution_count": 112,
   "metadata": {
    "collapsed": false
   },
   "outputs": [
    {
     "ename": "IOError",
     "evalue": "[Errno 2] No such file or directory: '/home/asantini/Desktop/Dropbox/galaxies/ngc253.fits'",
     "output_type": "error",
     "traceback": [
      "\u001b[0;31m---------------------------------------------------------------------------\u001b[0m",
      "\u001b[0;31mIOError\u001b[0m                                   Traceback (most recent call last)",
      "\u001b[0;32m<ipython-input-112-b3888528c76b>\u001b[0m in \u001b[0;36m<module>\u001b[0;34m()\u001b[0m\n\u001b[0;32m----> 1\u001b[0;31m \u001b[0mdata_NGC253\u001b[0m\u001b[0;34m=\u001b[0m\u001b[0mascii\u001b[0m\u001b[0;34m.\u001b[0m\u001b[0mread\u001b[0m\u001b[0;34m(\u001b[0m\u001b[0;34m'/home/asantini/Desktop/Dropbox/galaxies/ngc253.fits'\u001b[0m\u001b[0;34m)\u001b[0m\u001b[0;34m\u001b[0m\u001b[0m\n\u001b[0m",
      "\u001b[0;32m/soft/anaconda/lib/python2.7/site-packages/astropy/io/ascii/ui.py\u001b[0m in \u001b[0;36mread\u001b[0;34m(table, guess, **kwargs)\u001b[0m\n\u001b[1;32m    309\u001b[0m         \u001b[0;31m# through below to the non-guess way so that any problems result in a\u001b[0m\u001b[0;34m\u001b[0m\u001b[0;34m\u001b[0m\u001b[0m\n\u001b[1;32m    310\u001b[0m         \u001b[0;31m# more useful traceback.\u001b[0m\u001b[0;34m\u001b[0m\u001b[0;34m\u001b[0m\u001b[0m\n\u001b[0;32m--> 311\u001b[0;31m         \u001b[0mdat\u001b[0m \u001b[0;34m=\u001b[0m \u001b[0m_guess\u001b[0m\u001b[0;34m(\u001b[0m\u001b[0mtable\u001b[0m\u001b[0;34m,\u001b[0m \u001b[0mnew_kwargs\u001b[0m\u001b[0;34m,\u001b[0m \u001b[0mformat\u001b[0m\u001b[0;34m,\u001b[0m \u001b[0mfast_reader_param\u001b[0m\u001b[0;34m)\u001b[0m\u001b[0;34m\u001b[0m\u001b[0m\n\u001b[0m\u001b[1;32m    312\u001b[0m         \u001b[0;32mif\u001b[0m \u001b[0mdat\u001b[0m \u001b[0;32mis\u001b[0m \u001b[0mNone\u001b[0m\u001b[0;34m:\u001b[0m\u001b[0;34m\u001b[0m\u001b[0m\n\u001b[1;32m    313\u001b[0m             \u001b[0mguess\u001b[0m \u001b[0;34m=\u001b[0m \u001b[0mFalse\u001b[0m\u001b[0;34m\u001b[0m\u001b[0m\n",
      "\u001b[0;32m/soft/anaconda/lib/python2.7/site-packages/astropy/io/ascii/ui.py\u001b[0m in \u001b[0;36m_guess\u001b[0;34m(table, read_kwargs, format, fast_reader)\u001b[0m\n\u001b[1;32m    447\u001b[0m             \u001b[0mreader\u001b[0m \u001b[0;34m=\u001b[0m \u001b[0mget_reader\u001b[0m\u001b[0;34m(\u001b[0m\u001b[0;34m**\u001b[0m\u001b[0mguess_kwargs\u001b[0m\u001b[0;34m)\u001b[0m\u001b[0;34m\u001b[0m\u001b[0m\n\u001b[1;32m    448\u001b[0m             \u001b[0mreader\u001b[0m\u001b[0;34m.\u001b[0m\u001b[0mguessing\u001b[0m \u001b[0;34m=\u001b[0m \u001b[0mTrue\u001b[0m\u001b[0;34m\u001b[0m\u001b[0m\n\u001b[0;32m--> 449\u001b[0;31m             \u001b[0mdat\u001b[0m \u001b[0;34m=\u001b[0m \u001b[0mreader\u001b[0m\u001b[0;34m.\u001b[0m\u001b[0mread\u001b[0m\u001b[0;34m(\u001b[0m\u001b[0mtable\u001b[0m\u001b[0;34m)\u001b[0m\u001b[0;34m\u001b[0m\u001b[0m\n\u001b[0m\u001b[1;32m    450\u001b[0m             _read_trace.append({'kwargs': guess_kwargs, 'status': 'Success (guessing)',\n\u001b[1;32m    451\u001b[0m                                 'dt': '{0:.3f} ms'.format((time.time() - t0) * 1000)})\n",
      "\u001b[0;32m/soft/anaconda/lib/python2.7/site-packages/astropy/io/ascii/core.py\u001b[0m in \u001b[0;36mread\u001b[0;34m(self, table)\u001b[0m\n\u001b[1;32m   1128\u001b[0m \u001b[0;34m\u001b[0m\u001b[0m\n\u001b[1;32m   1129\u001b[0m         \u001b[0;31m# Get a list of the lines (rows) in the table\u001b[0m\u001b[0;34m\u001b[0m\u001b[0;34m\u001b[0m\u001b[0m\n\u001b[0;32m-> 1130\u001b[0;31m         \u001b[0mself\u001b[0m\u001b[0;34m.\u001b[0m\u001b[0mlines\u001b[0m \u001b[0;34m=\u001b[0m \u001b[0mself\u001b[0m\u001b[0;34m.\u001b[0m\u001b[0minputter\u001b[0m\u001b[0;34m.\u001b[0m\u001b[0mget_lines\u001b[0m\u001b[0;34m(\u001b[0m\u001b[0mtable\u001b[0m\u001b[0;34m)\u001b[0m\u001b[0;34m\u001b[0m\u001b[0m\n\u001b[0m\u001b[1;32m   1131\u001b[0m \u001b[0;34m\u001b[0m\u001b[0m\n\u001b[1;32m   1132\u001b[0m         \u001b[0;31m# Set self.data.data_lines to a slice of lines contain the data rows\u001b[0m\u001b[0;34m\u001b[0m\u001b[0;34m\u001b[0m\u001b[0m\n",
      "\u001b[0;32m/soft/anaconda/lib/python2.7/site-packages/astropy/io/ascii/core.py\u001b[0m in \u001b[0;36mget_lines\u001b[0;34m(self, table)\u001b[0m\n\u001b[1;32m    278\u001b[0m             if (hasattr(table, 'read') or\n\u001b[1;32m    279\u001b[0m                     ('\\n' not in table + '' and '\\r' not in table + '')):\n\u001b[0;32m--> 280\u001b[0;31m                 \u001b[0;32mwith\u001b[0m \u001b[0mget_readable_fileobj\u001b[0m\u001b[0;34m(\u001b[0m\u001b[0mtable\u001b[0m\u001b[0;34m)\u001b[0m \u001b[0;32mas\u001b[0m \u001b[0mfile_obj\u001b[0m\u001b[0;34m:\u001b[0m\u001b[0;34m\u001b[0m\u001b[0m\n\u001b[0m\u001b[1;32m    281\u001b[0m                     \u001b[0mtable\u001b[0m \u001b[0;34m=\u001b[0m \u001b[0mfile_obj\u001b[0m\u001b[0;34m.\u001b[0m\u001b[0mread\u001b[0m\u001b[0;34m(\u001b[0m\u001b[0;34m)\u001b[0m\u001b[0;34m\u001b[0m\u001b[0m\n\u001b[1;32m    282\u001b[0m             \u001b[0mlines\u001b[0m \u001b[0;34m=\u001b[0m \u001b[0mtable\u001b[0m\u001b[0;34m.\u001b[0m\u001b[0msplitlines\u001b[0m\u001b[0;34m(\u001b[0m\u001b[0;34m)\u001b[0m\u001b[0;34m\u001b[0m\u001b[0m\n",
      "\u001b[0;32m/soft/anaconda/lib/python2.7/contextlib.pyc\u001b[0m in \u001b[0;36m__enter__\u001b[0;34m(self)\u001b[0m\n\u001b[1;32m     15\u001b[0m     \u001b[0;32mdef\u001b[0m \u001b[0m__enter__\u001b[0m\u001b[0;34m(\u001b[0m\u001b[0mself\u001b[0m\u001b[0;34m)\u001b[0m\u001b[0;34m:\u001b[0m\u001b[0;34m\u001b[0m\u001b[0m\n\u001b[1;32m     16\u001b[0m         \u001b[0;32mtry\u001b[0m\u001b[0;34m:\u001b[0m\u001b[0;34m\u001b[0m\u001b[0m\n\u001b[0;32m---> 17\u001b[0;31m             \u001b[0;32mreturn\u001b[0m \u001b[0mself\u001b[0m\u001b[0;34m.\u001b[0m\u001b[0mgen\u001b[0m\u001b[0;34m.\u001b[0m\u001b[0mnext\u001b[0m\u001b[0;34m(\u001b[0m\u001b[0;34m)\u001b[0m\u001b[0;34m\u001b[0m\u001b[0m\n\u001b[0m\u001b[1;32m     18\u001b[0m         \u001b[0;32mexcept\u001b[0m \u001b[0mStopIteration\u001b[0m\u001b[0;34m:\u001b[0m\u001b[0;34m\u001b[0m\u001b[0m\n\u001b[1;32m     19\u001b[0m             \u001b[0;32mraise\u001b[0m \u001b[0mRuntimeError\u001b[0m\u001b[0;34m(\u001b[0m\u001b[0;34m\"generator didn't yield\"\u001b[0m\u001b[0;34m)\u001b[0m\u001b[0;34m\u001b[0m\u001b[0m\n",
      "\u001b[0;32m/soft/anaconda/lib/python2.7/site-packages/astropy/utils/data.py\u001b[0m in \u001b[0;36mget_readable_fileobj\u001b[0;34m(name_or_obj, encoding, cache, show_progress, remote_timeout)\u001b[0m\n\u001b[1;32m    200\u001b[0m             \u001b[0mfileobj\u001b[0m \u001b[0;34m=\u001b[0m \u001b[0mio\u001b[0m\u001b[0;34m.\u001b[0m\u001b[0mFileIO\u001b[0m\u001b[0;34m(\u001b[0m\u001b[0mname_or_obj\u001b[0m\u001b[0;34m,\u001b[0m \u001b[0;34m'r'\u001b[0m\u001b[0;34m)\u001b[0m\u001b[0;34m\u001b[0m\u001b[0m\n\u001b[1;32m    201\u001b[0m         \u001b[0;32melif\u001b[0m \u001b[0msix\u001b[0m\u001b[0;34m.\u001b[0m\u001b[0mPY2\u001b[0m\u001b[0;34m:\u001b[0m\u001b[0;34m\u001b[0m\u001b[0m\n\u001b[0;32m--> 202\u001b[0;31m             \u001b[0mfileobj\u001b[0m \u001b[0;34m=\u001b[0m \u001b[0mopen\u001b[0m\u001b[0;34m(\u001b[0m\u001b[0mname_or_obj\u001b[0m\u001b[0;34m,\u001b[0m \u001b[0;34m'rb'\u001b[0m\u001b[0;34m)\u001b[0m\u001b[0;34m\u001b[0m\u001b[0m\n\u001b[0m\u001b[1;32m    203\u001b[0m         \u001b[0;32mif\u001b[0m \u001b[0mis_url\u001b[0m \u001b[0;32mand\u001b[0m \u001b[0;32mnot\u001b[0m \u001b[0mcache\u001b[0m\u001b[0;34m:\u001b[0m\u001b[0;34m\u001b[0m\u001b[0m\n\u001b[1;32m    204\u001b[0m             \u001b[0mdelete_fds\u001b[0m\u001b[0;34m.\u001b[0m\u001b[0mappend\u001b[0m\u001b[0;34m(\u001b[0m\u001b[0mfileobj\u001b[0m\u001b[0;34m)\u001b[0m\u001b[0;34m\u001b[0m\u001b[0m\n",
      "\u001b[0;31mIOError\u001b[0m: [Errno 2] No such file or directory: '/home/asantini/Desktop/Dropbox/galaxies/ngc253.fits'"
     ]
    }
   ],
   "source": [
    "data_NGC253=ascii.read('/home/asantini/Desktop/Dropbox/galaxies/ngc253.fits')"
   ]
  },
  {
   "cell_type": "code",
   "execution_count": 113,
   "metadata": {
    "collapsed": false
   },
   "outputs": [
    {
     "ename": "NameError",
     "evalue": "name 'fits' is not defined",
     "output_type": "error",
     "traceback": [
      "\u001b[0;31m---------------------------------------------------------------------------\u001b[0m",
      "\u001b[0;31mNameError\u001b[0m                                 Traceback (most recent call last)",
      "\u001b[0;32m<ipython-input-113-60df85179399>\u001b[0m in \u001b[0;36m<module>\u001b[0;34m()\u001b[0m\n\u001b[0;32m----> 1\u001b[0;31m \u001b[0mdata_NGC253\u001b[0m \u001b[0;34m=\u001b[0m \u001b[0mfits\u001b[0m\u001b[0;34m.\u001b[0m\u001b[0mopen\u001b[0m\u001b[0;34m(\u001b[0m\u001b[0;34m'/home/asantini/Desktop/Dropbox/galaxies/ngc253.fits'\u001b[0m\u001b[0;34m)\u001b[0m\u001b[0;34m\u001b[0m\u001b[0m\n\u001b[0m",
      "\u001b[0;31mNameError\u001b[0m: name 'fits' is not defined"
     ]
    }
   ],
   "source": [
    "data_NGC253 = fits.open('/home/asantini/Desktop/Dropbox/galaxies/ngc253.fits')"
   ]
  },
  {
   "cell_type": "code",
   "execution_count": 114,
   "metadata": {
    "collapsed": true
   },
   "outputs": [],
   "source": [
    "from astropy.io import fits"
   ]
  },
  {
   "cell_type": "code",
   "execution_count": 115,
   "metadata": {
    "collapsed": false
   },
   "outputs": [],
   "source": [
    "data_NGC253 = fits.open('ngc253.fits')"
   ]
  },
  {
   "cell_type": "code",
   "execution_count": 116,
   "metadata": {
    "collapsed": false
   },
   "outputs": [
    {
     "name": "stdout",
     "output_type": "stream",
     "text": [
      "Astronomy 211 Python Homework 1.ipynb  Untitled2-Copy1.ipynb\r\n",
      "Astronomy Homework 5 Question 4.ipynb  factorial.txt\r\n",
      "Galaxy Histograms.ipynb                mybithday.txt\r\n",
      "Homework 4 Output.txt                  ngc253.fits\r\n",
      "Untitled.ipynb                         untitled.txt\r\n",
      "Untitled1.ipynb\r\n"
     ]
    }
   ],
   "source": [
    "ls"
   ]
  },
  {
   "cell_type": "code",
   "execution_count": 117,
   "metadata": {
    "collapsed": false
   },
   "outputs": [],
   "source": [
    "data_NGC253 = fits.open('ngc253.fits')"
   ]
  },
  {
   "cell_type": "code",
   "execution_count": 118,
   "metadata": {
    "collapsed": false
   },
   "outputs": [
    {
     "name": "stdout",
     "output_type": "stream",
     "text": [
      "[<astropy.io.fits.hdu.image.PrimaryHDU object at 0x114179110>, <astropy.io.fits.hdu.table.BinTableHDU object at 0x112c12850>]\n"
     ]
    }
   ],
   "source": [
    "print data_NGC253"
   ]
  },
  {
   "cell_type": "code",
   "execution_count": 119,
   "metadata": {
    "collapsed": true
   },
   "outputs": [],
   "source": [
    "data_NGCtest=data_NGC253[1]"
   ]
  },
  {
   "cell_type": "code",
   "execution_count": 120,
   "metadata": {
    "collapsed": false
   },
   "outputs": [
    {
     "name": "stdout",
     "output_type": "stream",
     "text": [
      "<astropy.io.fits.hdu.table.BinTableHDU object at 0x112c12850>\n"
     ]
    }
   ],
   "source": [
    "print data_NGCtest"
   ]
  },
  {
   "cell_type": "code",
   "execution_count": 121,
   "metadata": {
    "collapsed": false
   },
   "outputs": [
    {
     "name": "stdout",
     "output_type": "stream",
     "text": [
      "ColDefs(\n",
      "    name = 'RA'; format = '1D'; unit = 'deg'\n",
      "    name = 'DEC'; format = '1D'; unit = 'deg'\n",
      "    name = 'RA_ERR'; format = '1D'; unit = 'deg'\n",
      "    name = 'DEC_ERR'; format = '1D'; unit = 'deg'\n",
      "    name = 'X'; format = '1D'; unit = 'pixel'\n",
      "    name = 'Y'; format = '1D'; unit = 'pixel'\n",
      "    name = 'X_ERR'; format = '1D'; unit = 'pixel'\n",
      "    name = 'Y_ERR'; format = '1D'; unit = 'pixel'\n",
      "    name = 'NPIXSOU'; format = '1J'; unit = 'pixel'\n",
      "    name = 'NET_COUNTS'; format = '1E'; unit = 'count'\n",
      "    name = 'NET_COUNTS_ERR'; format = '1E'; unit = 'count'\n",
      "    name = 'BKG_COUNTS'; format = '1E'; unit = 'count'\n",
      "    name = 'BKG_COUNTS_ERR'; format = '1E'; unit = 'count'\n",
      "    name = 'NET_RATE'; format = '1E'\n",
      "    name = 'NET_RATE_ERR'; format = '1E'\n",
      "    name = 'BKG_RATE'; format = '1E'\n",
      "    name = 'BKG_RATE_ERR'; format = '1E'\n",
      "    name = 'EXPTIME'; format = '1E'\n",
      "    name = 'EXPTIME_ERR'; format = '1E'\n",
      "    name = 'SRC_SIGNIFICANCE'; format = '1E'\n",
      "    name = 'PSF_SIZE'; format = '1E'; unit = 'pixel'\n",
      "    name = 'MULTI_CORREL_MAX'; format = '1J'\n",
      "    name = 'SHAPE'; format = '10A'\n",
      "    name = 'R'; format = '2E'; unit = 'pixel'\n",
      "    name = 'ROTANG'; format = '1E'; unit = 'deg'\n",
      "    name = 'PSFRATIO'; format = '1E'\n",
      "    name = 'COMPONENT'; format = '1J'\n",
      ")\n"
     ]
    }
   ],
   "source": [
    "print data_NGC253[1].columns"
   ]
  },
  {
   "cell_type": "code",
   "execution_count": 122,
   "metadata": {
    "collapsed": false
   },
   "outputs": [
    {
     "name": "stdout",
     "output_type": "stream",
     "text": [
      "Filename: ngc253.fits\n",
      "No.    Name         Type      Cards   Dimensions   Format\n",
      "0    PRIMARY     PrimaryHDU       7   ()              \n",
      "1    SRCLIST     BinTableHDU    234   190R x 27C   [1D, 1D, 1D, 1D, 1D, 1D, 1D, 1D, 1J, 1E, 1E, 1E, 1E, 1E, 1E, 1E, 1E, 1E, 1E, 1E, 1E, 1J, 10A, 2E, 1E, 1E, 1J]   \n"
     ]
    }
   ],
   "source": [
    "data_NGC253.info()"
   ]
  },
  {
   "cell_type": "code",
   "execution_count": 123,
   "metadata": {
    "collapsed": false
   },
   "outputs": [
    {
     "name": "stdout",
     "output_type": "stream",
     "text": [
      "[ (11.81591263633215, -25.362788794105587, 2.7007302929149546e-05, 3.2971169741102813e-05, 4609.3215547703185, 3544.8727915194345, 0.17870702958589391, 0.24114945760584305, 672, 285.75409, 18.00001, 38.245895, 0.019147504, 285.75409, 18.00001, 38.245895, 0.019147504, 1.0, 0.0, 39.443359, 4.4801288, 0, 'ellipse', array([ 12.21567917,   8.95737362], dtype=float32), 82.722672, 0.7782827, 1)\n",
      " (11.777817810316755, -25.357444216106515, 6.1301113193579226e-05, 6.8122914342438889e-05, 4861.231671554252, 3583.7976539589445, 0.40576060589319241, 0.49811124174539145, 2173, 295.97299, 18.466196, 45.027008, 0.020285247, 295.97299, 18.466196, 45.027008, 0.020285247, 1.0, 0.0, 38.112015, 6.2701011, 0, 'ellipse', array([ 27.59539986,  22.47762108], dtype=float32), 89.26828, 1.3240297, 2)\n",
      " (11.84418912573727, -25.347452751432797, 2.7736427430369304e-06, 4.2411612923842767e-06, 4422.4037540453073, 3657.1765695792883, 0.018352541034801106, 0.031026174458474998, 418, 7865.3154, 88.910072, 39.684483, 0.0193709, 7865.3154, 88.910072, 39.684483, 0.0193709, 1.0, 0.0, 1068.8296, 2.5469847, 0, 'ellipse', array([ 8.23605156,  4.74457359], dtype=float32), 81.871216, 0.81810778, 3)\n",
      " (11.936145619725067, -25.346056865506633, 4.5178926960431909e-05, 4.3207717492776965e-05, 3814.3243243243242, 3667.4054054054054, 0.29865550696331411, 0.31624961583702316, 122, 34.474831, 6.0827646, 2.5251696, 0.0048210071, 34.474831, 6.0827646, 2.5251696, 0.0048210071, 1.0, 0.0, 12.269745, 2.3024392, 0, 'ellipse', array([ 6.78231955,  4.12391996], dtype=float32), 48.568954, 0.76565796, 4)\n",
      " (11.800067286888019, -25.343869709837861, 3.8866669951787003e-05, 4.2543618189228027e-05, 4714.1846153846154, 3683.2384615384617, 0.25723663677763398, 0.3111159381824109, 660, 223.72345, 16.124527, 36.276558, 0.018595818, 223.72345, 16.124527, 36.276558, 0.018595818, 1.0, 0.0, 31.577301, 4.3954072, 0, 'ellipse', array([ 15.04986763,  12.44334412], dtype=float32), 90.344467, 1.0378021, 5)\n",
      " (11.896247250128273, -25.337180400409849, 2.5202169616989067e-05, 3.9420194543282605e-05, 4078.1599999999999, 3732.4000000000001, 0.16666133324815746, 0.28844410203737425, 56, 21.452925, 5.0000033, 3.5470753, 0.0057452829, 21.452925, 5.0000033, 3.5470753, 0.0057452829, 1.0, 0.0, 6.9812403, 1.2430531, 0, 'ellipse', array([ 4.42482853,  2.32174373], dtype=float32), 75.755104, 0.85949713, 6)\n",
      " (11.904768110326643, -25.333823254645996, 3.2921628415394366e-05, 3.5243470271950628e-05, 4021.8076923076924, 3756.9615384615386, 0.2177020300168806, 0.25789756022550137, 64, 22.003445, 5.0990233, 3.9965551, 0.0061264997, 22.003445, 5.0990233, 3.9965551, 0.0061264997, 1.0, 0.0, 6.9222412, 1.1783494, 0, 'ellipse', array([ 4.2054348 ,  2.99468946], dtype=float32), 60.436859, 1.0038897, 7)\n",
      " (11.90995038387166, -25.329341681980768, 2.7543334471857861e-05, 3.138100946031841e-05, 3987.53125, 3789.75, 0.18213348791960016, 0.22963966338602404, 70, 29.490191, 5.8309555, 4.5098095, 0.0064937803, 29.490191, 5.8309555, 4.5098095, 0.0064937803, 1.0, 0.0, 8.9542551, 1.0931396, 0, 'ellipse', array([ 3.90611124,  3.07953   ], dtype=float32), 83.66938, 1.0575907, 8)\n",
      " (11.855020769550711, -25.329245738014254, 4.9700108721850711e-06, 7.9717880687724119e-06, 4350.8160493827163, 3790.4222222222224, 0.03288661241367663, 0.058320757674664492, 141, 809.39636, 28.722816, 15.603649, 0.012177482, 809.39636, 28.722816, 15.603649, 0.012177482, 1.0, 0.0, 160.46829, 1.5040281, 0, 'ellipse', array([ 4.9980216 ,  2.77483058], dtype=float32), 84.066498, 0.82535368, 9)\n",
      " (11.862335705343902, -25.328696154033214, 3.0241212169102027e-05, 3.0724515514890527e-05, 4302.4385964912281, 3794.4561403508769, 0.2000577692188017, 0.22476714182630531, 81, 48.426071, 7.54984, 8.5739269, 0.0089664115, 48.426071, 7.54984, 8.5739269, 0.0089664115, 1.0, 0.0, 11.946699, 1.2718616, 0, 'ellipse', array([ 5.20512962,  4.3994751 ], dtype=float32), 67.050377, 1.2541662, 10)\n",
      " (11.894401830459548, -25.327072066007862, 2.9305621415787186e-05, 3.1786092808516742e-05, 4090.363636363636, 3806.363636363636, 0.19381883305049996, 0.2325825996608728, 68, 21.15597, 5.1961575, 5.8440294, 0.0073595713, 21.15597, 5.1961575, 5.8440294, 0.0073595713, 1.0, 0.0, 5.9295564, 0.95311821, 0, 'ellipse', array([ 2.45830703,  1.74100733], dtype=float32), 61.452621, 0.72351968, 11)\n",
      " (11.842928514283068, -25.32664966709288, 1.5968890737738661e-05, 1.9048252642761554e-05, 4430.797101449275, 3809.391304347826, 0.10566740142985509, 0.13933769481536729, 93, 80.498039, 9.5393972, 10.501962, 0.010044634, 80.498039, 9.5393972, 10.501962, 0.010044634, 1.0, 0.0, 18.486622, 1.8151083, 0, 'ellipse', array([ 3.49831033,  2.59853292], dtype=float32), 100.47906, 0.55369353, 12)\n",
      " (11.869190414338904, -25.32316616317874, 1.1365789896800038e-05, 1.3970407596985979e-05, 4257.1111111111113, 3834.9288888888887, 0.075191570609604241, 0.10220890949312889, 107, 212.41379, 15.000004, 12.586214, 0.010800113, 212.41379, 15.000004, 12.586214, 0.010800113, 1.0, 0.0, 45.661942, 1.0416377, 0, 'ellipse', array([ 4.72000837,  3.21323824], dtype=float32), 107.857, 1.2462492, 13)\n",
      " (11.881885240790965, -25.322687240573806, 5.856808363624566e-05, 4.8201867372199558e-05, 4173.1481481481478, 3838.4444444444443, 0.38739998471646686, 0.35266313227384671, 69, 18.905319, 5.1961598, 8.0946808, 0.0086797755, 18.905319, 5.1961598, 8.0946808, 0.0086797755, 1.0, 0.0, 4.7572508, 0.88271254, 0, 'ellipse', array([ 6.93453503,  4.31318712], dtype=float32), 38.883923, 2.0652244, 14)\n",
      " (11.888280900560362, -25.321951507553901, 1.4859386322285673e-05, 1.9967837776135866e-05, 4130.8474576271183, 3843.8305084745762, 0.098286261559223931, 0.14610236810767674, 59, 52.407681, 7.6811495, 6.5923195, 0.0077312156, 52.407681, 7.6811495, 6.5923195, 0.0077312156, 1.0, 0.0, 14.127311, 0.82207197, 0, 'ellipse', array([ 3.39669704,  2.21961331], dtype=float32), 79.910812, 1.1133609, 15)\n",
      " (11.857071047581817, -25.320942449141516, 3.6587182584923994e-05, 4.4490849990808101e-05, 4337.272727272727, 3851.181818181818, 0.24207964489050937, 0.32547716805856908, 45, 16.37607, 4.6904216, 5.6239305, 0.0073290016, 16.37607, 4.6904216, 5.6239305, 0.0073290016, 1.0, 0.0, 4.6461358, 1.1996157, 0, 'ellipse', array([ 4.69321871,  3.24841666], dtype=float32), 107.61772, 1.0849453, 16)\n",
      " (11.860296777474334, -25.320654320180935, 8.0301514930880558e-06, 1.121116448388193e-05, 4315.9379562043796, 3853.2956204379561, 0.053132626724618603, 0.08201979222940281, 121, 277.81351, 17.117247, 15.186492, 0.011998081, 277.81351, 17.117247, 15.186492, 0.011998081, 1.0, 0.0, 55.651146, 1.1320791, 0, 'ellipse', array([ 4.07300758,  2.63850451], dtype=float32), 89.995003, 0.96524704, 17)\n",
      " (11.827092090310849, -25.320553901320224, 7.321193915998947e-06, 1.0548760815964897e-05, 4535.5579514824803, 3853.9487870619946, 0.048461484679137357, 0.077162118079741049, 212, 792.67676, 28.478065, 18.323271, 0.013120743, 792.67676, 28.478065, 18.323271, 0.013120743, 1.0, 0.0, 147.68643, 2.250386, 0, 'ellipse', array([ 6.33081532,  3.9198122 ], dtype=float32), 96.517967, 0.73787737, 18)\n",
      " (11.896022243272515, -25.319941040771695, 5.6136303232534601e-06, 5.7441330305607607e-06, 4079.6456211812629, 3858.5417515274949, 0.037128599235984439, 0.042030960676584073, 146, 500.5134, 22.737637, 16.486597, 0.012113874, 500.5134, 22.737637, 16.486597, 0.012113874, 1.0, 0.0, 97.155037, 0.76336551, 0, 'ellipse', array([ 2.85798883,  2.39379382], dtype=float32), 67.351723, 1.1421413, 19)\n",
      " (11.847916429013701, -25.31790463332581, 6.1516757092761054e-06, 9.0552587117542771e-06, 4397.8298245614033, 3873.3912280701752, 0.040711318540161301, 0.066244186266430916, 191, 577.38739, 24.515306, 23.612612, 0.014880359, 577.38739, 24.515306, 23.612612, 0.014880359, 1.0, 0.0, 97.271225, 1.3602859, 0, 'ellipse', array([ 4.74468279,  2.91589546], dtype=float32), 90.132439, 0.91146106, 20)\n",
      " (11.87711214882874, -25.31726568124493, 2.6035568817306398e-05, 2.8185378916134596e-05, 4204.7222222222226, 3878.1111111111113, 0.1722321781271603, 0.20621349491921137, 60, 18.500441, 5.1961598, 8.4995604, 0.0087849749, 18.500441, 5.1961598, 8.4995604, 0.0087849749, 1.0, 0.0, 4.5778337, 0.79452461, 0, 'ellipse', array([ 3.04738235,  1.55174291], dtype=float32), 53.815041, 0.91231483, 21)\n",
      " (11.887443344509499, -25.312883113587311, 8.1332537877898403e-06, 9.4577977343135444e-06, 4136.3900709219861, 3910.1843971631206, 0.053800812284862332, 0.06920098923092155, 77, 140.953, 12.449904, 14.046996, 0.011496067, 140.953, 12.449904, 14.046996, 0.011496067, 1.0, 0.0, 29.082344, 0.65940517, 0, 'ellipse', array([ 2.47664714,  1.90166569], dtype=float32), 81.359253, 1.0970478, 22)\n",
      " (11.841522895834663, -25.312616889608584, 3.995534290979208e-05, 5.2300437879182482e-05, 4440.1333333333332, 3912.0666666666666, 0.26443510721219354, 0.38258380829620364, 39, 10.4155, 3.8729889, 4.5845003, 0.0066187875, 10.4155, 3.8729889, 4.5845003, 0.0066187875, 1.0, 0.0, 3.1470058, 1.4756273, 0, 'ellipse', array([ 4.45871639,  3.05284262], dtype=float32), 83.876831, 0.83341092, 23)\n",
      " (11.902318135477952, -25.312391877179873, 6.5061541937083689e-05, 4.6249354575422785e-05, 4038.0, 3913.7777777777778, 0.43033148291215184, 0.33843827560167483, 39, 11.814153, 4.2426476, 6.1858473, 0.0076342323, 11.814153, 4.2426476, 6.1858473, 0.0076342323, 1.0, 0.0, 3.2513635, 0.64951038, 0, 'ellipse', array([ 6.4607935 ,  2.61030746], dtype=float32), 144.56331, 2.1075671, 24)\n",
      " (11.884487413738585, -25.311502450791707, 2.6584989310407536e-05, 2.3799157595760789e-05, 4155.9428571428571, 3920.2857142857142, 0.17586106363432918, 0.1741284000631822, 42, 27.12999, 5.9160857, 7.8700113, 0.0084699644, 27.12999, 5.9160857, 7.8700113, 0.0084699644, 1.0, 0.0, 6.892807, 0.65353161, 0, 'ellipse', array([ 3.21163774,  2.99640512], dtype=float32), 40.890396, 1.5822521, 25)\n",
      " (11.873765229968683, -25.3108206830425, 6.0238429300696339e-05, 5.5378783503812201e-05, 4226.8666666666668, 3925.2666666666664, 0.39851576482578821, 0.40515200622530756, 31, 9.7645226, 3.8729897, 5.2354774, 0.0069934987, 9.7645226, 3.8729897, 5.2354774, 0.0069934987, 1.0, 0.0, 2.8331513, 0.73527509, 0, 'ellipse', array([ 6.19063187,  2.29697156], dtype=float32), 45.624191, 1.70952, 26)\n",
      " (11.899162023833181, -25.308210412188767, 4.1992598191598063e-05, 5.2479266461347152e-05, 4058.875, 3944.375, 0.27775607554121962, 0.38400642898250226, 29, 9.5895309, 4.0000076, 6.4104686, 0.0077782199, 9.5895309, 4.0000076, 6.4104686, 0.0077782199, 1.0, 0.0, 2.6087537, 0.58730125, 0, 'ellipse', array([ 5.51890326,  1.37311864], dtype=float32), 55.377037, 1.5624216, 27)\n",
      " (11.879093509379759, -25.307299744939023, 5.2560588379435558e-06, 5.1100273168458443e-06, 4191.6247334754798, 3951.0341151385928, 0.034772000640259648, 0.037386718028301402, 129, 485.32547, 22.649509, 27.674528, 0.015964901, 485.32547, 22.649509, 27.674528, 0.015964901, 1.0, 0.0, 76.652939, 0.64068133, 0, 'ellipse', array([ 2.50652266,  2.17276216], dtype=float32), 60.329735, 1.2141675, 28)\n",
      " (11.823473288269673, -25.307433220776947, 6.7078693444244664e-06, 1.0049100474418537e-05, 4559.5432595573438, 3949.9416498993965, 0.04440986001463898, 0.073506872470261442, 263, 1011.0558, 32.186958, 24.944187, 0.015597019, 1011.0558, 32.186958, 24.944187, 0.015597019, 1.0, 0.0, 166.59503, 2.1488934, 0, 'ellipse', array([ 7.00550318,  4.11146069], dtype=float32), 98.720215, 0.83249497, 29)\n",
      " (11.866739276348774, -25.305629443784703, 5.864034203995061e-06, 6.5083870453008785e-06, 4273.3484536082469, 3963.2432989690724, 0.038799683139586705, 0.047614614802114374, 122, 482.38309, 22.449949, 21.616924, 0.014193049, 482.38309, 22.449949, 21.616924, 0.014193049, 1.0, 0.0, 84.194809, 0.76071376, 0, 'ellipse', array([ 3.14637828,  2.56272483], dtype=float32), 88.121674, 1.2442679, 30)\n",
      " (11.889750493044239, -25.304614138736358, 6.2773220150802445e-06, 6.3938959797837924e-06, 4121.1310344827589, 3970.6896551724139, 0.041525702204125992, 0.046783454588876339, 65, 287.37885, 17.549934, 20.621161, 0.01413669, 287.37885, 17.549934, 20.621161, 0.01413669, 1.0, 0.0, 51.108696, 0.5573197, 0, 'ellipse', array([ 2.39032245,  2.12119913], dtype=float32), 91.768639, 1.3467697, 31)\n",
      " (11.864186678088551, -25.304643241996388, 2.9672153658566458e-05, 3.1068068732764687e-05, 4290.2352941176468, 3970.4558823529414, 0.19633057605642534, 0.22728446530709334, 89, 53.180504, 8.2462196, 14.819495, 0.01180385, 53.180504, 8.2462196, 14.819495, 0.01180385, 1.0, 0.0, 10.752616, 0.78594434, 0, 'ellipse', array([ 6.08767414,  4.25969744], dtype=float32), 57.552078, 2.1597428, 32)\n",
      " (11.967274892937677, -25.304014331424675, 4.8563466638285036e-05, 3.2608265929212621e-05, 3608.3055555555557, 3974.9444444444443, 0.32111746544160269, 0.23877401774461759, 175, 48.921696, 7.2801127, 4.0783062, 0.0062252013, 48.921696, 7.2801127, 4.0783062, 0.0062252013, 1.0, 0.0, 15.300745, 2.1869361, 0, 'ellipse', array([ 6.12876129,  3.78420782], dtype=float32), 25.00296, 0.73403454, 33)\n",
      " (11.954716060371791, -25.30304165364544, 4.0529889348661641e-05, 2.5943389474036849e-05, 3691.3793103448274, 3982.1034482758623, 0.26802175959983288, 0.1899522049720872, 127, 54.302803, 7.6157756, 3.6971972, 0.0058536595, 54.302803, 7.6157756, 3.6971972, 0.0058536595, 1.0, 0.0, 17.467236, 1.619809, 0, 'ellipse', array([ 6.37805748,  3.95642805], dtype=float32), 20.887981, 1.0337387, 34)\n",
      " (11.823205150300774, -25.303159048797504, 2.3472731136564562e-06, 3.6960089424553644e-06, 4561.333333333333, 3981.2151688973868, 0.01554155172289029, 0.027035843539579218, 457, 7869.1748, 88.977531, 47.825039, 0.021361619, 7869.1748, 88.977531, 47.825039, 0.021361619, 1.0, 0.0, 987.40155, 2.1077294, 0, 'ellipse', array([ 7.28083706,  3.95615005], dtype=float32), 101.17315, 0.84877175, 35)\n",
      " (11.851441353097854, -25.301907883633962, 4.3965338894835782e-05, 3.1686340346226416e-05, 4374.5517241379312, 3990.4482758620688, 0.29090946365522541, 0.23176009007147513, 51, 22.800617, 5.3851705, 6.1993828, 0.007652604, 22.800617, 5.3851705, 6.1993828, 0.007652604, 1.0, 0.0, 6.2705069, 1.0428642, 0, 'ellipse', array([ 4.90122032,  3.47635674], dtype=float32), 156.26469, 1.319366, 36)\n",
      " (11.856419048953933, -25.30120855888935, 3.7440097822027951e-05, 2.5322105926761651e-05, 4341.625, 3995.5749999999998, 0.24772401478276151, 0.18521524640300413, 109, 65.376762, 8.9442797, 14.623239, 0.011583932, 65.376762, 8.9442797, 14.623239, 0.011583932, 1.0, 0.0, 13.285604, 0.90941727, 0, 'ellipse', array([ 6.80516624,  4.75115347], dtype=float32), 17.413698, 2.0841763, 37)\n",
      " (11.86464165708966, -25.299735524700658, 1.6847271483655391e-05, 1.439719629559022e-05, 4287.2333333333336, 4006.3666666666668, 0.11147163731584442, 0.105321377661312, 69, 60.096657, 8.4852877, 11.903341, 0.01057242, 60.096657, 8.4852877, 11.903341, 0.01057242, 1.0, 0.0, 13.187324, 0.73932219, 0, 'ellipse', array([ 2.67655396,  2.3528831 ], dtype=float32), 31.874878, 1.1314443, 38)\n",
      " (11.870600721345028, -25.297969514344839, 4.8178380964714052e-05, 3.7760474864256821e-05, 4247.8148148148148, 4019.2962962962965, 0.31876406141600455, 0.27624175221080804, 46, 17.231464, 5.1961613, 9.7685356, 0.0095373094, 17.231464, 5.1961613, 9.7685356, 0.0095373094, 1.0, 0.0, 4.0609317, 0.6458112, 0, 'ellipse', array([ 5.5656147 ,  3.50121427], dtype=float32), 144.58795, 2.2784479, 39)\n",
      " (11.87873559567752, -25.29769215086128, 2.2279739946284849e-05, 2.1043424546007827e-05, 4194.0, 4021.333333333333, 0.14740554623767821, 0.15396007178424043, 33, 34.334793, 6.7082114, 10.665209, 0.010038587, 34.334793, 6.7082114, 10.665209, 0.010038587, 1.0, 0.0, 7.8414283, 0.56670666, 0, 'ellipse', array([ 3.12500978,  2.93842053], dtype=float32), 67.5, 1.7823914, 40)\n",
      " (11.89054115902877, -25.297293573180539, 2.4887954710450799e-05, 2.3921761041378886e-05, 4115.9019607843138, 4024.2549019607841, 0.16464728640403337, 0.17503366459277458, 122, 100.67703, 12.288226, 50.322971, 0.022456147, 100.67703, 12.288226, 50.322971, 0.022456147, 1.0, 0.0, 12.358263, 0.50523901, 0, 'ellipse', array([ 4.12293434,  3.08327794], dtype=float32), 128.75856, 2.352293, 41)\n",
      " (11.887360857277731, -25.296923570797489, 1.6974338219455376e-06, 1.5835136792929916e-06, 4136.9410078455039, 4026.9615268557636, 0.011229742509385687, 0.01158617373494053, 319, 6653.9819, 82.395393, 135.0181, 0.036702797, 6653.9819, 82.395393, 135.0181, 0.036702797, 1.0, 0.0, 525.92511, 0.51459593, 0, 'ellipse', array([ 2.83205223,  2.7403779 ], dtype=float32), 80.867126, 1.8045473, 42)\n",
      " (11.837286076825865, -25.296419379896758, 1.0575344326468894e-05, 1.3789804992114796e-05, 4468.2076502732243, 4030.5737704918033, 0.070002813152314047, 0.10087172651174114, 126, 183.67134, 13.928391, 10.328665, 0.0097290082, 183.67134, 13.928391, 10.328665, 0.0097290082, 1.0, 0.0, 42.433388, 1.4071904, 0, 'ellipse', array([ 4.22974586,  2.63412166], dtype=float32), 108.75635, 0.79068029, 43)\n",
      " (11.884701874668183, -25.295550785788194, 8.8368940023286768e-06, 8.3839555315989855e-06, 4154.5319148936169, 4037.005319148936, 0.058464321764404303, 0.061342191372659727, 56, 177.8632, 14.212679, 24.136787, 0.015487646, 177.8632, 14.212679, 24.136787, 0.015487646, 1.0, 0.0, 29.699972, 0.51989394, 0, 'ellipse', array([ 2.5960381,  2.3260994], dtype=float32), 58.022255, 1.5755553, 44)\n",
      " (11.878990343284112, -25.295535495327481, 1.0318597558622855e-05, 1.0377104104009049e-05, 4192.3164556962029, 4037.1139240506327, 0.068270703051894088, 0.075922657269984484, 47, 80.403038, 9.8488655, 16.596964, 0.012634171, 80.403038, 9.8488655, 16.596964, 0.012634171, 1.0, 0.0, 15.566994, 0.55487496, 0, 'ellipse', array([ 2.02971697,  1.81453085], dtype=float32), 80.750938, 1.1528785, 45)\n",
      " (11.800132448350812, -25.295501192711651, 4.100314429500429e-05, 5.1305060882356202e-05, 4714.0, 4037.155172413793, 0.27151751289693493, 0.37521434550944832, 423, 71.719025, 10.000013, 28.280973, 0.016369035, 71.719025, 10.000013, 28.280973, 0.016369035, 1.0, 0.0, 11.227078, 3.1396317, 0, 'ellipse', array([ 8.58162403,  6.1910162 ], dtype=float32), 93.787285, 0.77386594, 46)\n",
      " (11.905204820608375, -25.294433798030184, 5.7115321254741502e-06, 4.9490442357580378e-06, 4018.8943488943487, 4045.1769041769039, 0.037781716130666609, 0.036215824432474619, 69, 404.86377, 20.566967, 18.136225, 0.013077698, 404.86377, 20.566967, 18.136225, 0.013077698, 1.0, 0.0, 75.73452, 0.49281898, 0, 'ellipse', array([ 2.30252504,  2.17520046], dtype=float32), 20.943281, 1.5137116, 47)\n",
      " (11.874497118471288, -25.29403599864688, 1.2514174406064171e-05, 1.0368435106045126e-05, 4222.0428571428574, 4048.0821428571426, 0.08279906479674537, 0.075854882456042105, 99, 253.2695, 16.733208, 26.730497, 0.015806865, 253.2695, 16.733208, 26.730497, 0.015806865, 1.0, 0.0, 40.573856, 0.58575755, 0, 'ellipse', array([ 4.15648031,  3.80788493], dtype=float32), 0.0094762314, 2.2639437, 48)\n",
      " (11.876454048962735, -25.293910795648102, 5.783650368229587e-05, 2.9250005287195791e-05, 4209.0967741935483, 4049.0, 0.38264874199376209, 0.21397579292624869, 42, 17.994743, 5.5677752, 13.005257, 0.011088746, 17.994743, 5.5677752, 13.005257, 0.011088746, 1.0, 0.0, 3.8215072, 0.56336129, 0, 'ellipse', array([ 6.56010103,  3.25429964], dtype=float32), 15.036551, 2.7338569, 49)\n",
      " (11.866599787015828, -25.292881366565727, 6.5428688229118848e-05, 2.947121579310874e-05, 4274.289855072464, 4056.521739130435, 0.43289515399919765, 0.21555621175230044, 117, 47.686211, 8.3066359, 21.313787, 0.014093379, 47.686211, 8.3066359, 21.313787, 0.014093379, 1.0, 0.0, 8.3700981, 0.66670036, 0, 'ellipse', array([ 10.86972427,   5.20363569], dtype=float32), 8.0287294, 3.7601984, 50)\n",
      " (11.861957850298975, -25.29240509060601, 3.0521793089377525e-05, 6.3270855303443341e-05, 4305.0, 4060.0, 0.20203050890995655, 0.46291004988597706, 31, 9.1633549, 3.7416635, 4.8366451, 0.0067231436, 9.1633549, 3.7416635, 4.8366451, 0.0067231436, 1.0, 0.0, 2.7242634, 0.74537098, 0, 'ellipse', array([ 5.21237612,  2.23024511], dtype=float32), 84.99601, 1.5247563, 51)\n",
      " (11.884140196030202, -25.291012706612065, 1.666874263328566e-05, 1.4457823674263182e-05, 4158.25, 4070.2105263157891, 0.11028325404095085, 0.10578127336930265, 36, 58.468262, 8.7178078, 17.53174, 0.013268714, 58.468262, 8.7178078, 17.53174, 0.013268714, 1.0, 0.0, 11.082528, 0.50337356, 0, 'ellipse', array([ 3.0171032 ,  2.62105083], dtype=float32), 143.66747, 1.8621777, 52)\n",
      " (11.888611089906986, -25.290589992741047, 9.2566850149466973e-06, 8.0114096299155335e-06, 4128.6718913270633, 4073.3051201671892, 0.061242058711286518, 0.058617848257654259, 253, 1915.9028, 45.442287, 149.09721, 0.038959436, 1915.9028, 45.442287, 149.09721, 0.038959436, 1.0, 0.0, 144.69243, 0.48231289, 0, 'ellipse', array([ 5.69514084,  5.42806768], dtype=float32), 12.112585, 3.8425961, 53)\n",
      " (11.857086835584866, -25.290580452069374, 3.348512210266108e-05, 5.0300227993460567e-05, 4337.2285714285717, 4073.3428571428572, 0.22162927046701952, 0.3679903662068682, 64, 26.692347, 5.9160862, 8.3076525, 0.008752102, 26.692347, 5.9160862, 8.3076525, 0.008752102, 1.0, 0.0, 6.6571207, 0.82484943, 0, 'ellipse', array([ 6.74882507,  3.54715919], dtype=float32), 72.775993, 1.9772359, 54)\n",
      " (11.893346779765141, -25.289967545619195, 1.610748499203396e-05, 1.4334863038811818e-05, 4097.3417475728156, 4077.8601941747575, 0.1065637795272778, 0.10488913448443782, 264, 811.3999, 30.870722, 141.60008, 0.03782947, 811.3999, 30.870722, 141.60008, 0.03782947, 1.0, 0.0, 62.748158, 0.46754205, 0, 'ellipse', array([ 7.29427528,  7.10076666], dtype=float32), 153.05063, 5.1309967, 55)\n",
      " (11.878589467570414, -25.289955079484184, 1.3946601320924401e-05, 1.4129780868898933e-05, 4194.9729729729734, 4077.9459459459458, 0.092279222073557321, 0.10337839827116113, 50, 93.355453, 10.535662, 17.644545, 0.012999904, 93.355453, 10.535662, 17.644545, 0.012999904, 1.0, 0.0, 17.651251, 0.53853196, 0, 'ellipse', array([ 3.38918281,  2.7743082 ], dtype=float32), 117.53928, 1.8979821, 56)\n",
      " (11.889269076891416, -25.289485636678879, 5.0762413188465416e-06, 4.1862318695962131e-06, 4124.3190661478602, 4081.3859214715249, 0.033584419234102825, 0.030629911479081784, 532, 9012.3027, 96.654037, 329.69763, 0.058043551, 9012.3027, 96.654037, 329.69763, 0.058043551, 1.0, 0.0, 469.92386, 0.47652018, 1, 'ellipse', array([ 5.39059687,  4.84864569], dtype=float32), 14.777878, 3.5762355, 57)\n",
      " (11.883538158863168, -25.289322227185014, 5.6773426315714914e-06, 5.019386293270145e-06, 4162.2338308457711, 4082.5796019900499, 0.037563004545518197, 0.036724433888593921, 93, 404.60764, 21.166021, 43.392372, 0.020695511, 404.60764, 21.166021, 43.392372, 0.020695511, 1.0, 0.0, 52.931591, 0.50164407, 0, 'ellipse', array([ 2.27507758,  2.19282556], dtype=float32), 153.91426, 1.4841685, 58)\n",
      " (11.887661807848326, -25.288833230877497, 4.3189989913372528e-06, 3.685429508237803e-06, 4134.9526627218938, 4086.1592253899944, 0.028575008337611507, 0.026965318801558169, 331, 4894.8989, 71.330231, 193.1013, 0.044207826, 4894.8989, 71.330231, 193.1013, 0.044207826, 1.0, 0.0, 328.00928, 0.48107228, 0, 'ellipse', array([ 3.77609706,  3.4011848 ], dtype=float32), 28.114256, 2.4831624, 59)\n",
      " (11.888421392311409, -25.288299659538563, 4.7821254050006701e-06, 4.2034673093382935e-06, 4129.9275147928993, 4090.0636094674555, 0.031639111381991825, 0.030755885565667995, 126, 3245.8442, 57.636799, 76.155762, 0.027754921, 3245.8442, 57.636799, 76.155762, 0.027754921, 1.0, 0.0, 332.23944, 0.47737214, 0, 'ellipse', array([ 2.58559561,  2.27156043], dtype=float32), 141.34898, 1.6922485, 60)\n",
      " (11.876406087475827, -25.287127945344945, 8.9399919644961301e-06, 9.2369567923356044e-06, 4209.4203821656047, 4098.6305732484079, 0.059155063667276409, 0.067579962541458372, 63, 154.43385, 13.152953, 18.566145, 0.013280501, 154.43385, 13.152953, 18.566145, 0.013280501, 1.0, 0.0, 28.625296, 0.55069274, 0, 'ellipse', array([ 2.55681086,  2.20465493], dtype=float32), 77.063423, 1.4371066, 61)\n",
      " (11.888249419544247, -25.286460874292622, 1.4984436337073248e-05, 1.3374132016963358e-05, 4131.0657894736842, 4103.5180921052633, 0.099140507872107264, 0.097855635955056641, 315, 1274.4161, 37.855007, 158.58386, 0.039620176, 1274.4161, 37.855007, 158.58386, 0.039620176, 1.0, 0.0, 93.550568, 0.47428343, 0, 'ellipse', array([ 7.7048831 ,  6.84226274], dtype=float32), 41.831566, 5.1029782, 62)\n",
      " (11.868410662335457, -25.285896853951787, 1.7863778143833997e-05, 1.3675526879808331e-05, 4262.3193277310929, 4107.6302521008402, 0.11820562068078289, 0.10004274647326383, 81, 107.53084, 11.090543, 15.469161, 0.012053207, 107.53084, 11.090543, 15.469161, 0.012053207, 1.0, 0.0, 21.389374, 0.64177519, 0, 'ellipse', array([ 4.24906731,  2.76210141], dtype=float32), 147.01529, 1.7793543, 63)\n",
      " (11.893737341953042, -25.285834558437692, 1.2690269397097609e-05, 1.0334141990142598e-05, 4094.7578125, 4108.1015625, 0.083958821512169379, 0.075615834082782385, 67, 120.44441, 12.288218, 30.55559, 0.017336406, 120.44441, 12.288218, 30.55559, 0.017336406, 1.0, 0.0, 18.262602, 0.46066117, 0, 'ellipse', array([ 2.85417628,  2.56145954], dtype=float32), 172.67369, 1.9565065, 64)\n",
      " (11.884031374069179, -25.285118018257656, 2.361944433104668e-05, 2.3199384511229937e-05, 4158.9729729729734, 4113.3423423423428, 0.15627941168986581, 0.16974058203231834, 90, 125.86868, 12.688591, 35.131325, 0.018387161, 125.86868, 12.688591, 35.131325, 0.018387161, 1.0, 0.0, 18.006701, 0.49468338, 0, 'ellipse', array([ 5.40607691,  4.89450884], dtype=float32), 73.152763, 3.4661479, 65)\n",
      " (11.895781232845763, -25.284931950352043, 4.5020888695290751e-05, 3.2908435674272596e-05, 4081.2352941176468, 4114.7058823529414, 0.29785685400111106, 0.24079850541784253, 78, 36.967659, 8.2462292, 31.032341, 0.017304657, 36.967659, 8.2462292, 31.032341, 0.017304657, 1.0, 0.0, 5.5694461, 0.4574236, 0, 'ellipse', array([ 8.15265274,  4.82869196], dtype=float32), 32.078098, 4.5721912, 66)\n",
      " (11.874609259373594, -25.284937699257242, 4.8943863983907931e-05, 4.0147256548550558e-05, 4221.3103448275861, 4114.6551724137935, 0.32385698857797252, 0.29371482715032471, 49, 16.619776, 5.3851757, 12.380223, 0.010836776, 16.619776, 5.3851757, 12.380223, 0.010836776, 1.0, 0.0, 3.5945804, 0.5674144, 0, 'ellipse', array([ 6.58667326,  2.55075312], dtype=float32), 138.78523, 2.4079399, 67)\n",
      " (11.887511484924259, -25.284673086221673, 1.6345150303465061e-05, 1.5251678497918419e-05, 4135.9485294117649, 4116.5992647058829, 0.10814570624461339, 0.1115928349627211, 197, 507.24069, 24.310509, 83.759308, 0.028521273, 507.24069, 24.310509, 83.759308, 0.028521273, 1.0, 0.0, 49.764145, 0.47706756, 0, 'ellipse', array([ 5.99103451,  4.81901693], dtype=float32), 49.207932, 3.7543001, 68)\n",
      " (11.89276939025658, -25.284323774395983, 5.147391330950768e-06, 5.1625644417185867e-06, 4101.161849710983, 4119.1560693641622, 0.034055822139634984, 0.037774682272356586, 88, 501.14059, 23.216381, 37.859394, 0.019266715, 501.14059, 23.216381, 37.859394, 0.019266715, 1.0, 0.0, 69.471199, 0.46195653, 0, 'ellipse', array([ 2.63630867,  2.26549602], dtype=float32), 113.32454, 1.7634267, 69)\n",
      " (11.888797918136245, -25.284247656857723, 2.2959621452045553e-05, 2.0810686692129821e-05, 4127.4375, 4119.7124999999996, 0.15190843253367348, 0.1522680100188154, 120, 167.28502, 14.798666, 51.714981, 0.022427937, 167.28502, 14.798666, 51.714981, 0.022427937, 1.0, 0.0, 20.293522, 0.47354209, 0, 'ellipse', array([ 4.43835592,  3.68909645], dtype=float32), 45.370483, 2.848336, 70)\n",
      " (11.864670312940143, -25.283188588641995, 2.4036060096932488e-05, 3.3126803216987355e-05, 4287.0697674418607, 4127.4418604651164, 0.1590784331829127, 0.24235710543780442, 58, 34.158146, 6.5574446, 8.841855, 0.0090791164, 34.158146, 6.5574446, 8.841855, 0.0090791164, 1.0, 0.0, 8.3372087, 0.69837564, 0, 'ellipse', array([ 4.77025986,  3.1255765 ], dtype=float32), 87.527222, 1.8430017, 71)\n",
      " (11.896019298889707, -25.283240817053859, 2.5511437145908644e-05, 2.6735979833603096e-05, 4079.6599999999999, 4127.0799999999999, 0.16878388548684597, 0.19563230817038857, 109, 64.052826, 10.14891, 38.94717, 0.019204559, 64.052826, 10.14891, 38.94717, 0.019204559, 1.0, 0.0, 8.7736759, 0.45793927, 0, 'ellipse', array([ 4.29589605,  3.40400934], dtype=float32), 115.06261, 2.7835119, 72)\n",
      " (11.870305640724046, -25.283064487077866, 5.9472363185264498e-05, 5.7938025690873474e-05, 4249.7857142857138, 4128.3571428571431, 0.39355226072802907, 0.4238687568476962, 26, 8.8804083, 3.7416637, 5.1195917, 0.0069238506, 8.8804083, 3.7416637, 5.1195917, 0.0069238506, 1.0, 0.0, 2.5945439, 0.62277633, 0, 'ellipse', array([ 5.77448225,  2.96789789], dtype=float32), 131.34439, 2.215785, 73)\n",
      " (11.877919532950241, -25.279730612153504, 4.0711935337611749e-05, 3.6297853483802101e-05, 4199.4137931034484, 4152.7586206896549, 0.26939506539474678, 0.26556279239321157, 50, 16.851343, 5.3851757, 12.148656, 0.010726835, 16.851343, 5.3851757, 12.148656, 0.010726835, 1.0, 0.0, 3.6701415, 0.54555196, 0, 'ellipse', array([ 4.80201006,  3.780092  ], dtype=float32), 136.74892, 2.6031868, 74)\n",
      " (11.869836633605251, -25.279283648404164, 2.7369633874840815e-05, 2.8042973916342362e-05, 4252.8936170212764, 4156.0212765957449, 0.18112380573620612, 0.2051605863352961, 51, 38.07658, 6.8556609, 8.923419, 0.009147861, 38.07658, 6.8556609, 8.923419, 0.009147861, 1.0, 0.0, 9.2638969, 0.63809919, 0, 'ellipse', array([ 4.23570681,  3.70676303], dtype=float32), 100.39509, 2.0699074, 75)\n",
      " (11.855767156087268, -25.278737728127275, 1.2492660307117376e-05, 1.3257662995869168e-05, 4345.9836065573772, 4159.9945355191257, 0.082683720761451696, 0.09698407324776781, 106, 172.67149, 13.527753, 10.328506, 0.0097023472, 172.67149, 13.527753, 10.328506, 0.0097023472, 1.0, 0.0, 39.892326, 0.89365363, 0, 'ellipse', array([ 3.95179915,  3.336869  ], dtype=float32), 99.620544, 1.3544923, 76)\n",
      " (11.922374658627119, -25.277590957927185, 3.778003189403023e-05, 2.6773731580220783e-05, 3905.2799999999997, 4168.3999999999996, 0.2499279896292137, 0.19595917942297092, 46, 20.775932, 5.0000038, 4.2240672, 0.006245214, 20.775932, 5.0000038, 4.2240672, 0.006245214, 1.0, 0.0, 6.4316564, 0.64715856, 0, 'ellipse', array([ 3.97419047,  2.62682509], dtype=float32), 153.75037, 1.6642094, 77)\n",
      " (11.901361028592778, -25.277403154193568, 6.8534678430154372e-06, 6.3678239925479829e-06, 4044.3157894736842, 4169.793233082707, 0.045343034616053046, 0.046596499989391305, 92, 269.37079, 16.970568, 18.629198, 0.01313352, 269.37079, 16.970568, 18.629198, 0.01313352, 1.0, 0.0, 49.863342, 0.4811447, 0, 'ellipse', array([ 2.28462696,  2.2136972 ], dtype=float32), 74.923576, 1.5580084, 78)\n",
      " (11.878847517816494, -25.277303695146003, 3.7502228115826597e-05, 3.8647773735078772e-05, 4193.2758620689656, 4170.5172413793098, 0.24816353648748191, 0.28276152082344197, 55, 16.614922, 5.3851757, 12.385079, 0.010810059, 16.614922, 5.3851757, 12.385079, 0.010810059, 1.0, 0.0, 3.5930097, 0.54675752, 0, 'ellipse', array([ 4.57098341,  4.00597668], dtype=float32), 94.190308, 2.6088133, 79)\n",
      " (11.914461888746123, -25.276169570875659, 2.2178305192355197e-05, 1.7820626293740816e-05, 3957.6329113924048, 4178.8101265822788, 0.14672323865488579, 0.13041777664238907, 109, 80.704559, 9.6953659, 13.295441, 0.011068627, 80.704559, 9.6953659, 13.295441, 0.011068627, 1.0, 0.0, 16.998575, 0.55957609, 0, 'ellipse', array([ 3.94662619,  3.43854594], dtype=float32), 164.45015, 2.1944213, 80)\n",
      " (11.954359172126667, -25.274643518772542, 5.0682400758006452e-05, 2.3882168598277076e-05, 3693.6458333333335, 4189.895833333333, 0.33526728471315437, 0.17489973152623861, 113, 44.515869, 6.9282055, 3.4841306, 0.0056567909, 44.515869, 6.9282055, 3.4841306, 0.0056567909, 1.0, 0.0, 14.558611, 1.5650181, 0, 'ellipse', array([ 6.96967554,  3.63277602], dtype=float32), 1.2846205, 1.0717289, 81)\n",
      " (11.944466737959344, -25.273633011853629, 3.3311831593607621e-05, 2.7652815855816471e-05, 3759.0975609756097, 4197.3170731707314, 0.22033687379143885, 0.20242146379951009, 84, 39.539593, 6.5574408, 3.4604061, 0.0056548761, 39.539593, 6.5574408, 3.4604061, 0.0056548761, 1.0, 0.0, 12.955614, 1.1772051, 0, 'ellipse', array([ 4.24706507,  3.87251163], dtype=float32), 11.61254, 1.1483319, 82)\n",
      " (11.910023072555168, -25.273388072011986, 3.142089009067206e-05, 3.6011325331486432e-05, 3987.0, 4199.166666666667, 0.20786985482072851, 0.26352313834740926, 39, 12.847678, 4.2426462, 5.1523218, 0.0069362512, 12.847678, 4.2426462, 5.1523218, 0.0069362512, 1.0, 0.0, 3.7462583, 0.54485714, 0, 'ellipse', array([ 3.63587475,  2.24285865], dtype=float32), 119.36813, 1.7470345, 83)\n",
      " (11.913527450486448, -25.273282292647629, 2.0555574856473413e-05, 1.704715695538539e-05, 3963.8125, 4199.9375, 0.13599136863695094, 0.12475562048985012, 60, 56.828655, 8.0000038, 7.1713457, 0.0081645669, 56.828655, 8.0000038, 7.1713457, 0.0081645669, 1.0, 0.0, 14.898106, 0.57090008, 0, 'ellipse', array([ 3.37032056,  2.87369585], dtype=float32), 28.515299, 1.8170824, 84)\n",
      " (11.985444545769109, -25.272096451147469, 3.6037131794230959e-05, 2.3242837528414384e-05, 3487.9526315789471, 4208.4157894736845, 0.23833295015720068, 0.17023306750888878, 573, 208.30937, 14.8324, 11.690625, 0.010466498, 208.30937, 14.8324, 11.690625, 0.010466498, 1.0, 0.0, 46.013592, 3.0792613, 0, 'ellipse', array([ 10.11462307,   6.66193962], dtype=float32), 17.38833, 0.8886022, 85)\n",
      " (11.899683460402878, -25.271766386294285, 1.3879877776901139e-05, 1.1138029755386469e-05, 4055.4134615384614, 4211.038461538461, 0.091836313377370971, 0.081502029373950791, 85, 104.17671, 10.862786, 13.823286, 0.011444787, 104.17671, 10.862786, 13.823286, 0.011444787, 1.0, 0.0, 21.624655, 0.50750917, 0, 'ellipse', array([ 2.92847705,  2.35278916], dtype=float32), 151.73413, 1.7240397, 86)\n",
      " (11.879503958376159, -25.270793094370926, 2.8284162375769029e-05, 2.9659209875632087e-05, 4188.9375, 4218.15625, 0.1871741961049338, 0.21699913144220773, 42, 25.117691, 5.6568599, 6.882309, 0.0079595922, 25.117691, 5.6568599, 6.882309, 0.0079595922, 1.0, 0.0, 6.6755085, 0.59627587, 0, 'ellipse', array([ 3.97414756,  2.80312657], dtype=float32), 122.02962, 1.865842, 87)\n",
      " (11.885876857225011, -25.270478501345274, 3.7320128136286712e-05, 5.8752277375617723e-05, 4146.7692307692305, 4220.461538461539, 0.24696611544095504, 0.42988074051936565, 29, 7.9828439, 3.6055577, 5.0171561, 0.0068223001, 7.9828439, 3.6055577, 5.0171561, 0.0068223001, 1.0, 0.0, 2.3468666, 0.55262673, 0, 'ellipse', array([ 4.95819521,  2.04296279], dtype=float32), 67.605713, 1.9197245, 88)\n",
      " (11.912893669850853, -25.26758640008245, 4.4278652238105565e-05, 7.3612821303470355e-05, 3968.0, 4241.6153846153848, 0.29291435022560108, 0.53867282414285, 79, 17.753876, 5.0990272, 8.2461233, 0.0088318251, 17.753876, 5.0990272, 8.2461233, 0.0088318251, 1.0, 0.0, 4.4391861, 0.62255615, 0, 'ellipse', array([ 8.51619911,  3.93073535], dtype=float32), 106.54107, 3.0978475, 89)\n",
      " (11.887512577404888, -25.266017267534703, 3.277621452468793e-05, 3.1571181764888934e-05, 4135.9473684210525, 4253.105263157895, 0.21689355636681285, 0.23099902204285172, 79, 45.741512, 7.5498414, 11.258488, 0.01021327, 45.741512, 7.5498414, 11.258488, 0.01021327, 1.0, 0.0, 10.243711, 0.59508061, 0, 'ellipse', array([ 5.23721933,  4.90698051], dtype=float32), 97.328377, 2.8396218, 90)\n",
      " (11.849433585555285, -25.265415634933415, 2.0419713912644966e-05, 1.911164737222748e-05, 4387.9210526315792, 4257.4605263157891, 0.13516579269435169, 0.13979703019595036, 128, 76.190254, 9.2736235, 9.8097448, 0.0096522449, 76.190254, 9.2736235, 9.8097448, 0.0096522449, 1.0, 0.0, 17.928907, 1.2107203, 0, 'ellipse', array([ 4.42785454,  2.50163865], dtype=float32), 133.12923, 0.91631305, 91)\n",
      " (11.906404714293529, -25.261730766352461, 5.4197031126079764e-05, 5.885427659180209e-05, 4010.9333333333334, 4284.4666666666672, 0.35859809340354332, 0.43067561050156655, 45, 10.737293, 3.8729885, 4.2627063, 0.0062942859, 10.737293, 3.8729885, 4.2627063, 0.0062942859, 1.0, 0.0, 3.3150973, 0.66864502, 0, 'ellipse', array([ 5.05639696,  4.10278559], dtype=float32), 75.778534, 2.270613, 92)\n",
      " (11.909540981932167, -25.261571132453899, 1.964303607060458e-05, 1.8730957517476554e-05, 3990.1794871794873, 4285.6324786324785, 0.12996815392125427, 0.1370713638370944, 103, 107.71728, 10.816658, 9.2827225, 0.0093167312, 107.71728, 10.816658, 9.2827225, 0.0093167312, 1.0, 0.0, 25.847303, 0.69287938, 0, 'ellipse', array([ 4.62838984,  4.01862478], dtype=float32), 56.130222, 2.0747931, 93)\n",
      " (11.928971613669521, -25.261326196803747, 8.5264134174423134e-05, 5.7314501979988108e-05, 3861.5999999999999, 4287.3999999999996, 0.56411188803485857, 0.41952353926899377, 60, 11.024447, 3.8729882, 3.9755528, 0.0061109294, 11.024447, 3.8729882, 3.9755528, 0.0061109294, 1.0, 0.0, 3.4735427, 0.97997206, 0, 'ellipse', array([ 7.60047674,  2.9921155 ], dtype=float32), 33.419201, 1.6220889, 94)\n",
      " (11.890038493097597, -25.259488818009547, 4.4516998940480335e-05, 4.9485591556930331e-05, 4119.234375, 4300.875, 0.29459833246346534, 0.36208219457057567, 135, 49.559063, 8.0000086, 14.440936, 0.011606701, 49.559063, 8.0000086, 14.440936, 0.011606701, 1.0, 0.0, 10.119143, 0.68877685, 0, 'ellipse', array([ 8.73931694,  7.00927639], dtype=float32), 79.766052, 3.7876997, 95)\n",
      " (11.929376305690969, -25.258167490068825, 1.2474728883660191e-05, 8.1016105788478399e-06, 3858.9158249158249, 4310.5117845117848, 0.082535934129282396, 0.059302168636349961, 136, 304.39694, 17.691809, 8.6030493, 0.0090054478, 304.39694, 17.691809, 8.6030493, 0.0090054478, 1.0, 0.0, 75.006477, 1.0530932, 0, 'ellipse', array([ 4.3179121 ,  2.99413753], dtype=float32), 167.75513, 1.1381112, 96)\n",
      " (11.919378398584254, -25.257976694492569, 7.6163018896124868e-05, 3.1390113434781597e-05, 3925.0769230769229, 4311.9230769230771, 0.50396696686129872, 0.2297809211704589, 38, 10.025558, 3.6055551, 2.974442, 0.0052913837, 10.025558, 3.6055551, 2.974442, 0.0052913837, 1.0, 0.0, 3.4218307, 0.88197309, 0, 'ellipse', array([ 5.56567955,  2.21736336], dtype=float32), 12.706503, 1.327703, 97)\n",
      " (11.929621748957327, -25.256845004895315, 1.7741882540889264e-05, 1.4281676499194873e-05, 3857.288990825688, 4320.1880733944954, 0.11738043430523248, 0.10453171220979129, 131, 209.89384, 14.764826, 8.1061592, 0.0087567028, 209.89384, 14.764826, 8.1061592, 0.0087567028, 1.0, 0.0, 52.79113, 1.0877285, 0, 'ellipse', array([ 5.68548393,  4.01827955], dtype=float32), 145.11497, 1.464745, 98)\n",
      " (11.89678134684039, -25.253310312634632, 2.6447692782483045e-06, 2.1774968956833618e-06, 4074.6127744510977, 4346.083610556665, 0.017502122778751072, 0.015933340581796074, 362, 4556.7905, 67.727394, 30.209377, 0.01685865, 4556.7905, 67.727394, 30.209377, 0.01685865, 1.0, 0.0, 694.19727, 0.80895448, 0, 'ellipse', array([ 3.75540829,  2.93772149], dtype=float32), 146.44411, 1.3686379, 99)\n",
      " (11.881800265977514, -25.25172003043437, 1.3018925168140072e-05, 1.0316749595062902e-05, 4173.755364806867, 4357.716738197425, 0.086164160944463219, 0.075480949280063214, 155, 231.39996, 15.620503, 12.600039, 0.010899252, 231.39996, 15.620503, 12.600039, 0.010899252, 1.0, 0.0, 49.723114, 0.92639393, 0, 'ellipse', array([ 4.03717995,  3.34921622], dtype=float32), 157.7247, 1.3231031, 100)\n",
      " (11.952064376549007, -25.250860122444447, 2.9135076465180987e-05, 1.6118407089038556e-05, 3708.753623188406, 4363.927536231884, 0.19276222989446978, 0.11802373975751834, 181, 147.78665, 12.409676, 6.213356, 0.0076014781, 147.78665, 12.409676, 6.213356, 0.0076014781, 1.0, 0.0, 40.613926, 1.9755473, 0, 'ellipse', array([ 6.81753159,  4.11960793], dtype=float32), 6.0649395, 0.89419621, 101)\n",
      " (11.928187600768823, -25.250597275109627, 3.7439268787409219e-06, 2.3378165785459259e-06, 3866.7677705977385, 4365.9056946688206, 0.024772638451395324, 0.017112387261477124, 345, 4993.3594, 70.830788, 23.640675, 0.015207124, 4993.3594, 70.830788, 23.640675, 0.015207124, 1.0, 0.0, 840.81805, 1.2041347, 0, 'ellipse', array([ 5.27020502,  3.5533936 ], dtype=float32), 170.36435, 1.1979511, 102)\n",
      " (11.879378464043516, -25.250551214507261, 1.4423474739899689e-05, 1.3840877862492107e-05, 4189.7834394904457, 4366.2675159235669, 0.095464287919639901, 0.10126473764103139, 98, 149.31564, 12.529967, 7.6843586, 0.0084985476, 149.31564, 12.529967, 7.6843586, 0.0084985476, 1.0, 0.0, 38.244907, 0.98307359, 0, 'ellipse', array([ 4.47605896,  2.70773864], dtype=float32), 131.35394, 1.1804402, 103)\n",
      " (11.93681926585962, -25.249109497354222, 3.8890865893037585e-05, 2.3852253075773433e-05, 3809.6404494382023, 4376.7752808988762, 0.25732407110263011, 0.17461180923965003, 136, 81.709976, 9.4339848, 7.2900271, 0.0083024474, 81.709976, 9.4339848, 7.2900271, 0.0083024474, 1.0, 0.0, 21.303637, 1.490656, 0, 'ellipse', array([ 7.31037235,  4.90093136], dtype=float32), 6.7192082, 1.3384753, 104)\n",
      " (11.851889479260691, -25.247409394446816, 2.7329718285784566e-05, 2.3250230043458942e-05, 4371.7109375, 4389.21875, 0.18092385248837672, 0.17006773552930099, 158, 118.42625, 11.313712, 9.5737562, 0.0095157577, 118.42625, 11.313712, 9.5737562, 0.0095157577, 1.0, 0.0, 28.109316, 1.594846, 0, 'ellipse', array([ 6.61442804,  5.22279644], dtype=float32), 142.72719, 1.2284505, 105)\n",
      " (11.878738070038198, -25.247353818778944, 2.1380016589134243e-05, 1.7625528119680212e-05, 4194.0240963855422, 4389.6626506024095, 0.14150950270868634, 0.12895181165731628, 128, 86.653221, 9.7979631, 9.3467798, 0.009414305, 86.653221, 9.7979631, 9.3467798, 0.009414305, 1.0, 0.0, 20.742628, 1.0859482, 0, 'ellipse', array([ 4.19789743,  3.12375236], dtype=float32), 144.4101, 1.1115367, 106)\n",
      " (11.919497103714054, -25.236850965137727, 1.615715335745449e-05, 9.7767211428845258e-06, 3924.2613981762916, 4466.5015197568391, 0.10692522495173762, 0.071557746490725549, 193, 336.98175, 18.52026, 6.0182447, 0.0074637118, 336.98175, 18.52026, 6.0182447, 0.0074637118, 1.0, 0.0, 93.56485, 1.5635978, 0, 'ellipse', array([ 5.92437744,  3.73051071], dtype=float32), 165.96864, 1.0022111, 107)\n",
      " (11.876622613341898, -25.22703253452373, 3.3117787356928829e-05, 2.9446167843616422e-05, 4208.0431034482754, 4538.3534482758623, 0.21924101640252047, 0.21543250415015791, 184, 108.7854, 10.770332, 7.2145977, 0.008281895, 108.7854, 10.770332, 7.2145977, 0.008281895, 1.0, 0.0, 28.461746, 1.9378487, 0, 'ellipse', array([ 8.33608246,  5.39856768], dtype=float32), 136.22757, 1.1539292, 108)\n",
      " (11.92936503214043, -25.222997563710365, 3.3130060121067118e-05, 2.0085416245763099e-05, 3858.9215686274511, 4567.8529411764703, 0.21926318246869414, 0.14702517877412902, 226, 197.77734, 14.282859, 6.2226534, 0.0076320772, 197.77734, 14.282859, 6.2226534, 0.0076320772, 1.0, 0.0, 54.325806, 2.3961871, 0, 'ellipse', array([ 9.54039478,  6.07756138], dtype=float32), 166.96564, 1.059268, 109)\n",
      " (11.953564765820257, -25.214113329959559, 4.1357214611181803e-05, 2.9324753782589141e-05, 3698.7037037037035, 4632.8024691358023, 0.27368575662012518, 0.21469407458425849, 665, 174.12679, 13.747732, 14.873216, 0.011887483, 174.12679, 13.747732, 14.873216, 0.011887483, 1.0, 0.0, 35.158508, 3.5482695, 0, 'ellipse', array([ 10.61962605,   7.97733116], dtype=float32), 164.37082, 0.86466038, 110)\n",
      " (12.000709875928369, -25.164796375746977, 5.3378756982525033e-05, 3.449320417203694e-05, 3386.3176838810641, 4993.465571205008, 0.35330611551171387, 0.25267200816688273, 4386, 1181.3468, 35.749138, 96.653191, 0.030611103, 1181.3468, 35.749138, 96.653191, 0.030611103, 1.0, 0.0, 108.68651, 9.3685083, 0, 'ellipse', array([ 38.63216782,  26.03111839], dtype=float32), 15.295753, 1.1283121, 111)\n",
      " (11.79620082594173, -25.392414060139775, 4.7660518841752264e-05, 5.6628307980588488e-05, 4739.4953789279116, 3328.0166358595193, 0.31534671822919336, 0.41412582728435154, 2721, 482.92834, 23.259418, 58.071648, 0.023432368, 482.92834, 23.259418, 58.071648, 0.023432368, 1.0, 0.0, 55.704117, 7.3949652, 0, 'ellipse', array([ 29.42720222,  21.29001808], dtype=float32), 74.112785, 1.1282494, 112)\n",
      " (11.792741441682255, -25.375773520621873, 5.4259132550527056e-05, 6.1940537243287963e-05, 4762.4540816326535, 3449.7602040816328, 0.35905416897549003, 0.45295462042804502, 2410, 214.62958, 16.401236, 54.370419, 0.022399854, 214.62958, 16.401236, 54.370419, 0.022399854, 1.0, 0.0, 25.4774, 6.3650799, 0, 'ellipse', array([ 19.42668533,  14.55797863], dtype=float32), 72.189507, 0.8806935, 113)\n",
      " (11.697514916532377, -25.36405809160803, 7.0122995181165493e-05, 8.1628911935638371e-05, 5392.1350210970468, 3534.7848101265822, 0.46451213843192818, 0.59660861716747604, 7973, 620.82294, 27.910599, 158.17705, 0.039185721, 620.82294, 27.910599, 158.17705, 0.039185721, 1.0, 0.0, 45.626514, 13.712459, 0, 'ellipse', array([ 47.86429977,  36.97840881], dtype=float32), 83.102798, 1.0226885, 114)\n",
      " (11.837060133492269, -25.358398119243859, 8.6297958254988316e-05, 0.00011126351126478085, 4469.5116279069771, 3577.0697674418607, 0.57094997647163837, 0.81388394974510447, 286, 24.082426, 6.5574522, 18.917574, 0.013333154, 24.082426, 6.5574522, 18.917574, 0.013333154, 1.0, 0.0, 4.4311409, 3.3074243, 0, 'ellipse', array([ 17.1307106 ,   9.43642235], dtype=float32), 64.781204, 1.2813866, 115)\n",
      " (11.88599753372055, -25.351960722830825, 5.8976049380987661e-05, 6.3349604332074705e-05, 4145.9375, 3624.25, 0.38999949919889332, 0.46351240544345274, 56, 13.160841, 4.0000033, 2.8391588, 0.0051423777, 13.160841, 4.0000033, 2.8391588, 0.0051423777, 1.0, 0.0, 4.5468326, 2.0375106, 0, 'ellipse', array([ 5.75332451,  4.44287062], dtype=float32), 113.72626, 0.82712311, 116)\n",
      " (11.803344536310819, -25.351654016284321, 9.8871062956362721e-05, 7.6317629712718826e-05, 4692.4743589743593, 3626.2948717948721, 0.65415386398672126, 0.55798223361534838, 501, 52.552113, 8.8317747, 25.447886, 0.015479796, 52.552113, 8.8317747, 25.447886, 0.015479796, 1.0, 0.0, 8.5892105, 4.5572934, 0, 'ellipse', array([ 17.56081772,  14.51134872], dtype=float32), 16.602034, 1.1676105, 117)\n",
      " (11.735629490216626, -25.34298515286369, 0.00011217641612759621, 0.00015921901185933507, 5140.3109243697472, 3689.3109243697481, 0.7431867304858315, 1.1641460026230561, 2034, 84.859283, 10.908727, 34.140717, 0.017904865, 84.859283, 10.908727, 34.140717, 0.017904865, 1.0, 0.0, 12.286274, 9.0691786, 0, 'ellipse', array([ 38.74701691,  23.27376366], dtype=float32), 103.17754, 1.103731, 118)\n",
      " (11.831554008051464, -25.334254536027636, 6.1066885452376596e-05, 5.9975242223231362e-05, 4506.0, 3753.7142857142858, 0.4040610178208226, 0.43865684204502031, 27, 4.4773889, 2.645756, 2.5226111, 0.0049465359, 4.4773889, 2.645756, 2.5226111, 0.0049465359, 1.0, 0.0, 1.5939237, 2.4662814, 0, 'ellipse', array([ 3.73290563,  2.91094136], dtype=float32), 125.17309, 0.44552937, 119)\n",
      " (11.771397534027907, -25.322407738386193, 0.00011362174418927395, 9.3076092504418284e-05, 4903.9166666666661, 3840.125, 0.75211892036531935, 0.68036065803335077, 231, 16.029192, 4.8989868, 7.9708085, 0.0086004399, 16.029192, 4.8989868, 7.9708085, 0.0086004399, 1.0, 0.0, 4.0548391, 5.5138059, 0, 'ellipse', array([ 11.43417072,   9.56198788], dtype=float32), 27.804386, 0.63212609, 120)\n",
      " (11.80079466623385, -25.322181420111985, 4.8428485674989474e-05, 6.105827549163223e-05, 4709.484210526316, 3841.9368421052632, 0.32061684242125921, 0.44654674419507501, 333, 73.877289, 9.7468042, 21.122711, 0.014004256, 73.877289, 9.7468042, 21.122711, 0.014004256, 1.0, 0.0, 13.013835, 3.5842106, 0, 'ellipse', array([ 13.09280682,   9.32516384], dtype=float32), 96.027107, 1.0276136, 121)\n",
      " (11.909963568145541, -25.322055642300775, 4.8134493653151367e-05, 6.4447430997205402e-05, 3987.4375, 3843.0625, 0.31830544980402919, 0.47160588352471677, 51, 12.099433, 4.0000043, 3.9005671, 0.0059665684, 12.099433, 4.0000043, 3.9005671, 0.0059665684, 1.0, 0.0, 3.8331592, 0.89874268, 0, 'ellipse', array([ 5.81887245,  3.57182169], dtype=float32), 72.863731, 1.6908602, 122)\n",
      " (11.89222494263513, -25.298015005378375, 2.5492000498061884e-05, 2.1704582607640077e-05, 4104.7630331753553, 4018.9763033175354, 0.16863992828530172, 0.1588124374175095, 191, 282.884, 18.973686, 77.116005, 0.027792783, 282.884, 18.973686, 77.116005, 0.027792783, 1.0, 0.0, 28.794693, 0.50608242, 0, 'ellipse', array([ 7.35142756,  6.91797638], dtype=float32), 175.56285, 4.6971335, 123)\n",
      " (11.899701619714099, -25.294077334655853, 2.6747324801235095e-05, 2.4634145461277512e-05, 4055.3008849557523, 4047.787610619469, 0.17694023858575747, 0.18025804783201238, 203, 192.24223, 16.309528, 73.757774, 0.026736861, 192.24223, 16.309528, 73.757774, 0.026736861, 1.0, 0.0, 19.959141, 0.47636145, 0, 'ellipse', array([ 6.14420748,  5.20904398], dtype=float32), 48.259144, 3.9587135, 124)\n",
      " (11.966814889275891, -25.292651215858058, 7.1137391104869607e-05, 5.5020280239403974e-05, 3611.30303030303, 4058.090909090909, 0.47039995971817916, 0.4028448795688746, 140, 29.560022, 5.7445655, 3.4399781, 0.0057133967, 29.560022, 5.7445655, 3.4399781, 0.0057133967, 1.0, 0.0, 9.7015324, 2.0835879, 0, 'ellipse', array([ 8.98589039,  5.75943804], dtype=float32), 34.195404, 1.1508999, 125)\n",
      " (11.890373860881796, -25.292077873989985, 1.6721546879594484e-05, 1.4574877912565398e-05, 4117.0095846645363, 4062.4185303514378, 0.11062672262869455, 0.10664288478665185, 262, 674.63873, 28.548229, 140.36128, 0.037656512, 674.63873, 28.548229, 140.36128, 0.037656512, 1.0, 0.0, 52.382736, 0.48103559, 0, 'ellipse', array([ 5.95864964,  5.56835842], dtype=float32), 28.590771, 3.9915268, 126)\n",
      " (11.898150998115616, -25.292130319155447, 4.1434789720184995e-05, 3.0956536875237362e-05, 4065.5586206896551, 4062.0344827586205, 0.27411097018921282, 0.22652076481972472, 124, 92.877785, 12.041615, 52.122215, 0.022665817, 92.877785, 12.041615, 52.122215, 0.022665817, 1.0, 0.0, 11.228885, 0.4676711, 0, 'ellipse', array([ 10.32397461,   7.64400482], dtype=float32), 24.891661, 6.3317266, 127)\n",
      " (11.910181730159533, -25.28882975988645, 6.5005663531181312e-05, 7.0065752201031728e-05, 3985.9642857142858, 4086.1785714285716, 0.43000398330241296, 0.51272971812431933, 58, 16.442114, 5.291513, 11.557886, 0.010386955, 16.442114, 5.291513, 11.557886, 0.010386955, 1.0, 0.0, 3.6471088, 0.49601617, 0, 'ellipse', array([ 9.67904186,  4.37727451], dtype=float32), 127.35464, 4.3742237, 128)\n",
      " (11.897442319013589, -25.285699730835393, 3.5036119070852578e-05, 3.3442903379921063e-05, 4070.2456140350878, 4109.0877192982462, 0.23179243449612841, 0.24471099876609514, 106, 48.825695, 9.4868536, 41.174305, 0.019884227, 48.825695, 9.4868536, 41.174305, 0.019884227, 1.0, 0.0, 6.5319548, 0.45573199, 0, 'ellipse', array([ 5.6531291 ,  5.13075829], dtype=float32), 62.048206, 3.9391675, 129)\n",
      " (11.881274631963532, -25.285794040579734, 3.7949381033186569e-05, 3.3507018834200153e-05, 4177.211267605634, 4108.3943661971825, 0.25109598522067245, 0.2451504428527187, 69, 46.561768, 8.4261637, 24.438231, 0.015262513, 46.561768, 8.4261637, 24.438231, 0.015262513, 1.0, 0.0, 7.7360706, 0.51506615, 0, 'ellipse', array([ 7.66500664,  4.46533346], dtype=float32), 136.39212, 3.78616, 130)\n",
      " (11.883365462970621, -25.283385563657689, 2.8037893798682489e-05, 2.5934409915606693e-05, 4163.3796296296296, 4126.0185185185182, 0.18551710651445319, 0.18974998056364711, 143, 191.47766, 15.556365, 50.522335, 0.022036688, 191.47766, 15.556365, 50.522335, 0.022036688, 1.0, 0.0, 23.464048, 0.50141191, 0, 'ellipse', array([ 5.94266939,  5.75625992], dtype=float32), 67.535835, 3.8881683, 131)\n",
      " (11.783783346023839, -25.279277712909241, 6.4526847056711745e-05, 6.8522313824814773e-05, 4822.2545454545452, 4155.7818181818184, 0.42734481544175651, 0.50103424213830294, 461, 56.267235, 8.7178087, 19.732765, 0.013724842, 56.267235, 8.7178087, 19.732765, 0.013724842, 1.0, 0.0, 10.182661, 4.2831068, 0, 'ellipse', array([ 11.58144569,   8.97392273], dtype=float32), 115.40833, 0.79340035, 132)\n",
      " (11.952981897150064, -25.276478860229311, 8.9400131578543096e-05, 5.4628040480508844e-05, 3702.7647058823532, 4176.4705882352937, 0.59134128088771831, 0.39997964531994512, 94, 14.077101, 4.1231089, 2.9228988, 0.0051840669, 14.077101, 4.1231089, 2.9228988, 0.0051840669, 1.0, 0.0, 4.8267422, 1.4824687, 0, 'ellipse', array([ 7.31995487,  4.93938255], dtype=float32), 3.0013027, 1.3520219, 133)\n",
      " (11.944085517526698, -25.275453141809308, 7.425265904892342e-05, 6.0373381217004862e-05, 3761.625, 4184.0, 0.4911323014221125, 0.44194173824143945, 72, 13.102384, 4.0000033, 2.8976166, 0.0051338244, 13.102384, 4.0000033, 2.8976166, 0.0051338244, 1.0, 0.0, 4.5027332, 1.1519495, 0, 'ellipse', array([ 7.16886473,  3.38626003], dtype=float32), 40.235661, 1.4257082, 134)\n",
      " (11.824414164859217, -25.259524045959761, 5.5959874401878551e-05, 7.689512807473875e-05, 4553.5, 4300.5, 0.37060177955936524, 0.56245713142561726, 80, 14.178562, 4.2426448, 3.8214381, 0.0060194796, 14.178562, 4.2426448, 3.8214381, 0.0060194796, 1.0, 0.0, 4.5182109, 2.27843, 0, 'ellipse', array([ 7.27746487,  4.53194284], dtype=float32), 103.28252, 0.84018576, 135)\n",
      " (11.947165977782857, -25.254604189682482, 5.7716573380162117e-05, 5.920935708303432e-05, 3741.181818181818, 4336.545454545454, 0.38177882520494677, 0.4333920860208309, 53, 8.8277655, 3.3166277, 2.1722343, 0.0044929595, 8.8277655, 3.3166277, 2.1722343, 0.0044929595, 1.0, 0.0, 3.2581341, 1.6646398, 0, 'ellipse', array([ 4.84273767,  3.09397531], dtype=float32), 126.26804, 0.77510828, 136)\n",
      " (11.988429402966494, -25.250960139918742, 8.5026405946209138e-05, 5.890935573660272e-05, 3468.0930232558139, 4363.0581395348836, 0.56239364885550458, 0.43144225005562475, 529, 75.086296, 9.2736244, 10.913701, 0.010139374, 75.086296, 9.2736244, 10.913701, 0.010139374, 1.0, 0.0, 17.006256, 3.7276933, 0, 'ellipse', array([ 15.98008442,  11.55495358], dtype=float32), 17.118801, 1.2151005, 137)\n",
      " (11.960552277719289, -25.243815893462365, 5.8726659796448644e-05, 6.1134525225270409e-05, 3652.5555555555557, 4415.4444444444443, 0.388447721544253, 0.44752022124430368, 46, 7.7674599, 3.0000019, 1.23254, 0.0033838644, 7.7674599, 3.0000019, 1.23254, 0.0033838644, 1.0, 0.0, 3.2256532, 2.5056965, 0, 'ellipse', array([ 4.45132828,  2.93770671], dtype=float32), 124.52211, 0.48106006, 138)\n",
      " (11.936794893209902, -25.227212146619657, 6.8753250898723195e-05, 3.6219148999094841e-05, 3809.75, 4537.0, 0.4550068680800905, 0.26516504294522747, 59, 14.375016, 4.0000019, 1.6249838, 0.0038237004, 14.375016, 4.0000019, 1.6249838, 0.0038237004, 1.0, 0.0, 5.6570091, 2.377409, 0, 'ellipse', array([ 5.5952034 ,  2.93789029], dtype=float32), 165.12756, 0.56846088, 139)\n",
      " (11.956240232413434, -25.226548888860272, 6.8079841446078149e-05, 4.5688933305143564e-05, 3681.0348837209303, 4541.8023255813951, 0.45048128652888408, 0.3345200574840419, 411, 76.350693, 9.2736235, 9.6493101, 0.0094923256, 76.350693, 9.2736235, 9.6493101, 0.0094923256, 1.0, 0.0, 18.072041, 2.9505885, 0, 'ellipse', array([ 12.71854115,   9.05111027], dtype=float32), 165.97223, 1.2121035, 140)\n",
      " (11.891491263943406, -25.220094706641, 7.0337299311162838e-05, 8.8562717394324864e-05, 4109.625, 4589.125, 0.46561451330489945, 0.64801379229174927, 66, 6.5830541, 2.8284295, 1.4169459, 0.0036152296, 6.5830541, 2.8284295, 1.4169459, 0.0036152296, 1.0, 0.0, 2.6629884, 2.1869717, 0, 'ellipse', array([ 6.07736492,  2.98485947], dtype=float32), 119.27159, 0.64916515, 141)\n",
      " (11.973012835732629, -25.219023437458343, 6.6663113249987305e-05, 5.9667980405464505e-05, 3569.980132450331, 4596.8079470198672, 0.44102879580123044, 0.43685677626763209, 818, 132.71925, 12.288213, 18.280754, 0.013115017, 132.71925, 12.288213, 18.280754, 0.013115017, 1.0, 0.0, 24.749855, 4.1775064, 0, 'ellipse', array([ 17.88457298,  14.27701092], dtype=float32), 43.770641, 1.2750275, 142)\n",
      " (11.816304694328274, -25.393512407299085, 0.00016462309615405957, 0.00017815253510988782, 4606.6000000000004, 3320.0666666666666, 1.0889342394184496, 1.3029311684158529, 679, 14.326959, 5.4772387, 15.673041, 0.012015305, 14.326959, 5.4772387, 15.673041, 0.012015305, 1.0, 0.0, 2.8355982, 6.3594651, 0, 'ellipse', array([ 23.97977638,  14.26500416], dtype=float32), 55.918461, 0.96943051, 143)\n",
      " (11.834051185846265, -25.39253761826803, 5.476839285556423e-05, 4.8356752742506615e-05, 4489.2962962962965, 3327.2592592592591, 0.36218667861157883, 0.3536701267466924, 620, 68.736794, 9.4339914, 20.263205, 0.013991061, 68.736794, 9.4339914, 20.263205, 0.013991061, 1.0, 0.0, 12.309563, 5.6271806, 0, 'ellipse', array([ 5.7971921,  5.3538928], dtype=float32), 143.7197, 0.33001339, 144)\n",
      " (11.747728159470862, -25.381133676209696, 0.00013043578666049882, 0.00012387600807173271, 5060.0, 3410.265060240964, 0.86327634302051592, 0.90547348325162602, 2262, 71.695511, 11.000021, 49.304489, 0.021681102, 71.695511, 11.000021, 49.304489, 0.021681102, 1.0, 0.0, 8.8787899, 9.912775, 0, 'ellipse', array([ 25.36211395,  22.93281555], dtype=float32), 59.186588, 0.81097019, 145)\n",
      " (11.775251069423721, -25.373234145983638, 0.00014722914189491121, 0.00012489689239458812, 4878.101449275362, 3468.246376811594, 0.97417718285214505, 0.91302180721959303, 1356, 41.715466, 8.3066397, 27.284534, 0.016050259, 41.715466, 8.3066397, 27.284534, 0.016050259, 1.0, 0.0, 6.6270094, 7.4500856, 0, 'ellipse', array([ 24.37552452,  22.64612579], dtype=float32), 14.096885, 1.0512147, 146)\n",
      " (11.749910278868169, -25.372386359044324, 0.00020327016385657259, 0.00015633872660814063, 5045.6428571428569, 3474.2857142857142, 1.3451101618775283, 1.1425027795289679, 1007, 22.559507, 6.4807549, 19.440493, 0.013506249, 22.559507, 6.4807549, 19.440493, 0.013506249, 1.0, 0.0, 4.1066689, 9.286644, 0, 'ellipse', array([ 27.29718018,  20.78931427], dtype=float32), 26.248938, 0.85506457, 147)\n",
      " (11.875704071461682, -25.354056433413881, 4.7617861065774036e-05, 5.6817305697620668e-05, 4214.0, 3608.909090909091, 0.3149183286486732, 0.41569508561860857, 110, 16.853237, 4.7958374, 6.1467633, 0.007592143, 16.853237, 4.7958374, 6.1467633, 0.007592143, 1.0, 0.0, 4.6476703, 2.2190907, 0, 'ellipse', array([ 4.73494196,  2.12272072], dtype=float32), 57.005398, 0.4762198, 148)\n",
      " (11.737367422030987, -25.318451722139077, 0.00010380814923216519, 9.8046132777085404e-05, 5129.0270270270266, 3868.8378378378379, 0.68745036236214219, 0.71661234686598618, 1779, 61.286015, 9.2736311, 24.713985, 0.015447552, 61.286015, 9.2736311, 24.713985, 0.015447552, 1.0, 0.0, 10.136312, 8.2138147, 0, 'ellipse', array([ 14.60390759,  10.7286644 ], dtype=float32), 131.00821, 0.50797367, 149)\n",
      " (11.852391797332897, -25.308335801585994, 5.6672673569124754e-05, 5.4535853351467267e-05, 4368.25, 3943.416666666667, 0.375, 0.39892796156482291, 64, 9.8512373, 4.2426496, 8.1487627, 0.0087492634, 9.8512373, 4.2426496, 8.1487627, 0.0087492634, 1.0, 0.0, 2.4732716, 1.0982538, 0, 'ellipse', array([ 4.77763033,  3.09018564], dtype=float32), 49.332069, 1.1662041, 150)\n",
      " (11.897971404756838, -25.305374620083594, 3.5353697084516966e-05, 3.7717906792522626e-05, 4066.75, 3965.125, 0.23385358667337641, 0.27599252707295818, 80, 20.162216, 6.4807568, 21.837784, 0.014488648, 20.162216, 6.4807568, 21.837784, 0.014488648, 1.0, 0.0, 3.5048506, 0.55084312, 0, 'ellipse', array([ 2.35242939,  1.97178876], dtype=float32), 80.008446, 1.3032848, 151)\n",
      " (11.895147202268694, -25.299107775683435, 3.0010233198041192e-05, 2.8229967153237112e-05, 4085.4313725490197, 4010.9803921568628, 0.19852377520101072, 0.2065631993077659, 30, 39.63443, 7.1414361, 11.365571, 0.010597453, 39.63443, 7.1414361, 11.365571, 0.010597453, 1.0, 0.0, 8.8455038, 0.50565004, 0, 'ellipse', array([ 4.5658083,  4.102211 ], dtype=float32), 124.08097, 2.8529656, 152)\n",
      " (11.900879004374824, -25.297378604787429, 4.3167449000236502e-05, 3.3528462768828149e-05, 4047.5131578947367, 4023.6315789473683, 0.28555567460807652, 0.24534594919532537, 65, 55.645878, 8.7178087, 20.35412, 0.013965135, 55.645878, 8.7178087, 20.35412, 0.013965135, 1.0, 0.0, 9.9475603, 0.49930549, 0, 'ellipse', array([ 8.47540951,  5.01151848], dtype=float32), 35.893417, 4.350883, 153)\n",
      " (11.983419048766093, -25.296308532782874, 0.00013852296100580475, 0.0001301236774793324, 3501.4736842105262, 4031.2631578947367, 0.91575444897534908, 0.95273946834004164, 288, 13.541261, 4.3589048, 5.4587388, 0.0072099823, 13.541261, 4.3589048, 5.4587388, 0.0072099823, 1.0, 0.0, 3.8780906, 2.8613372, 0, 'ellipse', array([ 15.65255642,   7.3224287 ], dtype=float32), 46.770012, 1.2471823, 154)\n",
      " (11.993556517429806, -25.291707110245323, 0.00013241597869040334, 9.6355914518397867e-05, 3434.3846153846152, 4064.8846153846152, 0.875499727251281, 0.70569727798601889, 352, 20.279804, 5.0990248, 5.7201967, 0.0073626335, 20.279804, 5.0990248, 5.7201967, 0.0073626335, 1.0, 0.0, 5.7228441, 3.5105507, 0, 'ellipse', array([ 15.30457687,   7.85269928], dtype=float32), 34.324623, 1.040935, 155)\n",
      " (12.010378722014961, -25.287111730826762, 0.00010469784611899513, 0.00014369106922274, 3323.0645161290322, 4098.4193548387102, 0.69176136446867531, 1.0520028898363307, 431, 25.18972, 5.5677695, 5.8102789, 0.0074723526, 25.18972, 5.5677695, 5.8102789, 0.0074723526, 1.0, 0.0, 7.073173, 4.656888, 0, 'ellipse', array([ 17.7892704 ,  11.21717072], dtype=float32), 78.416595, 1.0111222, 156)\n",
      " (11.985266387264051, -25.245842110001547, 0.00012712486155308511, 0.0001017607126740927, 3489.0, 4400.521739130435, 0.84082954807900023, 0.74516606088127446, 293, 17.005608, 4.7958374, 5.9943924, 0.0075209509, 17.005608, 4.7958374, 5.9943924, 0.0075209509, 1.0, 0.0, 4.7277236, 3.6804335, 0, 'ellipse', array([ 13.64296436,   8.66941452], dtype=float32), 36.779949, 0.98498362, 157)\n",
      " (11.938717924417263, -25.205613869353247, 0.00015404188012801967, 0.00010343478273000528, 3796.9677419354839, 4695.0322580645161, 1.019562934014175, 0.75718393737679435, 385, 23.372465, 5.567771, 7.6275349, 0.0084535806, 23.372465, 5.567771, 7.6275349, 0.0084535806, 1.0, 0.0, 6.0015616, 3.5805757, 0, 'ellipse', array([ 17.64645195,  11.77217102], dtype=float32), 159.40938, 1.3417847, 158)\n",
      " (11.993003160767948, -25.204638915062638, 0.0001733010405366997, 0.00011405786991502964, 3437.5727272727272, 4701.9727272727268, 1.1467135282418894, 0.83542032682089484, 1760, 71.836136, 10.488106, 38.163864, 0.019021699, 71.836136, 10.488106, 38.163864, 0.019021699, 1.0, 0.0, 9.9247255, 5.9904199, 0, 'ellipse', array([ 39.60418701,  20.59754181], dtype=float32), 28.866848, 1.5892775, 159)\n",
      " (11.928463464154506, -25.197093064747104, 0.00013612387872186105, 0.00014210100204792298, 3864.8400000000001, 4757.3999999999996, 0.9009861264189567, 1.0400000000008731, 400, 18.480818, 5.0000062, 6.5191827, 0.0079363259, 18.480818, 5.0000062, 6.5191827, 0.0079363259, 1.0, 0.0, 5.0000286, 3.9126153, 0, 'ellipse', array([ 17.87313271,  10.32282734], dtype=float32), 126.71534, 1.1572075, 160)\n",
      " (11.964268710292695, -25.173038801536016, 0.00013069471985538428, 0.00010129376314438332, 3627.6857142857143, 4933.3142857142857, 0.86509238792768883, 0.74163164219953615, 2064, 79.264961, 10.344093, 27.735037, 0.016298434, 79.264961, 10.344093, 27.735037, 0.016298434, 1.0, 0.0, 12.508007, 6.8211088, 0, 'ellipse', array([ 23.96403122,  15.61149216], dtype=float32), 146.10692, 0.94520479, 161)\n",
      " (11.999646431297144, -25.171618895704313, 0.00014551390521333474, 0.0001197179141101401, 3393.4000000000001, 4943.5500000000002, 0.96293821193239637, 0.87674825349131424, 1463, 40.781372, 8.3666162, 29.218628, 0.016563253, 40.781372, 8.3666162, 29.218628, 0.016563253, 1.0, 0.0, 6.298903, 8.7981405, 0, 'ellipse', array([ 18.53273582,  16.34243584], dtype=float32), 159.17763, 0.65934998, 162)\n",
      " (11.77142212654163, -25.442980957367421, 0.00019814776534055056, 0.00018638776813517666, 4902.9512195121952, 2957.8780487804879, 1.3104965022457691, 1.3626257855698896, 5813, 82.808243, 12.369345, 70.191757, 0.026046412, 82.808243, 12.369345, 70.191757, 0.026046412, 1.0, 0.0, 8.7881718, 13.579915, 0, 'ellipse', array([ 41.11441803,  30.77868462], dtype=float32), 48.977566, 0.87318003, 163)\n",
      " (11.760290240293912, -25.406095326043051, 0.00016390349474626476, 0.00018628128330888671, 4976.7727272727279, 3227.7045454545455, 1.0846713885021018, 1.361960919761259, 766, 26.67152, 6.6332622, 17.32848, 0.012907177, 26.67152, 6.6332622, 17.32848, 0.012907177, 1.0, 0.0, 5.0784712, 10.9143, 0, 'ellipse', array([ 32.60971069,  11.70729923], dtype=float32), 53.42963, 0.59673935, 164)\n",
      " (11.771075319857013, -25.396962318957481, 0.00023943793053327056, 0.00011831762136083057, 4905.5500000000002, 3294.5999999999999, 1.5834692924081537, 0.86429161745354577, 502, 9.7089987, 4.472147, 10.291001, 0.0098514426, 9.7089987, 4.472147, 10.291001, 0.0098514426, 1.0, 0.0, 2.2459977, 9.3290291, 0, 'ellipse', array([ 21.33791161,  11.42282963], dtype=float32), 6.354373, 0.55783415, 165)\n",
      " (11.75588663728262, -25.389873088212134, 0.00011232302257013771, 0.00012847776984159509, 5006.0, 3346.375, 0.74346107833571295, 0.93932114782455756, 1555, 50.776295, 9.2195616, 34.223705, 0.018005114, 50.776295, 9.2195616, 34.223705, 0.018005114, 1.0, 0.0, 7.3441343, 9.9315376, 0, 'ellipse', array([ 16.19872856,  12.28405762], dtype=float32), 74.177315, 0.47344947, 166)\n",
      " (11.685067662008795, -25.376415469501531, 0.00018561816543716247, 0.00018396781076290836, 5474.2933333333331, 3444.2399999999998, 1.2292398132667586, 1.3442010431645031, 4951, 57.663731, 12.04163, 87.336266, 0.028960997, 57.663731, 12.04163, 87.336266, 0.028960997, 1.0, 0.0, 5.5523691, 15.830875, 0, 'ellipse', array([ 37.0707016 ,  29.41683769], dtype=float32), 123.44749, 0.695324, 167)\n",
      " (11.784976399890413, -25.27266144636636, 5.3953670288819922e-05, 0.00013055417383611712, 4814.3999999999996, 4204.1999999999998, 0.35777087640053651, 0.95498691090506327, 78, 2.4236026, 2.2360735, 2.5763974, 0.0049387221, 2.4236026, 2.2360735, 2.5763974, 0.0049387221, 1.0, 0.0, 0.85826445, 4.2801986, 0, 'ellipse', array([ 6.42444992,  2.35083914], dtype=float32), 85.363701, 0.30265248, 168)\n",
      " (11.8890696056918, -25.272308611970242, 5.2009416236842299e-05, 7.4938757723685967e-05, 4125.6428571428569, 4207.0714285714284, 0.34415146845003619, 0.54832105255627539, 35, 7.3142977, 3.7416656, 6.6857023, 0.0078706983, 7.3142977, 3.7416656, 6.6857023, 0.0078706983, 1.0, 0.0, 1.9625959, 0.51735181, 0, 'ellipse', array([ 6.20017529,  3.78998041], dtype=float32), 98.768265, 3.1232967, 169)\n",
      " (12.078229459556294, -25.252295731572847, 0.00011892416917547166, 0.00012790433948950408, 2873.8148148148148, 4352.666666666667, 0.78573886320100428, 0.93697115856866731, 1672, 56.94577, 8.544013, 16.05423, 0.012682445, 56.94577, 8.544013, 16.05423, 0.012682445, 1.0, 0.0, 11.167377, 10.996703, 0, 'ellipse', array([ 14.88868999,  11.9031477 ], dtype=float32), 71.161789, 0.40352961, 170)\n",
      " (12.027001403423322, -25.212429577624377, 0.00015741123482193586, 0.00018434152432433848, 3212.5454545454545, 4644.772727272727, 1.0407277260887895, 1.3498789494105949, 962, 24.144213, 6.6332636, 19.855787, 0.013710346, 24.144213, 6.6332636, 19.855787, 0.013710346, 1.0, 0.0, 4.3586645, 7.9558897, 0, 'ellipse', array([ 28.68843079,  18.09606743], dtype=float32), 116.90088, 0.95463097, 171)\n",
      " (12.007783217210502, -25.19042039143369, 0.00014680539994493813, 0.00012824242770648198, 3339.6333333333332, 4805.9333333333334, 0.97123441881785766, 0.93918798654704005, 1505, 37.10593, 8.2462292, 30.894068, 0.017108437, 37.10593, 8.2462292, 30.894068, 0.017108437, 1.0, 0.0, 5.6006365, 7.8959069, 0, 'ellipse', array([ 16.02401352,  15.36492729], dtype=float32), 161.51797, 0.66241115, 172)\n",
      " (11.764164554685097, -25.433228944943401, 0.00020959535108744376, 0.00023186889308135505, 4950.9741379310344, 3029.1896551724139, 1.386643288173218, 1.695271883440455, 3809, 46.153759, 10.770361, 69.846245, 0.026164807, 46.153759, 10.770361, 69.846245, 0.026164807, 1.0, 0.0, 4.9088478, 13.067328, 0, 'ellipse', array([ 56.97195816,  41.97592545], dtype=float32), 113.99623, 1.2474486, 173)\n",
      " (11.651166800677837, -25.390085966875585, 0.00022472038657994631, 0.00022304103113768292, 5698.2361111111113, 3343.8333333333335, 1.4884448259272176, 1.6293270973387735, 11215, 72.087059, 14.38754, 134.91293, 0.036251891, 72.087059, 14.38754, 134.91293, 0.036251891, 1.0, 0.0, 5.6997337, 20.980711, 0, 'ellipse', array([ 42.08539581,  37.21146011], dtype=float32), 68.714699, 0.62872773, 174)\n",
      " (11.891104392372185, -25.369146697815449, 9.7085204808777803e-05, 0.00018989192626861495, 4112.166666666667, 3498.5, 0.64190111157131469, 1.3894443333779236, 107, 3.2384365, 2.4494951, 2.7615635, 0.0050699213, 3.2384365, 2.4494951, 2.7615635, 0.0050699213, 1.0, 0.0, 1.1268374, 2.868835, 0, 'ellipse', array([ 10.6590004 ,   3.58966613], dtype=float32), 72.247688, 0.71871787, 175)\n",
      " (11.789245185715799, -25.340425855016022, 0.00012428597930913554, 8.9956226648979509e-05, 4785.7692307692305, 3708.3846153846152, 0.82242135037995467, 0.6575772417427288, 144, 6.8782034, 3.6055591, 6.1217966, 0.0075504873, 6.8782034, 3.6055591, 6.1217966, 0.0075504873, 1.0, 0.0, 1.8993157, 4.9752707, 0, 'ellipse', array([ 9.83513451,  5.74438381], dtype=float32), 31.696064, 0.50358629, 176)\n",
      " (11.95493704619642, -25.327655684925826, 0.0, 0.0, 3690.0, 3802.0, 0.0, 0.0, 18, 0.60379797, 1.0000019, 0.39620203, 0.001933333, 0.60379797, 1.0000019, 0.39620203, 0.001933333, 1.0, 0.0, 0.29160416, 2.2102728, 0, 'ellipse', array([  3.57627869e-07,   3.57627869e-07], dtype=float32), 90.0, 5.3934198e-08, 177)\n",
      " (11.757206771143606, -25.300540135080198, 0.00015392068152486615, 0.00017407633905008879, 4997.9375, 4000.041666666667, 1.0195171148970985, 1.2726961529306209, 888, 25.603153, 6.9282184, 22.396847, 0.014575552, 25.603153, 6.9282184, 22.396847, 0.014575552, 1.0, 0.0, 4.4058919, 6.0074916, 0, 'ellipse', array([ 26.45390892,  21.18849564], dtype=float32), 89.009476, 1.3136528, 178)\n",
      " (11.766366002466933, -25.286492503946093, 0.00012126198859974124, 9.7204581891219277e-05, 4937.4444444444443, 4102.8888888888887, 0.8029438292096529, 0.71049355900959199, 126, 5.4433026, 3.0000055, 3.5566976, 0.0057971901, 5.4433026, 3.0000055, 3.5566976, 0.0057971901, 1.0, 0.0, 1.7700309, 5.4995332, 0, 'ellipse', array([ 7.42543221,  6.16231012], dtype=float32), 24.33725, 0.41000161, 179)\n",
      " (12.05594032468295, -25.26614027013883, 0.00015247778000748724, 0.00016353878113406495, 3021.4444444444443, 4251.5555555555557, 1.007516333980675, 1.1978490095407324, 388, 5.220921, 3.000006, 3.7790787, 0.0060125478, 5.220921, 3.000006, 3.7790787, 0.0060125478, 1.0, 0.0, 1.6690054, 8.5151834, 0, 'ellipse', array([ 10.82484341,   9.0148325 ], dtype=float32), 80.614342, 0.38670018, 180)\n",
      " (11.747158634560462, -25.456292815027606, 0.00021028552695767644, 0.00034367308284544151, 5063.1651376146783, 2860.3119266055046, 1.39204962736585, 2.5131820549577242, 5254, 43.937897, 10.440337, 65.062103, 0.025289845, 43.937897, 10.440337, 65.062103, 0.025289845, 1.0, 0.0, 4.8217349, 16.876331, 0, 'ellipse', array([ 81.14717865,  38.88699341], dtype=float32), 73.927994, 1.1095314, 181)\n",
      " (11.877601286767959, -25.374339187584507, 9.6360509537873895e-05, 0.00014795603028616711, 4201.4375, 3460.5, 0.63718589075324417, 1.0825317547305531, 206, 9.3206129, 4.0000081, 6.6793871, 0.0079707485, 9.3206129, 4.0000081, 6.6793871, 0.0079707485, 1.0, 0.0, 2.5017145, 3.3104918, 0, 'ellipse', array([ 13.30315495,   7.08808279], dtype=float32), 75.241905, 0.97775024, 182)\n",
      " (11.809528205986746, -25.261088040645021, 0.00010685610128113865, 6.0459832695869409e-08, 4652.0, 4289.0, 0.70710678118666692, 0.0, 25, 1.1075774, 1.4142165, 0.8924225, 0.0029083898, 1.1075774, 1.4142165, 0.8924225, 0.0029083898, 1.0, 0.0, 0.48544526, 2.8813653, 0, 'ellipse', array([  3.00000000e+00,   3.57627869e-07], dtype=float32), 180.0, 0.00011982756, 183)\n",
      " (12.078627721784567, -25.239861870620111, 0.00025405094147856744, 0.00022136145152984454, 2871.0535714285716, 4443.6428571428569, 1.6792209311151964, 1.6220398020805078, 5061, 51.516693, 10.246977, 53.483307, 0.02327905, 51.516693, 10.246977, 53.483307, 0.02327905, 1.0, 0.0, 6.1590962, 11.423857, 0, 'ellipse', array([ 38.61936569,  35.43650436], dtype=float32), 146.90273, 1.0794288, 184)\n",
      " (11.72706339687358, -25.469826363606177, 0.00026292519077841803, 0.00025398865453141184, 5195.8064516129034, 2761.1290322580644, 1.7391969841009995, 1.8563062556158911, 5183, 32.334476, 9.0000267, 48.665524, 0.021816909, 32.334476, 9.0000267, 48.665524, 0.021816909, 1.0, 0.0, 4.0269012, 20.255951, 0, 'ellipse', array([ 33.75014114,  25.81176949], dtype=float32), 52.193176, 0.48570526, 185)\n",
      " (11.815540643973465, -25.412107697957559, 0.00025353750285006527, 0.0001853520223100702, 4611.5714285714284, 3184.0, 1.676453287993354, 1.3552618543581048, 357, 2.5860679, 2.6457591, 4.4139323, 0.0064606466, 2.5860679, 2.6457591, 4.4139323, 0.0064606466, 1.0, 0.0, 0.79025954, 8.1535378, 0, 'ellipse', array([ 13.38548756,  10.65852833], dtype=float32), 169.66562, 0.48831311, 186)\n",
      " (11.648933776464398, -25.365378244144559, 0.00045823578620662886, 0.0004127589477960214, 5713.3269230769229, 3524.5961538461538, 3.0352613568402376, 3.0146657815907929, 3444, 17.09516, 7.2111263, 34.904842, 0.018447122, 17.09516, 7.2111263, 34.904842, 0.018447122, 1.0, 0.0, 2.4522662, 19.973795, 0, 'ellipse', array([ 82.09394073,  42.72542953], dtype=float32), 44.66003, 0.98836404, 187)\n",
      " (11.906253491330869, -25.356367854061638, 0.0, 0.0, 4012.0, 3592.0, 0.0, 0.0, 14, 0.57014745, 1.000002, 0.42985252, 0.0020111178, 0.57014745, 1.000002, 0.42985252, 0.0020111178, 1.0, 0.0, 0.27329341, 2.2756507, 0, 'ellipse', array([  3.57627869e-07,   3.57627869e-07], dtype=float32), 90.0, 5.2384703e-08, 188)\n",
      " (11.703393689884731, -25.329986981249633, 0.00028131090693150895, 0.0002628878422434866, 5353.6190476190477, 3784.1428571428569, 1.8632233733369503, 1.9209347416890523, 2239, 17.176188, 6.4807596, 24.823812, 0.015566877, 17.176188, 6.4807596, 24.823812, 0.015566877, 1.0, 0.0, 2.8357322, 11.596463, 0, 'ellipse', array([ 41.52938843,  31.3431263 ], dtype=float32), 48.192535, 1.0370557, 189)\n",
      " (11.93618101043613, -25.307298953882825, 7.561700162739271e-05, 8.3669112655115896e-05, 3814.0, 3951.0, 0.5, 0.61237243569576094, 30, 2.4175014, 2.0000038, 1.5824987, 0.0038609132, 2.4175014, 2.0000038, 1.5824987, 0.0038609132, 1.0, 0.0, 0.95657313, 1.0388774, 0, 'ellipse', array([ 4.03499126,  2.49376154], dtype=float32), 58.282524, 1.0178018, 190)]\n"
     ]
    }
   ],
   "source": [
    "print data_NGC253[1].data"
   ]
  },
  {
   "cell_type": "code",
   "execution_count": 124,
   "metadata": {
    "collapsed": false
   },
   "outputs": [
    {
     "ename": "KeyError",
     "evalue": "\"Extension 'RA' not found.\"",
     "output_type": "error",
     "traceback": [
      "\u001b[0;31m---------------------------------------------------------------------------\u001b[0m",
      "\u001b[0;31mKeyError\u001b[0m                                  Traceback (most recent call last)",
      "\u001b[0;32m<ipython-input-124-35b4862770c5>\u001b[0m in \u001b[0;36m<module>\u001b[0;34m()\u001b[0m\n\u001b[0;32m----> 1\u001b[0;31m \u001b[0;32mprint\u001b[0m \u001b[0mdata_NGC253\u001b[0m\u001b[0;34m[\u001b[0m\u001b[0;34m'RA'\u001b[0m\u001b[0;34m]\u001b[0m\u001b[0;34m.\u001b[0m\u001b[0mdata\u001b[0m\u001b[0;34m\u001b[0m\u001b[0m\n\u001b[0m",
      "\u001b[0;32m/soft/anaconda/lib/python2.7/site-packages/astropy/io/fits/hdu/hdulist.py\u001b[0m in \u001b[0;36m__getitem__\u001b[0;34m(self, key)\u001b[0m\n\u001b[1;32m    193\u001b[0m             \u001b[0;32mreturn\u001b[0m \u001b[0mHDUList\u001b[0m\u001b[0;34m(\u001b[0m\u001b[0mhdus\u001b[0m\u001b[0;34m)\u001b[0m\u001b[0;34m\u001b[0m\u001b[0m\n\u001b[1;32m    194\u001b[0m \u001b[0;34m\u001b[0m\u001b[0m\n\u001b[0;32m--> 195\u001b[0;31m         \u001b[0midx\u001b[0m \u001b[0;34m=\u001b[0m \u001b[0mself\u001b[0m\u001b[0;34m.\u001b[0m\u001b[0mindex_of\u001b[0m\u001b[0;34m(\u001b[0m\u001b[0mkey\u001b[0m\u001b[0;34m)\u001b[0m\u001b[0;34m\u001b[0m\u001b[0m\n\u001b[0m\u001b[1;32m    196\u001b[0m         \u001b[0;32mreturn\u001b[0m \u001b[0msuper\u001b[0m\u001b[0;34m(\u001b[0m\u001b[0mHDUList\u001b[0m\u001b[0;34m,\u001b[0m \u001b[0mself\u001b[0m\u001b[0;34m)\u001b[0m\u001b[0;34m.\u001b[0m\u001b[0m__getitem__\u001b[0m\u001b[0;34m(\u001b[0m\u001b[0midx\u001b[0m\u001b[0;34m)\u001b[0m\u001b[0;34m\u001b[0m\u001b[0m\n\u001b[1;32m    197\u001b[0m \u001b[0;34m\u001b[0m\u001b[0m\n",
      "\u001b[0;32m/soft/anaconda/lib/python2.7/site-packages/astropy/io/fits/hdu/hdulist.py\u001b[0m in \u001b[0;36mindex_of\u001b[0;34m(self, key)\u001b[0m\n\u001b[1;32m    532\u001b[0m \u001b[0;34m\u001b[0m\u001b[0m\n\u001b[1;32m    533\u001b[0m         \u001b[0;32mif\u001b[0m \u001b[0;34m(\u001b[0m\u001b[0mnfound\u001b[0m \u001b[0;34m==\u001b[0m \u001b[0;36m0\u001b[0m\u001b[0;34m)\u001b[0m\u001b[0;34m:\u001b[0m\u001b[0;34m\u001b[0m\u001b[0m\n\u001b[0;32m--> 534\u001b[0;31m             \u001b[0;32mraise\u001b[0m \u001b[0mKeyError\u001b[0m\u001b[0;34m(\u001b[0m\u001b[0;34m'Extension %s not found.'\u001b[0m \u001b[0;34m%\u001b[0m \u001b[0mrepr\u001b[0m\u001b[0;34m(\u001b[0m\u001b[0mkey\u001b[0m\u001b[0;34m)\u001b[0m\u001b[0;34m)\u001b[0m\u001b[0;34m\u001b[0m\u001b[0m\n\u001b[0m\u001b[1;32m    535\u001b[0m         \u001b[0;32melif\u001b[0m \u001b[0;34m(\u001b[0m\u001b[0mnfound\u001b[0m \u001b[0;34m>\u001b[0m \u001b[0;36m1\u001b[0m\u001b[0;34m)\u001b[0m\u001b[0;34m:\u001b[0m\u001b[0;34m\u001b[0m\u001b[0m\n\u001b[1;32m    536\u001b[0m             raise KeyError('There are %d extensions of %s.'\n",
      "\u001b[0;31mKeyError\u001b[0m: \"Extension 'RA' not found.\""
     ]
    }
   ],
   "source": [
    "print data_NGC253['RA'].data"
   ]
  },
  {
   "cell_type": "code",
   "execution_count": null,
   "metadata": {
    "collapsed": true
   },
   "outputs": [],
   "source": [
    "data_NGC253_Low=data_NGC253[1].data"
   ]
  },
  {
   "cell_type": "code",
   "execution_count": null,
   "metadata": {
    "collapsed": false
   },
   "outputs": [],
   "source": [
    "data_NGC253_Low['RA']"
   ]
  },
  {
   "cell_type": "code",
   "execution_count": null,
   "metadata": {
    "collapsed": false
   },
   "outputs": [],
   "source": [
    "data_NGC253_RA=data_NGC253_Low['RA']"
   ]
  },
  {
   "cell_type": "code",
   "execution_count": null,
   "metadata": {
    "collapsed": false
   },
   "outputs": [],
   "source": [
    "data_NGC253_Low['DEC']"
   ]
  },
  {
   "cell_type": "code",
   "execution_count": 125,
   "metadata": {
    "collapsed": false
   },
   "outputs": [
    {
     "ename": "NameError",
     "evalue": "name 'data_NGC253_Low' is not defined",
     "output_type": "error",
     "traceback": [
      "\u001b[0;31m---------------------------------------------------------------------------\u001b[0m",
      "\u001b[0;31mNameError\u001b[0m                                 Traceback (most recent call last)",
      "\u001b[0;32m<ipython-input-125-efeeea088370>\u001b[0m in \u001b[0;36m<module>\u001b[0;34m()\u001b[0m\n\u001b[0;32m----> 1\u001b[0;31m \u001b[0mdata_NGC_DEC\u001b[0m\u001b[0;34m=\u001b[0m\u001b[0mdata_NGC253_Low\u001b[0m\u001b[0;34m[\u001b[0m\u001b[0;34m'DEC'\u001b[0m\u001b[0;34m]\u001b[0m\u001b[0;34m\u001b[0m\u001b[0m\n\u001b[0m",
      "\u001b[0;31mNameError\u001b[0m: name 'data_NGC253_Low' is not defined"
     ]
    }
   ],
   "source": [
    "data_NGC_DEC=data_NGC253_Low['DEC']"
   ]
  },
  {
   "cell_type": "code",
   "execution_count": 126,
   "metadata": {
    "collapsed": true
   },
   "outputs": [],
   "source": [
    "def Area_GC_R_N_B_Ds9(Gname,RA,Dec,Maj,B):\n",
    "    \"\"\"\n",
    "    raGC: float- the ra of the galatic center\n",
    "    decGC: float the dec of the galatic center\n",
    "    raA, array- A array of the ra's of the objects that you want to know the distances from the GC\n",
    "    decGC array- A array of the dec's of the objects that you want to know the distacnes from the GC\n",
    "    returns: array- the distances of each object away from the center of the galaxy\n",
    "    \n",
    "    This fucntion takes the inputs for the ra of the GC, the Dec of the GC, the ra's of an array of objects and the\n",
    "    declinations of an array of objects and returns an array that is those objects distances from the center of the\n",
    "    galaxy\n",
    "    \"\"\"\n",
    "    import math\n",
    "    decA=Dec\n",
    "    raA=RA\n",
    "    Maj=Maj/3600\n",
    "    S_Maj=Maj/2\n",
    "    area_T=((S_Maj)**2)*math.pi\n",
    "    G_Data= Ned.query_object(Gname)\n",
    "    raGC=float(G_Data['RA(deg)'])\n",
    "    decGC=float(G_Data['DEC(deg)'])\n",
    "    area_A=[((((decGC-dec)**2)+((raGC-ra)**2)))*(math.pi) for dec,ra in zip(decA,raA)]\n",
    "    print raGC\n",
    "    print decGC\n",
    "    print ra\n",
    "    print dec\n",
    "    plt.vlines(area_T,0,10,color='red')\n",
    "    plt.hist(area_A,B)\n",
    "    plt.plot()\n",
    "    plt.show()"
   ]
  },
  {
   "cell_type": "code",
   "execution_count": 127,
   "metadata": {
    "collapsed": false
   },
   "outputs": [
    {
     "ename": "NameError",
     "evalue": "name 'data_NGC253_RA' is not defined",
     "output_type": "error",
     "traceback": [
      "\u001b[0;31m---------------------------------------------------------------------------\u001b[0m",
      "\u001b[0;31mNameError\u001b[0m                                 Traceback (most recent call last)",
      "\u001b[0;32m<ipython-input-127-cc96b954b56f>\u001b[0m in \u001b[0;36m<module>\u001b[0;34m()\u001b[0m\n\u001b[0;32m----> 1\u001b[0;31m \u001b[0mArea_GC_R_N_B_Ds9\u001b[0m\u001b[0;34m(\u001b[0m\u001b[0;34m'NGC 253'\u001b[0m\u001b[0;34m,\u001b[0m\u001b[0mdata_NGC253_RA\u001b[0m\u001b[0;34m,\u001b[0m\u001b[0mdata_NGC_DEC\u001b[0m\u001b[0;34m,\u001b[0m\u001b[0;36m1843.60\u001b[0m\u001b[0;34m,\u001b[0m\u001b[0;36m25\u001b[0m\u001b[0;34m)\u001b[0m\u001b[0;34m\u001b[0m\u001b[0m\n\u001b[0m",
      "\u001b[0;31mNameError\u001b[0m: name 'data_NGC253_RA' is not defined"
     ]
    }
   ],
   "source": [
    "Area_GC_R_N_B_Ds9('NGC 253',data_NGC253_RA,data_NGC_DEC,1843.60,25)"
   ]
  },
  {
   "cell_type": "code",
   "execution_count": 128,
   "metadata": {
    "collapsed": false
   },
   "outputs": [
    {
     "name": "stdout",
     "output_type": "stream",
     "text": [
      "Astronomy 211 Python Homework 1.ipynb  Untitled2-Copy1.ipynb\r\n",
      "Astronomy Homework 5 Question 4.ipynb  factorial.txt\r\n",
      "Galaxy Histograms.ipynb                mybithday.txt\r\n",
      "Homework 4 Output.txt                  ngc253.fits\r\n",
      "Untitled.ipynb                         untitled.txt\r\n",
      "Untitled1.ipynb\r\n"
     ]
    }
   ],
   "source": [
    "ls"
   ]
  },
  {
   "cell_type": "code",
   "execution_count": 129,
   "metadata": {
    "collapsed": false
   },
   "outputs": [
    {
     "name": "stdout",
     "output_type": "stream",
     "text": [
      "/home/asantini\n"
     ]
    }
   ],
   "source": [
    "cd"
   ]
  },
  {
   "cell_type": "code",
   "execution_count": 130,
   "metadata": {
    "collapsed": false
   },
   "outputs": [
    {
     "name": "stdout",
     "output_type": "stream",
     "text": [
      "\u001b[34mDesktop\u001b[m\u001b[m/      \u001b[34mDownloads\u001b[m\u001b[m/    \u001b[34mMovies\u001b[m\u001b[m/       \u001b[34mPictures\u001b[m\u001b[m/     \u001b[34mcxcds_param4\u001b[m\u001b[m/\r\n",
      "\u001b[34mDocuments\u001b[m\u001b[m/    \u001b[34mLibrary\u001b[m\u001b[m/      \u001b[34mMusic\u001b[m\u001b[m/        \u001b[34mPublic\u001b[m\u001b[m/       \u001b[34mgalaxies\u001b[m\u001b[m/\r\n"
     ]
    }
   ],
   "source": [
    "ls"
   ]
  },
  {
   "cell_type": "code",
   "execution_count": 131,
   "metadata": {
    "collapsed": false
   },
   "outputs": [
    {
     "name": "stdout",
     "output_type": "stream",
     "text": [
      "/home/asantini/galaxies\n"
     ]
    }
   ],
   "source": [
    "cd galaxies/"
   ]
  },
  {
   "cell_type": "code",
   "execution_count": 132,
   "metadata": {
    "collapsed": false
   },
   "outputs": [
    {
     "name": "stdout",
     "output_type": "stream",
     "text": [
      "\u001b[34m13830\u001b[m\u001b[m/                                790_broad_flux.img\r\n",
      "13830.psfmap                          790_broad_thresh.expmap\r\n",
      "13830_broad_flux.img                  790_broad_thresh.img\r\n",
      "13830_broad_thresh.expmap             790_reproj_evt.fits\r\n",
      "13830_broad_thresh.img                \u001b[34m969\u001b[m\u001b[m/\r\n",
      "13830_reproj_evt.fits                 969.psfmap\r\n",
      "\u001b[34m13831\u001b[m\u001b[m/                                969_broad_flux.img\r\n",
      "13831.psfmap                          969_broad_thresh.expmap\r\n",
      "13831_broad_flux.img                  969_broad_thresh.img\r\n",
      "13831_broad_thresh.expmap             969_reproj_evt.fits\r\n",
      "13831_broad_thresh.img                CCDID_5_to_7.fov\r\n",
      "13831_reproj_evt.fits                 NGC_253_ObID_3931.fits\r\n",
      "\u001b[34m13832\u001b[m\u001b[m/                                NGC_253_ObID_3931_defnbkgfile.fits\r\n",
      "13832.psfmap                          NGC_253_ObID_3931_reconstructed.fits\r\n",
      "13832_broad_flux.img                  NGC_253_ObID_3931_scellfile.fits\r\n",
      "13832_broad_thresh.expmap             NGC_253_defnbkgfile.fits\r\n",
      "13832_broad_thresh.img                NGC_253_imagefile.fits\r\n",
      "13832_reproj_evt.fits                 NGC_253_scellfile.fits\r\n",
      "\u001b[34m3931\u001b[m\u001b[m/                                 NGC_253_wavdetect.fits\r\n",
      "3931.psfmap                           broad_flux.img\r\n",
      "3931_broad_flux.img                   broad_thresh.expmap\r\n",
      "3931_broad_thresh.expmap              broad_thresh.img\r\n",
      "3931_broad_thresh.img                 evt2_filtered.fits\r\n",
      "3931_reproj_evt.fits                  merged_evt.fits\r\n",
      "\u001b[34m790\u001b[m\u001b[m/                                  \u001b[34mout\u001b[m\u001b[m/\r\n",
      "790.psfmap                            weighted_mean.psfmap\r\n"
     ]
    }
   ],
   "source": [
    "ls"
   ]
  },
  {
   "cell_type": "code",
   "execution_count": 133,
   "metadata": {
    "collapsed": false
   },
   "outputs": [
    {
     "name": "stdout",
     "output_type": "stream",
     "text": [
      "/home/asantini/galaxies/out\n"
     ]
    }
   ],
   "source": [
    "cd out/"
   ]
  },
  {
   "cell_type": "code",
   "execution_count": 134,
   "metadata": {
    "collapsed": false
   },
   "outputs": [
    {
     "name": "stdout",
     "output_type": "stream",
     "text": [
      "13830.psfmap               790.psfmap\r\n",
      "13830_broad_flux.img       790_broad_flux.img\r\n",
      "13830_broad_thresh.expmap  790_broad_thresh.expmap\r\n",
      "13830_broad_thresh.img     790_broad_thresh.img\r\n",
      "13830_reproj_evt.fits      790_reproj_evt.fits\r\n",
      "13831.psfmap               969.psfmap\r\n",
      "13831_broad_flux.img       969_broad_flux.img\r\n",
      "13831_broad_thresh.expmap  969_broad_thresh.expmap\r\n",
      "13831_broad_thresh.img     969_broad_thresh.img\r\n",
      "13831_reproj_evt.fits      969_reproj_evt.fits\r\n",
      "13832.psfmap               broad_flux.img\r\n",
      "13832_broad_flux.img       broad_thresh.expmap\r\n",
      "13832_broad_thresh.expmap  broad_thresh.img\r\n",
      "13832_broad_thresh.img     merged_evt.fits\r\n",
      "13832_reproj_evt.fits      wav_none_cell.fits\r\n",
      "3931.psfmap                wav_none_nbkg.fits\r\n",
      "3931_broad_flux.img        wav_none_recon.fits\r\n",
      "3931_broad_thresh.expmap   wav_none_src.fits\r\n",
      "3931_broad_thresh.img      weighted_mean.psfmap\r\n",
      "3931_reproj_evt.fits\r\n"
     ]
    }
   ],
   "source": [
    "ls"
   ]
  },
  {
   "cell_type": "code",
   "execution_count": 135,
   "metadata": {
    "collapsed": true
   },
   "outputs": [],
   "source": [
    "data_NGC253_M=fits.open('wav_none_src.fits')"
   ]
  },
  {
   "cell_type": "code",
   "execution_count": 136,
   "metadata": {
    "collapsed": false
   },
   "outputs": [
    {
     "name": "stdout",
     "output_type": "stream",
     "text": [
      "[<astropy.io.fits.hdu.image.PrimaryHDU object at 0x114179110>, <astropy.io.fits.hdu.table.BinTableHDU object at 0x112c12850>]\n"
     ]
    }
   ],
   "source": [
    "print data_NGC253"
   ]
  },
  {
   "cell_type": "code",
   "execution_count": 137,
   "metadata": {
    "collapsed": false
   },
   "outputs": [
    {
     "name": "stdout",
     "output_type": "stream",
     "text": [
      "[<astropy.io.fits.hdu.image.PrimaryHDU object at 0x112cf88d0>, <astropy.io.fits.hdu.table.BinTableHDU object at 0x112cf85d0>]\n"
     ]
    }
   ],
   "source": [
    "print data_NGC253_M"
   ]
  },
  {
   "cell_type": "code",
   "execution_count": 138,
   "metadata": {
    "collapsed": false
   },
   "outputs": [
    {
     "data": {
      "text/plain": [
       "FITS_rec([ (11.934822265383756, -25.447758889421383, 5.0931308132717845e-05, 5.2425982467241283e-05, 3761.771739130435, 2839.356884057971, 0.33636791707613156, 0.38373608092888389, 3605, 546.48621, 27.531836, 211.51378, 0.044918105, 1.2956472e-05, 6.5284979e-07, 5.0147146e-06, 4.6762065e-09, 42178628.0, 38297.91, 35.1003, 6.2937231, 0, 'ellipse', array([ 27.05669594,  23.69781303], dtype=float32), 93.135338, 1.3411045, 1),\n",
       "       (11.796151010669558, -25.392274001653949, 2.9266246496462145e-05, 2.8857164746654007e-05, 4678.2645861601086, 3245.2184531886023, 0.1935948178779654, 0.21102356578512627, 1686, 802.58942, 29.461853, 65.410561, 0.027024129, 2.2046965e-05, 8.095713e-07, 1.7968144e-06, 1.830614e-09, 36403628.0, 33902.031, 87.869164, 4.1571569, 0, 'ellipse', array([ 17.25564194,  15.69122219], dtype=float32), 77.582138, 1.3193994, 2),\n",
       "       (11.792718303671352, -25.375758967841282, 4.0219600512259035e-05, 4.3489367609339524e-05, 4701.037878787879, 3366.0454545454545, 0.26611354729629966, 0.3180342042473967, 1124, 304.29742, 18.681555, 44.702583, 0.021433169, 8.899493e-06, 5.4655482e-07, 1.3073734e-06, 2.2258042e-09, 34192668.0, 55856.898, 39.3055, 3.557477, 0, 'ellipse', array([ 15.5075779 ,  12.96522808], dtype=float32), 87.282875, 1.3286136, 3),\n",
       "       (11.815900174823195, -25.362779448905755, 2.152884439965419e-05, 2.496838520471556e-05, 4547.828125, 3461.109375, 0.14243785908638529, 0.18262334966220806, 368, 354.20001, 19.544828, 27.799982, 0.016876236, 8.5939855e-06, 4.7429003e-07, 6.7451333e-07, 7.6793377e-10, 41214876.0, 39696.207, 55.839165, 2.6460009, 0, 'ellipse', array([ 9.86776161,  7.55711603], dtype=float32), 79.564171, 1.0878679, 4),\n",
       "       (11.777980026189578, -25.35735381327952, 3.6082882104437886e-05, 4.7683613921378765e-05, 4798.5809935205179, 3500.645788336933, 0.23886080526426667, 0.34871618877741639, 1208, 416.06363, 21.517447, 46.936367, 0.021632504, 1.2032421e-05, 6.2254236e-07, 1.357384e-06, 2.1423519e-09, 34578548.0, 52196.359, 52.629433, 3.3716707, 0, 'ellipse', array([ 22.57645607,  15.3221817 ], dtype=float32), 95.972755, 1.8387462, 5),\n",
       "       (11.885974347010336, -25.352279076641128, 3.0096636068677185e-05, 5.3522459204202733e-05, 4084.5094339622642, 3538.0566037735848, 0.19900543294625095, 0.39163111938387374, 106, 44.710106, 7.2801151, 8.2898941, 0.0086579127, 8.1396951e-07, 1.3255323e-07, 1.5092159e-07, 4.0349715e-10, 54928480.0, 135185.86, 11.158998, 1.639799, 0, 'ellipse', array([ 8.55467606,  4.34373951], dtype=float32), 91.169754, 1.2391441, 6),\n",
       "       (11.807153621148487, -25.348721592589236, 1.7514070798085868e-05, 1.6734716254518389e-05, 4605.7178217821784, 3563.9405940594061, 0.11588366849900922, 0.12238276244625013, 396, 469.53806, 22.405363, 32.461956, 0.018238867, 1.1061605e-05, 5.278647e-07, 7.6475453e-07, 5.7203203e-10, 42447552.0, 20959.639, 69.427666, 2.4045017, 0, 'ellipse', array([ 8.15468121,  6.06526518], dtype=float32), 129.5381, 0.97494936, 7),\n",
       "       (11.844174721614335, -25.347458103083955, 2.6775306221082928e-06, 3.5690542894428745e-06, 4360.9153208578991, 3573.292660001709, 0.017713364150949928, 0.026109785878361436, 912, 12096.69, 110.59838, 135.30946, 0.037159804, 0.00020709974, 1.8935888e-06, 2.3165474e-06, 6.7388922e-10, 58409972.0, 5603.5645, 955.16882, 1.7136992, 0, 'ellipse', array([ 8.48559475,  5.73114729], dtype=float32), 85.884438, 1.3564571, 8),\n",
       "       (11.841658089346096, -25.346939609247435, 2.5544982920067127e-05, 2.9328245226167837e-05, 4377.5581395348836, 3577.0813953488373, 0.16898885748560133, 0.21454362261056303, 135, 96.918678, 10.723814, 18.081326, 0.013508178, 1.7252293e-06, 1.9089428e-07, 3.218619e-07, 2.8839539e-10, 56177276.0, 27790.93, 18.151239, 1.7250251, 0, 'ellipse', array([ 5.98174524,  4.6849165 ], dtype=float32), 96.073608, 1.0229354, 9),\n",
       "       (11.936141877657402, -25.34611252610398, 2.6925698048074764e-05, 2.5304403081349847e-05, 3752.7647058823532, 3583.1111111111113, 0.17798063826739963, 0.18522362794601577, 173, 145.55099, 12.36932, 7.4490037, 0.0079772919, 3.919889e-06, 3.334986e-07, 2.0061194e-07, 8.3800633e-10, 37131408.0, 149923.31, 37.674423, 1.9032164, 0, 'ellipse', array([ 8.05770969,  5.0925951 ], dtype=float32), 47.665291, 1.1219305, 10),\n",
       "       (11.799980178751888, -25.343917677078053, 2.4425437654684856e-05, 3.2998163622011134e-05, 4653.1749174917495, 3599.0627062706271, 0.16167337525348557, 0.24134888588923786, 328, 277.19229, 17.406902, 25.807701, 0.016541602, 6.5072509e-06, 4.0863776e-07, 6.0585086e-07, 3.9329795e-10, 42597452.0, 4384.0635, 45.046894, 2.437273, 0, 'ellipse', array([ 12.61721802,   8.42203617], dtype=float32), 93.602081, 1.4098241, 11),\n",
       "       (11.896269452305201, -25.337195037419473, 2.3395707710704983e-05, 3.7968423630019288e-05, 4016.4242424242425, 3648.4242424242425, 0.15469572628990136, 0.27783203410353963, 58, 26.91029, 5.7445679, 6.0897107, 0.0075873197, 4.4992316e-07, 9.604625e-08, 1.0181615e-07, 1.5096409e-10, 59810852.0, 48076.5, 7.4434786, 1.2314123, 0, 'ellipse', array([ 4.79265547,  2.657727  ], dtype=float32), 86.987709, 0.96609211, 12),\n",
       "       (11.899943507601936, -25.334940729433495, 6.1936918600125068e-05, 4.0192008160744308e-05, 3992.125, 3664.916666666667, 0.40957506773611385, 0.29413636922981823, 58, 17.762758, 4.8989854, 6.2372408, 0.0077440622, 2.9607406e-07, 8.1657788e-08, 1.0396387e-07, 1.4956869e-10, 59994312.0, 43602.742, 4.8754067, 1.1960728, 0, 'ellipse', array([ 6.16742945,  4.10909843], dtype=float32), 163.02585, 1.4029639, 13),\n",
       "       (11.904696979423269, -25.333866175705541, 3.6618032694946123e-05, 4.2461658811276948e-05, 3960.6875, 3672.7750000000001, 0.24212196694043087, 0.31073250151848697, 145, 65.01757, 8.9442797, 14.982429, 0.011942867, 1.094551e-06, 1.5057427e-07, 2.5222462e-07, 2.0276747e-10, 59401136.0, 6194.041, 13.091456, 1.2020221, 0, 'ellipse', array([ 8.48868942,  6.29842186], dtype=float32), 73.742172, 2.0276945, 14),\n",
       "       (11.89716930669332, -25.333349905900647, 2.3732273312759844e-05, 2.356745446618902e-05, 4010.4705882352941, 3676.5588235294117, 0.15693481620019156, 0.17246019785852695, 67, 33.276539, 6.4031301, 7.7234621, 0.0086028101, 5.6575345e-07, 1.0886347e-07, 1.31311e-07, 1.5365001e-10, 58818088.0, 21085.83, 8.5086184, 1.1425192, 0, 'ellipse', array([ 3.04504538,  2.71389794], dtype=float32), 72.57106, 0.83870429, 15),\n",
       "       (11.909938525225495, -25.329290444360431, 2.6316123845404604e-05, 3.8194883135389546e-05, 3926.0166666666669, 3706.25, 0.17399180483062082, 0.27950849718763493, 89, 50.433487, 7.7459726, 9.5665131, 0.0095785679, 8.4166305e-07, 1.2927018e-07, 1.5965148e-07, 1.8496323e-10, 59921232.0, 34924.469, 11.973953, 1.1420809, 0, 'ellipse', array([ 6.55831957,  3.93998027], dtype=float32), 99.970627, 1.4836285, 16),\n",
       "       (11.855008243521459, -25.329235662052547, 5.0125867030459403e-06, 6.0831555757090428e-06, 4289.3059701492539, 3706.6462686567165, 0.033161144846417301, 0.044503719569547684, 338, 1473.8666, 39.191845, 62.133404, 0.024273343, 2.5227948e-05, 6.7085102e-07, 1.063528e-06, 4.4389897e-10, 58421976.0, 8584.2217, 165.0484, 1.1540799, 0, 'ellipse', array([ 4.9156208 ,  3.60338712], dtype=float32), 99.0653, 1.2155911, 17),\n",
       "       (11.862312326561719, -25.328693360641356, 2.8345314159849977e-05, 2.6713377572207264e-05, 4241.0, 3710.6235294117646, 0.18749855824171391, 0.19543331013301213, 101, 66.849319, 9.2195539, 18.150681, 0.013083592, 1.1488048e-06, 1.5843823e-07, 3.1191928e-07, 2.3958605e-10, 58190316.0, 15437.771, 12.501061, 1.0754527, 0, 'ellipse', array([ 5.6515646 ,  4.91655159], dtype=float32), 126.29394, 1.6338121, 18),\n",
       "       (11.894486113062809, -25.327036293454672, 5.0511234130468097e-05, 4.8657732232726403e-05, 4028.212121212121, 3722.757575757576, 0.33404215478140031, 0.35605816383485944, 65, 23.656458, 5.7445703, 9.3435421, 0.0093993656, 3.9380362e-07, 9.5629289e-08, 1.5553979e-07, 2.1656636e-10, 60071712.0, 57827.043, 5.6634588, 1.003601, 0, 'ellipse', array([ 7.77859402,  3.20731378], dtype=float32), 47.577579, 1.6589717, 19),\n",
       "       (11.842924183256203, -25.326686048750403, 1.537501281312359e-05, 1.9253348494174816e-05, 4369.2314049586776, 3725.2809917355371, 0.10173035453408374, 0.14084698008082341, 125, 126.27911, 12.206565, 22.720894, 0.014884654, 2.1522208e-06, 2.0804312e-07, 3.8724045e-07, 3.0645622e-10, 58673864.0, 26050.311, 21.605831, 1.2402549, 0, 'ellipse', array([ 4.69081354,  3.29694462], dtype=float32), 100.93008, 1.0569336, 20),\n",
       "       (11.869160453005492, -25.323172749184319, 8.9958629949649094e-06, 9.6031669869489633e-06, 4195.7132352941171, 3751.0245098039213, 0.059506277222681092, 0.070260459968267241, 159, 406.93753, 20.928455, 31.062479, 0.01652886, 7.3013575e-06, 3.7551504e-07, 5.5732943e-07, 3.7668588e-10, 55734500.0, 23226.045, 61.283417, 0.94385904, 0, 'ellipse', array([ 4.28745699,  3.57032204], dtype=float32), 102.29047, 1.3817364, 21),\n",
       "       (11.881909882171797, -25.322656748703224, 5.0494490713148821e-05, 3.9751232584706031e-05, 4111.3888888888887, 3754.8055555555557, 0.33397571846035135, 0.29085719536124088, 66, 22.446571, 6.0000105, 13.553429, 0.011245236, 3.8804396e-07, 1.0372553e-07, 2.343042e-07, 2.9552935e-10, 57845436.0, 54953.066, 4.6939836, 0.91005254, 0, 'ellipse', array([ 6.52852821,  4.57459641], dtype=float32), 33.137005, 2.0016875, 22),\n",
       "       (11.910021964406562, -25.321997405483344, 4.7982503643240193e-05, 4.4834321599296345e-05, 3925.4545454545455, 3759.613636363636, 0.31729510447030407, 0.32811745322487695, 88, 33.578857, 6.6332564, 10.421144, 0.0094534243, 6.1647341e-07, 1.2178148e-07, 1.9132152e-07, 2.6417724e-10, 54469272.0, 56703.391, 7.7329192, 0.99918628, 0, 'ellipse', array([ 6.84104156,  5.97509003], dtype=float32), 127.78397, 2.1328762, 23),\n",
       "       (11.888261610109224, -25.321937567898566, 1.5208735870686496e-05, 1.637956654931827e-05, 4069.3783783783783, 3760.0675675675675, 0.10058757745719049, 0.11985363773419522, 62, 66.545197, 8.8882008, 12.454801, 0.010797497, 1.0867009e-06, 1.4514718e-07, 2.0339023e-07, 1.8978885e-10, 61235984.0, 21137.504, 14.3607, 0.89956772, 0, 'ellipse', array([ 3.3292253 ,  2.28512001], dtype=float32), 59.425102, 1.0220473, 24),\n",
       "       (11.857140001049732, -25.320934396233024, 3.1933150959062573e-05, 3.4607679978648775e-05, 4275.2195121951218, 3767.3902439024391, 0.21126005109181278, 0.25318447441577518, 54, 29.718035, 6.4031324, 11.281964, 0.010298998, 5.134612e-07, 1.106328e-07, 1.9492713e-07, 2.5106009e-10, 57877856.0, 52586.977, 6.6502457, 0.96650058, 0, 'ellipse', array([ 5.29634666,  3.47437167], dtype=float32), 121.64021, 1.479459, 25),\n",
       "       (11.860258103458815, -25.320616361642738, 1.000730588884835e-05, 1.1401632256990979e-05, 4254.5964912280706, 3769.7212475633528, 0.066204343034769408, 0.083414820607231377, 215, 500.8027, 23.366652, 45.197292, 0.020328745, 8.9565801e-06, 4.1794044e-07, 8.0832865e-07, 6.4015887e-10, 55914504.0, 36447.098, 64.383408, 0.94173282, 0, 'ellipse', array([ 5.67081499,  4.49482727], dtype=float32), 93.007446, 1.7870235, 26),\n",
       "       (11.827099550895689, -25.320593849721345, 8.9843937480793556e-06, 1.0105593972298266e-05, 4473.9111111111106, 3769.8196969696969, 0.059455311597048421, 0.073918126009175467, 489, 1905.9166, 44.4972, 74.083412, 0.027790559, 3.1498443e-05, 7.3539934e-07, 1.2243515e-06, 4.8077142e-10, 60508280.0, 7023.6963, 197.49141, 1.3626006, 0, 'ellipse', array([ 10.33985901,   7.31070185], dtype=float32), 114.99545, 2.1268997, 27),\n",
       "       (11.896019083619962, -25.319939543611618, 5.7071488654969471e-06, 5.7811070703905898e-06, 4018.0688259109311, 3774.6842105263158, 0.037744212047073233, 0.042304149266783497, 135, 496.99478, 22.891052, 27.005215, 0.015677979, 8.2051292e-06, 3.7792131e-07, 4.4584226e-07, 2.6647654e-10, 60571232.0, 8607.4277, 79.286736, 0.88663757, 0, 'ellipse', array([ 2.94943619,  2.36462569], dtype=float32), 60.740051, 0.99284929, 28),\n",
       "       (11.847917166096989, -25.317898843224889, 6.5895450074293649e-06, 8.9969748451323994e-06, 4336.2262521588946, 3789.5872193436962, 0.04360277881824004, 0.065819775475119968, 167, 576.77673, 24.73864, 35.223274, 0.018468246, 9.6144049e-06, 4.1237553e-07, 5.8714369e-07, 3.1885478e-10, 59990892.0, 8484.8984, 82.422905, 0.99873918, 0, 'ellipse', array([ 4.75875235,  3.13636088], dtype=float32), 94.251762, 1.2893957, 29),\n",
       "       (11.877148127223043, -25.31718128588194, 3.0372527625388557e-05, 4.2684587061359025e-05, 4142.8852459016398, 3794.8688524590161, 0.20090946223535866, 0.31231587197817134, 78, 40.558971, 7.8102617, 20.441029, 0.013763716, 6.7771163e-07, 1.3050753e-07, 3.4155505e-07, 5.4014548e-10, 59846952.0, 85636.32, 7.2383161, 0.82295227, 0, 'ellipse', array([ 7.45105696,  4.49355555], dtype=float32), 103.65271, 2.3437328, 30),\n",
       "       (11.83986890008546, -25.315965958945153, 4.4815286353028227e-05, 6.7595472106773968e-05, 4389.4642857142862, 3803.7142857142858, 0.296588351331593, 0.49450331414163884, 58, 17.008879, 5.2915125, 10.991121, 0.010306397, 2.8178744e-07, 8.7665065e-08, 1.8209077e-07, 2.0090274e-10, 60360672.0, 35092.859, 3.842484, 1.0732086, 0, 'ellipse', array([ 8.50733852,  3.37857056], dtype=float32), 114.83335, 1.6651676, 31),\n",
       "       (11.851172649327843, -25.31435477563307, 4.6031584224337507e-05, 4.1572261384459352e-05, 4314.6999999999998, 3815.5250000000001, 0.30454884665687132, 0.30411243808839572, 63, 26.137486, 6.3245659, 13.862514, 0.011552699, 4.3577532e-07, 1.0544821e-07, 2.3112177e-07, 4.1967854e-10, 59979268.0, 96764.477, 5.4197555, 0.90891361, 0, 'ellipse', array([ 6.16440868,  5.35578585], dtype=float32), 135.29408, 2.1072373, 32),\n",
       "       (11.887437274184146, -25.312847704624186, 8.9045471884929839e-06, 1.0270266621148494e-05, 4074.8289473684213, 3826.5789473684208, 0.058897637780319201, 0.075149761650209257, 126, 225.51157, 16.340147, 41.488438, 0.019478841, 3.9513347e-06, 2.8630845e-07, 7.2694593e-07, 3.9688322e-10, 57072248.0, 15902.725, 30.071774, 0.76272064, 0, 'ellipse', array([ 3.47846317,  2.57044458], dtype=float32), 107.76034, 1.3068058, 33),\n",
       "       (11.8415246830731, -25.312663798912123, 3.0965200600974185e-05, 3.3990280414286644e-05, 4378.5200000000004, 3827.8800000000001, 0.20489997559707263, 0.24864432428694272, 50, 19.223959, 5.3851738, 9.776042, 0.0097195311, 3.149089e-07, 8.8215138e-08, 1.6014197e-07, 1.9265749e-10, 61046092.0, 41351.105, 4.5292668, 0.99366057, 0, 'ellipse', array([ 3.73762107,  3.06381941], dtype=float32), 96.537788, 1.1351935, 34),\n",
       "       (11.878159085603162, -25.312481599427688, 1.7965406705400255e-05, 1.42639884401774e-05, 4136.1999999999998, 3829.2571428571428, 0.11883791053242021, 0.10436535957796877, 47, 61.826103, 8.7178049, 14.173896, 0.011416322, 1.0726271e-06, 1.512462e-07, 2.4590429e-07, 2.0378119e-10, 57639888.0, 11236.209, 12.713191, 0.75346255, 0, 'ellipse', array([ 3.11208534,  2.46457076], dtype=float32), 152.15219, 1.2252183, 35),\n",
       "       (11.884430555816369, -25.311506046317206, 2.1489266723406786e-05, 1.97527696883526e-05, 4094.7169811320755, 3836.3962264150941, 0.14214288032417244, 0.1445327913033907, 55, 50.008698, 8.3066339, 18.991301, 0.013201377, 8.5552074e-07, 1.4210582e-07, 3.2489251e-07, 2.7381444e-10, 58454104.0, 27855.312, 9.1875086, 0.73932666, 0, 'ellipse', array([ 3.16917586,  3.09165287], dtype=float32), 113.83772, 1.4112726, 36),\n",
       "       (11.873726325776969, -25.310739830563879, 5.0800438142317716e-05, 3.6632697181460117e-05, 4165.521739130435, 3842.0, 0.33604823005134676, 0.26801800012890453, 30, 14.000278, 4.7958403, 8.9997215, 0.0090504792, 2.4492519e-07, 8.3902016e-08, 1.5744391e-07, 4.1413001e-10, 57161448.0, 138931.06, 3.3961027, 0.73524785, 0, 'ellipse', array([ 5.65485382,  2.5036726 ], dtype=float32), 35.338871, 1.7058642, 37),\n",
       "       (11.847240077892094, -25.310295533801693, 5.1126891856156931e-05, 4.4640612433255455e-05, 4340.7199999999993, 3845.2200000000003, 0.33827799219034205, 0.32654555578028521, 93, 30.255232, 7.0710812, 19.744768, 0.013823396, 4.9078903e-07, 1.1470446e-07, 3.202922e-07, 2.3259789e-10, 61646108.0, 11894.368, 5.4739652, 0.88317066, 0, 'ellipse', array([ 7.58382893,  6.47798872], dtype=float32), 38.477341, 2.6454434, 38),\n",
       "       (11.899144240484258, -25.308097219362516, 2.1045951374532024e-05, 2.147296218524275e-05, 3997.3888888888887, 3861.333333333333, 0.13919718868874043, 0.15713484026400693, 36, 14.78725, 5.3851771, 14.21275, 0.0114533, 2.5745953e-07, 9.376128e-08, 2.47457e-07, 3.357532e-10, 57435236.0, 62695.395, 3.0375366, 0.74022162, 0, 'ellipse', array([ 2.02828813,  1.73923433], dtype=float32), 71.126595, 0.84578669, 39),\n",
       "       (11.823461596949912, -25.307457043688096, 7.7570205849752938e-06, 8.9910599356812781e-06, 4498.0164588528678, 3865.93216957606, 0.051341193492589809, 0.065765047908826091, 437, 1939.5917, 44.777233, 65.408272, 0.025605068, 3.2260974e-05, 7.447747e-07, 1.0879272e-06, 4.2756762e-10, 60121920.0, 2093.7542, 212.35382, 1.2180632, 0, 'ellipse', array([ 9.17856121,  6.43152714], dtype=float32), 112.34988, 2.1025834, 40),\n",
       "       (11.879078191062053, -25.307330111806049, 8.591462556495344e-06, 1.138848751836008e-05, 4130.1219512195121, 3866.9512195121952, 0.056834304111362144, 0.083328264588999446, 297, 1155.5874, 35.6511, 115.41256, 0.032051973, 2.0515732e-05, 6.3294556e-07, 2.0489779e-06, 7.0238315e-10, 56326896.0, 11319.214, 98.115112, 0.68733418, 0, 'ellipse', array([ 8.93049335,  6.05174971], dtype=float32), 94.986633, 3.5652421, 41),\n",
       "       (11.866709892748052, -25.305628414248631, 6.3069724340891753e-06, 6.6851539948231675e-06, 4211.9378757515024, 3879.3957915831661, 0.041726559350536263, 0.048910342897215742, 226, 1001.3631, 32.802448, 74.636887, 0.026864333, 1.6164895e-05, 5.2953624e-07, 1.204855e-06, 4.9601095e-10, 61946772.0, 12377.812, 103.41923, 0.68924063, 0, 'ellipse', array([ 4.67659903,  3.90576077], dtype=float32), 103.93452, 2.0669301, 42),\n",
       "       (11.889729709547773, -25.304606138586028, 6.5299095624027359e-06, 6.8887975821496639e-06, 4059.663043478261, 3886.8826086956524, 0.043193181650167389, 0.050407642133450281, 129, 459.41513, 23.06514, 72.584854, 0.025698949, 8.3177401e-06, 4.1760018e-07, 1.3141535e-06, 5.5469845e-10, 55233168.0, 12692.892, 48.038002, 0.66826922, 0, 'ellipse', array([ 3.24995422,  2.77146959], dtype=float32), 83.003319, 1.4969971, 43),\n",
       "       (11.864211869477439, -25.304612975324577, 2.4140896535129741e-05, 2.196821921174319e-05, 4228.4632352941171, 3886.8235294117649, 0.15971566168082063, 0.16071933379043912, 145, 118.62109, 12.806266, 45.378902, 0.021092214, 1.9105889e-06, 2.0626619e-07, 7.3090229e-07, 3.4972619e-10, 62086144.0, 7053.6567, 15.223786, 0.68555027, 0, 'ellipse', array([ 5.8479538 ,  5.35176134], dtype=float32), 132.96899, 2.7201307, 44),\n",
       "       (11.967153113638494, -25.304046758913024, 4.5276686876150052e-05, 2.5786459399768091e-05, 3547.505376344086, 3890.8064516129034, 0.29938992807956311, 0.18886695924902597, 160, 84.011398, 9.6436558, 8.9886017, 0.0095501114, 1.6141714e-06, 1.8529119e-07, 1.7270447e-07, 1.9139218e-10, 52046144.0, 16399.135, 20.387785, 1.7425969, 0, 'ellipse', array([ 8.7983551 ,  5.24111366], dtype=float32), 12.628456, 1.2989558, 45),\n",
       "       (11.885179800071874, -25.30325817772146, 1.7156665540696281e-05, 1.8203674194694486e-05, 4089.7605633802818, 3896.7464788732395, 0.11349139640105932, 0.1331985016759063, 51, 58.6908, 9.3273926, 28.3092, 0.016018916, 1.0515291e-06, 1.671138e-07, 5.0719962e-07, 3.2257752e-10, 55814712.0, 16205.503, 9.1838417, 0.64493996, 0, 'ellipse', array([ 3.38087463,  2.85258365], dtype=float32), 99.689003, 1.605067, 46),\n",
       "       (11.954694343830147, -25.303057436929091, 3.5602647049159941e-05, 3.396346856021637e-05, 3629.9166666666665, 3898.0925925925926, 0.23538377442400815, 0.24863724500073658, 189, 96.310913, 10.39231, 11.689086, 0.010222439, 1.9770091e-06, 2.13383e-07, 2.399461e-07, 6.3075123e-10, 48715464.0, 120764.95, 21.275206, 1.4219081, 0, 'ellipse', array([ 8.76288033,  6.09553957], dtype=float32), 49.525951, 1.7133131, 47),\n",
       "       (11.823196034949673, -25.303157914721169, 2.5125901537137452e-06, 3.3724988526273592e-06, 4499.787399979743, 3897.3884331003746, 0.016632176407256338, 0.024669276295753662, 545, 9948.6426, 100.15488, 82.356972, 0.028268622, 0.00016877544, 1.6991344e-06, 1.3971589e-06, 4.8913917e-10, 58946032.0, 4062.4834, 983.42682, 1.165367, 0, 'ellipse', array([ 7.51684189,  4.70675325], dtype=float32), 105.41499, 1.7013531, 48),\n",
       "       (11.851391519726468, -25.301920239572887, 3.2211866622944285e-05, 2.8712241665118654e-05, 4313.2745098039213, 3906.5098039215686, 0.21313722130071255, 0.21003752620481464, 61, 38.610676, 7.1414366, 12.389323, 0.010646648, 6.6751335e-07, 1.2347205e-07, 2.1419045e-07, 5.0482196e-10, 57842556.0, 126943.45, 8.3485785, 0.74199414, 0, 'ellipse', array([ 5.11674356,  3.86254883], dtype=float32), 43.467697, 1.9971564, 49),\n",
       "       (11.856367262244552, -25.301220178320694, 2.00849777929335e-05, 1.6037474033225863e-05, 4280.3603603603606, 3911.6396396396394, 0.13288993280548311, 0.11731984726247902, 135, 119.56174, 12.32884, 32.438267, 0.017447375, 1.9246008e-06, 1.9845898e-07, 5.2216296e-07, 2.8259894e-10, 62122876.0, 3731.9075, 17.684225, 0.69231761, 0, 'ellipse', array([ 4.26706028,  3.6310401 ], dtype=float32), 160.39165, 1.8951924, 50),\n",
       "       (11.858272360310275, -25.300643457961613, 3.2675327611642047e-05, 3.2467666194690992e-05, 4267.7586206896558, 3915.8620689655172, 0.21619987016947562, 0.23752658243392943, 82, 31.254509, 7.2111158, 20.745491, 0.013928542, 5.0336195e-07, 1.1613694e-07, 3.3411149e-07, 2.362936e-10, 62091524.0, 13799.803, 5.5451946, 0.66961062, 0, 'ellipse', array([ 3.84259009,  3.48706031], dtype=float32), 82.867744, 1.822209, 51),\n",
       "       (11.864587731248388, -25.299714057789213, 1.8600034811910859e-05, 1.5281119679855237e-05, 4225.9821428571431, 3922.6696428571431, 0.12306029640967608, 0.11179512230546607, 90, 100.16288, 11.357829, 28.837116, 0.016678939, 1.6099109e-06, 1.8255359e-07, 4.6349692e-07, 2.692408e-10, 62216416.0, 3353.2593, 15.554682, 0.62792063, 0, 'ellipse', array([ 3.91564989,  3.53988814], dtype=float32), 8.9181757, 1.9763811, 52),\n",
       "       (11.870658852784619, -25.297946610147726, 1.536996127882162e-05, 1.5951414482628934e-05, 4185.8214285714284, 3935.6071428571427, 0.10168944606175501, 0.11670744116008791, 37, 29.878979, 6.7082148, 15.12102, 0.012027118, 4.8504268e-07, 1.0889871e-07, 2.4546821e-07, 2.4580105e-10, 61600724.0, 37473.664, 5.9951663, 0.59354168, 0, 'ellipse', array([ 2.08775187,  1.29597735], dtype=float32), 126.01543, 0.92377388, 53),\n",
       "       (11.892139397655267, -25.298009665666228, 1.9892418832156977e-05, 1.7364082175674866e-05, 4043.7201166180757, 3935.1486880466473, 0.13158772532960938, 0.12706210034048127, 170, 437.952, 23.579674, 118.048, 0.03240541, 8.4739895e-06, 4.562566e-07, 2.2841259e-06, 1.041735e-09, 51681912.0, 18823.1, 36.804394, 0.6091947, 0, 'ellipse', array([ 7.47177124,  6.88941097], dtype=float32), 147.79922, 3.9257755, 54),\n",
       "       (11.878774547493425, -25.297699066167105, 1.5466284962073473e-05, 1.2514398203933297e-05, 4132.1333333333332, 3937.4222222222224, 0.10231879496132024, 0.091564664535326301, 40, 50.280033, 8.7178125, 25.719967, 0.015914749, 8.1085403e-07, 1.4059034e-07, 4.1477972e-07, 2.9439876e-10, 62008736.0, 21560.75, 8.1824045, 0.58340365, 0, 'ellipse', array([ 2.08317471,  1.81547201], dtype=float32), 162.00426, 1.1111361, 55),\n",
       "       (11.890473009986485, -25.297253870182445, 2.1657237869732171e-05, 2.0052217394095351e-05, 4054.7435897435898, 3940.6794871794873, 0.1432641654996587, 0.1467302956648382, 101, 142.34431, 14.730944, 74.655685, 0.026294515, 2.6362977e-06, 2.7284355e-07, 1.3826658e-06, 1.7187606e-09, 53994024.0, 64368.238, 14.699456, 0.597938, 0, 'ellipse', array([ 3.88806725,  3.79540801], dtype=float32), 93.820923, 2.1415031, 56),\n",
       "       (11.887342837610765, -25.296926294307038, 2.0598584509201601e-06, 2.2619535720025397e-06, 4075.4508393285373, 3943.0771172535656, 0.01362640853267294, 0.01655120535133392, 534, 15787.51, 127.34993, 430.49033, 0.064753674, 0.00027236127, 2.1970611e-06, 7.4266868e-06, 1.2006147e-09, 57965328.0, 3433.6685, 725.31805, 0.58752614, 0, 'ellipse', array([ 6.32099867,  5.05899429], dtype=float32), 104.38995, 3.2083113, 57),\n",
       "       (11.837283208815721, -25.296424352035515, 1.2440175916950125e-05, 1.3090011723448924e-05, 4406.6169590643276, 3946.6959064327484, 0.082330668368740589, 0.095751830755034462, 223, 337.59558, 19.183334, 30.404411, 0.016755074, 5.5428436e-06, 3.1496663e-07, 4.991976e-07, 3.0452429e-10, 60906568.0, 15935.104, 51.293739, 0.83959043, 0, 'ellipse', array([ 5.48366308,  4.36045218], dtype=float32), 114.1459, 1.9413882, 58),\n",
       "       (11.85438981421599, -25.2959977131875, 4.7160190236539279e-05, 3.8995414417541951e-05, 4293.4499999999998, 3949.8499999999999, 0.31204967553276219, 0.28526303651187845, 36, 12.04752, 4.4721446, 7.9524803, 0.0086903134, 1.9345688e-07, 7.1812885e-08, 1.2769948e-07, 1.4033205e-10, 62274964.0, 7226.4966, 3.0500076, 0.65601254, 0, 'ellipse', array([ 4.82449102,  2.98316717], dtype=float32), 140.77808, 1.9276632, 59),\n",
       "       (11.884671774648357, -25.295544116194904, 8.6157079568494055e-06, 1.5653476747701234e-05, 4093.1209677419356, 3953.1908602150538, 0.056996629899003892, 0.11453786345100525, 81, 303.01846, 19.287319, 68.981529, 0.026354508, 5.0830695e-06, 3.2354143e-07, 1.1571503e-06, 4.7094234e-10, 59613284.0, 8361.376, 32.406517, 0.57030648, 0, 'ellipse', array([ 6.66870546,  3.21354723], dtype=float32), 97.288002, 2.7057242, 60),\n",
       "       (11.800027442929879, -25.295496291093773, 3.0050298526873576e-05, 2.9366208050163323e-05, 4653.0845070422529, 3953.3661971830984, 0.19893236051575514, 0.21475011116172027, 205, 100.79018, 10.81666, 16.209816, 0.011519711, 2.3370653e-06, 2.5113829e-07, 3.75864e-07, 2.079978e-09, 43126816.0, 236681.53, 19.69239, 1.5584662, 0, 'ellipse', array([ 5.75512743,  4.65139771], dtype=float32), 124.32587, 1.1066252, 61),\n",
       "       (11.878948676375932, -25.295487455028677, 9.9540454190361061e-06, 9.6804543012751765e-06, 4130.9820359281439, 3953.6047904191619, 0.065853593299834756, 0.070830038760504976, 77, 159.94063, 14.628757, 54.059376, 0.023016913, 2.6242174e-06, 2.4002159e-07, 8.8697641e-07, 4.4596879e-10, 60947932.0, 16299.851, 19.032993, 0.56310523, 0, 'ellipse', array([ 2.90332413,  2.3725841 ], dtype=float32), 124.29303, 1.5536306, 62),\n",
       "       (11.90520651279374, -25.29443547228853, 5.7161037450015328e-06, 5.1179098896625419e-06, 3957.2725060827252, 3961.2919708029199, 0.037809257530170726, 0.037454060648087761, 58, 405.62488, 20.832674, 28.37513, 0.016375091, 6.8731806e-06, 3.5300314e-07, 4.8080733e-07, 2.7934641e-10, 59015596.0, 3966.8945, 63.410885, 0.63845807, 0, 'ellipse', array([ 2.354249  ,  2.22134233], dtype=float32), 139.67917, 1.193934, 63),\n",
       "       (11.899606417334109, -25.294336842697014, 2.5434280273017862e-05, 2.2344472405677607e-05, 3994.320093457944, 3962.0186915887853, 0.16824291168222771, 0.1635155245576243, 361, 465.7959, 26.495323, 236.20409, 0.046215478, 8.5809061e-06, 4.8824086e-07, 4.3513592e-06, 6.0557053e-09, 54282832.0, 74794.07, 28.413774, 0.60406059, 0, 'ellipse', array([ 10.46401215,  10.1257143 ], dtype=float32), 14.925675, 5.6801553, 64),\n",
       "       (11.874511691375217, -25.29404734034339, 7.818084259980651e-06, 7.7125386681586861e-06, 4160.3356009070294, 3964.140589569161, 0.051725093976529024, 0.056429492743518495, 171, 451.04559, 23.345255, 93.954399, 0.030182188, 7.2395478e-06, 3.7470718e-07, 1.5080235e-06, 5.4974919e-10, 62303008.0, 10736.979, 42.029594, 0.55105829, 0, 'ellipse', array([ 3.5565505 ,  3.25705194], dtype=float32), 85.864204, 2.0587709, 65),\n",
       "       (11.876426720719838, -25.293895833158228, 3.7081394653526445e-05, 2.8474157545588241e-05, 4147.6666666666661, 3965.25, 0.24532669073232682, 0.20833333333348492, 40, 17.179043, 6.4807591, 24.820957, 0.015484097, 2.7974446e-07, 1.0553316e-07, 4.0418581e-07, 3.4320466e-10, 61409768.0, 35375.914, 2.8363357, 0.54849833, 0, 'ellipse', array([ 2.95425844,  1.56839299], dtype=float32), 143.40434, 1.3081427, 66),\n",
       "       (11.866463537223975, -25.29297644045225, 3.7482954583722972e-05, 2.3932325547093569e-05, 4213.579710144928, 3971.9710144927535, 0.24799621002239292, 0.17508183880818251, 169, 79.295242, 11.661927, 56.704754, 0.023161687, 1.2764939e-06, 1.8773451e-07, 9.1283243e-07, 5.6877514e-10, 62119568.0, 29229.119, 9.2419872, 0.5597375, 0, 'ellipse', array([ 6.19783258,  4.3376956 ], dtype=float32), 173.91364, 3.0877619, 67),\n",
       "       (11.966805992856306, -25.292598794840995, 4.4753703688726887e-05, 4.7985054568044916e-05, 3549.75, 3974.5735294117649, 0.29585881674620396, 0.35129282759908165, 177, 58.218552, 8.2462168, 9.7814474, 0.0098328209, 1.1326257e-06, 1.6043204e-07, 1.9029531e-07, 2.7294766e-10, 51401408.0, 52590.242, 13.71391, 1.6261455, 0, 'ellipse', array([ 9.51988506,  6.20213747], dtype=float32), 57.445805, 1.575092, 68),\n",
       "       (11.861968166374881, -25.29246894133918, 3.4953576321328228e-05, 5.6669013137167212e-05, 4243.3199999999997, 3975.6799999999998, 0.2313093167176703, 0.41461307263534763, 43, 13.057496, 5.0000114, 11.942504, 0.010592797, 2.0994388e-07, 8.0392297e-08, 1.9201656e-07, 1.8086994e-10, 62195176.0, 19719.947, 2.8618205, 0.57915926, 0, 'ellipse', array([ 6.30938387,  3.30279803], dtype=float32), 78.595634, 2.6273336, 69),\n",
       "       (11.889095375195913, -25.289424150599658, 2.7681093044407135e-06, 2.5183091274527669e-06, 4063.855072463768, 3997.9705059750827, 0.018312623156361951, 0.01842732677823733, 1012, 20921.787, 148.82208, 1226.2123, 0.11493193, 0.00033640527, 2.3934083e-06, 1.9716494e-05, 3.3393672e-09, 62192208.0, 8773.46, 580.70874, 0.55269539, 1, 'ellipse', array([ 3.56833982,  3.34021592], dtype=float32), 132.28439, 2.0821559, 70),\n",
       "       (11.909188425366752, -25.29127232453434, 1.1565226246901261e-05, 1.0127305039020484e-05, 3930.9256756756758, 3984.4324324324325, 0.076498432965763641, 0.074116516714184399, 55, 133.30804, 12.449908, 21.691952, 0.014310307, 2.2336335e-06, 2.0860712e-07, 3.6345799e-07, 3.1133582e-10, 59682148.0, 32609.672, 23.235353, 0.63859183, 0, 'ellipse', array([ 2.91773891,  2.56879282], dtype=float32), 142.22688, 1.4290359, 71),\n",
       "       (11.884111921923289, -25.291017604309211, 1.120256130349162e-05, 1.0464302352630739e-05, 4096.8246753246749, 3986.3116883116882, 0.07411313897864602, 0.076568041057726077, 52, 129.6568, 13.453644, 51.343208, 0.022969807, 2.1601045e-06, 2.24156e-07, 8.553867e-07, 1.1265973e-09, 60023388.0, 74354.07, 15.778011, 0.53046566, 0, 'ellipse', array([ 3.04487324,  2.54310083], dtype=float32), 129.73209, 1.7485895, 72),\n",
       "       (11.888657699361357, -25.290720024261649, 6.6630947834767085e-06, 6.0455993136088182e-06, 4066.7509727626457, 3988.4886047804334, 0.04407985449915941, 0.044237572388738045, 304, 3963.2556, 65.764763, 361.74432, 0.061966512, 6.44385e-05, 1.0692831e-06, 5.881594e-06, 1.1337548e-09, 61504468.0, 5436.8799, 197.77432, 0.53668052, 0, 'ellipse', array([ 5.74344683,  5.49159908], dtype=float32), 47.28582, 3.488178, 73),\n",
       "       (11.857041611258387, -25.290515688785025, 3.0584454673743267e-05, 2.8744834480676218e-05, 4275.9152542372885, 3989.9661016949153, 0.20238187470204139, 0.2102871481697548, 66, 44.239838, 7.6811547, 14.760161, 0.011691397, 7.1713754e-07, 1.2451331e-07, 2.3926546e-07, 1.9645732e-10, 61689476.0, 13341.486, 8.9585266, 0.59442174, 0, 'ellipse', array([ 5.35280418,  4.07155943], dtype=float32), 130.87596, 2.6179125, 74),\n",
       "       (11.893398440767179, -25.289976146046595, 1.17137576580717e-05, 1.064466957956256e-05, 4035.387062566278, 3993.9300106044539, 0.077490352673521556, 0.077893165644582041, 306, 1599.0088, 44.022762, 338.99124, 0.060525589, 2.5578065e-05, 7.0422516e-07, 5.4225716e-06, 1.6506496e-09, 62514848.0, 15412.507, 82.287102, 0.54585969, 0, 'ellipse', array([ 7.19281721,  7.12174797], dtype=float32), 119.26141, 4.3705945, 75),\n",
       "       (11.878551884809422, -25.289958273791935, 1.0718289216171684e-05, 1.0164748236007881e-05, 4133.608695652174, 3994.0621118012423, 0.070913026364905818, 0.074373242952788132, 61, 147.05481, 13.784063, 42.94519, 0.020198431, 2.4599121e-06, 2.3057829e-07, 7.1838105e-07, 3.6144074e-10, 59780512.0, 10682.389, 19.323298, 0.51889843, 0, 'ellipse', array([ 2.97173572,  2.54367447], dtype=float32), 126.01434, 1.766169, 76),\n",
       "       (11.883503235206643, -25.28932470395215, 5.0767687227448732e-06, 4.6635376094172898e-06, 4100.8516421291051, 3998.6987542468855, 0.033587160954994033, 0.034123282478958572, 147, 892.18372, 32.124779, 139.81628, 0.037739489, 1.4607344e-05, 5.2597647e-07, 2.2891525e-06, 8.1879081e-10, 61077752.0, 14334.314, 69.397881, 0.51506615, 0, 'ellipse', array([ 3.04430699,  2.99176526], dtype=float32), 102.27323, 1.9530965, 77),\n",
       "       (11.831916099868881, -25.289359939239723, 3.5268547135203221e-05, 2.7182566395111962e-05, 4442.1428571428569, 3998.3736263736264, 0.23340795335570874, 0.19880597060227956, 160, 89.266273, 10.392313, 18.733727, 0.013164755, 1.480865e-06, 1.724018e-07, 3.107794e-07, 2.3838953e-10, 60279820.0, 18537.059, 16.48793, 0.87941611, 0, 'ellipse', array([ 7.13304663,  5.1096158 ], dtype=float32), 149.81664, 2.288316, 78),\n",
       "       (11.887596226980552, -25.288843266720541, 3.0553416632272956e-06, 2.7817787788819714e-06, 4073.7730515916573, 4002.2211855104283, 0.02021315274078006, 0.020354997363483562, 340, 10178.599, 102.89803, 409.40134, 0.065681338, 0.00016588971, 1.6770921e-06, 6.6723792e-06, 1.2376571e-09, 61357628.0, 5712.4468, 478.94345, 0.51879889, 0, 'ellipse', array([ 3.70981145,  3.63662529], dtype=float32), 55.274387, 2.3599615, 79),\n",
       "       (11.888440237295157, -25.288339852273879, 3.5344121886993207e-06, 3.1682642998021038e-06, 4068.1890909090907, 4005.9045454545453, 0.023382489097457437, 0.023183168545074295, 202, 8505.874, 93.589546, 253.12643, 0.051863272, 0.00013695795, 1.5073316e-06, 4.0757341e-06, 1.3210659e-09, 62105724.0, 15598.274, 502.31042, 0.51746547, 0, 'ellipse', array([ 4.20877934,  3.80616856], dtype=float32), 137.45026, 2.578217, 80),\n",
       "       (11.876399197924016, -25.287121353710109, 9.12578021150523e-06, 8.7709117764234179e-06, 4147.8516129032259, 4014.8193548387098, 0.060379340821782534, 0.064173910267072642, 46, 140.30006, 12.922857, 26.69994, 0.015822895, 2.3308128e-06, 2.1468837e-07, 4.4356759e-07, 2.6921543e-10, 60193624.0, 7887.2505, 22.486618, 0.50500154, 0, 'ellipse', array([ 2.39828396,  2.25365305], dtype=float32), 95.74881, 1.5345459, 81),\n",
       "       (11.887628149268203, -25.286695226601882, 1.1548578784825736e-05, 1.0219298118840925e-05, 4073.5614525139663, 4017.9385474860337, 0.076403058808409696, 0.074777326439743774, 119, 1092.8456, 34.899876, 125.15443, 0.035956699, 1.7441853e-05, 5.5707397e-07, 1.9974689e-06, 1.1676615e-09, 62656508.0, 31898.389, 89.425674, 0.50591195, 0, 'ellipse', array([ 4.47537518,  4.09823132], dtype=float32), 37.911861, 2.8217385, 82),\n",
       "       (11.888477073270076, -25.2866881724891, 8.8910027304933692e-06, 7.9093061877699711e-06, 4067.9450000000002, 4017.9899999999998, 0.058820702137836633, 0.057874865010489884, 188, 1593.6522, 42.332047, 198.34776, 0.045778353, 2.5209567e-05, 6.6963952e-07, 3.1376112e-06, 7.2428047e-10, 63216168.0, 270.82355, 105.46864, 0.50555593, 0, 'ellipse', array([ 2.53209233,  2.41772294], dtype=float32), 34.727306, 1.6313703, 83),\n",
       "       (11.893730899735722, -25.285846648271548, 1.331082430766628e-05, 1.0584858909368222e-05, 4033.1854304635763, 4024.1456953642382, 0.088059039362178737, 0.077456468386117194, 116, 161.30376, 16.340168, 105.69624, 0.032943573, 2.6258008e-06, 2.6599821e-07, 1.7205878e-06, 9.8643638e-10, 61430308.0, 29559.604, 14.252875, 0.51804984, 0, 'ellipse', array([ 3.28692937,  2.80849504], dtype=float32), 162.43221, 1.9549661, 84),\n",
       "       (11.868385044666407, -25.285849408206328, 1.7758185148153416e-05, 1.7670337847164319e-05, 4200.8738738738739, 4024.1216216216217, 0.11750356102311343, 0.12928133659852392, 106, 185.48245, 14.899675, 36.51754, 0.01835279, 3.0521608e-06, 2.4517931e-07, 6.0090537e-07, 3.421595e-10, 60770868.0, 16266.018, 26.106955, 0.51554, 0, 'ellipse', array([ 6.04683065,  4.94128513], dtype=float32), 120.72079, 3.5342741, 85),\n",
       "       (11.883984344562656, -25.285049431051885, 1.4433494133214708e-05, 1.3148185651346012e-05, 4097.6687499999998, 4029.9812499999998, 0.095492913267662516, 0.09620610809270147, 96, 262.77948, 18.43911, 77.220512, 0.027667874, 4.2538941e-06, 2.9849431e-07, 1.2500514e-06, 4.8347715e-10, 61773868.0, 8996.7637, 26.732151, 0.49345556, 0, 'ellipse', array([ 3.68531513,  3.58855796], dtype=float32), 53.122089, 2.4565635, 86),\n",
       "       (11.895927649655372, -25.284994489890895, 2.6079251350452637e-05, 3.0342603825062042e-05, 4018.6511627906975, 4030.3798449612405, 0.17252239291747173, 0.22203417877835818, 86, 62.757984, 11.357845, 66.242012, 0.025318876, 1.0705701e-06, 1.9375227e-07, 1.1300031e-06, 1.052492e-09, 58621092.0, 49790.922, 6.8327608, 0.52033472, 0, 'ellipse', array([ 7.59752035,  5.83695173], dtype=float32), 81.758797, 4.2660398, 87),\n",
       "       (11.887327586528736, -25.284795341729545, 1.2707625424823732e-05, 1.110490387290497e-05, 4075.5496368038739, 4031.8401937046006, 0.084072602222931891, 0.081257376898520306, 197, 1231.3868, 37.563305, 179.6132, 0.043125547, 1.9485296e-05, 5.9439782e-07, 2.842175e-06, 7.0400435e-10, 63195688.0, 3847.0315, 85.335564, 0.49623978, 0, 'ellipse', array([ 7.35795689,  6.89132929], dtype=float32), 29.320997, 4.783186, 88),\n",
       "       (11.874673805806813, -25.284895255793781, 2.4286165155373851e-05, 3.4286304902764186e-05, 4159.2678571428569, 4031.1071428571427, 0.16069656931904319, 0.25086403168006655, 50, 31.272892, 7.4833302, 24.727108, 0.015231667, 5.165802e-07, 1.2361339e-07, 4.084539e-07, 3.185868e-10, 60538308.0, 28965.404, 5.1712222, 0.49659792, 0, 'ellipse', array([ 6.11932516,  2.69943714], dtype=float32), 115.83656, 2.7281122, 89),\n",
       "       (11.892740894508943, -25.284322424984776, 4.9700032285215912e-06, 4.9804516280005373e-06, 4039.7346024636058, 4035.2989921612543, 0.032879678407425672, 0.036444432404096005, 145, 910.20282, 32.186974, 125.79721, 0.03570614, 1.4879311e-05, 5.2618356e-07, 2.056438e-06, 8.0277729e-10, 61172376.0, 16394.463, 74.306389, 0.50401539, 0, 'ellipse', array([ 3.35490942,  2.847435  ], dtype=float32), 115.43758, 2.0441005, 90),\n",
       "       (11.888468667806473, -25.284090139475566, 0.0, 0.0, 4068.0, 4037.0, 0.0, 0.0, 99, 181.55948, 16.309532, 84.440521, 0.029403642, 2.8778093e-06, 2.5851435e-07, 1.3384248e-06, 4.7033538e-10, 63089476.0, 2981.6169, 17.747974, 0.49405578, 0, 'ellipse', array([  3.57627869e-07,   3.57627869e-07], dtype=float32), 90.0, 2.412871e-07, 91),\n",
       "       (11.925290431922333, -25.283685219995327, 2.0648360845143543e-05, 1.2661004657132935e-05, 3824.3823529411766, 4039.9215686274511, 0.13658387627037882, 0.09268338794936426, 59, 91.263618, 10.09951, 10.736381, 0.010525555, 1.4939263e-06, 1.6535705e-07, 1.757476e-07, 4.3364975e-10, 61089772.0, 138328.0, 20.792974, 0.74985307, 0, 'ellipse', array([ 4.14088726,  2.80433583], dtype=float32), 2.7593985, 1.5148313, 92),\n",
       "       (11.896023186456661, -25.283343601691247, 2.3428025194505153e-05, 2.4547766265925475e-05, 4018.0180180180182, 4042.4594594594596, 0.15498741645205882, 0.17963149962315583, 148, 114.21776, 14.628771, 99.782242, 0.030422268, 1.9862994e-06, 2.5440255e-07, 1.7352592e-06, 9.2858743e-10, 57502792.0, 25288.625, 10.358406, 0.50993353, 0, 'ellipse', array([ 5.83144712,  4.71449995], dtype=float32), 112.81154, 3.4274504, 93),\n",
       "       (11.870180069846301, -25.283184126628335, 4.0074497047015711e-05, 3.3902469251501088e-05, 4189.0, 4043.625, 0.26516504294522747, 0.2480391854123809, 21, 8.5306101, 4.0000086, 7.4693894, 0.0082134055, 1.4263064e-07, 6.6879615e-08, 1.2488717e-07, 1.4627423e-10, 59809104.0, 24123.891, 2.206032, 0.49835208, 0, 'ellipse', array([ 3.74652696,  2.22439003], dtype=float32), 40.997635, 1.9309114, 94),\n",
       "       (11.864699071637347, -25.283167024978287, 1.2995710736873889e-05, 1.1724697380088855e-05, 4225.2631578947367, 4043.7456140350878, 0.085994115679568495, 0.085777995418993669, 118, 142.68158, 13.190917, 31.318426, 0.016957745, 2.370803e-06, 2.1918692e-07, 5.2038826e-07, 4.5619319e-10, 60182804.0, 41491.949, 21.414337, 0.51628768, 0, 'ellipse', array([ 3.04225278,  2.42510319], dtype=float32), 135.32339, 1.7536775, 95),\n",
       "       (11.877625221964083, -25.279974439069019, 3.8787740914258961e-05, 3.0634279806207587e-05, 4139.7428571428572, 4067.1142857142859, 0.25664350607985398, 0.22414073046957128, 89, 46.072647, 9.4868555, 43.927353, 0.02072002, 7.4627883e-07, 1.5366706e-07, 7.1152965e-07, 4.0240747e-10, 61736504.0, 19263.361, 5.9958324, 0.472682, 0, 'ellipse', array([ 4.56815338,  3.96295786], dtype=float32), 8.7791519, 3.0004733, 96),\n",
       "       (11.869844307195381, -25.279300599822019, 1.9143811679001033e-05, 2.1948903746960013e-05, 4191.224489795919, 4072.0408163265306, 0.12667965587388608, 0.16058821403976253, 36, 37.544178, 7.0000076, 11.455821, 0.010279792, 6.1927551e-07, 1.1546238e-07, 1.8895896e-07, 1.8079606e-10, 60625972.0, 20129.67, 8.3548794, 0.48447368, 0, 'ellipse', array([ 3.53529716,  2.43956709], dtype=float32), 114.49654, 2.0205886, 97),\n",
       "       (11.855757437888203, -25.278726077851218, 8.4553863892722347e-06, 8.2562741177127918e-06, 4284.4292929292933, 4076.2297979797981, 0.055957009226403898, 0.060399922151191276, 164, 414.27658, 21.000006, 26.723433, 0.015754286, 6.6534953e-06, 3.3727142e-07, 4.2919208e-07, 2.5567762e-10, 62264500.0, 5332.1914, 66.374413, 0.5533905, 0, 'ellipse', array([ 3.79038262,  3.1296258 ], dtype=float32), 123.11868, 2.0746019, 98),\n",
       "       (11.922381529325097, -25.277616390949564, 3.4502721891982446e-05, 2.4437450747427647e-05, 3843.6153846153848, 4084.3333333333335, 0.22823504446751031, 0.17887563706381115, 59, 29.174229, 6.2450047, 9.8257704, 0.0089706685, 6.1941444e-07, 1.3260707e-07, 2.0861647e-07, 7.1683237e-10, 47099692.0, 156023.28, 6.8612294, 0.69230008, 0, 'ellipse', array([ 4.495152  ,  3.05096745], dtype=float32), 155.16568, 1.7830985, 99),\n",
       "       (11.90133361980762, -25.277403859887961, 6.6814554369187817e-06, 6.6150667166198218e-06, 3982.8778467908901, 4085.9171842650103, 0.044201466254889965, 0.048408585171728191, 177, 518.64209, 24.351606, 74.35791, 0.027189407, 8.4545181e-06, 3.9696653e-07, 1.2121275e-06, 5.2300031e-10, 61344960.0, 14051.178, 53.653652, 0.50919461, 0, 'ellipse', array([ 3.26614428,  2.83055806], dtype=float32), 115.18716, 1.9904381, 100),\n",
       "       (11.878666696195332, -25.277230639566355, 4.675448083979461e-05, 2.8032178050807488e-05, 4132.8529411764703, 4087.1911764705883, 0.30935857424356072, 0.20510077797689519, 70, 37.276062, 8.2462292, 30.723938, 0.016975537, 6.2277337e-07, 1.3777202e-07, 5.1330665e-07, 6.4482031e-10, 59854940.0, 67526.984, 5.639204, 0.46377978, 0, 'ellipse', array([ 8.1078167 ,  4.31021786], dtype=float32), 22.943968, 4.2488217, 101),\n",
       "       (11.762147781860946, -25.277070039957795, 5.0541207274434896e-05, 3.8696680594085819e-05, 4903.8000000000002, 4088.0, 0.33466401061377837, 0.28284271247457582, 37, 4.3587346, 2.2360687, 0.64126539, 0.0019315111, 3.1426052e-07, 1.612184e-07, 4.6234611e-08, 1.393777e-10, 13869813.0, 1717.4545, 1.9998606, 2.6105242, 0, 'ellipse', array([ 2.82688761,  0.80542284], dtype=float32), 140.65497, 0.1926714, 102),\n",
       "       (11.891616522827245, -25.276867615932378, 8.6713626181733616e-06, 9.2103494502282501e-06, 4047.1705202312137, 4089.8468208092486, 0.057370332497612253, 0.067395987195141061, 298, 1589.1892, 41.593285, 140.81082, 0.035580467, 2.7578815e-05, 7.2181973e-07, 2.4436331e-06, 6.9679701e-10, 57623548.0, 7614.332, 123.2127, 0.47597551, 0, 'ellipse', array([ 8.50325012,  7.04723263], dtype=float32), 105.33173, 5.421206, 103),\n",
       "       (11.952896886461241, -25.276464282870318, 5.3243665250946037e-05, 3.0685094284166325e-05, 3641.7073170731705, 4092.6829268292681, 0.35217333632863301, 0.22470556950975151, 90, 33.997097, 6.4031296, 7.0029016, 0.0081750099, 6.4526188e-07, 1.2153164e-07, 1.3291444e-07, 1.8026522e-10, 52687288.0, 36375.246, 8.9834766, 1.20035, 0, 'ellipse', array([ 7.01548004,  3.89620614], dtype=float32), 161.43167, 1.4518458, 104),\n",
       "       (11.914538144225702, -25.276190539224856, 3.1031603970888e-05, 2.3520211925642798e-05, 3895.5084745762711, 4094.7796610169494, 0.20528287950810409, 0.17214558356090492, 150, 137.28299, 13.30415, 39.717018, 0.019879878, 2.3033526e-06, 2.2322574e-07, 6.663775e-07, 6.0781757e-10, 59601376.0, 45446.902, 18.649111, 0.60586131, 0, 'ellipse', array([ 8.41809177,  6.59344864], dtype=float32), 21.666203, 4.0989127, 105),\n",
       "       (11.954326921644251, -25.274638358048659, 3.2185065538925528e-05, 2.9660132753406288e-05, 3632.2384615384617, 4106.038461538461, 0.21284320593804296, 0.21713678675041592, 202, 114.49976, 11.401761, 15.500239, 0.012259767, 2.1705575e-06, 2.1614348e-07, 2.9383608e-07, 2.6039593e-10, 52751316.0, 21084.295, 22.758129, 1.2364297, 0, 'ellipse', array([ 7.75988722,  6.92469263], dtype=float32), 129.92813, 1.9762291, 106),\n",
       "       (11.944468853115826, -25.273613923240184, 2.8824583417019767e-05, 2.5840042020774945e-05, 3697.4622641509436, 4113.566037735849, 0.19063819309394603, 0.18915923283202574, 127, 92.083183, 10.295637, 13.91682, 0.011674663, 1.6979786e-06, 1.8984817e-07, 2.5662084e-07, 2.2638171e-10, 54231060.0, 14800.151, 19.065912, 1.0205766, 0, 'ellipse', array([ 6.4534936 ,  5.21141529], dtype=float32), 43.940212, 1.894124, 107),\n",
       "       (11.910055116389298, -25.273405165281616, 3.0424261957762155e-05, 2.7501472779078995e-05, 3925.1666666666665, 4115.1666666666661, 0.20126912147497933, 0.20126912147497933, 27, 16.232296, 4.8989873, 7.767704, 0.0087766312, 2.7270269e-07, 8.2303103e-08, 1.3049748e-07, 1.5748766e-10, 59523784.0, 25238.486, 4.1424656, 0.55967063, 0, 'ellipse', array([ 3.40954542,  2.42384005], dtype=float32), 63.434948, 1.7121682, 108),\n",
       "       (11.91346205948658, -25.273374745408137, 1.3142351285466702e-05, 1.6085387482434044e-05, 3902.6239316239316, 4115.3846153846152, 0.086933199728719046, 0.11771694920207665, 156, 140.68481, 13.527765, 42.315186, 0.020774011, 2.3178975e-06, 2.2288241e-07, 6.9717726e-07, 4.1686449e-10, 60695012.0, 20716.941, 18.60318, 0.58978975, 0, 'ellipse', array([ 3.96876907,  2.60739517], dtype=float32), 111.09212, 1.8180796, 109),\n",
       "       (11.98546360853171, -25.272108866228539, 2.341500865732371e-05, 1.6239523652927801e-05, 3426.2044728434503, 4124.415335463259, 0.15484215125343326, 0.11894283308265585, 309, 354.73169, 19.104975, 10.268297, 0.009692275, 1.0292094e-05, 5.5434538e-07, 2.979217e-07, 3.3897982e-10, 34466428.0, 21898.268, 82.125572, 2.0505996, 0, 'ellipse', array([ 8.39084721,  6.08173943], dtype=float32), 17.027544, 1.1612204, 110),\n",
       "       (11.899688607476993, -25.271851147116404, 2.1126964117712532e-05, 2.430680800813434e-05, 3993.757322175732, 4126.5481171548117, 0.13977179467792666, 0.17787086038424604, 150, 185.85468, 15.459642, 53.145321, 0.02339733, 2.9886007e-06, 2.4859804e-07, 8.5459317e-07, 4.8078741e-10, 62187860.0, 21782.463, 22.281145, 0.49391887, 0, 'ellipse', array([ 8.28035927,  6.44293022], dtype=float32), 82.101097, 4.9293475, 111),\n",
       "       (11.879429198477824, -25.270781396493518, 2.3221846870313811e-05, 2.112867792192219e-05, 4127.8095238095239, 4134.3809523809523, 0.15366053828711301, 0.15459465350613755, 47, 47.782738, 7.937263, 15.21726, 0.011922015, 7.8959044e-07, 1.3116036e-07, 2.5145908e-07, 2.1662672e-10, 60515852.0, 21680.119, 9.5643806, 0.45318407, 0, 'ellipse', array([ 4.08344316,  3.20378947], dtype=float32), 134.27028, 2.6604147, 112),\n",
       "       (11.885764646773383, -25.270347600828476, 2.8814708326052596e-05, 3.4330003376936702e-05, 4085.8888888888887, 4137.5555555555557, 0.1906598174255123, 0.25119740678292146, 24, 10.145001, 4.2426491, 7.8549986, 0.0085099703, 1.7261617e-07, 7.2188271e-08, 1.3365201e-07, 1.514492e-10, 58772020.0, 19522.131, 2.5791757, 0.45562255, 0, 'ellipse', array([ 3.19733238,  2.42655659], dtype=float32), 89.265602, 2.0378051, 113),\n",
       "       (11.921309500715449, -25.269661963432878, 4.4110871881386515e-05, 6.4465538191171845e-05, 3850.6923076923076, 4142.538461538461, 0.2917465807249755, 0.47177986426686402, 70, 15.560267, 5.0990267, 10.439733, 0.0086794021, 3.888843e-07, 1.2744573e-07, 2.6091121e-07, 1.101546e-09, 40012588.0, 165622.17, 3.5811019, 0.66960436, 0, 'ellipse', array([ 7.32159472,  4.28885221], dtype=float32), 102.00324, 2.7895482, 114),\n",
       "       (11.890011756975047, -25.268280682038302, 4.2058743277451072e-05, 5.6522039436401883e-05, 4057.7857142857142, 4152.6785714285716, 0.27828347231206862, 0.41358799445151817, 41, 14.812685, 5.2915149, 13.187315, 0.011419381, 2.3907964e-07, 8.5406313e-08, 2.1284585e-07, 2.534471e-10, 61957116.0, 50640.195, 3.1294813, 0.46280786, 0, 'ellipse', array([ 7.52957869,  2.43446398], dtype=float32), 121.15543, 3.0836496, 115),\n",
       "       (11.912921958294437, -25.267677101210563, 4.2314341452964754e-05, 4.1865397278684213e-05, 3906.1886792452829, 4157.0754716981137, 0.27992854167951009, 0.30639215524752217, 88, 33.116329, 7.2801232, 19.883671, 0.013974755, 5.7687816e-07, 1.2685142e-07, 3.4636855e-07, 1.7669352e-09, 57406108.0, 290053.97, 5.9750562, 0.57853723, 0, 'ellipse', array([ 7.6864481 ,  4.80366039], dtype=float32), 129.06906, 3.501035, 116),\n",
       "       (11.877598700585519, -25.266712364780478, 3.8419042855508678e-05, 2.9159020584756945e-05, 4139.9230769230771, 4164.1538461538457, 0.25423137347843294, 0.21334622931772174, 21, 7.6903586, 3.6055582, 5.3096414, 0.0070244288, 1.242955e-07, 5.8274956e-08, 8.5817128e-08, 1.334831e-10, 61871580.0, 50612.559, 2.2215979, 0.45188931, 0, 'ellipse', array([ 2.776016  ,  2.27624869], dtype=float32), 166.17702, 1.8542467, 117),\n",
       "       (11.887541133616617, -25.266015020824355, 2.4431695978321954e-05, 2.7116764229617729e-05, 4074.1333333333332, 4169.2571428571428, 0.16166181585640516, 0.19841941031700117, 85, 80.237747, 10.246963, 24.762253, 0.01529031, 1.3112021e-06, 1.6745354e-07, 4.0465144e-07, 4.0491199e-10, 61194032.0, 48184.266, 13.260321, 0.45901278, 0, 'ellipse', array([ 6.13493204,  4.92591572], dtype=float32), 100.36031, 3.9921086, 118),\n",
       "       (11.849424287411233, -25.265426256859953, 1.3398311587309308e-05, 1.2305513465094009e-05, 4326.3571428571431, 4173.5357142857138, 0.088681629928032635, 0.090017410042491974, 141, 147.26395, 12.806254, 16.736053, 0.01237592, 2.5138065e-06, 2.186094e-07, 2.856857e-07, 2.769788e-10, 58582052.0, 36731.875, 28.420374, 0.59261286, 0, 'ellipse', array([ 3.57969046,  2.70276666], dtype=float32), 133.43526, 1.7495836, 119),\n",
       "       (11.987185622247868, -25.263065739768436, 4.0858417353462073e-05, 2.6668359652148865e-05, 3414.7594936708861, 4190.5759493670885, 0.27022135106790302, 0.19534198865858343, 250, 149.19031, 12.569809, 8.8096991, 0.0093519073, 4.2260676e-06, 3.5607113e-07, 2.4954963e-07, 3.0841257e-10, 35302396.0, 22341.424, 36.460121, 2.1447515, 0, 'ellipse', array([ 10.21441841,   7.3321805 ], dtype=float32), 5.7093153, 1.3450089, 120),\n",
       "       (11.9095184164334, -25.26152832113538, 1.2534658159424339e-05, 1.1474083795093293e-05, 3928.7014218009481, 4202.0710900473932, 0.082930205887350894, 0.083972383195032307, 199, 245.62036, 16.792866, 36.379631, 0.01804184, 4.7225567e-06, 3.2303646e-07, 6.9947322e-07, 1.5410204e-09, 52010040.0, 111643.27, 34.626564, 0.56634444, 0, 'ellipse', array([ 3.68087959,  3.59191871], dtype=float32), 119.65014, 2.1401153, 121),\n",
       "       (11.866631469341813, -25.260267116291626, 6.7401198279526398e-05, 3.4691699681843602e-05, 4212.5, 4211.3076923076924, 0.44605436556685163, 0.25378338833161251, 63, 16.57168, 5.0990281, 9.4283199, 0.0093699461, 2.7102334e-07, 8.3399428e-08, 1.5419647e-07, 6.260632e-10, 61144848.0, 240706.44, 3.9547267, 0.48882368, 0, 'ellipse', array([ 7.11897326,  3.30891466], dtype=float32), 161.20985, 3.3096189, 122),\n",
       "       (11.895293235460695, -25.260036451780394, 6.5841574425462568e-05, 3.9447342487619608e-05, 4022.8333333333335, 4213.0, 0.43567742059349257, 0.28867513459499605, 44, 14.172364, 4.8989892, 9.8276358, 0.00985099, 2.2644831e-07, 7.8277118e-08, 1.5702756e-07, 2.1410861e-10, 62585424.0, 57850.086, 3.3328483, 0.4935075, 0, 'ellipse', array([ 6.46908712,  4.141366  ], dtype=float32), 169.31468, 3.4960551, 123),\n",
       "       (11.88993760619673, -25.259446253666297, 3.5069384416885896e-05, 3.9760664972021686e-05, 4058.2735849056603, 4217.3207547169814, 0.23205745399764055, 0.29094167394487158, 145, 76.025063, 10.295644, 29.974934, 0.016831141, 1.2283767e-06, 1.6635262e-07, 4.8432071e-07, 3.170019e-10, 61890672.0, 20815.682, 11.619285, 0.47915184, 0, 'ellipse', array([ 8.99156284,  7.16090965], dtype=float32), 86.75235, 5.5822239, 124),\n",
       "       (11.824439240244217, -25.25943799468482, 6.5753723625050498e-05, 5.8422754250386788e-05, 4491.7058823529405, 4217.2941176470595, 0.43531282107051084, 0.42729010866423778, 98, 24.831068, 5.8309593, 9.1689329, 0.0091828797, 4.5660926e-07, 1.0722433e-07, 1.6860409e-07, 2.4021499e-10, 54381436.0, 55105.484, 5.9842062, 0.98846328, 0, 'ellipse', array([ 7.76468945,  7.31876135], dtype=float32), 144.17554, 2.5421376, 125),\n",
       "       (11.929395570199421, -25.258149941404117, 9.4890602930775003e-06, 8.3344030876730812e-06, 3797.1592356687897, 4226.7563694267519, 0.062773528866728157, 0.061004606684036844, 252, 675.08289, 26.776863, 41.917103, 0.020420471, 1.2549269e-05, 4.9777969e-07, 7.7920652e-07, 4.6393803e-10, 53794600.0, 18414.012, 89.628563, 0.80946779, 0, 'ellipse', array([ 4.75465107,  4.54965496], dtype=float32), 155.22641, 1.91526, 126),\n",
       "       (11.919307060154225, -25.258053776134624, 4.0939814621054893e-05, 5.1920759247536807e-05, 3863.9200000000001, 4227.4799999999996, 0.2708209740771963, 0.37997894678574085, 57, 15.703053, 5.0000081, 9.2969465, 0.0090785157, 3.2080246e-07, 1.021542e-07, 1.8993013e-07, 7.5679846e-10, 48949296.0, 189096.36, 3.7659986, 0.67161554, 0, 'ellipse', array([ 5.69968557,  4.06231308], dtype=float32), 90.05162, 2.3881969, 127),\n",
       "       (11.929578735123462, -25.256876382225908, 1.1156563340719572e-05, 1.0201340554516491e-05, 3795.9439834024897, 4236.0746887966807, 0.073804339938760677, 0.074668946282145043, 193, 497.20255, 23.000008, 31.79744, 0.017972827, 9.0909043e-06, 4.2053722e-07, 5.8138772e-07, 3.422494e-10, 54692312.0, 8996.2881, 74.153595, 0.81758112, 0, 'ellipse', array([ 5.04434633,  4.72972631], dtype=float32), 129.78337, 1.9914452, 128),\n",
       "       (11.931990329852821, -25.254791207296648, 4.7893567264978287e-05, 5.3399986327917759e-05, 3779.9795918367345, 4251.3265306122448, 0.31680647713619692, 0.39084457200806355, 108, 32.36599, 7.0000119, 16.63401, 0.01295444, 6.0408593e-07, 1.3065065e-07, 3.1046079e-07, 3.465879e-10, 53578456.0, 42854.582, 6.2610564, 0.86450702, 0, 'ellipse', array([ 8.21249294,  6.64706326], dtype=float32), 86.677986, 2.8488045, 129),\n",
       "       (11.946760043339214, -25.254330886766358, 4.9474525718906648e-05, 5.0808482207287398e-05, 3682.2363636363634, 4254.6545454545449, 0.32723599426526562, 0.37192212978516181, 114, 42.646751, 7.4162073, 12.353248, 0.011428132, 8.0684913e-07, 1.4031301e-07, 2.337155e-07, 3.4711833e-10, 52855920.0, 61413.926, 9.2312174, 1.146746, 0, 'ellipse', array([ 8.28057766,  7.27390718], dtype=float32), 85.49614, 2.2559304, 130),\n",
       "       (11.89678063325233, -25.253307162670414, 2.091744770282844e-06, 2.2106234460750329e-06, 4012.9859696763974, 4262.2378366146186, 0.013841196329849481, 0.016176596950572275, 364, 8884.5938, 94.588585, 62.406685, 0.025025651, 0.00014590615, 1.5533851e-06, 1.0248662e-06, 4.1390094e-10, 60892524.0, 2916.1006, 993.01172, 0.53361708, 0, 'ellipse', array([ 4.56731749,  3.89780688], dtype=float32), 95.14946, 2.6356623, 131),\n",
       "       (11.881799491880244, -25.251709254150352, 8.0856682611596398e-06, 7.6162892383990766e-06, 4112.1281464530894, 4273.9336384439357, 0.053510901396293775, 0.055728013241605368, 146, 451.11584, 21.725565, 20.884171, 0.014174337, 7.2857652e-06, 3.5088112e-07, 3.3729066e-07, 2.3370342e-10, 61917428.0, 8632.7217, 79.825783, 0.50681037, 0, 'ellipse', array([ 3.62561417,  3.21420407], dtype=float32), 125.10699, 2.2452297, 132),\n",
       "       (11.952039126401285, -25.250868583129403, 1.8935173509149195e-05, 1.3424599810463178e-05, 3647.2879746835442, 4279.9715189873423, 0.12526187533285338, 0.098292161698736891, 245, 322.75943, 18.46619, 18.240559, 0.013160724, 7.339645e-06, 4.2003123e-07, 4.1479566e-07, 6.084791e-10, 43974804.0, 56166.156, 60.240864, 1.2909012, 0, 'ellipse', array([ 6.68363476,  5.2373457 ], dtype=float32), 2.9955511, 1.5277339, 133),\n",
       "       (11.928172698783914, -25.250599331725503, 3.1783900595883097e-06, 2.3482256317208794e-06, 3805.2334956709956, 4282.0074404761908, 0.021028744636168994, 0.017189037631396786, 458, 7410.9961, 86.510117, 73.00386, 0.027039582, 0.00013664452, 1.5951028e-06, 1.3460508e-06, 5.0551946e-10, 54235592.0, 3368.6841, 772.9444, 0.83429724, 0, 'ellipse', array([ 5.4359045 ,  4.41890526], dtype=float32), 173.46442, 1.9581736, 134),\n",
       "       (11.879366200425073, -25.250552442928768, 1.1039872624962754e-05, 1.0314101622554972e-05, 4128.2316602316605, 4282.3976833976831, 0.073063863041170407, 0.075466440121999767, 114, 261.26315, 16.643322, 15.736859, 0.012318566, 4.1792873e-06, 2.6623454e-07, 2.5173415e-07, 1.9801888e-10, 62513804.0, 4849.6714, 51.628937, 0.51324356, 0, 'ellipse', array([ 3.83082342,  3.32323766], dtype=float32), 128.37877, 2.3172987, 135),\n",
       "       (11.936759680356587, -25.24906107101588, 2.1250258276594991e-05, 1.5377709384978289e-05, 3748.40099009901, 4293.2425742574251, 0.14059055583948066, 0.11257493897574022, 196, 219.22954, 15.652484, 25.770464, 0.016165754, 4.0913437e-06, 2.9211466e-07, 4.8093801e-07, 3.2911815e-10, 53583752.0, 14654.83, 35.648224, 0.99301773, 0, 'ellipse', array([ 6.04809999,  4.73225784], dtype=float32), 12.316574, 1.7958308, 136),\n",
       "       (11.916934857905519, -25.247917754769617, 4.328405923814671e-05, 5.6566968819282692e-05, 3879.5999999999999, 4301.6499999999996, 0.28635642126573657, 0.41397463690464065, 47, 13.900791, 4.4721422, 6.0992084, 0.0076258704, 2.6407901e-07, 8.4960448e-08, 1.1586915e-07, 2.5441826e-10, 52638764.0, 95012.633, 3.8430772, 0.7259385, 0, 'ellipse', array([ 5.8016758 ,  3.45659661], dtype=float32), 68.907089, 2.0562692, 137),\n",
       "       (11.851872639156751, -25.247431978457971, 1.7858905717815787e-05, 1.636259866444334e-05, 4310.187772925764, 4305.2052401746723, 0.11822096823379979, 0.11969795640015946, 135, 214.86346, 15.13275, 14.136529, 0.011076708, 3.913724e-06, 2.7565105e-07, 2.5749594e-07, 2.4947863e-10, 54900008.0, 31285.492, 44.226002, 0.6895588, 0, 'ellipse', array([ 5.77085114,  5.0031395 ], dtype=float32), 132.48836, 2.5974588, 138),\n",
       "       (11.878736488899595, -25.247341438716706, 1.3209371044098361e-05, 1.2067681176120004e-05, 4132.3999999999996, 4305.8926829268294, 0.087424650993852993, 0.088296593956329161, 134, 210.41464, 15.099674, 17.585354, 0.013107792, 3.3691836e-06, 2.41778e-07, 2.8157871e-07, 2.1213255e-10, 62452712.0, 6833.1211, 39.836319, 0.54378068, 0, 'ellipse', array([ 4.01804113,  3.51297069], dtype=float32), 132.86893, 2.3030291, 139),\n",
       "       (11.928079192236321, -25.244917690543495, 6.5803590054258621e-05, 3.6746375055685121e-05, 3805.8387096774195, 4323.5806451612898, 0.43541642056743513, 0.26901830840506591, 71, 22.40151, 5.5677719, 8.5984898, 0.0091198031, 4.2778458e-07, 1.0632453e-07, 1.641988e-07, 2.5099367e-10, 52366336.0, 57642.789, 5.5209723, 0.88575679, 0, 'ellipse', array([ 7.73223829,  3.64675999], dtype=float32), 22.646912, 1.998345, 140),\n",
       "       (11.787260034458793, -25.238927064781375, 4.8849976835185771e-05, 4.5013532215421037e-05, 4737.8461538461543, 4367.2307692307695, 0.32355557667324319, 0.3291345321931658, 54, 9.9366961, 3.6055555, 3.0633037, 0.0055016913, 2.9906144e-07, 1.0851527e-07, 9.2195229e-08, 1.6963519e-10, 33226272.0, 13283.275, 3.3652139, 2.0199223, 0, 'ellipse', array([ 4.0375452,  2.9362061], dtype=float32), 133.41008, 0.56819326, 141),\n",
       "       (11.919451040788621, -25.236842532367223, 1.0105372409086044e-05, 8.6135179557800257e-06, 3862.9263873159684, 4382.6840317100796, 0.06686770086253091, 0.06304333984371624, 331, 886.21295, 30.232437, 27.787071, 0.016348219, 1.6397848e-05, 5.5940092e-07, 5.1415196e-07, 3.0545072e-10, 54044468.0, 4455.2476, 139.73692, 0.88699216, 0, 'ellipse', array([ 6.02490568,  5.55147743], dtype=float32), 21.955732, 2.1733937, 142),\n",
       "       (11.886660801711947, -25.236486702431357, 6.4041046167417903e-05, 5.7195217362249196e-05, 4079.9545454545455, 4385.318181818182, 0.42386100524299763, 0.41850957331917016, 62, 14.376116, 4.6904244, 7.6238837, 0.0089872582, 2.3176725e-07, 7.5617628e-08, 1.2290987e-07, 1.5615127e-10, 62028252.0, 29384.225, 3.692085, 0.67202401, 0, 'ellipse', array([ 6.09037161,  5.75842333], dtype=float32), 141.55821, 2.9374309, 143),\n",
       "       (11.948907876059417, -25.236134571965355, 7.7371503907741612e-05, 4.6213539810935345e-05, 3667.9583333333335, 4387.7916666666661, 0.51193792574395047, 0.33839473307125445, 95, 19.375769, 4.898983, 4.6242313, 0.006027915, 5.5693738e-07, 1.4082232e-07, 1.3291897e-07, 3.5249481e-10, 34789852.0, 80345.805, 5.8391724, 1.3861679, 0, 'ellipse', array([ 7.97924519,  4.20421124], dtype=float32), 156.93565, 1.3927915, 144),\n",
       "       (11.790219543455015, -25.234597991978674, 1.3432234364785245e-05, 1.0860453681260651e-05, 4718.2805755395684, 4398.9208633093531, 0.088961154040589463, 0.079404694406548515, 263, 426.78787, 21.000004, 14.212142, 0.011225828, 1.4134735e-05, 6.9551061e-07, 4.706902e-07, 3.9988324e-10, 30194260.0, 9445.624, 87.670441, 1.9911771, 0, 'ellipse', array([ 5.98692274,  4.18585539], dtype=float32), 144.62163, 0.83803624, 145),\n",
       "       (11.936872643641147, -25.227320713488464, 4.9537219554807166e-05, 4.7216220600887482e-05, 3747.590909090909, 4452.318181818182, 0.32776147058666538, 0.34561339443826, 169, 55.628441, 8.1240444, 10.37156, 0.0097353272, 1.249326e-06, 1.8250066e-07, 2.3292868e-07, 8.072053e-10, 44526760.0, 148537.61, 12.832692, 1.2892162, 0, 'ellipse', array([ 9.1825161 ,  7.10252476], dtype=float32), 128.91528, 2.0880468, 146),\n",
       "       (11.876667981486111, -25.227046505227044, 3.1313873879668108e-05, 2.7236305072619871e-05, 4146.0979020979021, 4454.3916083916083, 0.20728449645139335, 0.19927860631651129, 167, 124.08224, 11.958269, 18.917757, 0.01455023, 1.9207012e-06, 1.8510524e-07, 2.9283285e-07, 2.2684027e-10, 64602576.0, 5958.1763, 22.830915, 0.83484644, 0, 'ellipse', array([ 8.82787895,  5.33630943], dtype=float32), 137.4295, 2.7404435, 147),\n",
       "       (11.956202982602074, -25.2265520593476, 3.75450046963266e-05, 3.1927254482866374e-05, 3619.6363636363635, 4457.8831168831166, 0.24839446733903969, 0.23374749273716589, 236, 95.074471, 10.246956, 9.9255295, 0.0098172044, 2.6065859e-06, 2.8093487e-07, 2.7212087e-07, 2.8821279e-10, 36474712.0, 13815.973, 22.279547, 1.6640215, 0, 'ellipse', array([ 6.59677124,  6.09135771], dtype=float32), 20.128532, 1.2698212, 148),\n",
       "       (11.92935635731067, -25.222973707782653, 1.7428947927555782e-05, 1.3138961968195417e-05, 3797.3320388349516, 4484.1436893203881, 0.11533753976436856, 0.096177620861453761, 288, 521.88739, 23.302364, 21.112602, 0.015078045, 9.8784303e-06, 4.4118724e-07, 3.9962524e-07, 4.954302e-10, 52831008.0, 53537.0, 91.950447, 1.2393436, 0, 'ellipse', array([ 7.85753298,  6.54154301], dtype=float32), 3.7853885, 1.9282805, 149),\n",
       "       (11.891574042294122, -25.219915273176174, 4.3454033233913947e-05, 6.8131593032205728e-05, 4047.4285714285716, 4506.5714285714284, 0.28762118754002586, 0.49854014287029713, 84, 21.267714, 5.2915092, 6.732286, 0.0083133765, 3.7609936e-07, 9.3580148e-08, 1.1905409e-07, 3.3485673e-10, 56548124.0, 142901.31, 5.693593, 0.9753198, 0, 'ellipse', array([ 7.95762682,  4.48951769], dtype=float32), 97.269409, 2.0427883, 150),\n",
       "       (11.973309903714796, -25.219096925538324, 3.0971835222715072e-05, 2.9295452204536332e-05, 3506.3650793650795, 4512.3650793650795, 0.20488071771524119, 0.21449324142758996, 172, 86.663414, 9.6436539, 6.3365831, 0.0078027891, 2.5163877e-06, 2.800829e-07, 1.8399112e-07, 5.0067789e-10, 34439612.0, 83573.031, 23.665186, 2.2573378, 0, 'ellipse', array([ 5.1077795,  4.8782382], dtype=float32), 87.844116, 0.73710573, 151),\n",
       "       (11.817503727371054, -25.218536775273979, 5.5354454277178888e-05, 3.9249539188546123e-05, 4537.75, 4516.5500000000002, 0.36657195746556681, 0.28701045277102821, 57, 16.243616, 4.4721398, 3.7563832, 0.0060091726, 4.7107233e-07, 1.2969902e-07, 1.0893683e-07, 3.1395336e-10, 34482216.0, 82661.523, 5.2015786, 1.6246612, 0, 'ellipse', array([ 5.47285843,  3.01045203], dtype=float32), 31.689875, 0.83279651, 152),\n",
       "       (11.953534123530154, -25.214087426767961, 3.1572612140706724e-05, 2.3023436114044671e-05, 3637.2550607287449, 4549.0971659919032, 0.20892144341223684, 0.16857222350699885, 337, 248.60233, 16.155499, 12.397669, 0.010787739, 7.5866919e-06, 4.9338735e-07, 3.783444e-07, 1.0005149e-09, 32768212.0, 81828.711, 53.740566, 1.8664069, 0, 'ellipse', array([ 9.9228096 ,  7.85734177], dtype=float32), 168.61005, 1.576985, 153),\n",
       "       (11.866207301724211, -25.211974700153505, 3.7361133273350333e-05, 3.2300895604464586e-05, 4215.3541666666661, 4564.6666666666661, 0.24736385027244978, 0.23631527121142426, 88, 42.355186, 6.9282064, 5.644815, 0.0067643556, 1.1826702e-06, 1.934541e-07, 1.5761835e-07, 1.8930109e-10, 35813184.0, 2870.9375, 12.002726, 1.149042, 0, 'ellipse', array([ 5.34341764,  4.6911068 ], dtype=float32), 145.32605, 1.4524127, 154),\n",
       "       (11.805133910129809, -25.211034559835905, 5.0653975996794998e-05, 4.9596643520999351e-05, 4619.6666666666661, 4571.3999999999996, 0.33554819712298922, 0.36270588023398886, 54, 11.903179, 3.872987, 3.0968204, 0.0053765499, 3.6967742e-07, 1.2028387e-07, 9.6178049e-08, 1.850316e-10, 32198828.0, 26687.264, 4.0195365, 2.0370274, 0, 'ellipse', array([ 4.75552464,  3.21636224], dtype=float32), 128.97871, 0.63997585, 155),\n",
       "       (11.865093259968447, -25.205756236863895, 1.3664595527984602e-05, 1.1224653192698497e-05, 4222.7356321839079, 4610.1666666666661, 0.090476469646091573, 0.082118909002019791, 207, 194.84224, 14.422209, 13.157762, 0.010764729, 5.5805413e-06, 4.1307567e-07, 3.7685581e-07, 3.3410086e-10, 34914576.0, 11923.969, 41.198864, 1.2991199, 0, 'ellipse', array([ 3.70822763,  3.10300756], dtype=float32), 151.61412, 0.87037039, 156),\n",
       "       (11.85237408288635, -25.20400017584565, 5.0988122836770344e-05, 6.4436084400654181e-05, 4306.9444444444443, 4623.0, 0.33767745423665474, 0.47140452079111128, 68, 13.688969, 4.2426453, 4.3110309, 0.0063110897, 4.0800941e-07, 1.2645565e-07, 1.2849333e-07, 2.2485255e-10, 33550622.0, 32164.654, 4.2124138, 1.4508944, 0, 'ellipse', array([ 6.07204103,  4.19553757], dtype=float32), 77.733589, 1.1595891, 157),\n",
       "       (11.843803353963585, -25.200218013968094, 3.1915354641753879e-05, 2.0519579841504765e-05, 4363.6950672645744, 4650.6591928251128, 0.2113466080318176, 0.15008015679632081, 261, 205.68913, 14.93319, 17.310873, 0.013057795, 5.9700092e-06, 4.3342834e-07, 5.0243818e-07, 3.8729822e-10, 34453736.0, 5469.8281, 39.180309, 1.6495713, 0, 'ellipse', array([ 9.68526363,  6.40694046], dtype=float32), 163.69769, 1.5918008, 158),\n",
       "       (11.880255504462033, -25.191055255679853, 3.6114086606531259e-05, 4.873871380084438e-05, 4122.3589743589746, 4717.7435897435898, 0.23912831919369637, 0.35661854957197647, 100, 33.640648, 6.2450018, 5.3593526, 0.0069877123, 1.0071835e-06, 1.8700972e-07, 1.6045624e-07, 6.3300365e-10, 33400714.0, 124362.05, 9.6899347, 1.6804458, 0, 'ellipse', array([ 6.73547268,  4.3981204 ], dtype=float32), 80.374649, 1.0796223, 159),\n",
       "       (11.878134882751663, -25.191027951739162, 5.3616849257309696e-05, 4.6513959116367687e-05, 4136.3999999999996, 4717.9428571428571, 0.355022275817646, 0.34033082858604757, 103, 29.496752, 5.9160838, 5.5032482, 0.0070496313, 8.9440152e-07, 1.7939303e-07, 1.668697e-07, 3.347479e-10, 32979316.0, 50912.887, 8.4260798, 1.6872143, 0, 'ellipse', array([ 6.33923912,  6.0001502 ], dtype=float32), 160.13586, 1.2184511, 160),\n",
       "       (11.844142136671266, -25.190324356735282, 5.6601479199613891e-05, 5.616985064449409e-05, 4361.4736842105267, 4723.0526315789475, 0.37489367691341613, 0.41088839774874941, 73, 14.549026, 4.3589039, 4.4509735, 0.0065184832, 4.4013211e-07, 1.3186482e-07, 1.3464931e-07, 2.405755e-10, 33056042.0, 33831.219, 4.4349155, 1.9172988, 0, 'ellipse', array([ 6.33672953,  3.57056117], dtype=float32), 129.91751, 0.82697004, 161),\n",
       "       (11.846731030105429, -25.189694447359727, 7.3513340174358177e-05, 5.5688189004143851e-05, 4344.3333333333339, 4727.6666666666661, 0.48686449555953004, 0.40734006177444826, 63, 11.282068, 3.8729877, 3.7179313, 0.0058775414, 3.528767e-07, 1.2114369e-07, 1.1628819e-07, 4.2848844e-10, 31971702.0, 106413.29, 3.6233079, 1.9109384, 0, 'ellipse', array([ 5.69913626,  4.68186378], dtype=float32), 12.311783, 0.90104389, 162),\n",
       "       (11.846472498680473, -25.181822336189622, 1.074708463022489e-05, 8.2629167295067418e-06, 4346.0613138686131, 4785.2671532846716, 0.071180793402163545, 0.060440617538915831, 480, 792.17609, 28.670547, 29.823931, 0.016986471, 2.3876879e-05, 8.6416685e-07, 8.9891938e-07, 5.3883548e-10, 33177538.0, 6199.3691, 121.32504, 2.1455348, 0, 'ellipse', array([ 5.58952665,  4.74495459], dtype=float32), 178.42773, 0.80010456, 163),\n",
       "       (11.904105580275894, -25.178787292022498, 5.1939426544578282e-05, 5.4023776542067026e-05, 3964.4299999999998, 4807.5, 0.34387643129457501, 0.39534794801511453, 288, 89.746284, 10.000006, 10.253718, 0.010420493, 3.00135e-06, 3.349262e-07, 3.4291114e-07, 2.1188074e-09, 29901970.0, 182244.56, 20.788147, 2.1617563, 0, 'ellipse', array([ 12.30856037,   9.77728176], dtype=float32), 116.11343, 1.6915495, 164),\n",
       "       (11.826316963728365, -25.168484450124595, 3.8741638036299264e-05, 3.0840030341039437e-05, 4479.567010309278, 4882.8144329896913, 0.25666054270004679, 0.22554943339127931, 565, 109.27979, 11.874355, 31.720211, 0.017919993, 3.5285364e-06, 3.8343245e-07, 1.0242143e-06, 1.3064573e-09, 30970288.0, 35419.008, 16.314644, 2.8560901, 0, 'ellipse', array([ 7.60008001,  6.64522934], dtype=float32), 172.16678, 0.82941318, 165),\n",
       "       (11.837201150492598, -25.167910182284711, 4.2056683783542326e-05, 5.5509554957922091e-05, 4407.4888888888891, 4887.0444444444438, 0.27866032638939942, 0.40607188508693071, 127, 37.737114, 6.708209, 7.2628851, 0.0084470455, 1.1779285e-06, 2.0941009e-07, 2.2670413e-07, 6.117461e-10, 32036846.0, 78007.43, 9.851222, 2.7184341, 0, 'ellipse', array([ 8.39463043,  5.26889896], dtype=float32), 107.08813, 0.81549376, 166),\n",
       "       (11.881881563279027, -25.16685279056848, 2.0090460502331098e-05, 1.7297131321925008e-05, 4111.5955555555556, 4894.8355555555554, 0.13305122418751125, 0.12656257364687917, 304, 270.47668, 16.881947, 14.523314, 0.012180966, 8.2288834e-06, 5.1361769e-07, 4.4185194e-07, 3.9942921e-10, 32869184.0, 11085.621, 55.108131, 2.4840858, 0, 'ellipse', array([ 6.55365229,  5.03329802], dtype=float32), 39.417381, 0.7706908, 167),\n",
       "       (12.000750202297294, -25.164871354303731, 3.1312511696413026e-05, 2.2206222588749824e-05, 3324.3747368421054, 4909.0, 0.20722994940797435, 0.16266478965917486, 2497, 1090.1777, 33.911659, 59.822315, 0.02287855, 5.5214638e-05, 1.7187286e-06, 3.0298434e-06, 3.6984515e-09, 19744360.0, 22887.994, 124.12613, 4.600749, 0, 'ellipse', array([ 13.60981083,  10.55819607], dtype=float32), 171.42331, 0.86850256, 168),\n",
       "       (11.857077830620833, -25.16116078130996, 7.0980278483290249e-05, 3.8380539283622284e-05, 4275.8666666666668, 4936.4666666666672, 0.47014576147921616, 0.28073976350788143, 55, 12.145978, 3.8729868, 2.854022, 0.0051706554, 3.9000503e-07, 1.2436325e-07, 9.16421e-08, 2.4573588e-10, 31143132.0, 61565.918, 4.1905422, 2.7873783, 0, 'ellipse', array([ 5.81276131,  2.58685231], dtype=float32), 22.440193, 0.46372434, 169),\n",
       "       (11.884802867370828, -25.46961508255713, 9.7816157357044631e-05, 7.8739314204767652e-05, 4092.2598187311178, 2679.4954682779457, 0.64617021307140021, 0.57615077831769668, 3247, 263.673, 18.193424, 67.326988, 0.026193138, 9.5654341e-06, 6.6010034e-07, 2.4424642e-06, 2.8799241e-09, 27565190.0, 30682.121, 28.502485, 7.3287716, 0, 'ellipse', array([ 35.4132843 ,  31.28285789], dtype=float32), 168.87231, 1.5138535, 170),\n",
       "       (11.944115555520444, -25.45980547259764, 7.1451532194899414e-05, 6.32430622466984e-05, 3700.4086242299795, 2751.1848049281316, 0.47184018415691753, 0.46297125014143603, 4813, 465.96429, 26.870102, 256.03571, 0.049135212, 1.3017234e-05, 7.5085518e-07, 7.1526442e-06, 9.8252491e-09, 35795952.0, 48688.988, 27.370163, 7.2225499, 0, 'ellipse', array([ 32.36700058,  29.4557457 ], dtype=float32), 39.175926, 1.4250314, 171),\n",
       "       (11.856081594330913, -25.446424251748237, 0.000128382055891052, 0.00013515221317206283, 4282.0277777777774, 2849.1666666666665, 0.84846094426211494, 0.98874842947543584, 2235, 50.56139, 8.185359, 16.438612, 0.010474478, 5.0922772e-06, 8.4240679e-07, 1.6556105e-06, 5.6356718e-08, 9929033.0, 337923.5, 9.8255396, 5.9322052, 0, 'ellipse', array([ 18.3003521 ,  14.66595268], dtype=float32), 67.092567, 0.92055011, 172),\n",
       "       (11.86585517933519, -25.445247860584665, 0.00010306145395766464, 0.00017689882738736173, 4217.4523809523807, 2857.7857142857142, 0.68113748812083941, 1.2942992545831657, 949, 30.744745, 6.4807487, 11.255254, 0.010119488, 1.7520797e-06, 3.7213795e-07, 6.4141375e-07, 1.6730375e-08, 17547572.0, 457431.78, 6.8859372, 5.8446407, 0, 'ellipse', array([ 25.26270866,  13.05364227], dtype=float32), 95.919067, 1.0356827, 173),\n",
       "       (11.946463773910146, -25.415862838098448, 8.2558642580110586e-05, 8.744004888683321e-05, 3684.7457627118642, 3072.7118644067796, 0.54532734521399107, 0.6400637569945502, 336, 38.042923, 7.681159, 20.957077, 0.014298353, 7.670759e-07, 1.5488082e-07, 4.2256659e-07, 5.4706784e-10, 49594732.0, 54567.266, 6.7224507, 4.7806602, 0, 'ellipse', array([ 15.13473892,  12.09919071], dtype=float32), 68.081619, 0.94353169, 174),\n",
       "       (11.964920784304516, -25.404711995996301, 6.3683669909053719e-05, 6.3944205969335144e-05, 3562.7155963302753, 3154.2385321100919, 0.42063829860626356, 0.46814151942544413, 864, 114.29662, 13.076718, 56.703377, 0.023854261, 2.2955894e-06, 2.6264041e-07, 1.1388584e-06, 6.1840344e-10, 49789664.0, 17094.342, 13.321594, 4.6167369, 0, 'ellipse', array([ 14.7336092 ,  13.09534454], dtype=float32), 77.646606, 1.0028977, 175),\n",
       "       (11.918923518816351, -25.399119063598654, 7.0853639130064039e-05, 7.1717386759928559e-05, 3866.7254901960782, 3195.2941176470586, 0.46819524853617622, 0.52488560306710497, 454, 45.053894, 8.0000105, 18.946104, 0.012800047, 1.4921141e-06, 2.6495613e-07, 6.2746517e-07, 9.8203501e-10, 30194672.0, 42627.398, 8.2849674, 3.5933874, 0, 'ellipse', array([ 11.61286926,   9.60280895], dtype=float32), 63.648804, 0.97958833, 176),\n",
       "       (11.816109282442017, -25.393018423558626, 0.00011160848718283489, 0.00010302503373438299, 4546.3333333333339, 3239.848484848485, 0.73813438005799981, 0.75346912660052112, 315, 23.388899, 5.7445693, 9.6111012, 0.0087997708, 8.6300616e-07, 2.1206583e-07, 3.5463145e-07, 2.7228582e-09, 27101660.0, 206601.58, 5.5438824, 3.7355564, 0, 'ellipse', array([ 15.78583813,   9.01316071], dtype=float32), 46.159054, 1.0643779, 177),\n",
       "       (11.834127034247915, -25.392248462726442, 6.5323349035750766e-05, 6.2125357889186716e-05, 4427.2350000000006, 3245.5349999999999, 0.43197091915953933, 0.45441597133049072, 865, 153.83124, 14.142155, 46.168766, 0.022976547, 3.8395019e-06, 3.5298231e-07, 1.1523346e-06, 8.3266732e-10, 40065416.0, 20990.184, 19.597017, 3.4187739, 0, 'ellipse', array([ 21.09424782,  16.20492744], dtype=float32), 50.6623, 1.8026605, 178),\n",
       "       (11.956004213327841, -25.385758834204815, 7.6134215738932198e-05, 7.3432395215178303e-05, 3621.5757575757575, 3292.9545454545455, 0.50300319663210757, 0.53758285422100016, 537, 58.701286, 9.110445, 24.298712, 0.014208822, 1.8479294e-06, 2.872217e-07, 7.6492881e-07, 6.4647376e-09, 31765978.0, 267824.34, 9.7756147, 3.6081727, 0, 'ellipse', array([ 13.32021904,  12.02182388], dtype=float32), 65.255188, 1.1690478, 179),\n",
       "       (11.697479828424759, -25.363937315675788, 6.163357962840621e-05, 6.1339355283962504e-05, 5330.7928348909663, 3451.8909657320874, 0.40813371430886036, 0.44825826408441571, 5277, 698.00476, 28.653118, 122.99525, 0.033820439, 3.5829959e-05, 1.4794431e-06, 6.3135881e-06, 2.815765e-08, 19481038.0, 86717.195, 57.571751, 6.7860217, 0, 'ellipse', array([ 34.08296585,  31.01316261], dtype=float32), 93.252678, 1.5970011, 180),\n",
       "       (11.836838434824825, -25.358171534790603, 5.5715485103746687e-05, 6.4125119333624525e-05, 4409.3999999999996, 3494.8857142857141, 0.3685603542089666, 0.46907886908593355, 108, 26.125273, 5.9160862, 8.8747272, 0.0087545374, 6.030694e-07, 1.3656596e-07, 2.0486205e-07, 2.3636176e-10, 43320508.0, 25922.408, 6.3683295, 2.1248696, 0, 'ellipse', array([ 8.80380249,  5.88155222], dtype=float32), 64.086327, 1.1288276, 181),\n",
       "       (11.875710826588, -25.354046162588752, 7.1903433278563966e-05, 5.6259176105299957e-05, 4152.375, 3525.125, 0.47547262670923374, 0.41162312101005227, 98, 23.342909, 5.6568613, 8.6570921, 0.0090408139, 4.0841346e-07, 9.8974233e-08, 1.5146668e-07, 1.8574363e-10, 57155092.0, 36739.602, 5.7394505, 1.6991284, 0, 'ellipse', array([ 8.47890568,  6.48185205], dtype=float32), 28.454149, 1.4543604, 182),\n",
       "       (11.803376962752662, -25.351615621684228, 4.8909368594252101e-05, 4.7160003383339699e-05, 4630.6785714285716, 3542.75, 0.32361782791213045, 0.34487871278270177, 141, 38.074192, 7.0000086, 10.925807, 0.010843365, 9.1144483e-07, 1.6757737e-07, 2.615491e-07, 4.9978177e-10, 41773448.0, 68212.242, 8.6199446, 2.5716, 0, 'ellipse', array([ 5.54580021,  5.06052303], dtype=float32), 67.04818, 0.68668121, 183),\n",
       "       (11.735688325000407, -25.342410223887573, 5.6278055380332148e-05, 4.4480421017567551e-05, 5078.3404255319147, 3609.7234042553191, 0.37252469087252393, 0.32505475759717228, 574, 84.218834, 9.9498816, 14.781168, 0.011671011, 2.6490777e-06, 3.1299192e-07, 4.6493713e-07, 7.4049633e-10, 31791756.0, 43973.695, 17.045033, 4.5090046, 0, 'ellipse', array([ 7.9976244 ,  6.27965832], dtype=float32), 152.41258, 0.52389783, 184),\n",
       "       (11.920097080431786, -25.3367129999958, 3.9784568633294271e-05, 3.7782510499795308e-05, 3858.8461538461538, 3651.9230769230771, 0.26303089669681867, 0.27652831823752422, 87, 15.945998, 4.7958388, 7.0540018, 0.0082765259, 2.789987e-07, 8.3913804e-08, 1.2342014e-07, 3.7094094e-10, 57154380.0, 158147.92, 4.203434, 1.4252594, 0, 'ellipse', array([ 3.04056716,  2.79219842], dtype=float32), 63.013687, 0.68145204, 185),\n",
       "       (11.831502738277203, -25.333793324036407, 5.2112138360982385e-05, 8.3602507107372048e-05, 4444.75, 3673.25, 0.34487871278270177, 0.6115908496267366, 85, 15.451296, 5.2915154, 12.548704, 0.011517974, 2.6672311e-07, 9.1344056e-08, 2.1661803e-07, 3.9202605e-10, 57930100.0, 90355.195, 3.3251913, 1.5500714, 0, 'ellipse', array([ 9.81354427,  5.2845521 ], dtype=float32), 99.962791, 1.5486172, 186),\n",
       "       (11.771081620190582, -25.322493868570326, 6.4881482719769679e-05, 7.3754759849720131e-05, 4844.409090909091, 3755.681818181818, 0.42958316770000238, 0.53930765088171029, 102, 17.79318, 4.6904192, 4.2068205, 0.0058211652, 5.8964196e-07, 1.5554852e-07, 1.3940834e-07, 1.4230597e-09, 30176244.0, 305191.31, 5.5148849, 2.7636745, 0, 'ellipse', array([ 8.24399185,  5.11514473], dtype=float32), 119.88096, 0.78323048, 187),\n",
       "       (11.800874948683834, -25.321837784692704, 4.9789264394917154e-05, 4.4328334393384239e-05, 4647.3582089552237, 3760.626865671642, 0.32951052389671531, 0.32414929420610861, 136, 56.412067, 8.185359, 10.587934, 0.0097743236, 1.3166796e-06, 1.9105076e-07, 2.4712651e-07, 2.6376668e-10, 42844188.0, 22952.049, 12.917261, 1.9247363, 0, 'ellipse', array([ 8.33681965,  7.70249081], dtype=float32), 140.99376, 1.3877885, 188),\n",
       "       (12.058672135611896, -25.319486620845929, 0.00010871825967484483, 0.00010686055052033794, 2942.25, 3777.25, 0.71807033081722693, 0.78284559283565613, 227, 10.596956, 3.4641032, 1.4030435, 0.0033003157, 1.3401717e-06, 4.3848593e-07, 1.7743955e-07, 2.4806492e-09, 7907163.5, 108968.15, 4.2949166, 5.4539881, 0, 'ellipse', array([ 8.97715187,  6.42539835], dtype=float32), 52.747425, 0.46417728, 189),\n",
       "       (11.902302782641481, -25.312371494473734, 5.3457622939845351e-05, 4.6142699481777072e-05, 3976.5, 3830.0555555555557, 0.35355339059333346, 0.33767745423756423, 31, 9.5935574, 4.2426496, 8.4064426, 0.0087473998, 1.6793021e-07, 7.4265635e-08, 1.4715039e-07, 2.3351035e-10, 57128240.0, 68445.086, 2.3829234, 0.80841136, 0, 'ellipse', array([ 5.39921713,  3.09365082], dtype=float32), 137.60457, 1.6851842, 190),\n",
       "       (11.946010236674454, -25.30140468301224, 5.637211665110442e-05, 8.5278487020445937e-05, 3687.3571428571427, 3910.2142857142858, 0.37262366605136776, 0.62416124477158519, 66, 10.04041, 3.7416611, 3.9595897, 0.0053006196, 2.5258819e-07, 9.4137981e-08, 9.9612031e-08, 5.1407639e-10, 39750116.0, 198120.17, 3.1671631, 1.1945484, 0, 'ellipse', array([ 7.35118151,  3.54143476], dtype=float32), 69.78875, 1.423781, 191),\n",
       "       (11.894393727807229, -25.299358843453469, 2.3019212092023622e-05, 2.1726802824417746e-05, 4028.8076923076924, 3925.2756410256411, 0.15226629644848799, 0.15898824328041883, 121, 214.54291, 17.175585, 80.457092, 0.027000265, 4.0449554e-06, 3.2383767e-07, 1.5169242e-06, 1.1681113e-09, 53039624.0, 36760.824, 21.429651, 0.62949449, 0, 'ellipse', array([ 6.02883196,  5.6297636 ], dtype=float32), 64.575645, 3.0849524, 192),\n",
       "       (11.900448753938999, -25.297066945597678, 2.3986476778148358e-05, 2.0496046104767629e-05, 3988.75, 3942.0416666666665, 0.15866193970532549, 0.14999035462824395, 67, 79.695221, 11.090556, 43.304783, 0.020860536, 1.2986211e-06, 1.8072302e-07, 7.0564465e-07, 7.4705514e-10, 61369108.0, 57855.301, 10.434893, 0.63734025, 0, 'ellipse', array([ 2.42188549,  2.10507607], dtype=float32), 146.88617, 1.1809136, 193),\n",
       "       (11.983527918584581, -25.296168183386147, 6.7803905100305428e-05, 7.3856813536110621e-05, 3439.1428571428569, 3948.3809523809523, 0.44815426100694822, 0.54074858030617179, 100, 17.330784, 4.5825796, 3.6692154, 0.0058070943, 4.3709181e-07, 1.1558309e-07, 9.2539608e-08, 3.2213857e-10, 39650216.0, 122936.05, 5.5866237, 2.0943556, 0, 'ellipse', array([ 8.06225777,  5.31267262], dtype=float32), 59.036243, 1.0416293, 194),\n",
       "       (11.739311489283718, -25.2952497562529, 8.9771801411231422e-05, 8.0786082929051872e-05, 5054.7530864197524, 3954.8271604938273, 0.59452638800394197, 0.59047722322929985, 649, 70.961502, 9.0000038, 10.038495, 0.0087265158, 4.0447867e-06, 5.1391959e-07, 5.7219154e-07, 4.3806532e-09, 17543942.0, 133446.38, 16.56205, 3.570745, 0, 'ellipse', array([ 17.68585777,  14.10884571], dtype=float32), 44.118752, 1.4746152, 195),\n",
       "       (11.898218547140985, -25.292229743816304, 2.6557781046321338e-05, 2.5837038137410673e-05, 4003.5, 3977.4375, 0.17567755492882497, 0.18906991695394026, 184, 197.08061, 18.248322, 135.91939, 0.034780808, 3.7656532e-06, 3.4869026e-07, 2.5970351e-06, 2.4292994e-09, 52336368.0, 47088.645, 15.529692, 0.58058488, 0, 'ellipse', array([ 7.70404816,  6.79396343], dtype=float32), 62.951954, 4.1536903, 196),\n",
       "       (11.992992839856845, -25.291447359268989, 8.8669495928783704e-05, 5.2415783173387354e-05, 3376.5, 3982.875, 0.58630196997819439, 0.38400642898250226, 72, 13.939348, 4.0000024, 2.0606523, 0.0043218685, 4.0806839e-07, 1.1710317e-07, 6.0324702e-08, 2.0185496e-10, 34159344.0, 89062.68, 5.2080507, 2.3851166, 0, 'ellipse', array([ 7.1609869 ,  4.41074181], dtype=float32), 166.32118, 0.78543705, 197),\n",
       "       (12.010331463957403, -25.286734348446167, 0.00010660977561194329, 0.00010736848736314641, 3261.7600000000002, 4017.2600000000002, 0.70459066130570136, 0.78628747923403353, 486, 36.659824, 7.0710778, 13.340174, 0.01188727, 1.103387e-06, 2.1285145e-07, 4.0151244e-07, 1.2670788e-09, 33224810.0, 100582.94, 7.7118702, 2.9870052, 0, 'ellipse', array([ 18.79832649,  12.17522717], dtype=float32), 52.748329, 1.688266, 198),\n",
       "       (11.897419156781645, -25.285530523014248, 2.6517904878176068e-05, 3.7911315025951353e-05, 4008.7836538461538, 4026.4567307692309, 0.17541584830951251, 0.2774172014233045, 152, 96.874435, 14.422241, 111.12556, 0.032278936, 1.6891029e-06, 2.5146753e-07, 1.9375855e-06, 1.0914115e-09, 57352600.0, 27679.086, 8.3677464, 0.53217077, 0, 'ellipse', array([ 12.00309181,   7.58935213], dtype=float32), 90.414192, 5.9782853, 199),\n",
       "       (11.881180008368196, -25.286079431270828, 2.7989967632535695e-05, 2.206412692018489e-05, 4116.2222222222226, 4022.4444444444443, 0.18518518518430938, 0.16144070161271884, 41, 46.74007, 8.7749815, 30.25993, 0.017187709, 7.6342849e-07, 1.4332734e-07, 4.9425029e-07, 4.8101512e-10, 61223900.0, 48383.695, 7.1156216, 0.49643421, 0, 'ellipse', array([ 2.40692091,  1.99612379], dtype=float32), 21.255224, 1.4717759, 200),\n",
       "       (11.8834345010594, -25.283548046155513, 2.0429022711709877e-05, 1.8536219663189968e-05, 4101.3066037735844, 4040.9669811320755, 0.13516194441308471, 0.13563013577095262, 146, 377.84293, 22.000023, 106.15709, 0.032288518, 6.1662754e-06, 3.5904839e-07, 1.7324496e-06, 1.063681e-09, 61275712.0, 32680.9, 33.32069, 0.48663116, 0, 'ellipse', array([ 5.97873402,  5.848948  ], dtype=float32), 130.46667, 4.0506277, 201),\n",
       "       (11.88331515474262, -25.281790150252817, 2.1702049020078107e-05, 2.2434068096544024e-05, 4102.0962962962967, 4053.8296296296298, 0.14358684598482796, 0.16415080247224978, 168, 187.47096, 17.204681, 108.52904, 0.032808058, 3.0416447e-06, 2.7917019e-07, 1.7608421e-06, 2.4597842e-09, 61634736.0, 84059.641, 16.367775, 0.47969064, 0, 'ellipse', array([ 5.91448212,  4.77572489], dtype=float32), 115.41564, 3.6931376, 202),\n",
       "       (11.783340015640036, -25.279755504730176, 8.1414596543538664e-05, 4.1173238553682268e-05, 4763.5666666666666, 4068.4666666666667, 0.53889461623566604, 0.3008629563746581, 91, 23.348867, 5.4772315, 6.6511326, 0.0081706401, 5.7216522e-07, 1.3422071e-07, 1.6298637e-07, 2.4268579e-10, 40807908.0, 34336.762, 6.2757297, 1.947866, 0, 'ellipse', array([ 9.15825272,  4.35619259], dtype=float32), 16.867071, 1.0808851, 203),\n",
       "       (11.961252301506665, -25.277679383069533, 8.7335498246687848e-05, 5.2749001039131826e-05, 3586.4285714285716, 4083.7619047619046, 0.57763074055401376, 0.38630033024355726, 83, 15.596641, 4.582582, 5.4033599, 0.0075099207, 2.905492e-07, 8.5368775e-08, 1.0065897e-07, 1.4305518e-10, 53679864.0, 15929.15, 4.4810247, 1.4084624, 0, 'ellipse', array([ 8.2209959 ,  4.86626387], dtype=float32), 18.722589, 1.4969026, 204),\n",
       "       (11.888350970537529, -25.270138986481953, 4.6627401475873853e-05, 5.5056247855844731e-05, 4068.7755102040815, 4139.0816326530612, 0.30851487728523352, 0.40286017687412823, 85, 21.153322, 7.0000181, 27.846678, 0.016001731, 3.5604825e-07, 1.1782356e-07, 4.6870937e-07, 6.0969108e-10, 59411392.0, 69331.828, 3.3324988, 0.45980504, 0, 'ellipse', array([ 8.69836807,  6.1551671 ], dtype=float32), 70.79174, 5.3044925, 205),\n",
       "       (11.975869288921755, -25.263939717431633, 8.9757756727593119e-05, 4.0187881925390911e-05, 3489.6470588235297, 4184.2352941176468, 0.59374581532983939, 0.29446346451732097, 66, 14.647579, 4.1231084, 2.3524213, 0.0045713643, 4.1473405e-07, 1.1674781e-07, 6.6606852e-08, 2.2232167e-10, 35318004.0, 95846.484, 5.3044624, 1.7886437, 0, 'ellipse', array([ 7.38506985,  3.55877709], dtype=float32), 6.8837709, 0.95539421, 206),\n",
       "       (11.969276318068983, -25.263627922366243, 5.5289990918083731e-05, 3.667192608958203e-05, 3533.272727272727, 4186.545454545454, 0.36569664280705183, 0.26856325304652273, 72, 14.504197, 4.1231079, 2.4958026, 0.0043308628, 4.5539218e-07, 1.2947811e-07, 7.8361388e-08, 4.4816101e-10, 31849904.0, 173567.73, 5.1770916, 1.6197096, 0, 'ellipse', array([ 3.71499133,  2.5649569 ], dtype=float32), 16.190338, 0.63527322, 207),\n",
       "       (11.988094568449091, -25.250877076633024, 5.7729549764573562e-05, 4.5334200358126964e-05, 3408.6756756756758, 4279.7567567567567, 0.38179352040515369, 0.33200962499904563, 201, 68.057411, 8.6023283, 5.9425864, 0.0070616533, 2.2426668e-06, 2.8368007e-07, 1.958235e-07, 9.836546e-10, 30346644.0, 148109.48, 18.973335, 2.2625291, 0, 'ellipse', array([ 10.61167717,   7.60829163], dtype=float32), 147.81305, 1.3237932, 208),\n",
       "       (11.985555714474659, -25.245877761375855, 8.9111725262824848e-05, 6.7775213356213726e-05, 3425.4499999999998, 4316.3500000000004, 0.58938527297505061, 0.49636176323292602, 101, 16.949457, 4.4721389, 3.0505428, 0.005179008, 5.4613298e-07, 1.4410385e-07, 9.8292354e-08, 2.8764008e-10, 31035404.0, 73974.758, 5.7465563, 2.210911, 0, 'ellipse', array([ 8.78779125,  5.44515562], dtype=float32), 33.767189, 1.0429236, 209),\n",
       "       (11.960649964441654, -25.243828389754221, 8.033977097987588e-05, 5.0772500042484126e-05, 3590.2727272727275, 4331.454545454546, 0.53150198977891705, 0.37180898774204252, 52, 8.5949116, 3.316628, 2.4050884, 0.0046618748, 2.3646108e-07, 9.1248893e-08, 6.6168198e-08, 2.3289023e-10, 36348104.0, 106785.03, 3.0958633, 1.5473766, 0, 'ellipse', array([ 5.40441275,  3.52777791], dtype=float32), 164.21291, 0.94060564, 210),\n",
       "       (11.831912995997854, -25.243474937835238, 4.9890044117262278e-05, 3.920795313661074e-05, 4442.2941176470595, 4334.1176470588234, 0.33030033394516067, 0.28675916062456963, 84, 19.7605, 5.3851748, 9.239501, 0.010337933, 3.3089964e-07, 9.0206925e-08, 1.5472014e-07, 1.0910856e-09, 59717500.0, 415793.03, 4.7494154, 0.99032921, 0, 'ellipse', array([ 4.17557955,  3.44062376], dtype=float32), 158.62729, 1.275781, 211),\n",
       "       (11.820740409908932, -25.243428094649015, 6.88997522590995e-05, 7.8433905834174311e-05, 4516.2380952380954, 4334.4285714285716, 0.4562727925767831, 0.57369166373609914, 100, 14.688313, 4.5825806, 6.311687, 0.0067891525, 4.3513322e-07, 1.3575962e-07, 1.8698027e-07, 4.4722182e-10, 33755900.0, 72112.516, 4.0160713, 1.1577199, 0, 'ellipse', array([ 8.57997036,  5.2853694 ], dtype=float32), 119.98786, 1.9389019, 212),\n",
       "       (11.92906403309739, -25.242874822125096, 7.6342664868889187e-05, 6.1322904702620917e-05, 3799.3157894736842, 4338.5263157894733, 0.50511308944078337, 0.44887314159495872, 69, 11.25175, 4.3589077, 7.74825, 0.0086449496, 2.1358602e-07, 8.2743931e-08, 1.4708093e-07, 3.3611247e-10, 52680180.0, 105062.09, 2.8738813, 0.93008167, 0, 'ellipse', array([ 6.78527403,  5.66066742], dtype=float32), 155.47775, 2.2211361, 213),\n",
       "       (11.962583378512463, -25.220024114662337, 5.302574281351724e-05, 5.365549159463967e-05, 3577.375, 4505.625, 0.35078038000983724, 0.39280640906144981, 37, 6.8648028, 2.8284287, 1.1351973, 0.0030275083, 2.4198761e-07, 9.9711585e-08, 4.0016253e-08, 2.3578473e-10, 28368406.0, 149050.83, 2.892849, 1.9511473, 0, 'ellipse', array([ 3.33438611,  2.97499919], dtype=float32), 86.437492, 0.53807157, 214),\n",
       "       (11.992987061641189, -25.204635519511047, 0.00011596146318026967, 6.3533375996627228e-05, 3376.0230769230766, 4618.084615384616, 0.76734117024443549, 0.46550025459418976, 892, 101.74345, 11.401766, 28.256554, 0.016013198, 3.4502293e-06, 3.8702061e-07, 9.5821008e-07, 4.7585353e-09, 29488894.0, 145487.17, 15.932831, 3.1464632, 0, 'ellipse', array([ 26.51091957,  15.4793272 ], dtype=float32), 170.01791, 2.1460733, 215),\n",
       "       (11.749378966075442, -25.202466496424318, 9.9874514118525326e-05, 7.6155795746046806e-05, 4988.8333333333339, 4633.8000000000002, 0.66178770233545947, 0.55657683905974409, 262, 23.03154, 5.4772339, 6.9684591, 0.0095751621, 1.2773498e-06, 3.038173e-07, 3.8647698e-07, 1.6687819e-09, 18030722.0, 73808.172, 6.0958843, 3.9069805, 0, 'ellipse', array([ 11.4464817 ,   8.41831589], dtype=float32), 152.56233, 0.83750254, 216),\n",
       "       (11.867910959490578, -25.195019974310711, 9.2004672723078329e-05, 6.8266221973090069e-05, 4204.090909090909, 4688.7272727272721, 0.60922041302455909, 0.49943619602527178, 53, 7.8470001, 3.3166292, 3.1530001, 0.0054574721, 2.2874219e-07, 9.66808e-08, 9.1910813e-08, 1.7307319e-10, 34304996.0, 25440.004, 2.637114, 1.6010445, 0, 'ellipse', array([ 6.95457315,  3.61551261], dtype=float32), 35.018764, 1.043988, 217),\n",
       "       (11.998864618472654, -25.189529783560726, 7.1794345389619707e-05, 5.2434848903715192e-05, 3337.0164835164833, 4728.5824175824182, 0.47504283708030925, 0.38407590643510048, 871, 157.17676, 13.490746, 24.823242, 0.015259315, 5.6420745e-06, 4.8439983e-07, 8.9106425e-07, 1.8617543e-09, 27857972.0, 55629.156, 25.949608, 3.7533021, 0, 'ellipse', array([ 19.4427948 ,  15.27241325], dtype=float32), 166.07719, 1.5303769, 218),\n",
       "       (11.786598786555777, -25.17504957854511, 0.00012369693266478521, 7.5397801879262261e-05, 4742.5625, 4834.625, 0.81953087762121868, 0.55109975276718615, 141, 10.507179, 4.0000062, 5.4928212, 0.0070772199, 4.894473e-07, 1.8633939e-07, 2.558676e-07, 1.0790083e-09, 21467436.0, 86200.438, 3.0032835, 3.5100594, 0, 'ellipse', array([ 10.30721664,   5.84897423], dtype=float32), 21.32308, 0.73735195, 219),\n",
       "       (11.964196294866026, -25.173012690489941, 7.7306659839848635e-05, 6.23005710380653e-05, 3566.4929577464791, 4849.6056338028175, 0.51166641002737379, 0.45616362222699536, 789, 93.17215, 10.535662, 17.827852, 0.01323165, 3.260627e-06, 3.6904143e-07, 6.2389864e-07, 3.0580425e-09, 28574918.0, 138445.12, 17.545872, 3.2449965, 0, 'ellipse', array([ 13.15915871,  11.27363396], dtype=float32), 159.08347, 1.2511533, 220),\n",
       "       (11.898459882895812, -25.159608208744451, 6.7802632624847092e-05, 6.5447292659115419e-05, 4001.8000000000002, 4947.8400000000001, 0.44899888641293728, 0.4789321455064055, 121, 23.047735, 5.0000014, 1.9522641, 0.0035867693, 1.5874922e-06, 3.4442664e-07, 1.3446892e-07, 4.8033794e-10, 14518330.0, 44475.746, 8.7174683, 2.7989635, 0, 'ellipse', array([ 7.85787535,  5.93492985], dtype=float32), 128.18559, 0.81328332, 221),\n",
       "       (11.890029061902368, -25.152453611078688, 0.00011142753891668633, 9.5937260386591561e-05, 4057.6341463414633, 5000.1951219512193, 0.73798614790803185, 0.70201504158649186, 420, 30.499123, 6.403132, 10.500877, 0.009922388, 1.3771621e-06, 2.8960562e-07, 4.7415821e-07, 5.7418408e-09, 22146358.0, 267364.66, 7.004477, 3.0790412, 0, 'ellipse', array([ 15.92467785,  11.36763763], dtype=float32), 40.579849, 1.4565778, 222),\n",
       "       (11.951332835366498, -25.151993746948634, 0.00010432983486019509, 9.7778990657104714e-05, 3651.5999999999999, 5003.4499999999998, 0.69065186599345907, 0.71580374405220937, 291, 18.166473, 4.472137, 1.8335258, 0.0031960506, 2.2975155e-06, 5.6588351e-07, 2.3188616e-07, 1.878377e-09, 7907008.5, 62549.617, 6.9674492, 3.804064, 0, 'ellipse', array([ 10.15760899,   8.65508461], dtype=float32), 51.509274, 0.8216036, 223),\n",
       "       (11.860538614899934, -25.142497884224756, 9.5317330522703969e-05, 8.6316559261945258e-05, 4252.9705882352937, 5073.0294117647063, 0.63147722416033503, 0.63147722415942553, 254, 22.395643, 5.8309612, 11.604357, 0.010511066, 8.0349855e-07, 2.0922117e-07, 4.163347e-07, 1.5870378e-09, 27872662.0, 103205.45, 4.9604111, 3.5792434, 0, 'ellipse', array([ 12.17455196,   9.78894901], dtype=float32), 56.309933, 1.0166748, 224),\n",
       "       (11.785878817877688, -25.121039160253574, 0.00014717819692933176, 0.00010172420882170741, 4747.61963190184, 5229.8220858895711, 0.97560320704542391, 0.74361903441786126, 1997, 87.394798, 12.767176, 75.605202, 0.027708307, 4.0829696e-06, 5.9716024e-07, 3.532175e-06, 2.4945317e-08, 21404716.0, 150963.06, 8.9744797, 5.8118825, 0, 'ellipse', array([ 39.93550491,  24.75185585], dtype=float32), 26.718855, 1.8032062, 225),\n",
       "       (11.817368802358235, -25.120559946406551, 9.3808654062499386e-05, 7.4258299520124638e-05, 4539.0, 5233.4561403508778, 0.62175597005807504, 0.54304986427268886, 357, 43.130882, 7.5498428, 13.869118, 0.011379889, 2.0176265e-06, 3.5324069e-07, 6.4878566e-07, 2.2493172e-09, 21377040.0, 72007.93, 8.9418306, 5.1425977, 0, 'ellipse', array([ 15.30140781,  10.74560547], dtype=float32), 33.325539, 0.831146, 226),\n",
       "       (11.83251662596995, -25.112317282088647, 7.0995980063770503e-05, 4.5515277257379694e-05, 4438.6684491978613, 5293.8128342245991, 0.47051056269083347, 0.33286135659636784, 756, 157.19678, 13.674805, 29.803219, 0.016928872, 6.9856028e-06, 6.0770549e-07, 1.324413e-06, 1.1338345e-09, 22502966.0, 14413.576, 24.082247, 5.3521433, 0, 'ellipse', array([ 20.1379509 ,  12.39018345], dtype=float32), 21.19895, 0.98377889, 227),\n",
       "       (11.69417275982855, -25.086441048378664, 0.00011266876244242496, 0.0001241220277421462, 5355.5333333333328, 5482.3333333333339, 0.74793542997213081, 0.90717306119768182, 842, 24.891603, 6.9282193, 23.108397, 0.014939629, 1.3135026e-06, 3.6559527e-07, 1.2194048e-06, 1.0434178e-09, 18950554.0, 10622.791, 4.2300243, 11.231323, 0, 'ellipse', array([ 15.32568359,  11.76279831], dtype=float32), 68.751343, 0.39848602, 228),\n",
       "       (11.719092245857707, -25.062998019415417, 0.00013021003926816377, 0.00011489596968417004, 5190.6046511627901, 5654.0872093023254, 0.8640934712238959, 0.83966234337458445, 5510, 149.11664, 17.860619, 169.88336, 0.04078253, 7.8231824e-06, 9.3704529e-07, 8.9126779e-06, 6.3253895e-09, 19060866.0, 12730.237, 10.603722, 11.477333, 0, 'ellipse', array([ 34.0009346 ,  33.03260803], dtype=float32), 3.4692981, 0.97331768, 229),\n",
       "       (11.992389966655804, -25.434962403585729, 0.00010503601945011098, 8.9665161357999068e-05, 3381.3354037267081, 2932.7639751552797, 0.69353849804338097, 0.65665514712782169, 2255, 114.06687, 15.874554, 137.93312, 0.03826689, 3.0904523e-06, 4.3011812e-07, 3.7370689e-06, 5.5296696e-09, 36909440.0, 53645.66, 8.927949, 6.8477349, 0, 'ellipse', array([ 27.16934013,  24.15766144], dtype=float32), 31.086288, 1.2470928, 230),\n",
       "       (12.004138739191786, -25.397473330152636, 8.8286171983753547e-05, 6.300489286559241e-05, 3303.4554455445545, 3207.0099009900987, 0.58315482720308864, 0.4615380384607306, 428, 81.572655, 10.049885, 19.427343, 0.013889085, 3.358467e-06, 4.1405573e-07, 7.9985244e-07, 3.7158614e-09, 24288658.0, 111493.3, 14.853213, 5.4704828, 0, 'ellipse', array([ 19.40132141,  11.24031639], dtype=float32), 31.247087, 0.89982492, 231),\n",
       "       (11.756203897710048, -25.389438874054015, 0.00010339793099589656, 8.5291871364745475e-05, 4942.34375, 3265.75, 0.68409579778472107, 0.62343554197695994, 284, 24.88405, 5.6568599, 7.1159492, 0.0079762135, 1.0578406e-06, 2.4047881e-07, 3.0250462e-07, 4.0463455e-10, 23523442.0, 17170.705, 6.5404654, 5.2423396, 0, 'ellipse', array([ 12.7648325 ,   9.15296841], dtype=float32), 36.614429, 0.68729335, 232),\n",
       "       (11.747634556955527, -25.380688389805801, 0.00010451166013858426, 8.3825205631882227e-05, 4999.0555555555557, 3329.7222222222222, 0.69153712406750856, 0.61265237739507938, 500, 36.1758, 6.9282107, 11.824199, 0.010038318, 1.5791472e-06, 3.0247426e-07, 5.1615029e-07, 1.7387155e-09, 22908442.0, 74678.984, 7.9577012, 5.1816034, 0, 'ellipse', array([ 8.91567516,  7.6673665 ], dtype=float32), 18.188919, 0.53188139, 233),\n",
       "       (11.834668157974715, -25.380540198572092, 9.9516311721004058e-05, 6.9735388233738149e-05, 4423.6896551724139, 3331.2068965517242, 0.65807604900055594, 0.51001692715135505, 181, 17.66527, 5.3851752, 11.334731, 0.01061468, 4.2010993e-07, 1.2806856e-07, 2.6955905e-07, 2.5393829e-10, 42049160.0, 4303.8398, 3.9463909, 2.9589331, 0, 'ellipse', array([ 10.71177769,   8.13499546], dtype=float32), 10.823336, 1.0516059, 234),\n",
       "       (11.7496410237374, -25.371681117611828, 0.00011406217882203862, 0.00011692602802071406, 4985.8571428571431, 3395.6428571428569, 0.75496413522796502, 0.85480122320677765, 164, 9.462285, 3.7416635, 4.537715, 0.0067492407, 3.1742434e-07, 1.2554202e-07, 1.5222341e-07, 1.1785349e-09, 29809576.0, 226490.94, 2.8677907, 4.8197584, 0, 'ellipse', array([ 9.75640869,  8.28825378], dtype=float32), 69.92556, 0.62191349, 235),\n",
       "       (11.856994114891934, -25.34157178454408, 6.3374568684437804e-05, 4.3455002728620684e-05, 4276.1538461538457, 3616.3846153846152, 0.41915883428282541, 0.31787872233326198, 31, 8.5313702, 3.6055574, 4.4686298, 0.0066239871, 1.4325909e-07, 6.054475e-08, 7.5037406e-08, 1.2460638e-10, 59552036.0, 44574.848, 2.5975175, 1.4339979, 0, 'ellipse', array([ 4.67572308,  3.24288678], dtype=float32), 19.833921, 0.90514988, 236),\n",
       "       (11.737299453807063, -25.318440767397806, 6.1663382007637324e-05, 6.9052898865606949e-05, 5067.8780487804879, 3785.1219512195121, 0.40841115213243029, 0.50481927541841287, 406, 60.866932, 8.5440111, 12.133066, 0.011464804, 1.6397419e-06, 2.3017874e-07, 3.2686216e-07, 4.3100787e-10, 37119824.0, 34139.902, 13.262795, 3.9666083, 0, 'ellipse', array([ 9.79758549,  7.71966791], dtype=float32), 103.40313, 0.73083323, 237),\n",
       "       (11.852019322936465, -25.30785152955584, 3.7129695847681887e-05, 3.9864127003852445e-05, 4309.1111111111113, 3863.1111111111113, 0.24567591039703984, 0.29162992125930032, 55, 18.276859, 5.4772353, 11.723141, 0.010384651, 3.0953132e-07, 9.2779942e-08, 1.9853954e-07, 1.2220336e-09, 59046884.0, 359656.84, 4.0330834, 0.81505042, 0, 'ellipse', array([ 2.83304667,  1.93691099], dtype=float32), 58.948635, 0.95802307, 238),\n",
       "       (11.897165378643733, -25.304615661148425, 4.6231569116983451e-05, 3.7515816476485497e-05, 4010.4761904761904, 3886.8095238095239, 0.30579473514262645, 0.27453566338772362, 28, 6.0857048, 4.5825911, 14.914295, 0.011934883, 1.0497723e-07, 7.9048846e-08, 2.5726868e-07, 2.7817779e-10, 57971668.0, 42155.504, 1.2274976, 0.69286501, 0, 'ellipse', array([ 4.49638224,  3.42065978], dtype=float32), 146.86972, 1.88676, 239),\n",
       "       (11.889072777218519, -25.272336787458872, 0.0, 0.0, 4064.0, 4123.0, 0.0, 0.0, 30, 7.3956656, 4.2426524, 10.604335, 0.0098798992, 1.2305529e-07, 7.0592925e-08, 1.7644382e-07, 2.463279e-10, 60100348.0, 62486.281, 1.6925194, 0.46270421, 0, 'ellipse', array([  3.57627869e-07,   3.57627869e-07], dtype=float32), 90.0, 2.5763606e-07, 240),\n",
       "       (12.020336576505033, -25.232914473282268, 9.3779820144135329e-05, 0.00011253016060663867, 3195.166666666667, 4411.0, 0.61988648901115084, 0.82402205412108742, 168, 12.784864, 4.2426467, 5.2151351, 0.0071821758, 3.859426e-07, 1.280761e-07, 1.5743169e-07, 3.246447e-10, 33126338.0, 50843.918, 3.7139797, 3.5904949, 0, 'ellipse', array([ 10.70467949,   7.59340715], dtype=float32), 73.503891, 0.837008, 241),\n",
       "       (11.93885957949289, -25.205872676419695, 3.720925711370171e-05, 9.2772401146135053e-05, 3734.375, 4609.25, 0.24606274606276202, 0.67892378070064296, 46, 6.4230275, 2.8284297, 1.5769724, 0.0037385637, 1.8545614e-07, 8.1686238e-08, 4.5532918e-08, 4.4799353e-10, 34633676.0, 330717.12, 2.5433285, 1.763576, 0, 'ellipse', array([ 5.78928089,  2.00776029], dtype=float32), 96.056923, 0.64439595, 242),\n",
       "       (11.92840253386581, -25.197072560859976, 7.4396931303510883e-05, 6.3046568111957413e-05, 3803.5833333333335, 4673.6666666666661, 0.49241938614522951, 0.46147910349645826, 61, 9.9585476, 3.4641042, 2.0414529, 0.0042645754, 2.8799653e-07, 1.0018042e-07, 5.9037863e-08, 1.2812247e-10, 34578704.0, 20333.242, 3.7287257, 1.8338649, 0, 'ellipse', array([ 5.3116374 ,  4.57973862], dtype=float32), 31.93869, 0.89649105, 243),\n",
       "       (11.999800660964377, -25.171641081811451, 0.00010196728701217239, 9.9760581385055502e-05, 3330.7058823529414, 4859.4705882352937, 0.67462513431519255, 0.73053825280840101, 484, 27.598351, 6.2450066, 11.401649, 0.010299321, 1.1640775e-06, 2.6359169e-07, 4.8091289e-07, 4.0699795e-09, 23708346.0, 199498.19, 6.1522145, 4.3525057, 0, 'ellipse', array([ 9.15302277,  8.21640873], dtype=float32), 68.818886, 0.66414464, 244),\n",
       "       (11.929655453983658, -25.166512777348444, 0.00010573656036250156, 0.00012313832623789267, 3795.212121212121, 4897.2727272727279, 0.69993778518937688, 0.9012517845731054, 403, 29.169786, 5.744565, 3.8302126, 0.0054563396, 2.2267607e-06, 4.3858279e-07, 2.9239041e-07, 1.000301e-09, 13099651.0, 40745.328, 9.2893181, 2.8354151, 0, 'ellipse', array([ 16.69368362,  10.39541721], dtype=float32), 117.93327, 1.548671, 245),\n",
       "       (12.12575465391207, -25.145072295110303, 8.8686116962222172e-05, 7.6855423220223429e-05, 2496.252416756176, 5052.7722878625136, 0.58642453913489589, 0.56341518387853284, 12364, 728.52795, 40.38575, 902.47205, 0.093556188, 2.9067625e-05, 1.6113635e-06, 3.6007845e-05, 7.148361e-09, 25063208.0, 4243.3394, 23.460297, 11.491264, 0, 'ellipse', array([ 54.46163177,  50.74660492], dtype=float32), 27.72304, 1.5249646, 246),\n",
       "       (11.746239958885518, -25.137758434760965, 0.00017102774512167684, 0.00010035857199852671, 5010.1020408163267, 5107.2551020408164, 1.1336628883136655, 0.73317746346856438, 1399, 52.761585, 9.8995142, 45.238415, 0.019433143, 2.7260928e-06, 5.1179433e-07, 2.3373846e-06, 1.517771e-08, 19354288.0, 125400.96, 6.7804084, 6.2619119, 0, 'ellipse', array([ 33.67547607,  21.76280403], dtype=float32), 178.42523, 1.4410734, 247),\n",
       "       (11.751698552536432, -25.108735885855804, 0.00012994952028932971, 0.00011249528651191554, 4974.1533333333336, 5319.6533333333336, 0.86181909247079602, 0.82229957594063308, 1963, 95.527, 12.247471, 54.473, 0.023107165, 4.0646878e-06, 5.2113506e-07, 2.3178343e-06, 1.4540955e-09, 23501682.0, 10862.455, 11.330154, 7.4886088, 0, 'ellipse', array([ 35.18759918,  26.02613258], dtype=float32), 139.6097, 1.3470299, 248),\n",
       "       (11.856867579860657, -25.103570408668542, 0.00014330267546291964, 0.00013459957743577888, 4277.3448275862065, 5357.8620689655172, 0.94971785292545974, 0.98469155093880545, 437, 21.119677, 5.3851714, 7.8803234, 0.008468261, 1.7862709e-06, 4.5711141e-07, 6.6650603e-07, 1.445974e-08, 11823334.0, 256190.44, 5.363399, 5.5883012, 0, 'ellipse', array([ 18.2550354 ,  12.45939064], dtype=float32), 47.846386, 0.89957774, 249),\n",
       "       (11.724117508944362, -25.102146790530718, 0.00017346400114703897, 0.00010467818551518349, 5156.954545454546, 5367.6688311688313, 1.1502982706278999, 0.76458413635737088, 2185, 93.343216, 12.409698, 60.656784, 0.02445475, 4.0936188e-06, 5.442447e-07, 2.6601372e-06, 2.4386462e-09, 22802126.0, 18773.559, 10.563671, 8.9283886, 0, 'ellipse', array([ 44.57395554,  25.63861847], dtype=float32), 19.823671, 1.2620994, 250),\n",
       "       (11.727924135333041, -25.081785308700113, 8.3631390964455932e-05, 6.6967458032252125e-05, 5131.9050632911394, 5516.6867088607596, 0.55481057331235206, 0.48937173982540116, 3981, 328.38843, 21.023821, 113.61156, 0.032286841, 1.702434e-05, 1.0899741e-06, 5.8898595e-06, 4.159125e-09, 19289350.0, 12469.429, 28.081799, 9.9381847, 0, 'ellipse', array([ 29.60013199,  26.08355522], dtype=float32), 3.530699, 0.93196994, 251),\n",
       "       (11.73209188667216, -25.067875333576968, 0.00010515204888328356, 0.00011007753882097404, 5104.3999999999996, 5618.5, 0.69785385289469559, 0.8046738469711272, 846, 20.17547, 6.7823486, 25.82453, 0.015833579, 1.0353347e-06, 3.4804651e-07, 1.3252246e-06, 8.6751234e-10, 19486908.0, 4469.3901, 3.2778733, 10.669027, 0, 'ellipse', array([ 11.26850033,   8.78811169], dtype=float32), 117.24924, 0.31091005, 252),\n",
       "       (11.944144595543666, -25.498022501756893, 0.00011074375318820273, 9.5173446748475499e-05, 3700.3417721518986, 2471.5443037974683, 0.73109042842361305, 0.69673109241921338, 1890, 106.68253, 13.638213, 79.317467, 0.029208856, 3.5992209e-06, 4.6021637e-07, 2.6759872e-06, 7.0110717e-09, 29640450.0, 76886.906, 10.723972, 9.9486046, 0, 'ellipse', array([ 21.11257553,  16.71608734], dtype=float32), 141.05328, 0.62944025, 253),\n",
       "       (11.652336759785332, -25.490640206826278, 0.0001388610212789132, 0.00013677886669327677, 5627.6688524590163, 2524.3180327868854, 0.91889628066110163, 0.99924266307061771, 16758, 362.56525, 27.276432, 381.43475, 0.061036158, 2.2951821e-05, 1.7270246e-06, 2.4146335e-05, 3.5089457e-08, 15796797.0, 22816.314, 17.643467, 15.841646, 0, 'ellipse', array([ 55.44054413,  44.55318832], dtype=float32), 56.433453, 1.045759, 254),\n",
       "       (11.869981749270462, -25.469040509297685, 0.00019044721410033105, 0.0001366013384966891, 4190.1684210526309, 2683.6947368421052, 1.258205434572119, 0.99939856531091209, 1976, 58.135548, 9.7468138, 36.864452, 0.019385453, 2.2483518e-06, 3.7707946e-07, 1.4257068e-06, 6.2807439e-09, 25856964.0, 113094.64, 8.1501532, 7.3362522, 0, 'ellipse', array([ 39.43849182,  25.53647232], dtype=float32), 28.211685, 1.441933, 255),\n",
       "       (11.659030586094694, -25.456128466463682, 0.00027516070506194978, 0.00018931697229973565, 5583.8803418803418, 2776.9230769230771, 1.8202584948621734, 1.3821944566461752, 3474, 47.504597, 10.816684, 69.495399, 0.025312705, 3.1543814e-06, 7.1871597e-07, 4.614606e-06, 3.8089802e-08, 15059878.0, 124185.89, 5.0637798, 13.232688, 0, 'ellipse', array([ 62.63738251,  39.7142601 ], dtype=float32), 154.51114, 1.2563791, 256),\n",
       "       (11.882723088584775, -25.454519783639459, 0.00013020173794764389, 0.00016356496055891512, 4106.0, 2789.9499999999998, 0.86023252670383954, 1.1968186997205521, 451, 10.886773, 4.4721456, 9.1132269, 0.0093264198, 3.8652814e-07, 1.5878163e-07, 3.2355948e-07, 5.5121008e-10, 28165538.0, 38359.523, 2.6292887, 6.2899075, 0, 'ellipse', array([ 16.05781746,  11.54010391], dtype=float32), 90.827293, 0.72141075, 257),\n",
       "       (11.771531147536196, -25.443025767328695, 0.00013990526847784679, 0.00013513925278019201, 4840.695652173913, 2873.7391304347825, 0.92524922838401835, 0.98805223854969881, 1230, 31.488531, 7.5498552, 25.511469, 0.017729374, 1.6095225e-06, 3.8615522e-07, 1.3040076e-06, 1.1240036e-08, 19563896.0, 168084.16, 5.1413255, 7.3632455, 0, 'ellipse', array([ 15.28509235,  12.0689249 ], dtype=float32), 126.78835, 0.6148622, 258),\n",
       "       (11.917197122613468, -25.426042338537634, 0.00011211982764791628, 6.6672195146111335e-05, 3878.1851851851852, 2998.2962962962965, 0.74080932467131788, 0.48803183803647698, 166, 17.125988, 5.1961622, 9.8740129, 0.010035197, 3.4955011e-07, 1.0605662e-07, 2.0153362e-07, 2.5278588e-10, 48994368.0, 36016.078, 4.0207043, 4.8989868, 0, 'ellipse', array([ 12.35759163,   6.20681   ], dtype=float32), 24.310299, 0.59590036, 259),\n",
       "       (11.760033580180325, -25.405501476691953, 0.0001558040490419188, 0.00018951195907135343, 4916.9193548387102, 3148.2419354838712, 1.0310725014132913, 1.3857242804433554, 1056, 34.131348, 7.8740253, 27.86865, 0.016549662, 1.4709492e-06, 3.3934592e-07, 1.2010474e-06, 1.036684e-09, 23203622.0, 14534.725, 5.37532, 5.8332496, 0, 'ellipse', array([ 36.5752449 ,  18.08193588], dtype=float32), 59.120041, 1.4695497, 260),\n",
       "       (11.770485470328518, -25.397213922836471, 0.00015888577652667379, 9.7633858239021265e-05, 4847.8888888888887, 3208.9444444444443, 1.050834145119552, 0.71350388330756687, 248, 12.070902, 4.2426467, 5.9290977, 0.0072224024, 5.0960364e-07, 1.7911408e-07, 2.5031184e-07, 3.0824107e-10, 23686844.0, 4275.3594, 3.367626, 5.0381274, 0, 'ellipse', array([ 13.50173473,   8.89180946], dtype=float32), 10.468392, 0.72493565, 261),\n",
       "       (11.6848659703632, -25.377229214587949, 0.00015373010664276876, 0.00014995566122166792, 5414.0487804878048, 3354.5121951219512, 1.0179537741914828, 1.0957285251629401, 1434, 35.324684, 8.1240568, 30.675314, 0.017319022, 1.5986803e-06, 3.6767452e-07, 1.3882649e-06, 2.0037683e-09, 22096154.0, 29351.557, 5.3475027, 7.8676972, 0, 'ellipse', array([ 22.85032845,  17.4143734 ], dtype=float32), 126.95511, 0.84514511, 262),\n",
       "       (11.85429963385578, -25.356930470049655, 7.3351119914022433e-05, 4.9849153217706998e-05, 4293.9473684210525, 3504.0, 0.48508892985137209, 0.36464227527767434, 64, 12.249646, 4.3589067, 6.7503538, 0.0082543446, 2.1097428e-07, 7.5073139e-08, 1.1626058e-07, 1.6864375e-10, 58062276.0, 45307.195, 3.2764652, 1.9035443, 0, 'ellipse', array([ 6.45538855,  4.61552   ], dtype=float32), 164.61433, 0.95584458, 263),\n",
       "       (11.965395737802559, -25.336162755265015, 8.7177949053440784e-05, 6.0355357227592776e-05, 3559.2727272727275, 3655.818181818182, 0.57626481933084506, 0.44197494073114285, 67, 9.2383394, 3.3166268, 1.7616603, 0.003629162, 3.379931e-07, 1.213464e-07, 6.4451953e-08, 2.4097688e-10, 27332924.0, 85282.0, 3.5740721, 2.2171283, 0, 'ellipse', array([ 6.30860043,  3.52369618], dtype=float32), 30.185472, 0.70884889, 264),\n",
       "       (11.752649519303413, -25.308351343998471, 0.00011481658261836003, 0.00010104652321274443, 4966.4210526315783, 3859.0526315789475, 0.76021497715373698, 0.73862072631573028, 230, 12.723234, 4.3589044, 6.2767653, 0.0068356697, 4.8840542e-07, 1.6768715e-07, 2.409455e-07, 5.4419056e-09, 26050560.0, 587683.94, 3.4850492, 3.1834488, 0, 'ellipse', array([ 11.4225359,   7.8512435], dtype=float32), 137.30598, 0.99158823, 265),\n",
       "       (11.700398621072523, -25.293515698467083, 0.00013772783265508792, 9.7961079276842611e-05, 5312.1999999999998, 3967.1999999999998, 0.9121403400795316, 0.71554175279970877, 105, 4.4151897, 2.236069, 0.58481008, 0.0021826376, 5.8049397e-07, 2.9399067e-07, 7.688881e-08, 2.8712543e-10, 7605919.0, 947.33002, 2.0484891, 5.3459167, 0, 'ellipse', array([ 6.20138311,  4.69285059], dtype=float32), 165.5946, 0.33637151, 266),\n",
       "       (12.00841100807642, -25.278772495094248, 0.00016504218866408848, 0.00011642626959940117, 3274.4117647058824, 4075.5294117647059, 1.0912004865899689, 0.85291134657290968, 258, 10.743805, 4.1231117, 6.2561955, 0.0072283745, 3.7045004e-07, 1.4219398e-07, 2.1571573e-07, 1.6528485e-09, 29002036.0, 219677.28, 2.9459925, 2.8846042, 0, 'ellipse', array([ 15.27613068,   7.75376034], dtype=float32), 32.924637, 1.2576373, 267),\n",
       "       (11.92073516449239, -25.273357361979521, 5.7271171730377546e-05, 5.3941397805346014e-05, 3854.5, 4115.5, 0.37883838047173413, 0.39479640009813011, 46, 10.491891, 4.2426476, 7.5081086, 0.0075693256, 2.4505189e-07, 9.9100909e-08, 1.7536175e-07, 9.3501717e-10, 42814976.0, 224168.75, 2.7084987, 0.66580063, 0, 'ellipse', array([ 5.25836182,  4.5661397 ], dtype=float32), 53.551365, 2.453208, 268),\n",
       "       (11.783528311829706, -25.271954872534312, 6.2216640650092359e-05, 7.1118431563377271e-05, 4762.363636363636, 4125.545454545454, 0.41206449131641421, 0.52007050322572468, 50, 8.1774502, 3.3166282, 2.8225498, 0.004825165, 2.7289647e-07, 1.1069945e-07, 9.4193652e-08, 6.9803141e-10, 29965392.0, 216072.25, 2.8294511, 1.9378659, 0, 'ellipse', array([ 5.55053473,  3.57468057], dtype=float32), 118.22052, 0.7661981, 269),\n",
       "       (12.078534904122247, -25.252829562957142, 0.0001280982662716923, 0.00010237689274461559, 2810.166666666667, 4264.8055555555557, 0.84665281411798787, 0.75032857457426871, 1526, 52.030712, 9.0554047, 29.969288, 0.018955244, 2.4857409e-06, 4.3425834e-07, 1.4317675e-06, 2.1743116e-08, 20931672.0, 317596.88, 7.9527287, 6.1347537, 0, 'ellipse', array([ 15.63560867,  13.04559231], dtype=float32), 23.930351, 0.77601641, 270),\n",
       "       (12.078574665463853, -25.220835247924089, 9.5237149695392986e-05, 9.9219447186271736e-05, 2809.5643564356433, 4498.9108910891091, 0.62938154845323879, 0.72691057388965419, 2441, 138.92569, 15.132772, 90.07431, 0.028465107, 6.5421532e-06, 7.1827952e-07, 4.2416918e-06, 5.8372919e-08, 21235468.0, 292159.25, 13.193099, 6.5308876, 0, 'ellipse', array([ 21.93975449,  18.94824409], dtype=float32), 95.285942, 1.0406553, 271),\n",
       "       (12.027938149247179, -25.212491473177025, 0.00013997024471912312, 0.00013656202434120246, 3144.6923076923076, 4560.3846153846152, 0.92553912249786663, 1.0002275571769133, 171, 8.5520449, 3.6055572, 4.4479551, 0.0064882077, 3.1409192e-07, 1.3242848e-07, 1.6336054e-07, 7.3656142e-10, 27227842.0, 116162.94, 2.6074083, 4.2559681, 0, 'ellipse', array([ 13.59921837,   5.68677092], dtype=float32), 48.16568, 0.68876368, 272),\n",
       "       (12.008258628814, -25.190630856387365, 0.0001239816217157852, 8.8777921604332732e-05, 3274.8235294117649, 4720.4705882352937, 0.82031006930947115, 0.65035336180972081, 149, 12.650349, 4.1231108, 4.3496513, 0.006651788, 4.354803e-07, 1.419356e-07, 1.4973401e-07, 2.3641863e-10, 29049188.0, 11412.191, 3.8825703, 4.0404062, 0, 'ellipse', array([ 10.28578281,   7.86578035], dtype=float32), 14.736407, 0.74206728, 273),\n",
       "       (11.768338911665742, -24.994725627624145, 0.00026506576331897236, 0.00019184372857949938, 4864.6195121951223, 6153.990243902439, 1.7591052965653944, 1.4022670561607811, 7944, 101.76267, 14.317859, 103.23733, 0.032673385, 7.6648457e-06, 1.0784821e-06, 7.7759178e-06, 1.0775432e-08, 13276545.0, 17911.639, 9.0880489, 15.149748, 0, 'ellipse', array([ 75.79095459,  59.94093323], dtype=float32), 172.67139, 1.483009, 274),\n",
       "       (11.6768731034725, -25.487389556657856, 0.00020995860840855585, 0.00017743981835849354, 5465.645161290322, 2548.3709677419356, 1.3888017979625147, 1.2962031062679671, 4531, 48.413605, 11.747378, 89.586395, 0.030089485, 3.0019526e-06, 7.2853953e-07, 5.5549281e-06, 2.5246917e-08, 16127372.0, 73097.82, 4.6088243, 14.232665, 0, 'ellipse', array([ 32.99663925,  30.41373253], dtype=float32), 163.94673, 0.74192882, 275),\n",
       "       (11.659418727092062, -25.471333863150768, 0.00014090694198110043, 0.00014342433075498207, 5581.1296296296296, 2665.6666666666665, 0.93258578833501815, 1.0478929148739553, 4034, 105.70586, 14.491413, 104.29414, 0.032383639, 6.3350212e-06, 8.6856846e-07, 6.2504164e-06, 1.2389823e-08, 16685951.0, 32667.246, 9.3968239, 14.160153, 0, 'ellipse', array([ 23.62296867,  19.95755768], dtype=float32), 112.99514, 0.51113039, 276),\n",
       "       (11.624130938989625, -25.461143473580879, 0.00021202623850413715, 0.00021375947166291098, 5814.3846153846152, 2739.8076923076924, 1.4037954923178404, 1.5613861528308917, 3997, 40.260754, 10.583037, 71.739243, 0.026269821, 2.5573731e-06, 6.7235095e-07, 4.5568945e-06, 2.2103736e-08, 15743012.0, 76145.359, 4.2317104, 15.768689, 0, 'ellipse', array([ 24.06786537,  21.26835442], dtype=float32), 105.25563, 0.47826532, 277),\n",
       "       (11.644076417321704, -25.449097595035774, 0.00019634886561092912, 0.00019104746469622569, 5682.7716535433074, 2828.1968503937005, 1.2998179919222821, 1.3955919092786644, 7233, 93.034103, 15.132791, 135.9659, 0.036566384, 5.5908417e-06, 9.0949476e-07, 8.1708076e-06, 1.9507963e-08, 16640448.0, 39476.539, 7.3298159, 13.599587, 0, 'ellipse', array([ 47.33041   ,  43.78533936], dtype=float32), 102.0045, 1.115803, 278),\n",
       "       (11.824464929774928, -25.42406548072481, 0.00014506840409467259, 0.00014857852604777122, 4491.0, 3012.6999999999998, 0.95916630466308561, 1.0867382389519662, 233, 8.2901382, 3.1622794, 1.7098616, 0.0033413914, 8.7790727e-07, 3.3492935e-07, 1.8107056e-07, 1.2559976e-09, 9443068.0, 62848.789, 3.227751, 5.1111236, 0, 'ellipse', array([ 10.91474628,   8.36410904], dtype=float32), 59.267567, 0.6231305, 279),\n",
       "       (11.651323022963897, -25.389498414196908, 0.00018518880218643119, 0.00016021911221741902, 5635.6486486486483, 3264.3783783783783, 1.2262148855443229, 1.1702118151251852, 886, 21.899591, 6.0827746, 15.100409, 0.012249119, 1.1919766e-06, 3.3122606e-07, 8.2190269e-07, 6.805565e-09, 18372502.0, 151397.25, 4.3963985, 10.349586, 0, 'ellipse', array([ 25.41662788,  17.62678528], dtype=float32), 138.82976, 0.68171257, 280),\n",
       "       (11.70360848928021, -25.337084909213978, 0.00016712634316107255, 0.00022019406941353736, 5290.5357142857138, 3648.4285714285716, 1.1074205543773132, 1.609691856138852, 1329, 24.032991, 7.4833384, 31.967009, 0.018852582, 8.8713466e-07, 2.7625919e-07, 1.1800046e-06, 5.0119469e-09, 27090578.0, 113949.84, 3.5764029, 5.8016381, 0, 'ellipse', array([ 38.24011993,  21.48737717], dtype=float32), 113.28725, 1.6469463, 281),\n",
       "       (11.757940988411493, -25.185190294606127, 0.00012762811213917757, 9.2545700656643248e-05, 4932.2666666666664, 4760.2666666666664, 0.84573001558419492, 0.67637377350274619, 169, 9.4294767, 3.8729901, 5.5705228, 0.0072966977, 4.9714589e-07, 2.0419415e-07, 2.9369207e-07, 4.3790116e-10, 18967224.0, 13510.311, 2.6833529, 4.0290699, 0, 'ellipse', array([ 10.47619247,   6.96917391], dtype=float32), 27.666637, 0.70691359, 282),\n",
       "       (12.126919341800221, -25.061808011679712, 0.00012141164700807394, 0.00011109903989492409, 2487.435582822086, 5662.0184049079753, 0.80328453715719661, 0.81437979615202494, 6189, 139.256, 22.759739, 378.74399, 0.075341374, 5.7068114e-06, 9.3309109e-07, 1.5521202e-05, 7.2541894e-08, 24401718.0, 113943.66, 6.799408, 16.322853, 0, 'ellipse', array([ 31.19350433,  30.76534081], dtype=float32), 93.503616, 0.63262391, 283),\n",
       "       (11.774340443354003, -25.041046742392652, 0.00019184301792130043, 0.00013719196420680646, 4824.54054054054, 5815.0810810810817, 1.2726226605809643, 1.0028289993879298, 757, 22.629175, 6.0827727, 14.370825, 0.011251302, 1.5715008e-06, 4.2256755e-07, 9.979932e-07, 7.0638371e-09, 14399722.0, 101296.39, 4.6290154, 11.120992, 0, 'ellipse', array([ 24.84761047,  16.02495956], dtype=float32), 152.26744, 0.59810305, 284),\n",
       "       (11.641622406327651, -25.040068630875016, 0.00019178535247021955, 0.00018070539960035603, 5704.395348837209, 5821.0930232558139, 1.2738326334429075, 1.3199857225445157, 2709, 39.695953, 8.8882217, 39.304047, 0.02196764, 3.3520771e-06, 7.5222772e-07, 3.3189829e-06, 4.9674e-08, 11842196.0, 177114.19, 5.4164133, 17.093565, 0, 'ellipse', array([ 28.23604393,  22.47187996], dtype=float32), 49.560024, 0.49121061, 285),\n",
       "       (11.613947975067516, -24.97466704774385, 0.0002724781642360341, 0.00021193811101838378, 5888.8269230769229, 6299.3076923076924, 1.8104972415667362, 1.5472198921388554, 5148, 43.296692, 9.6953878, 50.703308, 0.023254193, 5.1607617e-06, 1.1556501e-06, 6.043595e-06, 5.0729576e-09, 8389594.0, 5898.0605, 5.2974653, 18.432133, 0, 'ellipse', array([ 39.46164322,  33.12365341], dtype=float32), 167.03291, 0.65382248, 286),\n",
       "       (11.636779252535147, -24.955483882892551, 0.00023775466911146736, 0.00025143009904127211, 5737.6440677966102, 6439.9661016949149, 1.5806868553609092, 1.8369263046197375, 2657, 29.894669, 7.6811643, 29.105331, 0.01689028, 3.5637629e-06, 9.1568052e-07, 3.4696654e-06, 3.3028518e-09, 8388512.5, 6329.7964, 4.6247916, 18.512308, 0, 'ellipse', array([ 42.39525986,  36.34742737], dtype=float32), 96.228569, 0.70682788, 287),\n",
       "       (11.659712017480254, -24.947551555293597, 0.00018384919278346956, 0.00031977316522358024, 5585.6027397260277, 6498.2739726027394, 1.2236703026474061, 2.3378758423614272, 3041, 36.012524, 8.5440254, 36.987476, 0.019072728, 4.2194756e-06, 1.0010782e-06, 4.3337077e-06, 2.7572942e-09, 8534834.0, 3180.9556, 5.0415936, 18.436243, 0, 'ellipse', array([ 59.9327507 ,  31.34928513], dtype=float32), 88.881737, 0.78370434, 288),\n",
       "       (11.992546512397448, -25.496839275972189, 4.1266565421693713e-05, 6.4393929644523951e-05, 3380.666666666667, 2480.0, 0.27216552697564111, 0.47140452079111128, 678, 21.360336, 6.9282236, 26.639664, 0.016867762, 7.740191e-07, 2.5107508e-07, 9.6532233e-07, 4.1904489e-09, 27596650.0, 118515.39, 3.4266927, 10.827228, 0, 'ellipse', array([ 2.75781631,  0.62805152], dtype=float32), 61.845036, 0.04051742, 289),\n",
       "       (12.032479120761161, -25.41710540101181, 0.00012808601942460029, 0.00015872116642157152, 3116.2857142857142, 3063.1714285714288, 0.8452232440968146, 1.16232400153649, 585, 14.271634, 5.9160976, 20.728365, 0.014579713, 9.4598153e-07, 3.9214657e-07, 1.3739597e-06, 2.6699982e-09, 15086589.0, 27329.785, 2.5329125, 7.5383029, 0, 'ellipse', array([ 21.39007378,  13.89480305], dtype=float32), 69.653946, 0.76232034, 290),\n",
       "       (11.89636987727136, -25.397112850856512, 8.9768309244675493e-05, 0.00010226412640079729, 4015.8000000000002, 3210.0, 0.59329587896763769, 0.74833147735489547, 73, 2.2069819, 2.236074, 2.7930181, 0.0052281781, 7.2644553e-08, 7.3602514e-08, 9.1934403e-08, 3.4198888e-10, 30380556.0, 97662.562, 0.7657041, 3.3367059, 0, 'ellipse', array([ 6.39261866,  0.41764283], dtype=float32), 51.649284, 0.16323103, 291),\n",
       "       (11.787979601299421, -25.302543173514529, 6.2600894805697749e-05, 8.8808123656747284e-05, 4732.75, 3901.75, 0.41457809879466367, 0.64951905283851374, 30, 1.7081169, 2.0000052, 2.291883, 0.0046147732, 4.0419515e-08, 4.7326584e-08, 5.4233293e-08, 1.4445004e-10, 42259708.0, 73681.109, 0.62246901, 1.9859928, 0, 'ellipse', array([ 4.5       ,  1.06066012], dtype=float32), 59.036243, 0.36668697, 292),\n",
       "       (11.676479330362447, -25.087470926887651, 0.0001796636948956376, 0.00015931096556087709, 5472.7749999999996, 5474.625, 1.1924174499736182, 1.1638768727834758, 3045, 38.850357, 11.000042, 82.149643, 0.030278269, 2.2066145e-06, 6.2491284e-07, 4.6659184e-06, 2.7492396e-08, 17606318.0, 103536.3, 3.8446956, 11.825262, 0, 'ellipse', array([ 23.55424881,  21.08852959], dtype=float32), 38.647312, 0.62824023, 293),\n",
       "       (11.672934298413344, -25.006515157904769, 0.00021911375197625205, 0.00021350117084040221, 5497.1999999999998, 6066.96, 1.4554724318923036, 1.5599794870449841, 2118, 24.744017, 7.2111197, 27.255983, 0.015710032, 2.4237747e-06, 7.0869794e-07, 2.6698317e-06, 6.3405864e-08, 10208877.0, 242379.33, 3.9325731, 17.186171, 0, 'ellipse', array([ 23.42524338,  21.80466843], dtype=float32), 97.340271, 0.43834537, 294),\n",
       "       (12.03879864410631, -25.454181422330315, 0.00016903516573485433, 9.8671477257283868e-05, 3074.833333333333, 2791.8333333333335, 1.1159616348113559, 0.72328980923839481, 259, 4.1861839, 3.316633, 6.8138161, 0.0074075381, 3.6312429e-07, 2.8769642e-07, 5.9105435e-07, 6.7769806e-10, 11528240.0, 4201.2529, 1.1162444, 9.6973734, 0, 'ellipse', array([ 8.20070744,  5.31492233], dtype=float32), 179.63274, 0.22693357, 295),\n",
       "       (11.76351903795401, -25.431025566028666, 0.00017028286170805984, 0.00023553870352088779, 4893.7142857142862, 2961.5, 1.1268004704870691, 1.7224507931123298, 348, 6.2667179, 3.7416673, 7.7332821, 0.0086022429, 3.1916937e-07, 1.9061881e-07, 3.9386276e-07, 5.5347789e-09, 19634458.0, 275048.56, 1.601673, 6.956861, 0, 'ellipse', array([ 19.51944351,  12.36091995], dtype=float32), 100.22203, 0.74425977, 296),\n",
       "       (11.995632959337581, -25.340742117774962, 0.00013186733922054827, 0.00011340916217150721, 3359.333333333333, 3622.166666666667, 0.87135484118698514, 0.83055091042933782, 88, 2.8707647, 2.449497, 3.1292353, 0.0059163435, 9.221683e-08, 7.8684558e-08, 1.0051961e-07, 1.9493236e-10, 31130596.0, 13427.918, 0.96672499, 3.2890465, 0, 'ellipse', array([ 6.70341873,  5.77184391], dtype=float32), 35.587646, 0.63039708, 297),\n",
       "       (12.048229517447075, -25.175162442022121, 0.00010715625763779713, 0.00011922722227453164, 3010.0285714285715, 4833.3714285714286, 0.70853192779986784, 0.8732633745221392, 370, 12.32263, 5.9161024, 22.67737, 0.016287718, 4.3873334e-07, 2.1063751e-07, 8.0740222e-07, 1.5084658e-09, 28086832.0, 48441.961, 2.1099732, 6.1487961, 0, 'ellipse', array([ 16.05515862,  11.8567667 ], dtype=float32), 67.230751, 0.74796122, 298),\n",
       "       (12.03669936005651, -25.162760268256182, 0.00011122935311291826, 0.0001193620099115833, 3086.2790697674418, 4924.209302325582, 0.73565280730008453, 0.87421950945554272, 1116, 35.193371, 10.099544, 66.806633, 0.028039606, 1.2254542e-06, 3.5167636e-07, 2.3262469e-06, 3.3983161e-09, 28718632.0, 40185.02, 3.8173647, 6.1245675, 0, 'ellipse', array([ 17.48693848,  14.12140751], dtype=float32), 72.122971, 0.85526204, 299),\n",
       "       (12.209874714565414, -25.160930168655849, 0.00015379943310911415, 0.00013825370594133801, 1939.3391304347826, 4935.565217391304, 1.0161558426925694, 1.0140883161793681, 3713, 47.158176, 15.52427, 193.84183, 0.054414548, 2.1813223e-06, 7.1811502e-07, 8.9662399e-06, 2.8403621e-08, 21619076.0, 68216.375, 3.1544738, 17.235487, 0, 'ellipse', array([ 33.0499382,  32.2611618], dtype=float32), 42.581158, 0.63151044, 300),\n",
       "       (11.747431760879712, -25.05552553707285, 0.00022875576422975996, 0.00013276783607096831, 5002.8205128205127, 5708.9743589743593, 1.5173213338230198, 0.96995440323826188, 851, 19.914064, 6.2450109, 19.085936, 0.01266393, 1.2436994e-06, 3.9005087e-07, 1.1919801e-06, 4.640786e-09, 16011958.0, 61428.031, 3.6514406, 11.0251, 0, 'ellipse', array([ 28.46865463,  18.10677338], dtype=float32), 175.98193, 0.6864363, 301),\n",
       "       (11.659488597901943, -25.029312855227822, 0.0002330940653916258, 0.00018185533784631502, 5586.083333333333, 5900.0, 1.5476610189671192, 1.3281147875422903, 1232, 20.547428, 6.557456, 22.452572, 0.015117414, 1.5961859e-06, 5.0940912e-07, 1.7441834e-06, 2.9882699e-09, 12872828.0, 20280.244, 3.5323644, 16.969948, 0, 'ellipse', array([ 16.76456642,  12.96675873], dtype=float32), 153.57449, 0.2896077, 302),\n",
       "       (11.798996724750287, -25.023429058646446, 0.00023956209798825512, 0.00022276194050618869, 4661.1666666666661, 5944.1111111111113, 1.5894132778803396, 1.6289981941663427, 759, 6.4859829, 4.2426562, 11.514017, 0.011487791, 4.7006824e-07, 3.074968e-07, 8.3447242e-07, 4.991989e-09, 13797960.0, 81386.195, 1.4406886, 11.720104, 0, 'ellipse', array([ 20.86313438,  20.09648132], dtype=float32), 65.54528, 0.58236736, 303),\n",
       "       (11.681878887489693, -25.019321328397748, 0.00022907623053392001, 0.00021923668845147404, 5437.7444444444445, 5973.3444444444449, 1.5213347868266283, 1.6019402673091463, 3115, 30.270302, 9.4868641, 59.729698, 0.024427423, 2.3021564e-06, 7.2150863e-07, 4.5426409e-06, 3.2505307e-09, 13148673.0, 7720.5493, 3.4488723, 16.5907, 0, 'ellipse', array([ 51.16659927,  36.54207611], dtype=float32), 49.573776, 0.86876822, 304),\n",
       "       (11.723808183323928, -25.002552711784087, 0.00019016063623666923, 0.00020770114122115046, 5159.875, 6096.416666666667, 1.2628677957109176, 1.5183103120589294, 3611, 29.503748, 9.0000277, 51.496254, 0.022335418, 2.5498941e-06, 7.7872352e-07, 4.450621e-06, 6.4851008e-08, 11570577.0, 168522.81, 3.5857055, 16.420847, 0, 'ellipse', array([ 23.14910126,  17.50831223], dtype=float32), 65.999123, 0.40866965, 305),\n",
       "       (11.768139599120962, -24.969646499118422, 0.00020798337201810568, 0.00032428507345372282, 4866.1000000000004, 6337.5, 1.3816656614380918, 2.3717082451266833, 639, 4.3179393, 3.162287, 5.6820607, 0.0076421578, 5.1825975e-07, 3.8029842e-07, 6.8198824e-07, 3.1334217e-08, 8331611.5, 382635.12, 1.2210846, 17.163975, 0, 'ellipse', array([ 23.51802254,  11.17866707], dtype=float32), 109.31673, 0.31488815, 306)], \n",
       "      dtype=(numpy.record, [('RA', '>f8'), ('DEC', '>f8'), ('RA_ERR', '>f8'), ('DEC_ERR', '>f8'), ('X', '>f8'), ('Y', '>f8'), ('X_ERR', '>f8'), ('Y_ERR', '>f8'), ('NPIXSOU', '>i4'), ('NET_COUNTS', '>f4'), ('NET_COUNTS_ERR', '>f4'), ('BKG_COUNTS', '>f4'), ('BKG_COUNTS_ERR', '>f4'), ('NET_RATE', '>f4'), ('NET_RATE_ERR', '>f4'), ('BKG_RATE', '>f4'), ('BKG_RATE_ERR', '>f4'), ('EXPTIME', '>f4'), ('EXPTIME_ERR', '>f4'), ('SRC_SIGNIFICANCE', '>f4'), ('PSF_SIZE', '>f4'), ('MULTI_CORREL_MAX', '>i4'), ('SHAPE', 'S10'), ('R', '>f4', (2,)), ('ROTANG', '>f4'), ('PSFRATIO', '>f4'), ('COMPONENT', '>i4')]))"
      ]
     },
     "execution_count": 138,
     "metadata": {},
     "output_type": "execute_result"
    }
   ],
   "source": [
    "data_NGC253_M[1].data"
   ]
  },
  {
   "cell_type": "code",
   "execution_count": 139,
   "metadata": {
    "collapsed": true
   },
   "outputs": [],
   "source": [
    "data_NGC253_M_L=data_NGC253_M[1].data"
   ]
  },
  {
   "cell_type": "code",
   "execution_count": 140,
   "metadata": {
    "collapsed": false
   },
   "outputs": [
    {
     "name": "stdout",
     "output_type": "stream",
     "text": [
      "[ (11.934822265383756, -25.447758889421383, 5.0931308132717845e-05, 5.2425982467241283e-05, 3761.771739130435, 2839.356884057971, 0.33636791707613156, 0.38373608092888389, 3605, 546.48621, 27.531836, 211.51378, 0.044918105, 1.2956472e-05, 6.5284979e-07, 5.0147146e-06, 4.6762065e-09, 42178628.0, 38297.91, 35.1003, 6.2937231, 0, 'ellipse', array([ 27.05669594,  23.69781303], dtype=float32), 93.135338, 1.3411045, 1)\n",
      " (11.796151010669558, -25.392274001653949, 2.9266246496462145e-05, 2.8857164746654007e-05, 4678.2645861601086, 3245.2184531886023, 0.1935948178779654, 0.21102356578512627, 1686, 802.58942, 29.461853, 65.410561, 0.027024129, 2.2046965e-05, 8.095713e-07, 1.7968144e-06, 1.830614e-09, 36403628.0, 33902.031, 87.869164, 4.1571569, 0, 'ellipse', array([ 17.25564194,  15.69122219], dtype=float32), 77.582138, 1.3193994, 2)\n",
      " (11.792718303671352, -25.375758967841282, 4.0219600512259035e-05, 4.3489367609339524e-05, 4701.037878787879, 3366.0454545454545, 0.26611354729629966, 0.3180342042473967, 1124, 304.29742, 18.681555, 44.702583, 0.021433169, 8.899493e-06, 5.4655482e-07, 1.3073734e-06, 2.2258042e-09, 34192668.0, 55856.898, 39.3055, 3.557477, 0, 'ellipse', array([ 15.5075779 ,  12.96522808], dtype=float32), 87.282875, 1.3286136, 3)\n",
      " (11.815900174823195, -25.362779448905755, 2.152884439965419e-05, 2.496838520471556e-05, 4547.828125, 3461.109375, 0.14243785908638529, 0.18262334966220806, 368, 354.20001, 19.544828, 27.799982, 0.016876236, 8.5939855e-06, 4.7429003e-07, 6.7451333e-07, 7.6793377e-10, 41214876.0, 39696.207, 55.839165, 2.6460009, 0, 'ellipse', array([ 9.86776161,  7.55711603], dtype=float32), 79.564171, 1.0878679, 4)\n",
      " (11.777980026189578, -25.35735381327952, 3.6082882104437886e-05, 4.7683613921378765e-05, 4798.5809935205179, 3500.645788336933, 0.23886080526426667, 0.34871618877741639, 1208, 416.06363, 21.517447, 46.936367, 0.021632504, 1.2032421e-05, 6.2254236e-07, 1.357384e-06, 2.1423519e-09, 34578548.0, 52196.359, 52.629433, 3.3716707, 0, 'ellipse', array([ 22.57645607,  15.3221817 ], dtype=float32), 95.972755, 1.8387462, 5)\n",
      " (11.885974347010336, -25.352279076641128, 3.0096636068677185e-05, 5.3522459204202733e-05, 4084.5094339622642, 3538.0566037735848, 0.19900543294625095, 0.39163111938387374, 106, 44.710106, 7.2801151, 8.2898941, 0.0086579127, 8.1396951e-07, 1.3255323e-07, 1.5092159e-07, 4.0349715e-10, 54928480.0, 135185.86, 11.158998, 1.639799, 0, 'ellipse', array([ 8.55467606,  4.34373951], dtype=float32), 91.169754, 1.2391441, 6)\n",
      " (11.807153621148487, -25.348721592589236, 1.7514070798085868e-05, 1.6734716254518389e-05, 4605.7178217821784, 3563.9405940594061, 0.11588366849900922, 0.12238276244625013, 396, 469.53806, 22.405363, 32.461956, 0.018238867, 1.1061605e-05, 5.278647e-07, 7.6475453e-07, 5.7203203e-10, 42447552.0, 20959.639, 69.427666, 2.4045017, 0, 'ellipse', array([ 8.15468121,  6.06526518], dtype=float32), 129.5381, 0.97494936, 7)\n",
      " (11.844174721614335, -25.347458103083955, 2.6775306221082928e-06, 3.5690542894428745e-06, 4360.9153208578991, 3573.292660001709, 0.017713364150949928, 0.026109785878361436, 912, 12096.69, 110.59838, 135.30946, 0.037159804, 0.00020709974, 1.8935888e-06, 2.3165474e-06, 6.7388922e-10, 58409972.0, 5603.5645, 955.16882, 1.7136992, 0, 'ellipse', array([ 8.48559475,  5.73114729], dtype=float32), 85.884438, 1.3564571, 8)\n",
      " (11.841658089346096, -25.346939609247435, 2.5544982920067127e-05, 2.9328245226167837e-05, 4377.5581395348836, 3577.0813953488373, 0.16898885748560133, 0.21454362261056303, 135, 96.918678, 10.723814, 18.081326, 0.013508178, 1.7252293e-06, 1.9089428e-07, 3.218619e-07, 2.8839539e-10, 56177276.0, 27790.93, 18.151239, 1.7250251, 0, 'ellipse', array([ 5.98174524,  4.6849165 ], dtype=float32), 96.073608, 1.0229354, 9)\n",
      " (11.936141877657402, -25.34611252610398, 2.6925698048074764e-05, 2.5304403081349847e-05, 3752.7647058823532, 3583.1111111111113, 0.17798063826739963, 0.18522362794601577, 173, 145.55099, 12.36932, 7.4490037, 0.0079772919, 3.919889e-06, 3.334986e-07, 2.0061194e-07, 8.3800633e-10, 37131408.0, 149923.31, 37.674423, 1.9032164, 0, 'ellipse', array([ 8.05770969,  5.0925951 ], dtype=float32), 47.665291, 1.1219305, 10)\n",
      " (11.799980178751888, -25.343917677078053, 2.4425437654684856e-05, 3.2998163622011134e-05, 4653.1749174917495, 3599.0627062706271, 0.16167337525348557, 0.24134888588923786, 328, 277.19229, 17.406902, 25.807701, 0.016541602, 6.5072509e-06, 4.0863776e-07, 6.0585086e-07, 3.9329795e-10, 42597452.0, 4384.0635, 45.046894, 2.437273, 0, 'ellipse', array([ 12.61721802,   8.42203617], dtype=float32), 93.602081, 1.4098241, 11)\n",
      " (11.896269452305201, -25.337195037419473, 2.3395707710704983e-05, 3.7968423630019288e-05, 4016.4242424242425, 3648.4242424242425, 0.15469572628990136, 0.27783203410353963, 58, 26.91029, 5.7445679, 6.0897107, 0.0075873197, 4.4992316e-07, 9.604625e-08, 1.0181615e-07, 1.5096409e-10, 59810852.0, 48076.5, 7.4434786, 1.2314123, 0, 'ellipse', array([ 4.79265547,  2.657727  ], dtype=float32), 86.987709, 0.96609211, 12)\n",
      " (11.899943507601936, -25.334940729433495, 6.1936918600125068e-05, 4.0192008160744308e-05, 3992.125, 3664.916666666667, 0.40957506773611385, 0.29413636922981823, 58, 17.762758, 4.8989854, 6.2372408, 0.0077440622, 2.9607406e-07, 8.1657788e-08, 1.0396387e-07, 1.4956869e-10, 59994312.0, 43602.742, 4.8754067, 1.1960728, 0, 'ellipse', array([ 6.16742945,  4.10909843], dtype=float32), 163.02585, 1.4029639, 13)\n",
      " (11.904696979423269, -25.333866175705541, 3.6618032694946123e-05, 4.2461658811276948e-05, 3960.6875, 3672.7750000000001, 0.24212196694043087, 0.31073250151848697, 145, 65.01757, 8.9442797, 14.982429, 0.011942867, 1.094551e-06, 1.5057427e-07, 2.5222462e-07, 2.0276747e-10, 59401136.0, 6194.041, 13.091456, 1.2020221, 0, 'ellipse', array([ 8.48868942,  6.29842186], dtype=float32), 73.742172, 2.0276945, 14)\n",
      " (11.89716930669332, -25.333349905900647, 2.3732273312759844e-05, 2.356745446618902e-05, 4010.4705882352941, 3676.5588235294117, 0.15693481620019156, 0.17246019785852695, 67, 33.276539, 6.4031301, 7.7234621, 0.0086028101, 5.6575345e-07, 1.0886347e-07, 1.31311e-07, 1.5365001e-10, 58818088.0, 21085.83, 8.5086184, 1.1425192, 0, 'ellipse', array([ 3.04504538,  2.71389794], dtype=float32), 72.57106, 0.83870429, 15)\n",
      " (11.909938525225495, -25.329290444360431, 2.6316123845404604e-05, 3.8194883135389546e-05, 3926.0166666666669, 3706.25, 0.17399180483062082, 0.27950849718763493, 89, 50.433487, 7.7459726, 9.5665131, 0.0095785679, 8.4166305e-07, 1.2927018e-07, 1.5965148e-07, 1.8496323e-10, 59921232.0, 34924.469, 11.973953, 1.1420809, 0, 'ellipse', array([ 6.55831957,  3.93998027], dtype=float32), 99.970627, 1.4836285, 16)\n",
      " (11.855008243521459, -25.329235662052547, 5.0125867030459403e-06, 6.0831555757090428e-06, 4289.3059701492539, 3706.6462686567165, 0.033161144846417301, 0.044503719569547684, 338, 1473.8666, 39.191845, 62.133404, 0.024273343, 2.5227948e-05, 6.7085102e-07, 1.063528e-06, 4.4389897e-10, 58421976.0, 8584.2217, 165.0484, 1.1540799, 0, 'ellipse', array([ 4.9156208 ,  3.60338712], dtype=float32), 99.0653, 1.2155911, 17)\n",
      " (11.862312326561719, -25.328693360641356, 2.8345314159849977e-05, 2.6713377572207264e-05, 4241.0, 3710.6235294117646, 0.18749855824171391, 0.19543331013301213, 101, 66.849319, 9.2195539, 18.150681, 0.013083592, 1.1488048e-06, 1.5843823e-07, 3.1191928e-07, 2.3958605e-10, 58190316.0, 15437.771, 12.501061, 1.0754527, 0, 'ellipse', array([ 5.6515646 ,  4.91655159], dtype=float32), 126.29394, 1.6338121, 18)\n",
      " (11.894486113062809, -25.327036293454672, 5.0511234130468097e-05, 4.8657732232726403e-05, 4028.212121212121, 3722.757575757576, 0.33404215478140031, 0.35605816383485944, 65, 23.656458, 5.7445703, 9.3435421, 0.0093993656, 3.9380362e-07, 9.5629289e-08, 1.5553979e-07, 2.1656636e-10, 60071712.0, 57827.043, 5.6634588, 1.003601, 0, 'ellipse', array([ 7.77859402,  3.20731378], dtype=float32), 47.577579, 1.6589717, 19)\n",
      " (11.842924183256203, -25.326686048750403, 1.537501281312359e-05, 1.9253348494174816e-05, 4369.2314049586776, 3725.2809917355371, 0.10173035453408374, 0.14084698008082341, 125, 126.27911, 12.206565, 22.720894, 0.014884654, 2.1522208e-06, 2.0804312e-07, 3.8724045e-07, 3.0645622e-10, 58673864.0, 26050.311, 21.605831, 1.2402549, 0, 'ellipse', array([ 4.69081354,  3.29694462], dtype=float32), 100.93008, 1.0569336, 20)\n",
      " (11.869160453005492, -25.323172749184319, 8.9958629949649094e-06, 9.6031669869489633e-06, 4195.7132352941171, 3751.0245098039213, 0.059506277222681092, 0.070260459968267241, 159, 406.93753, 20.928455, 31.062479, 0.01652886, 7.3013575e-06, 3.7551504e-07, 5.5732943e-07, 3.7668588e-10, 55734500.0, 23226.045, 61.283417, 0.94385904, 0, 'ellipse', array([ 4.28745699,  3.57032204], dtype=float32), 102.29047, 1.3817364, 21)\n",
      " (11.881909882171797, -25.322656748703224, 5.0494490713148821e-05, 3.9751232584706031e-05, 4111.3888888888887, 3754.8055555555557, 0.33397571846035135, 0.29085719536124088, 66, 22.446571, 6.0000105, 13.553429, 0.011245236, 3.8804396e-07, 1.0372553e-07, 2.343042e-07, 2.9552935e-10, 57845436.0, 54953.066, 4.6939836, 0.91005254, 0, 'ellipse', array([ 6.52852821,  4.57459641], dtype=float32), 33.137005, 2.0016875, 22)\n",
      " (11.910021964406562, -25.321997405483344, 4.7982503643240193e-05, 4.4834321599296345e-05, 3925.4545454545455, 3759.613636363636, 0.31729510447030407, 0.32811745322487695, 88, 33.578857, 6.6332564, 10.421144, 0.0094534243, 6.1647341e-07, 1.2178148e-07, 1.9132152e-07, 2.6417724e-10, 54469272.0, 56703.391, 7.7329192, 0.99918628, 0, 'ellipse', array([ 6.84104156,  5.97509003], dtype=float32), 127.78397, 2.1328762, 23)\n",
      " (11.888261610109224, -25.321937567898566, 1.5208735870686496e-05, 1.637956654931827e-05, 4069.3783783783783, 3760.0675675675675, 0.10058757745719049, 0.11985363773419522, 62, 66.545197, 8.8882008, 12.454801, 0.010797497, 1.0867009e-06, 1.4514718e-07, 2.0339023e-07, 1.8978885e-10, 61235984.0, 21137.504, 14.3607, 0.89956772, 0, 'ellipse', array([ 3.3292253 ,  2.28512001], dtype=float32), 59.425102, 1.0220473, 24)\n",
      " (11.857140001049732, -25.320934396233024, 3.1933150959062573e-05, 3.4607679978648775e-05, 4275.2195121951218, 3767.3902439024391, 0.21126005109181278, 0.25318447441577518, 54, 29.718035, 6.4031324, 11.281964, 0.010298998, 5.134612e-07, 1.106328e-07, 1.9492713e-07, 2.5106009e-10, 57877856.0, 52586.977, 6.6502457, 0.96650058, 0, 'ellipse', array([ 5.29634666,  3.47437167], dtype=float32), 121.64021, 1.479459, 25)\n",
      " (11.860258103458815, -25.320616361642738, 1.000730588884835e-05, 1.1401632256990979e-05, 4254.5964912280706, 3769.7212475633528, 0.066204343034769408, 0.083414820607231377, 215, 500.8027, 23.366652, 45.197292, 0.020328745, 8.9565801e-06, 4.1794044e-07, 8.0832865e-07, 6.4015887e-10, 55914504.0, 36447.098, 64.383408, 0.94173282, 0, 'ellipse', array([ 5.67081499,  4.49482727], dtype=float32), 93.007446, 1.7870235, 26)\n",
      " (11.827099550895689, -25.320593849721345, 8.9843937480793556e-06, 1.0105593972298266e-05, 4473.9111111111106, 3769.8196969696969, 0.059455311597048421, 0.073918126009175467, 489, 1905.9166, 44.4972, 74.083412, 0.027790559, 3.1498443e-05, 7.3539934e-07, 1.2243515e-06, 4.8077142e-10, 60508280.0, 7023.6963, 197.49141, 1.3626006, 0, 'ellipse', array([ 10.33985901,   7.31070185], dtype=float32), 114.99545, 2.1268997, 27)\n",
      " (11.896019083619962, -25.319939543611618, 5.7071488654969471e-06, 5.7811070703905898e-06, 4018.0688259109311, 3774.6842105263158, 0.037744212047073233, 0.042304149266783497, 135, 496.99478, 22.891052, 27.005215, 0.015677979, 8.2051292e-06, 3.7792131e-07, 4.4584226e-07, 2.6647654e-10, 60571232.0, 8607.4277, 79.286736, 0.88663757, 0, 'ellipse', array([ 2.94943619,  2.36462569], dtype=float32), 60.740051, 0.99284929, 28)\n",
      " (11.847917166096989, -25.317898843224889, 6.5895450074293649e-06, 8.9969748451323994e-06, 4336.2262521588946, 3789.5872193436962, 0.04360277881824004, 0.065819775475119968, 167, 576.77673, 24.73864, 35.223274, 0.018468246, 9.6144049e-06, 4.1237553e-07, 5.8714369e-07, 3.1885478e-10, 59990892.0, 8484.8984, 82.422905, 0.99873918, 0, 'ellipse', array([ 4.75875235,  3.13636088], dtype=float32), 94.251762, 1.2893957, 29)\n",
      " (11.877148127223043, -25.31718128588194, 3.0372527625388557e-05, 4.2684587061359025e-05, 4142.8852459016398, 3794.8688524590161, 0.20090946223535866, 0.31231587197817134, 78, 40.558971, 7.8102617, 20.441029, 0.013763716, 6.7771163e-07, 1.3050753e-07, 3.4155505e-07, 5.4014548e-10, 59846952.0, 85636.32, 7.2383161, 0.82295227, 0, 'ellipse', array([ 7.45105696,  4.49355555], dtype=float32), 103.65271, 2.3437328, 30)\n",
      " (11.83986890008546, -25.315965958945153, 4.4815286353028227e-05, 6.7595472106773968e-05, 4389.4642857142862, 3803.7142857142858, 0.296588351331593, 0.49450331414163884, 58, 17.008879, 5.2915125, 10.991121, 0.010306397, 2.8178744e-07, 8.7665065e-08, 1.8209077e-07, 2.0090274e-10, 60360672.0, 35092.859, 3.842484, 1.0732086, 0, 'ellipse', array([ 8.50733852,  3.37857056], dtype=float32), 114.83335, 1.6651676, 31)\n",
      " (11.851172649327843, -25.31435477563307, 4.6031584224337507e-05, 4.1572261384459352e-05, 4314.6999999999998, 3815.5250000000001, 0.30454884665687132, 0.30411243808839572, 63, 26.137486, 6.3245659, 13.862514, 0.011552699, 4.3577532e-07, 1.0544821e-07, 2.3112177e-07, 4.1967854e-10, 59979268.0, 96764.477, 5.4197555, 0.90891361, 0, 'ellipse', array([ 6.16440868,  5.35578585], dtype=float32), 135.29408, 2.1072373, 32)\n",
      " (11.887437274184146, -25.312847704624186, 8.9045471884929839e-06, 1.0270266621148494e-05, 4074.8289473684213, 3826.5789473684208, 0.058897637780319201, 0.075149761650209257, 126, 225.51157, 16.340147, 41.488438, 0.019478841, 3.9513347e-06, 2.8630845e-07, 7.2694593e-07, 3.9688322e-10, 57072248.0, 15902.725, 30.071774, 0.76272064, 0, 'ellipse', array([ 3.47846317,  2.57044458], dtype=float32), 107.76034, 1.3068058, 33)\n",
      " (11.8415246830731, -25.312663798912123, 3.0965200600974185e-05, 3.3990280414286644e-05, 4378.5200000000004, 3827.8800000000001, 0.20489997559707263, 0.24864432428694272, 50, 19.223959, 5.3851738, 9.776042, 0.0097195311, 3.149089e-07, 8.8215138e-08, 1.6014197e-07, 1.9265749e-10, 61046092.0, 41351.105, 4.5292668, 0.99366057, 0, 'ellipse', array([ 3.73762107,  3.06381941], dtype=float32), 96.537788, 1.1351935, 34)\n",
      " (11.878159085603162, -25.312481599427688, 1.7965406705400255e-05, 1.42639884401774e-05, 4136.1999999999998, 3829.2571428571428, 0.11883791053242021, 0.10436535957796877, 47, 61.826103, 8.7178049, 14.173896, 0.011416322, 1.0726271e-06, 1.512462e-07, 2.4590429e-07, 2.0378119e-10, 57639888.0, 11236.209, 12.713191, 0.75346255, 0, 'ellipse', array([ 3.11208534,  2.46457076], dtype=float32), 152.15219, 1.2252183, 35)\n",
      " (11.884430555816369, -25.311506046317206, 2.1489266723406786e-05, 1.97527696883526e-05, 4094.7169811320755, 3836.3962264150941, 0.14214288032417244, 0.1445327913033907, 55, 50.008698, 8.3066339, 18.991301, 0.013201377, 8.5552074e-07, 1.4210582e-07, 3.2489251e-07, 2.7381444e-10, 58454104.0, 27855.312, 9.1875086, 0.73932666, 0, 'ellipse', array([ 3.16917586,  3.09165287], dtype=float32), 113.83772, 1.4112726, 36)\n",
      " (11.873726325776969, -25.310739830563879, 5.0800438142317716e-05, 3.6632697181460117e-05, 4165.521739130435, 3842.0, 0.33604823005134676, 0.26801800012890453, 30, 14.000278, 4.7958403, 8.9997215, 0.0090504792, 2.4492519e-07, 8.3902016e-08, 1.5744391e-07, 4.1413001e-10, 57161448.0, 138931.06, 3.3961027, 0.73524785, 0, 'ellipse', array([ 5.65485382,  2.5036726 ], dtype=float32), 35.338871, 1.7058642, 37)\n",
      " (11.847240077892094, -25.310295533801693, 5.1126891856156931e-05, 4.4640612433255455e-05, 4340.7199999999993, 3845.2200000000003, 0.33827799219034205, 0.32654555578028521, 93, 30.255232, 7.0710812, 19.744768, 0.013823396, 4.9078903e-07, 1.1470446e-07, 3.202922e-07, 2.3259789e-10, 61646108.0, 11894.368, 5.4739652, 0.88317066, 0, 'ellipse', array([ 7.58382893,  6.47798872], dtype=float32), 38.477341, 2.6454434, 38)\n",
      " (11.899144240484258, -25.308097219362516, 2.1045951374532024e-05, 2.147296218524275e-05, 3997.3888888888887, 3861.333333333333, 0.13919718868874043, 0.15713484026400693, 36, 14.78725, 5.3851771, 14.21275, 0.0114533, 2.5745953e-07, 9.376128e-08, 2.47457e-07, 3.357532e-10, 57435236.0, 62695.395, 3.0375366, 0.74022162, 0, 'ellipse', array([ 2.02828813,  1.73923433], dtype=float32), 71.126595, 0.84578669, 39)\n",
      " (11.823461596949912, -25.307457043688096, 7.7570205849752938e-06, 8.9910599356812781e-06, 4498.0164588528678, 3865.93216957606, 0.051341193492589809, 0.065765047908826091, 437, 1939.5917, 44.777233, 65.408272, 0.025605068, 3.2260974e-05, 7.447747e-07, 1.0879272e-06, 4.2756762e-10, 60121920.0, 2093.7542, 212.35382, 1.2180632, 0, 'ellipse', array([ 9.17856121,  6.43152714], dtype=float32), 112.34988, 2.1025834, 40)\n",
      " (11.879078191062053, -25.307330111806049, 8.591462556495344e-06, 1.138848751836008e-05, 4130.1219512195121, 3866.9512195121952, 0.056834304111362144, 0.083328264588999446, 297, 1155.5874, 35.6511, 115.41256, 0.032051973, 2.0515732e-05, 6.3294556e-07, 2.0489779e-06, 7.0238315e-10, 56326896.0, 11319.214, 98.115112, 0.68733418, 0, 'ellipse', array([ 8.93049335,  6.05174971], dtype=float32), 94.986633, 3.5652421, 41)\n",
      " (11.866709892748052, -25.305628414248631, 6.3069724340891753e-06, 6.6851539948231675e-06, 4211.9378757515024, 3879.3957915831661, 0.041726559350536263, 0.048910342897215742, 226, 1001.3631, 32.802448, 74.636887, 0.026864333, 1.6164895e-05, 5.2953624e-07, 1.204855e-06, 4.9601095e-10, 61946772.0, 12377.812, 103.41923, 0.68924063, 0, 'ellipse', array([ 4.67659903,  3.90576077], dtype=float32), 103.93452, 2.0669301, 42)\n",
      " (11.889729709547773, -25.304606138586028, 6.5299095624027359e-06, 6.8887975821496639e-06, 4059.663043478261, 3886.8826086956524, 0.043193181650167389, 0.050407642133450281, 129, 459.41513, 23.06514, 72.584854, 0.025698949, 8.3177401e-06, 4.1760018e-07, 1.3141535e-06, 5.5469845e-10, 55233168.0, 12692.892, 48.038002, 0.66826922, 0, 'ellipse', array([ 3.24995422,  2.77146959], dtype=float32), 83.003319, 1.4969971, 43)\n",
      " (11.864211869477439, -25.304612975324577, 2.4140896535129741e-05, 2.196821921174319e-05, 4228.4632352941171, 3886.8235294117649, 0.15971566168082063, 0.16071933379043912, 145, 118.62109, 12.806266, 45.378902, 0.021092214, 1.9105889e-06, 2.0626619e-07, 7.3090229e-07, 3.4972619e-10, 62086144.0, 7053.6567, 15.223786, 0.68555027, 0, 'ellipse', array([ 5.8479538 ,  5.35176134], dtype=float32), 132.96899, 2.7201307, 44)\n",
      " (11.967153113638494, -25.304046758913024, 4.5276686876150052e-05, 2.5786459399768091e-05, 3547.505376344086, 3890.8064516129034, 0.29938992807956311, 0.18886695924902597, 160, 84.011398, 9.6436558, 8.9886017, 0.0095501114, 1.6141714e-06, 1.8529119e-07, 1.7270447e-07, 1.9139218e-10, 52046144.0, 16399.135, 20.387785, 1.7425969, 0, 'ellipse', array([ 8.7983551 ,  5.24111366], dtype=float32), 12.628456, 1.2989558, 45)\n",
      " (11.885179800071874, -25.30325817772146, 1.7156665540696281e-05, 1.8203674194694486e-05, 4089.7605633802818, 3896.7464788732395, 0.11349139640105932, 0.1331985016759063, 51, 58.6908, 9.3273926, 28.3092, 0.016018916, 1.0515291e-06, 1.671138e-07, 5.0719962e-07, 3.2257752e-10, 55814712.0, 16205.503, 9.1838417, 0.64493996, 0, 'ellipse', array([ 3.38087463,  2.85258365], dtype=float32), 99.689003, 1.605067, 46)\n",
      " (11.954694343830147, -25.303057436929091, 3.5602647049159941e-05, 3.396346856021637e-05, 3629.9166666666665, 3898.0925925925926, 0.23538377442400815, 0.24863724500073658, 189, 96.310913, 10.39231, 11.689086, 0.010222439, 1.9770091e-06, 2.13383e-07, 2.399461e-07, 6.3075123e-10, 48715464.0, 120764.95, 21.275206, 1.4219081, 0, 'ellipse', array([ 8.76288033,  6.09553957], dtype=float32), 49.525951, 1.7133131, 47)\n",
      " (11.823196034949673, -25.303157914721169, 2.5125901537137452e-06, 3.3724988526273592e-06, 4499.787399979743, 3897.3884331003746, 0.016632176407256338, 0.024669276295753662, 545, 9948.6426, 100.15488, 82.356972, 0.028268622, 0.00016877544, 1.6991344e-06, 1.3971589e-06, 4.8913917e-10, 58946032.0, 4062.4834, 983.42682, 1.165367, 0, 'ellipse', array([ 7.51684189,  4.70675325], dtype=float32), 105.41499, 1.7013531, 48)\n",
      " (11.851391519726468, -25.301920239572887, 3.2211866622944285e-05, 2.8712241665118654e-05, 4313.2745098039213, 3906.5098039215686, 0.21313722130071255, 0.21003752620481464, 61, 38.610676, 7.1414366, 12.389323, 0.010646648, 6.6751335e-07, 1.2347205e-07, 2.1419045e-07, 5.0482196e-10, 57842556.0, 126943.45, 8.3485785, 0.74199414, 0, 'ellipse', array([ 5.11674356,  3.86254883], dtype=float32), 43.467697, 1.9971564, 49)\n",
      " (11.856367262244552, -25.301220178320694, 2.00849777929335e-05, 1.6037474033225863e-05, 4280.3603603603606, 3911.6396396396394, 0.13288993280548311, 0.11731984726247902, 135, 119.56174, 12.32884, 32.438267, 0.017447375, 1.9246008e-06, 1.9845898e-07, 5.2216296e-07, 2.8259894e-10, 62122876.0, 3731.9075, 17.684225, 0.69231761, 0, 'ellipse', array([ 4.26706028,  3.6310401 ], dtype=float32), 160.39165, 1.8951924, 50)\n",
      " (11.858272360310275, -25.300643457961613, 3.2675327611642047e-05, 3.2467666194690992e-05, 4267.7586206896558, 3915.8620689655172, 0.21619987016947562, 0.23752658243392943, 82, 31.254509, 7.2111158, 20.745491, 0.013928542, 5.0336195e-07, 1.1613694e-07, 3.3411149e-07, 2.362936e-10, 62091524.0, 13799.803, 5.5451946, 0.66961062, 0, 'ellipse', array([ 3.84259009,  3.48706031], dtype=float32), 82.867744, 1.822209, 51)\n",
      " (11.864587731248388, -25.299714057789213, 1.8600034811910859e-05, 1.5281119679855237e-05, 4225.9821428571431, 3922.6696428571431, 0.12306029640967608, 0.11179512230546607, 90, 100.16288, 11.357829, 28.837116, 0.016678939, 1.6099109e-06, 1.8255359e-07, 4.6349692e-07, 2.692408e-10, 62216416.0, 3353.2593, 15.554682, 0.62792063, 0, 'ellipse', array([ 3.91564989,  3.53988814], dtype=float32), 8.9181757, 1.9763811, 52)\n",
      " (11.870658852784619, -25.297946610147726, 1.536996127882162e-05, 1.5951414482628934e-05, 4185.8214285714284, 3935.6071428571427, 0.10168944606175501, 0.11670744116008791, 37, 29.878979, 6.7082148, 15.12102, 0.012027118, 4.8504268e-07, 1.0889871e-07, 2.4546821e-07, 2.4580105e-10, 61600724.0, 37473.664, 5.9951663, 0.59354168, 0, 'ellipse', array([ 2.08775187,  1.29597735], dtype=float32), 126.01543, 0.92377388, 53)\n",
      " (11.892139397655267, -25.298009665666228, 1.9892418832156977e-05, 1.7364082175674866e-05, 4043.7201166180757, 3935.1486880466473, 0.13158772532960938, 0.12706210034048127, 170, 437.952, 23.579674, 118.048, 0.03240541, 8.4739895e-06, 4.562566e-07, 2.2841259e-06, 1.041735e-09, 51681912.0, 18823.1, 36.804394, 0.6091947, 0, 'ellipse', array([ 7.47177124,  6.88941097], dtype=float32), 147.79922, 3.9257755, 54)\n",
      " (11.878774547493425, -25.297699066167105, 1.5466284962073473e-05, 1.2514398203933297e-05, 4132.1333333333332, 3937.4222222222224, 0.10231879496132024, 0.091564664535326301, 40, 50.280033, 8.7178125, 25.719967, 0.015914749, 8.1085403e-07, 1.4059034e-07, 4.1477972e-07, 2.9439876e-10, 62008736.0, 21560.75, 8.1824045, 0.58340365, 0, 'ellipse', array([ 2.08317471,  1.81547201], dtype=float32), 162.00426, 1.1111361, 55)\n",
      " (11.890473009986485, -25.297253870182445, 2.1657237869732171e-05, 2.0052217394095351e-05, 4054.7435897435898, 3940.6794871794873, 0.1432641654996587, 0.1467302956648382, 101, 142.34431, 14.730944, 74.655685, 0.026294515, 2.6362977e-06, 2.7284355e-07, 1.3826658e-06, 1.7187606e-09, 53994024.0, 64368.238, 14.699456, 0.597938, 0, 'ellipse', array([ 3.88806725,  3.79540801], dtype=float32), 93.820923, 2.1415031, 56)\n",
      " (11.887342837610765, -25.296926294307038, 2.0598584509201601e-06, 2.2619535720025397e-06, 4075.4508393285373, 3943.0771172535656, 0.01362640853267294, 0.01655120535133392, 534, 15787.51, 127.34993, 430.49033, 0.064753674, 0.00027236127, 2.1970611e-06, 7.4266868e-06, 1.2006147e-09, 57965328.0, 3433.6685, 725.31805, 0.58752614, 0, 'ellipse', array([ 6.32099867,  5.05899429], dtype=float32), 104.38995, 3.2083113, 57)\n",
      " (11.837283208815721, -25.296424352035515, 1.2440175916950125e-05, 1.3090011723448924e-05, 4406.6169590643276, 3946.6959064327484, 0.082330668368740589, 0.095751830755034462, 223, 337.59558, 19.183334, 30.404411, 0.016755074, 5.5428436e-06, 3.1496663e-07, 4.991976e-07, 3.0452429e-10, 60906568.0, 15935.104, 51.293739, 0.83959043, 0, 'ellipse', array([ 5.48366308,  4.36045218], dtype=float32), 114.1459, 1.9413882, 58)\n",
      " (11.85438981421599, -25.2959977131875, 4.7160190236539279e-05, 3.8995414417541951e-05, 4293.4499999999998, 3949.8499999999999, 0.31204967553276219, 0.28526303651187845, 36, 12.04752, 4.4721446, 7.9524803, 0.0086903134, 1.9345688e-07, 7.1812885e-08, 1.2769948e-07, 1.4033205e-10, 62274964.0, 7226.4966, 3.0500076, 0.65601254, 0, 'ellipse', array([ 4.82449102,  2.98316717], dtype=float32), 140.77808, 1.9276632, 59)\n",
      " (11.884671774648357, -25.295544116194904, 8.6157079568494055e-06, 1.5653476747701234e-05, 4093.1209677419356, 3953.1908602150538, 0.056996629899003892, 0.11453786345100525, 81, 303.01846, 19.287319, 68.981529, 0.026354508, 5.0830695e-06, 3.2354143e-07, 1.1571503e-06, 4.7094234e-10, 59613284.0, 8361.376, 32.406517, 0.57030648, 0, 'ellipse', array([ 6.66870546,  3.21354723], dtype=float32), 97.288002, 2.7057242, 60)\n",
      " (11.800027442929879, -25.295496291093773, 3.0050298526873576e-05, 2.9366208050163323e-05, 4653.0845070422529, 3953.3661971830984, 0.19893236051575514, 0.21475011116172027, 205, 100.79018, 10.81666, 16.209816, 0.011519711, 2.3370653e-06, 2.5113829e-07, 3.75864e-07, 2.079978e-09, 43126816.0, 236681.53, 19.69239, 1.5584662, 0, 'ellipse', array([ 5.75512743,  4.65139771], dtype=float32), 124.32587, 1.1066252, 61)\n",
      " (11.878948676375932, -25.295487455028677, 9.9540454190361061e-06, 9.6804543012751765e-06, 4130.9820359281439, 3953.6047904191619, 0.065853593299834756, 0.070830038760504976, 77, 159.94063, 14.628757, 54.059376, 0.023016913, 2.6242174e-06, 2.4002159e-07, 8.8697641e-07, 4.4596879e-10, 60947932.0, 16299.851, 19.032993, 0.56310523, 0, 'ellipse', array([ 2.90332413,  2.3725841 ], dtype=float32), 124.29303, 1.5536306, 62)\n",
      " (11.90520651279374, -25.29443547228853, 5.7161037450015328e-06, 5.1179098896625419e-06, 3957.2725060827252, 3961.2919708029199, 0.037809257530170726, 0.037454060648087761, 58, 405.62488, 20.832674, 28.37513, 0.016375091, 6.8731806e-06, 3.5300314e-07, 4.8080733e-07, 2.7934641e-10, 59015596.0, 3966.8945, 63.410885, 0.63845807, 0, 'ellipse', array([ 2.354249  ,  2.22134233], dtype=float32), 139.67917, 1.193934, 63)\n",
      " (11.899606417334109, -25.294336842697014, 2.5434280273017862e-05, 2.2344472405677607e-05, 3994.320093457944, 3962.0186915887853, 0.16824291168222771, 0.1635155245576243, 361, 465.7959, 26.495323, 236.20409, 0.046215478, 8.5809061e-06, 4.8824086e-07, 4.3513592e-06, 6.0557053e-09, 54282832.0, 74794.07, 28.413774, 0.60406059, 0, 'ellipse', array([ 10.46401215,  10.1257143 ], dtype=float32), 14.925675, 5.6801553, 64)\n",
      " (11.874511691375217, -25.29404734034339, 7.818084259980651e-06, 7.7125386681586861e-06, 4160.3356009070294, 3964.140589569161, 0.051725093976529024, 0.056429492743518495, 171, 451.04559, 23.345255, 93.954399, 0.030182188, 7.2395478e-06, 3.7470718e-07, 1.5080235e-06, 5.4974919e-10, 62303008.0, 10736.979, 42.029594, 0.55105829, 0, 'ellipse', array([ 3.5565505 ,  3.25705194], dtype=float32), 85.864204, 2.0587709, 65)\n",
      " (11.876426720719838, -25.293895833158228, 3.7081394653526445e-05, 2.8474157545588241e-05, 4147.6666666666661, 3965.25, 0.24532669073232682, 0.20833333333348492, 40, 17.179043, 6.4807591, 24.820957, 0.015484097, 2.7974446e-07, 1.0553316e-07, 4.0418581e-07, 3.4320466e-10, 61409768.0, 35375.914, 2.8363357, 0.54849833, 0, 'ellipse', array([ 2.95425844,  1.56839299], dtype=float32), 143.40434, 1.3081427, 66)\n",
      " (11.866463537223975, -25.29297644045225, 3.7482954583722972e-05, 2.3932325547093569e-05, 4213.579710144928, 3971.9710144927535, 0.24799621002239292, 0.17508183880818251, 169, 79.295242, 11.661927, 56.704754, 0.023161687, 1.2764939e-06, 1.8773451e-07, 9.1283243e-07, 5.6877514e-10, 62119568.0, 29229.119, 9.2419872, 0.5597375, 0, 'ellipse', array([ 6.19783258,  4.3376956 ], dtype=float32), 173.91364, 3.0877619, 67)\n",
      " (11.966805992856306, -25.292598794840995, 4.4753703688726887e-05, 4.7985054568044916e-05, 3549.75, 3974.5735294117649, 0.29585881674620396, 0.35129282759908165, 177, 58.218552, 8.2462168, 9.7814474, 0.0098328209, 1.1326257e-06, 1.6043204e-07, 1.9029531e-07, 2.7294766e-10, 51401408.0, 52590.242, 13.71391, 1.6261455, 0, 'ellipse', array([ 9.51988506,  6.20213747], dtype=float32), 57.445805, 1.575092, 68)\n",
      " (11.861968166374881, -25.29246894133918, 3.4953576321328228e-05, 5.6669013137167212e-05, 4243.3199999999997, 3975.6799999999998, 0.2313093167176703, 0.41461307263534763, 43, 13.057496, 5.0000114, 11.942504, 0.010592797, 2.0994388e-07, 8.0392297e-08, 1.9201656e-07, 1.8086994e-10, 62195176.0, 19719.947, 2.8618205, 0.57915926, 0, 'ellipse', array([ 6.30938387,  3.30279803], dtype=float32), 78.595634, 2.6273336, 69)\n",
      " (11.889095375195913, -25.289424150599658, 2.7681093044407135e-06, 2.5183091274527669e-06, 4063.855072463768, 3997.9705059750827, 0.018312623156361951, 0.01842732677823733, 1012, 20921.787, 148.82208, 1226.2123, 0.11493193, 0.00033640527, 2.3934083e-06, 1.9716494e-05, 3.3393672e-09, 62192208.0, 8773.46, 580.70874, 0.55269539, 1, 'ellipse', array([ 3.56833982,  3.34021592], dtype=float32), 132.28439, 2.0821559, 70)\n",
      " (11.909188425366752, -25.29127232453434, 1.1565226246901261e-05, 1.0127305039020484e-05, 3930.9256756756758, 3984.4324324324325, 0.076498432965763641, 0.074116516714184399, 55, 133.30804, 12.449908, 21.691952, 0.014310307, 2.2336335e-06, 2.0860712e-07, 3.6345799e-07, 3.1133582e-10, 59682148.0, 32609.672, 23.235353, 0.63859183, 0, 'ellipse', array([ 2.91773891,  2.56879282], dtype=float32), 142.22688, 1.4290359, 71)\n",
      " (11.884111921923289, -25.291017604309211, 1.120256130349162e-05, 1.0464302352630739e-05, 4096.8246753246749, 3986.3116883116882, 0.07411313897864602, 0.076568041057726077, 52, 129.6568, 13.453644, 51.343208, 0.022969807, 2.1601045e-06, 2.24156e-07, 8.553867e-07, 1.1265973e-09, 60023388.0, 74354.07, 15.778011, 0.53046566, 0, 'ellipse', array([ 3.04487324,  2.54310083], dtype=float32), 129.73209, 1.7485895, 72)\n",
      " (11.888657699361357, -25.290720024261649, 6.6630947834767085e-06, 6.0455993136088182e-06, 4066.7509727626457, 3988.4886047804334, 0.04407985449915941, 0.044237572388738045, 304, 3963.2556, 65.764763, 361.74432, 0.061966512, 6.44385e-05, 1.0692831e-06, 5.881594e-06, 1.1337548e-09, 61504468.0, 5436.8799, 197.77432, 0.53668052, 0, 'ellipse', array([ 5.74344683,  5.49159908], dtype=float32), 47.28582, 3.488178, 73)\n",
      " (11.857041611258387, -25.290515688785025, 3.0584454673743267e-05, 2.8744834480676218e-05, 4275.9152542372885, 3989.9661016949153, 0.20238187470204139, 0.2102871481697548, 66, 44.239838, 7.6811547, 14.760161, 0.011691397, 7.1713754e-07, 1.2451331e-07, 2.3926546e-07, 1.9645732e-10, 61689476.0, 13341.486, 8.9585266, 0.59442174, 0, 'ellipse', array([ 5.35280418,  4.07155943], dtype=float32), 130.87596, 2.6179125, 74)\n",
      " (11.893398440767179, -25.289976146046595, 1.17137576580717e-05, 1.064466957956256e-05, 4035.387062566278, 3993.9300106044539, 0.077490352673521556, 0.077893165644582041, 306, 1599.0088, 44.022762, 338.99124, 0.060525589, 2.5578065e-05, 7.0422516e-07, 5.4225716e-06, 1.6506496e-09, 62514848.0, 15412.507, 82.287102, 0.54585969, 0, 'ellipse', array([ 7.19281721,  7.12174797], dtype=float32), 119.26141, 4.3705945, 75)\n",
      " (11.878551884809422, -25.289958273791935, 1.0718289216171684e-05, 1.0164748236007881e-05, 4133.608695652174, 3994.0621118012423, 0.070913026364905818, 0.074373242952788132, 61, 147.05481, 13.784063, 42.94519, 0.020198431, 2.4599121e-06, 2.3057829e-07, 7.1838105e-07, 3.6144074e-10, 59780512.0, 10682.389, 19.323298, 0.51889843, 0, 'ellipse', array([ 2.97173572,  2.54367447], dtype=float32), 126.01434, 1.766169, 76)\n",
      " (11.883503235206643, -25.28932470395215, 5.0767687227448732e-06, 4.6635376094172898e-06, 4100.8516421291051, 3998.6987542468855, 0.033587160954994033, 0.034123282478958572, 147, 892.18372, 32.124779, 139.81628, 0.037739489, 1.4607344e-05, 5.2597647e-07, 2.2891525e-06, 8.1879081e-10, 61077752.0, 14334.314, 69.397881, 0.51506615, 0, 'ellipse', array([ 3.04430699,  2.99176526], dtype=float32), 102.27323, 1.9530965, 77)\n",
      " (11.831916099868881, -25.289359939239723, 3.5268547135203221e-05, 2.7182566395111962e-05, 4442.1428571428569, 3998.3736263736264, 0.23340795335570874, 0.19880597060227956, 160, 89.266273, 10.392313, 18.733727, 0.013164755, 1.480865e-06, 1.724018e-07, 3.107794e-07, 2.3838953e-10, 60279820.0, 18537.059, 16.48793, 0.87941611, 0, 'ellipse', array([ 7.13304663,  5.1096158 ], dtype=float32), 149.81664, 2.288316, 78)\n",
      " (11.887596226980552, -25.288843266720541, 3.0553416632272956e-06, 2.7817787788819714e-06, 4073.7730515916573, 4002.2211855104283, 0.02021315274078006, 0.020354997363483562, 340, 10178.599, 102.89803, 409.40134, 0.065681338, 0.00016588971, 1.6770921e-06, 6.6723792e-06, 1.2376571e-09, 61357628.0, 5712.4468, 478.94345, 0.51879889, 0, 'ellipse', array([ 3.70981145,  3.63662529], dtype=float32), 55.274387, 2.3599615, 79)\n",
      " (11.888440237295157, -25.288339852273879, 3.5344121886993207e-06, 3.1682642998021038e-06, 4068.1890909090907, 4005.9045454545453, 0.023382489097457437, 0.023183168545074295, 202, 8505.874, 93.589546, 253.12643, 0.051863272, 0.00013695795, 1.5073316e-06, 4.0757341e-06, 1.3210659e-09, 62105724.0, 15598.274, 502.31042, 0.51746547, 0, 'ellipse', array([ 4.20877934,  3.80616856], dtype=float32), 137.45026, 2.578217, 80)\n",
      " (11.876399197924016, -25.287121353710109, 9.12578021150523e-06, 8.7709117764234179e-06, 4147.8516129032259, 4014.8193548387098, 0.060379340821782534, 0.064173910267072642, 46, 140.30006, 12.922857, 26.69994, 0.015822895, 2.3308128e-06, 2.1468837e-07, 4.4356759e-07, 2.6921543e-10, 60193624.0, 7887.2505, 22.486618, 0.50500154, 0, 'ellipse', array([ 2.39828396,  2.25365305], dtype=float32), 95.74881, 1.5345459, 81)\n",
      " (11.887628149268203, -25.286695226601882, 1.1548578784825736e-05, 1.0219298118840925e-05, 4073.5614525139663, 4017.9385474860337, 0.076403058808409696, 0.074777326439743774, 119, 1092.8456, 34.899876, 125.15443, 0.035956699, 1.7441853e-05, 5.5707397e-07, 1.9974689e-06, 1.1676615e-09, 62656508.0, 31898.389, 89.425674, 0.50591195, 0, 'ellipse', array([ 4.47537518,  4.09823132], dtype=float32), 37.911861, 2.8217385, 82)\n",
      " (11.888477073270076, -25.2866881724891, 8.8910027304933692e-06, 7.9093061877699711e-06, 4067.9450000000002, 4017.9899999999998, 0.058820702137836633, 0.057874865010489884, 188, 1593.6522, 42.332047, 198.34776, 0.045778353, 2.5209567e-05, 6.6963952e-07, 3.1376112e-06, 7.2428047e-10, 63216168.0, 270.82355, 105.46864, 0.50555593, 0, 'ellipse', array([ 2.53209233,  2.41772294], dtype=float32), 34.727306, 1.6313703, 83)\n",
      " (11.893730899735722, -25.285846648271548, 1.331082430766628e-05, 1.0584858909368222e-05, 4033.1854304635763, 4024.1456953642382, 0.088059039362178737, 0.077456468386117194, 116, 161.30376, 16.340168, 105.69624, 0.032943573, 2.6258008e-06, 2.6599821e-07, 1.7205878e-06, 9.8643638e-10, 61430308.0, 29559.604, 14.252875, 0.51804984, 0, 'ellipse', array([ 3.28692937,  2.80849504], dtype=float32), 162.43221, 1.9549661, 84)\n",
      " (11.868385044666407, -25.285849408206328, 1.7758185148153416e-05, 1.7670337847164319e-05, 4200.8738738738739, 4024.1216216216217, 0.11750356102311343, 0.12928133659852392, 106, 185.48245, 14.899675, 36.51754, 0.01835279, 3.0521608e-06, 2.4517931e-07, 6.0090537e-07, 3.421595e-10, 60770868.0, 16266.018, 26.106955, 0.51554, 0, 'ellipse', array([ 6.04683065,  4.94128513], dtype=float32), 120.72079, 3.5342741, 85)\n",
      " (11.883984344562656, -25.285049431051885, 1.4433494133214708e-05, 1.3148185651346012e-05, 4097.6687499999998, 4029.9812499999998, 0.095492913267662516, 0.09620610809270147, 96, 262.77948, 18.43911, 77.220512, 0.027667874, 4.2538941e-06, 2.9849431e-07, 1.2500514e-06, 4.8347715e-10, 61773868.0, 8996.7637, 26.732151, 0.49345556, 0, 'ellipse', array([ 3.68531513,  3.58855796], dtype=float32), 53.122089, 2.4565635, 86)\n",
      " (11.895927649655372, -25.284994489890895, 2.6079251350452637e-05, 3.0342603825062042e-05, 4018.6511627906975, 4030.3798449612405, 0.17252239291747173, 0.22203417877835818, 86, 62.757984, 11.357845, 66.242012, 0.025318876, 1.0705701e-06, 1.9375227e-07, 1.1300031e-06, 1.052492e-09, 58621092.0, 49790.922, 6.8327608, 0.52033472, 0, 'ellipse', array([ 7.59752035,  5.83695173], dtype=float32), 81.758797, 4.2660398, 87)\n",
      " (11.887327586528736, -25.284795341729545, 1.2707625424823732e-05, 1.110490387290497e-05, 4075.5496368038739, 4031.8401937046006, 0.084072602222931891, 0.081257376898520306, 197, 1231.3868, 37.563305, 179.6132, 0.043125547, 1.9485296e-05, 5.9439782e-07, 2.842175e-06, 7.0400435e-10, 63195688.0, 3847.0315, 85.335564, 0.49623978, 0, 'ellipse', array([ 7.35795689,  6.89132929], dtype=float32), 29.320997, 4.783186, 88)\n",
      " (11.874673805806813, -25.284895255793781, 2.4286165155373851e-05, 3.4286304902764186e-05, 4159.2678571428569, 4031.1071428571427, 0.16069656931904319, 0.25086403168006655, 50, 31.272892, 7.4833302, 24.727108, 0.015231667, 5.165802e-07, 1.2361339e-07, 4.084539e-07, 3.185868e-10, 60538308.0, 28965.404, 5.1712222, 0.49659792, 0, 'ellipse', array([ 6.11932516,  2.69943714], dtype=float32), 115.83656, 2.7281122, 89)\n",
      " (11.892740894508943, -25.284322424984776, 4.9700032285215912e-06, 4.9804516280005373e-06, 4039.7346024636058, 4035.2989921612543, 0.032879678407425672, 0.036444432404096005, 145, 910.20282, 32.186974, 125.79721, 0.03570614, 1.4879311e-05, 5.2618356e-07, 2.056438e-06, 8.0277729e-10, 61172376.0, 16394.463, 74.306389, 0.50401539, 0, 'ellipse', array([ 3.35490942,  2.847435  ], dtype=float32), 115.43758, 2.0441005, 90)\n",
      " (11.888468667806473, -25.284090139475566, 0.0, 0.0, 4068.0, 4037.0, 0.0, 0.0, 99, 181.55948, 16.309532, 84.440521, 0.029403642, 2.8778093e-06, 2.5851435e-07, 1.3384248e-06, 4.7033538e-10, 63089476.0, 2981.6169, 17.747974, 0.49405578, 0, 'ellipse', array([  3.57627869e-07,   3.57627869e-07], dtype=float32), 90.0, 2.412871e-07, 91)\n",
      " (11.925290431922333, -25.283685219995327, 2.0648360845143543e-05, 1.2661004657132935e-05, 3824.3823529411766, 4039.9215686274511, 0.13658387627037882, 0.09268338794936426, 59, 91.263618, 10.09951, 10.736381, 0.010525555, 1.4939263e-06, 1.6535705e-07, 1.757476e-07, 4.3364975e-10, 61089772.0, 138328.0, 20.792974, 0.74985307, 0, 'ellipse', array([ 4.14088726,  2.80433583], dtype=float32), 2.7593985, 1.5148313, 92)\n",
      " (11.896023186456661, -25.283343601691247, 2.3428025194505153e-05, 2.4547766265925475e-05, 4018.0180180180182, 4042.4594594594596, 0.15498741645205882, 0.17963149962315583, 148, 114.21776, 14.628771, 99.782242, 0.030422268, 1.9862994e-06, 2.5440255e-07, 1.7352592e-06, 9.2858743e-10, 57502792.0, 25288.625, 10.358406, 0.50993353, 0, 'ellipse', array([ 5.83144712,  4.71449995], dtype=float32), 112.81154, 3.4274504, 93)\n",
      " (11.870180069846301, -25.283184126628335, 4.0074497047015711e-05, 3.3902469251501088e-05, 4189.0, 4043.625, 0.26516504294522747, 0.2480391854123809, 21, 8.5306101, 4.0000086, 7.4693894, 0.0082134055, 1.4263064e-07, 6.6879615e-08, 1.2488717e-07, 1.4627423e-10, 59809104.0, 24123.891, 2.206032, 0.49835208, 0, 'ellipse', array([ 3.74652696,  2.22439003], dtype=float32), 40.997635, 1.9309114, 94)\n",
      " (11.864699071637347, -25.283167024978287, 1.2995710736873889e-05, 1.1724697380088855e-05, 4225.2631578947367, 4043.7456140350878, 0.085994115679568495, 0.085777995418993669, 118, 142.68158, 13.190917, 31.318426, 0.016957745, 2.370803e-06, 2.1918692e-07, 5.2038826e-07, 4.5619319e-10, 60182804.0, 41491.949, 21.414337, 0.51628768, 0, 'ellipse', array([ 3.04225278,  2.42510319], dtype=float32), 135.32339, 1.7536775, 95)\n",
      " (11.877625221964083, -25.279974439069019, 3.8787740914258961e-05, 3.0634279806207587e-05, 4139.7428571428572, 4067.1142857142859, 0.25664350607985398, 0.22414073046957128, 89, 46.072647, 9.4868555, 43.927353, 0.02072002, 7.4627883e-07, 1.5366706e-07, 7.1152965e-07, 4.0240747e-10, 61736504.0, 19263.361, 5.9958324, 0.472682, 0, 'ellipse', array([ 4.56815338,  3.96295786], dtype=float32), 8.7791519, 3.0004733, 96)\n",
      " (11.869844307195381, -25.279300599822019, 1.9143811679001033e-05, 2.1948903746960013e-05, 4191.224489795919, 4072.0408163265306, 0.12667965587388608, 0.16058821403976253, 36, 37.544178, 7.0000076, 11.455821, 0.010279792, 6.1927551e-07, 1.1546238e-07, 1.8895896e-07, 1.8079606e-10, 60625972.0, 20129.67, 8.3548794, 0.48447368, 0, 'ellipse', array([ 3.53529716,  2.43956709], dtype=float32), 114.49654, 2.0205886, 97)\n",
      " (11.855757437888203, -25.278726077851218, 8.4553863892722347e-06, 8.2562741177127918e-06, 4284.4292929292933, 4076.2297979797981, 0.055957009226403898, 0.060399922151191276, 164, 414.27658, 21.000006, 26.723433, 0.015754286, 6.6534953e-06, 3.3727142e-07, 4.2919208e-07, 2.5567762e-10, 62264500.0, 5332.1914, 66.374413, 0.5533905, 0, 'ellipse', array([ 3.79038262,  3.1296258 ], dtype=float32), 123.11868, 2.0746019, 98)\n",
      " (11.922381529325097, -25.277616390949564, 3.4502721891982446e-05, 2.4437450747427647e-05, 3843.6153846153848, 4084.3333333333335, 0.22823504446751031, 0.17887563706381115, 59, 29.174229, 6.2450047, 9.8257704, 0.0089706685, 6.1941444e-07, 1.3260707e-07, 2.0861647e-07, 7.1683237e-10, 47099692.0, 156023.28, 6.8612294, 0.69230008, 0, 'ellipse', array([ 4.495152  ,  3.05096745], dtype=float32), 155.16568, 1.7830985, 99)\n",
      " (11.90133361980762, -25.277403859887961, 6.6814554369187817e-06, 6.6150667166198218e-06, 3982.8778467908901, 4085.9171842650103, 0.044201466254889965, 0.048408585171728191, 177, 518.64209, 24.351606, 74.35791, 0.027189407, 8.4545181e-06, 3.9696653e-07, 1.2121275e-06, 5.2300031e-10, 61344960.0, 14051.178, 53.653652, 0.50919461, 0, 'ellipse', array([ 3.26614428,  2.83055806], dtype=float32), 115.18716, 1.9904381, 100)\n",
      " (11.878666696195332, -25.277230639566355, 4.675448083979461e-05, 2.8032178050807488e-05, 4132.8529411764703, 4087.1911764705883, 0.30935857424356072, 0.20510077797689519, 70, 37.276062, 8.2462292, 30.723938, 0.016975537, 6.2277337e-07, 1.3777202e-07, 5.1330665e-07, 6.4482031e-10, 59854940.0, 67526.984, 5.639204, 0.46377978, 0, 'ellipse', array([ 8.1078167 ,  4.31021786], dtype=float32), 22.943968, 4.2488217, 101)\n",
      " (11.762147781860946, -25.277070039957795, 5.0541207274434896e-05, 3.8696680594085819e-05, 4903.8000000000002, 4088.0, 0.33466401061377837, 0.28284271247457582, 37, 4.3587346, 2.2360687, 0.64126539, 0.0019315111, 3.1426052e-07, 1.612184e-07, 4.6234611e-08, 1.393777e-10, 13869813.0, 1717.4545, 1.9998606, 2.6105242, 0, 'ellipse', array([ 2.82688761,  0.80542284], dtype=float32), 140.65497, 0.1926714, 102)\n",
      " (11.891616522827245, -25.276867615932378, 8.6713626181733616e-06, 9.2103494502282501e-06, 4047.1705202312137, 4089.8468208092486, 0.057370332497612253, 0.067395987195141061, 298, 1589.1892, 41.593285, 140.81082, 0.035580467, 2.7578815e-05, 7.2181973e-07, 2.4436331e-06, 6.9679701e-10, 57623548.0, 7614.332, 123.2127, 0.47597551, 0, 'ellipse', array([ 8.50325012,  7.04723263], dtype=float32), 105.33173, 5.421206, 103)\n",
      " (11.952896886461241, -25.276464282870318, 5.3243665250946037e-05, 3.0685094284166325e-05, 3641.7073170731705, 4092.6829268292681, 0.35217333632863301, 0.22470556950975151, 90, 33.997097, 6.4031296, 7.0029016, 0.0081750099, 6.4526188e-07, 1.2153164e-07, 1.3291444e-07, 1.8026522e-10, 52687288.0, 36375.246, 8.9834766, 1.20035, 0, 'ellipse', array([ 7.01548004,  3.89620614], dtype=float32), 161.43167, 1.4518458, 104)\n",
      " (11.914538144225702, -25.276190539224856, 3.1031603970888e-05, 2.3520211925642798e-05, 3895.5084745762711, 4094.7796610169494, 0.20528287950810409, 0.17214558356090492, 150, 137.28299, 13.30415, 39.717018, 0.019879878, 2.3033526e-06, 2.2322574e-07, 6.663775e-07, 6.0781757e-10, 59601376.0, 45446.902, 18.649111, 0.60586131, 0, 'ellipse', array([ 8.41809177,  6.59344864], dtype=float32), 21.666203, 4.0989127, 105)\n",
      " (11.954326921644251, -25.274638358048659, 3.2185065538925528e-05, 2.9660132753406288e-05, 3632.2384615384617, 4106.038461538461, 0.21284320593804296, 0.21713678675041592, 202, 114.49976, 11.401761, 15.500239, 0.012259767, 2.1705575e-06, 2.1614348e-07, 2.9383608e-07, 2.6039593e-10, 52751316.0, 21084.295, 22.758129, 1.2364297, 0, 'ellipse', array([ 7.75988722,  6.92469263], dtype=float32), 129.92813, 1.9762291, 106)\n",
      " (11.944468853115826, -25.273613923240184, 2.8824583417019767e-05, 2.5840042020774945e-05, 3697.4622641509436, 4113.566037735849, 0.19063819309394603, 0.18915923283202574, 127, 92.083183, 10.295637, 13.91682, 0.011674663, 1.6979786e-06, 1.8984817e-07, 2.5662084e-07, 2.2638171e-10, 54231060.0, 14800.151, 19.065912, 1.0205766, 0, 'ellipse', array([ 6.4534936 ,  5.21141529], dtype=float32), 43.940212, 1.894124, 107)\n",
      " (11.910055116389298, -25.273405165281616, 3.0424261957762155e-05, 2.7501472779078995e-05, 3925.1666666666665, 4115.1666666666661, 0.20126912147497933, 0.20126912147497933, 27, 16.232296, 4.8989873, 7.767704, 0.0087766312, 2.7270269e-07, 8.2303103e-08, 1.3049748e-07, 1.5748766e-10, 59523784.0, 25238.486, 4.1424656, 0.55967063, 0, 'ellipse', array([ 3.40954542,  2.42384005], dtype=float32), 63.434948, 1.7121682, 108)\n",
      " (11.91346205948658, -25.273374745408137, 1.3142351285466702e-05, 1.6085387482434044e-05, 3902.6239316239316, 4115.3846153846152, 0.086933199728719046, 0.11771694920207665, 156, 140.68481, 13.527765, 42.315186, 0.020774011, 2.3178975e-06, 2.2288241e-07, 6.9717726e-07, 4.1686449e-10, 60695012.0, 20716.941, 18.60318, 0.58978975, 0, 'ellipse', array([ 3.96876907,  2.60739517], dtype=float32), 111.09212, 1.8180796, 109)\n",
      " (11.98546360853171, -25.272108866228539, 2.341500865732371e-05, 1.6239523652927801e-05, 3426.2044728434503, 4124.415335463259, 0.15484215125343326, 0.11894283308265585, 309, 354.73169, 19.104975, 10.268297, 0.009692275, 1.0292094e-05, 5.5434538e-07, 2.979217e-07, 3.3897982e-10, 34466428.0, 21898.268, 82.125572, 2.0505996, 0, 'ellipse', array([ 8.39084721,  6.08173943], dtype=float32), 17.027544, 1.1612204, 110)\n",
      " (11.899688607476993, -25.271851147116404, 2.1126964117712532e-05, 2.430680800813434e-05, 3993.757322175732, 4126.5481171548117, 0.13977179467792666, 0.17787086038424604, 150, 185.85468, 15.459642, 53.145321, 0.02339733, 2.9886007e-06, 2.4859804e-07, 8.5459317e-07, 4.8078741e-10, 62187860.0, 21782.463, 22.281145, 0.49391887, 0, 'ellipse', array([ 8.28035927,  6.44293022], dtype=float32), 82.101097, 4.9293475, 111)\n",
      " (11.879429198477824, -25.270781396493518, 2.3221846870313811e-05, 2.112867792192219e-05, 4127.8095238095239, 4134.3809523809523, 0.15366053828711301, 0.15459465350613755, 47, 47.782738, 7.937263, 15.21726, 0.011922015, 7.8959044e-07, 1.3116036e-07, 2.5145908e-07, 2.1662672e-10, 60515852.0, 21680.119, 9.5643806, 0.45318407, 0, 'ellipse', array([ 4.08344316,  3.20378947], dtype=float32), 134.27028, 2.6604147, 112)\n",
      " (11.885764646773383, -25.270347600828476, 2.8814708326052596e-05, 3.4330003376936702e-05, 4085.8888888888887, 4137.5555555555557, 0.1906598174255123, 0.25119740678292146, 24, 10.145001, 4.2426491, 7.8549986, 0.0085099703, 1.7261617e-07, 7.2188271e-08, 1.3365201e-07, 1.514492e-10, 58772020.0, 19522.131, 2.5791757, 0.45562255, 0, 'ellipse', array([ 3.19733238,  2.42655659], dtype=float32), 89.265602, 2.0378051, 113)\n",
      " (11.921309500715449, -25.269661963432878, 4.4110871881386515e-05, 6.4465538191171845e-05, 3850.6923076923076, 4142.538461538461, 0.2917465807249755, 0.47177986426686402, 70, 15.560267, 5.0990267, 10.439733, 0.0086794021, 3.888843e-07, 1.2744573e-07, 2.6091121e-07, 1.101546e-09, 40012588.0, 165622.17, 3.5811019, 0.66960436, 0, 'ellipse', array([ 7.32159472,  4.28885221], dtype=float32), 102.00324, 2.7895482, 114)\n",
      " (11.890011756975047, -25.268280682038302, 4.2058743277451072e-05, 5.6522039436401883e-05, 4057.7857142857142, 4152.6785714285716, 0.27828347231206862, 0.41358799445151817, 41, 14.812685, 5.2915149, 13.187315, 0.011419381, 2.3907964e-07, 8.5406313e-08, 2.1284585e-07, 2.534471e-10, 61957116.0, 50640.195, 3.1294813, 0.46280786, 0, 'ellipse', array([ 7.52957869,  2.43446398], dtype=float32), 121.15543, 3.0836496, 115)\n",
      " (11.912921958294437, -25.267677101210563, 4.2314341452964754e-05, 4.1865397278684213e-05, 3906.1886792452829, 4157.0754716981137, 0.27992854167951009, 0.30639215524752217, 88, 33.116329, 7.2801232, 19.883671, 0.013974755, 5.7687816e-07, 1.2685142e-07, 3.4636855e-07, 1.7669352e-09, 57406108.0, 290053.97, 5.9750562, 0.57853723, 0, 'ellipse', array([ 7.6864481 ,  4.80366039], dtype=float32), 129.06906, 3.501035, 116)\n",
      " (11.877598700585519, -25.266712364780478, 3.8419042855508678e-05, 2.9159020584756945e-05, 4139.9230769230771, 4164.1538461538457, 0.25423137347843294, 0.21334622931772174, 21, 7.6903586, 3.6055582, 5.3096414, 0.0070244288, 1.242955e-07, 5.8274956e-08, 8.5817128e-08, 1.334831e-10, 61871580.0, 50612.559, 2.2215979, 0.45188931, 0, 'ellipse', array([ 2.776016  ,  2.27624869], dtype=float32), 166.17702, 1.8542467, 117)\n",
      " (11.887541133616617, -25.266015020824355, 2.4431695978321954e-05, 2.7116764229617729e-05, 4074.1333333333332, 4169.2571428571428, 0.16166181585640516, 0.19841941031700117, 85, 80.237747, 10.246963, 24.762253, 0.01529031, 1.3112021e-06, 1.6745354e-07, 4.0465144e-07, 4.0491199e-10, 61194032.0, 48184.266, 13.260321, 0.45901278, 0, 'ellipse', array([ 6.13493204,  4.92591572], dtype=float32), 100.36031, 3.9921086, 118)\n",
      " (11.849424287411233, -25.265426256859953, 1.3398311587309308e-05, 1.2305513465094009e-05, 4326.3571428571431, 4173.5357142857138, 0.088681629928032635, 0.090017410042491974, 141, 147.26395, 12.806254, 16.736053, 0.01237592, 2.5138065e-06, 2.186094e-07, 2.856857e-07, 2.769788e-10, 58582052.0, 36731.875, 28.420374, 0.59261286, 0, 'ellipse', array([ 3.57969046,  2.70276666], dtype=float32), 133.43526, 1.7495836, 119)\n",
      " (11.987185622247868, -25.263065739768436, 4.0858417353462073e-05, 2.6668359652148865e-05, 3414.7594936708861, 4190.5759493670885, 0.27022135106790302, 0.19534198865858343, 250, 149.19031, 12.569809, 8.8096991, 0.0093519073, 4.2260676e-06, 3.5607113e-07, 2.4954963e-07, 3.0841257e-10, 35302396.0, 22341.424, 36.460121, 2.1447515, 0, 'ellipse', array([ 10.21441841,   7.3321805 ], dtype=float32), 5.7093153, 1.3450089, 120)\n",
      " (11.9095184164334, -25.26152832113538, 1.2534658159424339e-05, 1.1474083795093293e-05, 3928.7014218009481, 4202.0710900473932, 0.082930205887350894, 0.083972383195032307, 199, 245.62036, 16.792866, 36.379631, 0.01804184, 4.7225567e-06, 3.2303646e-07, 6.9947322e-07, 1.5410204e-09, 52010040.0, 111643.27, 34.626564, 0.56634444, 0, 'ellipse', array([ 3.68087959,  3.59191871], dtype=float32), 119.65014, 2.1401153, 121)\n",
      " (11.866631469341813, -25.260267116291626, 6.7401198279526398e-05, 3.4691699681843602e-05, 4212.5, 4211.3076923076924, 0.44605436556685163, 0.25378338833161251, 63, 16.57168, 5.0990281, 9.4283199, 0.0093699461, 2.7102334e-07, 8.3399428e-08, 1.5419647e-07, 6.260632e-10, 61144848.0, 240706.44, 3.9547267, 0.48882368, 0, 'ellipse', array([ 7.11897326,  3.30891466], dtype=float32), 161.20985, 3.3096189, 122)\n",
      " (11.895293235460695, -25.260036451780394, 6.5841574425462568e-05, 3.9447342487619608e-05, 4022.8333333333335, 4213.0, 0.43567742059349257, 0.28867513459499605, 44, 14.172364, 4.8989892, 9.8276358, 0.00985099, 2.2644831e-07, 7.8277118e-08, 1.5702756e-07, 2.1410861e-10, 62585424.0, 57850.086, 3.3328483, 0.4935075, 0, 'ellipse', array([ 6.46908712,  4.141366  ], dtype=float32), 169.31468, 3.4960551, 123)\n",
      " (11.88993760619673, -25.259446253666297, 3.5069384416885896e-05, 3.9760664972021686e-05, 4058.2735849056603, 4217.3207547169814, 0.23205745399764055, 0.29094167394487158, 145, 76.025063, 10.295644, 29.974934, 0.016831141, 1.2283767e-06, 1.6635262e-07, 4.8432071e-07, 3.170019e-10, 61890672.0, 20815.682, 11.619285, 0.47915184, 0, 'ellipse', array([ 8.99156284,  7.16090965], dtype=float32), 86.75235, 5.5822239, 124)\n",
      " (11.824439240244217, -25.25943799468482, 6.5753723625050498e-05, 5.8422754250386788e-05, 4491.7058823529405, 4217.2941176470595, 0.43531282107051084, 0.42729010866423778, 98, 24.831068, 5.8309593, 9.1689329, 0.0091828797, 4.5660926e-07, 1.0722433e-07, 1.6860409e-07, 2.4021499e-10, 54381436.0, 55105.484, 5.9842062, 0.98846328, 0, 'ellipse', array([ 7.76468945,  7.31876135], dtype=float32), 144.17554, 2.5421376, 125)\n",
      " (11.929395570199421, -25.258149941404117, 9.4890602930775003e-06, 8.3344030876730812e-06, 3797.1592356687897, 4226.7563694267519, 0.062773528866728157, 0.061004606684036844, 252, 675.08289, 26.776863, 41.917103, 0.020420471, 1.2549269e-05, 4.9777969e-07, 7.7920652e-07, 4.6393803e-10, 53794600.0, 18414.012, 89.628563, 0.80946779, 0, 'ellipse', array([ 4.75465107,  4.54965496], dtype=float32), 155.22641, 1.91526, 126)\n",
      " (11.919307060154225, -25.258053776134624, 4.0939814621054893e-05, 5.1920759247536807e-05, 3863.9200000000001, 4227.4799999999996, 0.2708209740771963, 0.37997894678574085, 57, 15.703053, 5.0000081, 9.2969465, 0.0090785157, 3.2080246e-07, 1.021542e-07, 1.8993013e-07, 7.5679846e-10, 48949296.0, 189096.36, 3.7659986, 0.67161554, 0, 'ellipse', array([ 5.69968557,  4.06231308], dtype=float32), 90.05162, 2.3881969, 127)\n",
      " (11.929578735123462, -25.256876382225908, 1.1156563340719572e-05, 1.0201340554516491e-05, 3795.9439834024897, 4236.0746887966807, 0.073804339938760677, 0.074668946282145043, 193, 497.20255, 23.000008, 31.79744, 0.017972827, 9.0909043e-06, 4.2053722e-07, 5.8138772e-07, 3.422494e-10, 54692312.0, 8996.2881, 74.153595, 0.81758112, 0, 'ellipse', array([ 5.04434633,  4.72972631], dtype=float32), 129.78337, 1.9914452, 128)\n",
      " (11.931990329852821, -25.254791207296648, 4.7893567264978287e-05, 5.3399986327917759e-05, 3779.9795918367345, 4251.3265306122448, 0.31680647713619692, 0.39084457200806355, 108, 32.36599, 7.0000119, 16.63401, 0.01295444, 6.0408593e-07, 1.3065065e-07, 3.1046079e-07, 3.465879e-10, 53578456.0, 42854.582, 6.2610564, 0.86450702, 0, 'ellipse', array([ 8.21249294,  6.64706326], dtype=float32), 86.677986, 2.8488045, 129)\n",
      " (11.946760043339214, -25.254330886766358, 4.9474525718906648e-05, 5.0808482207287398e-05, 3682.2363636363634, 4254.6545454545449, 0.32723599426526562, 0.37192212978516181, 114, 42.646751, 7.4162073, 12.353248, 0.011428132, 8.0684913e-07, 1.4031301e-07, 2.337155e-07, 3.4711833e-10, 52855920.0, 61413.926, 9.2312174, 1.146746, 0, 'ellipse', array([ 8.28057766,  7.27390718], dtype=float32), 85.49614, 2.2559304, 130)\n",
      " (11.89678063325233, -25.253307162670414, 2.091744770282844e-06, 2.2106234460750329e-06, 4012.9859696763974, 4262.2378366146186, 0.013841196329849481, 0.016176596950572275, 364, 8884.5938, 94.588585, 62.406685, 0.025025651, 0.00014590615, 1.5533851e-06, 1.0248662e-06, 4.1390094e-10, 60892524.0, 2916.1006, 993.01172, 0.53361708, 0, 'ellipse', array([ 4.56731749,  3.89780688], dtype=float32), 95.14946, 2.6356623, 131)\n",
      " (11.881799491880244, -25.251709254150352, 8.0856682611596398e-06, 7.6162892383990766e-06, 4112.1281464530894, 4273.9336384439357, 0.053510901396293775, 0.055728013241605368, 146, 451.11584, 21.725565, 20.884171, 0.014174337, 7.2857652e-06, 3.5088112e-07, 3.3729066e-07, 2.3370342e-10, 61917428.0, 8632.7217, 79.825783, 0.50681037, 0, 'ellipse', array([ 3.62561417,  3.21420407], dtype=float32), 125.10699, 2.2452297, 132)\n",
      " (11.952039126401285, -25.250868583129403, 1.8935173509149195e-05, 1.3424599810463178e-05, 3647.2879746835442, 4279.9715189873423, 0.12526187533285338, 0.098292161698736891, 245, 322.75943, 18.46619, 18.240559, 0.013160724, 7.339645e-06, 4.2003123e-07, 4.1479566e-07, 6.084791e-10, 43974804.0, 56166.156, 60.240864, 1.2909012, 0, 'ellipse', array([ 6.68363476,  5.2373457 ], dtype=float32), 2.9955511, 1.5277339, 133)\n",
      " (11.928172698783914, -25.250599331725503, 3.1783900595883097e-06, 2.3482256317208794e-06, 3805.2334956709956, 4282.0074404761908, 0.021028744636168994, 0.017189037631396786, 458, 7410.9961, 86.510117, 73.00386, 0.027039582, 0.00013664452, 1.5951028e-06, 1.3460508e-06, 5.0551946e-10, 54235592.0, 3368.6841, 772.9444, 0.83429724, 0, 'ellipse', array([ 5.4359045 ,  4.41890526], dtype=float32), 173.46442, 1.9581736, 134)\n",
      " (11.879366200425073, -25.250552442928768, 1.1039872624962754e-05, 1.0314101622554972e-05, 4128.2316602316605, 4282.3976833976831, 0.073063863041170407, 0.075466440121999767, 114, 261.26315, 16.643322, 15.736859, 0.012318566, 4.1792873e-06, 2.6623454e-07, 2.5173415e-07, 1.9801888e-10, 62513804.0, 4849.6714, 51.628937, 0.51324356, 0, 'ellipse', array([ 3.83082342,  3.32323766], dtype=float32), 128.37877, 2.3172987, 135)\n",
      " (11.936759680356587, -25.24906107101588, 2.1250258276594991e-05, 1.5377709384978289e-05, 3748.40099009901, 4293.2425742574251, 0.14059055583948066, 0.11257493897574022, 196, 219.22954, 15.652484, 25.770464, 0.016165754, 4.0913437e-06, 2.9211466e-07, 4.8093801e-07, 3.2911815e-10, 53583752.0, 14654.83, 35.648224, 0.99301773, 0, 'ellipse', array([ 6.04809999,  4.73225784], dtype=float32), 12.316574, 1.7958308, 136)\n",
      " (11.916934857905519, -25.247917754769617, 4.328405923814671e-05, 5.6566968819282692e-05, 3879.5999999999999, 4301.6499999999996, 0.28635642126573657, 0.41397463690464065, 47, 13.900791, 4.4721422, 6.0992084, 0.0076258704, 2.6407901e-07, 8.4960448e-08, 1.1586915e-07, 2.5441826e-10, 52638764.0, 95012.633, 3.8430772, 0.7259385, 0, 'ellipse', array([ 5.8016758 ,  3.45659661], dtype=float32), 68.907089, 2.0562692, 137)\n",
      " (11.851872639156751, -25.247431978457971, 1.7858905717815787e-05, 1.636259866444334e-05, 4310.187772925764, 4305.2052401746723, 0.11822096823379979, 0.11969795640015946, 135, 214.86346, 15.13275, 14.136529, 0.011076708, 3.913724e-06, 2.7565105e-07, 2.5749594e-07, 2.4947863e-10, 54900008.0, 31285.492, 44.226002, 0.6895588, 0, 'ellipse', array([ 5.77085114,  5.0031395 ], dtype=float32), 132.48836, 2.5974588, 138)\n",
      " (11.878736488899595, -25.247341438716706, 1.3209371044098361e-05, 1.2067681176120004e-05, 4132.3999999999996, 4305.8926829268294, 0.087424650993852993, 0.088296593956329161, 134, 210.41464, 15.099674, 17.585354, 0.013107792, 3.3691836e-06, 2.41778e-07, 2.8157871e-07, 2.1213255e-10, 62452712.0, 6833.1211, 39.836319, 0.54378068, 0, 'ellipse', array([ 4.01804113,  3.51297069], dtype=float32), 132.86893, 2.3030291, 139)\n",
      " (11.928079192236321, -25.244917690543495, 6.5803590054258621e-05, 3.6746375055685121e-05, 3805.8387096774195, 4323.5806451612898, 0.43541642056743513, 0.26901830840506591, 71, 22.40151, 5.5677719, 8.5984898, 0.0091198031, 4.2778458e-07, 1.0632453e-07, 1.641988e-07, 2.5099367e-10, 52366336.0, 57642.789, 5.5209723, 0.88575679, 0, 'ellipse', array([ 7.73223829,  3.64675999], dtype=float32), 22.646912, 1.998345, 140)\n",
      " (11.787260034458793, -25.238927064781375, 4.8849976835185771e-05, 4.5013532215421037e-05, 4737.8461538461543, 4367.2307692307695, 0.32355557667324319, 0.3291345321931658, 54, 9.9366961, 3.6055555, 3.0633037, 0.0055016913, 2.9906144e-07, 1.0851527e-07, 9.2195229e-08, 1.6963519e-10, 33226272.0, 13283.275, 3.3652139, 2.0199223, 0, 'ellipse', array([ 4.0375452,  2.9362061], dtype=float32), 133.41008, 0.56819326, 141)\n",
      " (11.919451040788621, -25.236842532367223, 1.0105372409086044e-05, 8.6135179557800257e-06, 3862.9263873159684, 4382.6840317100796, 0.06686770086253091, 0.06304333984371624, 331, 886.21295, 30.232437, 27.787071, 0.016348219, 1.6397848e-05, 5.5940092e-07, 5.1415196e-07, 3.0545072e-10, 54044468.0, 4455.2476, 139.73692, 0.88699216, 0, 'ellipse', array([ 6.02490568,  5.55147743], dtype=float32), 21.955732, 2.1733937, 142)\n",
      " (11.886660801711947, -25.236486702431357, 6.4041046167417903e-05, 5.7195217362249196e-05, 4079.9545454545455, 4385.318181818182, 0.42386100524299763, 0.41850957331917016, 62, 14.376116, 4.6904244, 7.6238837, 0.0089872582, 2.3176725e-07, 7.5617628e-08, 1.2290987e-07, 1.5615127e-10, 62028252.0, 29384.225, 3.692085, 0.67202401, 0, 'ellipse', array([ 6.09037161,  5.75842333], dtype=float32), 141.55821, 2.9374309, 143)\n",
      " (11.948907876059417, -25.236134571965355, 7.7371503907741612e-05, 4.6213539810935345e-05, 3667.9583333333335, 4387.7916666666661, 0.51193792574395047, 0.33839473307125445, 95, 19.375769, 4.898983, 4.6242313, 0.006027915, 5.5693738e-07, 1.4082232e-07, 1.3291897e-07, 3.5249481e-10, 34789852.0, 80345.805, 5.8391724, 1.3861679, 0, 'ellipse', array([ 7.97924519,  4.20421124], dtype=float32), 156.93565, 1.3927915, 144)\n",
      " (11.790219543455015, -25.234597991978674, 1.3432234364785245e-05, 1.0860453681260651e-05, 4718.2805755395684, 4398.9208633093531, 0.088961154040589463, 0.079404694406548515, 263, 426.78787, 21.000004, 14.212142, 0.011225828, 1.4134735e-05, 6.9551061e-07, 4.706902e-07, 3.9988324e-10, 30194260.0, 9445.624, 87.670441, 1.9911771, 0, 'ellipse', array([ 5.98692274,  4.18585539], dtype=float32), 144.62163, 0.83803624, 145)\n",
      " (11.936872643641147, -25.227320713488464, 4.9537219554807166e-05, 4.7216220600887482e-05, 3747.590909090909, 4452.318181818182, 0.32776147058666538, 0.34561339443826, 169, 55.628441, 8.1240444, 10.37156, 0.0097353272, 1.249326e-06, 1.8250066e-07, 2.3292868e-07, 8.072053e-10, 44526760.0, 148537.61, 12.832692, 1.2892162, 0, 'ellipse', array([ 9.1825161 ,  7.10252476], dtype=float32), 128.91528, 2.0880468, 146)\n",
      " (11.876667981486111, -25.227046505227044, 3.1313873879668108e-05, 2.7236305072619871e-05, 4146.0979020979021, 4454.3916083916083, 0.20728449645139335, 0.19927860631651129, 167, 124.08224, 11.958269, 18.917757, 0.01455023, 1.9207012e-06, 1.8510524e-07, 2.9283285e-07, 2.2684027e-10, 64602576.0, 5958.1763, 22.830915, 0.83484644, 0, 'ellipse', array([ 8.82787895,  5.33630943], dtype=float32), 137.4295, 2.7404435, 147)\n",
      " (11.956202982602074, -25.2265520593476, 3.75450046963266e-05, 3.1927254482866374e-05, 3619.6363636363635, 4457.8831168831166, 0.24839446733903969, 0.23374749273716589, 236, 95.074471, 10.246956, 9.9255295, 0.0098172044, 2.6065859e-06, 2.8093487e-07, 2.7212087e-07, 2.8821279e-10, 36474712.0, 13815.973, 22.279547, 1.6640215, 0, 'ellipse', array([ 6.59677124,  6.09135771], dtype=float32), 20.128532, 1.2698212, 148)\n",
      " (11.92935635731067, -25.222973707782653, 1.7428947927555782e-05, 1.3138961968195417e-05, 3797.3320388349516, 4484.1436893203881, 0.11533753976436856, 0.096177620861453761, 288, 521.88739, 23.302364, 21.112602, 0.015078045, 9.8784303e-06, 4.4118724e-07, 3.9962524e-07, 4.954302e-10, 52831008.0, 53537.0, 91.950447, 1.2393436, 0, 'ellipse', array([ 7.85753298,  6.54154301], dtype=float32), 3.7853885, 1.9282805, 149)\n",
      " (11.891574042294122, -25.219915273176174, 4.3454033233913947e-05, 6.8131593032205728e-05, 4047.4285714285716, 4506.5714285714284, 0.28762118754002586, 0.49854014287029713, 84, 21.267714, 5.2915092, 6.732286, 0.0083133765, 3.7609936e-07, 9.3580148e-08, 1.1905409e-07, 3.3485673e-10, 56548124.0, 142901.31, 5.693593, 0.9753198, 0, 'ellipse', array([ 7.95762682,  4.48951769], dtype=float32), 97.269409, 2.0427883, 150)\n",
      " (11.973309903714796, -25.219096925538324, 3.0971835222715072e-05, 2.9295452204536332e-05, 3506.3650793650795, 4512.3650793650795, 0.20488071771524119, 0.21449324142758996, 172, 86.663414, 9.6436539, 6.3365831, 0.0078027891, 2.5163877e-06, 2.800829e-07, 1.8399112e-07, 5.0067789e-10, 34439612.0, 83573.031, 23.665186, 2.2573378, 0, 'ellipse', array([ 5.1077795,  4.8782382], dtype=float32), 87.844116, 0.73710573, 151)\n",
      " (11.817503727371054, -25.218536775273979, 5.5354454277178888e-05, 3.9249539188546123e-05, 4537.75, 4516.5500000000002, 0.36657195746556681, 0.28701045277102821, 57, 16.243616, 4.4721398, 3.7563832, 0.0060091726, 4.7107233e-07, 1.2969902e-07, 1.0893683e-07, 3.1395336e-10, 34482216.0, 82661.523, 5.2015786, 1.6246612, 0, 'ellipse', array([ 5.47285843,  3.01045203], dtype=float32), 31.689875, 0.83279651, 152)\n",
      " (11.953534123530154, -25.214087426767961, 3.1572612140706724e-05, 2.3023436114044671e-05, 3637.2550607287449, 4549.0971659919032, 0.20892144341223684, 0.16857222350699885, 337, 248.60233, 16.155499, 12.397669, 0.010787739, 7.5866919e-06, 4.9338735e-07, 3.783444e-07, 1.0005149e-09, 32768212.0, 81828.711, 53.740566, 1.8664069, 0, 'ellipse', array([ 9.9228096 ,  7.85734177], dtype=float32), 168.61005, 1.576985, 153)\n",
      " (11.866207301724211, -25.211974700153505, 3.7361133273350333e-05, 3.2300895604464586e-05, 4215.3541666666661, 4564.6666666666661, 0.24736385027244978, 0.23631527121142426, 88, 42.355186, 6.9282064, 5.644815, 0.0067643556, 1.1826702e-06, 1.934541e-07, 1.5761835e-07, 1.8930109e-10, 35813184.0, 2870.9375, 12.002726, 1.149042, 0, 'ellipse', array([ 5.34341764,  4.6911068 ], dtype=float32), 145.32605, 1.4524127, 154)\n",
      " (11.805133910129809, -25.211034559835905, 5.0653975996794998e-05, 4.9596643520999351e-05, 4619.6666666666661, 4571.3999999999996, 0.33554819712298922, 0.36270588023398886, 54, 11.903179, 3.872987, 3.0968204, 0.0053765499, 3.6967742e-07, 1.2028387e-07, 9.6178049e-08, 1.850316e-10, 32198828.0, 26687.264, 4.0195365, 2.0370274, 0, 'ellipse', array([ 4.75552464,  3.21636224], dtype=float32), 128.97871, 0.63997585, 155)\n",
      " (11.865093259968447, -25.205756236863895, 1.3664595527984602e-05, 1.1224653192698497e-05, 4222.7356321839079, 4610.1666666666661, 0.090476469646091573, 0.082118909002019791, 207, 194.84224, 14.422209, 13.157762, 0.010764729, 5.5805413e-06, 4.1307567e-07, 3.7685581e-07, 3.3410086e-10, 34914576.0, 11923.969, 41.198864, 1.2991199, 0, 'ellipse', array([ 3.70822763,  3.10300756], dtype=float32), 151.61412, 0.87037039, 156)\n",
      " (11.85237408288635, -25.20400017584565, 5.0988122836770344e-05, 6.4436084400654181e-05, 4306.9444444444443, 4623.0, 0.33767745423665474, 0.47140452079111128, 68, 13.688969, 4.2426453, 4.3110309, 0.0063110897, 4.0800941e-07, 1.2645565e-07, 1.2849333e-07, 2.2485255e-10, 33550622.0, 32164.654, 4.2124138, 1.4508944, 0, 'ellipse', array([ 6.07204103,  4.19553757], dtype=float32), 77.733589, 1.1595891, 157)\n",
      " (11.843803353963585, -25.200218013968094, 3.1915354641753879e-05, 2.0519579841504765e-05, 4363.6950672645744, 4650.6591928251128, 0.2113466080318176, 0.15008015679632081, 261, 205.68913, 14.93319, 17.310873, 0.013057795, 5.9700092e-06, 4.3342834e-07, 5.0243818e-07, 3.8729822e-10, 34453736.0, 5469.8281, 39.180309, 1.6495713, 0, 'ellipse', array([ 9.68526363,  6.40694046], dtype=float32), 163.69769, 1.5918008, 158)\n",
      " (11.880255504462033, -25.191055255679853, 3.6114086606531259e-05, 4.873871380084438e-05, 4122.3589743589746, 4717.7435897435898, 0.23912831919369637, 0.35661854957197647, 100, 33.640648, 6.2450018, 5.3593526, 0.0069877123, 1.0071835e-06, 1.8700972e-07, 1.6045624e-07, 6.3300365e-10, 33400714.0, 124362.05, 9.6899347, 1.6804458, 0, 'ellipse', array([ 6.73547268,  4.3981204 ], dtype=float32), 80.374649, 1.0796223, 159)\n",
      " (11.878134882751663, -25.191027951739162, 5.3616849257309696e-05, 4.6513959116367687e-05, 4136.3999999999996, 4717.9428571428571, 0.355022275817646, 0.34033082858604757, 103, 29.496752, 5.9160838, 5.5032482, 0.0070496313, 8.9440152e-07, 1.7939303e-07, 1.668697e-07, 3.347479e-10, 32979316.0, 50912.887, 8.4260798, 1.6872143, 0, 'ellipse', array([ 6.33923912,  6.0001502 ], dtype=float32), 160.13586, 1.2184511, 160)\n",
      " (11.844142136671266, -25.190324356735282, 5.6601479199613891e-05, 5.616985064449409e-05, 4361.4736842105267, 4723.0526315789475, 0.37489367691341613, 0.41088839774874941, 73, 14.549026, 4.3589039, 4.4509735, 0.0065184832, 4.4013211e-07, 1.3186482e-07, 1.3464931e-07, 2.405755e-10, 33056042.0, 33831.219, 4.4349155, 1.9172988, 0, 'ellipse', array([ 6.33672953,  3.57056117], dtype=float32), 129.91751, 0.82697004, 161)\n",
      " (11.846731030105429, -25.189694447359727, 7.3513340174358177e-05, 5.5688189004143851e-05, 4344.3333333333339, 4727.6666666666661, 0.48686449555953004, 0.40734006177444826, 63, 11.282068, 3.8729877, 3.7179313, 0.0058775414, 3.528767e-07, 1.2114369e-07, 1.1628819e-07, 4.2848844e-10, 31971702.0, 106413.29, 3.6233079, 1.9109384, 0, 'ellipse', array([ 5.69913626,  4.68186378], dtype=float32), 12.311783, 0.90104389, 162)\n",
      " (11.846472498680473, -25.181822336189622, 1.074708463022489e-05, 8.2629167295067418e-06, 4346.0613138686131, 4785.2671532846716, 0.071180793402163545, 0.060440617538915831, 480, 792.17609, 28.670547, 29.823931, 0.016986471, 2.3876879e-05, 8.6416685e-07, 8.9891938e-07, 5.3883548e-10, 33177538.0, 6199.3691, 121.32504, 2.1455348, 0, 'ellipse', array([ 5.58952665,  4.74495459], dtype=float32), 178.42773, 0.80010456, 163)\n",
      " (11.904105580275894, -25.178787292022498, 5.1939426544578282e-05, 5.4023776542067026e-05, 3964.4299999999998, 4807.5, 0.34387643129457501, 0.39534794801511453, 288, 89.746284, 10.000006, 10.253718, 0.010420493, 3.00135e-06, 3.349262e-07, 3.4291114e-07, 2.1188074e-09, 29901970.0, 182244.56, 20.788147, 2.1617563, 0, 'ellipse', array([ 12.30856037,   9.77728176], dtype=float32), 116.11343, 1.6915495, 164)\n",
      " (11.826316963728365, -25.168484450124595, 3.8741638036299264e-05, 3.0840030341039437e-05, 4479.567010309278, 4882.8144329896913, 0.25666054270004679, 0.22554943339127931, 565, 109.27979, 11.874355, 31.720211, 0.017919993, 3.5285364e-06, 3.8343245e-07, 1.0242143e-06, 1.3064573e-09, 30970288.0, 35419.008, 16.314644, 2.8560901, 0, 'ellipse', array([ 7.60008001,  6.64522934], dtype=float32), 172.16678, 0.82941318, 165)\n",
      " (11.837201150492598, -25.167910182284711, 4.2056683783542326e-05, 5.5509554957922091e-05, 4407.4888888888891, 4887.0444444444438, 0.27866032638939942, 0.40607188508693071, 127, 37.737114, 6.708209, 7.2628851, 0.0084470455, 1.1779285e-06, 2.0941009e-07, 2.2670413e-07, 6.117461e-10, 32036846.0, 78007.43, 9.851222, 2.7184341, 0, 'ellipse', array([ 8.39463043,  5.26889896], dtype=float32), 107.08813, 0.81549376, 166)\n",
      " (11.881881563279027, -25.16685279056848, 2.0090460502331098e-05, 1.7297131321925008e-05, 4111.5955555555556, 4894.8355555555554, 0.13305122418751125, 0.12656257364687917, 304, 270.47668, 16.881947, 14.523314, 0.012180966, 8.2288834e-06, 5.1361769e-07, 4.4185194e-07, 3.9942921e-10, 32869184.0, 11085.621, 55.108131, 2.4840858, 0, 'ellipse', array([ 6.55365229,  5.03329802], dtype=float32), 39.417381, 0.7706908, 167)\n",
      " (12.000750202297294, -25.164871354303731, 3.1312511696413026e-05, 2.2206222588749824e-05, 3324.3747368421054, 4909.0, 0.20722994940797435, 0.16266478965917486, 2497, 1090.1777, 33.911659, 59.822315, 0.02287855, 5.5214638e-05, 1.7187286e-06, 3.0298434e-06, 3.6984515e-09, 19744360.0, 22887.994, 124.12613, 4.600749, 0, 'ellipse', array([ 13.60981083,  10.55819607], dtype=float32), 171.42331, 0.86850256, 168)\n",
      " (11.857077830620833, -25.16116078130996, 7.0980278483290249e-05, 3.8380539283622284e-05, 4275.8666666666668, 4936.4666666666672, 0.47014576147921616, 0.28073976350788143, 55, 12.145978, 3.8729868, 2.854022, 0.0051706554, 3.9000503e-07, 1.2436325e-07, 9.16421e-08, 2.4573588e-10, 31143132.0, 61565.918, 4.1905422, 2.7873783, 0, 'ellipse', array([ 5.81276131,  2.58685231], dtype=float32), 22.440193, 0.46372434, 169)\n",
      " (11.884802867370828, -25.46961508255713, 9.7816157357044631e-05, 7.8739314204767652e-05, 4092.2598187311178, 2679.4954682779457, 0.64617021307140021, 0.57615077831769668, 3247, 263.673, 18.193424, 67.326988, 0.026193138, 9.5654341e-06, 6.6010034e-07, 2.4424642e-06, 2.8799241e-09, 27565190.0, 30682.121, 28.502485, 7.3287716, 0, 'ellipse', array([ 35.4132843 ,  31.28285789], dtype=float32), 168.87231, 1.5138535, 170)\n",
      " (11.944115555520444, -25.45980547259764, 7.1451532194899414e-05, 6.32430622466984e-05, 3700.4086242299795, 2751.1848049281316, 0.47184018415691753, 0.46297125014143603, 4813, 465.96429, 26.870102, 256.03571, 0.049135212, 1.3017234e-05, 7.5085518e-07, 7.1526442e-06, 9.8252491e-09, 35795952.0, 48688.988, 27.370163, 7.2225499, 0, 'ellipse', array([ 32.36700058,  29.4557457 ], dtype=float32), 39.175926, 1.4250314, 171)\n",
      " (11.856081594330913, -25.446424251748237, 0.000128382055891052, 0.00013515221317206283, 4282.0277777777774, 2849.1666666666665, 0.84846094426211494, 0.98874842947543584, 2235, 50.56139, 8.185359, 16.438612, 0.010474478, 5.0922772e-06, 8.4240679e-07, 1.6556105e-06, 5.6356718e-08, 9929033.0, 337923.5, 9.8255396, 5.9322052, 0, 'ellipse', array([ 18.3003521 ,  14.66595268], dtype=float32), 67.092567, 0.92055011, 172)\n",
      " (11.86585517933519, -25.445247860584665, 0.00010306145395766464, 0.00017689882738736173, 4217.4523809523807, 2857.7857142857142, 0.68113748812083941, 1.2942992545831657, 949, 30.744745, 6.4807487, 11.255254, 0.010119488, 1.7520797e-06, 3.7213795e-07, 6.4141375e-07, 1.6730375e-08, 17547572.0, 457431.78, 6.8859372, 5.8446407, 0, 'ellipse', array([ 25.26270866,  13.05364227], dtype=float32), 95.919067, 1.0356827, 173)\n",
      " (11.946463773910146, -25.415862838098448, 8.2558642580110586e-05, 8.744004888683321e-05, 3684.7457627118642, 3072.7118644067796, 0.54532734521399107, 0.6400637569945502, 336, 38.042923, 7.681159, 20.957077, 0.014298353, 7.670759e-07, 1.5488082e-07, 4.2256659e-07, 5.4706784e-10, 49594732.0, 54567.266, 6.7224507, 4.7806602, 0, 'ellipse', array([ 15.13473892,  12.09919071], dtype=float32), 68.081619, 0.94353169, 174)\n",
      " (11.964920784304516, -25.404711995996301, 6.3683669909053719e-05, 6.3944205969335144e-05, 3562.7155963302753, 3154.2385321100919, 0.42063829860626356, 0.46814151942544413, 864, 114.29662, 13.076718, 56.703377, 0.023854261, 2.2955894e-06, 2.6264041e-07, 1.1388584e-06, 6.1840344e-10, 49789664.0, 17094.342, 13.321594, 4.6167369, 0, 'ellipse', array([ 14.7336092 ,  13.09534454], dtype=float32), 77.646606, 1.0028977, 175)\n",
      " (11.918923518816351, -25.399119063598654, 7.0853639130064039e-05, 7.1717386759928559e-05, 3866.7254901960782, 3195.2941176470586, 0.46819524853617622, 0.52488560306710497, 454, 45.053894, 8.0000105, 18.946104, 0.012800047, 1.4921141e-06, 2.6495613e-07, 6.2746517e-07, 9.8203501e-10, 30194672.0, 42627.398, 8.2849674, 3.5933874, 0, 'ellipse', array([ 11.61286926,   9.60280895], dtype=float32), 63.648804, 0.97958833, 176)\n",
      " (11.816109282442017, -25.393018423558626, 0.00011160848718283489, 0.00010302503373438299, 4546.3333333333339, 3239.848484848485, 0.73813438005799981, 0.75346912660052112, 315, 23.388899, 5.7445693, 9.6111012, 0.0087997708, 8.6300616e-07, 2.1206583e-07, 3.5463145e-07, 2.7228582e-09, 27101660.0, 206601.58, 5.5438824, 3.7355564, 0, 'ellipse', array([ 15.78583813,   9.01316071], dtype=float32), 46.159054, 1.0643779, 177)\n",
      " (11.834127034247915, -25.392248462726442, 6.5323349035750766e-05, 6.2125357889186716e-05, 4427.2350000000006, 3245.5349999999999, 0.43197091915953933, 0.45441597133049072, 865, 153.83124, 14.142155, 46.168766, 0.022976547, 3.8395019e-06, 3.5298231e-07, 1.1523346e-06, 8.3266732e-10, 40065416.0, 20990.184, 19.597017, 3.4187739, 0, 'ellipse', array([ 21.09424782,  16.20492744], dtype=float32), 50.6623, 1.8026605, 178)\n",
      " (11.956004213327841, -25.385758834204815, 7.6134215738932198e-05, 7.3432395215178303e-05, 3621.5757575757575, 3292.9545454545455, 0.50300319663210757, 0.53758285422100016, 537, 58.701286, 9.110445, 24.298712, 0.014208822, 1.8479294e-06, 2.872217e-07, 7.6492881e-07, 6.4647376e-09, 31765978.0, 267824.34, 9.7756147, 3.6081727, 0, 'ellipse', array([ 13.32021904,  12.02182388], dtype=float32), 65.255188, 1.1690478, 179)\n",
      " (11.697479828424759, -25.363937315675788, 6.163357962840621e-05, 6.1339355283962504e-05, 5330.7928348909663, 3451.8909657320874, 0.40813371430886036, 0.44825826408441571, 5277, 698.00476, 28.653118, 122.99525, 0.033820439, 3.5829959e-05, 1.4794431e-06, 6.3135881e-06, 2.815765e-08, 19481038.0, 86717.195, 57.571751, 6.7860217, 0, 'ellipse', array([ 34.08296585,  31.01316261], dtype=float32), 93.252678, 1.5970011, 180)\n",
      " (11.836838434824825, -25.358171534790603, 5.5715485103746687e-05, 6.4125119333624525e-05, 4409.3999999999996, 3494.8857142857141, 0.3685603542089666, 0.46907886908593355, 108, 26.125273, 5.9160862, 8.8747272, 0.0087545374, 6.030694e-07, 1.3656596e-07, 2.0486205e-07, 2.3636176e-10, 43320508.0, 25922.408, 6.3683295, 2.1248696, 0, 'ellipse', array([ 8.80380249,  5.88155222], dtype=float32), 64.086327, 1.1288276, 181)\n",
      " (11.875710826588, -25.354046162588752, 7.1903433278563966e-05, 5.6259176105299957e-05, 4152.375, 3525.125, 0.47547262670923374, 0.41162312101005227, 98, 23.342909, 5.6568613, 8.6570921, 0.0090408139, 4.0841346e-07, 9.8974233e-08, 1.5146668e-07, 1.8574363e-10, 57155092.0, 36739.602, 5.7394505, 1.6991284, 0, 'ellipse', array([ 8.47890568,  6.48185205], dtype=float32), 28.454149, 1.4543604, 182)\n",
      " (11.803376962752662, -25.351615621684228, 4.8909368594252101e-05, 4.7160003383339699e-05, 4630.6785714285716, 3542.75, 0.32361782791213045, 0.34487871278270177, 141, 38.074192, 7.0000086, 10.925807, 0.010843365, 9.1144483e-07, 1.6757737e-07, 2.615491e-07, 4.9978177e-10, 41773448.0, 68212.242, 8.6199446, 2.5716, 0, 'ellipse', array([ 5.54580021,  5.06052303], dtype=float32), 67.04818, 0.68668121, 183)\n",
      " (11.735688325000407, -25.342410223887573, 5.6278055380332148e-05, 4.4480421017567551e-05, 5078.3404255319147, 3609.7234042553191, 0.37252469087252393, 0.32505475759717228, 574, 84.218834, 9.9498816, 14.781168, 0.011671011, 2.6490777e-06, 3.1299192e-07, 4.6493713e-07, 7.4049633e-10, 31791756.0, 43973.695, 17.045033, 4.5090046, 0, 'ellipse', array([ 7.9976244 ,  6.27965832], dtype=float32), 152.41258, 0.52389783, 184)\n",
      " (11.920097080431786, -25.3367129999958, 3.9784568633294271e-05, 3.7782510499795308e-05, 3858.8461538461538, 3651.9230769230771, 0.26303089669681867, 0.27652831823752422, 87, 15.945998, 4.7958388, 7.0540018, 0.0082765259, 2.789987e-07, 8.3913804e-08, 1.2342014e-07, 3.7094094e-10, 57154380.0, 158147.92, 4.203434, 1.4252594, 0, 'ellipse', array([ 3.04056716,  2.79219842], dtype=float32), 63.013687, 0.68145204, 185)\n",
      " (11.831502738277203, -25.333793324036407, 5.2112138360982385e-05, 8.3602507107372048e-05, 4444.75, 3673.25, 0.34487871278270177, 0.6115908496267366, 85, 15.451296, 5.2915154, 12.548704, 0.011517974, 2.6672311e-07, 9.1344056e-08, 2.1661803e-07, 3.9202605e-10, 57930100.0, 90355.195, 3.3251913, 1.5500714, 0, 'ellipse', array([ 9.81354427,  5.2845521 ], dtype=float32), 99.962791, 1.5486172, 186)\n",
      " (11.771081620190582, -25.322493868570326, 6.4881482719769679e-05, 7.3754759849720131e-05, 4844.409090909091, 3755.681818181818, 0.42958316770000238, 0.53930765088171029, 102, 17.79318, 4.6904192, 4.2068205, 0.0058211652, 5.8964196e-07, 1.5554852e-07, 1.3940834e-07, 1.4230597e-09, 30176244.0, 305191.31, 5.5148849, 2.7636745, 0, 'ellipse', array([ 8.24399185,  5.11514473], dtype=float32), 119.88096, 0.78323048, 187)\n",
      " (11.800874948683834, -25.321837784692704, 4.9789264394917154e-05, 4.4328334393384239e-05, 4647.3582089552237, 3760.626865671642, 0.32951052389671531, 0.32414929420610861, 136, 56.412067, 8.185359, 10.587934, 0.0097743236, 1.3166796e-06, 1.9105076e-07, 2.4712651e-07, 2.6376668e-10, 42844188.0, 22952.049, 12.917261, 1.9247363, 0, 'ellipse', array([ 8.33681965,  7.70249081], dtype=float32), 140.99376, 1.3877885, 188)\n",
      " (12.058672135611896, -25.319486620845929, 0.00010871825967484483, 0.00010686055052033794, 2942.25, 3777.25, 0.71807033081722693, 0.78284559283565613, 227, 10.596956, 3.4641032, 1.4030435, 0.0033003157, 1.3401717e-06, 4.3848593e-07, 1.7743955e-07, 2.4806492e-09, 7907163.5, 108968.15, 4.2949166, 5.4539881, 0, 'ellipse', array([ 8.97715187,  6.42539835], dtype=float32), 52.747425, 0.46417728, 189)\n",
      " (11.902302782641481, -25.312371494473734, 5.3457622939845351e-05, 4.6142699481777072e-05, 3976.5, 3830.0555555555557, 0.35355339059333346, 0.33767745423756423, 31, 9.5935574, 4.2426496, 8.4064426, 0.0087473998, 1.6793021e-07, 7.4265635e-08, 1.4715039e-07, 2.3351035e-10, 57128240.0, 68445.086, 2.3829234, 0.80841136, 0, 'ellipse', array([ 5.39921713,  3.09365082], dtype=float32), 137.60457, 1.6851842, 190)\n",
      " (11.946010236674454, -25.30140468301224, 5.637211665110442e-05, 8.5278487020445937e-05, 3687.3571428571427, 3910.2142857142858, 0.37262366605136776, 0.62416124477158519, 66, 10.04041, 3.7416611, 3.9595897, 0.0053006196, 2.5258819e-07, 9.4137981e-08, 9.9612031e-08, 5.1407639e-10, 39750116.0, 198120.17, 3.1671631, 1.1945484, 0, 'ellipse', array([ 7.35118151,  3.54143476], dtype=float32), 69.78875, 1.423781, 191)\n",
      " (11.894393727807229, -25.299358843453469, 2.3019212092023622e-05, 2.1726802824417746e-05, 4028.8076923076924, 3925.2756410256411, 0.15226629644848799, 0.15898824328041883, 121, 214.54291, 17.175585, 80.457092, 0.027000265, 4.0449554e-06, 3.2383767e-07, 1.5169242e-06, 1.1681113e-09, 53039624.0, 36760.824, 21.429651, 0.62949449, 0, 'ellipse', array([ 6.02883196,  5.6297636 ], dtype=float32), 64.575645, 3.0849524, 192)\n",
      " (11.900448753938999, -25.297066945597678, 2.3986476778148358e-05, 2.0496046104767629e-05, 3988.75, 3942.0416666666665, 0.15866193970532549, 0.14999035462824395, 67, 79.695221, 11.090556, 43.304783, 0.020860536, 1.2986211e-06, 1.8072302e-07, 7.0564465e-07, 7.4705514e-10, 61369108.0, 57855.301, 10.434893, 0.63734025, 0, 'ellipse', array([ 2.42188549,  2.10507607], dtype=float32), 146.88617, 1.1809136, 193)\n",
      " (11.983527918584581, -25.296168183386147, 6.7803905100305428e-05, 7.3856813536110621e-05, 3439.1428571428569, 3948.3809523809523, 0.44815426100694822, 0.54074858030617179, 100, 17.330784, 4.5825796, 3.6692154, 0.0058070943, 4.3709181e-07, 1.1558309e-07, 9.2539608e-08, 3.2213857e-10, 39650216.0, 122936.05, 5.5866237, 2.0943556, 0, 'ellipse', array([ 8.06225777,  5.31267262], dtype=float32), 59.036243, 1.0416293, 194)\n",
      " (11.739311489283718, -25.2952497562529, 8.9771801411231422e-05, 8.0786082929051872e-05, 5054.7530864197524, 3954.8271604938273, 0.59452638800394197, 0.59047722322929985, 649, 70.961502, 9.0000038, 10.038495, 0.0087265158, 4.0447867e-06, 5.1391959e-07, 5.7219154e-07, 4.3806532e-09, 17543942.0, 133446.38, 16.56205, 3.570745, 0, 'ellipse', array([ 17.68585777,  14.10884571], dtype=float32), 44.118752, 1.4746152, 195)\n",
      " (11.898218547140985, -25.292229743816304, 2.6557781046321338e-05, 2.5837038137410673e-05, 4003.5, 3977.4375, 0.17567755492882497, 0.18906991695394026, 184, 197.08061, 18.248322, 135.91939, 0.034780808, 3.7656532e-06, 3.4869026e-07, 2.5970351e-06, 2.4292994e-09, 52336368.0, 47088.645, 15.529692, 0.58058488, 0, 'ellipse', array([ 7.70404816,  6.79396343], dtype=float32), 62.951954, 4.1536903, 196)\n",
      " (11.992992839856845, -25.291447359268989, 8.8669495928783704e-05, 5.2415783173387354e-05, 3376.5, 3982.875, 0.58630196997819439, 0.38400642898250226, 72, 13.939348, 4.0000024, 2.0606523, 0.0043218685, 4.0806839e-07, 1.1710317e-07, 6.0324702e-08, 2.0185496e-10, 34159344.0, 89062.68, 5.2080507, 2.3851166, 0, 'ellipse', array([ 7.1609869 ,  4.41074181], dtype=float32), 166.32118, 0.78543705, 197)\n",
      " (12.010331463957403, -25.286734348446167, 0.00010660977561194329, 0.00010736848736314641, 3261.7600000000002, 4017.2600000000002, 0.70459066130570136, 0.78628747923403353, 486, 36.659824, 7.0710778, 13.340174, 0.01188727, 1.103387e-06, 2.1285145e-07, 4.0151244e-07, 1.2670788e-09, 33224810.0, 100582.94, 7.7118702, 2.9870052, 0, 'ellipse', array([ 18.79832649,  12.17522717], dtype=float32), 52.748329, 1.688266, 198)\n",
      " (11.897419156781645, -25.285530523014248, 2.6517904878176068e-05, 3.7911315025951353e-05, 4008.7836538461538, 4026.4567307692309, 0.17541584830951251, 0.2774172014233045, 152, 96.874435, 14.422241, 111.12556, 0.032278936, 1.6891029e-06, 2.5146753e-07, 1.9375855e-06, 1.0914115e-09, 57352600.0, 27679.086, 8.3677464, 0.53217077, 0, 'ellipse', array([ 12.00309181,   7.58935213], dtype=float32), 90.414192, 5.9782853, 199)\n",
      " (11.881180008368196, -25.286079431270828, 2.7989967632535695e-05, 2.206412692018489e-05, 4116.2222222222226, 4022.4444444444443, 0.18518518518430938, 0.16144070161271884, 41, 46.74007, 8.7749815, 30.25993, 0.017187709, 7.6342849e-07, 1.4332734e-07, 4.9425029e-07, 4.8101512e-10, 61223900.0, 48383.695, 7.1156216, 0.49643421, 0, 'ellipse', array([ 2.40692091,  1.99612379], dtype=float32), 21.255224, 1.4717759, 200)\n",
      " (11.8834345010594, -25.283548046155513, 2.0429022711709877e-05, 1.8536219663189968e-05, 4101.3066037735844, 4040.9669811320755, 0.13516194441308471, 0.13563013577095262, 146, 377.84293, 22.000023, 106.15709, 0.032288518, 6.1662754e-06, 3.5904839e-07, 1.7324496e-06, 1.063681e-09, 61275712.0, 32680.9, 33.32069, 0.48663116, 0, 'ellipse', array([ 5.97873402,  5.848948  ], dtype=float32), 130.46667, 4.0506277, 201)\n",
      " (11.88331515474262, -25.281790150252817, 2.1702049020078107e-05, 2.2434068096544024e-05, 4102.0962962962967, 4053.8296296296298, 0.14358684598482796, 0.16415080247224978, 168, 187.47096, 17.204681, 108.52904, 0.032808058, 3.0416447e-06, 2.7917019e-07, 1.7608421e-06, 2.4597842e-09, 61634736.0, 84059.641, 16.367775, 0.47969064, 0, 'ellipse', array([ 5.91448212,  4.77572489], dtype=float32), 115.41564, 3.6931376, 202)\n",
      " (11.783340015640036, -25.279755504730176, 8.1414596543538664e-05, 4.1173238553682268e-05, 4763.5666666666666, 4068.4666666666667, 0.53889461623566604, 0.3008629563746581, 91, 23.348867, 5.4772315, 6.6511326, 0.0081706401, 5.7216522e-07, 1.3422071e-07, 1.6298637e-07, 2.4268579e-10, 40807908.0, 34336.762, 6.2757297, 1.947866, 0, 'ellipse', array([ 9.15825272,  4.35619259], dtype=float32), 16.867071, 1.0808851, 203)\n",
      " (11.961252301506665, -25.277679383069533, 8.7335498246687848e-05, 5.2749001039131826e-05, 3586.4285714285716, 4083.7619047619046, 0.57763074055401376, 0.38630033024355726, 83, 15.596641, 4.582582, 5.4033599, 0.0075099207, 2.905492e-07, 8.5368775e-08, 1.0065897e-07, 1.4305518e-10, 53679864.0, 15929.15, 4.4810247, 1.4084624, 0, 'ellipse', array([ 8.2209959 ,  4.86626387], dtype=float32), 18.722589, 1.4969026, 204)\n",
      " (11.888350970537529, -25.270138986481953, 4.6627401475873853e-05, 5.5056247855844731e-05, 4068.7755102040815, 4139.0816326530612, 0.30851487728523352, 0.40286017687412823, 85, 21.153322, 7.0000181, 27.846678, 0.016001731, 3.5604825e-07, 1.1782356e-07, 4.6870937e-07, 6.0969108e-10, 59411392.0, 69331.828, 3.3324988, 0.45980504, 0, 'ellipse', array([ 8.69836807,  6.1551671 ], dtype=float32), 70.79174, 5.3044925, 205)\n",
      " (11.975869288921755, -25.263939717431633, 8.9757756727593119e-05, 4.0187881925390911e-05, 3489.6470588235297, 4184.2352941176468, 0.59374581532983939, 0.29446346451732097, 66, 14.647579, 4.1231084, 2.3524213, 0.0045713643, 4.1473405e-07, 1.1674781e-07, 6.6606852e-08, 2.2232167e-10, 35318004.0, 95846.484, 5.3044624, 1.7886437, 0, 'ellipse', array([ 7.38506985,  3.55877709], dtype=float32), 6.8837709, 0.95539421, 206)\n",
      " (11.969276318068983, -25.263627922366243, 5.5289990918083731e-05, 3.667192608958203e-05, 3533.272727272727, 4186.545454545454, 0.36569664280705183, 0.26856325304652273, 72, 14.504197, 4.1231079, 2.4958026, 0.0043308628, 4.5539218e-07, 1.2947811e-07, 7.8361388e-08, 4.4816101e-10, 31849904.0, 173567.73, 5.1770916, 1.6197096, 0, 'ellipse', array([ 3.71499133,  2.5649569 ], dtype=float32), 16.190338, 0.63527322, 207)\n",
      " (11.988094568449091, -25.250877076633024, 5.7729549764573562e-05, 4.5334200358126964e-05, 3408.6756756756758, 4279.7567567567567, 0.38179352040515369, 0.33200962499904563, 201, 68.057411, 8.6023283, 5.9425864, 0.0070616533, 2.2426668e-06, 2.8368007e-07, 1.958235e-07, 9.836546e-10, 30346644.0, 148109.48, 18.973335, 2.2625291, 0, 'ellipse', array([ 10.61167717,   7.60829163], dtype=float32), 147.81305, 1.3237932, 208)\n",
      " (11.985555714474659, -25.245877761375855, 8.9111725262824848e-05, 6.7775213356213726e-05, 3425.4499999999998, 4316.3500000000004, 0.58938527297505061, 0.49636176323292602, 101, 16.949457, 4.4721389, 3.0505428, 0.005179008, 5.4613298e-07, 1.4410385e-07, 9.8292354e-08, 2.8764008e-10, 31035404.0, 73974.758, 5.7465563, 2.210911, 0, 'ellipse', array([ 8.78779125,  5.44515562], dtype=float32), 33.767189, 1.0429236, 209)\n",
      " (11.960649964441654, -25.243828389754221, 8.033977097987588e-05, 5.0772500042484126e-05, 3590.2727272727275, 4331.454545454546, 0.53150198977891705, 0.37180898774204252, 52, 8.5949116, 3.316628, 2.4050884, 0.0046618748, 2.3646108e-07, 9.1248893e-08, 6.6168198e-08, 2.3289023e-10, 36348104.0, 106785.03, 3.0958633, 1.5473766, 0, 'ellipse', array([ 5.40441275,  3.52777791], dtype=float32), 164.21291, 0.94060564, 210)\n",
      " (11.831912995997854, -25.243474937835238, 4.9890044117262278e-05, 3.920795313661074e-05, 4442.2941176470595, 4334.1176470588234, 0.33030033394516067, 0.28675916062456963, 84, 19.7605, 5.3851748, 9.239501, 0.010337933, 3.3089964e-07, 9.0206925e-08, 1.5472014e-07, 1.0910856e-09, 59717500.0, 415793.03, 4.7494154, 0.99032921, 0, 'ellipse', array([ 4.17557955,  3.44062376], dtype=float32), 158.62729, 1.275781, 211)\n",
      " (11.820740409908932, -25.243428094649015, 6.88997522590995e-05, 7.8433905834174311e-05, 4516.2380952380954, 4334.4285714285716, 0.4562727925767831, 0.57369166373609914, 100, 14.688313, 4.5825806, 6.311687, 0.0067891525, 4.3513322e-07, 1.3575962e-07, 1.8698027e-07, 4.4722182e-10, 33755900.0, 72112.516, 4.0160713, 1.1577199, 0, 'ellipse', array([ 8.57997036,  5.2853694 ], dtype=float32), 119.98786, 1.9389019, 212)\n",
      " (11.92906403309739, -25.242874822125096, 7.6342664868889187e-05, 6.1322904702620917e-05, 3799.3157894736842, 4338.5263157894733, 0.50511308944078337, 0.44887314159495872, 69, 11.25175, 4.3589077, 7.74825, 0.0086449496, 2.1358602e-07, 8.2743931e-08, 1.4708093e-07, 3.3611247e-10, 52680180.0, 105062.09, 2.8738813, 0.93008167, 0, 'ellipse', array([ 6.78527403,  5.66066742], dtype=float32), 155.47775, 2.2211361, 213)\n",
      " (11.962583378512463, -25.220024114662337, 5.302574281351724e-05, 5.365549159463967e-05, 3577.375, 4505.625, 0.35078038000983724, 0.39280640906144981, 37, 6.8648028, 2.8284287, 1.1351973, 0.0030275083, 2.4198761e-07, 9.9711585e-08, 4.0016253e-08, 2.3578473e-10, 28368406.0, 149050.83, 2.892849, 1.9511473, 0, 'ellipse', array([ 3.33438611,  2.97499919], dtype=float32), 86.437492, 0.53807157, 214)\n",
      " (11.992987061641189, -25.204635519511047, 0.00011596146318026967, 6.3533375996627228e-05, 3376.0230769230766, 4618.084615384616, 0.76734117024443549, 0.46550025459418976, 892, 101.74345, 11.401766, 28.256554, 0.016013198, 3.4502293e-06, 3.8702061e-07, 9.5821008e-07, 4.7585353e-09, 29488894.0, 145487.17, 15.932831, 3.1464632, 0, 'ellipse', array([ 26.51091957,  15.4793272 ], dtype=float32), 170.01791, 2.1460733, 215)\n",
      " (11.749378966075442, -25.202466496424318, 9.9874514118525326e-05, 7.6155795746046806e-05, 4988.8333333333339, 4633.8000000000002, 0.66178770233545947, 0.55657683905974409, 262, 23.03154, 5.4772339, 6.9684591, 0.0095751621, 1.2773498e-06, 3.038173e-07, 3.8647698e-07, 1.6687819e-09, 18030722.0, 73808.172, 6.0958843, 3.9069805, 0, 'ellipse', array([ 11.4464817 ,   8.41831589], dtype=float32), 152.56233, 0.83750254, 216)\n",
      " (11.867910959490578, -25.195019974310711, 9.2004672723078329e-05, 6.8266221973090069e-05, 4204.090909090909, 4688.7272727272721, 0.60922041302455909, 0.49943619602527178, 53, 7.8470001, 3.3166292, 3.1530001, 0.0054574721, 2.2874219e-07, 9.66808e-08, 9.1910813e-08, 1.7307319e-10, 34304996.0, 25440.004, 2.637114, 1.6010445, 0, 'ellipse', array([ 6.95457315,  3.61551261], dtype=float32), 35.018764, 1.043988, 217)\n",
      " (11.998864618472654, -25.189529783560726, 7.1794345389619707e-05, 5.2434848903715192e-05, 3337.0164835164833, 4728.5824175824182, 0.47504283708030925, 0.38407590643510048, 871, 157.17676, 13.490746, 24.823242, 0.015259315, 5.6420745e-06, 4.8439983e-07, 8.9106425e-07, 1.8617543e-09, 27857972.0, 55629.156, 25.949608, 3.7533021, 0, 'ellipse', array([ 19.4427948 ,  15.27241325], dtype=float32), 166.07719, 1.5303769, 218)\n",
      " (11.786598786555777, -25.17504957854511, 0.00012369693266478521, 7.5397801879262261e-05, 4742.5625, 4834.625, 0.81953087762121868, 0.55109975276718615, 141, 10.507179, 4.0000062, 5.4928212, 0.0070772199, 4.894473e-07, 1.8633939e-07, 2.558676e-07, 1.0790083e-09, 21467436.0, 86200.438, 3.0032835, 3.5100594, 0, 'ellipse', array([ 10.30721664,   5.84897423], dtype=float32), 21.32308, 0.73735195, 219)\n",
      " (11.964196294866026, -25.173012690489941, 7.7306659839848635e-05, 6.23005710380653e-05, 3566.4929577464791, 4849.6056338028175, 0.51166641002737379, 0.45616362222699536, 789, 93.17215, 10.535662, 17.827852, 0.01323165, 3.260627e-06, 3.6904143e-07, 6.2389864e-07, 3.0580425e-09, 28574918.0, 138445.12, 17.545872, 3.2449965, 0, 'ellipse', array([ 13.15915871,  11.27363396], dtype=float32), 159.08347, 1.2511533, 220)\n",
      " (11.898459882895812, -25.159608208744451, 6.7802632624847092e-05, 6.5447292659115419e-05, 4001.8000000000002, 4947.8400000000001, 0.44899888641293728, 0.4789321455064055, 121, 23.047735, 5.0000014, 1.9522641, 0.0035867693, 1.5874922e-06, 3.4442664e-07, 1.3446892e-07, 4.8033794e-10, 14518330.0, 44475.746, 8.7174683, 2.7989635, 0, 'ellipse', array([ 7.85787535,  5.93492985], dtype=float32), 128.18559, 0.81328332, 221)\n",
      " (11.890029061902368, -25.152453611078688, 0.00011142753891668633, 9.5937260386591561e-05, 4057.6341463414633, 5000.1951219512193, 0.73798614790803185, 0.70201504158649186, 420, 30.499123, 6.403132, 10.500877, 0.009922388, 1.3771621e-06, 2.8960562e-07, 4.7415821e-07, 5.7418408e-09, 22146358.0, 267364.66, 7.004477, 3.0790412, 0, 'ellipse', array([ 15.92467785,  11.36763763], dtype=float32), 40.579849, 1.4565778, 222)\n",
      " (11.951332835366498, -25.151993746948634, 0.00010432983486019509, 9.7778990657104714e-05, 3651.5999999999999, 5003.4499999999998, 0.69065186599345907, 0.71580374405220937, 291, 18.166473, 4.472137, 1.8335258, 0.0031960506, 2.2975155e-06, 5.6588351e-07, 2.3188616e-07, 1.878377e-09, 7907008.5, 62549.617, 6.9674492, 3.804064, 0, 'ellipse', array([ 10.15760899,   8.65508461], dtype=float32), 51.509274, 0.8216036, 223)\n",
      " (11.860538614899934, -25.142497884224756, 9.5317330522703969e-05, 8.6316559261945258e-05, 4252.9705882352937, 5073.0294117647063, 0.63147722416033503, 0.63147722415942553, 254, 22.395643, 5.8309612, 11.604357, 0.010511066, 8.0349855e-07, 2.0922117e-07, 4.163347e-07, 1.5870378e-09, 27872662.0, 103205.45, 4.9604111, 3.5792434, 0, 'ellipse', array([ 12.17455196,   9.78894901], dtype=float32), 56.309933, 1.0166748, 224)\n",
      " (11.785878817877688, -25.121039160253574, 0.00014717819692933176, 0.00010172420882170741, 4747.61963190184, 5229.8220858895711, 0.97560320704542391, 0.74361903441786126, 1997, 87.394798, 12.767176, 75.605202, 0.027708307, 4.0829696e-06, 5.9716024e-07, 3.532175e-06, 2.4945317e-08, 21404716.0, 150963.06, 8.9744797, 5.8118825, 0, 'ellipse', array([ 39.93550491,  24.75185585], dtype=float32), 26.718855, 1.8032062, 225)\n",
      " (11.817368802358235, -25.120559946406551, 9.3808654062499386e-05, 7.4258299520124638e-05, 4539.0, 5233.4561403508778, 0.62175597005807504, 0.54304986427268886, 357, 43.130882, 7.5498428, 13.869118, 0.011379889, 2.0176265e-06, 3.5324069e-07, 6.4878566e-07, 2.2493172e-09, 21377040.0, 72007.93, 8.9418306, 5.1425977, 0, 'ellipse', array([ 15.30140781,  10.74560547], dtype=float32), 33.325539, 0.831146, 226)\n",
      " (11.83251662596995, -25.112317282088647, 7.0995980063770503e-05, 4.5515277257379694e-05, 4438.6684491978613, 5293.8128342245991, 0.47051056269083347, 0.33286135659636784, 756, 157.19678, 13.674805, 29.803219, 0.016928872, 6.9856028e-06, 6.0770549e-07, 1.324413e-06, 1.1338345e-09, 22502966.0, 14413.576, 24.082247, 5.3521433, 0, 'ellipse', array([ 20.1379509 ,  12.39018345], dtype=float32), 21.19895, 0.98377889, 227)\n",
      " (11.69417275982855, -25.086441048378664, 0.00011266876244242496, 0.0001241220277421462, 5355.5333333333328, 5482.3333333333339, 0.74793542997213081, 0.90717306119768182, 842, 24.891603, 6.9282193, 23.108397, 0.014939629, 1.3135026e-06, 3.6559527e-07, 1.2194048e-06, 1.0434178e-09, 18950554.0, 10622.791, 4.2300243, 11.231323, 0, 'ellipse', array([ 15.32568359,  11.76279831], dtype=float32), 68.751343, 0.39848602, 228)\n",
      " (11.719092245857707, -25.062998019415417, 0.00013021003926816377, 0.00011489596968417004, 5190.6046511627901, 5654.0872093023254, 0.8640934712238959, 0.83966234337458445, 5510, 149.11664, 17.860619, 169.88336, 0.04078253, 7.8231824e-06, 9.3704529e-07, 8.9126779e-06, 6.3253895e-09, 19060866.0, 12730.237, 10.603722, 11.477333, 0, 'ellipse', array([ 34.0009346 ,  33.03260803], dtype=float32), 3.4692981, 0.97331768, 229)\n",
      " (11.992389966655804, -25.434962403585729, 0.00010503601945011098, 8.9665161357999068e-05, 3381.3354037267081, 2932.7639751552797, 0.69353849804338097, 0.65665514712782169, 2255, 114.06687, 15.874554, 137.93312, 0.03826689, 3.0904523e-06, 4.3011812e-07, 3.7370689e-06, 5.5296696e-09, 36909440.0, 53645.66, 8.927949, 6.8477349, 0, 'ellipse', array([ 27.16934013,  24.15766144], dtype=float32), 31.086288, 1.2470928, 230)\n",
      " (12.004138739191786, -25.397473330152636, 8.8286171983753547e-05, 6.300489286559241e-05, 3303.4554455445545, 3207.0099009900987, 0.58315482720308864, 0.4615380384607306, 428, 81.572655, 10.049885, 19.427343, 0.013889085, 3.358467e-06, 4.1405573e-07, 7.9985244e-07, 3.7158614e-09, 24288658.0, 111493.3, 14.853213, 5.4704828, 0, 'ellipse', array([ 19.40132141,  11.24031639], dtype=float32), 31.247087, 0.89982492, 231)\n",
      " (11.756203897710048, -25.389438874054015, 0.00010339793099589656, 8.5291871364745475e-05, 4942.34375, 3265.75, 0.68409579778472107, 0.62343554197695994, 284, 24.88405, 5.6568599, 7.1159492, 0.0079762135, 1.0578406e-06, 2.4047881e-07, 3.0250462e-07, 4.0463455e-10, 23523442.0, 17170.705, 6.5404654, 5.2423396, 0, 'ellipse', array([ 12.7648325 ,   9.15296841], dtype=float32), 36.614429, 0.68729335, 232)\n",
      " (11.747634556955527, -25.380688389805801, 0.00010451166013858426, 8.3825205631882227e-05, 4999.0555555555557, 3329.7222222222222, 0.69153712406750856, 0.61265237739507938, 500, 36.1758, 6.9282107, 11.824199, 0.010038318, 1.5791472e-06, 3.0247426e-07, 5.1615029e-07, 1.7387155e-09, 22908442.0, 74678.984, 7.9577012, 5.1816034, 0, 'ellipse', array([ 8.91567516,  7.6673665 ], dtype=float32), 18.188919, 0.53188139, 233)\n",
      " (11.834668157974715, -25.380540198572092, 9.9516311721004058e-05, 6.9735388233738149e-05, 4423.6896551724139, 3331.2068965517242, 0.65807604900055594, 0.51001692715135505, 181, 17.66527, 5.3851752, 11.334731, 0.01061468, 4.2010993e-07, 1.2806856e-07, 2.6955905e-07, 2.5393829e-10, 42049160.0, 4303.8398, 3.9463909, 2.9589331, 0, 'ellipse', array([ 10.71177769,   8.13499546], dtype=float32), 10.823336, 1.0516059, 234)\n",
      " (11.7496410237374, -25.371681117611828, 0.00011406217882203862, 0.00011692602802071406, 4985.8571428571431, 3395.6428571428569, 0.75496413522796502, 0.85480122320677765, 164, 9.462285, 3.7416635, 4.537715, 0.0067492407, 3.1742434e-07, 1.2554202e-07, 1.5222341e-07, 1.1785349e-09, 29809576.0, 226490.94, 2.8677907, 4.8197584, 0, 'ellipse', array([ 9.75640869,  8.28825378], dtype=float32), 69.92556, 0.62191349, 235)\n",
      " (11.856994114891934, -25.34157178454408, 6.3374568684437804e-05, 4.3455002728620684e-05, 4276.1538461538457, 3616.3846153846152, 0.41915883428282541, 0.31787872233326198, 31, 8.5313702, 3.6055574, 4.4686298, 0.0066239871, 1.4325909e-07, 6.054475e-08, 7.5037406e-08, 1.2460638e-10, 59552036.0, 44574.848, 2.5975175, 1.4339979, 0, 'ellipse', array([ 4.67572308,  3.24288678], dtype=float32), 19.833921, 0.90514988, 236)\n",
      " (11.737299453807063, -25.318440767397806, 6.1663382007637324e-05, 6.9052898865606949e-05, 5067.8780487804879, 3785.1219512195121, 0.40841115213243029, 0.50481927541841287, 406, 60.866932, 8.5440111, 12.133066, 0.011464804, 1.6397419e-06, 2.3017874e-07, 3.2686216e-07, 4.3100787e-10, 37119824.0, 34139.902, 13.262795, 3.9666083, 0, 'ellipse', array([ 9.79758549,  7.71966791], dtype=float32), 103.40313, 0.73083323, 237)\n",
      " (11.852019322936465, -25.30785152955584, 3.7129695847681887e-05, 3.9864127003852445e-05, 4309.1111111111113, 3863.1111111111113, 0.24567591039703984, 0.29162992125930032, 55, 18.276859, 5.4772353, 11.723141, 0.010384651, 3.0953132e-07, 9.2779942e-08, 1.9853954e-07, 1.2220336e-09, 59046884.0, 359656.84, 4.0330834, 0.81505042, 0, 'ellipse', array([ 2.83304667,  1.93691099], dtype=float32), 58.948635, 0.95802307, 238)\n",
      " (11.897165378643733, -25.304615661148425, 4.6231569116983451e-05, 3.7515816476485497e-05, 4010.4761904761904, 3886.8095238095239, 0.30579473514262645, 0.27453566338772362, 28, 6.0857048, 4.5825911, 14.914295, 0.011934883, 1.0497723e-07, 7.9048846e-08, 2.5726868e-07, 2.7817779e-10, 57971668.0, 42155.504, 1.2274976, 0.69286501, 0, 'ellipse', array([ 4.49638224,  3.42065978], dtype=float32), 146.86972, 1.88676, 239)\n",
      " (11.889072777218519, -25.272336787458872, 0.0, 0.0, 4064.0, 4123.0, 0.0, 0.0, 30, 7.3956656, 4.2426524, 10.604335, 0.0098798992, 1.2305529e-07, 7.0592925e-08, 1.7644382e-07, 2.463279e-10, 60100348.0, 62486.281, 1.6925194, 0.46270421, 0, 'ellipse', array([  3.57627869e-07,   3.57627869e-07], dtype=float32), 90.0, 2.5763606e-07, 240)\n",
      " (12.020336576505033, -25.232914473282268, 9.3779820144135329e-05, 0.00011253016060663867, 3195.166666666667, 4411.0, 0.61988648901115084, 0.82402205412108742, 168, 12.784864, 4.2426467, 5.2151351, 0.0071821758, 3.859426e-07, 1.280761e-07, 1.5743169e-07, 3.246447e-10, 33126338.0, 50843.918, 3.7139797, 3.5904949, 0, 'ellipse', array([ 10.70467949,   7.59340715], dtype=float32), 73.503891, 0.837008, 241)\n",
      " (11.93885957949289, -25.205872676419695, 3.720925711370171e-05, 9.2772401146135053e-05, 3734.375, 4609.25, 0.24606274606276202, 0.67892378070064296, 46, 6.4230275, 2.8284297, 1.5769724, 0.0037385637, 1.8545614e-07, 8.1686238e-08, 4.5532918e-08, 4.4799353e-10, 34633676.0, 330717.12, 2.5433285, 1.763576, 0, 'ellipse', array([ 5.78928089,  2.00776029], dtype=float32), 96.056923, 0.64439595, 242)\n",
      " (11.92840253386581, -25.197072560859976, 7.4396931303510883e-05, 6.3046568111957413e-05, 3803.5833333333335, 4673.6666666666661, 0.49241938614522951, 0.46147910349645826, 61, 9.9585476, 3.4641042, 2.0414529, 0.0042645754, 2.8799653e-07, 1.0018042e-07, 5.9037863e-08, 1.2812247e-10, 34578704.0, 20333.242, 3.7287257, 1.8338649, 0, 'ellipse', array([ 5.3116374 ,  4.57973862], dtype=float32), 31.93869, 0.89649105, 243)\n",
      " (11.999800660964377, -25.171641081811451, 0.00010196728701217239, 9.9760581385055502e-05, 3330.7058823529414, 4859.4705882352937, 0.67462513431519255, 0.73053825280840101, 484, 27.598351, 6.2450066, 11.401649, 0.010299321, 1.1640775e-06, 2.6359169e-07, 4.8091289e-07, 4.0699795e-09, 23708346.0, 199498.19, 6.1522145, 4.3525057, 0, 'ellipse', array([ 9.15302277,  8.21640873], dtype=float32), 68.818886, 0.66414464, 244)\n",
      " (11.929655453983658, -25.166512777348444, 0.00010573656036250156, 0.00012313832623789267, 3795.212121212121, 4897.2727272727279, 0.69993778518937688, 0.9012517845731054, 403, 29.169786, 5.744565, 3.8302126, 0.0054563396, 2.2267607e-06, 4.3858279e-07, 2.9239041e-07, 1.000301e-09, 13099651.0, 40745.328, 9.2893181, 2.8354151, 0, 'ellipse', array([ 16.69368362,  10.39541721], dtype=float32), 117.93327, 1.548671, 245)\n",
      " (12.12575465391207, -25.145072295110303, 8.8686116962222172e-05, 7.6855423220223429e-05, 2496.252416756176, 5052.7722878625136, 0.58642453913489589, 0.56341518387853284, 12364, 728.52795, 40.38575, 902.47205, 0.093556188, 2.9067625e-05, 1.6113635e-06, 3.6007845e-05, 7.148361e-09, 25063208.0, 4243.3394, 23.460297, 11.491264, 0, 'ellipse', array([ 54.46163177,  50.74660492], dtype=float32), 27.72304, 1.5249646, 246)\n",
      " (11.746239958885518, -25.137758434760965, 0.00017102774512167684, 0.00010035857199852671, 5010.1020408163267, 5107.2551020408164, 1.1336628883136655, 0.73317746346856438, 1399, 52.761585, 9.8995142, 45.238415, 0.019433143, 2.7260928e-06, 5.1179433e-07, 2.3373846e-06, 1.517771e-08, 19354288.0, 125400.96, 6.7804084, 6.2619119, 0, 'ellipse', array([ 33.67547607,  21.76280403], dtype=float32), 178.42523, 1.4410734, 247)\n",
      " (11.751698552536432, -25.108735885855804, 0.00012994952028932971, 0.00011249528651191554, 4974.1533333333336, 5319.6533333333336, 0.86181909247079602, 0.82229957594063308, 1963, 95.527, 12.247471, 54.473, 0.023107165, 4.0646878e-06, 5.2113506e-07, 2.3178343e-06, 1.4540955e-09, 23501682.0, 10862.455, 11.330154, 7.4886088, 0, 'ellipse', array([ 35.18759918,  26.02613258], dtype=float32), 139.6097, 1.3470299, 248)\n",
      " (11.856867579860657, -25.103570408668542, 0.00014330267546291964, 0.00013459957743577888, 4277.3448275862065, 5357.8620689655172, 0.94971785292545974, 0.98469155093880545, 437, 21.119677, 5.3851714, 7.8803234, 0.008468261, 1.7862709e-06, 4.5711141e-07, 6.6650603e-07, 1.445974e-08, 11823334.0, 256190.44, 5.363399, 5.5883012, 0, 'ellipse', array([ 18.2550354 ,  12.45939064], dtype=float32), 47.846386, 0.89957774, 249)\n",
      " (11.724117508944362, -25.102146790530718, 0.00017346400114703897, 0.00010467818551518349, 5156.954545454546, 5367.6688311688313, 1.1502982706278999, 0.76458413635737088, 2185, 93.343216, 12.409698, 60.656784, 0.02445475, 4.0936188e-06, 5.442447e-07, 2.6601372e-06, 2.4386462e-09, 22802126.0, 18773.559, 10.563671, 8.9283886, 0, 'ellipse', array([ 44.57395554,  25.63861847], dtype=float32), 19.823671, 1.2620994, 250)\n",
      " (11.727924135333041, -25.081785308700113, 8.3631390964455932e-05, 6.6967458032252125e-05, 5131.9050632911394, 5516.6867088607596, 0.55481057331235206, 0.48937173982540116, 3981, 328.38843, 21.023821, 113.61156, 0.032286841, 1.702434e-05, 1.0899741e-06, 5.8898595e-06, 4.159125e-09, 19289350.0, 12469.429, 28.081799, 9.9381847, 0, 'ellipse', array([ 29.60013199,  26.08355522], dtype=float32), 3.530699, 0.93196994, 251)\n",
      " (11.73209188667216, -25.067875333576968, 0.00010515204888328356, 0.00011007753882097404, 5104.3999999999996, 5618.5, 0.69785385289469559, 0.8046738469711272, 846, 20.17547, 6.7823486, 25.82453, 0.015833579, 1.0353347e-06, 3.4804651e-07, 1.3252246e-06, 8.6751234e-10, 19486908.0, 4469.3901, 3.2778733, 10.669027, 0, 'ellipse', array([ 11.26850033,   8.78811169], dtype=float32), 117.24924, 0.31091005, 252)\n",
      " (11.944144595543666, -25.498022501756893, 0.00011074375318820273, 9.5173446748475499e-05, 3700.3417721518986, 2471.5443037974683, 0.73109042842361305, 0.69673109241921338, 1890, 106.68253, 13.638213, 79.317467, 0.029208856, 3.5992209e-06, 4.6021637e-07, 2.6759872e-06, 7.0110717e-09, 29640450.0, 76886.906, 10.723972, 9.9486046, 0, 'ellipse', array([ 21.11257553,  16.71608734], dtype=float32), 141.05328, 0.62944025, 253)\n",
      " (11.652336759785332, -25.490640206826278, 0.0001388610212789132, 0.00013677886669327677, 5627.6688524590163, 2524.3180327868854, 0.91889628066110163, 0.99924266307061771, 16758, 362.56525, 27.276432, 381.43475, 0.061036158, 2.2951821e-05, 1.7270246e-06, 2.4146335e-05, 3.5089457e-08, 15796797.0, 22816.314, 17.643467, 15.841646, 0, 'ellipse', array([ 55.44054413,  44.55318832], dtype=float32), 56.433453, 1.045759, 254)\n",
      " (11.869981749270462, -25.469040509297685, 0.00019044721410033105, 0.0001366013384966891, 4190.1684210526309, 2683.6947368421052, 1.258205434572119, 0.99939856531091209, 1976, 58.135548, 9.7468138, 36.864452, 0.019385453, 2.2483518e-06, 3.7707946e-07, 1.4257068e-06, 6.2807439e-09, 25856964.0, 113094.64, 8.1501532, 7.3362522, 0, 'ellipse', array([ 39.43849182,  25.53647232], dtype=float32), 28.211685, 1.441933, 255)\n",
      " (11.659030586094694, -25.456128466463682, 0.00027516070506194978, 0.00018931697229973565, 5583.8803418803418, 2776.9230769230771, 1.8202584948621734, 1.3821944566461752, 3474, 47.504597, 10.816684, 69.495399, 0.025312705, 3.1543814e-06, 7.1871597e-07, 4.614606e-06, 3.8089802e-08, 15059878.0, 124185.89, 5.0637798, 13.232688, 0, 'ellipse', array([ 62.63738251,  39.7142601 ], dtype=float32), 154.51114, 1.2563791, 256)\n",
      " (11.882723088584775, -25.454519783639459, 0.00013020173794764389, 0.00016356496055891512, 4106.0, 2789.9499999999998, 0.86023252670383954, 1.1968186997205521, 451, 10.886773, 4.4721456, 9.1132269, 0.0093264198, 3.8652814e-07, 1.5878163e-07, 3.2355948e-07, 5.5121008e-10, 28165538.0, 38359.523, 2.6292887, 6.2899075, 0, 'ellipse', array([ 16.05781746,  11.54010391], dtype=float32), 90.827293, 0.72141075, 257)\n",
      " (11.771531147536196, -25.443025767328695, 0.00013990526847784679, 0.00013513925278019201, 4840.695652173913, 2873.7391304347825, 0.92524922838401835, 0.98805223854969881, 1230, 31.488531, 7.5498552, 25.511469, 0.017729374, 1.6095225e-06, 3.8615522e-07, 1.3040076e-06, 1.1240036e-08, 19563896.0, 168084.16, 5.1413255, 7.3632455, 0, 'ellipse', array([ 15.28509235,  12.0689249 ], dtype=float32), 126.78835, 0.6148622, 258)\n",
      " (11.917197122613468, -25.426042338537634, 0.00011211982764791628, 6.6672195146111335e-05, 3878.1851851851852, 2998.2962962962965, 0.74080932467131788, 0.48803183803647698, 166, 17.125988, 5.1961622, 9.8740129, 0.010035197, 3.4955011e-07, 1.0605662e-07, 2.0153362e-07, 2.5278588e-10, 48994368.0, 36016.078, 4.0207043, 4.8989868, 0, 'ellipse', array([ 12.35759163,   6.20681   ], dtype=float32), 24.310299, 0.59590036, 259)\n",
      " (11.760033580180325, -25.405501476691953, 0.0001558040490419188, 0.00018951195907135343, 4916.9193548387102, 3148.2419354838712, 1.0310725014132913, 1.3857242804433554, 1056, 34.131348, 7.8740253, 27.86865, 0.016549662, 1.4709492e-06, 3.3934592e-07, 1.2010474e-06, 1.036684e-09, 23203622.0, 14534.725, 5.37532, 5.8332496, 0, 'ellipse', array([ 36.5752449 ,  18.08193588], dtype=float32), 59.120041, 1.4695497, 260)\n",
      " (11.770485470328518, -25.397213922836471, 0.00015888577652667379, 9.7633858239021265e-05, 4847.8888888888887, 3208.9444444444443, 1.050834145119552, 0.71350388330756687, 248, 12.070902, 4.2426467, 5.9290977, 0.0072224024, 5.0960364e-07, 1.7911408e-07, 2.5031184e-07, 3.0824107e-10, 23686844.0, 4275.3594, 3.367626, 5.0381274, 0, 'ellipse', array([ 13.50173473,   8.89180946], dtype=float32), 10.468392, 0.72493565, 261)\n",
      " (11.6848659703632, -25.377229214587949, 0.00015373010664276876, 0.00014995566122166792, 5414.0487804878048, 3354.5121951219512, 1.0179537741914828, 1.0957285251629401, 1434, 35.324684, 8.1240568, 30.675314, 0.017319022, 1.5986803e-06, 3.6767452e-07, 1.3882649e-06, 2.0037683e-09, 22096154.0, 29351.557, 5.3475027, 7.8676972, 0, 'ellipse', array([ 22.85032845,  17.4143734 ], dtype=float32), 126.95511, 0.84514511, 262)\n",
      " (11.85429963385578, -25.356930470049655, 7.3351119914022433e-05, 4.9849153217706998e-05, 4293.9473684210525, 3504.0, 0.48508892985137209, 0.36464227527767434, 64, 12.249646, 4.3589067, 6.7503538, 0.0082543446, 2.1097428e-07, 7.5073139e-08, 1.1626058e-07, 1.6864375e-10, 58062276.0, 45307.195, 3.2764652, 1.9035443, 0, 'ellipse', array([ 6.45538855,  4.61552   ], dtype=float32), 164.61433, 0.95584458, 263)\n",
      " (11.965395737802559, -25.336162755265015, 8.7177949053440784e-05, 6.0355357227592776e-05, 3559.2727272727275, 3655.818181818182, 0.57626481933084506, 0.44197494073114285, 67, 9.2383394, 3.3166268, 1.7616603, 0.003629162, 3.379931e-07, 1.213464e-07, 6.4451953e-08, 2.4097688e-10, 27332924.0, 85282.0, 3.5740721, 2.2171283, 0, 'ellipse', array([ 6.30860043,  3.52369618], dtype=float32), 30.185472, 0.70884889, 264)\n",
      " (11.752649519303413, -25.308351343998471, 0.00011481658261836003, 0.00010104652321274443, 4966.4210526315783, 3859.0526315789475, 0.76021497715373698, 0.73862072631573028, 230, 12.723234, 4.3589044, 6.2767653, 0.0068356697, 4.8840542e-07, 1.6768715e-07, 2.409455e-07, 5.4419056e-09, 26050560.0, 587683.94, 3.4850492, 3.1834488, 0, 'ellipse', array([ 11.4225359,   7.8512435], dtype=float32), 137.30598, 0.99158823, 265)\n",
      " (11.700398621072523, -25.293515698467083, 0.00013772783265508792, 9.7961079276842611e-05, 5312.1999999999998, 3967.1999999999998, 0.9121403400795316, 0.71554175279970877, 105, 4.4151897, 2.236069, 0.58481008, 0.0021826376, 5.8049397e-07, 2.9399067e-07, 7.688881e-08, 2.8712543e-10, 7605919.0, 947.33002, 2.0484891, 5.3459167, 0, 'ellipse', array([ 6.20138311,  4.69285059], dtype=float32), 165.5946, 0.33637151, 266)\n",
      " (12.00841100807642, -25.278772495094248, 0.00016504218866408848, 0.00011642626959940117, 3274.4117647058824, 4075.5294117647059, 1.0912004865899689, 0.85291134657290968, 258, 10.743805, 4.1231117, 6.2561955, 0.0072283745, 3.7045004e-07, 1.4219398e-07, 2.1571573e-07, 1.6528485e-09, 29002036.0, 219677.28, 2.9459925, 2.8846042, 0, 'ellipse', array([ 15.27613068,   7.75376034], dtype=float32), 32.924637, 1.2576373, 267)\n",
      " (11.92073516449239, -25.273357361979521, 5.7271171730377546e-05, 5.3941397805346014e-05, 3854.5, 4115.5, 0.37883838047173413, 0.39479640009813011, 46, 10.491891, 4.2426476, 7.5081086, 0.0075693256, 2.4505189e-07, 9.9100909e-08, 1.7536175e-07, 9.3501717e-10, 42814976.0, 224168.75, 2.7084987, 0.66580063, 0, 'ellipse', array([ 5.25836182,  4.5661397 ], dtype=float32), 53.551365, 2.453208, 268)\n",
      " (11.783528311829706, -25.271954872534312, 6.2216640650092359e-05, 7.1118431563377271e-05, 4762.363636363636, 4125.545454545454, 0.41206449131641421, 0.52007050322572468, 50, 8.1774502, 3.3166282, 2.8225498, 0.004825165, 2.7289647e-07, 1.1069945e-07, 9.4193652e-08, 6.9803141e-10, 29965392.0, 216072.25, 2.8294511, 1.9378659, 0, 'ellipse', array([ 5.55053473,  3.57468057], dtype=float32), 118.22052, 0.7661981, 269)\n",
      " (12.078534904122247, -25.252829562957142, 0.0001280982662716923, 0.00010237689274461559, 2810.166666666667, 4264.8055555555557, 0.84665281411798787, 0.75032857457426871, 1526, 52.030712, 9.0554047, 29.969288, 0.018955244, 2.4857409e-06, 4.3425834e-07, 1.4317675e-06, 2.1743116e-08, 20931672.0, 317596.88, 7.9527287, 6.1347537, 0, 'ellipse', array([ 15.63560867,  13.04559231], dtype=float32), 23.930351, 0.77601641, 270)\n",
      " (12.078574665463853, -25.220835247924089, 9.5237149695392986e-05, 9.9219447186271736e-05, 2809.5643564356433, 4498.9108910891091, 0.62938154845323879, 0.72691057388965419, 2441, 138.92569, 15.132772, 90.07431, 0.028465107, 6.5421532e-06, 7.1827952e-07, 4.2416918e-06, 5.8372919e-08, 21235468.0, 292159.25, 13.193099, 6.5308876, 0, 'ellipse', array([ 21.93975449,  18.94824409], dtype=float32), 95.285942, 1.0406553, 271)\n",
      " (12.027938149247179, -25.212491473177025, 0.00013997024471912312, 0.00013656202434120246, 3144.6923076923076, 4560.3846153846152, 0.92553912249786663, 1.0002275571769133, 171, 8.5520449, 3.6055572, 4.4479551, 0.0064882077, 3.1409192e-07, 1.3242848e-07, 1.6336054e-07, 7.3656142e-10, 27227842.0, 116162.94, 2.6074083, 4.2559681, 0, 'ellipse', array([ 13.59921837,   5.68677092], dtype=float32), 48.16568, 0.68876368, 272)\n",
      " (12.008258628814, -25.190630856387365, 0.0001239816217157852, 8.8777921604332732e-05, 3274.8235294117649, 4720.4705882352937, 0.82031006930947115, 0.65035336180972081, 149, 12.650349, 4.1231108, 4.3496513, 0.006651788, 4.354803e-07, 1.419356e-07, 1.4973401e-07, 2.3641863e-10, 29049188.0, 11412.191, 3.8825703, 4.0404062, 0, 'ellipse', array([ 10.28578281,   7.86578035], dtype=float32), 14.736407, 0.74206728, 273)\n",
      " (11.768338911665742, -24.994725627624145, 0.00026506576331897236, 0.00019184372857949938, 4864.6195121951223, 6153.990243902439, 1.7591052965653944, 1.4022670561607811, 7944, 101.76267, 14.317859, 103.23733, 0.032673385, 7.6648457e-06, 1.0784821e-06, 7.7759178e-06, 1.0775432e-08, 13276545.0, 17911.639, 9.0880489, 15.149748, 0, 'ellipse', array([ 75.79095459,  59.94093323], dtype=float32), 172.67139, 1.483009, 274)\n",
      " (11.6768731034725, -25.487389556657856, 0.00020995860840855585, 0.00017743981835849354, 5465.645161290322, 2548.3709677419356, 1.3888017979625147, 1.2962031062679671, 4531, 48.413605, 11.747378, 89.586395, 0.030089485, 3.0019526e-06, 7.2853953e-07, 5.5549281e-06, 2.5246917e-08, 16127372.0, 73097.82, 4.6088243, 14.232665, 0, 'ellipse', array([ 32.99663925,  30.41373253], dtype=float32), 163.94673, 0.74192882, 275)\n",
      " (11.659418727092062, -25.471333863150768, 0.00014090694198110043, 0.00014342433075498207, 5581.1296296296296, 2665.6666666666665, 0.93258578833501815, 1.0478929148739553, 4034, 105.70586, 14.491413, 104.29414, 0.032383639, 6.3350212e-06, 8.6856846e-07, 6.2504164e-06, 1.2389823e-08, 16685951.0, 32667.246, 9.3968239, 14.160153, 0, 'ellipse', array([ 23.62296867,  19.95755768], dtype=float32), 112.99514, 0.51113039, 276)\n",
      " (11.624130938989625, -25.461143473580879, 0.00021202623850413715, 0.00021375947166291098, 5814.3846153846152, 2739.8076923076924, 1.4037954923178404, 1.5613861528308917, 3997, 40.260754, 10.583037, 71.739243, 0.026269821, 2.5573731e-06, 6.7235095e-07, 4.5568945e-06, 2.2103736e-08, 15743012.0, 76145.359, 4.2317104, 15.768689, 0, 'ellipse', array([ 24.06786537,  21.26835442], dtype=float32), 105.25563, 0.47826532, 277)\n",
      " (11.644076417321704, -25.449097595035774, 0.00019634886561092912, 0.00019104746469622569, 5682.7716535433074, 2828.1968503937005, 1.2998179919222821, 1.3955919092786644, 7233, 93.034103, 15.132791, 135.9659, 0.036566384, 5.5908417e-06, 9.0949476e-07, 8.1708076e-06, 1.9507963e-08, 16640448.0, 39476.539, 7.3298159, 13.599587, 0, 'ellipse', array([ 47.33041   ,  43.78533936], dtype=float32), 102.0045, 1.115803, 278)\n",
      " (11.824464929774928, -25.42406548072481, 0.00014506840409467259, 0.00014857852604777122, 4491.0, 3012.6999999999998, 0.95916630466308561, 1.0867382389519662, 233, 8.2901382, 3.1622794, 1.7098616, 0.0033413914, 8.7790727e-07, 3.3492935e-07, 1.8107056e-07, 1.2559976e-09, 9443068.0, 62848.789, 3.227751, 5.1111236, 0, 'ellipse', array([ 10.91474628,   8.36410904], dtype=float32), 59.267567, 0.6231305, 279)\n",
      " (11.651323022963897, -25.389498414196908, 0.00018518880218643119, 0.00016021911221741902, 5635.6486486486483, 3264.3783783783783, 1.2262148855443229, 1.1702118151251852, 886, 21.899591, 6.0827746, 15.100409, 0.012249119, 1.1919766e-06, 3.3122606e-07, 8.2190269e-07, 6.805565e-09, 18372502.0, 151397.25, 4.3963985, 10.349586, 0, 'ellipse', array([ 25.41662788,  17.62678528], dtype=float32), 138.82976, 0.68171257, 280)\n",
      " (11.70360848928021, -25.337084909213978, 0.00016712634316107255, 0.00022019406941353736, 5290.5357142857138, 3648.4285714285716, 1.1074205543773132, 1.609691856138852, 1329, 24.032991, 7.4833384, 31.967009, 0.018852582, 8.8713466e-07, 2.7625919e-07, 1.1800046e-06, 5.0119469e-09, 27090578.0, 113949.84, 3.5764029, 5.8016381, 0, 'ellipse', array([ 38.24011993,  21.48737717], dtype=float32), 113.28725, 1.6469463, 281)\n",
      " (11.757940988411493, -25.185190294606127, 0.00012762811213917757, 9.2545700656643248e-05, 4932.2666666666664, 4760.2666666666664, 0.84573001558419492, 0.67637377350274619, 169, 9.4294767, 3.8729901, 5.5705228, 0.0072966977, 4.9714589e-07, 2.0419415e-07, 2.9369207e-07, 4.3790116e-10, 18967224.0, 13510.311, 2.6833529, 4.0290699, 0, 'ellipse', array([ 10.47619247,   6.96917391], dtype=float32), 27.666637, 0.70691359, 282)\n",
      " (12.126919341800221, -25.061808011679712, 0.00012141164700807394, 0.00011109903989492409, 2487.435582822086, 5662.0184049079753, 0.80328453715719661, 0.81437979615202494, 6189, 139.256, 22.759739, 378.74399, 0.075341374, 5.7068114e-06, 9.3309109e-07, 1.5521202e-05, 7.2541894e-08, 24401718.0, 113943.66, 6.799408, 16.322853, 0, 'ellipse', array([ 31.19350433,  30.76534081], dtype=float32), 93.503616, 0.63262391, 283)\n",
      " (11.774340443354003, -25.041046742392652, 0.00019184301792130043, 0.00013719196420680646, 4824.54054054054, 5815.0810810810817, 1.2726226605809643, 1.0028289993879298, 757, 22.629175, 6.0827727, 14.370825, 0.011251302, 1.5715008e-06, 4.2256755e-07, 9.979932e-07, 7.0638371e-09, 14399722.0, 101296.39, 4.6290154, 11.120992, 0, 'ellipse', array([ 24.84761047,  16.02495956], dtype=float32), 152.26744, 0.59810305, 284)\n",
      " (11.641622406327651, -25.040068630875016, 0.00019178535247021955, 0.00018070539960035603, 5704.395348837209, 5821.0930232558139, 1.2738326334429075, 1.3199857225445157, 2709, 39.695953, 8.8882217, 39.304047, 0.02196764, 3.3520771e-06, 7.5222772e-07, 3.3189829e-06, 4.9674e-08, 11842196.0, 177114.19, 5.4164133, 17.093565, 0, 'ellipse', array([ 28.23604393,  22.47187996], dtype=float32), 49.560024, 0.49121061, 285)\n",
      " (11.613947975067516, -24.97466704774385, 0.0002724781642360341, 0.00021193811101838378, 5888.8269230769229, 6299.3076923076924, 1.8104972415667362, 1.5472198921388554, 5148, 43.296692, 9.6953878, 50.703308, 0.023254193, 5.1607617e-06, 1.1556501e-06, 6.043595e-06, 5.0729576e-09, 8389594.0, 5898.0605, 5.2974653, 18.432133, 0, 'ellipse', array([ 39.46164322,  33.12365341], dtype=float32), 167.03291, 0.65382248, 286)\n",
      " (11.636779252535147, -24.955483882892551, 0.00023775466911146736, 0.00025143009904127211, 5737.6440677966102, 6439.9661016949149, 1.5806868553609092, 1.8369263046197375, 2657, 29.894669, 7.6811643, 29.105331, 0.01689028, 3.5637629e-06, 9.1568052e-07, 3.4696654e-06, 3.3028518e-09, 8388512.5, 6329.7964, 4.6247916, 18.512308, 0, 'ellipse', array([ 42.39525986,  36.34742737], dtype=float32), 96.228569, 0.70682788, 287)\n",
      " (11.659712017480254, -24.947551555293597, 0.00018384919278346956, 0.00031977316522358024, 5585.6027397260277, 6498.2739726027394, 1.2236703026474061, 2.3378758423614272, 3041, 36.012524, 8.5440254, 36.987476, 0.019072728, 4.2194756e-06, 1.0010782e-06, 4.3337077e-06, 2.7572942e-09, 8534834.0, 3180.9556, 5.0415936, 18.436243, 0, 'ellipse', array([ 59.9327507 ,  31.34928513], dtype=float32), 88.881737, 0.78370434, 288)\n",
      " (11.992546512397448, -25.496839275972189, 4.1266565421693713e-05, 6.4393929644523951e-05, 3380.666666666667, 2480.0, 0.27216552697564111, 0.47140452079111128, 678, 21.360336, 6.9282236, 26.639664, 0.016867762, 7.740191e-07, 2.5107508e-07, 9.6532233e-07, 4.1904489e-09, 27596650.0, 118515.39, 3.4266927, 10.827228, 0, 'ellipse', array([ 2.75781631,  0.62805152], dtype=float32), 61.845036, 0.04051742, 289)\n",
      " (12.032479120761161, -25.41710540101181, 0.00012808601942460029, 0.00015872116642157152, 3116.2857142857142, 3063.1714285714288, 0.8452232440968146, 1.16232400153649, 585, 14.271634, 5.9160976, 20.728365, 0.014579713, 9.4598153e-07, 3.9214657e-07, 1.3739597e-06, 2.6699982e-09, 15086589.0, 27329.785, 2.5329125, 7.5383029, 0, 'ellipse', array([ 21.39007378,  13.89480305], dtype=float32), 69.653946, 0.76232034, 290)\n",
      " (11.89636987727136, -25.397112850856512, 8.9768309244675493e-05, 0.00010226412640079729, 4015.8000000000002, 3210.0, 0.59329587896763769, 0.74833147735489547, 73, 2.2069819, 2.236074, 2.7930181, 0.0052281781, 7.2644553e-08, 7.3602514e-08, 9.1934403e-08, 3.4198888e-10, 30380556.0, 97662.562, 0.7657041, 3.3367059, 0, 'ellipse', array([ 6.39261866,  0.41764283], dtype=float32), 51.649284, 0.16323103, 291)\n",
      " (11.787979601299421, -25.302543173514529, 6.2600894805697749e-05, 8.8808123656747284e-05, 4732.75, 3901.75, 0.41457809879466367, 0.64951905283851374, 30, 1.7081169, 2.0000052, 2.291883, 0.0046147732, 4.0419515e-08, 4.7326584e-08, 5.4233293e-08, 1.4445004e-10, 42259708.0, 73681.109, 0.62246901, 1.9859928, 0, 'ellipse', array([ 4.5       ,  1.06066012], dtype=float32), 59.036243, 0.36668697, 292)\n",
      " (11.676479330362447, -25.087470926887651, 0.0001796636948956376, 0.00015931096556087709, 5472.7749999999996, 5474.625, 1.1924174499736182, 1.1638768727834758, 3045, 38.850357, 11.000042, 82.149643, 0.030278269, 2.2066145e-06, 6.2491284e-07, 4.6659184e-06, 2.7492396e-08, 17606318.0, 103536.3, 3.8446956, 11.825262, 0, 'ellipse', array([ 23.55424881,  21.08852959], dtype=float32), 38.647312, 0.62824023, 293)\n",
      " (11.672934298413344, -25.006515157904769, 0.00021911375197625205, 0.00021350117084040221, 5497.1999999999998, 6066.96, 1.4554724318923036, 1.5599794870449841, 2118, 24.744017, 7.2111197, 27.255983, 0.015710032, 2.4237747e-06, 7.0869794e-07, 2.6698317e-06, 6.3405864e-08, 10208877.0, 242379.33, 3.9325731, 17.186171, 0, 'ellipse', array([ 23.42524338,  21.80466843], dtype=float32), 97.340271, 0.43834537, 294)\n",
      " (12.03879864410631, -25.454181422330315, 0.00016903516573485433, 9.8671477257283868e-05, 3074.833333333333, 2791.8333333333335, 1.1159616348113559, 0.72328980923839481, 259, 4.1861839, 3.316633, 6.8138161, 0.0074075381, 3.6312429e-07, 2.8769642e-07, 5.9105435e-07, 6.7769806e-10, 11528240.0, 4201.2529, 1.1162444, 9.6973734, 0, 'ellipse', array([ 8.20070744,  5.31492233], dtype=float32), 179.63274, 0.22693357, 295)\n",
      " (11.76351903795401, -25.431025566028666, 0.00017028286170805984, 0.00023553870352088779, 4893.7142857142862, 2961.5, 1.1268004704870691, 1.7224507931123298, 348, 6.2667179, 3.7416673, 7.7332821, 0.0086022429, 3.1916937e-07, 1.9061881e-07, 3.9386276e-07, 5.5347789e-09, 19634458.0, 275048.56, 1.601673, 6.956861, 0, 'ellipse', array([ 19.51944351,  12.36091995], dtype=float32), 100.22203, 0.74425977, 296)\n",
      " (11.995632959337581, -25.340742117774962, 0.00013186733922054827, 0.00011340916217150721, 3359.333333333333, 3622.166666666667, 0.87135484118698514, 0.83055091042933782, 88, 2.8707647, 2.449497, 3.1292353, 0.0059163435, 9.221683e-08, 7.8684558e-08, 1.0051961e-07, 1.9493236e-10, 31130596.0, 13427.918, 0.96672499, 3.2890465, 0, 'ellipse', array([ 6.70341873,  5.77184391], dtype=float32), 35.587646, 0.63039708, 297)\n",
      " (12.048229517447075, -25.175162442022121, 0.00010715625763779713, 0.00011922722227453164, 3010.0285714285715, 4833.3714285714286, 0.70853192779986784, 0.8732633745221392, 370, 12.32263, 5.9161024, 22.67737, 0.016287718, 4.3873334e-07, 2.1063751e-07, 8.0740222e-07, 1.5084658e-09, 28086832.0, 48441.961, 2.1099732, 6.1487961, 0, 'ellipse', array([ 16.05515862,  11.8567667 ], dtype=float32), 67.230751, 0.74796122, 298)\n",
      " (12.03669936005651, -25.162760268256182, 0.00011122935311291826, 0.0001193620099115833, 3086.2790697674418, 4924.209302325582, 0.73565280730008453, 0.87421950945554272, 1116, 35.193371, 10.099544, 66.806633, 0.028039606, 1.2254542e-06, 3.5167636e-07, 2.3262469e-06, 3.3983161e-09, 28718632.0, 40185.02, 3.8173647, 6.1245675, 0, 'ellipse', array([ 17.48693848,  14.12140751], dtype=float32), 72.122971, 0.85526204, 299)\n",
      " (12.209874714565414, -25.160930168655849, 0.00015379943310911415, 0.00013825370594133801, 1939.3391304347826, 4935.565217391304, 1.0161558426925694, 1.0140883161793681, 3713, 47.158176, 15.52427, 193.84183, 0.054414548, 2.1813223e-06, 7.1811502e-07, 8.9662399e-06, 2.8403621e-08, 21619076.0, 68216.375, 3.1544738, 17.235487, 0, 'ellipse', array([ 33.0499382,  32.2611618], dtype=float32), 42.581158, 0.63151044, 300)\n",
      " (11.747431760879712, -25.05552553707285, 0.00022875576422975996, 0.00013276783607096831, 5002.8205128205127, 5708.9743589743593, 1.5173213338230198, 0.96995440323826188, 851, 19.914064, 6.2450109, 19.085936, 0.01266393, 1.2436994e-06, 3.9005087e-07, 1.1919801e-06, 4.640786e-09, 16011958.0, 61428.031, 3.6514406, 11.0251, 0, 'ellipse', array([ 28.46865463,  18.10677338], dtype=float32), 175.98193, 0.6864363, 301)\n",
      " (11.659488597901943, -25.029312855227822, 0.0002330940653916258, 0.00018185533784631502, 5586.083333333333, 5900.0, 1.5476610189671192, 1.3281147875422903, 1232, 20.547428, 6.557456, 22.452572, 0.015117414, 1.5961859e-06, 5.0940912e-07, 1.7441834e-06, 2.9882699e-09, 12872828.0, 20280.244, 3.5323644, 16.969948, 0, 'ellipse', array([ 16.76456642,  12.96675873], dtype=float32), 153.57449, 0.2896077, 302)\n",
      " (11.798996724750287, -25.023429058646446, 0.00023956209798825512, 0.00022276194050618869, 4661.1666666666661, 5944.1111111111113, 1.5894132778803396, 1.6289981941663427, 759, 6.4859829, 4.2426562, 11.514017, 0.011487791, 4.7006824e-07, 3.074968e-07, 8.3447242e-07, 4.991989e-09, 13797960.0, 81386.195, 1.4406886, 11.720104, 0, 'ellipse', array([ 20.86313438,  20.09648132], dtype=float32), 65.54528, 0.58236736, 303)\n",
      " (11.681878887489693, -25.019321328397748, 0.00022907623053392001, 0.00021923668845147404, 5437.7444444444445, 5973.3444444444449, 1.5213347868266283, 1.6019402673091463, 3115, 30.270302, 9.4868641, 59.729698, 0.024427423, 2.3021564e-06, 7.2150863e-07, 4.5426409e-06, 3.2505307e-09, 13148673.0, 7720.5493, 3.4488723, 16.5907, 0, 'ellipse', array([ 51.16659927,  36.54207611], dtype=float32), 49.573776, 0.86876822, 304)\n",
      " (11.723808183323928, -25.002552711784087, 0.00019016063623666923, 0.00020770114122115046, 5159.875, 6096.416666666667, 1.2628677957109176, 1.5183103120589294, 3611, 29.503748, 9.0000277, 51.496254, 0.022335418, 2.5498941e-06, 7.7872352e-07, 4.450621e-06, 6.4851008e-08, 11570577.0, 168522.81, 3.5857055, 16.420847, 0, 'ellipse', array([ 23.14910126,  17.50831223], dtype=float32), 65.999123, 0.40866965, 305)\n",
      " (11.768139599120962, -24.969646499118422, 0.00020798337201810568, 0.00032428507345372282, 4866.1000000000004, 6337.5, 1.3816656614380918, 2.3717082451266833, 639, 4.3179393, 3.162287, 5.6820607, 0.0076421578, 5.1825975e-07, 3.8029842e-07, 6.8198824e-07, 3.1334217e-08, 8331611.5, 382635.12, 1.2210846, 17.163975, 0, 'ellipse', array([ 23.51802254,  11.17866707], dtype=float32), 109.31673, 0.31488815, 306)]\n"
     ]
    }
   ],
   "source": [
    "print data_NGC253_M_L"
   ]
  },
  {
   "cell_type": "code",
   "execution_count": 141,
   "metadata": {
    "collapsed": true
   },
   "outputs": [],
   "source": [
    "data_NGC253_M_RA=data_NGC253_M_L['RA']"
   ]
  },
  {
   "cell_type": "code",
   "execution_count": 142,
   "metadata": {
    "collapsed": false
   },
   "outputs": [
    {
     "name": "stdout",
     "output_type": "stream",
     "text": [
      "[ 11.93482227  11.79615101  11.7927183   11.81590017  11.77798003\n",
      "  11.88597435  11.80715362  11.84417472  11.84165809  11.93614188\n",
      "  11.79998018  11.89626945  11.89994351  11.90469698  11.89716931\n",
      "  11.90993853  11.85500824  11.86231233  11.89448611  11.84292418\n",
      "  11.86916045  11.88190988  11.91002196  11.88826161  11.85714     11.8602581\n",
      "  11.82709955  11.89601908  11.84791717  11.87714813  11.8398689\n",
      "  11.85117265  11.88743727  11.84152468  11.87815909  11.88443056\n",
      "  11.87372633  11.84724008  11.89914424  11.8234616   11.87907819\n",
      "  11.86670989  11.88972971  11.86421187  11.96715311  11.8851798\n",
      "  11.95469434  11.82319603  11.85139152  11.85636726  11.85827236\n",
      "  11.86458773  11.87065885  11.8921394   11.87877455  11.89047301\n",
      "  11.88734284  11.83728321  11.85438981  11.88467177  11.80002744\n",
      "  11.87894868  11.90520651  11.89960642  11.87451169  11.87642672\n",
      "  11.86646354  11.96680599  11.86196817  11.88909538  11.90918843\n",
      "  11.88411192  11.8886577   11.85704161  11.89339844  11.87855188\n",
      "  11.88350324  11.8319161   11.88759623  11.88844024  11.8763992\n",
      "  11.88762815  11.88847707  11.8937309   11.86838504  11.88398434\n",
      "  11.89592765  11.88732759  11.87467381  11.89274089  11.88846867\n",
      "  11.92529043  11.89602319  11.87018007  11.86469907  11.87762522\n",
      "  11.86984431  11.85575744  11.92238153  11.90133362  11.8786667\n",
      "  11.76214778  11.89161652  11.95289689  11.91453814  11.95432692\n",
      "  11.94446885  11.91005512  11.91346206  11.98546361  11.89968861\n",
      "  11.8794292   11.88576465  11.9213095   11.89001176  11.91292196\n",
      "  11.8775987   11.88754113  11.84942429  11.98718562  11.90951842\n",
      "  11.86663147  11.89529324  11.88993761  11.82443924  11.92939557\n",
      "  11.91930706  11.92957874  11.93199033  11.94676004  11.89678063\n",
      "  11.88179949  11.95203913  11.9281727   11.8793662   11.93675968\n",
      "  11.91693486  11.85187264  11.87873649  11.92807919  11.78726003\n",
      "  11.91945104  11.8866608   11.94890788  11.79021954  11.93687264\n",
      "  11.87666798  11.95620298  11.92935636  11.89157404  11.9733099\n",
      "  11.81750373  11.95353412  11.8662073   11.80513391  11.86509326\n",
      "  11.85237408  11.84380335  11.8802555   11.87813488  11.84414214\n",
      "  11.84673103  11.8464725   11.90410558  11.82631696  11.83720115\n",
      "  11.88188156  12.0007502   11.85707783  11.88480287  11.94411556\n",
      "  11.85608159  11.86585518  11.94646377  11.96492078  11.91892352\n",
      "  11.81610928  11.83412703  11.95600421  11.69747983  11.83683843\n",
      "  11.87571083  11.80337696  11.73568833  11.92009708  11.83150274\n",
      "  11.77108162  11.80087495  12.05867214  11.90230278  11.94601024\n",
      "  11.89439373  11.90044875  11.98352792  11.73931149  11.89821855\n",
      "  11.99299284  12.01033146  11.89741916  11.88118001  11.8834345\n",
      "  11.88331515  11.78334002  11.9612523   11.88835097  11.97586929\n",
      "  11.96927632  11.98809457  11.98555571  11.96064996  11.831913\n",
      "  11.82074041  11.92906403  11.96258338  11.99298706  11.74937897\n",
      "  11.86791096  11.99886462  11.78659879  11.96419629  11.89845988\n",
      "  11.89002906  11.95133284  11.86053861  11.78587882  11.8173688\n",
      "  11.83251663  11.69417276  11.71909225  11.99238997  12.00413874\n",
      "  11.7562039   11.74763456  11.83466816  11.74964102  11.85699411\n",
      "  11.73729945  11.85201932  11.89716538  11.88907278  12.02033658\n",
      "  11.93885958  11.92840253  11.99980066  11.92965545  12.12575465\n",
      "  11.74623996  11.75169855  11.85686758  11.72411751  11.72792414\n",
      "  11.73209189  11.9441446   11.65233676  11.86998175  11.65903059\n",
      "  11.88272309  11.77153115  11.91719712  11.76003358  11.77048547\n",
      "  11.68486597  11.85429963  11.96539574  11.75264952  11.70039862\n",
      "  12.00841101  11.92073516  11.78352831  12.0785349   12.07857467\n",
      "  12.02793815  12.00825863  11.76833891  11.6768731   11.65941873\n",
      "  11.62413094  11.64407642  11.82446493  11.65132302  11.70360849\n",
      "  11.75794099  12.12691934  11.77434044  11.64162241  11.61394798\n",
      "  11.63677925  11.65971202  11.99254651  12.03247912  11.89636988\n",
      "  11.7879796   11.67647933  11.6729343   12.03879864  11.76351904\n",
      "  11.99563296  12.04822952  12.03669936  12.20987471  11.74743176\n",
      "  11.6594886   11.79899672  11.68187889  11.72380818  11.7681396 ]\n"
     ]
    }
   ],
   "source": [
    "print data_NGC253_M_RA"
   ]
  },
  {
   "cell_type": "code",
   "execution_count": 143,
   "metadata": {
    "collapsed": true
   },
   "outputs": [],
   "source": [
    "data_NGC253_M_DEC=data_NGC253_M_L['Dec']"
   ]
  },
  {
   "cell_type": "code",
   "execution_count": 144,
   "metadata": {
    "collapsed": false
   },
   "outputs": [
    {
     "name": "stdout",
     "output_type": "stream",
     "text": [
      "[-25.44775889 -25.392274   -25.37575897 -25.36277945 -25.35735381\n",
      " -25.35227908 -25.34872159 -25.3474581  -25.34693961 -25.34611253\n",
      " -25.34391768 -25.33719504 -25.33494073 -25.33386618 -25.33334991\n",
      " -25.32929044 -25.32923566 -25.32869336 -25.32703629 -25.32668605\n",
      " -25.32317275 -25.32265675 -25.32199741 -25.32193757 -25.3209344\n",
      " -25.32061636 -25.32059385 -25.31993954 -25.31789884 -25.31718129\n",
      " -25.31596596 -25.31435478 -25.3128477  -25.3126638  -25.3124816\n",
      " -25.31150605 -25.31073983 -25.31029553 -25.30809722 -25.30745704\n",
      " -25.30733011 -25.30562841 -25.30460614 -25.30461298 -25.30404676\n",
      " -25.30325818 -25.30305744 -25.30315791 -25.30192024 -25.30122018\n",
      " -25.30064346 -25.29971406 -25.29794661 -25.29800967 -25.29769907\n",
      " -25.29725387 -25.29692629 -25.29642435 -25.29599771 -25.29554412\n",
      " -25.29549629 -25.29548746 -25.29443547 -25.29433684 -25.29404734\n",
      " -25.29389583 -25.29297644 -25.29259879 -25.29246894 -25.28942415\n",
      " -25.29127232 -25.2910176  -25.29072002 -25.29051569 -25.28997615\n",
      " -25.28995827 -25.2893247  -25.28935994 -25.28884327 -25.28833985\n",
      " -25.28712135 -25.28669523 -25.28668817 -25.28584665 -25.28584941\n",
      " -25.28504943 -25.28499449 -25.28479534 -25.28489526 -25.28432242\n",
      " -25.28409014 -25.28368522 -25.2833436  -25.28318413 -25.28316702\n",
      " -25.27997444 -25.2793006  -25.27872608 -25.27761639 -25.27740386\n",
      " -25.27723064 -25.27707004 -25.27686762 -25.27646428 -25.27619054\n",
      " -25.27463836 -25.27361392 -25.27340517 -25.27337475 -25.27210887\n",
      " -25.27185115 -25.2707814  -25.2703476  -25.26966196 -25.26828068\n",
      " -25.2676771  -25.26671236 -25.26601502 -25.26542626 -25.26306574\n",
      " -25.26152832 -25.26026712 -25.26003645 -25.25944625 -25.25943799\n",
      " -25.25814994 -25.25805378 -25.25687638 -25.25479121 -25.25433089\n",
      " -25.25330716 -25.25170925 -25.25086858 -25.25059933 -25.25055244\n",
      " -25.24906107 -25.24791775 -25.24743198 -25.24734144 -25.24491769\n",
      " -25.23892706 -25.23684253 -25.2364867  -25.23613457 -25.23459799\n",
      " -25.22732071 -25.22704651 -25.22655206 -25.22297371 -25.21991527\n",
      " -25.21909693 -25.21853678 -25.21408743 -25.2119747  -25.21103456\n",
      " -25.20575624 -25.20400018 -25.20021801 -25.19105526 -25.19102795\n",
      " -25.19032436 -25.18969445 -25.18182234 -25.17878729 -25.16848445\n",
      " -25.16791018 -25.16685279 -25.16487135 -25.16116078 -25.46961508\n",
      " -25.45980547 -25.44642425 -25.44524786 -25.41586284 -25.404712\n",
      " -25.39911906 -25.39301842 -25.39224846 -25.38575883 -25.36393732\n",
      " -25.35817153 -25.35404616 -25.35161562 -25.34241022 -25.336713\n",
      " -25.33379332 -25.32249387 -25.32183778 -25.31948662 -25.31237149\n",
      " -25.30140468 -25.29935884 -25.29706695 -25.29616818 -25.29524976\n",
      " -25.29222974 -25.29144736 -25.28673435 -25.28553052 -25.28607943\n",
      " -25.28354805 -25.28179015 -25.2797555  -25.27767938 -25.27013899\n",
      " -25.26393972 -25.26362792 -25.25087708 -25.24587776 -25.24382839\n",
      " -25.24347494 -25.24342809 -25.24287482 -25.22002411 -25.20463552\n",
      " -25.2024665  -25.19501997 -25.18952978 -25.17504958 -25.17301269\n",
      " -25.15960821 -25.15245361 -25.15199375 -25.14249788 -25.12103916\n",
      " -25.12055995 -25.11231728 -25.08644105 -25.06299802 -25.4349624\n",
      " -25.39747333 -25.38943887 -25.38068839 -25.3805402  -25.37168112\n",
      " -25.34157178 -25.31844077 -25.30785153 -25.30461566 -25.27233679\n",
      " -25.23291447 -25.20587268 -25.19707256 -25.17164108 -25.16651278\n",
      " -25.1450723  -25.13775843 -25.10873589 -25.10357041 -25.10214679\n",
      " -25.08178531 -25.06787533 -25.4980225  -25.49064021 -25.46904051\n",
      " -25.45612847 -25.45451978 -25.44302577 -25.42604234 -25.40550148\n",
      " -25.39721392 -25.37722921 -25.35693047 -25.33616276 -25.30835134\n",
      " -25.2935157  -25.2787725  -25.27335736 -25.27195487 -25.25282956\n",
      " -25.22083525 -25.21249147 -25.19063086 -24.99472563 -25.48738956\n",
      " -25.47133386 -25.46114347 -25.4490976  -25.42406548 -25.38949841\n",
      " -25.33708491 -25.18519029 -25.06180801 -25.04104674 -25.04006863\n",
      " -24.97466705 -24.95548388 -24.94755156 -25.49683928 -25.4171054\n",
      " -25.39711285 -25.30254317 -25.08747093 -25.00651516 -25.45418142\n",
      " -25.43102557 -25.34074212 -25.17516244 -25.16276027 -25.16093017\n",
      " -25.05552554 -25.02931286 -25.02342906 -25.01932133 -25.00255271\n",
      " -24.9696465 ]\n"
     ]
    }
   ],
   "source": [
    "print data_NGC253_M_DEC"
   ]
  },
  {
   "cell_type": "code",
   "execution_count": 145,
   "metadata": {
    "collapsed": false
   },
   "outputs": [
    {
     "name": "stdout",
     "output_type": "stream",
     "text": [
      "13830.psfmap               790.psfmap\r\n",
      "13830_broad_flux.img       790_broad_flux.img\r\n",
      "13830_broad_thresh.expmap  790_broad_thresh.expmap\r\n",
      "13830_broad_thresh.img     790_broad_thresh.img\r\n",
      "13830_reproj_evt.fits      790_reproj_evt.fits\r\n",
      "13831.psfmap               969.psfmap\r\n",
      "13831_broad_flux.img       969_broad_flux.img\r\n",
      "13831_broad_thresh.expmap  969_broad_thresh.expmap\r\n",
      "13831_broad_thresh.img     969_broad_thresh.img\r\n",
      "13831_reproj_evt.fits      969_reproj_evt.fits\r\n",
      "13832.psfmap               broad_flux.img\r\n",
      "13832_broad_flux.img       broad_thresh.expmap\r\n",
      "13832_broad_thresh.expmap  broad_thresh.img\r\n",
      "13832_broad_thresh.img     merged_evt.fits\r\n",
      "13832_reproj_evt.fits      wav_none_cell.fits\r\n",
      "3931.psfmap                wav_none_nbkg.fits\r\n",
      "3931_broad_flux.img        wav_none_recon.fits\r\n",
      "3931_broad_thresh.expmap   wav_none_src.fits\r\n",
      "3931_broad_thresh.img      weighted_mean.psfmap\r\n",
      "3931_reproj_evt.fits\r\n"
     ]
    }
   ],
   "source": [
    "ls"
   ]
  },
  {
   "cell_type": "code",
   "execution_count": 146,
   "metadata": {
    "collapsed": false
   },
   "outputs": [
    {
     "name": "stdout",
     "output_type": "stream",
     "text": [
      "13830.psfmap               790.psfmap\r\n",
      "13830_broad_flux.img       790_broad_flux.img\r\n",
      "13830_broad_thresh.expmap  790_broad_thresh.expmap\r\n",
      "13830_broad_thresh.img     790_broad_thresh.img\r\n",
      "13830_reproj_evt.fits      790_reproj_evt.fits\r\n",
      "13831.psfmap               969.psfmap\r\n",
      "13831_broad_flux.img       969_broad_flux.img\r\n",
      "13831_broad_thresh.expmap  969_broad_thresh.expmap\r\n",
      "13831_broad_thresh.img     969_broad_thresh.img\r\n",
      "13831_reproj_evt.fits      969_reproj_evt.fits\r\n",
      "13832.psfmap               broad_flux.img\r\n",
      "13832_broad_flux.img       broad_thresh.expmap\r\n",
      "13832_broad_thresh.expmap  broad_thresh.img\r\n",
      "13832_broad_thresh.img     merged_evt.fits\r\n",
      "13832_reproj_evt.fits      wav_none_cell.fits\r\n",
      "3931.psfmap                wav_none_nbkg.fits\r\n",
      "3931_broad_flux.img        wav_none_recon.fits\r\n",
      "3931_broad_thresh.expmap   wav_none_src.fits\r\n",
      "3931_broad_thresh.img      weighted_mean.psfmap\r\n",
      "3931_reproj_evt.fits\r\n"
     ]
    }
   ],
   "source": [
    "ls"
   ]
  },
  {
   "cell_type": "code",
   "execution_count": 147,
   "metadata": {
    "collapsed": false
   },
   "outputs": [
    {
     "name": "stdout",
     "output_type": "stream",
     "text": [
      "11.888\n",
      "-25.28822\n",
      "11.7681395991\n",
      "-24.9696464991\n"
     ]
    }
   ],
   "source": [
    "Area_GC_R_N_B_Ds9('NGC 253',data_NGC253_M_RA,data_NGC253_M_DEC,1843.60,25)"
   ]
  },
  {
   "cell_type": "code",
   "execution_count": 148,
   "metadata": {
    "collapsed": true
   },
   "outputs": [],
   "source": [
    "def dis_GC_R_N(Gname,Data,Maj,Min):\n",
    "    \"\"\"\n",
    "    Gname: str- The name of the galaxy in the form NGC #\n",
    "    Data: array- a table of data containg the coordinates of each object\n",
    "    Maj: int- The major axis of the galaxy in arcseconds\n",
    "    Min: int- The minor axis of the galaxy in arcseconds\n",
    "    \n",
    "    This fucntion takes the inputs for the name of the galaxy, the Dec of the GC, the ra's of an array of objects and the\n",
    "    declinations of an array of objects and returns an histrogram that plots the number of objects per bin by the\n",
    "    distance from the center of the galaxy to the objects in each bin are in degrees.\n",
    "    This function plots the visible Major and Minor axis of the galaxies on the histogram.\n",
    "    This function uses astroquary to get data directly from NED\n",
    "    \"\"\"\n",
    "    import math\n",
    "    decA=Data['dec']\n",
    "    raA=Data['ra']\n",
    "    Maj=Maj/3600\n",
    "    Min=Min/3600\n",
    "    S_Maj=Maj/2\n",
    "    S_Min=Min/2\n",
    "    G_Data= Ned.query_object(Gname)\n",
    "    raGC=float(G_Data['RA(deg)'])\n",
    "    decGC=float(G_Data['DEC(deg)'])\n",
    "    disA=[math.sqrt(((decGC-dec)**2)+((raGC-ra)**2)) for dec,ra in zip(decA,raA)]\n",
    "    plt.vlines(S_Maj,0,10,color='red')\n",
    "    plt.vlines(S_Min,0,10,color='blue')\n",
    "    plt.hist(disA)\n",
    "    plt.plot()\n",
    "    plt.show()"
   ]
  },
  {
   "cell_type": "code",
   "execution_count": 149,
   "metadata": {
    "collapsed": true
   },
   "outputs": [],
   "source": [
    "dis_GC_R_N('NGC 253',data_NGC253_M_L,1843.60,25)"
   ]
  },
  {
   "cell_type": "code",
   "execution_count": 150,
   "metadata": {
    "collapsed": true
   },
   "outputs": [],
   "source": [
    "def dis_GC_R_N_Ds9(Gname,RA,DEC,Maj,Min):\n",
    "    \"\"\"\n",
    "    Gname: str- The name of the galaxy in the form NGC #\n",
    "    Data: array- a table of data containg the coordinates of each object\n",
    "    Maj: int- The major axis of the galaxy in arcseconds\n",
    "    Min: int- The minor axis of the galaxy in arcseconds\n",
    "    \n",
    "    This fucntion takes the inputs for the name of the galaxy, the Dec of the GC, the ra's of an array of objects and the\n",
    "    declinations of an array of objects and returns an histrogram that plots the number of objects per bin by the\n",
    "    distance from the center of the galaxy to the objects in each bin are in degrees.\n",
    "    This function plots the visible Major and Minor axis of the galaxies on the histogram.\n",
    "    This function uses astroquary to get data directly from NED\n",
    "    \"\"\"\n",
    "    import math\n",
    "    decA=DEC\n",
    "    raA=RA\n",
    "    Maj=Maj/3600\n",
    "    Min=Min/3600\n",
    "    S_Maj=Maj/2\n",
    "    S_Min=Min/2\n",
    "    G_Data= Ned.query_object(Gname)\n",
    "    raGC=float(G_Data['RA(deg)'])\n",
    "    decGC=float(G_Data['DEC(deg)'])\n",
    "    disA=[math.sqrt(((decGC-dec)**2)+((raGC-ra)**2)) for dec,ra in zip(decA,raA)]\n",
    "    plt.vlines(S_Maj,0,10,color='red')\n",
    "    plt.vlines(S_Min,0,10,color='blue')\n",
    "    plt.hist(disA)\n",
    "    plt.plot()\n",
    "    plt.show()"
   ]
  },
  {
   "cell_type": "code",
   "execution_count": 152,
   "metadata": {
    "collapsed": false
   },
   "outputs": [
    {
     "name": "stdout",
     "output_type": "stream",
     "text": [
      "[ 11.93482227  11.79615101  11.7927183   11.81590017  11.77798003\n",
      "  11.88597435  11.80715362  11.84417472  11.84165809  11.93614188\n",
      "  11.79998018  11.89626945  11.89994351  11.90469698  11.89716931\n",
      "  11.90993853  11.85500824  11.86231233  11.89448611  11.84292418\n",
      "  11.86916045  11.88190988  11.91002196  11.88826161  11.85714     11.8602581\n",
      "  11.82709955  11.89601908  11.84791717  11.87714813  11.8398689\n",
      "  11.85117265  11.88743727  11.84152468  11.87815909  11.88443056\n",
      "  11.87372633  11.84724008  11.89914424  11.8234616   11.87907819\n",
      "  11.86670989  11.88972971  11.86421187  11.96715311  11.8851798\n",
      "  11.95469434  11.82319603  11.85139152  11.85636726  11.85827236\n",
      "  11.86458773  11.87065885  11.8921394   11.87877455  11.89047301\n",
      "  11.88734284  11.83728321  11.85438981  11.88467177  11.80002744\n",
      "  11.87894868  11.90520651  11.89960642  11.87451169  11.87642672\n",
      "  11.86646354  11.96680599  11.86196817  11.88909538  11.90918843\n",
      "  11.88411192  11.8886577   11.85704161  11.89339844  11.87855188\n",
      "  11.88350324  11.8319161   11.88759623  11.88844024  11.8763992\n",
      "  11.88762815  11.88847707  11.8937309   11.86838504  11.88398434\n",
      "  11.89592765  11.88732759  11.87467381  11.89274089  11.88846867\n",
      "  11.92529043  11.89602319  11.87018007  11.86469907  11.87762522\n",
      "  11.86984431  11.85575744  11.92238153  11.90133362  11.8786667\n",
      "  11.76214778  11.89161652  11.95289689  11.91453814  11.95432692\n",
      "  11.94446885  11.91005512  11.91346206  11.98546361  11.89968861\n",
      "  11.8794292   11.88576465  11.9213095   11.89001176  11.91292196\n",
      "  11.8775987   11.88754113  11.84942429  11.98718562  11.90951842\n",
      "  11.86663147  11.89529324  11.88993761  11.82443924  11.92939557\n",
      "  11.91930706  11.92957874  11.93199033  11.94676004  11.89678063\n",
      "  11.88179949  11.95203913  11.9281727   11.8793662   11.93675968\n",
      "  11.91693486  11.85187264  11.87873649  11.92807919  11.78726003\n",
      "  11.91945104  11.8866608   11.94890788  11.79021954  11.93687264\n",
      "  11.87666798  11.95620298  11.92935636  11.89157404  11.9733099\n",
      "  11.81750373  11.95353412  11.8662073   11.80513391  11.86509326\n",
      "  11.85237408  11.84380335  11.8802555   11.87813488  11.84414214\n",
      "  11.84673103  11.8464725   11.90410558  11.82631696  11.83720115\n",
      "  11.88188156  12.0007502   11.85707783  11.88480287  11.94411556\n",
      "  11.85608159  11.86585518  11.94646377  11.96492078  11.91892352\n",
      "  11.81610928  11.83412703  11.95600421  11.69747983  11.83683843\n",
      "  11.87571083  11.80337696  11.73568833  11.92009708  11.83150274\n",
      "  11.77108162  11.80087495  12.05867214  11.90230278  11.94601024\n",
      "  11.89439373  11.90044875  11.98352792  11.73931149  11.89821855\n",
      "  11.99299284  12.01033146  11.89741916  11.88118001  11.8834345\n",
      "  11.88331515  11.78334002  11.9612523   11.88835097  11.97586929\n",
      "  11.96927632  11.98809457  11.98555571  11.96064996  11.831913\n",
      "  11.82074041  11.92906403  11.96258338  11.99298706  11.74937897\n",
      "  11.86791096  11.99886462  11.78659879  11.96419629  11.89845988\n",
      "  11.89002906  11.95133284  11.86053861  11.78587882  11.8173688\n",
      "  11.83251663  11.69417276  11.71909225  11.99238997  12.00413874\n",
      "  11.7562039   11.74763456  11.83466816  11.74964102  11.85699411\n",
      "  11.73729945  11.85201932  11.89716538  11.88907278  12.02033658\n",
      "  11.93885958  11.92840253  11.99980066  11.92965545  12.12575465\n",
      "  11.74623996  11.75169855  11.85686758  11.72411751  11.72792414\n",
      "  11.73209189  11.9441446   11.65233676  11.86998175  11.65903059\n",
      "  11.88272309  11.77153115  11.91719712  11.76003358  11.77048547\n",
      "  11.68486597  11.85429963  11.96539574  11.75264952  11.70039862\n",
      "  12.00841101  11.92073516  11.78352831  12.0785349   12.07857467\n",
      "  12.02793815  12.00825863  11.76833891  11.6768731   11.65941873\n",
      "  11.62413094  11.64407642  11.82446493  11.65132302  11.70360849\n",
      "  11.75794099  12.12691934  11.77434044  11.64162241  11.61394798\n",
      "  11.63677925  11.65971202  11.99254651  12.03247912  11.89636988\n",
      "  11.7879796   11.67647933  11.6729343   12.03879864  11.76351904\n",
      "  11.99563296  12.04822952  12.03669936  12.20987471  11.74743176\n",
      "  11.6594886   11.79899672  11.68187889  11.72380818  11.7681396 ]\n"
     ]
    }
   ],
   "source": [
    "print data_NGC253_M_RA"
   ]
  },
  {
   "cell_type": "code",
   "execution_count": 153,
   "metadata": {
    "collapsed": false
   },
   "outputs": [
    {
     "name": "stdout",
     "output_type": "stream",
     "text": [
      "[-25.44775889 -25.392274   -25.37575897 -25.36277945 -25.35735381\n",
      " -25.35227908 -25.34872159 -25.3474581  -25.34693961 -25.34611253\n",
      " -25.34391768 -25.33719504 -25.33494073 -25.33386618 -25.33334991\n",
      " -25.32929044 -25.32923566 -25.32869336 -25.32703629 -25.32668605\n",
      " -25.32317275 -25.32265675 -25.32199741 -25.32193757 -25.3209344\n",
      " -25.32061636 -25.32059385 -25.31993954 -25.31789884 -25.31718129\n",
      " -25.31596596 -25.31435478 -25.3128477  -25.3126638  -25.3124816\n",
      " -25.31150605 -25.31073983 -25.31029553 -25.30809722 -25.30745704\n",
      " -25.30733011 -25.30562841 -25.30460614 -25.30461298 -25.30404676\n",
      " -25.30325818 -25.30305744 -25.30315791 -25.30192024 -25.30122018\n",
      " -25.30064346 -25.29971406 -25.29794661 -25.29800967 -25.29769907\n",
      " -25.29725387 -25.29692629 -25.29642435 -25.29599771 -25.29554412\n",
      " -25.29549629 -25.29548746 -25.29443547 -25.29433684 -25.29404734\n",
      " -25.29389583 -25.29297644 -25.29259879 -25.29246894 -25.28942415\n",
      " -25.29127232 -25.2910176  -25.29072002 -25.29051569 -25.28997615\n",
      " -25.28995827 -25.2893247  -25.28935994 -25.28884327 -25.28833985\n",
      " -25.28712135 -25.28669523 -25.28668817 -25.28584665 -25.28584941\n",
      " -25.28504943 -25.28499449 -25.28479534 -25.28489526 -25.28432242\n",
      " -25.28409014 -25.28368522 -25.2833436  -25.28318413 -25.28316702\n",
      " -25.27997444 -25.2793006  -25.27872608 -25.27761639 -25.27740386\n",
      " -25.27723064 -25.27707004 -25.27686762 -25.27646428 -25.27619054\n",
      " -25.27463836 -25.27361392 -25.27340517 -25.27337475 -25.27210887\n",
      " -25.27185115 -25.2707814  -25.2703476  -25.26966196 -25.26828068\n",
      " -25.2676771  -25.26671236 -25.26601502 -25.26542626 -25.26306574\n",
      " -25.26152832 -25.26026712 -25.26003645 -25.25944625 -25.25943799\n",
      " -25.25814994 -25.25805378 -25.25687638 -25.25479121 -25.25433089\n",
      " -25.25330716 -25.25170925 -25.25086858 -25.25059933 -25.25055244\n",
      " -25.24906107 -25.24791775 -25.24743198 -25.24734144 -25.24491769\n",
      " -25.23892706 -25.23684253 -25.2364867  -25.23613457 -25.23459799\n",
      " -25.22732071 -25.22704651 -25.22655206 -25.22297371 -25.21991527\n",
      " -25.21909693 -25.21853678 -25.21408743 -25.2119747  -25.21103456\n",
      " -25.20575624 -25.20400018 -25.20021801 -25.19105526 -25.19102795\n",
      " -25.19032436 -25.18969445 -25.18182234 -25.17878729 -25.16848445\n",
      " -25.16791018 -25.16685279 -25.16487135 -25.16116078 -25.46961508\n",
      " -25.45980547 -25.44642425 -25.44524786 -25.41586284 -25.404712\n",
      " -25.39911906 -25.39301842 -25.39224846 -25.38575883 -25.36393732\n",
      " -25.35817153 -25.35404616 -25.35161562 -25.34241022 -25.336713\n",
      " -25.33379332 -25.32249387 -25.32183778 -25.31948662 -25.31237149\n",
      " -25.30140468 -25.29935884 -25.29706695 -25.29616818 -25.29524976\n",
      " -25.29222974 -25.29144736 -25.28673435 -25.28553052 -25.28607943\n",
      " -25.28354805 -25.28179015 -25.2797555  -25.27767938 -25.27013899\n",
      " -25.26393972 -25.26362792 -25.25087708 -25.24587776 -25.24382839\n",
      " -25.24347494 -25.24342809 -25.24287482 -25.22002411 -25.20463552\n",
      " -25.2024665  -25.19501997 -25.18952978 -25.17504958 -25.17301269\n",
      " -25.15960821 -25.15245361 -25.15199375 -25.14249788 -25.12103916\n",
      " -25.12055995 -25.11231728 -25.08644105 -25.06299802 -25.4349624\n",
      " -25.39747333 -25.38943887 -25.38068839 -25.3805402  -25.37168112\n",
      " -25.34157178 -25.31844077 -25.30785153 -25.30461566 -25.27233679\n",
      " -25.23291447 -25.20587268 -25.19707256 -25.17164108 -25.16651278\n",
      " -25.1450723  -25.13775843 -25.10873589 -25.10357041 -25.10214679\n",
      " -25.08178531 -25.06787533 -25.4980225  -25.49064021 -25.46904051\n",
      " -25.45612847 -25.45451978 -25.44302577 -25.42604234 -25.40550148\n",
      " -25.39721392 -25.37722921 -25.35693047 -25.33616276 -25.30835134\n",
      " -25.2935157  -25.2787725  -25.27335736 -25.27195487 -25.25282956\n",
      " -25.22083525 -25.21249147 -25.19063086 -24.99472563 -25.48738956\n",
      " -25.47133386 -25.46114347 -25.4490976  -25.42406548 -25.38949841\n",
      " -25.33708491 -25.18519029 -25.06180801 -25.04104674 -25.04006863\n",
      " -24.97466705 -24.95548388 -24.94755156 -25.49683928 -25.4171054\n",
      " -25.39711285 -25.30254317 -25.08747093 -25.00651516 -25.45418142\n",
      " -25.43102557 -25.34074212 -25.17516244 -25.16276027 -25.16093017\n",
      " -25.05552554 -25.02931286 -25.02342906 -25.01932133 -25.00255271\n",
      " -24.9696465 ]\n"
     ]
    }
   ],
   "source": [
    "print data_NGC253_M_DEC"
   ]
  },
  {
   "cell_type": "code",
   "execution_count": null,
   "metadata": {
    "collapsed": true
   },
   "outputs": [],
   "source": [
    "dis_GC_R_N_Ds9('NGC 253',data_NGC253_M_RA,data_NGC253_M_DEC,1843.60,25)"
   ]
  },
  {
   "cell_type": "code",
   "execution_count": 155,
   "metadata": {
    "collapsed": true
   },
   "outputs": [],
   "source": [
    "def Area_GC_R_N_F(Gname,Data,Maj):\n",
    "    \"\"\"\n",
    "    Gname: str- The name of the galaxy in the form NGC #\n",
    "    Data: array- a table of data containg the coordinates of each object\n",
    "    Maj: int- The major axis of the galaxy in arcseconds\n",
    "    \n",
    "    This fucntion takes the inputs for the name of the galaxy, the ra's of an array of objects and the\n",
    "    declinations of an array of objects and returns an histrogram that plots the number of objects per bin by the\n",
    "    area enclosed by the cirlce centered on the center of the galaxy that inculdes the objects in each bin in \n",
    "    square degrees divided by the visible area of the galaxy in square degrees.\n",
    "    This function plots the visible Major axis of the galaxy area enclosed by a circle that uses the Major axis as \n",
    "    the diameter of the cirlce divided by itself to give 1 on histogram.\n",
    "    This function uses astroquary to get data directly from NED\n",
    "    \"\"\"\n",
    "    import math\n",
    "    decA=Data['dec']\n",
    "    raA=Data['ra']\n",
    "    Maj=Maj/3600\n",
    "    S_Maj=Maj/2\n",
    "    area_T=((S_Maj)**2)*math.pi\n",
    "    G_Data= Ned.query_object(Gname)\n",
    "    raGC=float(G_Data['RA(deg)'])\n",
    "    decGC=float(G_Data['DEC(deg)'])\n",
    "    area_A=[((((((decGC-dec)**2)+((raGC-ra)**2)))*(math.pi))/area_T) for dec,ra in zip(decA,raA)]\n",
    "    #plt.vlines(1,0,10,color='red')\n",
    "    plt.hist(area_A)\n",
    "    plt.plot()\n",
    "    plt.show()"
   ]
  },
  {
   "cell_type": "code",
   "execution_count": null,
   "metadata": {
    "collapsed": false
   },
   "outputs": [],
   "source": [
    "Area_GC_R_N_F('NGC 253',data_NGC253_M_L,1843.60)"
   ]
  },
  {
   "cell_type": "code",
   "execution_count": null,
   "metadata": {
    "collapsed": true
   },
   "outputs": [],
   "source": []
  }
 ],
 "metadata": {
  "kernelspec": {
   "display_name": "Python 2",
   "language": "python",
   "name": "python2"
  },
  "language_info": {
   "codemirror_mode": {
    "name": "ipython",
    "version": 2
   },
   "file_extension": ".py",
   "mimetype": "text/x-python",
   "name": "python",
   "nbconvert_exporter": "python",
   "pygments_lexer": "ipython2",
   "version": "2.7.11"
  }
 },
 "nbformat": 4,
 "nbformat_minor": 0
}
