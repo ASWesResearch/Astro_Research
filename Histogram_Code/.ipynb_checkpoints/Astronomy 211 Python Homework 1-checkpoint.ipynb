{
 "cells": [
  {
   "cell_type": "code",
   "execution_count": 74,
   "metadata": {
    "collapsed": true
   },
   "outputs": [],
   "source": [
    "import math"
   ]
  },
  {
   "cell_type": "code",
   "execution_count": 2,
   "metadata": {
    "collapsed": true
   },
   "outputs": [],
   "source": [
    "f=open('mybithday.txt','w')\n",
    "f.write('Anthony\\n')\n",
    "f.write('12/5/92')\n",
    "f.close()"
   ]
  },
  {
   "cell_type": "code",
   "execution_count": 4,
   "metadata": {
    "collapsed": false
   },
   "outputs": [
    {
     "name": "stdout",
     "output_type": "stream",
     "text": [
      "Enter Amount of Degrees-20\n",
      "Angle in deg,arcmin,arcsec is 340 0 0\n",
      "Angle in hours, min, sec is 22 40 0\n",
      "Angle in radians is 5.93411945756\n"
     ]
    }
   ],
   "source": [
    "def unitconvert():\n",
    "    \"\"\"x:float - a decimal angle in degrees\n",
    "       retruns: the same value angle in degrees, acrminutes, arcseconds &\n",
    "       hours,min,sec & radians\n",
    "    \"\"\"\n",
    "    x=float(raw_input('Enter Amount of Degrees')) #Prompts user to enter number of degrees as a decimal\n",
    "    if(x>=360 or x<0):\n",
    "        x=x-((int(x)/360)*360)\n",
    "    else:\n",
    "        x=x\n",
    "        \"\"\"This if fucntion takes the inputed angle values x that are greater then 360 degrees and less then 0 degrees \n",
    "       and converts them to the equvilant angle A on the range of 0 degrees to 360 degrees. this if funtion ouputs\n",
    "       0 degrees in place of 360 degrees because they are equal\n",
    "        \"\"\" \n",
    "\n",
    "\n",
    "    ArcDegR=float(x-int(x)) #float : - The decimal remander of the angle A from whole degrees in degrees\n",
    "    ArcDeg=x-ArcDegR #float : - The number of whole degrees in the angle A\n",
    "    ArcMinD=60.0*ArcDegR #float : - The float remander of the angle A from whole degrees in arcminutes\n",
    "    ArcMinR=float(ArcMinD-int(ArcMinD)) #float : - The decimal remander of ArcMinD from whole arcminutes in acrminutes\n",
    "    ArcMin=ArcMinD-ArcMinR #float:-The number of whole arcminutes the angle A is larger then the number of whole degrees\n",
    "    ArcSecD=60.0*ArcMinR #float : - The float remander of the angle A from whole arcmintutes in arcseconds\n",
    "    ArcSec=int(ArcSecD) #int : - The number of whole arcseconds the angle A is larger then the number of whole arcminutes\n",
    "    HourD=x/15.0 #float: - The float number of the angle A in Hours\n",
    "    HourR=float(HourD-int(HourD)) #float : - The decimal remander of the angle A from whole hours in hours\n",
    "    Hour=HourD-HourR #float: The number of whole hours in the angle A\n",
    "    MinD=60.0*HourR #float: - The decimal remander of the angle A from whole hours in minutes\n",
    "    MinR=float(MinD-int(MinD)) #float: - The decimal remander of the angle A from whole hours plus whole minutes\n",
    "    Min=MinD-MinR #float: - The number of whole minutes the angle A is larger then the number of whole hours\n",
    "    SecD=60.0*MinR #float: - The float remander of the angle A from the from whole Hours plus whole minutes is seconds\n",
    "    Sec=int(SecD) #int: - The number of whole seconds in angle A is larger then the number of whole hours plus minutes\n",
    "    Rad=(x/180.0)*3.141592654\n",
    "    \n",
    "    print \"Angle in deg,arcmin,arcsec is\", int(ArcDeg),int(ArcMin),int(ArcSec)\n",
    "    print \"Angle in hours, min, sec is\", int(Hour),int(Min),int(Sec)\n",
    "    print \"Angle in radians is\", Rad\n",
    "unitconvert()"
   ]
  },
  {
   "cell_type": "code",
   "execution_count": 65,
   "metadata": {
    "collapsed": false
   },
   "outputs": [
    {
     "data": {
      "text/plain": [
       "'myFact is: 3628800'"
      ]
     },
     "execution_count": 65,
     "metadata": {},
     "output_type": "execute_result"
    }
   ],
   "source": [
    "def factorial (n):\n",
    "    \"\"\"\n",
    "    n : int - the number that you are taking the factorial of\n",
    "    \n",
    "    This function takes a integer n and returns the factorial of n, if n is set equal to \n",
    "    a float number then this function prints \"The factorial of a non integer number \n",
    "    is not defined, please enter an interger value\"\n",
    "    \"\"\"\n",
    "    try:\n",
    "        test = int(n)\n",
    "    except:\n",
    "        return 'The input could not be converted to an integer. Please enter a valid number'\n",
    "    if (n==0):# Makes sure that the factoral of 0 is 1\n",
    "        return 1\n",
    "    elif n!=abs(int(n)):#Makes sure that when float numbers are used the error message is printed\n",
    "        return \"The factorial of a negative number or non integer is not defined, please enter an integer value\"\n",
    "    else: # This computes the factorial if n is a integer\n",
    "        n=int(n)\n",
    "        F=n\n",
    "        for i in range(1,n):\n",
    "            F=F*(n-i)\n",
    "        return 'myFact is: '+str(F)\n",
    "\n",
    "factorial(10)"
   ]
  },
  {
   "cell_type": "code",
   "execution_count": 69,
   "metadata": {
    "collapsed": false
   },
   "outputs": [],
   "source": [
    "def loop_factorial(start,end):\n",
    "    f=open (\"factorial.txt\",\"w\")\n",
    "    for i in range (start,end+1):\n",
    "        f.write(factorial(i)+ '\\n')\n",
    "        f.write('pyFact is: '+ str(math.factorial(i))+\"\\n\")\n",
    "    f.close()\n",
    "\n",
    "loop_factorial(1,10)\n"
   ]
  },
  {
   "cell_type": "code",
   "execution_count": 1,
   "metadata": {
    "collapsed": false
   },
   "outputs": [
    {
     "name": "stdout",
     "output_type": "stream",
     "text": [
      "Enter The Number: 1000\n",
      "You should know how to do that in your head !\n"
     ]
    }
   ],
   "source": [
    "try:\n",
    "    n=float(raw_input(\"Enter The Number: \"))\n",
    "    if n <= 100:\n",
    "        print factorial (n)\n",
    "    else:\n",
    "        print \"You should know how to do that in your head !\"\n",
    "except:\n",
    "    print 'The input could not be converted to an integer. Please enter a valid number'    "
   ]
  },
  {
   "cell_type": "code",
   "execution_count": null,
   "metadata": {
    "collapsed": true
   },
   "outputs": [],
   "source": [
    "\"\"\"Problems I had were, with \n",
    "Problem 3 were: Had difficulty figuring out how to mathmatically do the factorial using the 3 varbiables, had trouble\n",
    "making sure that when the user enter a value to factorial that can't work that a error message would come up\n",
    "\"\"\""
   ]
  }
 ],
 "metadata": {
  "kernelspec": {
   "display_name": "Python 2",
   "language": "python",
   "name": "python2"
  },
  "language_info": {
   "codemirror_mode": {
    "name": "ipython",
    "version": 2
   },
   "file_extension": ".py",
   "mimetype": "text/x-python",
   "name": "python",
   "nbconvert_exporter": "python",
   "pygments_lexer": "ipython2",
   "version": "2.7.11"
  }
 },
 "nbformat": 4,
 "nbformat_minor": 0
}
