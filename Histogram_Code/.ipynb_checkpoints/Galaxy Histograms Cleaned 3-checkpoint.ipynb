{
 "cells": [
  {
   "cell_type": "code",
   "execution_count": 340,
   "metadata": {
    "collapsed": true
   },
   "outputs": [],
   "source": [
    "import astropy.io.ascii as ascii"
   ]
  },
  {
   "cell_type": "code",
   "execution_count": 341,
   "metadata": {
    "collapsed": false
   },
   "outputs": [
    {
     "ename": "IOError",
     "evalue": "[Errno 2] No such file or directory: 'NGC 1097.tar'",
     "output_type": "error",
     "traceback": [
      "\u001b[0;31m---------------------------------------------------------------------------\u001b[0m",
      "\u001b[0;31mIOError\u001b[0m                                   Traceback (most recent call last)",
      "\u001b[0;32m<ipython-input-341-9194cfd13ec0>\u001b[0m in \u001b[0;36m<module>\u001b[0;34m()\u001b[0m\n\u001b[1;32m      1\u001b[0m \u001b[0;32mimport\u001b[0m \u001b[0mtarfile\u001b[0m\u001b[0;34m\u001b[0m\u001b[0m\n\u001b[0;32m----> 2\u001b[0;31m \u001b[0mtar\u001b[0m \u001b[0;34m=\u001b[0m \u001b[0mtarfile\u001b[0m\u001b[0;34m.\u001b[0m\u001b[0mopen\u001b[0m\u001b[0;34m(\u001b[0m\u001b[0;34m\"NGC 1097.tar\"\u001b[0m\u001b[0;34m)\u001b[0m\u001b[0;34m\u001b[0m\u001b[0m\n\u001b[0m\u001b[1;32m      3\u001b[0m \u001b[0mtar\u001b[0m\u001b[0;34m.\u001b[0m\u001b[0mextractall\u001b[0m\u001b[0;34m(\u001b[0m\u001b[0;34m)\u001b[0m\u001b[0;34m\u001b[0m\u001b[0m\n\u001b[1;32m      4\u001b[0m \u001b[0mtar\u001b[0m\u001b[0;34m.\u001b[0m\u001b[0mclose\u001b[0m\u001b[0;34m(\u001b[0m\u001b[0;34m)\u001b[0m\u001b[0;34m\u001b[0m\u001b[0m\n",
      "\u001b[0;32m/soft/anaconda/lib/python2.7/tarfile.pyc\u001b[0m in \u001b[0;36mopen\u001b[0;34m(cls, name, mode, fileobj, bufsize, **kwargs)\u001b[0m\n\u001b[1;32m   1671\u001b[0m                     \u001b[0msaved_pos\u001b[0m \u001b[0;34m=\u001b[0m \u001b[0mfileobj\u001b[0m\u001b[0;34m.\u001b[0m\u001b[0mtell\u001b[0m\u001b[0;34m(\u001b[0m\u001b[0;34m)\u001b[0m\u001b[0;34m\u001b[0m\u001b[0m\n\u001b[1;32m   1672\u001b[0m                 \u001b[0;32mtry\u001b[0m\u001b[0;34m:\u001b[0m\u001b[0;34m\u001b[0m\u001b[0m\n\u001b[0;32m-> 1673\u001b[0;31m                     \u001b[0;32mreturn\u001b[0m \u001b[0mfunc\u001b[0m\u001b[0;34m(\u001b[0m\u001b[0mname\u001b[0m\u001b[0;34m,\u001b[0m \u001b[0;34m\"r\"\u001b[0m\u001b[0;34m,\u001b[0m \u001b[0mfileobj\u001b[0m\u001b[0;34m,\u001b[0m \u001b[0;34m**\u001b[0m\u001b[0mkwargs\u001b[0m\u001b[0;34m)\u001b[0m\u001b[0;34m\u001b[0m\u001b[0m\n\u001b[0m\u001b[1;32m   1674\u001b[0m                 \u001b[0;32mexcept\u001b[0m \u001b[0;34m(\u001b[0m\u001b[0mReadError\u001b[0m\u001b[0;34m,\u001b[0m \u001b[0mCompressionError\u001b[0m\u001b[0;34m)\u001b[0m\u001b[0;34m,\u001b[0m \u001b[0me\u001b[0m\u001b[0;34m:\u001b[0m\u001b[0;34m\u001b[0m\u001b[0m\n\u001b[1;32m   1675\u001b[0m                     \u001b[0;32mif\u001b[0m \u001b[0mfileobj\u001b[0m \u001b[0;32mis\u001b[0m \u001b[0;32mnot\u001b[0m \u001b[0mNone\u001b[0m\u001b[0;34m:\u001b[0m\u001b[0;34m\u001b[0m\u001b[0m\n",
      "\u001b[0;32m/soft/anaconda/lib/python2.7/tarfile.pyc\u001b[0m in \u001b[0;36mgzopen\u001b[0;34m(cls, name, mode, fileobj, compresslevel, **kwargs)\u001b[0m\n\u001b[1;32m   1736\u001b[0m \u001b[0;34m\u001b[0m\u001b[0m\n\u001b[1;32m   1737\u001b[0m         \u001b[0;32mtry\u001b[0m\u001b[0;34m:\u001b[0m\u001b[0;34m\u001b[0m\u001b[0m\n\u001b[0;32m-> 1738\u001b[0;31m             \u001b[0mfileobj\u001b[0m \u001b[0;34m=\u001b[0m \u001b[0mgzip\u001b[0m\u001b[0;34m.\u001b[0m\u001b[0mGzipFile\u001b[0m\u001b[0;34m(\u001b[0m\u001b[0mname\u001b[0m\u001b[0;34m,\u001b[0m \u001b[0mmode\u001b[0m\u001b[0;34m,\u001b[0m \u001b[0mcompresslevel\u001b[0m\u001b[0;34m,\u001b[0m \u001b[0mfileobj\u001b[0m\u001b[0;34m)\u001b[0m\u001b[0;34m\u001b[0m\u001b[0m\n\u001b[0m\u001b[1;32m   1739\u001b[0m         \u001b[0;32mexcept\u001b[0m \u001b[0mOSError\u001b[0m\u001b[0;34m:\u001b[0m\u001b[0;34m\u001b[0m\u001b[0m\n\u001b[1;32m   1740\u001b[0m             \u001b[0;32mif\u001b[0m \u001b[0mfileobj\u001b[0m \u001b[0;32mis\u001b[0m \u001b[0;32mnot\u001b[0m \u001b[0mNone\u001b[0m \u001b[0;32mand\u001b[0m \u001b[0mmode\u001b[0m \u001b[0;34m==\u001b[0m \u001b[0;34m'r'\u001b[0m\u001b[0;34m:\u001b[0m\u001b[0;34m\u001b[0m\u001b[0m\n",
      "\u001b[0;32m/soft/anaconda/lib/python2.7/gzip.pyc\u001b[0m in \u001b[0;36m__init__\u001b[0;34m(self, filename, mode, compresslevel, fileobj, mtime)\u001b[0m\n\u001b[1;32m     92\u001b[0m             \u001b[0mmode\u001b[0m \u001b[0;34m+=\u001b[0m \u001b[0;34m'b'\u001b[0m\u001b[0;34m\u001b[0m\u001b[0m\n\u001b[1;32m     93\u001b[0m         \u001b[0;32mif\u001b[0m \u001b[0mfileobj\u001b[0m \u001b[0;32mis\u001b[0m \u001b[0mNone\u001b[0m\u001b[0;34m:\u001b[0m\u001b[0;34m\u001b[0m\u001b[0m\n\u001b[0;32m---> 94\u001b[0;31m             \u001b[0mfileobj\u001b[0m \u001b[0;34m=\u001b[0m \u001b[0mself\u001b[0m\u001b[0;34m.\u001b[0m\u001b[0mmyfileobj\u001b[0m \u001b[0;34m=\u001b[0m \u001b[0m__builtin__\u001b[0m\u001b[0;34m.\u001b[0m\u001b[0mopen\u001b[0m\u001b[0;34m(\u001b[0m\u001b[0mfilename\u001b[0m\u001b[0;34m,\u001b[0m \u001b[0mmode\u001b[0m \u001b[0;32mor\u001b[0m \u001b[0;34m'rb'\u001b[0m\u001b[0;34m)\u001b[0m\u001b[0;34m\u001b[0m\u001b[0m\n\u001b[0m\u001b[1;32m     95\u001b[0m         \u001b[0;32mif\u001b[0m \u001b[0mfilename\u001b[0m \u001b[0;32mis\u001b[0m \u001b[0mNone\u001b[0m\u001b[0;34m:\u001b[0m\u001b[0;34m\u001b[0m\u001b[0m\n\u001b[1;32m     96\u001b[0m             \u001b[0;31m# Issue #13781: os.fdopen() creates a fileobj with a bogus name\u001b[0m\u001b[0;34m\u001b[0m\u001b[0;34m\u001b[0m\u001b[0m\n",
      "\u001b[0;31mIOError\u001b[0m: [Errno 2] No such file or directory: 'NGC 1097.tar'"
     ]
    }
   ],
   "source": [
    "import tarfile\n",
    "tar = tarfile.open(\"NGC 1097.tar\")\n",
    "tar.extractall()\n",
    "tar.close()"
   ]
  },
  {
   "cell_type": "code",
   "execution_count": 342,
   "metadata": {
    "collapsed": false
   },
   "outputs": [
    {
     "ename": "IOError",
     "evalue": "[Errno 2] No such file or directory: '\\\\Users\\\\Anthony\\\\Dropbox\\\\galaxies\\x1096.tsv'",
     "output_type": "error",
     "traceback": [
      "\u001b[0;31m---------------------------------------------------------------------------\u001b[0m",
      "\u001b[0;31mIOError\u001b[0m                                   Traceback (most recent call last)",
      "\u001b[0;32m<ipython-input-342-12f529484a0e>\u001b[0m in \u001b[0;36m<module>\u001b[0;34m()\u001b[0m\n\u001b[1;32m      1\u001b[0m \u001b[0;32mimport\u001b[0m \u001b[0mastropy\u001b[0m\u001b[0;34m.\u001b[0m\u001b[0mio\u001b[0m\u001b[0;34m.\u001b[0m\u001b[0mascii\u001b[0m \u001b[0;32mas\u001b[0m \u001b[0mascii\u001b[0m\u001b[0;34m\u001b[0m\u001b[0m\n\u001b[0;32m----> 2\u001b[0;31m \u001b[0mdata\u001b[0m\u001b[0;34m=\u001b[0m\u001b[0mascii\u001b[0m\u001b[0;34m.\u001b[0m\u001b[0mread\u001b[0m\u001b[0;34m(\u001b[0m\u001b[0;34m'\\Users\\Anthony\\Dropbox\\galaxies\\2096.tsv'\u001b[0m\u001b[0;34m)\u001b[0m\u001b[0;34m\u001b[0m\u001b[0m\n\u001b[0m\u001b[1;32m      3\u001b[0m \u001b[0;31m# reads data into a structure\u001b[0m\u001b[0;34m\u001b[0m\u001b[0;34m\u001b[0m\u001b[0m\n\u001b[1;32m      4\u001b[0m \u001b[0;31m# to make an array from a column in the table:\u001b[0m\u001b[0;34m\u001b[0m\u001b[0;34m\u001b[0m\u001b[0m\n\u001b[1;32m      5\u001b[0m \u001b[0mra\u001b[0m \u001b[0;34m=\u001b[0m \u001b[0mdata\u001b[0m\u001b[0;34m[\u001b[0m\u001b[0;34m'ra'\u001b[0m\u001b[0;34m]\u001b[0m\u001b[0;34m\u001b[0m\u001b[0m\n",
      "\u001b[0;32m/soft/anaconda/lib/python2.7/site-packages/astropy/io/ascii/ui.py\u001b[0m in \u001b[0;36mread\u001b[0;34m(table, guess, **kwargs)\u001b[0m\n\u001b[1;32m    309\u001b[0m         \u001b[0;31m# through below to the non-guess way so that any problems result in a\u001b[0m\u001b[0;34m\u001b[0m\u001b[0;34m\u001b[0m\u001b[0m\n\u001b[1;32m    310\u001b[0m         \u001b[0;31m# more useful traceback.\u001b[0m\u001b[0;34m\u001b[0m\u001b[0;34m\u001b[0m\u001b[0m\n\u001b[0;32m--> 311\u001b[0;31m         \u001b[0mdat\u001b[0m \u001b[0;34m=\u001b[0m \u001b[0m_guess\u001b[0m\u001b[0;34m(\u001b[0m\u001b[0mtable\u001b[0m\u001b[0;34m,\u001b[0m \u001b[0mnew_kwargs\u001b[0m\u001b[0;34m,\u001b[0m \u001b[0mformat\u001b[0m\u001b[0;34m,\u001b[0m \u001b[0mfast_reader_param\u001b[0m\u001b[0;34m)\u001b[0m\u001b[0;34m\u001b[0m\u001b[0m\n\u001b[0m\u001b[1;32m    312\u001b[0m         \u001b[0;32mif\u001b[0m \u001b[0mdat\u001b[0m \u001b[0;32mis\u001b[0m \u001b[0mNone\u001b[0m\u001b[0;34m:\u001b[0m\u001b[0;34m\u001b[0m\u001b[0m\n\u001b[1;32m    313\u001b[0m             \u001b[0mguess\u001b[0m \u001b[0;34m=\u001b[0m \u001b[0mFalse\u001b[0m\u001b[0;34m\u001b[0m\u001b[0m\n",
      "\u001b[0;32m/soft/anaconda/lib/python2.7/site-packages/astropy/io/ascii/ui.py\u001b[0m in \u001b[0;36m_guess\u001b[0;34m(table, read_kwargs, format, fast_reader)\u001b[0m\n\u001b[1;32m    447\u001b[0m             \u001b[0mreader\u001b[0m \u001b[0;34m=\u001b[0m \u001b[0mget_reader\u001b[0m\u001b[0;34m(\u001b[0m\u001b[0;34m**\u001b[0m\u001b[0mguess_kwargs\u001b[0m\u001b[0;34m)\u001b[0m\u001b[0;34m\u001b[0m\u001b[0m\n\u001b[1;32m    448\u001b[0m             \u001b[0mreader\u001b[0m\u001b[0;34m.\u001b[0m\u001b[0mguessing\u001b[0m \u001b[0;34m=\u001b[0m \u001b[0mTrue\u001b[0m\u001b[0;34m\u001b[0m\u001b[0m\n\u001b[0;32m--> 449\u001b[0;31m             \u001b[0mdat\u001b[0m \u001b[0;34m=\u001b[0m \u001b[0mreader\u001b[0m\u001b[0;34m.\u001b[0m\u001b[0mread\u001b[0m\u001b[0;34m(\u001b[0m\u001b[0mtable\u001b[0m\u001b[0;34m)\u001b[0m\u001b[0;34m\u001b[0m\u001b[0m\n\u001b[0m\u001b[1;32m    450\u001b[0m             _read_trace.append({'kwargs': guess_kwargs, 'status': 'Success (guessing)',\n\u001b[1;32m    451\u001b[0m                                 'dt': '{0:.3f} ms'.format((time.time() - t0) * 1000)})\n",
      "\u001b[0;32m/soft/anaconda/lib/python2.7/site-packages/astropy/io/ascii/core.py\u001b[0m in \u001b[0;36mread\u001b[0;34m(self, table)\u001b[0m\n\u001b[1;32m   1128\u001b[0m \u001b[0;34m\u001b[0m\u001b[0m\n\u001b[1;32m   1129\u001b[0m         \u001b[0;31m# Get a list of the lines (rows) in the table\u001b[0m\u001b[0;34m\u001b[0m\u001b[0;34m\u001b[0m\u001b[0m\n\u001b[0;32m-> 1130\u001b[0;31m         \u001b[0mself\u001b[0m\u001b[0;34m.\u001b[0m\u001b[0mlines\u001b[0m \u001b[0;34m=\u001b[0m \u001b[0mself\u001b[0m\u001b[0;34m.\u001b[0m\u001b[0minputter\u001b[0m\u001b[0;34m.\u001b[0m\u001b[0mget_lines\u001b[0m\u001b[0;34m(\u001b[0m\u001b[0mtable\u001b[0m\u001b[0;34m)\u001b[0m\u001b[0;34m\u001b[0m\u001b[0m\n\u001b[0m\u001b[1;32m   1131\u001b[0m \u001b[0;34m\u001b[0m\u001b[0m\n\u001b[1;32m   1132\u001b[0m         \u001b[0;31m# Set self.data.data_lines to a slice of lines contain the data rows\u001b[0m\u001b[0;34m\u001b[0m\u001b[0;34m\u001b[0m\u001b[0m\n",
      "\u001b[0;32m/soft/anaconda/lib/python2.7/site-packages/astropy/io/ascii/core.py\u001b[0m in \u001b[0;36mget_lines\u001b[0;34m(self, table)\u001b[0m\n\u001b[1;32m    278\u001b[0m             if (hasattr(table, 'read') or\n\u001b[1;32m    279\u001b[0m                     ('\\n' not in table + '' and '\\r' not in table + '')):\n\u001b[0;32m--> 280\u001b[0;31m                 \u001b[0;32mwith\u001b[0m \u001b[0mget_readable_fileobj\u001b[0m\u001b[0;34m(\u001b[0m\u001b[0mtable\u001b[0m\u001b[0;34m)\u001b[0m \u001b[0;32mas\u001b[0m \u001b[0mfile_obj\u001b[0m\u001b[0;34m:\u001b[0m\u001b[0;34m\u001b[0m\u001b[0m\n\u001b[0m\u001b[1;32m    281\u001b[0m                     \u001b[0mtable\u001b[0m \u001b[0;34m=\u001b[0m \u001b[0mfile_obj\u001b[0m\u001b[0;34m.\u001b[0m\u001b[0mread\u001b[0m\u001b[0;34m(\u001b[0m\u001b[0;34m)\u001b[0m\u001b[0;34m\u001b[0m\u001b[0m\n\u001b[1;32m    282\u001b[0m             \u001b[0mlines\u001b[0m \u001b[0;34m=\u001b[0m \u001b[0mtable\u001b[0m\u001b[0;34m.\u001b[0m\u001b[0msplitlines\u001b[0m\u001b[0;34m(\u001b[0m\u001b[0;34m)\u001b[0m\u001b[0;34m\u001b[0m\u001b[0m\n",
      "\u001b[0;32m/soft/anaconda/lib/python2.7/contextlib.pyc\u001b[0m in \u001b[0;36m__enter__\u001b[0;34m(self)\u001b[0m\n\u001b[1;32m     15\u001b[0m     \u001b[0;32mdef\u001b[0m \u001b[0m__enter__\u001b[0m\u001b[0;34m(\u001b[0m\u001b[0mself\u001b[0m\u001b[0;34m)\u001b[0m\u001b[0;34m:\u001b[0m\u001b[0;34m\u001b[0m\u001b[0m\n\u001b[1;32m     16\u001b[0m         \u001b[0;32mtry\u001b[0m\u001b[0;34m:\u001b[0m\u001b[0;34m\u001b[0m\u001b[0m\n\u001b[0;32m---> 17\u001b[0;31m             \u001b[0;32mreturn\u001b[0m \u001b[0mself\u001b[0m\u001b[0;34m.\u001b[0m\u001b[0mgen\u001b[0m\u001b[0;34m.\u001b[0m\u001b[0mnext\u001b[0m\u001b[0;34m(\u001b[0m\u001b[0;34m)\u001b[0m\u001b[0;34m\u001b[0m\u001b[0m\n\u001b[0m\u001b[1;32m     18\u001b[0m         \u001b[0;32mexcept\u001b[0m \u001b[0mStopIteration\u001b[0m\u001b[0;34m:\u001b[0m\u001b[0;34m\u001b[0m\u001b[0m\n\u001b[1;32m     19\u001b[0m             \u001b[0;32mraise\u001b[0m \u001b[0mRuntimeError\u001b[0m\u001b[0;34m(\u001b[0m\u001b[0;34m\"generator didn't yield\"\u001b[0m\u001b[0;34m)\u001b[0m\u001b[0;34m\u001b[0m\u001b[0m\n",
      "\u001b[0;32m/soft/anaconda/lib/python2.7/site-packages/astropy/utils/data.py\u001b[0m in \u001b[0;36mget_readable_fileobj\u001b[0;34m(name_or_obj, encoding, cache, show_progress, remote_timeout)\u001b[0m\n\u001b[1;32m    200\u001b[0m             \u001b[0mfileobj\u001b[0m \u001b[0;34m=\u001b[0m \u001b[0mio\u001b[0m\u001b[0;34m.\u001b[0m\u001b[0mFileIO\u001b[0m\u001b[0;34m(\u001b[0m\u001b[0mname_or_obj\u001b[0m\u001b[0;34m,\u001b[0m \u001b[0;34m'r'\u001b[0m\u001b[0;34m)\u001b[0m\u001b[0;34m\u001b[0m\u001b[0m\n\u001b[1;32m    201\u001b[0m         \u001b[0;32melif\u001b[0m \u001b[0msix\u001b[0m\u001b[0;34m.\u001b[0m\u001b[0mPY2\u001b[0m\u001b[0;34m:\u001b[0m\u001b[0;34m\u001b[0m\u001b[0m\n\u001b[0;32m--> 202\u001b[0;31m             \u001b[0mfileobj\u001b[0m \u001b[0;34m=\u001b[0m \u001b[0mopen\u001b[0m\u001b[0;34m(\u001b[0m\u001b[0mname_or_obj\u001b[0m\u001b[0;34m,\u001b[0m \u001b[0;34m'rb'\u001b[0m\u001b[0;34m)\u001b[0m\u001b[0;34m\u001b[0m\u001b[0m\n\u001b[0m\u001b[1;32m    203\u001b[0m         \u001b[0;32mif\u001b[0m \u001b[0mis_url\u001b[0m \u001b[0;32mand\u001b[0m \u001b[0;32mnot\u001b[0m \u001b[0mcache\u001b[0m\u001b[0;34m:\u001b[0m\u001b[0;34m\u001b[0m\u001b[0m\n\u001b[1;32m    204\u001b[0m             \u001b[0mdelete_fds\u001b[0m\u001b[0;34m.\u001b[0m\u001b[0mappend\u001b[0m\u001b[0;34m(\u001b[0m\u001b[0mfileobj\u001b[0m\u001b[0;34m)\u001b[0m\u001b[0;34m\u001b[0m\u001b[0m\n",
      "\u001b[0;31mIOError\u001b[0m: [Errno 2] No such file or directory: '\\\\Users\\\\Anthony\\\\Dropbox\\\\galaxies\\x1096.tsv'"
     ]
    }
   ],
   "source": [
    "import astropy.io.ascii as ascii\n",
    "data=ascii.read('\\Users\\Anthony\\Dropbox\\galaxies\\2096.tsv')\n",
    "# reads data into a structure\n",
    "# to make an array from a column in the table:\n",
    "ra = data['ra']\n",
    "dec = data['dec']"
   ]
  },
  {
   "cell_type": "code",
   "execution_count": 343,
   "metadata": {
    "collapsed": false
   },
   "outputs": [],
   "source": [
    "data = ascii.read('/home/asantini/Desktop/Dropbox/galaxies/ngc4651_ObsID-2096.tsv')"
   ]
  },
  {
   "cell_type": "code",
   "execution_count": 344,
   "metadata": {
    "collapsed": false
   },
   "outputs": [],
   "source": [
    "# to make an array from a column in the table:\n",
    "ra = data['ra']\n",
    "dec = data['dec']"
   ]
  },
  {
   "cell_type": "code",
   "execution_count": 207,
   "metadata": {
    "collapsed": true
   },
   "outputs": [],
   "source": [
    "ra_NGC4651=190.9275\n",
    "dec_NGC4651=16.39338888888889"
   ]
  },
  {
   "cell_type": "code",
   "execution_count": 208,
   "metadata": {
    "collapsed": false
   },
   "outputs": [],
   "source": [
    "data = ascii.read('/home/asantini/Desktop/Dropbox/galaxies/ngc4651_ObsID-2096.tsv')"
   ]
  },
  {
   "cell_type": "code",
   "execution_count": 209,
   "metadata": {
    "collapsed": true
   },
   "outputs": [],
   "source": [
    "data = ascii.read('/home/asantini/Desktop/Dropbox/galaxies/ngc4651_ObsID-2096.tsv')"
   ]
  },
  {
   "cell_type": "code",
   "execution_count": 210,
   "metadata": {
    "collapsed": true
   },
   "outputs": [],
   "source": [
    "import numpy as np"
   ]
  },
  {
   "cell_type": "code",
   "execution_count": 211,
   "metadata": {
    "collapsed": false
   },
   "outputs": [],
   "source": [
    "import matplotlib.pyplot as plt"
   ]
  },
  {
   "cell_type": "code",
   "execution_count": 212,
   "metadata": {
    "collapsed": true
   },
   "outputs": [],
   "source": [
    "def dis_GC(raGC,decGC,Data):\n",
    "    \"\"\"\n",
    "    raGC: float- the ra of the galatic center\n",
    "    decGC: float the dec of the galatic center\n",
    "    Data: array- a table of data containg the coordinates of each object\n",
    "    returns: array- the distances of each object away from the center of the galaxy\n",
    "    \n",
    "    This fucntion takes the inputs for the ra of the GC, the Dec of the GC, the ra's of an array of objects and the\n",
    "    declinations of an array of objects and returns an array that is those objects distances from the center of the\n",
    "    galaxy\n",
    "    \"\"\"\n",
    "    import math\n",
    "    decA=Data['dec']\n",
    "    raA=Data['ra']\n",
    "    disA=[math.sqrt(((decGC-dec)**2)+((raGC-ra)**2)) for dec,ra in zip(decA,raA)]\n",
    "    plt.hist(disA)\n",
    "    plt.show()"
   ]
  },
  {
   "cell_type": "code",
   "execution_count": 213,
   "metadata": {
    "collapsed": false
   },
   "outputs": [],
   "source": [
    "data_NGC1316= ascii.read('/home/asantini/Desktop/Dropbox/galaxies/ngc1316_ObsID-2022.tsv')"
   ]
  },
  {
   "cell_type": "code",
   "execution_count": 214,
   "metadata": {
    "collapsed": true
   },
   "outputs": [],
   "source": [
    "ra_NGC1316=50.673825"
   ]
  },
  {
   "cell_type": "code",
   "execution_count": 215,
   "metadata": {
    "collapsed": true
   },
   "outputs": [],
   "source": [
    "dec_NGC1316=-37.208227"
   ]
  },
  {
   "cell_type": "code",
   "execution_count": 216,
   "metadata": {
    "collapsed": true
   },
   "outputs": [],
   "source": [
    "data_NGC474= ascii.read('/home/asantini/Desktop/Dropbox/galaxies/ngc474_ObsID-7144.tsv')"
   ]
  },
  {
   "cell_type": "code",
   "execution_count": 217,
   "metadata": {
    "collapsed": true
   },
   "outputs": [],
   "source": [
    "ra_NGC474=20.027878"
   ]
  },
  {
   "cell_type": "code",
   "execution_count": 218,
   "metadata": {
    "collapsed": true
   },
   "outputs": [],
   "source": [
    "dec_NGC474=3.415399"
   ]
  },
  {
   "cell_type": "code",
   "execution_count": 219,
   "metadata": {
    "collapsed": true
   },
   "outputs": [],
   "source": [
    "data_NGC3077= ascii.read('/home/asantini/Desktop/Dropbox/galaxies/ngc3077_ObsID-2076.tsv')"
   ]
  },
  {
   "cell_type": "code",
   "execution_count": 220,
   "metadata": {
    "collapsed": true
   },
   "outputs": [],
   "source": [
    "ra_NGC3077=150.829458"
   ]
  },
  {
   "cell_type": "code",
   "execution_count": 221,
   "metadata": {
    "collapsed": true
   },
   "outputs": [],
   "source": [
    "dec_NGC3077=68.733917"
   ]
  },
  {
   "cell_type": "code",
   "execution_count": 222,
   "metadata": {
    "collapsed": true
   },
   "outputs": [],
   "source": [
    "data_eso137=ascii.read('/home/asantini/Desktop/Dropbox/galaxies/eso137-001_ObsID-9518.tsv')"
   ]
  },
  {
   "cell_type": "code",
   "execution_count": 223,
   "metadata": {
    "collapsed": true
   },
   "outputs": [],
   "source": [
    "data_NGC2403=ascii.read('/home/asantini/Desktop/Dropbox/galaxies/ngc2403_ObsID-2014.tsv')"
   ]
  },
  {
   "cell_type": "code",
   "execution_count": 224,
   "metadata": {
    "collapsed": true
   },
   "outputs": [],
   "source": [
    "ra_NGC2403=114.214167"
   ]
  },
  {
   "cell_type": "code",
   "execution_count": 225,
   "metadata": {
    "collapsed": true
   },
   "outputs": [],
   "source": [
    "dec_NGC2403=65.602556"
   ]
  },
  {
   "cell_type": "code",
   "execution_count": 226,
   "metadata": {
    "collapsed": true
   },
   "outputs": [],
   "source": [
    "data_NGC4631=ascii.read('/home/asantini/Desktop/Dropbox/galaxies/ngc4631_ObsID-797.tsv')"
   ]
  },
  {
   "cell_type": "code",
   "execution_count": 227,
   "metadata": {
    "collapsed": true
   },
   "outputs": [],
   "source": [
    "ra_NGC4631=190.533375"
   ]
  },
  {
   "cell_type": "code",
   "execution_count": 228,
   "metadata": {
    "collapsed": true
   },
   "outputs": [],
   "source": [
    "dec_NGC4631=32.541500"
   ]
  },
  {
   "cell_type": "code",
   "execution_count": 229,
   "metadata": {
    "collapsed": true
   },
   "outputs": [],
   "source": [
    "data_NGC7331=ascii.read('/home/asantini/Desktop/Dropbox/galaxies/ngc7331_ObsID-2198.tsv')"
   ]
  },
  {
   "cell_type": "code",
   "execution_count": 230,
   "metadata": {
    "collapsed": true
   },
   "outputs": [],
   "source": [
    "ra_NGC7331=339.2667242"
   ]
  },
  {
   "cell_type": "code",
   "execution_count": 231,
   "metadata": {
    "collapsed": true
   },
   "outputs": [],
   "source": [
    "dec_NGC7331=34.4155189"
   ]
  },
  {
   "cell_type": "code",
   "execution_count": 232,
   "metadata": {
    "collapsed": true
   },
   "outputs": [],
   "source": [
    "def dis_GC_B(raGC,decGC,Data,B):\n",
    "    \"\"\"\n",
    "    raGC: float- the ra of the galatic center in decimal degrees\n",
    "    decGC: float the dec of the galatic center in decimal degrees\n",
    "    Data: array- a table of data containg the coordinates of each object\n",
    "    B: int- the number of bins in the histogram\n",
    "    \n",
    "    This fucntion takes the inputs for the ra of the GC, the Dec of the GC, the ra's of an array of objects and the\n",
    "    declinations of an array of objects and returns an histrogram that plots the number of objects per bin by the\n",
    "    distance from the center of the galaxy to the objects in each bin are in degrees. This function allows you to modify\n",
    "    the number of bins yourself.\n",
    "    \"\"\"\n",
    "    import math\n",
    "    decA=Data['dec']\n",
    "    raA=Data['ra']\n",
    "    disA=[math.sqrt(((decGC-dec)**2)+((raGC-ra)**2)) for dec,ra in zip(decA,raA)]\n",
    "    plt.hist(disA,B)\n",
    "    plt.show()"
   ]
  },
  {
   "cell_type": "code",
   "execution_count": 233,
   "metadata": {
    "collapsed": false
   },
   "outputs": [
    {
     "ename": "TypeError",
     "evalue": "dis_GC_R() takes exactly 5 arguments (4 given)",
     "output_type": "error",
     "traceback": [
      "\u001b[0;31m---------------------------------------------------------------------------\u001b[0m",
      "\u001b[0;31mTypeError\u001b[0m                                 Traceback (most recent call last)",
      "\u001b[0;32m<ipython-input-233-47643fa6e3c6>\u001b[0m in \u001b[0;36m<module>\u001b[0;34m()\u001b[0m\n\u001b[0;32m----> 1\u001b[0;31m \u001b[0mdis_GC_R\u001b[0m\u001b[0;34m(\u001b[0m\u001b[0mra_NGC4631\u001b[0m\u001b[0;34m,\u001b[0m\u001b[0mdec_NGC4631\u001b[0m\u001b[0;34m,\u001b[0m\u001b[0mdata_NGC4631\u001b[0m\u001b[0;34m,\u001b[0m\u001b[0;36m0.14\u001b[0m\u001b[0;34m)\u001b[0m\u001b[0;34m\u001b[0m\u001b[0m\n\u001b[0m",
      "\u001b[0;31mTypeError\u001b[0m: dis_GC_R() takes exactly 5 arguments (4 given)"
     ]
    }
   ],
   "source": [
    "dis_GC_R(ra_NGC4631,dec_NGC4631,data_NGC4631,0.14)"
   ]
  },
  {
   "cell_type": "code",
   "execution_count": 234,
   "metadata": {
    "collapsed": true
   },
   "outputs": [],
   "source": [
    "import matplotlib.pyplot as plt"
   ]
  },
  {
   "cell_type": "code",
   "execution_count": 235,
   "metadata": {
    "collapsed": true
   },
   "outputs": [],
   "source": [
    "def dis_GC_B_R(raGC,decGC,Data,B,Maj,Min):\n",
    "    \"\"\"\n",
    "    raGC: float- the ra of the galatic center in decimal degrees\n",
    "    decGC: float the dec of the galatic center in decimal degrees\n",
    "    Data: array- a table of data containg the coordinates of each object\n",
    "    B: int- the number of bins in the histogram\n",
    "    Maj: int- The major axis of the galaxy in arcseconds\n",
    "    Min: int- The minor axis of the galaxy in arcseconds\n",
    "    \n",
    "    This fucntion takes the inputs for the ra of the GC, the Dec of the GC, the ra's of an array of objects and the\n",
    "    declinations of an array of objects and returns an histrogram that plots the number of objects per bin by the\n",
    "    distance from the center of the galaxy to the objects in each bin are in degrees. This function allows you to modify\n",
    "    the number of bins yourself. This function plots the visible Major and Minor axis of the galaxies on the histogram.\n",
    "    \"\"\"\n",
    "    import math\n",
    "    decA=Data['dec']\n",
    "    raA=Data['ra']\n",
    "    Maj=Maj/3600\n",
    "    Min=Min/3600\n",
    "    S_Maj=Maj/2\n",
    "    S_Min=Min/2\n",
    "    disA=[math.sqrt(((decGC-dec)**2)+((raGC-ra)**2)) for dec,ra in zip(decA,raA)]\n",
    "    plt.vlines(S_Maj,0,10,color='red')\n",
    "    plt.vlines(S_Min,0,10,color='blue')\n",
    "    plt.hist(disA,B)\n",
    "    plt.plot()\n",
    "    plt.show()"
   ]
  },
  {
   "cell_type": "code",
   "execution_count": 236,
   "metadata": {
    "collapsed": false
   },
   "outputs": [],
   "source": [
    "Maj_NGC474=210.00\n",
    "Min_NGC474=207.90"
   ]
  },
  {
   "cell_type": "code",
   "execution_count": 237,
   "metadata": {
    "collapsed": false
   },
   "outputs": [],
   "source": [
    "dis_GC_B_R(ra_NGC474,dec_NGC474,data_NGC474,20,Maj_NGC474,Min_NGC474)"
   ]
  },
  {
   "cell_type": "code",
   "execution_count": 238,
   "metadata": {
    "collapsed": true
   },
   "outputs": [],
   "source": [
    "Maj_NGC1316=590.00\n",
    "Min_NGC1316=424.80"
   ]
  },
  {
   "cell_type": "code",
   "execution_count": 239,
   "metadata": {
    "collapsed": true
   },
   "outputs": [],
   "source": [
    "Maj_NGC2403=753.80\n",
    "Min_NGC2403=459.82"
   ]
  },
  {
   "cell_type": "code",
   "execution_count": 240,
   "metadata": {
    "collapsed": true
   },
   "outputs": [],
   "source": [
    "Maj_NGC3077=404.60\n",
    "Min_NGC3077=319.63"
   ]
  },
  {
   "cell_type": "code",
   "execution_count": 241,
   "metadata": {
    "collapsed": true
   },
   "outputs": [],
   "source": [
    "Maj_NGC4631=828.80\n",
    "Min_NGC4631=248.64"
   ]
  },
  {
   "cell_type": "code",
   "execution_count": 242,
   "metadata": {
    "collapsed": true
   },
   "outputs": [],
   "source": [
    "Maj_NGC4651=192.40\n",
    "Min_NGC4651=126.98"
   ]
  },
  {
   "cell_type": "code",
   "execution_count": 243,
   "metadata": {
    "collapsed": true
   },
   "outputs": [],
   "source": [
    "Maj_NGC7331=531.80\n",
    "Min_NGC7331=260.58"
   ]
  },
  {
   "cell_type": "code",
   "execution_count": 244,
   "metadata": {
    "collapsed": true
   },
   "outputs": [],
   "source": [
    "def dis_GC_R_N(Gname,Data,Maj,Min):\n",
    "    \"\"\"\n",
    "    Gname: str- The name of the galaxy in the form NGC #\n",
    "    Data: array- a table of data containg the coordinates of each object\n",
    "    Maj: int- The major axis of the galaxy in arcseconds\n",
    "    Min: int- The minor axis of the galaxy in arcseconds\n",
    "    \n",
    "    This fucntion takes the inputs for the name of the galaxy, the Dec of the GC, the ra's of an array of objects and the\n",
    "    declinations of an array of objects and returns an histrogram that plots the number of objects per bin by the\n",
    "    distance from the center of the galaxy to the objects in each bin are in degrees.\n",
    "    This function plots the visible Major and Minor axis of the galaxies on the histogram.\n",
    "    This function uses astroquary to get data directly from NED\n",
    "    \"\"\"\n",
    "    import math\n",
    "    decA=Data['dec']\n",
    "    raA=Data['ra']\n",
    "    Maj=Maj/3600\n",
    "    Min=Min/3600\n",
    "    S_Maj=Maj/2\n",
    "    S_Min=Min/2\n",
    "    G_Data= Ned.query_object(Gname)\n",
    "    raGC=float(G_Data['RA(deg)'])\n",
    "    decGC=float(G_Data['DEC(deg)'])\n",
    "    disA=[math.sqrt(((decGC-dec)**2)+((raGC-ra)**2)) for dec,ra in zip(decA,raA)]\n",
    "    plt.vlines(S_Maj,0,10,color='red')\n",
    "    plt.vlines(S_Min,0,10,color='blue')\n",
    "    plt.hist(disA)\n",
    "    plt.plot()\n",
    "    plt.show()"
   ]
  },
  {
   "cell_type": "code",
   "execution_count": 245,
   "metadata": {
    "collapsed": true
   },
   "outputs": [],
   "source": [
    "def dis_GC_R(raGC,decGC,Data,Maj,Min):\n",
    "    \"\"\"\n",
    "    raGC: float- the ra of the galatic center in decimal degrees\n",
    "    decGC: float the dec of the galatic center in decimal degrees\n",
    "    Data: array- a table of data containg the coordinates of each object\n",
    "    Maj: int- The major axis of the galaxy in arcseconds\n",
    "    Min: int- The minor axis of the galaxy in arcseconds\n",
    "    \n",
    "    This fucntion takes the inputs for the ra of the GC, the Dec of the GC, the ra's of an array of objects and the\n",
    "    declinations of an array of objects and returns an histrogram that plots the number of objects per bin by the\n",
    "    distance from the center of the galaxy to the objects in each bin are in degrees.\n",
    "    This function plots the visible Major and Minor axis of the galaxies on the histogram.\n",
    "    This function has verticle lines of length 35 objects\n",
    "    \"\"\"\n",
    "    import math\n",
    "    decA=Data['dec']\n",
    "    raA=Data['ra']\n",
    "    Maj=Maj/3600\n",
    "    Min=Min/3600\n",
    "    S_Maj=Maj/2\n",
    "    S_Min=Min/2\n",
    "    disA=[math.sqrt(((decGC-dec)**2)+((raGC-ra)**2)) for dec,ra in zip(decA,raA)]\n",
    "    plt.vlines(S_Maj,0,35,color='red')\n",
    "    plt.vlines(S_Min,0,35,color='blue')\n",
    "    plt.hist(disA)\n",
    "    plt.plot()\n",
    "    plt.show()"
   ]
  },
  {
   "cell_type": "code",
   "execution_count": 246,
   "metadata": {
    "collapsed": false
   },
   "outputs": [],
   "source": [
    "dis_GC_R(ra_NGC7331,dec_NGC7331,data_NGC7331,Maj_NGC7331,Min_NGC7331)"
   ]
  },
  {
   "cell_type": "code",
   "execution_count": 247,
   "metadata": {
    "collapsed": true
   },
   "outputs": [],
   "source": [
    "from astroquery.ned import Ned"
   ]
  },
  {
   "cell_type": "code",
   "execution_count": 248,
   "metadata": {
    "collapsed": true
   },
   "outputs": [],
   "source": [
    "data2_NGC7331= Ned.query_object(\"NGC 7331\")"
   ]
  },
  {
   "cell_type": "code",
   "execution_count": 249,
   "metadata": {
    "collapsed": false
   },
   "outputs": [
    {
     "name": "stdout",
     "output_type": "stream",
     "text": [
      "No. Object Name      RA(deg)       ... Diameter Points Associations\n",
      "                     degrees       ...                             \n",
      "--- ----------- ------------------ ... --------------- ------------\n",
      "  1    NGC 7331 339.26672000000002 ...               8            0\n"
     ]
    }
   ],
   "source": [
    "print (data2_NGC7331)"
   ]
  },
  {
   "cell_type": "code",
   "execution_count": 250,
   "metadata": {
    "collapsed": false
   },
   "outputs": [
    {
     "data": {
      "text/html": [
       "&lt;MaskedColumn name=&apos;Object Name&apos; dtype=&apos;str30&apos; description=u&apos;NED preferred name for the object&apos; length=1&gt;\n",
       "<table>\n",
       "<tr><td>NGC 7331</td></tr>\n",
       "</table>"
      ],
      "text/plain": [
       "<MaskedColumn name='Object Name' dtype='str30' description=u'NED preferred name for the object' length=1>\n",
       "NGC 7331"
      ]
     },
     "execution_count": 250,
     "metadata": {},
     "output_type": "execute_result"
    }
   ],
   "source": [
    "data2_NGC7331['Object Name']"
   ]
  },
  {
   "cell_type": "code",
   "execution_count": 251,
   "metadata": {
    "collapsed": false
   },
   "outputs": [
    {
     "data": {
      "text/html": [
       "&lt;MaskedColumn name=&apos;Diameter Points&apos; dtype=&apos;int32&apos; description=u&apos;Number of diameter data points stored by NED for the object.&apos; length=1&gt;\n",
       "<table>\n",
       "<tr><td>8</td></tr>\n",
       "</table>"
      ],
      "text/plain": [
       "<MaskedColumn name='Diameter Points' dtype='int32' description=u'Number of diameter data points stored by NED for the object.' length=1>\n",
       "8"
      ]
     },
     "execution_count": 251,
     "metadata": {},
     "output_type": "execute_result"
    }
   ],
   "source": [
    "data2_NGC7331['Diameter Points']"
   ]
  },
  {
   "cell_type": "code",
   "execution_count": 252,
   "metadata": {
    "collapsed": false
   },
   "outputs": [
    {
     "data": {
      "text/html": [
       "&lt;MaskedColumn name=&apos;RA(deg)&apos; dtype=&apos;float64&apos; unit=&apos;degrees&apos; format=u&apos;%10r&apos; description=u&apos;Right Ascension in degrees (Equatorial J2000.0)&apos; length=1&gt;\n",
       "<table>\n",
       "<tr><td>339.26672000000002</td></tr>\n",
       "</table>"
      ],
      "text/plain": [
       "<MaskedColumn name='RA(deg)' dtype='float64' unit='degrees' format=u'%10r' description=u'Right Ascension in degrees (Equatorial J2000.0)' length=1>\n",
       "339.26672000000002"
      ]
     },
     "execution_count": 252,
     "metadata": {},
     "output_type": "execute_result"
    }
   ],
   "source": [
    "data2_NGC7331['RA(deg)']"
   ]
  },
  {
   "cell_type": "code",
   "execution_count": 253,
   "metadata": {
    "collapsed": false
   },
   "outputs": [],
   "source": [
    "ra2_NGC7331=float(data2_NGC7331['RA(deg)'])"
   ]
  },
  {
   "cell_type": "code",
   "execution_count": 254,
   "metadata": {
    "collapsed": false
   },
   "outputs": [
    {
     "name": "stdout",
     "output_type": "stream",
     "text": [
      "339.26672\n"
     ]
    }
   ],
   "source": [
    "print ra2_NGC7331"
   ]
  },
  {
   "cell_type": "code",
   "execution_count": 255,
   "metadata": {
    "collapsed": true
   },
   "outputs": [],
   "source": [
    "def Area_GC_R_N_Maj_Min(Gname,Data,Maj,Min):\n",
    "    \"\"\"\n",
    "    Gname: str- The name of the galaxy in the form NGC #\n",
    "    Data: array- a table of data containg the coordinates of each object\n",
    "    Maj: int- The major axis of the galaxy in arcseconds\n",
    "    Min: int- The minor axis of the galaxy in arcseconds\n",
    "    \n",
    "    This fucntion takes the inputs for the name of the galaxy, the Dec of the GC, the ra's of an array of objects and the\n",
    "    declinations of an array of objects and returns an histrogram that plots the number of objects per bin by the\n",
    "    area enclosed by the cirlce centered on the center of the galaxy that inculdes the objects in each bin in \n",
    "    square degrees.\n",
    "    This function plots the visible Major axis of the galaxy area enclosed by a circle that uses the Major axis as \n",
    "    the diameter of the cirlce on histogram.\n",
    "    This function uses astroquary to get data directly from NED\n",
    "    \"\"\"\n",
    "    import math\n",
    "    decA=Data['dec']\n",
    "    raA=Data['ra']\n",
    "    Maj=Maj/3600\n",
    "    Min=Min/3600\n",
    "    S_Maj=Maj/2\n",
    "    S_Min=Min/2\n",
    "    area_T=((S_Maj)**2)*math.pi\n",
    "    G_Data= Ned.query_object(Gname)\n",
    "    raGC=float(G_Data['RA(deg)'])\n",
    "    decGC=float(G_Data['DEC(deg)'])\n",
    "    area_A=[((((decGC-dec)**2)+((raGC-ra)**2)))*(math.pi) for dec,ra in zip(decA,raA)]\n",
    "    plt.vlines(area_T,0,10,color='red')\n",
    "    #plt.vlines(S_Min,0,10,color='blue')\n",
    "    plt.hist(area_A)\n",
    "    plt.plot()\n",
    "    plt.show()"
   ]
  },
  {
   "cell_type": "code",
   "execution_count": 256,
   "metadata": {
    "collapsed": true
   },
   "outputs": [],
   "source": [
    "def Area_GC_R_N_F(Gname,Data,Maj):\n",
    "    \"\"\"\n",
    "    Gname: str- The name of the galaxy in the form NGC #\n",
    "    Data: array- a table of data containg the coordinates of each object\n",
    "    Maj: int- The major axis of the galaxy in arcseconds\n",
    "    \n",
    "    This fucntion takes the inputs for the name of the galaxy, the ra's of an array of objects and the\n",
    "    declinations of an array of objects and returns an histrogram that plots the number of objects per bin by the\n",
    "    area enclosed by the cirlce centered on the center of the galaxy that inculdes the objects in each bin in \n",
    "    square degrees divided by the visible area of the galaxy in square degrees.\n",
    "    This function plots the visible Major axis of the galaxy area enclosed by a circle that uses the Major axis as \n",
    "    the diameter of the cirlce divided by itself to give 1 on histogram.\n",
    "    This function uses astroquary to get data directly from NED\n",
    "    \"\"\"\n",
    "    import math\n",
    "    decA=Data['dec']\n",
    "    raA=Data['ra']\n",
    "    Maj=Maj/3600\n",
    "    S_Maj=Maj/2\n",
    "    area_T=((S_Maj)**2)*math.pi\n",
    "    G_Data= Ned.query_object(Gname)\n",
    "    raGC=float(G_Data['RA(deg)'])\n",
    "    decGC=float(G_Data['DEC(deg)'])\n",
    "    area_A=[((((((decGC-dec)**2)+((raGC-ra)**2)))*(math.pi))/area_T) for dec,ra in zip(decA,raA)]\n",
    "    #plt.vlines(1,0,10,color='red')\n",
    "    plt.hist(area_A)\n",
    "    plt.plot()\n",
    "    plt.show()"
   ]
  },
  {
   "cell_type": "code",
   "execution_count": 257,
   "metadata": {
    "collapsed": true
   },
   "outputs": [],
   "source": [
    "def Area_GC_R_N_F_B(Gname,Data,Maj,B):\n",
    "    \"\"\"\n",
    "    Gname: str- The name of the galaxy in the form NGC #\n",
    "    Data: array- a table of data containg the coordinates of each object\n",
    "    Maj: int- The major axis of the galaxy in arcseconds\n",
    "    \n",
    "    This fucntion takes the inputs for the name of the galaxy, the ra's of an array of objects and the\n",
    "    declinations of an array of objects and returns an histrogram that plots the number of objects per bin by the\n",
    "    area enclosed by the cirlce centered on the center of the galaxy that inculdes the objects in each bin in \n",
    "    square degrees divided by the visible area of the galaxy in square degrees.\n",
    "    This function plots the visible Major axis of the galaxy area enclosed by a circle that uses the Major axis as \n",
    "    the diameter of the cirlce divided by itself to give 1 on histogram.\n",
    "    This function uses astroquary to get data directly from NED\n",
    "    This function allows you to modify the number of bins yourself.\n",
    "    \"\"\"\n",
    "    import math\n",
    "    decA=Data['dec']\n",
    "    raA=Data['ra']\n",
    "    Maj=Maj/3600\n",
    "    S_Maj=Maj/2\n",
    "    area_T=((S_Maj)**2)*math.pi\n",
    "    G_Data= Ned.query_object(Gname)\n",
    "    raGC=float(G_Data['RA(deg)'])\n",
    "    decGC=float(G_Data['DEC(deg)'])\n",
    "    area_A=[((((((decGC-dec)**2)+((raGC-ra)**2)))*(math.pi))/area_T) for dec,ra in zip(decA,raA)]\n",
    "    plt.vlines(1,0,10,color='red')\n",
    "    plt.hist(area_A,B)\n",
    "    plt.plot()\n",
    "    plt.show()"
   ]
  },
  {
   "cell_type": "code",
   "execution_count": 258,
   "metadata": {
    "collapsed": true
   },
   "outputs": [],
   "source": [
    "def Area_GC_R_N(Gname,Data,Maj):\n",
    "    \"\"\"\n",
    "    raGC: float- the ra of the galatic center\n",
    "    decGC: float the dec of the galatic center\n",
    "    raA, array- A array of the ra's of the objects that you want to know the distances from the GC\n",
    "    decGC array- A array of the dec's of the objects that you want to know the distacnes from the GC\n",
    "    returns: array- the distances of each object away from the center of the galaxy\n",
    "    \n",
    "    This fucntion takes the inputs for the ra of the GC, the Dec of the GC, the ra's of an array of objects and the\n",
    "    declinations of an array of objects and returns an array that is those objects distances from the center of the\n",
    "    galaxy\n",
    "    \"\"\"\n",
    "    import math\n",
    "    decA=Data['dec']\n",
    "    raA=Data['ra']\n",
    "    Maj=Maj/3600\n",
    "    S_Maj=Maj/2\n",
    "    area_T=((S_Maj)**2)*math.pi\n",
    "    G_Data= Ned.query_object(Gname)\n",
    "    raGC=float(G_Data['RA(deg)'])\n",
    "    decGC=float(G_Data['DEC(deg)'])\n",
    "    area_A=[((((decGC-dec)**2)+((raGC-ra)**2)))*(math.pi) for dec,ra in zip(decA,raA)]\n",
    "    plt.vlines(area_T,0,10,color='red')\n",
    "    plt.hist(area_A)\n",
    "    plt.plot()\n",
    "    plt.show()"
   ]
  },
  {
   "cell_type": "code",
   "execution_count": 259,
   "metadata": {
    "collapsed": true
   },
   "outputs": [],
   "source": [
    "def Area_GC_R_N_B(Gname,Data,Maj,B):\n",
    "    \"\"\"\n",
    "    raGC: float- the ra of the galatic center\n",
    "    decGC: float the dec of the galatic center\n",
    "    raA, array- A array of the ra's of the objects that you want to know the distances from the GC\n",
    "    decGC array- A array of the dec's of the objects that you want to know the distacnes from the GC\n",
    "    returns: array- the distances of each object away from the center of the galaxy\n",
    "    \n",
    "    This fucntion takes the inputs for the ra of the GC, the Dec of the GC, the ra's of an array of objects and the\n",
    "    declinations of an array of objects and returns an array that is those objects distances from the center of the\n",
    "    galaxy\n",
    "    \"\"\"\n",
    "    import math\n",
    "    decA=Data['dec']\n",
    "    raA=Data['ra']\n",
    "    Maj=Maj/3600\n",
    "    S_Maj=Maj/2\n",
    "    area_T=((S_Maj)**2)*math.pi\n",
    "    G_Data= Ned.query_object(Gname)\n",
    "    raGC=float(G_Data['RA(deg)'])\n",
    "    decGC=float(G_Data['DEC(deg)'])\n",
    "    area_A=[((((decGC-dec)**2)+((raGC-ra)**2)))*(math.pi) for dec,ra in zip(decA,raA)]\n",
    "    plt.vlines(area_T,0,10,color='red')\n",
    "    plt.hist(area_A,B)\n",
    "    plt.plot()\n",
    "    plt.show()"
   ]
  },
  {
   "cell_type": "code",
   "execution_count": 260,
   "metadata": {
    "collapsed": true
   },
   "outputs": [],
   "source": [
    "def Area_GC_R_N_B_M(Gname,Data,B):\n",
    "    import math\n",
    "    decA=Data['dec']\n",
    "    raA=Data['ra']\n",
    "    G_Data= Ned.query_object(Gname)\n",
    "    raGC=float(G_Data['RA(deg)'])\n",
    "    decGC=float(G_Data['DEC(deg)'])\n",
    "    Dia_A= Ned.get_table(Gname,table='diameters')\n",
    "    Dia_A2=Dia_A[6]\n",
    "    Maj=Dia_A2[18]\n",
    "    Min=Dia_A2[25]\n",
    "    Min=Min/3600\n",
    "    Maj=Maj/3600\n",
    "    S_Maj=Maj/2\n",
    "    area_T=((S_Maj)**2)*math.pi\n",
    "    area_A=[((((decGC-dec)**2)+((raGC-ra)**2)))*(math.pi) for dec,ra in zip(decA,raA)]\n",
    "    plt.vlines(area_T,0,10,color='red')\n",
    "    plt.hist(area_A,B)\n",
    "    plt.plot()\n",
    "    plt.show()\n",
    "    print Maj\n",
    "    print Min\n",
    "    print Dia_A"
   ]
  },
  {
   "cell_type": "code",
   "execution_count": 261,
   "metadata": {
    "collapsed": false
   },
   "outputs": [
    {
     "name": "stdout",
     "output_type": "stream",
     "text": [
      "0.0583333333333\n",
      "0.05775\n",
      "No.     Frequency targeted    ...              NED Comment             \n",
      "                              ...                                      \n",
      "--- ------------------------- ... -------------------------------------\n",
      "  1              POSS1 103a-O ...                                      \n",
      "  2              POSS1 103a-O ...                                      \n",
      "  3     RC3 D_25, R_25 (blue) ...                                      \n",
      "  4       RC3 A_e (Johnson B) ...       From magnitude-aperture curves.\n",
      "  5            RC3 D_0 (blue) ... Extinction and inclination corrected.\n",
      "  6 K_s (LGA/2MASS isophotal) ...                                      \n",
      "  7   K_s (LGA/2MASS \"total\") ...                                      \n"
     ]
    }
   ],
   "source": [
    "Area_GC_R_N_B_M('NGC 474',data_NGC474,25)"
   ]
  },
  {
   "cell_type": "code",
   "execution_count": 262,
   "metadata": {
    "collapsed": false
   },
   "outputs": [],
   "source": [
    "Area_GC_R_N_B('NGC 474',data_NGC474,Maj_NGC474,25)"
   ]
  },
  {
   "cell_type": "code",
   "execution_count": 263,
   "metadata": {
    "collapsed": false
   },
   "outputs": [],
   "source": [
    "Area_GC_R_N_B('NGC 474',data_NGC474,Maj_NGC474,25)"
   ]
  },
  {
   "cell_type": "code",
   "execution_count": 347,
   "metadata": {
    "collapsed": false
   },
   "outputs": [
    {
     "name": "stdout",
     "output_type": "stream",
     "text": [
      "13830.psfmap               790.psfmap\r\n",
      "13830_broad_flux.img       790_broad_flux.img\r\n",
      "13830_broad_thresh.expmap  790_broad_thresh.expmap\r\n",
      "13830_broad_thresh.img     790_broad_thresh.img\r\n",
      "13830_reproj_evt.fits      790_reproj_evt.fits\r\n",
      "13831.psfmap               969.psfmap\r\n",
      "13831_broad_flux.img       969_broad_flux.img\r\n",
      "13831_broad_thresh.expmap  969_broad_thresh.expmap\r\n",
      "13831_broad_thresh.img     969_broad_thresh.img\r\n",
      "13831_reproj_evt.fits      969_reproj_evt.fits\r\n",
      "13832.psfmap               broad_flux.img\r\n",
      "13832_broad_flux.img       broad_thresh.expmap\r\n",
      "13832_broad_thresh.expmap  broad_thresh.img\r\n",
      "13832_broad_thresh.img     merged_evt.fits\r\n",
      "13832_reproj_evt.fits      wav_none_cell.fits\r\n",
      "3931.psfmap                wav_none_nbkg.fits\r\n",
      "3931_broad_flux.img        wav_none_recon.fits\r\n",
      "3931_broad_thresh.expmap   wav_none_src.fits\r\n",
      "3931_broad_thresh.img      weighted_mean.psfmap\r\n",
      "3931_reproj_evt.fits\r\n"
     ]
    }
   ],
   "source": [
    "ls"
   ]
  },
  {
   "cell_type": "code",
   "execution_count": 348,
   "metadata": {
    "collapsed": false
   },
   "outputs": [
    {
     "name": "stdout",
     "output_type": "stream",
     "text": [
      "/home/asantini\n"
     ]
    }
   ],
   "source": [
    "cd"
   ]
  },
  {
   "cell_type": "code",
   "execution_count": 349,
   "metadata": {
    "collapsed": false
   },
   "outputs": [
    {
     "name": "stdout",
     "output_type": "stream",
     "text": [
      "\u001b[34mDesktop\u001b[m\u001b[m/      \u001b[34mDownloads\u001b[m\u001b[m/    \u001b[34mMovies\u001b[m\u001b[m/       \u001b[34mPictures\u001b[m\u001b[m/     \u001b[34mcxcds_param4\u001b[m\u001b[m/\r\n",
      "\u001b[34mDocuments\u001b[m\u001b[m/    \u001b[34mLibrary\u001b[m\u001b[m/      \u001b[34mMusic\u001b[m\u001b[m/        \u001b[34mPublic\u001b[m\u001b[m/       \u001b[34mgalaxies\u001b[m\u001b[m/\r\n"
     ]
    }
   ],
   "source": [
    "ls"
   ]
  },
  {
   "cell_type": "code",
   "execution_count": 350,
   "metadata": {
    "collapsed": false
   },
   "outputs": [
    {
     "name": "stdout",
     "output_type": "stream",
     "text": [
      "/home/asantini/Desktop\n"
     ]
    }
   ],
   "source": [
    "cd Desktop/"
   ]
  },
  {
   "cell_type": "code",
   "execution_count": 351,
   "metadata": {
    "collapsed": false
   },
   "outputs": [
    {
     "name": "stdout",
     "output_type": "stream",
     "text": [
      "\u001b[34mDropbox\u001b[m\u001b[m/          Image Cap 1.tiff  Image Cap 3.tiff\r\n",
      "\u001b[34mGitHub\u001b[m\u001b[m/           Image Cap 2.tiff  \u001b[34mReaserch\u001b[m\u001b[m/\r\n"
     ]
    }
   ],
   "source": [
    "ls"
   ]
  },
  {
   "cell_type": "code",
   "execution_count": 352,
   "metadata": {
    "collapsed": false
   },
   "outputs": [
    {
     "name": "stdout",
     "output_type": "stream",
     "text": [
      "/home/asantini/Desktop/GitHub\n"
     ]
    }
   ],
   "source": [
    "cd GitHub/"
   ]
  },
  {
   "cell_type": "code",
   "execution_count": 353,
   "metadata": {
    "collapsed": false
   },
   "outputs": [
    {
     "name": "stdout",
     "output_type": "stream",
     "text": [
      "Astronomy 211 Python Homework 1.ipynb  Untitled.ipynb\r\n",
      "Astronomy Homework 5 Question 4.ipynb  Untitled1.ipynb\r\n",
      "Galaxy Histograms Cleaned 2.ipynb      Untitled2-Copy1.ipynb\r\n",
      "Galaxy Histograms Cleaned 3.ipynb      factorial.txt\r\n",
      "Galaxy Histograms Cleaned.ipynb        mybithday.txt\r\n",
      "Galaxy Histograms.ipynb                ngc253.fits\r\n",
      "Homework 4 Output.txt                  untitled.txt\r\n"
     ]
    }
   ],
   "source": [
    "ls"
   ]
  },
  {
   "cell_type": "code",
   "execution_count": 355,
   "metadata": {
    "collapsed": false
   },
   "outputs": [
    {
     "ename": "IOError",
     "evalue": "[Errno 2] No such file or directory: '/home/asantini/Desktop/Dropbox/galaxies/ngc253.fits'",
     "output_type": "error",
     "traceback": [
      "\u001b[0;31m---------------------------------------------------------------------------\u001b[0m",
      "\u001b[0;31mIOError\u001b[0m                                   Traceback (most recent call last)",
      "\u001b[0;32m<ipython-input-355-60df85179399>\u001b[0m in \u001b[0;36m<module>\u001b[0;34m()\u001b[0m\n\u001b[0;32m----> 1\u001b[0;31m \u001b[0mdata_NGC253\u001b[0m \u001b[0;34m=\u001b[0m \u001b[0mfits\u001b[0m\u001b[0;34m.\u001b[0m\u001b[0mopen\u001b[0m\u001b[0;34m(\u001b[0m\u001b[0;34m'/home/asantini/Desktop/Dropbox/galaxies/ngc253.fits'\u001b[0m\u001b[0;34m)\u001b[0m\u001b[0;34m\u001b[0m\u001b[0m\n\u001b[0m",
      "\u001b[0;32m/soft/anaconda/lib/python2.7/site-packages/astropy/io/fits/hdu/hdulist.py\u001b[0m in \u001b[0;36mfitsopen\u001b[0;34m(name, mode, memmap, save_backup, cache, **kwargs)\u001b[0m\n\u001b[1;32m    136\u001b[0m         \u001b[0;32mraise\u001b[0m \u001b[0mValueError\u001b[0m\u001b[0;34m(\u001b[0m\u001b[0;34m'Empty filename: %s'\u001b[0m \u001b[0;34m%\u001b[0m \u001b[0mrepr\u001b[0m\u001b[0;34m(\u001b[0m\u001b[0mname\u001b[0m\u001b[0;34m)\u001b[0m\u001b[0;34m)\u001b[0m\u001b[0;34m\u001b[0m\u001b[0m\n\u001b[1;32m    137\u001b[0m \u001b[0;34m\u001b[0m\u001b[0m\n\u001b[0;32m--> 138\u001b[0;31m     \u001b[0;32mreturn\u001b[0m \u001b[0mHDUList\u001b[0m\u001b[0;34m.\u001b[0m\u001b[0mfromfile\u001b[0m\u001b[0;34m(\u001b[0m\u001b[0mname\u001b[0m\u001b[0;34m,\u001b[0m \u001b[0mmode\u001b[0m\u001b[0;34m,\u001b[0m \u001b[0mmemmap\u001b[0m\u001b[0;34m,\u001b[0m \u001b[0msave_backup\u001b[0m\u001b[0;34m,\u001b[0m \u001b[0mcache\u001b[0m\u001b[0;34m,\u001b[0m \u001b[0;34m**\u001b[0m\u001b[0mkwargs\u001b[0m\u001b[0;34m)\u001b[0m\u001b[0;34m\u001b[0m\u001b[0m\n\u001b[0m\u001b[1;32m    139\u001b[0m \u001b[0;34m\u001b[0m\u001b[0m\n\u001b[1;32m    140\u001b[0m \u001b[0;34m\u001b[0m\u001b[0m\n",
      "\u001b[0;32m/soft/anaconda/lib/python2.7/site-packages/astropy/io/fits/hdu/hdulist.py\u001b[0m in \u001b[0;36mfromfile\u001b[0;34m(cls, fileobj, mode, memmap, save_backup, cache, **kwargs)\u001b[0m\n\u001b[1;32m    278\u001b[0m \u001b[0;34m\u001b[0m\u001b[0m\n\u001b[1;32m    279\u001b[0m         return cls._readfrom(fileobj=fileobj, mode=mode, memmap=memmap,\n\u001b[0;32m--> 280\u001b[0;31m                              save_backup=save_backup, cache=cache, **kwargs)\n\u001b[0m\u001b[1;32m    281\u001b[0m \u001b[0;34m\u001b[0m\u001b[0m\n\u001b[1;32m    282\u001b[0m     \u001b[0;34m@\u001b[0m\u001b[0mclassmethod\u001b[0m\u001b[0;34m\u001b[0m\u001b[0m\n",
      "\u001b[0;32m/soft/anaconda/lib/python2.7/site-packages/astropy/io/fits/hdu/hdulist.py\u001b[0m in \u001b[0;36m_readfrom\u001b[0;34m(cls, fileobj, data, mode, memmap, save_backup, cache, **kwargs)\u001b[0m\n\u001b[1;32m    799\u001b[0m             \u001b[0;32mif\u001b[0m \u001b[0;32mnot\u001b[0m \u001b[0misinstance\u001b[0m\u001b[0;34m(\u001b[0m\u001b[0mfileobj\u001b[0m\u001b[0;34m,\u001b[0m \u001b[0m_File\u001b[0m\u001b[0;34m)\u001b[0m\u001b[0;34m:\u001b[0m\u001b[0;34m\u001b[0m\u001b[0m\n\u001b[1;32m    800\u001b[0m                 \u001b[0;31m# instantiate a FITS file object (ffo)\u001b[0m\u001b[0;34m\u001b[0m\u001b[0;34m\u001b[0m\u001b[0m\n\u001b[0;32m--> 801\u001b[0;31m                 \u001b[0mffo\u001b[0m \u001b[0;34m=\u001b[0m \u001b[0m_File\u001b[0m\u001b[0;34m(\u001b[0m\u001b[0mfileobj\u001b[0m\u001b[0;34m,\u001b[0m \u001b[0mmode\u001b[0m\u001b[0;34m=\u001b[0m\u001b[0mmode\u001b[0m\u001b[0;34m,\u001b[0m \u001b[0mmemmap\u001b[0m\u001b[0;34m=\u001b[0m\u001b[0mmemmap\u001b[0m\u001b[0;34m,\u001b[0m \u001b[0mcache\u001b[0m\u001b[0;34m=\u001b[0m\u001b[0mcache\u001b[0m\u001b[0;34m)\u001b[0m\u001b[0;34m\u001b[0m\u001b[0m\n\u001b[0m\u001b[1;32m    802\u001b[0m             \u001b[0;32melse\u001b[0m\u001b[0;34m:\u001b[0m\u001b[0;34m\u001b[0m\u001b[0m\n\u001b[1;32m    803\u001b[0m                 \u001b[0mffo\u001b[0m \u001b[0;34m=\u001b[0m \u001b[0mfileobj\u001b[0m\u001b[0;34m\u001b[0m\u001b[0m\n",
      "\u001b[0;32m/soft/anaconda/lib/python2.7/site-packages/astropy/io/fits/file.py\u001b[0m in \u001b[0;36m__init__\u001b[0;34m(self, fileobj, mode, memmap, clobber, cache)\u001b[0m\n\u001b[1;32m    139\u001b[0m             \u001b[0mself\u001b[0m\u001b[0;34m.\u001b[0m\u001b[0m_open_fileobj\u001b[0m\u001b[0;34m(\u001b[0m\u001b[0mfileobj\u001b[0m\u001b[0;34m,\u001b[0m \u001b[0mmode\u001b[0m\u001b[0;34m,\u001b[0m \u001b[0mclobber\u001b[0m\u001b[0;34m)\u001b[0m\u001b[0;34m\u001b[0m\u001b[0m\n\u001b[1;32m    140\u001b[0m         \u001b[0;32melif\u001b[0m \u001b[0misinstance\u001b[0m\u001b[0;34m(\u001b[0m\u001b[0mfileobj\u001b[0m\u001b[0;34m,\u001b[0m \u001b[0mstring_types\u001b[0m\u001b[0;34m)\u001b[0m\u001b[0;34m:\u001b[0m\u001b[0;34m\u001b[0m\u001b[0m\n\u001b[0;32m--> 141\u001b[0;31m             \u001b[0mself\u001b[0m\u001b[0;34m.\u001b[0m\u001b[0m_open_filename\u001b[0m\u001b[0;34m(\u001b[0m\u001b[0mfileobj\u001b[0m\u001b[0;34m,\u001b[0m \u001b[0mmode\u001b[0m\u001b[0;34m,\u001b[0m \u001b[0mclobber\u001b[0m\u001b[0;34m)\u001b[0m\u001b[0;34m\u001b[0m\u001b[0m\n\u001b[0m\u001b[1;32m    142\u001b[0m         \u001b[0;32melse\u001b[0m\u001b[0;34m:\u001b[0m\u001b[0;34m\u001b[0m\u001b[0m\n\u001b[1;32m    143\u001b[0m             \u001b[0mself\u001b[0m\u001b[0;34m.\u001b[0m\u001b[0m_open_filelike\u001b[0m\u001b[0;34m(\u001b[0m\u001b[0mfileobj\u001b[0m\u001b[0;34m,\u001b[0m \u001b[0mmode\u001b[0m\u001b[0;34m,\u001b[0m \u001b[0mclobber\u001b[0m\u001b[0;34m)\u001b[0m\u001b[0;34m\u001b[0m\u001b[0m\n",
      "\u001b[0;32m/soft/anaconda/lib/python2.7/site-packages/astropy/io/fits/file.py\u001b[0m in \u001b[0;36m_open_filename\u001b[0;34m(self, filename, mode, clobber)\u001b[0m\n\u001b[1;32m    491\u001b[0m             \u001b[0mself\u001b[0m\u001b[0;34m.\u001b[0m\u001b[0m_file\u001b[0m \u001b[0;34m=\u001b[0m \u001b[0mbz2\u001b[0m\u001b[0;34m.\u001b[0m\u001b[0mBZ2File\u001b[0m\u001b[0;34m(\u001b[0m\u001b[0mself\u001b[0m\u001b[0;34m.\u001b[0m\u001b[0mname\u001b[0m\u001b[0;34m,\u001b[0m \u001b[0mbzip2_mode\u001b[0m\u001b[0;34m)\u001b[0m\u001b[0;34m\u001b[0m\u001b[0m\n\u001b[1;32m    492\u001b[0m         \u001b[0;32melse\u001b[0m\u001b[0;34m:\u001b[0m\u001b[0;34m\u001b[0m\u001b[0m\n\u001b[0;32m--> 493\u001b[0;31m             \u001b[0mself\u001b[0m\u001b[0;34m.\u001b[0m\u001b[0m_file\u001b[0m \u001b[0;34m=\u001b[0m \u001b[0mfileobj_open\u001b[0m\u001b[0;34m(\u001b[0m\u001b[0mself\u001b[0m\u001b[0;34m.\u001b[0m\u001b[0mname\u001b[0m\u001b[0;34m,\u001b[0m \u001b[0mPYFITS_MODES\u001b[0m\u001b[0;34m[\u001b[0m\u001b[0mmode\u001b[0m\u001b[0;34m]\u001b[0m\u001b[0;34m)\u001b[0m\u001b[0;34m\u001b[0m\u001b[0m\n\u001b[0m\u001b[1;32m    494\u001b[0m \u001b[0;34m\u001b[0m\u001b[0m\n\u001b[1;32m    495\u001b[0m         \u001b[0;31m# Make certain we're back at the beginning of the file\u001b[0m\u001b[0;34m\u001b[0m\u001b[0;34m\u001b[0m\u001b[0m\n",
      "\u001b[0;32m/soft/anaconda/lib/python2.7/site-packages/astropy/io/fits/util.py\u001b[0m in \u001b[0;36mfileobj_open\u001b[0;34m(filename, mode)\u001b[0m\n\u001b[1;32m    413\u001b[0m         \"\"\"\n\u001b[1;32m    414\u001b[0m \u001b[0;34m\u001b[0m\u001b[0m\n\u001b[0;32m--> 415\u001b[0;31m         \u001b[0;32mreturn\u001b[0m \u001b[0mopen\u001b[0m\u001b[0;34m(\u001b[0m\u001b[0mfilename\u001b[0m\u001b[0;34m,\u001b[0m \u001b[0mmode\u001b[0m\u001b[0;34m)\u001b[0m\u001b[0;34m\u001b[0m\u001b[0m\n\u001b[0m\u001b[1;32m    416\u001b[0m \u001b[0;34m\u001b[0m\u001b[0m\n\u001b[1;32m    417\u001b[0m \u001b[0;34m\u001b[0m\u001b[0m\n",
      "\u001b[0;31mIOError\u001b[0m: [Errno 2] No such file or directory: '/home/asantini/Desktop/Dropbox/galaxies/ngc253.fits'"
     ]
    }
   ],
   "source": [
    "data_NGC253 = fits.open('/home/asantini/Desktop/Dropbox/galaxies/ngc253.fits')"
   ]
  },
  {
   "cell_type": "code",
   "execution_count": 356,
   "metadata": {
    "collapsed": true
   },
   "outputs": [],
   "source": [
    "from astropy.io import fits"
   ]
  },
  {
   "cell_type": "code",
   "execution_count": 357,
   "metadata": {
    "collapsed": false
   },
   "outputs": [],
   "source": [
    "data_NGC253 = fits.open('ngc253.fits')"
   ]
  },
  {
   "cell_type": "code",
   "execution_count": 358,
   "metadata": {
    "collapsed": false
   },
   "outputs": [],
   "source": [
    "data_NGC253 = fits.open('ngc253.fits')"
   ]
  },
  {
   "cell_type": "code",
   "execution_count": 359,
   "metadata": {
    "collapsed": false
   },
   "outputs": [],
   "source": [
    "data_NGCtest=data_NGC253[1]"
   ]
  },
  {
   "cell_type": "code",
   "execution_count": 367,
   "metadata": {
    "collapsed": false
   },
   "outputs": [
    {
     "ename": "KeyError",
     "evalue": "\"Extension 'RA' not found.\"",
     "output_type": "error",
     "traceback": [
      "\u001b[0;31m---------------------------------------------------------------------------\u001b[0m",
      "\u001b[0;31mKeyError\u001b[0m                                  Traceback (most recent call last)",
      "\u001b[0;32m<ipython-input-367-35b4862770c5>\u001b[0m in \u001b[0;36m<module>\u001b[0;34m()\u001b[0m\n\u001b[0;32m----> 1\u001b[0;31m \u001b[0;32mprint\u001b[0m \u001b[0mdata_NGC253\u001b[0m\u001b[0;34m[\u001b[0m\u001b[0;34m'RA'\u001b[0m\u001b[0;34m]\u001b[0m\u001b[0;34m.\u001b[0m\u001b[0mdata\u001b[0m\u001b[0;34m\u001b[0m\u001b[0m\n\u001b[0m",
      "\u001b[0;32m/soft/anaconda/lib/python2.7/site-packages/astropy/io/fits/hdu/hdulist.py\u001b[0m in \u001b[0;36m__getitem__\u001b[0;34m(self, key)\u001b[0m\n\u001b[1;32m    193\u001b[0m             \u001b[0;32mreturn\u001b[0m \u001b[0mHDUList\u001b[0m\u001b[0;34m(\u001b[0m\u001b[0mhdus\u001b[0m\u001b[0;34m)\u001b[0m\u001b[0;34m\u001b[0m\u001b[0m\n\u001b[1;32m    194\u001b[0m \u001b[0;34m\u001b[0m\u001b[0m\n\u001b[0;32m--> 195\u001b[0;31m         \u001b[0midx\u001b[0m \u001b[0;34m=\u001b[0m \u001b[0mself\u001b[0m\u001b[0;34m.\u001b[0m\u001b[0mindex_of\u001b[0m\u001b[0;34m(\u001b[0m\u001b[0mkey\u001b[0m\u001b[0;34m)\u001b[0m\u001b[0;34m\u001b[0m\u001b[0m\n\u001b[0m\u001b[1;32m    196\u001b[0m         \u001b[0;32mreturn\u001b[0m \u001b[0msuper\u001b[0m\u001b[0;34m(\u001b[0m\u001b[0mHDUList\u001b[0m\u001b[0;34m,\u001b[0m \u001b[0mself\u001b[0m\u001b[0;34m)\u001b[0m\u001b[0;34m.\u001b[0m\u001b[0m__getitem__\u001b[0m\u001b[0;34m(\u001b[0m\u001b[0midx\u001b[0m\u001b[0;34m)\u001b[0m\u001b[0;34m\u001b[0m\u001b[0m\n\u001b[1;32m    197\u001b[0m \u001b[0;34m\u001b[0m\u001b[0m\n",
      "\u001b[0;32m/soft/anaconda/lib/python2.7/site-packages/astropy/io/fits/hdu/hdulist.py\u001b[0m in \u001b[0;36mindex_of\u001b[0;34m(self, key)\u001b[0m\n\u001b[1;32m    532\u001b[0m \u001b[0;34m\u001b[0m\u001b[0m\n\u001b[1;32m    533\u001b[0m         \u001b[0;32mif\u001b[0m \u001b[0;34m(\u001b[0m\u001b[0mnfound\u001b[0m \u001b[0;34m==\u001b[0m \u001b[0;36m0\u001b[0m\u001b[0;34m)\u001b[0m\u001b[0;34m:\u001b[0m\u001b[0;34m\u001b[0m\u001b[0m\n\u001b[0;32m--> 534\u001b[0;31m             \u001b[0;32mraise\u001b[0m \u001b[0mKeyError\u001b[0m\u001b[0;34m(\u001b[0m\u001b[0;34m'Extension %s not found.'\u001b[0m \u001b[0;34m%\u001b[0m \u001b[0mrepr\u001b[0m\u001b[0;34m(\u001b[0m\u001b[0mkey\u001b[0m\u001b[0;34m)\u001b[0m\u001b[0;34m)\u001b[0m\u001b[0;34m\u001b[0m\u001b[0m\n\u001b[0m\u001b[1;32m    535\u001b[0m         \u001b[0;32melif\u001b[0m \u001b[0;34m(\u001b[0m\u001b[0mnfound\u001b[0m \u001b[0;34m>\u001b[0m \u001b[0;36m1\u001b[0m\u001b[0;34m)\u001b[0m\u001b[0;34m:\u001b[0m\u001b[0;34m\u001b[0m\u001b[0m\n\u001b[1;32m    536\u001b[0m             raise KeyError('There are %d extensions of %s.'\n",
      "\u001b[0;31mKeyError\u001b[0m: \"Extension 'RA' not found.\""
     ]
    }
   ],
   "source": [
    "print data_NGC253['RA'].data"
   ]
  },
  {
   "cell_type": "code",
   "execution_count": 368,
   "metadata": {
    "collapsed": false
   },
   "outputs": [],
   "source": [
    "data_NGC253_Low=data_NGC253[1].data"
   ]
  },
  {
   "cell_type": "code",
   "execution_count": 369,
   "metadata": {
    "collapsed": false
   },
   "outputs": [
    {
     "data": {
      "text/plain": [
       "array([ 11.81591264,  11.77781781,  11.84418913,  11.93614562,\n",
       "        11.80006729,  11.89624725,  11.90476811,  11.90995038,\n",
       "        11.85502077,  11.86233571,  11.89440183,  11.84292851,\n",
       "        11.86919041,  11.88188524,  11.8882809 ,  11.85707105,\n",
       "        11.86029678,  11.82709209,  11.89602224,  11.84791643,\n",
       "        11.87711215,  11.88744334,  11.8415229 ,  11.90231814,\n",
       "        11.88448741,  11.87376523,  11.89916202,  11.87909351,\n",
       "        11.82347329,  11.86673928,  11.88975049,  11.86418668,\n",
       "        11.96727489,  11.95471606,  11.82320515,  11.85144135,\n",
       "        11.85641905,  11.86464166,  11.87060072,  11.8787356 ,\n",
       "        11.89054116,  11.88736086,  11.83728608,  11.88470187,\n",
       "        11.87899034,  11.80013245,  11.90520482,  11.87449712,\n",
       "        11.87645405,  11.86659979,  11.86195785,  11.8841402 ,\n",
       "        11.88861109,  11.85708684,  11.89334678,  11.87858947,\n",
       "        11.88926908,  11.88353816,  11.88766181,  11.88842139,\n",
       "        11.87640609,  11.88824942,  11.86841066,  11.89373734,\n",
       "        11.88403137,  11.89578123,  11.87460926,  11.88751148,\n",
       "        11.89276939,  11.88879792,  11.86467031,  11.8960193 ,\n",
       "        11.87030564,  11.87791953,  11.86983663,  11.85576716,\n",
       "        11.92237466,  11.90136103,  11.87884752,  11.91446189,\n",
       "        11.95435917,  11.94446674,  11.91002307,  11.91352745,\n",
       "        11.98544455,  11.89968346,  11.87950396,  11.88587686,\n",
       "        11.91289367,  11.88751258,  11.84943359,  11.90640471,\n",
       "        11.90954098,  11.92897161,  11.89003849,  11.92937631,\n",
       "        11.9193784 ,  11.92962175,  11.89678135,  11.88180027,\n",
       "        11.95206438,  11.9281876 ,  11.87937846,  11.93681927,\n",
       "        11.85188948,  11.87873807,  11.9194971 ,  11.87662261,\n",
       "        11.92936503,  11.95356477,  12.00070988,  11.79620083,\n",
       "        11.79274144,  11.69751492,  11.83706013,  11.88599753,\n",
       "        11.80334454,  11.73562949,  11.83155401,  11.77139753,\n",
       "        11.80079467,  11.90996357,  11.89222494,  11.89970162,\n",
       "        11.96681489,  11.89037386,  11.898151  ,  11.91018173,\n",
       "        11.89744232,  11.88127463,  11.88336546,  11.78378335,\n",
       "        11.9529819 ,  11.94408552,  11.82441416,  11.94716598,\n",
       "        11.9884294 ,  11.96055228,  11.93679489,  11.95624023,\n",
       "        11.89149126,  11.97301284,  11.81630469,  11.83405119,\n",
       "        11.74772816,  11.77525107,  11.74991028,  11.87570407,\n",
       "        11.73736742,  11.8523918 ,  11.8979714 ,  11.8951472 ,\n",
       "        11.900879  ,  11.98341905,  11.99355652,  12.01037872,\n",
       "        11.98526639,  11.93871792,  11.99300316,  11.92846346,\n",
       "        11.96426871,  11.99964643,  11.77142213,  11.76029024,\n",
       "        11.77107532,  11.75588664,  11.68506766,  11.7849764 ,\n",
       "        11.88906961,  12.07822946,  12.0270014 ,  12.00778322,\n",
       "        11.76416455,  11.6511668 ,  11.89110439,  11.78924519,\n",
       "        11.95493705,  11.75720677,  11.766366  ,  12.05594032,\n",
       "        11.74715863,  11.87760129,  11.80952821,  12.07862772,\n",
       "        11.7270634 ,  11.81554064,  11.64893378,  11.90625349,\n",
       "        11.70339369,  11.93618101])"
      ]
     },
     "execution_count": 369,
     "metadata": {},
     "output_type": "execute_result"
    }
   ],
   "source": [
    "data_NGC253_Low['RA']"
   ]
  },
  {
   "cell_type": "code",
   "execution_count": 370,
   "metadata": {
    "collapsed": false
   },
   "outputs": [],
   "source": [
    "data_NGC253_RA=data_NGC253_Low['RA']"
   ]
  },
  {
   "cell_type": "code",
   "execution_count": 371,
   "metadata": {
    "collapsed": false
   },
   "outputs": [
    {
     "data": {
      "text/plain": [
       "array([-25.36278879, -25.35744422, -25.34745275, -25.34605687,\n",
       "       -25.34386971, -25.3371804 , -25.33382325, -25.32934168,\n",
       "       -25.32924574, -25.32869615, -25.32707207, -25.32664967,\n",
       "       -25.32316616, -25.32268724, -25.32195151, -25.32094245,\n",
       "       -25.32065432, -25.3205539 , -25.31994104, -25.31790463,\n",
       "       -25.31726568, -25.31288311, -25.31261689, -25.31239188,\n",
       "       -25.31150245, -25.31082068, -25.30821041, -25.30729974,\n",
       "       -25.30743322, -25.30562944, -25.30461414, -25.30464324,\n",
       "       -25.30401433, -25.30304165, -25.30315905, -25.30190788,\n",
       "       -25.30120856, -25.29973552, -25.29796951, -25.29769215,\n",
       "       -25.29729357, -25.29692357, -25.29641938, -25.29555079,\n",
       "       -25.2955355 , -25.29550119, -25.2944338 , -25.294036  ,\n",
       "       -25.2939108 , -25.29288137, -25.29240509, -25.29101271,\n",
       "       -25.29058999, -25.29058045, -25.28996755, -25.28995508,\n",
       "       -25.28948564, -25.28932223, -25.28883323, -25.28829966,\n",
       "       -25.28712795, -25.28646087, -25.28589685, -25.28583456,\n",
       "       -25.28511802, -25.28493195, -25.2849377 , -25.28467309,\n",
       "       -25.28432377, -25.28424766, -25.28318859, -25.28324082,\n",
       "       -25.28306449, -25.27973061, -25.27928365, -25.27873773,\n",
       "       -25.27759096, -25.27740315, -25.2773037 , -25.27616957,\n",
       "       -25.27464352, -25.27363301, -25.27338807, -25.27328229,\n",
       "       -25.27209645, -25.27176639, -25.27079309, -25.2704785 ,\n",
       "       -25.2675864 , -25.26601727, -25.26541563, -25.26173077,\n",
       "       -25.26157113, -25.2613262 , -25.25948882, -25.25816749,\n",
       "       -25.25797669, -25.256845  , -25.25331031, -25.25172003,\n",
       "       -25.25086012, -25.25059728, -25.25055121, -25.2491095 ,\n",
       "       -25.24740939, -25.24735382, -25.23685097, -25.22703253,\n",
       "       -25.22299756, -25.21411333, -25.16479638, -25.39241406,\n",
       "       -25.37577352, -25.36405809, -25.35839812, -25.35196072,\n",
       "       -25.35165402, -25.34298515, -25.33425454, -25.32240774,\n",
       "       -25.32218142, -25.32205564, -25.29801501, -25.29407733,\n",
       "       -25.29265122, -25.29207787, -25.29213032, -25.28882976,\n",
       "       -25.28569973, -25.28579404, -25.28338556, -25.27927771,\n",
       "       -25.27647886, -25.27545314, -25.25952405, -25.25460419,\n",
       "       -25.25096014, -25.24381589, -25.22721215, -25.22654889,\n",
       "       -25.22009471, -25.21902344, -25.39351241, -25.39253762,\n",
       "       -25.38113368, -25.37323415, -25.37238636, -25.35405643,\n",
       "       -25.31845172, -25.3083358 , -25.30537462, -25.29910778,\n",
       "       -25.2973786 , -25.29630853, -25.29170711, -25.28711173,\n",
       "       -25.24584211, -25.20561387, -25.20463892, -25.19709306,\n",
       "       -25.1730388 , -25.1716189 , -25.44298096, -25.40609533,\n",
       "       -25.39696232, -25.38987309, -25.37641547, -25.27266145,\n",
       "       -25.27230861, -25.25229573, -25.21242958, -25.19042039,\n",
       "       -25.43322894, -25.39008597, -25.3691467 , -25.34042586,\n",
       "       -25.32765568, -25.30054014, -25.2864925 , -25.26614027,\n",
       "       -25.45629282, -25.37433919, -25.26108804, -25.23986187,\n",
       "       -25.46982636, -25.4121077 , -25.36537824, -25.35636785,\n",
       "       -25.32998698, -25.30729895])"
      ]
     },
     "execution_count": 371,
     "metadata": {},
     "output_type": "execute_result"
    }
   ],
   "source": [
    "data_NGC253_Low['DEC']"
   ]
  },
  {
   "cell_type": "code",
   "execution_count": 372,
   "metadata": {
    "collapsed": false
   },
   "outputs": [],
   "source": [
    "data_NGC_DEC=data_NGC253_Low['DEC']"
   ]
  },
  {
   "cell_type": "code",
   "execution_count": 373,
   "metadata": {
    "collapsed": true
   },
   "outputs": [],
   "source": [
    "def Area_GC_R_N_B_Ds9(Gname,RA,Dec,Maj,B):\n",
    "    \"\"\"\n",
    "    raGC: float- the ra of the galatic center\n",
    "    decGC: float the dec of the galatic center\n",
    "    raA, array- A array of the ra's of the objects that you want to know the distances from the GC\n",
    "    decGC array- A array of the dec's of the objects that you want to know the distacnes from the GC\n",
    "    returns: array- the distances of each object away from the center of the galaxy\n",
    "    \n",
    "    This fucntion takes the inputs for the ra of the GC, the Dec of the GC, the ra's of an array of objects and the\n",
    "    declinations of an array of objects and returns an array that is those objects distances from the center of the\n",
    "    galaxy\n",
    "    \"\"\"\n",
    "    import math\n",
    "    decA=Dec\n",
    "    raA=RA\n",
    "    Maj=Maj/3600\n",
    "    S_Maj=Maj/2\n",
    "    area_T=((S_Maj)**2)*math.pi\n",
    "    G_Data= Ned.query_object(Gname)\n",
    "    raGC=float(G_Data['RA(deg)'])\n",
    "    decGC=float(G_Data['DEC(deg)'])\n",
    "    area_A=[((((decGC-dec)**2)+((raGC-ra)**2)))*(math.pi) for dec,ra in zip(decA,raA)]\n",
    "    print raGC\n",
    "    print decGC\n",
    "    print ra\n",
    "    print dec\n",
    "    plt.vlines(area_T,0,10,color='red')\n",
    "    plt.hist(area_A,B)\n",
    "    plt.plot()\n",
    "    plt.show()"
   ]
  },
  {
   "cell_type": "code",
   "execution_count": 376,
   "metadata": {
    "collapsed": false
   },
   "outputs": [
    {
     "name": "stdout",
     "output_type": "stream",
     "text": [
      "11.888\n",
      "-25.28822\n",
      "11.9361810104\n",
      "-25.3072989539\n"
     ]
    }
   ],
   "source": [
    "Area_GC_R_N_B_Ds9('NGC 253',data_NGC253_RA,data_NGC_DEC,1843.60,25)"
   ]
  },
  {
   "cell_type": "code",
   "execution_count": 375,
   "metadata": {
    "collapsed": false
   },
   "outputs": [
    {
     "name": "stdout",
     "output_type": "stream",
     "text": [
      "/home/asantini\n"
     ]
    }
   ],
   "source": [
    "cd"
   ]
  },
  {
   "cell_type": "code",
   "execution_count": 304,
   "metadata": {
    "collapsed": false
   },
   "outputs": [
    {
     "name": "stdout",
     "output_type": "stream",
     "text": [
      "/home/asantini/galaxies\n"
     ]
    }
   ],
   "source": [
    "cd galaxies/"
   ]
  },
  {
   "cell_type": "code",
   "execution_count": 305,
   "metadata": {
    "collapsed": false
   },
   "outputs": [
    {
     "name": "stdout",
     "output_type": "stream",
     "text": [
      "/home/asantini/galaxies/out\n"
     ]
    }
   ],
   "source": [
    "cd out/"
   ]
  },
  {
   "cell_type": "code",
   "execution_count": 306,
   "metadata": {
    "collapsed": false
   },
   "outputs": [],
   "source": [
    "data_NGC253_M=fits.open('wav_none_src.fits')"
   ]
  },
  {
   "cell_type": "code",
   "execution_count": 307,
   "metadata": {
    "collapsed": false
   },
   "outputs": [],
   "source": [
    "data_NGC253_M_L=data_NGC253_M[1].data"
   ]
  },
  {
   "cell_type": "code",
   "execution_count": 308,
   "metadata": {
    "collapsed": false
   },
   "outputs": [],
   "source": [
    "data_NGC253_M_RA=data_NGC253_M_L['RA']"
   ]
  },
  {
   "cell_type": "code",
   "execution_count": 309,
   "metadata": {
    "collapsed": false
   },
   "outputs": [],
   "source": [
    "data_NGC253_M_DEC=data_NGC253_M_L['Dec']"
   ]
  },
  {
   "cell_type": "code",
   "execution_count": 315,
   "metadata": {
    "collapsed": false
   },
   "outputs": [
    {
     "name": "stdout",
     "output_type": "stream",
     "text": [
      "11.888\n",
      "-25.28822\n",
      "11.7681395991\n",
      "-24.9696464991\n"
     ]
    }
   ],
   "source": [
    "Area_GC_R_N_B_Ds9('NGC 253',data_NGC253_M_RA,data_NGC253_M_DEC,1843.60,25)"
   ]
  },
  {
   "cell_type": "code",
   "execution_count": 311,
   "metadata": {
    "collapsed": true
   },
   "outputs": [],
   "source": [
    "def dis_GC_R_N(Gname,Data,Maj,Min):\n",
    "    \"\"\"\n",
    "    Gname: str- The name of the galaxy in the form NGC #\n",
    "    Data: array- a table of data containg the coordinates of each object\n",
    "    Maj: int- The major axis of the galaxy in arcseconds\n",
    "    Min: int- The minor axis of the galaxy in arcseconds\n",
    "    \n",
    "    This fucntion takes the inputs for the name of the galaxy, the Dec of the GC, the ra's of an array of objects and the\n",
    "    declinations of an array of objects and returns an histrogram that plots the number of objects per bin by the\n",
    "    distance from the center of the galaxy to the objects in each bin are in degrees.\n",
    "    This function plots the visible Major and Minor axis of the galaxies on the histogram.\n",
    "    This function uses astroquary to get data directly from NED\n",
    "    \"\"\"\n",
    "    import math\n",
    "    decA=Data['dec']\n",
    "    raA=Data['ra']\n",
    "    Maj=Maj/3600\n",
    "    Min=Min/3600\n",
    "    S_Maj=Maj/2\n",
    "    S_Min=Min/2\n",
    "    G_Data= Ned.query_object(Gname)\n",
    "    raGC=float(G_Data['RA(deg)'])\n",
    "    decGC=float(G_Data['DEC(deg)'])\n",
    "    disA=[math.sqrt(((decGC-dec)**2)+((raGC-ra)**2)) for dec,ra in zip(decA,raA)]\n",
    "    plt.vlines(S_Maj,0,10,color='red')\n",
    "    plt.vlines(S_Min,0,10,color='blue')\n",
    "    plt.hist(disA)\n",
    "    plt.plot()\n",
    "    plt.show()"
   ]
  },
  {
   "cell_type": "code",
   "execution_count": 312,
   "metadata": {
    "collapsed": false
   },
   "outputs": [],
   "source": [
    "dis_GC_R_N('NGC 253',data_NGC253_M_L,1843.60,25)"
   ]
  },
  {
   "cell_type": "code",
   "execution_count": 313,
   "metadata": {
    "collapsed": true
   },
   "outputs": [],
   "source": [
    "def dis_GC_R_N_Ds9(Gname,RA,DEC,Maj,Min):\n",
    "    \"\"\"\n",
    "    Gname: str- The name of the galaxy in the form NGC #\n",
    "    Data: array- a table of data containg the coordinates of each object\n",
    "    Maj: int- The major axis of the galaxy in arcseconds\n",
    "    Min: int- The minor axis of the galaxy in arcseconds\n",
    "    \n",
    "    This fucntion takes the inputs for the name of the galaxy, the Dec of the GC, the ra's of an array of objects and the\n",
    "    declinations of an array of objects and returns an histrogram that plots the number of objects per bin by the\n",
    "    distance from the center of the galaxy to the objects in each bin are in degrees.\n",
    "    This function plots the visible Major and Minor axis of the galaxies on the histogram.\n",
    "    This function uses astroquary to get data directly from NED\n",
    "    \"\"\"\n",
    "    import math\n",
    "    decA=DEC\n",
    "    raA=RA\n",
    "    Maj=Maj/3600\n",
    "    Min=Min/3600\n",
    "    S_Maj=Maj/2\n",
    "    S_Min=Min/2\n",
    "    G_Data= Ned.query_object(Gname)\n",
    "    raGC=float(G_Data['RA(deg)'])\n",
    "    decGC=float(G_Data['DEC(deg)'])\n",
    "    disA=[math.sqrt(((decGC-dec)**2)+((raGC-ra)**2)) for dec,ra in zip(decA,raA)]\n",
    "    plt.vlines(S_Maj,0,10,color='red')\n",
    "    plt.vlines(S_Min,0,10,color='blue')\n",
    "    plt.hist(disA)\n",
    "    plt.plot()\n",
    "    plt.show()"
   ]
  },
  {
   "cell_type": "code",
   "execution_count": 314,
   "metadata": {
    "collapsed": true
   },
   "outputs": [],
   "source": [
    "def Area_GC_R_N_F(Gname,Data,Maj):\n",
    "    \"\"\"\n",
    "    Gname: str- The name of the galaxy in the form NGC #\n",
    "    Data: array- a table of data containg the coordinates of each object\n",
    "    Maj: int- The major axis of the galaxy in arcseconds\n",
    "    \n",
    "    This fucntion takes the inputs for the name of the galaxy, the ra's of an array of objects and the\n",
    "    declinations of an array of objects and returns an histrogram that plots the number of objects per bin by the\n",
    "    area enclosed by the cirlce centered on the center of the galaxy that inculdes the objects in each bin in \n",
    "    square degrees divided by the visible area of the galaxy in square degrees.\n",
    "    This function plots the visible Major axis of the galaxy area enclosed by a circle that uses the Major axis as \n",
    "    the diameter of the cirlce divided by itself to give 1 on histogram.\n",
    "    This function uses astroquary to get data directly from NED\n",
    "    \"\"\"\n",
    "    import math\n",
    "    decA=Data['dec']\n",
    "    raA=Data['ra']\n",
    "    Maj=Maj/3600\n",
    "    S_Maj=Maj/2\n",
    "    area_T=((S_Maj)**2)*math.pi\n",
    "    G_Data= Ned.query_object(Gname)\n",
    "    raGC=float(G_Data['RA(deg)'])\n",
    "    decGC=float(G_Data['DEC(deg)'])\n",
    "    area_A=[((((((decGC-dec)**2)+((raGC-ra)**2)))*(math.pi))/area_T) for dec,ra in zip(decA,raA)]\n",
    "    #plt.vlines(1,0,10,color='red')\n",
    "    plt.hist(area_A)\n",
    "    plt.plot()\n",
    "    plt.show()"
   ]
  },
  {
   "cell_type": "code",
   "execution_count": 345,
   "metadata": {
    "collapsed": false
   },
   "outputs": [
    {
     "name": "stdout",
     "output_type": "stream",
     "text": [
      "13830.psfmap               790.psfmap\r\n",
      "13830_broad_flux.img       790_broad_flux.img\r\n",
      "13830_broad_thresh.expmap  790_broad_thresh.expmap\r\n",
      "13830_broad_thresh.img     790_broad_thresh.img\r\n",
      "13830_reproj_evt.fits      790_reproj_evt.fits\r\n",
      "13831.psfmap               969.psfmap\r\n",
      "13831_broad_flux.img       969_broad_flux.img\r\n",
      "13831_broad_thresh.expmap  969_broad_thresh.expmap\r\n",
      "13831_broad_thresh.img     969_broad_thresh.img\r\n",
      "13831_reproj_evt.fits      969_reproj_evt.fits\r\n",
      "13832.psfmap               broad_flux.img\r\n",
      "13832_broad_flux.img       broad_thresh.expmap\r\n",
      "13832_broad_thresh.expmap  broad_thresh.img\r\n",
      "13832_broad_thresh.img     merged_evt.fits\r\n",
      "13832_reproj_evt.fits      wav_none_cell.fits\r\n",
      "3931.psfmap                wav_none_nbkg.fits\r\n",
      "3931_broad_flux.img        wav_none_recon.fits\r\n",
      "3931_broad_thresh.expmap   wav_none_src.fits\r\n",
      "3931_broad_thresh.img      weighted_mean.psfmap\r\n",
      "3931_reproj_evt.fits\r\n"
     ]
    }
   ],
   "source": [
    "ls"
   ]
  },
  {
   "cell_type": "code",
   "execution_count": null,
   "metadata": {
    "collapsed": true
   },
   "outputs": [],
   "source": []
  }
 ],
 "metadata": {
  "kernelspec": {
   "display_name": "Python 2",
   "language": "python",
   "name": "python2"
  },
  "language_info": {
   "codemirror_mode": {
    "name": "ipython",
    "version": 2
   },
   "file_extension": ".py",
   "mimetype": "text/x-python",
   "name": "python",
   "nbconvert_exporter": "python",
   "pygments_lexer": "ipython2",
   "version": "2.7.11"
  }
 },
 "nbformat": 4,
 "nbformat_minor": 0
}
