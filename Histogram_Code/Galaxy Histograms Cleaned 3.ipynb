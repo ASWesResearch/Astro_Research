{
 "cells": [
  {
   "cell_type": "code",
   "execution_count": 1,
   "metadata": {
    "collapsed": true
   },
   "outputs": [],
   "source": [
    "import astropy.io.ascii as ascii"
   ]
  },
  {
   "cell_type": "code",
   "execution_count": 2,
   "metadata": {
    "collapsed": false
   },
   "outputs": [
    {
     "ename": "IOError",
     "evalue": "[Errno 2] No such file or directory: 'NGC 1097.tar'",
     "output_type": "error",
     "traceback": [
      "\u001b[0;31m---------------------------------------------------------------------------\u001b[0m",
      "\u001b[0;31mIOError\u001b[0m                                   Traceback (most recent call last)",
      "\u001b[0;32m<ipython-input-2-9194cfd13ec0>\u001b[0m in \u001b[0;36m<module>\u001b[0;34m()\u001b[0m\n\u001b[1;32m      1\u001b[0m \u001b[0;32mimport\u001b[0m \u001b[0mtarfile\u001b[0m\u001b[0;34m\u001b[0m\u001b[0m\n\u001b[0;32m----> 2\u001b[0;31m \u001b[0mtar\u001b[0m \u001b[0;34m=\u001b[0m \u001b[0mtarfile\u001b[0m\u001b[0;34m.\u001b[0m\u001b[0mopen\u001b[0m\u001b[0;34m(\u001b[0m\u001b[0;34m\"NGC 1097.tar\"\u001b[0m\u001b[0;34m)\u001b[0m\u001b[0;34m\u001b[0m\u001b[0m\n\u001b[0m\u001b[1;32m      3\u001b[0m \u001b[0mtar\u001b[0m\u001b[0;34m.\u001b[0m\u001b[0mextractall\u001b[0m\u001b[0;34m(\u001b[0m\u001b[0;34m)\u001b[0m\u001b[0;34m\u001b[0m\u001b[0m\n\u001b[1;32m      4\u001b[0m \u001b[0mtar\u001b[0m\u001b[0;34m.\u001b[0m\u001b[0mclose\u001b[0m\u001b[0;34m(\u001b[0m\u001b[0;34m)\u001b[0m\u001b[0;34m\u001b[0m\u001b[0m\n",
      "\u001b[0;32m/soft/anaconda/lib/python2.7/tarfile.pyc\u001b[0m in \u001b[0;36mopen\u001b[0;34m(cls, name, mode, fileobj, bufsize, **kwargs)\u001b[0m\n\u001b[1;32m   1671\u001b[0m                     \u001b[0msaved_pos\u001b[0m \u001b[0;34m=\u001b[0m \u001b[0mfileobj\u001b[0m\u001b[0;34m.\u001b[0m\u001b[0mtell\u001b[0m\u001b[0;34m(\u001b[0m\u001b[0;34m)\u001b[0m\u001b[0;34m\u001b[0m\u001b[0m\n\u001b[1;32m   1672\u001b[0m                 \u001b[0;32mtry\u001b[0m\u001b[0;34m:\u001b[0m\u001b[0;34m\u001b[0m\u001b[0m\n\u001b[0;32m-> 1673\u001b[0;31m                     \u001b[0;32mreturn\u001b[0m \u001b[0mfunc\u001b[0m\u001b[0;34m(\u001b[0m\u001b[0mname\u001b[0m\u001b[0;34m,\u001b[0m \u001b[0;34m\"r\"\u001b[0m\u001b[0;34m,\u001b[0m \u001b[0mfileobj\u001b[0m\u001b[0;34m,\u001b[0m \u001b[0;34m**\u001b[0m\u001b[0mkwargs\u001b[0m\u001b[0;34m)\u001b[0m\u001b[0;34m\u001b[0m\u001b[0m\n\u001b[0m\u001b[1;32m   1674\u001b[0m                 \u001b[0;32mexcept\u001b[0m \u001b[0;34m(\u001b[0m\u001b[0mReadError\u001b[0m\u001b[0;34m,\u001b[0m \u001b[0mCompressionError\u001b[0m\u001b[0;34m)\u001b[0m\u001b[0;34m,\u001b[0m \u001b[0me\u001b[0m\u001b[0;34m:\u001b[0m\u001b[0;34m\u001b[0m\u001b[0m\n\u001b[1;32m   1675\u001b[0m                     \u001b[0;32mif\u001b[0m \u001b[0mfileobj\u001b[0m \u001b[0;32mis\u001b[0m \u001b[0;32mnot\u001b[0m \u001b[0mNone\u001b[0m\u001b[0;34m:\u001b[0m\u001b[0;34m\u001b[0m\u001b[0m\n",
      "\u001b[0;32m/soft/anaconda/lib/python2.7/tarfile.pyc\u001b[0m in \u001b[0;36mgzopen\u001b[0;34m(cls, name, mode, fileobj, compresslevel, **kwargs)\u001b[0m\n\u001b[1;32m   1736\u001b[0m \u001b[0;34m\u001b[0m\u001b[0m\n\u001b[1;32m   1737\u001b[0m         \u001b[0;32mtry\u001b[0m\u001b[0;34m:\u001b[0m\u001b[0;34m\u001b[0m\u001b[0m\n\u001b[0;32m-> 1738\u001b[0;31m             \u001b[0mfileobj\u001b[0m \u001b[0;34m=\u001b[0m \u001b[0mgzip\u001b[0m\u001b[0;34m.\u001b[0m\u001b[0mGzipFile\u001b[0m\u001b[0;34m(\u001b[0m\u001b[0mname\u001b[0m\u001b[0;34m,\u001b[0m \u001b[0mmode\u001b[0m\u001b[0;34m,\u001b[0m \u001b[0mcompresslevel\u001b[0m\u001b[0;34m,\u001b[0m \u001b[0mfileobj\u001b[0m\u001b[0;34m)\u001b[0m\u001b[0;34m\u001b[0m\u001b[0m\n\u001b[0m\u001b[1;32m   1739\u001b[0m         \u001b[0;32mexcept\u001b[0m \u001b[0mOSError\u001b[0m\u001b[0;34m:\u001b[0m\u001b[0;34m\u001b[0m\u001b[0m\n\u001b[1;32m   1740\u001b[0m             \u001b[0;32mif\u001b[0m \u001b[0mfileobj\u001b[0m \u001b[0;32mis\u001b[0m \u001b[0;32mnot\u001b[0m \u001b[0mNone\u001b[0m \u001b[0;32mand\u001b[0m \u001b[0mmode\u001b[0m \u001b[0;34m==\u001b[0m \u001b[0;34m'r'\u001b[0m\u001b[0;34m:\u001b[0m\u001b[0;34m\u001b[0m\u001b[0m\n",
      "\u001b[0;32m/soft/anaconda/lib/python2.7/gzip.pyc\u001b[0m in \u001b[0;36m__init__\u001b[0;34m(self, filename, mode, compresslevel, fileobj, mtime)\u001b[0m\n\u001b[1;32m     92\u001b[0m             \u001b[0mmode\u001b[0m \u001b[0;34m+=\u001b[0m \u001b[0;34m'b'\u001b[0m\u001b[0;34m\u001b[0m\u001b[0m\n\u001b[1;32m     93\u001b[0m         \u001b[0;32mif\u001b[0m \u001b[0mfileobj\u001b[0m \u001b[0;32mis\u001b[0m \u001b[0mNone\u001b[0m\u001b[0;34m:\u001b[0m\u001b[0;34m\u001b[0m\u001b[0m\n\u001b[0;32m---> 94\u001b[0;31m             \u001b[0mfileobj\u001b[0m \u001b[0;34m=\u001b[0m \u001b[0mself\u001b[0m\u001b[0;34m.\u001b[0m\u001b[0mmyfileobj\u001b[0m \u001b[0;34m=\u001b[0m \u001b[0m__builtin__\u001b[0m\u001b[0;34m.\u001b[0m\u001b[0mopen\u001b[0m\u001b[0;34m(\u001b[0m\u001b[0mfilename\u001b[0m\u001b[0;34m,\u001b[0m \u001b[0mmode\u001b[0m \u001b[0;32mor\u001b[0m \u001b[0;34m'rb'\u001b[0m\u001b[0;34m)\u001b[0m\u001b[0;34m\u001b[0m\u001b[0m\n\u001b[0m\u001b[1;32m     95\u001b[0m         \u001b[0;32mif\u001b[0m \u001b[0mfilename\u001b[0m \u001b[0;32mis\u001b[0m \u001b[0mNone\u001b[0m\u001b[0;34m:\u001b[0m\u001b[0;34m\u001b[0m\u001b[0m\n\u001b[1;32m     96\u001b[0m             \u001b[0;31m# Issue #13781: os.fdopen() creates a fileobj with a bogus name\u001b[0m\u001b[0;34m\u001b[0m\u001b[0;34m\u001b[0m\u001b[0m\n",
      "\u001b[0;31mIOError\u001b[0m: [Errno 2] No such file or directory: 'NGC 1097.tar'"
     ]
    }
   ],
   "source": [
    "import tarfile\n",
    "tar = tarfile.open(\"NGC 1097.tar\")\n",
    "tar.extractall()\n",
    "tar.close()"
   ]
  },
  {
   "cell_type": "code",
   "execution_count": 4,
   "metadata": {
    "collapsed": false
   },
   "outputs": [
    {
     "ename": "IOError",
     "evalue": "[Errno 2] No such file or directory: '\\\\Users\\\\Anthony\\\\Dropbox\\\\galaxies\\x1096.tsv'",
     "output_type": "error",
     "traceback": [
      "\u001b[0;31m---------------------------------------------------------------------------\u001b[0m",
      "\u001b[0;31mIOError\u001b[0m                                   Traceback (most recent call last)",
      "\u001b[0;32m<ipython-input-4-12f529484a0e>\u001b[0m in \u001b[0;36m<module>\u001b[0;34m()\u001b[0m\n\u001b[1;32m      1\u001b[0m \u001b[0;32mimport\u001b[0m \u001b[0mastropy\u001b[0m\u001b[0;34m.\u001b[0m\u001b[0mio\u001b[0m\u001b[0;34m.\u001b[0m\u001b[0mascii\u001b[0m \u001b[0;32mas\u001b[0m \u001b[0mascii\u001b[0m\u001b[0;34m\u001b[0m\u001b[0m\n\u001b[0;32m----> 2\u001b[0;31m \u001b[0mdata\u001b[0m\u001b[0;34m=\u001b[0m\u001b[0mascii\u001b[0m\u001b[0;34m.\u001b[0m\u001b[0mread\u001b[0m\u001b[0;34m(\u001b[0m\u001b[0;34m'\\Users\\Anthony\\Dropbox\\galaxies\\2096.tsv'\u001b[0m\u001b[0;34m)\u001b[0m\u001b[0;34m\u001b[0m\u001b[0m\n\u001b[0m\u001b[1;32m      3\u001b[0m \u001b[0;31m# reads data into a structure\u001b[0m\u001b[0;34m\u001b[0m\u001b[0;34m\u001b[0m\u001b[0m\n\u001b[1;32m      4\u001b[0m \u001b[0;31m# to make an array from a column in the table:\u001b[0m\u001b[0;34m\u001b[0m\u001b[0;34m\u001b[0m\u001b[0m\n\u001b[1;32m      5\u001b[0m \u001b[0mra\u001b[0m \u001b[0;34m=\u001b[0m \u001b[0mdata\u001b[0m\u001b[0;34m[\u001b[0m\u001b[0;34m'ra'\u001b[0m\u001b[0;34m]\u001b[0m\u001b[0;34m\u001b[0m\u001b[0m\n",
      "\u001b[0;32m/soft/anaconda/lib/python2.7/site-packages/astropy/io/ascii/ui.py\u001b[0m in \u001b[0;36mread\u001b[0;34m(table, guess, **kwargs)\u001b[0m\n\u001b[1;32m    309\u001b[0m         \u001b[0;31m# through below to the non-guess way so that any problems result in a\u001b[0m\u001b[0;34m\u001b[0m\u001b[0;34m\u001b[0m\u001b[0m\n\u001b[1;32m    310\u001b[0m         \u001b[0;31m# more useful traceback.\u001b[0m\u001b[0;34m\u001b[0m\u001b[0;34m\u001b[0m\u001b[0m\n\u001b[0;32m--> 311\u001b[0;31m         \u001b[0mdat\u001b[0m \u001b[0;34m=\u001b[0m \u001b[0m_guess\u001b[0m\u001b[0;34m(\u001b[0m\u001b[0mtable\u001b[0m\u001b[0;34m,\u001b[0m \u001b[0mnew_kwargs\u001b[0m\u001b[0;34m,\u001b[0m \u001b[0mformat\u001b[0m\u001b[0;34m,\u001b[0m \u001b[0mfast_reader_param\u001b[0m\u001b[0;34m)\u001b[0m\u001b[0;34m\u001b[0m\u001b[0m\n\u001b[0m\u001b[1;32m    312\u001b[0m         \u001b[0;32mif\u001b[0m \u001b[0mdat\u001b[0m \u001b[0;32mis\u001b[0m \u001b[0mNone\u001b[0m\u001b[0;34m:\u001b[0m\u001b[0;34m\u001b[0m\u001b[0m\n\u001b[1;32m    313\u001b[0m             \u001b[0mguess\u001b[0m \u001b[0;34m=\u001b[0m \u001b[0mFalse\u001b[0m\u001b[0;34m\u001b[0m\u001b[0m\n",
      "\u001b[0;32m/soft/anaconda/lib/python2.7/site-packages/astropy/io/ascii/ui.py\u001b[0m in \u001b[0;36m_guess\u001b[0;34m(table, read_kwargs, format, fast_reader)\u001b[0m\n\u001b[1;32m    447\u001b[0m             \u001b[0mreader\u001b[0m \u001b[0;34m=\u001b[0m \u001b[0mget_reader\u001b[0m\u001b[0;34m(\u001b[0m\u001b[0;34m**\u001b[0m\u001b[0mguess_kwargs\u001b[0m\u001b[0;34m)\u001b[0m\u001b[0;34m\u001b[0m\u001b[0m\n\u001b[1;32m    448\u001b[0m             \u001b[0mreader\u001b[0m\u001b[0;34m.\u001b[0m\u001b[0mguessing\u001b[0m \u001b[0;34m=\u001b[0m \u001b[0mTrue\u001b[0m\u001b[0;34m\u001b[0m\u001b[0m\n\u001b[0;32m--> 449\u001b[0;31m             \u001b[0mdat\u001b[0m \u001b[0;34m=\u001b[0m \u001b[0mreader\u001b[0m\u001b[0;34m.\u001b[0m\u001b[0mread\u001b[0m\u001b[0;34m(\u001b[0m\u001b[0mtable\u001b[0m\u001b[0;34m)\u001b[0m\u001b[0;34m\u001b[0m\u001b[0m\n\u001b[0m\u001b[1;32m    450\u001b[0m             _read_trace.append({'kwargs': guess_kwargs, 'status': 'Success (guessing)',\n\u001b[1;32m    451\u001b[0m                                 'dt': '{0:.3f} ms'.format((time.time() - t0) * 1000)})\n",
      "\u001b[0;32m/soft/anaconda/lib/python2.7/site-packages/astropy/io/ascii/core.py\u001b[0m in \u001b[0;36mread\u001b[0;34m(self, table)\u001b[0m\n\u001b[1;32m   1128\u001b[0m \u001b[0;34m\u001b[0m\u001b[0m\n\u001b[1;32m   1129\u001b[0m         \u001b[0;31m# Get a list of the lines (rows) in the table\u001b[0m\u001b[0;34m\u001b[0m\u001b[0;34m\u001b[0m\u001b[0m\n\u001b[0;32m-> 1130\u001b[0;31m         \u001b[0mself\u001b[0m\u001b[0;34m.\u001b[0m\u001b[0mlines\u001b[0m \u001b[0;34m=\u001b[0m \u001b[0mself\u001b[0m\u001b[0;34m.\u001b[0m\u001b[0minputter\u001b[0m\u001b[0;34m.\u001b[0m\u001b[0mget_lines\u001b[0m\u001b[0;34m(\u001b[0m\u001b[0mtable\u001b[0m\u001b[0;34m)\u001b[0m\u001b[0;34m\u001b[0m\u001b[0m\n\u001b[0m\u001b[1;32m   1131\u001b[0m \u001b[0;34m\u001b[0m\u001b[0m\n\u001b[1;32m   1132\u001b[0m         \u001b[0;31m# Set self.data.data_lines to a slice of lines contain the data rows\u001b[0m\u001b[0;34m\u001b[0m\u001b[0;34m\u001b[0m\u001b[0m\n",
      "\u001b[0;32m/soft/anaconda/lib/python2.7/site-packages/astropy/io/ascii/core.py\u001b[0m in \u001b[0;36mget_lines\u001b[0;34m(self, table)\u001b[0m\n\u001b[1;32m    278\u001b[0m             if (hasattr(table, 'read') or\n\u001b[1;32m    279\u001b[0m                     ('\\n' not in table + '' and '\\r' not in table + '')):\n\u001b[0;32m--> 280\u001b[0;31m                 \u001b[0;32mwith\u001b[0m \u001b[0mget_readable_fileobj\u001b[0m\u001b[0;34m(\u001b[0m\u001b[0mtable\u001b[0m\u001b[0;34m)\u001b[0m \u001b[0;32mas\u001b[0m \u001b[0mfile_obj\u001b[0m\u001b[0;34m:\u001b[0m\u001b[0;34m\u001b[0m\u001b[0m\n\u001b[0m\u001b[1;32m    281\u001b[0m                     \u001b[0mtable\u001b[0m \u001b[0;34m=\u001b[0m \u001b[0mfile_obj\u001b[0m\u001b[0;34m.\u001b[0m\u001b[0mread\u001b[0m\u001b[0;34m(\u001b[0m\u001b[0;34m)\u001b[0m\u001b[0;34m\u001b[0m\u001b[0m\n\u001b[1;32m    282\u001b[0m             \u001b[0mlines\u001b[0m \u001b[0;34m=\u001b[0m \u001b[0mtable\u001b[0m\u001b[0;34m.\u001b[0m\u001b[0msplitlines\u001b[0m\u001b[0;34m(\u001b[0m\u001b[0;34m)\u001b[0m\u001b[0;34m\u001b[0m\u001b[0m\n",
      "\u001b[0;32m/soft/anaconda/lib/python2.7/contextlib.pyc\u001b[0m in \u001b[0;36m__enter__\u001b[0;34m(self)\u001b[0m\n\u001b[1;32m     15\u001b[0m     \u001b[0;32mdef\u001b[0m \u001b[0m__enter__\u001b[0m\u001b[0;34m(\u001b[0m\u001b[0mself\u001b[0m\u001b[0;34m)\u001b[0m\u001b[0;34m:\u001b[0m\u001b[0;34m\u001b[0m\u001b[0m\n\u001b[1;32m     16\u001b[0m         \u001b[0;32mtry\u001b[0m\u001b[0;34m:\u001b[0m\u001b[0;34m\u001b[0m\u001b[0m\n\u001b[0;32m---> 17\u001b[0;31m             \u001b[0;32mreturn\u001b[0m \u001b[0mself\u001b[0m\u001b[0;34m.\u001b[0m\u001b[0mgen\u001b[0m\u001b[0;34m.\u001b[0m\u001b[0mnext\u001b[0m\u001b[0;34m(\u001b[0m\u001b[0;34m)\u001b[0m\u001b[0;34m\u001b[0m\u001b[0m\n\u001b[0m\u001b[1;32m     18\u001b[0m         \u001b[0;32mexcept\u001b[0m \u001b[0mStopIteration\u001b[0m\u001b[0;34m:\u001b[0m\u001b[0;34m\u001b[0m\u001b[0m\n\u001b[1;32m     19\u001b[0m             \u001b[0;32mraise\u001b[0m \u001b[0mRuntimeError\u001b[0m\u001b[0;34m(\u001b[0m\u001b[0;34m\"generator didn't yield\"\u001b[0m\u001b[0;34m)\u001b[0m\u001b[0;34m\u001b[0m\u001b[0m\n",
      "\u001b[0;32m/soft/anaconda/lib/python2.7/site-packages/astropy/utils/data.py\u001b[0m in \u001b[0;36mget_readable_fileobj\u001b[0;34m(name_or_obj, encoding, cache, show_progress, remote_timeout)\u001b[0m\n\u001b[1;32m    200\u001b[0m             \u001b[0mfileobj\u001b[0m \u001b[0;34m=\u001b[0m \u001b[0mio\u001b[0m\u001b[0;34m.\u001b[0m\u001b[0mFileIO\u001b[0m\u001b[0;34m(\u001b[0m\u001b[0mname_or_obj\u001b[0m\u001b[0;34m,\u001b[0m \u001b[0;34m'r'\u001b[0m\u001b[0;34m)\u001b[0m\u001b[0;34m\u001b[0m\u001b[0m\n\u001b[1;32m    201\u001b[0m         \u001b[0;32melif\u001b[0m \u001b[0msix\u001b[0m\u001b[0;34m.\u001b[0m\u001b[0mPY2\u001b[0m\u001b[0;34m:\u001b[0m\u001b[0;34m\u001b[0m\u001b[0m\n\u001b[0;32m--> 202\u001b[0;31m             \u001b[0mfileobj\u001b[0m \u001b[0;34m=\u001b[0m \u001b[0mopen\u001b[0m\u001b[0;34m(\u001b[0m\u001b[0mname_or_obj\u001b[0m\u001b[0;34m,\u001b[0m \u001b[0;34m'rb'\u001b[0m\u001b[0;34m)\u001b[0m\u001b[0;34m\u001b[0m\u001b[0m\n\u001b[0m\u001b[1;32m    203\u001b[0m         \u001b[0;32mif\u001b[0m \u001b[0mis_url\u001b[0m \u001b[0;32mand\u001b[0m \u001b[0;32mnot\u001b[0m \u001b[0mcache\u001b[0m\u001b[0;34m:\u001b[0m\u001b[0;34m\u001b[0m\u001b[0m\n\u001b[1;32m    204\u001b[0m             \u001b[0mdelete_fds\u001b[0m\u001b[0;34m.\u001b[0m\u001b[0mappend\u001b[0m\u001b[0;34m(\u001b[0m\u001b[0mfileobj\u001b[0m\u001b[0;34m)\u001b[0m\u001b[0;34m\u001b[0m\u001b[0m\n",
      "\u001b[0;31mIOError\u001b[0m: [Errno 2] No such file or directory: '\\\\Users\\\\Anthony\\\\Dropbox\\\\galaxies\\x1096.tsv'"
     ]
    }
   ],
   "source": [
    "import astropy.io.ascii as ascii\n",
    "data=ascii.read('\\Users\\Anthony\\Dropbox\\galaxies\\2096.tsv')\n",
    "# reads data into a structure\n",
    "# to make an array from a column in the table:\n",
    "ra = data['ra']\n",
    "dec = data['dec']"
   ]
  },
  {
   "cell_type": "code",
   "execution_count": 105,
   "metadata": {
    "collapsed": false
   },
   "outputs": [],
   "source": [
    "data = ascii.read('/home/asantini/Desktop/Dropbox/galaxies/ngc4651_ObsID-2096.tsv')"
   ]
  },
  {
   "cell_type": "code",
   "execution_count": 106,
   "metadata": {
    "collapsed": false
   },
   "outputs": [],
   "source": [
    "# to make an array from a column in the table:\n",
    "ra = data['ra']\n",
    "dec = data['dec']"
   ]
  },
  {
   "cell_type": "code",
   "execution_count": 107,
   "metadata": {
    "collapsed": true
   },
   "outputs": [],
   "source": [
    "ra_NGC4651=190.9275\n",
    "dec_NGC4651=16.39338888888889"
   ]
  },
  {
   "cell_type": "code",
   "execution_count": 108,
   "metadata": {
    "collapsed": false
   },
   "outputs": [],
   "source": [
    "data = ascii.read('/home/asantini/Desktop/Dropbox/galaxies/ngc4651_ObsID-2096.tsv')"
   ]
  },
  {
   "cell_type": "code",
   "execution_count": 109,
   "metadata": {
    "collapsed": true
   },
   "outputs": [],
   "source": [
    "data = ascii.read('/home/asantini/Desktop/Dropbox/galaxies/ngc4651_ObsID-2096.tsv')"
   ]
  },
  {
   "cell_type": "code",
   "execution_count": 110,
   "metadata": {
    "collapsed": true
   },
   "outputs": [],
   "source": [
    "import numpy as np"
   ]
  },
  {
   "cell_type": "code",
   "execution_count": 111,
   "metadata": {
    "collapsed": false
   },
   "outputs": [],
   "source": [
    "import matplotlib.pyplot as plt"
   ]
  },
  {
   "cell_type": "code",
   "execution_count": 112,
   "metadata": {
    "collapsed": true
   },
   "outputs": [],
   "source": [
    "def dis_GC(raGC,decGC,Data):\n",
    "    \"\"\"\n",
    "    raGC: float- the ra of the galatic center\n",
    "    decGC: float the dec of the galatic center\n",
    "    Data: array- a table of data containg the coordinates of each object\n",
    "    returns: array- the distances of each object away from the center of the galaxy\n",
    "    \n",
    "    This fucntion takes the inputs for the ra of the GC, the Dec of the GC, the ra's of an array of objects and the\n",
    "    declinations of an array of objects and returns an array that is those objects distances from the center of the\n",
    "    galaxy\n",
    "    \"\"\"\n",
    "    import math\n",
    "    decA=Data['dec']\n",
    "    raA=Data['ra']\n",
    "    disA=[math.sqrt(((decGC-dec)**2)+((raGC-ra)**2)) for dec,ra in zip(decA,raA)]\n",
    "    plt.hist(disA)\n",
    "    plt.show()"
   ]
  },
  {
   "cell_type": "code",
   "execution_count": 113,
   "metadata": {
    "collapsed": false
   },
   "outputs": [],
   "source": [
    "data_NGC1316= ascii.read('/home/asantini/Desktop/Dropbox/galaxies/ngc1316_ObsID-2022.tsv')"
   ]
  },
  {
   "cell_type": "code",
   "execution_count": 114,
   "metadata": {
    "collapsed": true
   },
   "outputs": [],
   "source": [
    "ra_NGC1316=50.673825"
   ]
  },
  {
   "cell_type": "code",
   "execution_count": 115,
   "metadata": {
    "collapsed": true
   },
   "outputs": [],
   "source": [
    "dec_NGC1316=-37.208227"
   ]
  },
  {
   "cell_type": "code",
   "execution_count": 116,
   "metadata": {
    "collapsed": true
   },
   "outputs": [],
   "source": [
    "data_NGC474= ascii.read('/home/asantini/Desktop/Dropbox/galaxies/ngc474_ObsID-7144.tsv')"
   ]
  },
  {
   "cell_type": "code",
   "execution_count": 117,
   "metadata": {
    "collapsed": true
   },
   "outputs": [],
   "source": [
    "ra_NGC474=20.027878"
   ]
  },
  {
   "cell_type": "code",
   "execution_count": 118,
   "metadata": {
    "collapsed": true
   },
   "outputs": [],
   "source": [
    "dec_NGC474=3.415399"
   ]
  },
  {
   "cell_type": "code",
   "execution_count": 119,
   "metadata": {
    "collapsed": true
   },
   "outputs": [],
   "source": [
    "data_NGC3077= ascii.read('/home/asantini/Desktop/Dropbox/galaxies/ngc3077_ObsID-2076.tsv')"
   ]
  },
  {
   "cell_type": "code",
   "execution_count": 120,
   "metadata": {
    "collapsed": true
   },
   "outputs": [],
   "source": [
    "ra_NGC3077=150.829458"
   ]
  },
  {
   "cell_type": "code",
   "execution_count": 121,
   "metadata": {
    "collapsed": true
   },
   "outputs": [],
   "source": [
    "dec_NGC3077=68.733917"
   ]
  },
  {
   "cell_type": "code",
   "execution_count": 122,
   "metadata": {
    "collapsed": true
   },
   "outputs": [],
   "source": [
    "data_eso137=ascii.read('/home/asantini/Desktop/Dropbox/galaxies/eso137-001_ObsID-9518.tsv')"
   ]
  },
  {
   "cell_type": "code",
   "execution_count": 123,
   "metadata": {
    "collapsed": true
   },
   "outputs": [],
   "source": [
    "data_NGC2403=ascii.read('/home/asantini/Desktop/Dropbox/galaxies/ngc2403_ObsID-2014.tsv')"
   ]
  },
  {
   "cell_type": "code",
   "execution_count": 124,
   "metadata": {
    "collapsed": true
   },
   "outputs": [],
   "source": [
    "ra_NGC2403=114.214167"
   ]
  },
  {
   "cell_type": "code",
   "execution_count": 125,
   "metadata": {
    "collapsed": true
   },
   "outputs": [],
   "source": [
    "dec_NGC2403=65.602556"
   ]
  },
  {
   "cell_type": "code",
   "execution_count": 126,
   "metadata": {
    "collapsed": true
   },
   "outputs": [],
   "source": [
    "data_NGC4631=ascii.read('/home/asantini/Desktop/Dropbox/galaxies/ngc4631_ObsID-797.tsv')"
   ]
  },
  {
   "cell_type": "code",
   "execution_count": 127,
   "metadata": {
    "collapsed": true
   },
   "outputs": [],
   "source": [
    "ra_NGC4631=190.533375"
   ]
  },
  {
   "cell_type": "code",
   "execution_count": 128,
   "metadata": {
    "collapsed": true
   },
   "outputs": [],
   "source": [
    "dec_NGC4631=32.541500"
   ]
  },
  {
   "cell_type": "code",
   "execution_count": 129,
   "metadata": {
    "collapsed": true
   },
   "outputs": [],
   "source": [
    "data_NGC7331=ascii.read('/home/asantini/Desktop/Dropbox/galaxies/ngc7331_ObsID-2198.tsv')"
   ]
  },
  {
   "cell_type": "code",
   "execution_count": 130,
   "metadata": {
    "collapsed": true
   },
   "outputs": [],
   "source": [
    "ra_NGC7331=339.2667242"
   ]
  },
  {
   "cell_type": "code",
   "execution_count": 131,
   "metadata": {
    "collapsed": true
   },
   "outputs": [],
   "source": [
    "dec_NGC7331=34.4155189"
   ]
  },
  {
   "cell_type": "code",
   "execution_count": 132,
   "metadata": {
    "collapsed": true
   },
   "outputs": [],
   "source": [
    "def dis_GC_B(raGC,decGC,Data,B):\n",
    "    \"\"\"\n",
    "    raGC: float- the ra of the galatic center in decimal degrees\n",
    "    decGC: float the dec of the galatic center in decimal degrees\n",
    "    Data: array- a table of data containg the coordinates of each object\n",
    "    B: int- the number of bins in the histogram\n",
    "    \n",
    "    This fucntion takes the inputs for the ra of the GC, the Dec of the GC, the ra's of an array of objects and the\n",
    "    declinations of an array of objects and returns an histrogram that plots the number of objects per bin by the\n",
    "    distance from the center of the galaxy to the objects in each bin are in degrees. This function allows you to modify\n",
    "    the number of bins yourself.\n",
    "    \"\"\"\n",
    "    import math\n",
    "    decA=Data['dec']\n",
    "    raA=Data['ra']\n",
    "    disA=[math.sqrt(((decGC-dec)**2)+((raGC-ra)**2)) for dec,ra in zip(decA,raA)]\n",
    "    plt.hist(disA,B)\n",
    "    plt.show()"
   ]
  },
  {
   "cell_type": "code",
   "execution_count": 133,
   "metadata": {
    "collapsed": false
   },
   "outputs": [
    {
     "ename": "TypeError",
     "evalue": "dis_GC_R() takes exactly 5 arguments (4 given)",
     "output_type": "error",
     "traceback": [
      "\u001b[0;31m---------------------------------------------------------------------------\u001b[0m",
      "\u001b[0;31mTypeError\u001b[0m                                 Traceback (most recent call last)",
      "\u001b[0;32m<ipython-input-133-47643fa6e3c6>\u001b[0m in \u001b[0;36m<module>\u001b[0;34m()\u001b[0m\n\u001b[0;32m----> 1\u001b[0;31m \u001b[0mdis_GC_R\u001b[0m\u001b[0;34m(\u001b[0m\u001b[0mra_NGC4631\u001b[0m\u001b[0;34m,\u001b[0m\u001b[0mdec_NGC4631\u001b[0m\u001b[0;34m,\u001b[0m\u001b[0mdata_NGC4631\u001b[0m\u001b[0;34m,\u001b[0m\u001b[0;36m0.14\u001b[0m\u001b[0;34m)\u001b[0m\u001b[0;34m\u001b[0m\u001b[0m\n\u001b[0m",
      "\u001b[0;31mTypeError\u001b[0m: dis_GC_R() takes exactly 5 arguments (4 given)"
     ]
    }
   ],
   "source": [
    "dis_GC_R(ra_NGC4631,dec_NGC4631,data_NGC4631,0.14)"
   ]
  },
  {
   "cell_type": "code",
   "execution_count": null,
   "metadata": {
    "collapsed": true
   },
   "outputs": [],
   "source": [
    "import matplotlib.pyplot as plt"
   ]
  },
  {
   "cell_type": "code",
   "execution_count": null,
   "metadata": {
    "collapsed": true
   },
   "outputs": [],
   "source": [
    "def dis_GC_B_R(raGC,decGC,Data,B,Maj,Min):\n",
    "    \"\"\"\n",
    "    raGC: float- the ra of the galatic center in decimal degrees\n",
    "    decGC: float the dec of the galatic center in decimal degrees\n",
    "    Data: array- a table of data containg the coordinates of each object\n",
    "    B: int- the number of bins in the histogram\n",
    "    Maj: int- The major axis of the galaxy in arcseconds\n",
    "    Min: int- The minor axis of the galaxy in arcseconds\n",
    "    \n",
    "    This fucntion takes the inputs for the ra of the GC, the Dec of the GC, the ra's of an array of objects and the\n",
    "    declinations of an array of objects and returns an histrogram that plots the number of objects per bin by the\n",
    "    distance from the center of the galaxy to the objects in each bin are in degrees. This function allows you to modify\n",
    "    the number of bins yourself. This function plots the visible Major and Minor axis of the galaxies on the histogram.\n",
    "    \"\"\"\n",
    "    import math\n",
    "    decA=Data['dec']\n",
    "    raA=Data['ra']\n",
    "    Maj=Maj/3600\n",
    "    Min=Min/3600\n",
    "    S_Maj=Maj/2\n",
    "    S_Min=Min/2\n",
    "    disA=[math.sqrt(((decGC-dec)**2)+((raGC-ra)**2)) for dec,ra in zip(decA,raA)]\n",
    "    plt.vlines(S_Maj,0,10,color='red')\n",
    "    plt.vlines(S_Min,0,10,color='blue')\n",
    "    plt.hist(disA,B)\n",
    "    plt.plot()\n",
    "    plt.show()"
   ]
  },
  {
   "cell_type": "code",
   "execution_count": null,
   "metadata": {
    "collapsed": false
   },
   "outputs": [],
   "source": [
    "Maj_NGC474=210.00\n",
    "Min_NGC474=207.90"
   ]
  },
  {
   "cell_type": "code",
   "execution_count": null,
   "metadata": {
    "collapsed": false
   },
   "outputs": [],
   "source": [
    "dis_GC_B_R(ra_NGC474,dec_NGC474,data_NGC474,20,Maj_NGC474,Min_NGC474)"
   ]
  },
  {
   "cell_type": "code",
   "execution_count": null,
   "metadata": {
    "collapsed": true
   },
   "outputs": [],
   "source": [
    "Maj_NGC1316=590.00\n",
    "Min_NGC1316=424.80"
   ]
  },
  {
   "cell_type": "code",
   "execution_count": null,
   "metadata": {
    "collapsed": true
   },
   "outputs": [],
   "source": [
    "Maj_NGC2403=753.80\n",
    "Min_NGC2403=459.82"
   ]
  },
  {
   "cell_type": "code",
   "execution_count": null,
   "metadata": {
    "collapsed": true
   },
   "outputs": [],
   "source": [
    "Maj_NGC3077=404.60\n",
    "Min_NGC3077=319.63"
   ]
  },
  {
   "cell_type": "code",
   "execution_count": null,
   "metadata": {
    "collapsed": true
   },
   "outputs": [],
   "source": [
    "Maj_NGC4631=828.80\n",
    "Min_NGC4631=248.64"
   ]
  },
  {
   "cell_type": "code",
   "execution_count": null,
   "metadata": {
    "collapsed": true
   },
   "outputs": [],
   "source": [
    "Maj_NGC4651=192.40\n",
    "Min_NGC4651=126.98"
   ]
  },
  {
   "cell_type": "code",
   "execution_count": null,
   "metadata": {
    "collapsed": true
   },
   "outputs": [],
   "source": [
    "Maj_NGC7331=531.80\n",
    "Min_NGC7331=260.58"
   ]
  },
  {
   "cell_type": "code",
   "execution_count": null,
   "metadata": {
    "collapsed": true
   },
   "outputs": [],
   "source": [
    "def dis_GC_R_N(Gname,Data,Maj,Min):\n",
    "    \"\"\"\n",
    "    Gname: str- The name of the galaxy in the form NGC #\n",
    "    Data: array- a table of data containg the coordinates of each object\n",
    "    Maj: int- The major axis of the galaxy in arcseconds\n",
    "    Min: int- The minor axis of the galaxy in arcseconds\n",
    "    \n",
    "    This fucntion takes the inputs for the name of the galaxy, the Dec of the GC, the ra's of an array of objects and the\n",
    "    declinations of an array of objects and returns an histrogram that plots the number of objects per bin by the\n",
    "    distance from the center of the galaxy to the objects in each bin are in degrees.\n",
    "    This function plots the visible Major and Minor axis of the galaxies on the histogram.\n",
    "    This function uses astroquary to get data directly from NED\n",
    "    \"\"\"\n",
    "    import math\n",
    "    decA=Data['dec']\n",
    "    raA=Data['ra']\n",
    "    Maj=Maj/3600\n",
    "    Min=Min/3600\n",
    "    S_Maj=Maj/2\n",
    "    S_Min=Min/2\n",
    "    G_Data= Ned.query_object(Gname)\n",
    "    raGC=float(G_Data['RA(deg)'])\n",
    "    decGC=float(G_Data['DEC(deg)'])\n",
    "    disA=[math.sqrt(((decGC-dec)**2)+((raGC-ra)**2)) for dec,ra in zip(decA,raA)]\n",
    "    plt.vlines(S_Maj,0,10,color='red')\n",
    "    plt.vlines(S_Min,0,10,color='blue')\n",
    "    plt.hist(disA)\n",
    "    plt.plot()\n",
    "    plt.show()"
   ]
  },
  {
   "cell_type": "code",
   "execution_count": null,
   "metadata": {
    "collapsed": true
   },
   "outputs": [],
   "source": [
    "def dis_GC_R(raGC,decGC,Data,Maj,Min):\n",
    "    \"\"\"\n",
    "    raGC: float- the ra of the galatic center in decimal degrees\n",
    "    decGC: float the dec of the galatic center in decimal degrees\n",
    "    Data: array- a table of data containg the coordinates of each object\n",
    "    Maj: int- The major axis of the galaxy in arcseconds\n",
    "    Min: int- The minor axis of the galaxy in arcseconds\n",
    "    \n",
    "    This fucntion takes the inputs for the ra of the GC, the Dec of the GC, the ra's of an array of objects and the\n",
    "    declinations of an array of objects and returns an histrogram that plots the number of objects per bin by the\n",
    "    distance from the center of the galaxy to the objects in each bin are in degrees.\n",
    "    This function plots the visible Major and Minor axis of the galaxies on the histogram.\n",
    "    This function has verticle lines of length 35 objects\n",
    "    \"\"\"\n",
    "    import math\n",
    "    decA=Data['dec']\n",
    "    raA=Data['ra']\n",
    "    Maj=Maj/3600\n",
    "    Min=Min/3600\n",
    "    S_Maj=Maj/2\n",
    "    S_Min=Min/2\n",
    "    disA=[math.sqrt(((decGC-dec)**2)+((raGC-ra)**2)) for dec,ra in zip(decA,raA)]\n",
    "    plt.vlines(S_Maj,0,35,color='red')\n",
    "    plt.vlines(S_Min,0,35,color='blue')\n",
    "    plt.hist(disA)\n",
    "    plt.plot()\n",
    "    plt.show()"
   ]
  },
  {
   "cell_type": "code",
   "execution_count": null,
   "metadata": {
    "collapsed": false
   },
   "outputs": [],
   "source": [
    "dis_GC_R(ra_NGC7331,dec_NGC7331,data_NGC7331,Maj_NGC7331,Min_NGC7331)"
   ]
  },
  {
   "cell_type": "code",
   "execution_count": null,
   "metadata": {
    "collapsed": true
   },
   "outputs": [],
   "source": [
    "from astroquery.ned import Ned"
   ]
  },
  {
   "cell_type": "code",
   "execution_count": null,
   "metadata": {
    "collapsed": true
   },
   "outputs": [],
   "source": [
    "data2_NGC7331= Ned.query_object(\"NGC 7331\")"
   ]
  },
  {
   "cell_type": "code",
   "execution_count": null,
   "metadata": {
    "collapsed": false
   },
   "outputs": [],
   "source": [
    "print (data2_NGC7331)"
   ]
  },
  {
   "cell_type": "code",
   "execution_count": null,
   "metadata": {
    "collapsed": false
   },
   "outputs": [],
   "source": [
    "data2_NGC7331['Object Name']"
   ]
  },
  {
   "cell_type": "code",
   "execution_count": null,
   "metadata": {
    "collapsed": false
   },
   "outputs": [],
   "source": [
    "data2_NGC7331['Diameter Points']"
   ]
  },
  {
   "cell_type": "code",
   "execution_count": null,
   "metadata": {
    "collapsed": false
   },
   "outputs": [],
   "source": [
    "data2_NGC7331['RA(deg)']"
   ]
  },
  {
   "cell_type": "code",
   "execution_count": null,
   "metadata": {
    "collapsed": false
   },
   "outputs": [],
   "source": [
    "ra2_NGC7331=float(data2_NGC7331['RA(deg)'])"
   ]
  },
  {
   "cell_type": "code",
   "execution_count": null,
   "metadata": {
    "collapsed": false
   },
   "outputs": [],
   "source": [
    "print ra2_NGC7331"
   ]
  },
  {
   "cell_type": "code",
   "execution_count": null,
   "metadata": {
    "collapsed": true
   },
   "outputs": [],
   "source": [
    "def Area_GC_R_N_Maj_Min(Gname,Data,Maj,Min):\n",
    "    \"\"\"\n",
    "    Gname: str- The name of the galaxy in the form NGC #\n",
    "    Data: array- a table of data containg the coordinates of each object\n",
    "    Maj: int- The major axis of the galaxy in arcseconds\n",
    "    Min: int- The minor axis of the galaxy in arcseconds\n",
    "    \n",
    "    This fucntion takes the inputs for the name of the galaxy, the Dec of the GC, the ra's of an array of objects and the\n",
    "    declinations of an array of objects and returns an histrogram that plots the number of objects per bin by the\n",
    "    area enclosed by the cirlce centered on the center of the galaxy that inculdes the objects in each bin in \n",
    "    square degrees.\n",
    "    This function plots the visible Major axis of the galaxy area enclosed by a circle that uses the Major axis as \n",
    "    the diameter of the cirlce on histogram.\n",
    "    This function uses astroquary to get data directly from NED\n",
    "    \"\"\"\n",
    "    import math\n",
    "    decA=Data['dec']\n",
    "    raA=Data['ra']\n",
    "    Maj=Maj/3600\n",
    "    Min=Min/3600\n",
    "    S_Maj=Maj/2\n",
    "    S_Min=Min/2\n",
    "    area_T=((S_Maj)**2)*math.pi\n",
    "    G_Data= Ned.query_object(Gname)\n",
    "    raGC=float(G_Data['RA(deg)'])\n",
    "    decGC=float(G_Data['DEC(deg)'])\n",
    "    area_A=[((((decGC-dec)**2)+((raGC-ra)**2)))*(math.pi) for dec,ra in zip(decA,raA)]\n",
    "    plt.vlines(area_T,0,10,color='red')\n",
    "    #plt.vlines(S_Min,0,10,color='blue')\n",
    "    plt.hist(area_A)\n",
    "    plt.plot()\n",
    "    plt.show()"
   ]
  },
  {
   "cell_type": "code",
   "execution_count": 134,
   "metadata": {
    "collapsed": true
   },
   "outputs": [],
   "source": [
    "def Area_GC_R_N_F(Gname,Data,Maj):\n",
    "    \"\"\"\n",
    "    Gname: str- The name of the galaxy in the form NGC #\n",
    "    Data: array- a table of data containg the coordinates of each object\n",
    "    Maj: int- The major axis of the galaxy in arcseconds\n",
    "    \n",
    "    This fucntion takes the inputs for the name of the galaxy, the ra's of an array of objects and the\n",
    "    declinations of an array of objects and returns an histrogram that plots the number of objects per bin by the\n",
    "    area enclosed by the cirlce centered on the center of the galaxy that inculdes the objects in each bin in \n",
    "    square degrees divided by the visible area of the galaxy in square degrees.\n",
    "    This function plots the visible Major axis of the galaxy area enclosed by a circle that uses the Major axis as \n",
    "    the diameter of the cirlce divided by itself to give 1 on histogram.\n",
    "    This function uses astroquary to get data directly from NED\n",
    "    \"\"\"\n",
    "    import math\n",
    "    decA=Data['dec']\n",
    "    raA=Data['ra']\n",
    "    Maj=Maj/3600\n",
    "    S_Maj=Maj/2\n",
    "    area_T=((S_Maj)**2)*math.pi\n",
    "    G_Data= Ned.query_object(Gname)\n",
    "    raGC=float(G_Data['RA(deg)'])\n",
    "    decGC=float(G_Data['DEC(deg)'])\n",
    "    area_A=[((((((decGC-dec)**2)+((raGC-ra)**2)))*(math.pi))/area_T) for dec,ra in zip(decA,raA)]\n",
    "    #plt.vlines(1,0,10,color='red')\n",
    "    plt.hist(area_A)\n",
    "    plt.plot()\n",
    "    plt.show()"
   ]
  },
  {
   "cell_type": "code",
   "execution_count": 135,
   "metadata": {
    "collapsed": true
   },
   "outputs": [],
   "source": [
    "def Area_GC_R_N_F_B(Gname,Data,Maj,B):\n",
    "    \"\"\"\n",
    "    Gname: str- The name of the galaxy in the form NGC #\n",
    "    Data: array- a table of data containg the coordinates of each object\n",
    "    Maj: int- The major axis of the galaxy in arcseconds\n",
    "    \n",
    "    This fucntion takes the inputs for the name of the galaxy, the ra's of an array of objects and the\n",
    "    declinations of an array of objects and returns an histrogram that plots the number of objects per bin by the\n",
    "    area enclosed by the cirlce centered on the center of the galaxy that inculdes the objects in each bin in \n",
    "    square degrees divided by the visible area of the galaxy in square degrees.\n",
    "    This function plots the visible Major axis of the galaxy area enclosed by a circle that uses the Major axis as \n",
    "    the diameter of the cirlce divided by itself to give 1 on histogram.\n",
    "    This function uses astroquary to get data directly from NED\n",
    "    This function allows you to modify the number of bins yourself.\n",
    "    \"\"\"\n",
    "    import math\n",
    "    decA=Data['dec']\n",
    "    raA=Data['ra']\n",
    "    Maj=Maj/3600\n",
    "    S_Maj=Maj/2\n",
    "    area_T=((S_Maj)**2)*math.pi\n",
    "    G_Data= Ned.query_object(Gname)\n",
    "    raGC=float(G_Data['RA(deg)'])\n",
    "    decGC=float(G_Data['DEC(deg)'])\n",
    "    area_A=[((((((decGC-dec)**2)+((raGC-ra)**2)))*(math.pi))/area_T) for dec,ra in zip(decA,raA)]\n",
    "    plt.vlines(1,0,10,color='red')\n",
    "    plt.hist(area_A,B)\n",
    "    plt.plot()\n",
    "    plt.show()"
   ]
  },
  {
   "cell_type": "code",
   "execution_count": 136,
   "metadata": {
    "collapsed": true
   },
   "outputs": [],
   "source": [
    "def Area_GC_R_N(Gname,Data,Maj):\n",
    "    \"\"\"\n",
    "    raGC: float- the ra of the galatic center\n",
    "    decGC: float the dec of the galatic center\n",
    "    raA, array- A array of the ra's of the objects that you want to know the distances from the GC\n",
    "    decGC array- A array of the dec's of the objects that you want to know the distacnes from the GC\n",
    "    returns: array- the distances of each object away from the center of the galaxy\n",
    "    \n",
    "    This fucntion takes the inputs for the ra of the GC, the Dec of the GC, the ra's of an array of objects and the\n",
    "    declinations of an array of objects and returns an array that is those objects distances from the center of the\n",
    "    galaxy\n",
    "    \"\"\"\n",
    "    import math\n",
    "    decA=Data['dec']\n",
    "    raA=Data['ra']\n",
    "    Maj=Maj/3600\n",
    "    S_Maj=Maj/2\n",
    "    area_T=((S_Maj)**2)*math.pi\n",
    "    G_Data= Ned.query_object(Gname)\n",
    "    raGC=float(G_Data['RA(deg)'])\n",
    "    decGC=float(G_Data['DEC(deg)'])\n",
    "    area_A=[((((decGC-dec)**2)+((raGC-ra)**2)))*(math.pi) for dec,ra in zip(decA,raA)]\n",
    "    plt.vlines(area_T,0,10,color='red')\n",
    "    plt.hist(area_A)\n",
    "    plt.plot()\n",
    "    plt.show()"
   ]
  },
  {
   "cell_type": "code",
   "execution_count": 137,
   "metadata": {
    "collapsed": true
   },
   "outputs": [],
   "source": [
    "def Area_GC_R_N_B(Gname,Data,Maj,B):\n",
    "    \"\"\"\n",
    "    raGC: float- the ra of the galatic center\n",
    "    decGC: float the dec of the galatic center\n",
    "    raA, array- A array of the ra's of the objects that you want to know the distances from the GC\n",
    "    decGC array- A array of the dec's of the objects that you want to know the distacnes from the GC\n",
    "    returns: array- the distances of each object away from the center of the galaxy\n",
    "    \n",
    "    This fucntion takes the inputs for the ra of the GC, the Dec of the GC, the ra's of an array of objects and the\n",
    "    declinations of an array of objects and returns an array that is those objects distances from the center of the\n",
    "    galaxy\n",
    "    \"\"\"\n",
    "    import math\n",
    "    decA=Data['dec']\n",
    "    raA=Data['ra']\n",
    "    Maj=Maj/3600\n",
    "    S_Maj=Maj/2\n",
    "    area_T=((S_Maj)**2)*math.pi\n",
    "    G_Data= Ned.query_object(Gname)\n",
    "    raGC=float(G_Data['RA(deg)'])\n",
    "    decGC=float(G_Data['DEC(deg)'])\n",
    "    area_A=[((((decGC-dec)**2)+((raGC-ra)**2)))*(math.pi) for dec,ra in zip(decA,raA)]\n",
    "    plt.vlines(area_T,0,10,color='red')\n",
    "    plt.hist(area_A,B)\n",
    "    plt.plot()\n",
    "    plt.show()"
   ]
  },
  {
   "cell_type": "code",
   "execution_count": 138,
   "metadata": {
    "collapsed": true
   },
   "outputs": [],
   "source": [
    "def Area_GC_R_N_B_M(Gname,Data,B):\n",
    "    import math\n",
    "    decA=Data['dec']\n",
    "    raA=Data['ra']\n",
    "    G_Data= Ned.query_object(Gname)\n",
    "    raGC=float(G_Data['RA(deg)'])\n",
    "    decGC=float(G_Data['DEC(deg)'])\n",
    "    Dia_A= Ned.get_table(Gname,table='diameters')\n",
    "    Dia_A2=Dia_A[6]\n",
    "    Maj=Dia_A2[18]\n",
    "    Min=Dia_A2[25]\n",
    "    Min=Min/3600\n",
    "    Maj=Maj/3600\n",
    "    S_Maj=Maj/2\n",
    "    area_T=((S_Maj)**2)*math.pi\n",
    "    area_A=[((((decGC-dec)**2)+((raGC-ra)**2)))*(math.pi) for dec,ra in zip(decA,raA)]\n",
    "    plt.vlines(area_T,0,10,color='red')\n",
    "    plt.hist(area_A,B)\n",
    "    plt.plot()\n",
    "    plt.show()\n",
    "    print Maj\n",
    "    print Min\n",
    "    print Dia_A"
   ]
  },
  {
   "cell_type": "code",
   "execution_count": 139,
   "metadata": {
    "collapsed": false
   },
   "outputs": [
    {
     "name": "stdout",
     "output_type": "stream",
     "text": [
      "0.0583333333333\n",
      "0.05775\n",
      "No.     Frequency targeted    ...              NED Comment             \n",
      "                              ...                                      \n",
      "--- ------------------------- ... -------------------------------------\n",
      "  1              POSS1 103a-O ...                                      \n",
      "  2              POSS1 103a-O ...                                      \n",
      "  3     RC3 D_25, R_25 (blue) ...                                      \n",
      "  4       RC3 A_e (Johnson B) ...       From magnitude-aperture curves.\n",
      "  5            RC3 D_0 (blue) ... Extinction and inclination corrected.\n",
      "  6 K_s (LGA/2MASS isophotal) ...                                      \n",
      "  7   K_s (LGA/2MASS \"total\") ...                                      \n"
     ]
    }
   ],
   "source": [
    "Area_GC_R_N_B_M('NGC 474',data_NGC474,25)"
   ]
  },
  {
   "cell_type": "code",
   "execution_count": 140,
   "metadata": {
    "collapsed": false
   },
   "outputs": [],
   "source": [
    "Area_GC_R_N_B('NGC 474',data_NGC474,Maj_NGC474,25)"
   ]
  },
  {
   "cell_type": "code",
   "execution_count": 141,
   "metadata": {
    "collapsed": false
   },
   "outputs": [],
   "source": [
    "Area_GC_R_N_B('NGC 474',data_NGC474,Maj_NGC474,25)"
   ]
  },
  {
   "cell_type": "code",
   "execution_count": 142,
   "metadata": {
    "collapsed": false
   },
   "outputs": [
    {
     "name": "stdout",
     "output_type": "stream",
     "text": [
      "Astronomy 211 Python Homework 1.ipynb  Untitled.ipynb\r\n",
      "Astronomy Homework 5 Question 4.ipynb  Untitled1.ipynb\r\n",
      "Galaxy Histograms Cleaned 2.ipynb      Untitled2-Copy1.ipynb\r\n",
      "Galaxy Histograms Cleaned 3.ipynb      factorial.txt\r\n",
      "Galaxy Histograms Cleaned.ipynb        mybithday.txt\r\n",
      "Galaxy Histograms.ipynb                ngc253.fits\r\n",
      "Homework 4 Output.txt                  untitled.txt\r\n"
     ]
    }
   ],
   "source": [
    "ls"
   ]
  },
  {
   "cell_type": "code",
   "execution_count": 143,
   "metadata": {
    "collapsed": false
   },
   "outputs": [
    {
     "name": "stdout",
     "output_type": "stream",
     "text": [
      "/home/asantini\n"
     ]
    }
   ],
   "source": [
    "cd"
   ]
  },
  {
   "cell_type": "code",
   "execution_count": 144,
   "metadata": {
    "collapsed": false
   },
   "outputs": [
    {
     "name": "stdout",
     "output_type": "stream",
     "text": [
      "\u001b[34mDesktop\u001b[m\u001b[m/      \u001b[34mDownloads\u001b[m\u001b[m/    \u001b[34mMovies\u001b[m\u001b[m/       \u001b[34mPictures\u001b[m\u001b[m/     \u001b[34mcxcds_param4\u001b[m\u001b[m/\r\n",
      "\u001b[34mDocuments\u001b[m\u001b[m/    \u001b[34mLibrary\u001b[m\u001b[m/      \u001b[34mMusic\u001b[m\u001b[m/        \u001b[34mPublic\u001b[m\u001b[m/       \u001b[34mgalaxies\u001b[m\u001b[m/\r\n"
     ]
    }
   ],
   "source": [
    "ls"
   ]
  },
  {
   "cell_type": "code",
   "execution_count": 145,
   "metadata": {
    "collapsed": false
   },
   "outputs": [
    {
     "name": "stdout",
     "output_type": "stream",
     "text": [
      "/home/asantini/Desktop\n"
     ]
    }
   ],
   "source": [
    "cd Desktop/"
   ]
  },
  {
   "cell_type": "code",
   "execution_count": 146,
   "metadata": {
    "collapsed": false
   },
   "outputs": [
    {
     "name": "stdout",
     "output_type": "stream",
     "text": [
      "04_antennae.jpg\r\n",
      "2096.tsv_offset_flux_data.csv\r\n",
      "2096.tsvoffset_flux_data.csv\r\n",
      "Area Calc Test\r\n",
      "Area Calc Test.py\r\n",
      "Area_Calc_2 2.py\r\n",
      "Area_Calc_2 3.py\r\n",
      "Area_Calc_2 4.py\r\n",
      "Area_Calc_2 5.py\r\n",
      "Area_Calc_2 6.py\r\n",
      "Area_Calc_2.py\r\n",
      "Area_Calc_3 2.py\r\n",
      "Area_Calc_3.py\r\n",
      "Area_Calc_4 2.py\r\n",
      "Area_Calc_Frac 2.py\r\n",
      "Area_Calc_Frac.py\r\n",
      "Area_Calc_Frac_2.py\r\n",
      "Area_Calc_Frac_B_2.py\r\n",
      "Area_Finder_Code.ipynb\r\n",
      "Axis_Offset_Calc\r\n",
      "Axis_Offset_Calc.py\r\n",
      "\u001b[34mAxis_Offset_Files\u001b[m\u001b[m/\r\n",
      "Black Hole Reading.pdf\r\n",
      "CCD poly.rtf\r\n",
      "Correct Area maybe cap.tiff\r\n",
      "\u001b[34mDropbox\u001b[m\u001b[m/\r\n",
      "Ds9 Area Check cap.tiff\r\n",
      "\u001b[34mGitHub\u001b[m\u001b[m/\r\n",
      "Hello World\r\n",
      "Hello World.py\r\n",
      "Hello_World.py\r\n",
      "Image Cap 1.tiff\r\n",
      "Image Cap 2.tiff\r\n",
      "Image Cap 3.tiff\r\n",
      "NGC_253_Objects_Physical_Coordinates.rtf\r\n",
      "NGC_253_Objects_Physical_Coordinates_Modifed.rtf\r\n",
      "NGC_253_Objects_Physical_Coordinates_Modifed_2.rtf\r\n",
      "\u001b[34mPolygons\u001b[m\u001b[m/\r\n",
      "ROW    POS.docx\r\n",
      "\u001b[34mReaserch\u001b[m\u001b[m/\r\n",
      "Untitled.ipynb\r\n",
      "acisf13831_000N002_fov1.fits\r\n",
      "acisf13831_repro_fov1_circles_sub_Notes\r\n",
      "acisf13831_repro_fov1_circles_sub_Notes 2\r\n",
      "acisf13831_repro_fov1_circles_sub_Notes copy 2.txt\r\n",
      "acisf13831_repro_fov1_circles_sub_Notes copy.txt\r\n",
      "apj429213f17_hr.jpg\r\n",
      "ngc4651_ObsID-2096.tsv_offset_flux_data.csv\r\n",
      "the_code.rtf\r\n",
      "the_code.rtf.sb-867e374d-i4SEJo\r\n",
      "~$W    POS.docx\r\n"
     ]
    }
   ],
   "source": [
    "ls"
   ]
  },
  {
   "cell_type": "code",
   "execution_count": 65,
   "metadata": {
    "collapsed": false
   },
   "outputs": [
    {
     "name": "stdout",
     "output_type": "stream",
     "text": [
      "/home/asantini/Desktop/GitHub\n"
     ]
    }
   ],
   "source": [
    "cd GitHub/"
   ]
  },
  {
   "cell_type": "code",
   "execution_count": 66,
   "metadata": {
    "collapsed": false
   },
   "outputs": [
    {
     "name": "stdout",
     "output_type": "stream",
     "text": [
      "Astronomy 211 Python Homework 1.ipynb  Untitled.ipynb\r\n",
      "Astronomy Homework 5 Question 4.ipynb  Untitled1.ipynb\r\n",
      "Galaxy Histograms Cleaned 2.ipynb      Untitled2-Copy1.ipynb\r\n",
      "Galaxy Histograms Cleaned 3.ipynb      factorial.txt\r\n",
      "Galaxy Histograms Cleaned.ipynb        mybithday.txt\r\n",
      "Galaxy Histograms.ipynb                ngc253.fits\r\n",
      "Homework 4 Output.txt                  untitled.txt\r\n"
     ]
    }
   ],
   "source": [
    "ls"
   ]
  },
  {
   "cell_type": "code",
   "execution_count": 67,
   "metadata": {
    "collapsed": false
   },
   "outputs": [
    {
     "ename": "NameError",
     "evalue": "name 'fits' is not defined",
     "output_type": "error",
     "traceback": [
      "\u001b[0;31m---------------------------------------------------------------------------\u001b[0m",
      "\u001b[0;31mNameError\u001b[0m                                 Traceback (most recent call last)",
      "\u001b[0;32m<ipython-input-67-60df85179399>\u001b[0m in \u001b[0;36m<module>\u001b[0;34m()\u001b[0m\n\u001b[0;32m----> 1\u001b[0;31m \u001b[0mdata_NGC253\u001b[0m \u001b[0;34m=\u001b[0m \u001b[0mfits\u001b[0m\u001b[0;34m.\u001b[0m\u001b[0mopen\u001b[0m\u001b[0;34m(\u001b[0m\u001b[0;34m'/home/asantini/Desktop/Dropbox/galaxies/ngc253.fits'\u001b[0m\u001b[0;34m)\u001b[0m\u001b[0;34m\u001b[0m\u001b[0m\n\u001b[0m",
      "\u001b[0;31mNameError\u001b[0m: name 'fits' is not defined"
     ]
    }
   ],
   "source": [
    "data_NGC253 = fits.open('/home/asantini/Desktop/Dropbox/galaxies/ngc253.fits')"
   ]
  },
  {
   "cell_type": "code",
   "execution_count": null,
   "metadata": {
    "collapsed": true
   },
   "outputs": [],
   "source": [
    "from astropy.io import fits"
   ]
  },
  {
   "cell_type": "code",
   "execution_count": null,
   "metadata": {
    "collapsed": false
   },
   "outputs": [],
   "source": [
    "data_NGC253 = fits.open('ngc253.fits')"
   ]
  },
  {
   "cell_type": "code",
   "execution_count": null,
   "metadata": {
    "collapsed": false
   },
   "outputs": [],
   "source": [
    "data_NGC253 = fits.open('ngc253.fits')"
   ]
  },
  {
   "cell_type": "code",
   "execution_count": null,
   "metadata": {
    "collapsed": false
   },
   "outputs": [],
   "source": [
    "data_NGCtest=data_NGC253[1]"
   ]
  },
  {
   "cell_type": "code",
   "execution_count": null,
   "metadata": {
    "collapsed": false
   },
   "outputs": [],
   "source": [
    "print data_NGC253['RA'].data"
   ]
  },
  {
   "cell_type": "code",
   "execution_count": null,
   "metadata": {
    "collapsed": false
   },
   "outputs": [],
   "source": [
    "data_NGC253_Low=data_NGC253[1].data"
   ]
  },
  {
   "cell_type": "code",
   "execution_count": null,
   "metadata": {
    "collapsed": false
   },
   "outputs": [],
   "source": [
    "data_NGC253_Low['RA']"
   ]
  },
  {
   "cell_type": "code",
   "execution_count": null,
   "metadata": {
    "collapsed": false
   },
   "outputs": [],
   "source": [
    "data_NGC253_RA=data_NGC253_Low['RA']"
   ]
  },
  {
   "cell_type": "code",
   "execution_count": null,
   "metadata": {
    "collapsed": false
   },
   "outputs": [],
   "source": [
    "data_NGC253_Low['DEC']"
   ]
  },
  {
   "cell_type": "code",
   "execution_count": null,
   "metadata": {
    "collapsed": false
   },
   "outputs": [],
   "source": [
    "data_NGC_DEC=data_NGC253_Low['DEC']"
   ]
  },
  {
   "cell_type": "code",
   "execution_count": null,
   "metadata": {
    "collapsed": true
   },
   "outputs": [],
   "source": [
    "def Area_GC_R_N_B_Ds9(Gname,RA,Dec,Maj,B):\n",
    "    \"\"\"\n",
    "    raGC: float- the ra of the galatic center\n",
    "    decGC: float the dec of the galatic center\n",
    "    raA, array- A array of the ra's of the objects that you want to know the distances from the GC\n",
    "    decGC array- A array of the dec's of the objects that you want to know the distacnes from the GC\n",
    "    returns: array- the distances of each object away from the center of the galaxy\n",
    "    \n",
    "    This fucntion takes the inputs for the ra of the GC, the Dec of the GC, the ra's of an array of objects and the\n",
    "    declinations of an array of objects and returns an array that is those objects distances from the center of the\n",
    "    galaxy\n",
    "    \"\"\"\n",
    "    import math\n",
    "    decA=Dec\n",
    "    raA=RA\n",
    "    Maj=Maj/3600\n",
    "    S_Maj=Maj/2\n",
    "    area_T=((S_Maj)**2)*math.pi\n",
    "    G_Data= Ned.query_object(Gname)\n",
    "    raGC=float(G_Data['RA(deg)'])\n",
    "    decGC=float(G_Data['DEC(deg)'])\n",
    "    area_A=[((((decGC-dec)**2)+((raGC-ra)**2)))*(math.pi) for dec,ra in zip(decA,raA)]\n",
    "    print raGC\n",
    "    print decGC\n",
    "    print ra\n",
    "    print dec\n",
    "    plt.vlines(area_T,0,10,color='red')\n",
    "    plt.hist(area_A,B)\n",
    "    plt.plot()\n",
    "    plt.show()"
   ]
  },
  {
   "cell_type": "code",
   "execution_count": null,
   "metadata": {
    "collapsed": false
   },
   "outputs": [],
   "source": [
    "Area_GC_R_N_B_Ds9('NGC 253',data_NGC253_RA,data_NGC_DEC,1843.60,25)"
   ]
  },
  {
   "cell_type": "code",
   "execution_count": null,
   "metadata": {
    "collapsed": false
   },
   "outputs": [],
   "source": [
    "cd"
   ]
  },
  {
   "cell_type": "code",
   "execution_count": null,
   "metadata": {
    "collapsed": false
   },
   "outputs": [],
   "source": [
    "cd galaxies/"
   ]
  },
  {
   "cell_type": "code",
   "execution_count": null,
   "metadata": {
    "collapsed": false
   },
   "outputs": [],
   "source": [
    "cd out/"
   ]
  },
  {
   "cell_type": "code",
   "execution_count": null,
   "metadata": {
    "collapsed": false
   },
   "outputs": [],
   "source": [
    "data_NGC253_M=fits.open('wav_none_src.fits')"
   ]
  },
  {
   "cell_type": "code",
   "execution_count": null,
   "metadata": {
    "collapsed": false
   },
   "outputs": [],
   "source": [
    "data_NGC253_M_L=data_NGC253_M[1].data"
   ]
  },
  {
   "cell_type": "code",
   "execution_count": null,
   "metadata": {
    "collapsed": false
   },
   "outputs": [],
   "source": [
    "data_NGC253_M_RA=data_NGC253_M_L['RA']"
   ]
  },
  {
   "cell_type": "code",
   "execution_count": null,
   "metadata": {
    "collapsed": false
   },
   "outputs": [],
   "source": [
    "data_NGC253_M_DEC=data_NGC253_M_L['Dec']"
   ]
  },
  {
   "cell_type": "code",
   "execution_count": null,
   "metadata": {
    "collapsed": false
   },
   "outputs": [],
   "source": [
    "Area_GC_R_N_B_Ds9('NGC 253',data_NGC253_M_RA,data_NGC253_M_DEC,1843.60,25)"
   ]
  },
  {
   "cell_type": "code",
   "execution_count": null,
   "metadata": {
    "collapsed": true
   },
   "outputs": [],
   "source": [
    "def dis_GC_R_N(Gname,Data,Maj,Min):\n",
    "    \"\"\"\n",
    "    Gname: str- The name of the galaxy in the form NGC #\n",
    "    Data: array- a table of data containg the coordinates of each object\n",
    "    Maj: int- The major axis of the galaxy in arcseconds\n",
    "    Min: int- The minor axis of the galaxy in arcseconds\n",
    "    \n",
    "    This fucntion takes the inputs for the name of the galaxy, the Dec of the GC, the ra's of an array of objects and the\n",
    "    declinations of an array of objects and returns an histrogram that plots the number of objects per bin by the\n",
    "    distance from the center of the galaxy to the objects in each bin are in degrees.\n",
    "    This function plots the visible Major and Minor axis of the galaxies on the histogram.\n",
    "    This function uses astroquary to get data directly from NED\n",
    "    \"\"\"\n",
    "    import math\n",
    "    decA=Data['dec']\n",
    "    raA=Data['ra']\n",
    "    Maj=Maj/3600\n",
    "    Min=Min/3600\n",
    "    S_Maj=Maj/2\n",
    "    S_Min=Min/2\n",
    "    G_Data= Ned.query_object(Gname)\n",
    "    raGC=float(G_Data['RA(deg)'])\n",
    "    decGC=float(G_Data['DEC(deg)'])\n",
    "    disA=[math.sqrt(((decGC-dec)**2)+((raGC-ra)**2)) for dec,ra in zip(decA,raA)]\n",
    "    plt.vlines(S_Maj,0,10,color='red')\n",
    "    plt.vlines(S_Min,0,10,color='blue')\n",
    "    plt.hist(disA)\n",
    "    plt.plot()\n",
    "    plt.show()"
   ]
  },
  {
   "cell_type": "code",
   "execution_count": null,
   "metadata": {
    "collapsed": false
   },
   "outputs": [],
   "source": [
    "dis_GC_R_N('NGC 253',data_NGC253_M_L,1843.60,25)"
   ]
  },
  {
   "cell_type": "code",
   "execution_count": null,
   "metadata": {
    "collapsed": true
   },
   "outputs": [],
   "source": [
    "def dis_GC_R_N_Ds9(Gname,RA,DEC,Maj,Min):\n",
    "    \"\"\"\n",
    "    Gname: str- The name of the galaxy in the form NGC #\n",
    "    Data: array- a table of data containg the coordinates of each object\n",
    "    Maj: int- The major axis of the galaxy in arcseconds\n",
    "    Min: int- The minor axis of the galaxy in arcseconds\n",
    "    \n",
    "    This fucntion takes the inputs for the name of the galaxy, the Dec of the GC, the ra's of an array of objects and the\n",
    "    declinations of an array of objects and returns an histrogram that plots the number of objects per bin by the\n",
    "    distance from the center of the galaxy to the objects in each bin are in degrees.\n",
    "    This function plots the visible Major and Minor axis of the galaxies on the histogram.\n",
    "    This function uses astroquary to get data directly from NED\n",
    "    \"\"\"\n",
    "    import math\n",
    "    decA=DEC\n",
    "    raA=RA\n",
    "    Maj=Maj/3600\n",
    "    Min=Min/3600\n",
    "    S_Maj=Maj/2\n",
    "    S_Min=Min/2\n",
    "    G_Data= Ned.query_object(Gname)\n",
    "    raGC=float(G_Data['RA(deg)'])\n",
    "    decGC=float(G_Data['DEC(deg)'])\n",
    "    disA=[math.sqrt(((decGC-dec)**2)+((raGC-ra)**2)) for dec,ra in zip(decA,raA)]\n",
    "    plt.vlines(S_Maj,0,10,color='red')\n",
    "    plt.vlines(S_Min,0,10,color='blue')\n",
    "    plt.hist(disA)\n",
    "    plt.plot()\n",
    "    plt.show()"
   ]
  },
  {
   "cell_type": "code",
   "execution_count": null,
   "metadata": {
    "collapsed": true
   },
   "outputs": [],
   "source": [
    "def Area_GC_R_N_F(Gname,Data,Maj):\n",
    "    \"\"\"\n",
    "    Gname: str- The name of the galaxy in the form NGC #\n",
    "    Data: array- a table of data containg the coordinates of each object\n",
    "    Maj: int- The major axis of the galaxy in arcseconds\n",
    "    \n",
    "    This fucntion takes the inputs for the name of the galaxy, the ra's of an array of objects and the\n",
    "    declinations of an array of objects and returns an histrogram that plots the number of objects per bin by the\n",
    "    area enclosed by the cirlce centered on the center of the galaxy that inculdes the objects in each bin in \n",
    "    square degrees divided by the visible area of the galaxy in square degrees.\n",
    "    This function plots the visible Major axis of the galaxy area enclosed by a circle that uses the Major axis as \n",
    "    the diameter of the cirlce divided by itself to give 1 on histogram.\n",
    "    This function uses astroquary to get data directly from NED\n",
    "    \"\"\"\n",
    "    import math\n",
    "    decA=Data['dec']\n",
    "    raA=Data['ra']\n",
    "    Maj=Maj/3600\n",
    "    S_Maj=Maj/2\n",
    "    area_T=((S_Maj)**2)*math.pi\n",
    "    G_Data= Ned.query_object(Gname)\n",
    "    raGC=float(G_Data['RA(deg)'])\n",
    "    decGC=float(G_Data['DEC(deg)'])\n",
    "    area_A=[((((((decGC-dec)**2)+((raGC-ra)**2)))*(math.pi))/area_T) for dec,ra in zip(decA,raA)]\n",
    "    #plt.vlines(1,0,10,color='red')\n",
    "    plt.hist(area_A)\n",
    "    plt.plot()\n",
    "    plt.show()"
   ]
  },
  {
   "cell_type": "code",
   "execution_count": null,
   "metadata": {
    "collapsed": false
   },
   "outputs": [],
   "source": [
    "ls"
   ]
  },
  {
   "cell_type": "code",
   "execution_count": null,
   "metadata": {
    "collapsed": true
   },
   "outputs": [],
   "source": []
  }
 ],
 "metadata": {
  "kernelspec": {
   "display_name": "Python 2",
   "language": "python",
   "name": "python2"
  },
  "language_info": {
   "codemirror_mode": {
    "name": "ipython",
    "version": 2
   },
   "file_extension": ".py",
   "mimetype": "text/x-python",
   "name": "python",
   "nbconvert_exporter": "python",
   "pygments_lexer": "ipython2",
   "version": "2.7.11"
  }
 },
 "nbformat": 4,
 "nbformat_minor": 0
}
