{
 "cells": [
  {
   "cell_type": "code",
   "execution_count": 22,
   "metadata": {
    "collapsed": true
   },
   "outputs": [],
   "source": [
    "from astropy.io import fits"
   ]
  },
  {
   "cell_type": "code",
   "execution_count": 15,
   "metadata": {
    "collapsed": true
   },
   "outputs": [],
   "source": [
    "import csv"
   ]
  },
  {
   "cell_type": "code",
   "execution_count": 60,
   "metadata": {
    "collapsed": false
   },
   "outputs": [],
   "source": [
    "def Off_Flux_Array(fname):\n",
    "    from astropy.io import ascii\n",
    "    data = ascii.read(\"/home/asantini/Desktop/Reaserch/Data/galaxies/\" + str(fname))\n",
    "    data_r=data['theta','flux_aper_b']\n",
    "    ascii.write(data_r, str(fname) + '_offset_flux_data.csv')"
   ]
  },
  {
   "cell_type": "code",
   "execution_count": 61,
   "metadata": {
    "collapsed": false
   },
   "outputs": [],
   "source": [
    "Off_Flux_Array('2096.tsv')"
   ]
  },
  {
   "cell_type": "code",
   "execution_count": 63,
   "metadata": {
    "collapsed": false
   },
   "outputs": [
    {
     "name": "stdout",
     "output_type": "stream",
     "text": [
      "04_antennae.jpg\r\n",
      "2096.tsvoffset_flux_data.csv\r\n",
      "Area Calc Test\r\n",
      "Area Calc Test.py\r\n",
      "Area_Calc_2 2.py\r\n",
      "Area_Calc_2 3.py\r\n",
      "Area_Calc_2 4.py\r\n",
      "Area_Calc_2 5.py\r\n",
      "Area_Calc_2 6.py\r\n",
      "Area_Calc_2.py\r\n",
      "Area_Calc_3 2.py\r\n",
      "Area_Calc_3.py\r\n",
      "Area_Calc_4 2.py\r\n",
      "Area_Calc_Frac 2.py\r\n",
      "Area_Calc_Frac.py\r\n",
      "Area_Calc_Frac_2.py\r\n",
      "Area_Calc_Frac_B_2.py\r\n",
      "Area_Finder_Code.ipynb\r\n",
      "Black Hole Reading.pdf\r\n",
      "CCD poly.rtf\r\n",
      "Correct Area maybe cap.tiff\r\n",
      "\u001b[34mDropbox\u001b[m\u001b[m/\r\n",
      "Ds9 Area Check cap.tiff\r\n",
      "\u001b[34mGitHub\u001b[m\u001b[m/\r\n",
      "Hello World\r\n",
      "Hello World.py\r\n",
      "Hello_World.py\r\n",
      "Image Cap 1.tiff\r\n",
      "Image Cap 2.tiff\r\n",
      "Image Cap 3.tiff\r\n",
      "\u001b[34mPolygons\u001b[m\u001b[m/\r\n",
      "\u001b[34mReaserch\u001b[m\u001b[m/\r\n",
      "Untitled.ipynb\r\n",
      "acisf13831_000N002_fov1.fits\r\n",
      "acisf13831_repro_fov1_circles_sub_Notes\r\n",
      "acisf13831_repro_fov1_circles_sub_Notes 2\r\n",
      "acisf13831_repro_fov1_circles_sub_Notes copy 2.txt\r\n",
      "acisf13831_repro_fov1_circles_sub_Notes copy.txt\r\n",
      "the_code.rtf\r\n",
      "the_code.rtf.sb-867e374d-i4SEJo\r\n"
     ]
    }
   ],
   "source": [
    "ls"
   ]
  },
  {
   "cell_type": "code",
   "execution_count": 64,
   "metadata": {
    "collapsed": false
   },
   "outputs": [
    {
     "name": "stdout",
     "output_type": "stream",
     "text": [
      "/home/asantini/Desktop/Reaserch\n"
     ]
    }
   ],
   "source": [
    "cd Reaserch"
   ]
  },
  {
   "cell_type": "code",
   "execution_count": 65,
   "metadata": {
    "collapsed": false
   },
   "outputs": [
    {
     "name": "stdout",
     "output_type": "stream",
     "text": [
      "\u001b[34mData\u001b[m\u001b[m/               \u001b[34mReading Responses\u001b[m\u001b[m/  \u001b[34mSummer Application\u001b[m\u001b[m/\r\n"
     ]
    }
   ],
   "source": [
    "ls"
   ]
  },
  {
   "cell_type": "code",
   "execution_count": 66,
   "metadata": {
    "collapsed": false
   },
   "outputs": [
    {
     "name": "stdout",
     "output_type": "stream",
     "text": [
      "/home/asantini/Desktop/Reaserch/Data\n"
     ]
    }
   ],
   "source": [
    "cd Data/"
   ]
  },
  {
   "cell_type": "code",
   "execution_count": 67,
   "metadata": {
    "collapsed": false
   },
   "outputs": [
    {
     "name": "stdout",
     "output_type": "stream",
     "text": [
      "\u001b[34mHistograms\u001b[m\u001b[m/             \u001b[34mRegion Files\u001b[m\u001b[m/           \u001b[34mVisible Photos 2-29-16\u001b[m\u001b[m/\r\n",
      "\u001b[34mReduced TSV files\u001b[m\u001b[m/      \u001b[34mTar Files\u001b[m\u001b[m/              \u001b[34mgalaxies\u001b[m\u001b[m/\r\n"
     ]
    }
   ],
   "source": [
    "ls"
   ]
  },
  {
   "cell_type": "code",
   "execution_count": 68,
   "metadata": {
    "collapsed": false
   },
   "outputs": [
    {
     "name": "stdout",
     "output_type": "stream",
     "text": [
      "/home/asantini/Desktop/Reaserch/Data/Reduced TSV files\n"
     ]
    }
   ],
   "source": [
    "cd Reduced TSV files/"
   ]
  },
  {
   "cell_type": "code",
   "execution_count": 69,
   "metadata": {
    "collapsed": false
   },
   "outputs": [
    {
     "name": "stdout",
     "output_type": "stream",
     "text": [
      "2096.tsv_offset_flux_data.csv\r\n"
     ]
    }
   ],
   "source": [
    "ls"
   ]
  },
  {
   "cell_type": "code",
   "execution_count": 70,
   "metadata": {
    "collapsed": true
   },
   "outputs": [],
   "source": [
    "Off_Flux_Array('ngc474_ObsID-7144.tsv')"
   ]
  },
  {
   "cell_type": "code",
   "execution_count": 71,
   "metadata": {
    "collapsed": true
   },
   "outputs": [],
   "source": [
    "Off_Flux_Array('ngc1316_ObsID-2022.tsv')"
   ]
  },
  {
   "cell_type": "code",
   "execution_count": 72,
   "metadata": {
    "collapsed": true
   },
   "outputs": [],
   "source": [
    "Off_Flux_Array('ngc2403_ObsID-2014.tsv')"
   ]
  },
  {
   "cell_type": "code",
   "execution_count": 73,
   "metadata": {
    "collapsed": true
   },
   "outputs": [],
   "source": [
    "Off_Flux_Array('ngc3077_ObsID-2076.tsv')"
   ]
  },
  {
   "cell_type": "code",
   "execution_count": 74,
   "metadata": {
    "collapsed": true
   },
   "outputs": [],
   "source": [
    "Off_Flux_Array('ngc4631_ObsID-797.tsv')"
   ]
  },
  {
   "cell_type": "code",
   "execution_count": 75,
   "metadata": {
    "collapsed": true
   },
   "outputs": [],
   "source": [
    "Off_Flux_Array('ngc4651_ObsID-2096.tsv')"
   ]
  },
  {
   "cell_type": "code",
   "execution_count": 76,
   "metadata": {
    "collapsed": true
   },
   "outputs": [],
   "source": [
    "Off_Flux_Array('ngc7331_ObsID-2198.tsv')"
   ]
  },
  {
   "cell_type": "code",
   "execution_count": null,
   "metadata": {
    "collapsed": true
   },
   "outputs": [],
   "source": []
  }
 ],
 "metadata": {
  "kernelspec": {
   "display_name": "Python 2",
   "language": "python",
   "name": "python2"
  },
  "language_info": {
   "codemirror_mode": {
    "name": "ipython",
    "version": 2
   },
   "file_extension": ".py",
   "mimetype": "text/x-python",
   "name": "python",
   "nbconvert_exporter": "python",
   "pygments_lexer": "ipython2",
   "version": "2.7.11"
  }
 },
 "nbformat": 4,
 "nbformat_minor": 0
}
