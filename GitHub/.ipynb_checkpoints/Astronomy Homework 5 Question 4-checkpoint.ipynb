{
 "cells": [
  {
   "cell_type": "code",
   "execution_count": null,
   "metadata": {
    "collapsed": false
   },
   "outputs": [],
   "source": [
    "import numpy\n",
    "import math\n",
    "import matplotlib.pyplot as plt\n",
    "D_HST=2.4 #The Diameter of the Hubble Space Telescope in meters\n",
    "D_Keck=10 #The Diameter of Keck\n",
    "WL_Min_A=3000 #The Smallest wavelength observered in Amstrongs\n",
    "WL_Max_MircoM=2.5 #The Largest wavelegth observered in Mircometers\n",
    "WL_Min=WL_Min_A*(10**-10) #The Smallest wavelength observered in meters\n",
    "WL_Max=WL_Max_MircoM*(10**-6) #The Largest wavelength observered in meters\n",
    "WL=numpy.logspace(-10,-6,1000)\n",
    "def Res(WL,D):\n",
    "    Res_R=(1.22*WL)/D\n",
    "    Res_D=Res_R*(180.0/math.pi)\n",
    "    Res_A=Res_D*(3600.0)\n",
    "    return Res_A\n",
    "Res_HST=Res(WL,D_HST)\n",
    "Res_Keck=Res(WL,D_Keck)\n",
    "plt.loglog(WL,Res_HST)\n",
    "plt.loglog(WL,Res_Keck)\n",
    "plt.loglog(WL,[0.5]*len(WL))\n",
    "plt.loglog(WL,[0.08]*len(WL))\n",
    "plt.show()"
   ]
  },
  {
   "cell_type": "code",
   "execution_count": null,
   "metadata": {
    "collapsed": true
   },
   "outputs": [],
   "source": []
  }
 ],
 "metadata": {
  "kernelspec": {
   "display_name": "Python 2",
   "language": "python",
   "name": "python2"
  },
  "language_info": {
   "codemirror_mode": {
    "name": "ipython",
    "version": 2
   },
   "file_extension": ".py",
   "mimetype": "text/x-python",
   "name": "python",
   "nbconvert_exporter": "python",
   "pygments_lexer": "ipython2",
   "version": "2.7.11"
  }
 },
 "nbformat": 4,
 "nbformat_minor": 0
}
