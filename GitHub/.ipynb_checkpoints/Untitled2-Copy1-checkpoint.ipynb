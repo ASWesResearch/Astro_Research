{
 "cells": [
  {
   "cell_type": "code",
   "execution_count": 1,
   "metadata": {
    "collapsed": false
   },
   "outputs": [
    {
     "ename": "SyntaxError",
     "evalue": "invalid syntax (<ipython-input-1-e171fb7b2daa>, line 2)",
     "output_type": "error",
     "traceback": [
      "\u001b[1;36m  File \u001b[1;32m\"<ipython-input-1-e171fb7b2daa>\"\u001b[1;36m, line \u001b[1;32m2\u001b[0m\n\u001b[1;33m    data=ascii.read(‘filename’)\u001b[0m\n\u001b[1;37m                    ^\u001b[0m\n\u001b[1;31mSyntaxError\u001b[0m\u001b[1;31m:\u001b[0m invalid syntax\n"
     ]
    }
   ],
   "source": [
    "import astropy.io.ascii as ascii\n",
    "data=ascii.read(‘filename’)\n",
    "# reads data into a structure\n",
    "# to make an array from a column in the table:\n",
    "ra = data[‘ra’]\n",
    "dec = data[‘dec’]"
   ]
  },
  {
   "cell_type": "code",
   "execution_count": 2,
   "metadata": {
    "collapsed": true
   },
   "outputs": [],
   "source": [
    "import astropy.io.ascii as ascii"
   ]
  },
  {
   "cell_type": "code",
   "execution_count": 3,
   "metadata": {
    "collapsed": false
   },
   "outputs": [
    {
     "ename": "SyntaxError",
     "evalue": "invalid syntax (<ipython-input-3-714e5ea6d203>, line 2)",
     "output_type": "error",
     "traceback": [
      "\u001b[1;36m  File \u001b[1;32m\"<ipython-input-3-714e5ea6d203>\"\u001b[1;36m, line \u001b[1;32m2\u001b[0m\n\u001b[1;33m    data=ascii.read(NGC 1097.tar)\u001b[0m\n\u001b[1;37m                            ^\u001b[0m\n\u001b[1;31mSyntaxError\u001b[0m\u001b[1;31m:\u001b[0m invalid syntax\n"
     ]
    }
   ],
   "source": [
    "import astropy.io.ascii as ascii\n",
    "data=ascii.read(NGC 1097.tar)\n",
    "# reads data into a structure\n",
    "# to make an array from a column in the table:\n",
    "ra = data[‘ra’]\n",
    "dec = data[‘dec’]"
   ]
  },
  {
   "cell_type": "code",
   "execution_count": null,
   "metadata": {
    "collapsed": false
   },
   "outputs": [],
   "source": [
    "import tarfile\n",
    "tar = tarfile.open(\"NGC 1097.tar\")\n",
    "tar.extractall()\n",
    "tar.close()"
   ]
  },
  {
   "cell_type": "code",
   "execution_count": null,
   "metadata": {
    "collapsed": false
   },
   "outputs": [],
   "source": [
    "import astropy.io.ascii as ascii\n",
    "data=ascii.read('\\Users\\Anthony\\Dropbox\\galaxies\\2096.tsv')\n",
    "# reads data into a structure\n",
    "# to make an array from a column in the table:\n",
    "ra = data['ra']\n",
    "dec = data['dec']"
   ]
  },
  {
   "cell_type": "code",
   "execution_count": null,
   "metadata": {
    "collapsed": true
   },
   "outputs": [],
   "source": [
    "import astropy.io.ascii as ascii"
   ]
  },
  {
   "cell_type": "code",
   "execution_count": null,
   "metadata": {
    "collapsed": true
   },
   "outputs": [],
   "source": [
    "data = ascii.read('/Users/Anthony/Dropbox/galaxies/ngc4651_ObsID-2096.tsv')"
   ]
  },
  {
   "cell_type": "code",
   "execution_count": null,
   "metadata": {
    "collapsed": false
   },
   "outputs": [],
   "source": [
    "print data"
   ]
  },
  {
   "cell_type": "code",
   "execution_count": null,
   "metadata": {
    "collapsed": false
   },
   "outputs": [],
   "source": [
    "# to make an array from a column in the table:\n",
    "ra = data['ra']\n",
    "dec = data['dec']"
   ]
  },
  {
   "cell_type": "code",
   "execution_count": null,
   "metadata": {
    "collapsed": false
   },
   "outputs": [],
   "source": [
    "print ra"
   ]
  },
  {
   "cell_type": "code",
   "execution_count": null,
   "metadata": {
    "collapsed": true
   },
   "outputs": [],
   "source": [
    "ra_NGC4651=190.9275\n",
    "dec_NGC4651=16.39338888888889"
   ]
  },
  {
   "cell_type": "code",
   "execution_count": null,
   "metadata": {
    "collapsed": false
   },
   "outputs": [],
   "source": [
    "def dis_GC(raGC,decGC,Data):\n",
    "    \"\"\"\n",
    "    raGC: float- the ra of the galatic center\n",
    "    decGC: float the dec of the galatic center\n",
    "    raA, array- A array of the ra's of the objects that you want to know the distances from the GC\n",
    "    decGC array- A array of the dec's of the objects that you want to know the distacnes from the GC\n",
    "    returns: array- the distances of each object away from the center of the galaxy\n",
    "    \n",
    "    This fucntion takes the inputs for the ra of the GC, the Dec of the GC, the ra's of an array of objects and the\n",
    "    declinations of an array of objects and returns an array that is those objects distances from the center of the\n",
    "    galaxy\n",
    "    \"\"\"\n",
    "    import math\n",
    "    decA=Data['dec']\n",
    "    raA=Data['ra']\n",
    "    disA=[math.sqrt(((decGC-dec)**2)+((raGC-ra)**2)) for dec in decA and ra in raA]\n",
    "    return disA"
   ]
  },
  {
   "cell_type": "code",
   "execution_count": 4,
   "metadata": {
    "collapsed": false
   },
   "outputs": [
    {
     "ename": "NameError",
     "evalue": "name 'data' is not defined",
     "output_type": "error",
     "traceback": [
      "\u001b[1;31m---------------------------------------------------------------------------\u001b[0m",
      "\u001b[1;31mNameError\u001b[0m                                 Traceback (most recent call last)",
      "\u001b[1;32m<ipython-input-4-3d8b24bdc08e>\u001b[0m in \u001b[0;36m<module>\u001b[1;34m()\u001b[0m\n\u001b[1;32m----> 1\u001b[1;33m \u001b[1;32mprint\u001b[0m \u001b[0mdata\u001b[0m\u001b[1;33m\u001b[0m\u001b[0m\n\u001b[0m",
      "\u001b[1;31mNameError\u001b[0m: name 'data' is not defined"
     ]
    }
   ],
   "source": [
    "print data"
   ]
  },
  {
   "cell_type": "code",
   "execution_count": 5,
   "metadata": {
    "collapsed": false
   },
   "outputs": [],
   "source": [
    "data = ascii.read('/Users/Anthony/Dropbox/galaxies/ngc4651_ObsID-2096.tsv')"
   ]
  },
  {
   "cell_type": "code",
   "execution_count": 6,
   "metadata": {
    "collapsed": true
   },
   "outputs": [],
   "source": [
    "import astropy.io.ascii as ascii"
   ]
  },
  {
   "cell_type": "code",
   "execution_count": 7,
   "metadata": {
    "collapsed": true
   },
   "outputs": [],
   "source": [
    "data = ascii.read('/Users/Anthony/Dropbox/galaxies/ngc4651_ObsID-2096.tsv')"
   ]
  },
  {
   "cell_type": "code",
   "execution_count": 8,
   "metadata": {
    "collapsed": false
   },
   "outputs": [
    {
     "name": "stdout",
     "output_type": "stream",
     "text": [
      "        name             ra      dec    ... var_index_b var_index_w\n",
      "-------------------- --------- -------- ... ----------- -----------\n",
      "CXO J124329.7+161348 190.87412 16.23013 ...           0         NaN\n",
      "CXO J124332.6+161023  190.8861 16.17316 ...           2         NaN\n",
      "CXO J124335.7+161247 190.89894 16.21323 ...           1         NaN\n",
      "CXO J124338.8+161728 190.91181 16.29118 ...           0         NaN\n",
      "CXO J124341.3+161539  190.9221 16.26092 ...           0         NaN\n",
      "CXO J124344.4+161813 190.93536 16.30366 ...           0         NaN\n",
      "CXO J124347.4+161908  190.9476 16.31908 ...           6         NaN\n",
      "CXO J124353.8+162454 190.97434 16.41525 ...           0         NaN\n",
      "CXO J124356.1+162152 190.98375 16.36455 ...           0         NaN\n",
      "CXO J124356.6+162128 190.98617 16.35793 ...           1         NaN\n",
      "CXO J124356.7+162055  190.9866 16.34882 ...           0         NaN\n",
      "CXO J124357.3+162301 190.98913 16.38385 ...           0         NaN\n",
      "CXO J124357.6+162253 190.99021 16.38154 ...           0         NaN\n",
      "CXO J124358.6+162651 190.99454 16.44774 ...           0         NaN\n",
      "CXO J124400.2+162444 191.00123 16.41234 ...           2         NaN\n",
      "CXO J124402.8+162142 191.01165 16.36183 ...           1         NaN\n",
      "CXO J124408.0+162443 191.03353 16.41205 ...           0         NaN\n",
      "CXO J124409.5+162534 191.03972 16.42621 ...           6         NaN\n",
      "CXO J124410.8+162744 191.04539 16.46246 ...           0         NaN\n",
      "CXO J124413.2+162503 191.05523 16.41755 ...           6         NaN\n"
     ]
    }
   ],
   "source": [
    "print data"
   ]
  },
  {
   "cell_type": "code",
   "execution_count": 9,
   "metadata": {
    "collapsed": false
   },
   "outputs": [
    {
     "ename": "NameError",
     "evalue": "name 'dis_GC' is not defined",
     "output_type": "error",
     "traceback": [
      "\u001b[1;31m---------------------------------------------------------------------------\u001b[0m",
      "\u001b[1;31mNameError\u001b[0m                                 Traceback (most recent call last)",
      "\u001b[1;32m<ipython-input-9-1cb97e6ea733>\u001b[0m in \u001b[0;36m<module>\u001b[1;34m()\u001b[0m\n\u001b[1;32m----> 1\u001b[1;33m \u001b[1;32mprint\u001b[0m \u001b[0mdis_GC\u001b[0m\u001b[1;33m(\u001b[0m\u001b[0mra_NGC4651\u001b[0m\u001b[1;33m,\u001b[0m\u001b[0mdec_NGC4651\u001b[0m\u001b[1;33m,\u001b[0m\u001b[0mdata\u001b[0m\u001b[1;33m)\u001b[0m\u001b[1;33m\u001b[0m\u001b[0m\n\u001b[0m",
      "\u001b[1;31mNameError\u001b[0m: name 'dis_GC' is not defined"
     ]
    }
   ],
   "source": [
    "print dis_GC(ra_NGC4651,dec_NGC4651,data)"
   ]
  },
  {
   "cell_type": "code",
   "execution_count": 10,
   "metadata": {
    "collapsed": false
   },
   "outputs": [],
   "source": [
    "def dis_GC(raGC,decGC,Data):\n",
    "    \"\"\"\n",
    "    raGC: float- the ra of the galatic center\n",
    "    decGC: float the dec of the galatic center\n",
    "    raA, array- A array of the ra's of the objects that you want to know the distances from the GC\n",
    "    decGC array- A array of the dec's of the objects that you want to know the distacnes from the GC\n",
    "    returns: array- the distances of each object away from the center of the galaxy\n",
    "    \n",
    "    This fucntion takes the inputs for the ra of the GC, the Dec of the GC, the ra's of an array of objects and the\n",
    "    declinations of an array of objects and returns an array that is those objects distances from the center of the\n",
    "    galaxy\n",
    "    \"\"\"\n",
    "    import math\n",
    "    decA=Data['dec']\n",
    "    raA=Data['ra']\n",
    "    disA=[math.sqrt(((decGC-dec)**2)+((raGC-ra)**2)) for ra in raA]\n",
    "    return disA"
   ]
  },
  {
   "cell_type": "code",
   "execution_count": 11,
   "metadata": {
    "collapsed": false
   },
   "outputs": [
    {
     "ename": "NameError",
     "evalue": "name 'ra_NGC4651' is not defined",
     "output_type": "error",
     "traceback": [
      "\u001b[1;31m---------------------------------------------------------------------------\u001b[0m",
      "\u001b[1;31mNameError\u001b[0m                                 Traceback (most recent call last)",
      "\u001b[1;32m<ipython-input-11-1cb97e6ea733>\u001b[0m in \u001b[0;36m<module>\u001b[1;34m()\u001b[0m\n\u001b[1;32m----> 1\u001b[1;33m \u001b[1;32mprint\u001b[0m \u001b[0mdis_GC\u001b[0m\u001b[1;33m(\u001b[0m\u001b[0mra_NGC4651\u001b[0m\u001b[1;33m,\u001b[0m\u001b[0mdec_NGC4651\u001b[0m\u001b[1;33m,\u001b[0m\u001b[0mdata\u001b[0m\u001b[1;33m)\u001b[0m\u001b[1;33m\u001b[0m\u001b[0m\n\u001b[0m",
      "\u001b[1;31mNameError\u001b[0m: name 'ra_NGC4651' is not defined"
     ]
    }
   ],
   "source": [
    "print dis_GC(ra_NGC4651,dec_NGC4651,data)"
   ]
  },
  {
   "cell_type": "code",
   "execution_count": 12,
   "metadata": {
    "collapsed": false
   },
   "outputs": [],
   "source": [
    "def dis_GC(raGC,decGC,Data):\n",
    "    \"\"\"\n",
    "    raGC: float- the ra of the galatic center\n",
    "    decGC: float the dec of the galatic center\n",
    "    raA, array- A array of the ra's of the objects that you want to know the distances from the GC\n",
    "    decGC array- A array of the dec's of the objects that you want to know the distacnes from the GC\n",
    "    returns: array- the distances of each object away from the center of the galaxy\n",
    "    \n",
    "    This fucntion takes the inputs for the ra of the GC, the Dec of the GC, the ra's of an array of objects and the\n",
    "    declinations of an array of objects and returns an array that is those objects distances from the center of the\n",
    "    galaxy\n",
    "    \"\"\"\n",
    "    import math\n",
    "    decA=Data['dec']\n",
    "    raA=Data['ra']\n",
    "    disA=[math.sqrt(((decGC-dec)**2)+((raGC-ra)**2)) for ra in raA]\n",
    "    return disA"
   ]
  },
  {
   "cell_type": "code",
   "execution_count": 13,
   "metadata": {
    "collapsed": true
   },
   "outputs": [],
   "source": [
    "import numpy as np"
   ]
  },
  {
   "cell_type": "code",
   "execution_count": 14,
   "metadata": {
    "collapsed": false
   },
   "outputs": [
    {
     "name": "stdout",
     "output_type": "stream",
     "text": [
      "  dec        ra   \n",
      "-------- ---------\n",
      "16.23013 190.87412\n",
      "16.17316  190.8861\n",
      "16.21323 190.89894\n",
      "16.29118 190.91181\n",
      "16.26092  190.9221\n",
      "16.30366 190.93536\n",
      "16.31908  190.9476\n",
      "16.41525 190.97434\n",
      "16.36455 190.98375\n",
      "16.35793 190.98617\n",
      "16.34882  190.9866\n",
      "16.38385 190.98913\n",
      "16.38154 190.99021\n",
      "16.44774 190.99454\n",
      "16.41234 191.00123\n",
      "16.36183 191.01165\n",
      "16.41205 191.03353\n",
      "16.42621 191.03972\n",
      "16.46246 191.04539\n",
      "16.41755 191.05523\n"
     ]
    }
   ],
   "source": [
    "print data['dec','ra']"
   ]
  },
  {
   "cell_type": "code",
   "execution_count": 15,
   "metadata": {
    "collapsed": false
   },
   "outputs": [
    {
     "name": "stdout",
     "output_type": "stream",
     "text": [
      "  dec   \n",
      "--------\n",
      "16.23013\n",
      "16.17316\n",
      "16.21323\n",
      "16.29118\n",
      "16.26092\n",
      "16.30366\n",
      "16.31908\n",
      "16.41525\n",
      "16.36455\n",
      "16.35793\n",
      "16.34882\n",
      "16.38385\n",
      "16.38154\n",
      "16.44774\n",
      "16.41234\n",
      "16.36183\n",
      "16.41205\n",
      "16.42621\n",
      "16.46246\n",
      "16.41755\n"
     ]
    }
   ],
   "source": [
    "print data['dec']"
   ]
  },
  {
   "cell_type": "code",
   "execution_count": 16,
   "metadata": {
    "collapsed": false
   },
   "outputs": [],
   "source": [
    "def dis_GC(raGC,decGC,Data):\n",
    "    \"\"\"\n",
    "    raGC: float- the ra of the galatic center\n",
    "    decGC: float the dec of the galatic center\n",
    "    raA, array- A array of the ra's of the objects that you want to know the distances from the GC\n",
    "    decGC array- A array of the dec's of the objects that you want to know the distacnes from the GC\n",
    "    returns: array- the distances of each object away from the center of the galaxy\n",
    "    \n",
    "    This fucntion takes the inputs for the ra of the GC, the Dec of the GC, the ra's of an array of objects and the\n",
    "    declinations of an array of objects and returns an array that is those objects distances from the center of the\n",
    "    galaxy\n",
    "    \"\"\"\n",
    "    import math\n",
    "    decA=Data['dec']\n",
    "    raA=Data['ra']\n",
    "    disA=[math.sqrt(((decGC-dec)**2)+((raGC-ra)**2)) for dec,ra in zip(decA,raA)]\n",
    "    return disA"
   ]
  },
  {
   "cell_type": "code",
   "execution_count": 17,
   "metadata": {
    "collapsed": false
   },
   "outputs": [
    {
     "ename": "NameError",
     "evalue": "name 'ra_NGC4651' is not defined",
     "output_type": "error",
     "traceback": [
      "\u001b[1;31m---------------------------------------------------------------------------\u001b[0m",
      "\u001b[1;31mNameError\u001b[0m                                 Traceback (most recent call last)",
      "\u001b[1;32m<ipython-input-17-1cb97e6ea733>\u001b[0m in \u001b[0;36m<module>\u001b[1;34m()\u001b[0m\n\u001b[1;32m----> 1\u001b[1;33m \u001b[1;32mprint\u001b[0m \u001b[0mdis_GC\u001b[0m\u001b[1;33m(\u001b[0m\u001b[0mra_NGC4651\u001b[0m\u001b[1;33m,\u001b[0m\u001b[0mdec_NGC4651\u001b[0m\u001b[1;33m,\u001b[0m\u001b[0mdata\u001b[0m\u001b[1;33m)\u001b[0m\u001b[1;33m\u001b[0m\u001b[0m\n\u001b[0m",
      "\u001b[1;31mNameError\u001b[0m: name 'ra_NGC4651' is not defined"
     ]
    }
   ],
   "source": [
    "print dis_GC(ra_NGC4651,dec_NGC4651,data)"
   ]
  },
  {
   "cell_type": "code",
   "execution_count": 18,
   "metadata": {
    "collapsed": false
   },
   "outputs": [
    {
     "ename": "NameError",
     "evalue": "name 'decA' is not defined",
     "output_type": "error",
     "traceback": [
      "\u001b[1;31m---------------------------------------------------------------------------\u001b[0m",
      "\u001b[1;31mNameError\u001b[0m                                 Traceback (most recent call last)",
      "\u001b[1;32m<ipython-input-18-163f4a948157>\u001b[0m in \u001b[0;36m<module>\u001b[1;34m()\u001b[0m\n\u001b[1;32m----> 1\u001b[1;33m \u001b[1;32mprint\u001b[0m \u001b[0mdecA\u001b[0m\u001b[1;33m\u001b[0m\u001b[0m\n\u001b[0m",
      "\u001b[1;31mNameError\u001b[0m: name 'decA' is not defined"
     ]
    }
   ],
   "source": [
    "print decA"
   ]
  },
  {
   "cell_type": "code",
   "execution_count": 19,
   "metadata": {
    "collapsed": true
   },
   "outputs": [],
   "source": [
    "def dis_GC(raGC,decGC,Data):\n",
    "    \"\"\"\n",
    "    raGC: float- the ra of the galatic center\n",
    "    decGC: float the dec of the galatic center\n",
    "    raA, array- A array of the ra's of the objects that you want to know the distances from the GC\n",
    "    decGC array- A array of the dec's of the objects that you want to know the distacnes from the GC\n",
    "    returns: array- the distances of each object away from the center of the galaxy\n",
    "    \n",
    "    This fucntion takes the inputs for the ra of the GC, the Dec of the GC, the ra's of an array of objects and the\n",
    "    declinations of an array of objects and returns an array that is those objects distances from the center of the\n",
    "    galaxy\n",
    "    \"\"\"\n",
    "    import math\n",
    "    decA=Data['dec']\n",
    "    raA=Data['ra']\n",
    "    disA=[math.sqrt(((decGC-dec)**2)+((raGC-ra)**2)) for dec,ra in zip(decA,raA)]\n",
    "    print zip(decA,raA)"
   ]
  },
  {
   "cell_type": "code",
   "execution_count": 20,
   "metadata": {
    "collapsed": false
   },
   "outputs": [
    {
     "ename": "NameError",
     "evalue": "name 'ra_NGC4651' is not defined",
     "output_type": "error",
     "traceback": [
      "\u001b[1;31m---------------------------------------------------------------------------\u001b[0m",
      "\u001b[1;31mNameError\u001b[0m                                 Traceback (most recent call last)",
      "\u001b[1;32m<ipython-input-20-1cb97e6ea733>\u001b[0m in \u001b[0;36m<module>\u001b[1;34m()\u001b[0m\n\u001b[1;32m----> 1\u001b[1;33m \u001b[1;32mprint\u001b[0m \u001b[0mdis_GC\u001b[0m\u001b[1;33m(\u001b[0m\u001b[0mra_NGC4651\u001b[0m\u001b[1;33m,\u001b[0m\u001b[0mdec_NGC4651\u001b[0m\u001b[1;33m,\u001b[0m\u001b[0mdata\u001b[0m\u001b[1;33m)\u001b[0m\u001b[1;33m\u001b[0m\u001b[0m\n\u001b[0m",
      "\u001b[1;31mNameError\u001b[0m: name 'ra_NGC4651' is not defined"
     ]
    }
   ],
   "source": [
    "print dis_GC(ra_NGC4651,dec_NGC4651,data)"
   ]
  },
  {
   "cell_type": "code",
   "execution_count": 21,
   "metadata": {
    "collapsed": true
   },
   "outputs": [],
   "source": [
    "def dis_GC(raGC,decGC,Data):\n",
    "    \"\"\"\n",
    "    raGC: float- the ra of the galatic center\n",
    "    decGC: float the dec of the galatic center\n",
    "    raA, array- A array of the ra's of the objects that you want to know the distances from the GC\n",
    "    decGC array- A array of the dec's of the objects that you want to know the distacnes from the GC\n",
    "    returns: array- the distances of each object away from the center of the galaxy\n",
    "    \n",
    "    This fucntion takes the inputs for the ra of the GC, the Dec of the GC, the ra's of an array of objects and the\n",
    "    declinations of an array of objects and returns an array that is those objects distances from the center of the\n",
    "    galaxy\n",
    "    \"\"\"\n",
    "    import math\n",
    "    decA=Data['dec']\n",
    "    raA=Data['ra']\n",
    "    disA=[math.sqrt(((decGC-dec)**2)+((raGC-ra)**2)) for dec,ra in zip(decA,raA)]\n",
    "    np.histogram(disA)\n",
    "    np.plot()"
   ]
  },
  {
   "cell_type": "code",
   "execution_count": 22,
   "metadata": {
    "collapsed": false
   },
   "outputs": [
    {
     "ename": "NameError",
     "evalue": "name 'ra_NGC4651' is not defined",
     "output_type": "error",
     "traceback": [
      "\u001b[1;31m---------------------------------------------------------------------------\u001b[0m",
      "\u001b[1;31mNameError\u001b[0m                                 Traceback (most recent call last)",
      "\u001b[1;32m<ipython-input-22-1cb97e6ea733>\u001b[0m in \u001b[0;36m<module>\u001b[1;34m()\u001b[0m\n\u001b[1;32m----> 1\u001b[1;33m \u001b[1;32mprint\u001b[0m \u001b[0mdis_GC\u001b[0m\u001b[1;33m(\u001b[0m\u001b[0mra_NGC4651\u001b[0m\u001b[1;33m,\u001b[0m\u001b[0mdec_NGC4651\u001b[0m\u001b[1;33m,\u001b[0m\u001b[0mdata\u001b[0m\u001b[1;33m)\u001b[0m\u001b[1;33m\u001b[0m\u001b[0m\n\u001b[0m",
      "\u001b[1;31mNameError\u001b[0m: name 'ra_NGC4651' is not defined"
     ]
    }
   ],
   "source": [
    "print dis_GC(ra_NGC4651,dec_NGC4651,data)"
   ]
  },
  {
   "cell_type": "code",
   "execution_count": 23,
   "metadata": {
    "collapsed": true
   },
   "outputs": [],
   "source": [
    "import matplotlib.pyplot as plt"
   ]
  },
  {
   "cell_type": "code",
   "execution_count": 24,
   "metadata": {
    "collapsed": true
   },
   "outputs": [],
   "source": [
    "def dis_GC(raGC,decGC,Data):\n",
    "    \"\"\"\n",
    "    raGC: float- the ra of the galatic center\n",
    "    decGC: float the dec of the galatic center\n",
    "    Data: array- a table of data containg the coordinates of each object\n",
    "    returns: array- the distances of each object away from the center of the galaxy\n",
    "    \n",
    "    This fucntion takes the inputs for the ra of the GC, the Dec of the GC, the ra's of an array of objects and the\n",
    "    declinations of an array of objects and returns an array that is those objects distances from the center of the\n",
    "    galaxy\n",
    "    \"\"\"\n",
    "    import math\n",
    "    decA=Data['dec']\n",
    "    raA=Data['ra']\n",
    "    disA=[math.sqrt(((decGC-dec)**2)+((raGC-ra)**2)) for dec,ra in zip(decA,raA)]\n",
    "    plt.hist(disA)\n",
    "    plt.show()"
   ]
  },
  {
   "cell_type": "code",
   "execution_count": 25,
   "metadata": {
    "collapsed": false
   },
   "outputs": [
    {
     "ename": "NameError",
     "evalue": "name 'ra_NGC4651' is not defined",
     "output_type": "error",
     "traceback": [
      "\u001b[1;31m---------------------------------------------------------------------------\u001b[0m",
      "\u001b[1;31mNameError\u001b[0m                                 Traceback (most recent call last)",
      "\u001b[1;32m<ipython-input-25-1cb97e6ea733>\u001b[0m in \u001b[0;36m<module>\u001b[1;34m()\u001b[0m\n\u001b[1;32m----> 1\u001b[1;33m \u001b[1;32mprint\u001b[0m \u001b[0mdis_GC\u001b[0m\u001b[1;33m(\u001b[0m\u001b[0mra_NGC4651\u001b[0m\u001b[1;33m,\u001b[0m\u001b[0mdec_NGC4651\u001b[0m\u001b[1;33m,\u001b[0m\u001b[0mdata\u001b[0m\u001b[1;33m)\u001b[0m\u001b[1;33m\u001b[0m\u001b[0m\n\u001b[0m",
      "\u001b[1;31mNameError\u001b[0m: name 'ra_NGC4651' is not defined"
     ]
    }
   ],
   "source": [
    "print dis_GC(ra_NGC4651,dec_NGC4651,data)"
   ]
  },
  {
   "cell_type": "code",
   "execution_count": null,
   "metadata": {
    "collapsed": true
   },
   "outputs": [],
   "source": []
  },
  {
   "cell_type": "code",
   "execution_count": null,
   "metadata": {
    "collapsed": true
   },
   "outputs": [],
   "source": [
    "data_NGC1316= ascii.read('/Users/Anthony/Dropbox/galaxies/ngc1316_ObsID-2022.tsv')"
   ]
  },
  {
   "cell_type": "code",
   "execution_count": null,
   "metadata": {
    "collapsed": false
   },
   "outputs": [],
   "source": [
    "print data_NGC1316"
   ]
  },
  {
   "cell_type": "code",
   "execution_count": 26,
   "metadata": {
    "collapsed": true
   },
   "outputs": [],
   "source": [
    "ra_NGC1316=50.673825"
   ]
  },
  {
   "cell_type": "code",
   "execution_count": 27,
   "metadata": {
    "collapsed": true
   },
   "outputs": [],
   "source": [
    "dec_NGC1316=-37.208227"
   ]
  },
  {
   "cell_type": "code",
   "execution_count": 28,
   "metadata": {
    "collapsed": false
   },
   "outputs": [
    {
     "ename": "NameError",
     "evalue": "name 'data_NGC1316' is not defined",
     "output_type": "error",
     "traceback": [
      "\u001b[1;31m---------------------------------------------------------------------------\u001b[0m",
      "\u001b[1;31mNameError\u001b[0m                                 Traceback (most recent call last)",
      "\u001b[1;32m<ipython-input-28-d76f65fe5790>\u001b[0m in \u001b[0;36m<module>\u001b[1;34m()\u001b[0m\n\u001b[1;32m----> 1\u001b[1;33m \u001b[0mdis_GC\u001b[0m\u001b[1;33m(\u001b[0m\u001b[0mra_NGC1316\u001b[0m\u001b[1;33m,\u001b[0m\u001b[0mdec_NGC1316\u001b[0m\u001b[1;33m,\u001b[0m\u001b[0mdata_NGC1316\u001b[0m\u001b[1;33m)\u001b[0m\u001b[1;33m\u001b[0m\u001b[0m\n\u001b[0m",
      "\u001b[1;31mNameError\u001b[0m: name 'data_NGC1316' is not defined"
     ]
    }
   ],
   "source": [
    "dis_GC(ra_NGC1316,dec_NGC1316,data_NGC1316)"
   ]
  },
  {
   "cell_type": "code",
   "execution_count": 29,
   "metadata": {
    "collapsed": true
   },
   "outputs": [],
   "source": [
    "data_NGC474= ascii.read('/Users/Anthony/Dropbox/galaxies/ngc474_ObsID-7144.tsv')"
   ]
  },
  {
   "cell_type": "code",
   "execution_count": 30,
   "metadata": {
    "collapsed": false
   },
   "outputs": [
    {
     "name": "stdout",
     "output_type": "stream",
     "text": [
      "        name            ra      dec   ... var_index_b var_index_w\n",
      "-------------------- -------- ------- ... ----------- -----------\n",
      "CXO J011939.3+033855 19.91374 3.64866 ...           0         NaN\n",
      "CXO J011944.6+034206 19.93622  3.7018 ...           0         NaN\n",
      "CXO J011947.4+033146 19.94769 3.52957 ...           0         NaN\n",
      "CXO J011955.2+033000  19.9803 3.50002 ...           0         NaN\n",
      "CXO J011957.8+032231 19.99119 3.37553 ...           1         NaN\n",
      "CXO J012000.9+033858 20.00387 3.64963 ...           0         NaN\n",
      "CXO J012001.4+032411 20.00619 3.40315 ...           1         NaN\n",
      "CXO J012002.3+032452 20.00992 3.41465 ...           0         NaN\n",
      "CXO J012002.7+032504 20.01146 3.41791 ...           0         NaN\n",
      "CXO J012005.6+031905 20.02367 3.31824 ...           1         NaN\n",
      "                 ...      ...     ... ...         ...         ...\n",
      "CXO J012008.7+032056  20.0364 3.34916 ...           0         NaN\n",
      "CXO J012019.3+032745 20.08081 3.46259 ...           1         NaN\n",
      "CXO J012020.6+032428 20.08591 3.40804 ...           0         NaN\n",
      "CXO J012034.3+033322 20.14322 3.55617 ...           0         NaN\n",
      "CXO J012042.0+033403 20.17519  3.5676 ...           0         NaN\n",
      "CXO J012042.1+032405 20.17567 3.40159 ...           0         NaN\n",
      "CXO J012042.4+032728 20.17679 3.45788 ...           0         NaN\n",
      "CXO J012044.0+032803 20.18371 3.46774 ...           2         NaN\n",
      "CXO J012045.5+032938 20.18987 3.49416 ...           0         NaN\n",
      "CXO J012046.1+032621 20.19246 3.43919 ...           2         NaN\n",
      "CXO J012050.4+032638 20.21016  3.4439 ...           0         NaN\n",
      "Length = 25 rows\n"
     ]
    }
   ],
   "source": [
    "print data_NGC474"
   ]
  },
  {
   "cell_type": "code",
   "execution_count": 36,
   "metadata": {
    "collapsed": true
   },
   "outputs": [],
   "source": [
    "ra_NGC474=20.027878"
   ]
  },
  {
   "cell_type": "code",
   "execution_count": 37,
   "metadata": {
    "collapsed": true
   },
   "outputs": [],
   "source": [
    "dec_NGC474=3.415399"
   ]
  },
  {
   "cell_type": "code",
   "execution_count": 38,
   "metadata": {
    "collapsed": false
   },
   "outputs": [],
   "source": [
    "dis_GC(ra_NGC474,dec_NGC474,data_NGC474)"
   ]
  },
  {
   "cell_type": "code",
   "execution_count": 39,
   "metadata": {
    "collapsed": true
   },
   "outputs": [],
   "source": [
    "data_NGC3077= ascii.read('/Users/Anthony/Dropbox/galaxies/ngc3077_ObsID-2076.tsv')"
   ]
  },
  {
   "cell_type": "code",
   "execution_count": 40,
   "metadata": {
    "collapsed": false
   },
   "outputs": [
    {
     "name": "stdout",
     "output_type": "stream",
     "text": [
      "        name             ra      dec    ... var_index_b var_index_w\n",
      "-------------------- --------- -------- ... ----------- -----------\n",
      "CXO J100125.0+685336 150.35423 68.89343 ...           0         NaN\n",
      "CXO J100126.4+684917 150.36032 68.82159 ...           1         NaN\n",
      "CXO J100133.1+685227 150.38805 68.87441 ...           0         NaN\n",
      "CXO J100140.2+685041 150.41764 68.84477 ...           1         NaN\n",
      "CXO J100140.2+685553 150.41759 68.93162 ...           0         NaN\n",
      "CXO J100143.3+684810 150.43071 68.80303 ...           0         NaN\n",
      "CXO J100147.8+685203 150.44918 68.86759 ...           7         NaN\n",
      "CXO J100149.3+690250 150.45562 69.04723 ...           0         NaN\n",
      "CXO J100203.1+685024 150.51299 68.84023 ...           2         NaN\n",
      "CXO J100215.1+685632 150.56301 68.94223 ...           0         NaN\n",
      "CXO J100227.9+684958 150.61628 68.83288 ...           2         NaN\n",
      "CXO J100229.4+685840 150.62272 68.97804 ...           0         NaN\n",
      "CXO J100315.7+685529 150.81563 68.92478 ...           0         NaN\n",
      "CXO J100320.3+685711 150.83498 68.95311 ...           6         NaN\n",
      "CXO J100322.2+685125 150.84256 68.85702 ...           0         NaN\n",
      "CXO J100324.6+685421 150.85282 68.90591 ...           0         NaN\n",
      "CXO J100337.0+685318 150.90435 68.88848 ...           0         NaN\n"
     ]
    }
   ],
   "source": [
    "print data_NGC3077"
   ]
  },
  {
   "cell_type": "code",
   "execution_count": 41,
   "metadata": {
    "collapsed": true
   },
   "outputs": [],
   "source": [
    "ra_NGC3077=150.829458"
   ]
  },
  {
   "cell_type": "code",
   "execution_count": 42,
   "metadata": {
    "collapsed": true
   },
   "outputs": [],
   "source": [
    "dec_NGC3077=68.733917"
   ]
  },
  {
   "cell_type": "code",
   "execution_count": 43,
   "metadata": {
    "collapsed": true
   },
   "outputs": [],
   "source": [
    "dis_GC(ra_NGC3077,dec_NGC3077,data_NGC3077)"
   ]
  },
  {
   "cell_type": "code",
   "execution_count": 44,
   "metadata": {
    "collapsed": true
   },
   "outputs": [],
   "source": [
    "data_eso137=ascii.read('/Users/Anthony/Dropbox/galaxies/eso137-001_ObsID-9518.tsv')"
   ]
  },
  {
   "cell_type": "code",
   "execution_count": 45,
   "metadata": {
    "collapsed": false
   },
   "outputs": [
    {
     "name": "stdout",
     "output_type": "stream",
     "text": [
      "name  ra dec err_ellipse_r0 ... obi_hard_ms_lolim var_index_b var_index_w\n",
      "---- --- --- -------------- ... ----------------- ----------- -----------\n"
     ]
    }
   ],
   "source": [
    "print data_eso137"
   ]
  },
  {
   "cell_type": "code",
   "execution_count": 46,
   "metadata": {
    "collapsed": true
   },
   "outputs": [],
   "source": [
    "data_NGC2403=ascii.read('/Users/Anthony/Dropbox/galaxies/ngc2403_ObsID-2014.tsv')"
   ]
  },
  {
   "cell_type": "code",
   "execution_count": 47,
   "metadata": {
    "collapsed": false
   },
   "outputs": [
    {
     "name": "stdout",
     "output_type": "stream",
     "text": [
      "        name             ra      dec    ... var_index_b var_index_w\n",
      "-------------------- --------- -------- ... ----------- -----------\n",
      "CXO J073603.9+651755  114.0164 65.29871 ...           1         NaN\n",
      "CXO J073607.3+652150 114.03069 65.36393 ...           0         NaN\n",
      "CXO J073614.6+654228 114.06089 65.70784 ...           0         NaN\n",
      "CXO J073624.6+653138 114.10269 65.52736 ...           0         NaN\n",
      "CXO J073624.8+654229  114.1035 65.70807 ...           2         NaN\n",
      "CXO J073624.9+653915 114.10381 65.65418 ...           0         NaN\n",
      "CXO J073625.2+653841 114.10511 65.64473 ...           1         NaN\n",
      "CXO J073625.5+653539 114.10647 65.59441 ...           0         NaN\n",
      "CXO J073630.0+653933 114.12522 65.65921 ...           0         NaN\n",
      "CXO J073632.2+653031 114.13429 65.50877 ...           0         NaN\n",
      "                 ...       ...      ... ...         ...         ...\n",
      "CXO J073713.9+652452 114.30808 65.41448 ...           1         NaN\n",
      "CXO J073714.8+653428 114.31202 65.57471 ...           1         NaN\n",
      "CXO J073716.0+653329 114.31694 65.55815 ...           1         NaN\n",
      "CXO J073717.8+652954 114.32423 65.49845 ...           0         NaN\n",
      "CXO J073719.1+653052 114.32989 65.51452 ...           0         NaN\n",
      "CXO J073720.4+654938 114.33531  65.8275 ...           0         NaN\n",
      "CXO J073722.5+652133 114.34381 65.35928 ...           1         NaN\n",
      "CXO J073725.5+654302 114.35653 65.71746 ...           0         NaN\n",
      "CXO J073726.0+653656 114.35861 65.61565 ...           1         NaN\n",
      "CXO J073726.2+653922 114.35915 65.65613 ...           1         NaN\n",
      "CXO J073727.3+653102 114.36376 65.51731 ...           0         NaN\n",
      "Length = 58 rows\n"
     ]
    }
   ],
   "source": [
    "print data_NGC2403"
   ]
  },
  {
   "cell_type": "code",
   "execution_count": 48,
   "metadata": {
    "collapsed": true
   },
   "outputs": [],
   "source": [
    "ra_NGC2403=114.214167"
   ]
  },
  {
   "cell_type": "code",
   "execution_count": 49,
   "metadata": {
    "collapsed": true
   },
   "outputs": [],
   "source": [
    "dec_NGC2403=65.602556"
   ]
  },
  {
   "cell_type": "code",
   "execution_count": 50,
   "metadata": {
    "collapsed": true
   },
   "outputs": [],
   "source": [
    "dis_GC(ra_NGC2403,dec_NGC2403,data_NGC2403)"
   ]
  },
  {
   "cell_type": "code",
   "execution_count": 51,
   "metadata": {
    "collapsed": true
   },
   "outputs": [],
   "source": [
    "data_NGC4631=ascii.read('/Users/Anthony/Dropbox/galaxies/ngc4631_ObsID-797.tsv')"
   ]
  },
  {
   "cell_type": "code",
   "execution_count": 52,
   "metadata": {
    "collapsed": false
   },
   "outputs": [
    {
     "name": "stdout",
     "output_type": "stream",
     "text": [
      "        name             ra      dec    ... var_index_b var_index_w\n",
      "-------------------- --------- -------- ... ----------- -----------\n",
      "CXO J124056.8+322829 190.23668 32.47476 ...           0         NaN\n",
      "CXO J124100.3+322400  190.2516 32.40022 ...           0         NaN\n",
      "CXO J124102.8+323802 190.26204 32.63396 ...           2         NaN\n",
      "CXO J124104.9+323824  190.2706 32.64015 ...           0         NaN\n",
      "CXO J124106.0+322519 190.27513 32.42203 ...           0         NaN\n",
      "CXO J124106.0+323946 190.27516  32.6629 ...           0         NaN\n",
      "CXO J124106.3+322354 190.27642 32.39849 ...           0         NaN\n",
      "CXO J124108.6+323013 190.28588 32.50377 ...           5         NaN\n",
      "CXO J124111.5+324135  190.2982 32.69312 ...           0         NaN\n",
      "CXO J124115.3+323023 190.31389 32.50666 ...           2         NaN\n",
      "                 ...       ...      ... ...         ...         ...\n",
      "CXO J124222.4+323242 190.59366 32.54518 ...           0         NaN\n",
      "CXO J124224.9+323404 190.60412 32.56788 ...           0         NaN\n",
      "CXO J124225.7+323321 190.60747 32.55598 ...           0         NaN\n",
      "CXO J124230.1+323349 190.62559 32.56374 ...           1         NaN\n",
      "CXO J124231.8+323418 190.63262 32.57184 ...           5         NaN\n",
      "CXO J124232.5+323027 190.63572 32.50752 ...           0         NaN\n",
      "CXO J124235.1+323337 190.64634 32.56052 ...           0         NaN\n",
      "CXO J124236.4+323833 190.65188 32.64273 ...           0         NaN\n",
      "CXO J124239.3+323050 190.66381 32.51414 ...           0         NaN\n",
      "CXO J124252.6+323449 190.71934 32.58043 ...           0         NaN\n",
      "CXO J124254.8+323220 190.72832 32.53893 ...           0         NaN\n",
      "Length = 86 rows\n"
     ]
    }
   ],
   "source": [
    "print data_NGC4631"
   ]
  },
  {
   "cell_type": "code",
   "execution_count": 53,
   "metadata": {
    "collapsed": true
   },
   "outputs": [],
   "source": [
    "ra_NGC4631=190.533375"
   ]
  },
  {
   "cell_type": "code",
   "execution_count": 54,
   "metadata": {
    "collapsed": true
   },
   "outputs": [],
   "source": [
    "dec_NGC4631=32.541500"
   ]
  },
  {
   "cell_type": "code",
   "execution_count": 55,
   "metadata": {
    "collapsed": false
   },
   "outputs": [],
   "source": [
    "dis_GC(ra_NGC4631,dec_NGC4631,data_NGC4631)"
   ]
  },
  {
   "cell_type": "code",
   "execution_count": 56,
   "metadata": {
    "collapsed": true
   },
   "outputs": [],
   "source": [
    "data_NGC7331=ascii.read('/Users/Anthony/Dropbox/galaxies/ngc7331_ObsID-2198.tsv')"
   ]
  },
  {
   "cell_type": "code",
   "execution_count": 57,
   "metadata": {
    "collapsed": false
   },
   "outputs": [
    {
     "name": "stdout",
     "output_type": "stream",
     "text": [
      "        name             ra      dec    ... var_index_b var_index_w\n",
      "-------------------- --------- -------- ... ----------- -----------\n",
      "CXO J223604.2+341209 339.01749 34.20272 ...           0         NaN\n",
      "CXO J223627.7+342039 339.11541  34.3444 ...           2         NaN\n",
      "CXO J223639.2+342637 339.16367 34.44368 ...           0         NaN\n",
      "CXO J223650.6+342739 339.21095 34.46099 ...           0         NaN\n",
      "CXO J223651.8+342600 339.21609 34.43359 ...           0         NaN\n",
      "CXO J223653.3+342415 339.22215 34.40442 ...           0         NaN\n",
      "CXO J223654.3+342626 339.22635 34.44082 ...           0         NaN\n",
      "CXO J223657.2+342721 339.23856   34.456 ...           1         NaN\n",
      "CXO J223658.4+341629 339.24362 34.27476 ...           0         NaN\n",
      "CXO J223658.4+342418 339.24363 34.40525 ...           0         NaN\n",
      "                 ...       ...      ... ...         ...         ...\n",
      "CXO J223709.4+342503 339.28945 34.41758 ...           0         NaN\n",
      "CXO J223710.3+342348 339.29296 34.39681 ...           0         NaN\n",
      "CXO J223711.8+342537 339.29931 34.42717 ...           0         NaN\n",
      "CXO J223714.0+341509 339.30842 34.25264 ...           0         NaN\n",
      "CXO J223716.7+342140 339.31969 34.36134 ...           1         NaN\n",
      "CXO J223722.0+342316 339.34176  34.3879 ...           6         NaN\n",
      "CXO J223723.0+342141 339.34617 34.36144 ...           0         NaN\n",
      "CXO J223729.1+342333 339.37153 34.39252 ...           1         NaN\n",
      "CXO J223731.5+342327 339.38124 34.39111 ...           1         NaN\n",
      "CXO J223734.5+342111 339.39379 34.35313 ...           0         NaN\n",
      "CXO J223738.5+342224 339.41055  34.3735 ...           0         NaN\n",
      "Length = 58 rows\n"
     ]
    }
   ],
   "source": [
    "print data_NGC7331"
   ]
  },
  {
   "cell_type": "code",
   "execution_count": 58,
   "metadata": {
    "collapsed": true
   },
   "outputs": [],
   "source": [
    "ra_NGC7331=339.2667242"
   ]
  },
  {
   "cell_type": "code",
   "execution_count": 59,
   "metadata": {
    "collapsed": true
   },
   "outputs": [],
   "source": [
    "dec_NGC7331=34.4155189"
   ]
  },
  {
   "cell_type": "code",
   "execution_count": 60,
   "metadata": {
    "collapsed": false
   },
   "outputs": [],
   "source": [
    "dis_GC(ra_NGC7331,dec_NGC7331,data_NGC7331)"
   ]
  },
  {
   "cell_type": "code",
   "execution_count": 61,
   "metadata": {
    "collapsed": true
   },
   "outputs": [],
   "source": [
    "def dis_GC_B(raGC,decGC,Data,B):\n",
    "    \"\"\"\n",
    "    raGC: float- the ra of the galatic center in decimal degrees\n",
    "    decGC: float the dec of the galatic center in decimal degrees\n",
    "    Data: array- a table of data containg the coordinates of each object\n",
    "    B: int- the number of bins in the histogram\n",
    "    returns: array- the distances of each object away from the center of the galaxy\n",
    "    \n",
    "    This fucntion takes the inputs for the ra of the GC, the Dec of the GC, the ra's of an array of objects and the\n",
    "    declinations of an array of objects and returns an histrogram that plots the number of objects per bin by the\n",
    "    distance from the center of the galaxy the objects in each bin are in degrees. This function allows you to modify\n",
    "    the number of bins yourself.\n",
    "    \"\"\"\n",
    "    import math\n",
    "    decA=Data['dec']\n",
    "    raA=Data['ra']\n",
    "    disA=[math.sqrt(((decGC-dec)**2)+((raGC-ra)**2)) for dec,ra in zip(decA,raA)]\n",
    "    plt.hist(disA,B)\n",
    "    plt.show()"
   ]
  },
  {
   "cell_type": "code",
   "execution_count": 62,
   "metadata": {
    "collapsed": false
   },
   "outputs": [],
   "source": [
    "dis_GC_B(ra_NGC7331,dec_NGC7331,data_NGC7331,50)"
   ]
  },
  {
   "cell_type": "code",
   "execution_count": 63,
   "metadata": {
    "collapsed": false
   },
   "outputs": [],
   "source": [
    "dis_GC_B(ra_NGC2403,dec_NGC2403,data_NGC2403,100)"
   ]
  },
  {
   "cell_type": "code",
   "execution_count": 64,
   "metadata": {
    "collapsed": true
   },
   "outputs": [],
   "source": [
    "dis_GC_B(ra_NGC4631,dec_NGC4631,data_NGC4631,15)"
   ]
  },
  {
   "cell_type": "code",
   "execution_count": 65,
   "metadata": {
    "collapsed": true
   },
   "outputs": [],
   "source": [
    "def dis_GC_R(raGC,decGC,Data,R):\n",
    "    \"\"\"\n",
    "    raGC: float- the ra of the galatic center\n",
    "    decGC: float the dec of the galatic center\n",
    "    raA, array- A array of the ra's of the objects that you want to know the distances from the GC\n",
    "    decGC array- A array of the dec's of the objects that you want to know the distacnes from the GC\n",
    "    returns: array- the distances of each object away from the center of the galaxy\n",
    "    \n",
    "    This fucntion takes the inputs for the ra of the GC, the Dec of the GC, the ra's of an array of objects and the\n",
    "    declinations of an array of objects and returns an array that is those objects distances from the center of the\n",
    "    galaxy\n",
    "    \"\"\"\n",
    "    import math\n",
    "    decA=Data['dec']\n",
    "    raA=Data['ra']\n",
    "    disA=[math.sqrt(((decGC-dec)**2)+((raGC-ra)**2)) for dec,ra in zip(decA,raA)]\n",
    "    np.histogram(disA)\n",
    "    plt.plot([R])\n",
    "    plt.plot()"
   ]
  },
  {
   "cell_type": "code",
   "execution_count": 66,
   "metadata": {
    "collapsed": false
   },
   "outputs": [],
   "source": [
    "dis_GC_R(ra_NGC4631,dec_NGC4631,data_NGC4631,0.14)"
   ]
  },
  {
   "cell_type": "code",
   "execution_count": 67,
   "metadata": {
    "collapsed": true
   },
   "outputs": [],
   "source": [
    "import matplotlib.pyplot as plt"
   ]
  },
  {
   "cell_type": "code",
   "execution_count": 68,
   "metadata": {
    "collapsed": true
   },
   "outputs": [],
   "source": [
    "def dis_GC_B_R(raGC,decGC,Data,B,Maj,Min):\n",
    "    \"\"\"\n",
    "    raGC: float- the ra of the galatic center\n",
    "    decGC: float the dec of the galatic center\n",
    "    raA, array- A array of the ra's of the objects that you want to know the distances from the GC\n",
    "    decGC array- A array of the dec's of the objects that you want to know the distacnes from the GC\n",
    "    returns: array- the distances of each object away from the center of the galaxy\n",
    "    \n",
    "    This fucntion takes the inputs for the ra of the GC, the Dec of the GC, the ra's of an array of objects and the\n",
    "    declinations of an array of objects and returns an array that is those objects distances from the center of the\n",
    "    galaxy\n",
    "    \"\"\"\n",
    "    import math\n",
    "    decA=Data['dec']\n",
    "    raA=Data['ra']\n",
    "    Maj=Maj/3600\n",
    "    Min=Min/3600\n",
    "    S_Maj=Maj/2\n",
    "    S_Min=Min/2\n",
    "    disA=[math.sqrt(((decGC-dec)**2)+((raGC-ra)**2)) for dec,ra in zip(decA,raA)]\n",
    "    plt.vlines(S_Maj,0,10,color='red')\n",
    "    plt.vlines(S_Min,0,10,color='blue')\n",
    "    plt.hist(disA,B)\n",
    "    plt.plot()\n",
    "    plt.show()"
   ]
  },
  {
   "cell_type": "code",
   "execution_count": 69,
   "metadata": {
    "collapsed": false
   },
   "outputs": [],
   "source": [
    "Maj_NGC474=210.00\n",
    "Min_NGC474=207.90"
   ]
  },
  {
   "cell_type": "code",
   "execution_count": 70,
   "metadata": {
    "collapsed": false
   },
   "outputs": [],
   "source": [
    "dis_GC_B_R(ra_NGC474,dec_NGC474,data_NGC474,20,Maj_NGC474,Min_NGC474)"
   ]
  },
  {
   "cell_type": "code",
   "execution_count": 71,
   "metadata": {
    "collapsed": true
   },
   "outputs": [],
   "source": [
    "def dis_GC_R(raGC,decGC,Data,Maj,Min):\n",
    "    \"\"\"\n",
    "    raGC: float- the ra of the galatic center\n",
    "    decGC: float the dec of the galatic center\n",
    "    raA, array- A array of the ra's of the objects that you want to know the distances from the GC\n",
    "    decGC array- A array of the dec's of the objects that you want to know the distacnes from the GC\n",
    "    returns: array- the distances of each object away from the center of the galaxy\n",
    "    \n",
    "    This fucntion takes the inputs for the ra of the GC, the Dec of the GC, the ra's of an array of objects and the\n",
    "    declinations of an array of objects and returns an array that is those objects distances from the center of the\n",
    "    galaxy\n",
    "    \"\"\"\n",
    "    import math\n",
    "    decA=Data['dec']\n",
    "    raA=Data['ra']\n",
    "    Maj=Maj/3600\n",
    "    Min=Min/3600\n",
    "    S_Maj=Maj/2\n",
    "    S_Min=Min/2\n",
    "    disA=[math.sqrt(((decGC-dec)**2)+((raGC-ra)**2)) for dec,ra in zip(decA,raA)]\n",
    "    plt.vlines(S_Maj,0,10,color='red')\n",
    "    plt.vlines(S_Min,0,10,color='blue')\n",
    "    plt.hist(disA)\n",
    "    plt.plot()\n",
    "    plt.show()"
   ]
  },
  {
   "cell_type": "code",
   "execution_count": 72,
   "metadata": {
    "collapsed": false
   },
   "outputs": [],
   "source": [
    "dis_GC_R(ra_NGC474,dec_NGC474,data_NGC474,Maj_NGC474,Min_NGC474)"
   ]
  },
  {
   "cell_type": "code",
   "execution_count": 73,
   "metadata": {
    "collapsed": true
   },
   "outputs": [],
   "source": [
    "Maj_NGC1316=590.00\n",
    "Min_NGC1316=424.80"
   ]
  },
  {
   "cell_type": "code",
   "execution_count": 74,
   "metadata": {
    "collapsed": false
   },
   "outputs": [
    {
     "ename": "NameError",
     "evalue": "name 'data_NGC1316' is not defined",
     "output_type": "error",
     "traceback": [
      "\u001b[1;31m---------------------------------------------------------------------------\u001b[0m",
      "\u001b[1;31mNameError\u001b[0m                                 Traceback (most recent call last)",
      "\u001b[1;32m<ipython-input-74-7972bdf7808b>\u001b[0m in \u001b[0;36m<module>\u001b[1;34m()\u001b[0m\n\u001b[1;32m----> 1\u001b[1;33m \u001b[0mdis_GC_R\u001b[0m\u001b[1;33m(\u001b[0m\u001b[0mra_NGC1316\u001b[0m\u001b[1;33m,\u001b[0m\u001b[0mdec_NGC1316\u001b[0m\u001b[1;33m,\u001b[0m\u001b[0mdata_NGC1316\u001b[0m\u001b[1;33m,\u001b[0m\u001b[0mMaj_NGC1316\u001b[0m\u001b[1;33m,\u001b[0m\u001b[0mMin_NGC1316\u001b[0m\u001b[1;33m)\u001b[0m\u001b[1;33m\u001b[0m\u001b[0m\n\u001b[0m",
      "\u001b[1;31mNameError\u001b[0m: name 'data_NGC1316' is not defined"
     ]
    }
   ],
   "source": [
    "dis_GC_R(ra_NGC1316,dec_NGC1316,data_NGC1316,Maj_NGC1316,Min_NGC1316)"
   ]
  },
  {
   "cell_type": "code",
   "execution_count": 75,
   "metadata": {
    "collapsed": true
   },
   "outputs": [],
   "source": [
    "Maj_NGC2403=753.80\n",
    "Min_NGC2403=459.82"
   ]
  },
  {
   "cell_type": "code",
   "execution_count": 76,
   "metadata": {
    "collapsed": true
   },
   "outputs": [],
   "source": [
    "dis_GC_B_R(ra_NGC2403,dec_NGC2403,data_NGC2403,25,Maj_NGC2403,Min_NGC2403)"
   ]
  },
  {
   "cell_type": "code",
   "execution_count": 77,
   "metadata": {
    "collapsed": true
   },
   "outputs": [],
   "source": [
    "Maj_NGC3077=404.60\n",
    "Min_NGC3077=319.63"
   ]
  },
  {
   "cell_type": "code",
   "execution_count": 78,
   "metadata": {
    "collapsed": true
   },
   "outputs": [],
   "source": [
    "dis_GC_R(ra_NGC3077,dec_NGC3077,data_NGC3077,Maj_NGC3077,Min_NGC3077)"
   ]
  },
  {
   "cell_type": "code",
   "execution_count": 79,
   "metadata": {
    "collapsed": true
   },
   "outputs": [],
   "source": [
    "Maj_NGC4631=828.80\n",
    "Min_NGC4631=248.64"
   ]
  },
  {
   "cell_type": "code",
   "execution_count": 80,
   "metadata": {
    "collapsed": true
   },
   "outputs": [],
   "source": [
    "dis_GC_B_R(ra_NGC4631,dec_NGC4631,data_NGC4631,25,Maj_NGC4631,Min_NGC4631)"
   ]
  },
  {
   "cell_type": "code",
   "execution_count": 81,
   "metadata": {
    "collapsed": true
   },
   "outputs": [],
   "source": [
    "Maj_NGC4651=192.40\n",
    "Min_NGC4651=126.98"
   ]
  },
  {
   "cell_type": "code",
   "execution_count": 82,
   "metadata": {
    "collapsed": false
   },
   "outputs": [
    {
     "ename": "NameError",
     "evalue": "name 'ra_NGC4651' is not defined",
     "output_type": "error",
     "traceback": [
      "\u001b[1;31m---------------------------------------------------------------------------\u001b[0m",
      "\u001b[1;31mNameError\u001b[0m                                 Traceback (most recent call last)",
      "\u001b[1;32m<ipython-input-82-b34d76522346>\u001b[0m in \u001b[0;36m<module>\u001b[1;34m()\u001b[0m\n\u001b[1;32m----> 1\u001b[1;33m \u001b[0mdis_GC_R\u001b[0m\u001b[1;33m(\u001b[0m\u001b[0mra_NGC4651\u001b[0m\u001b[1;33m,\u001b[0m\u001b[0mdec_NGC4651\u001b[0m\u001b[1;33m,\u001b[0m\u001b[0mdata\u001b[0m\u001b[1;33m,\u001b[0m\u001b[0mMaj_NGC4651\u001b[0m\u001b[1;33m,\u001b[0m\u001b[0mMin_NGC4651\u001b[0m\u001b[1;33m)\u001b[0m\u001b[1;33m\u001b[0m\u001b[0m\n\u001b[0m",
      "\u001b[1;31mNameError\u001b[0m: name 'ra_NGC4651' is not defined"
     ]
    }
   ],
   "source": [
    "dis_GC_R(ra_NGC4651,dec_NGC4651,data,Maj_NGC4651,Min_NGC4651)"
   ]
  },
  {
   "cell_type": "code",
   "execution_count": 83,
   "metadata": {
    "collapsed": true
   },
   "outputs": [],
   "source": [
    "Maj_NGC7331=531.80\n",
    "Min_NGC7331=260.58"
   ]
  },
  {
   "cell_type": "code",
   "execution_count": 84,
   "metadata": {
    "collapsed": true
   },
   "outputs": [],
   "source": [
    "dis_GC_B_R(ra_NGC7331,dec_NGC7331,data_NGC7331,50,Maj_NGC7331,Min_NGC7331)"
   ]
  },
  {
   "cell_type": "code",
   "execution_count": 85,
   "metadata": {
    "collapsed": false
   },
   "outputs": [],
   "source": [
    "dis_GC_R(ra_NGC2403,dec_NGC2403,data_NGC2403,Maj_NGC2403,Min_NGC2403)"
   ]
  },
  {
   "cell_type": "code",
   "execution_count": 86,
   "metadata": {
    "collapsed": true
   },
   "outputs": [],
   "source": [
    "dis_GC_R(ra_NGC4631,dec_NGC4631,data_NGC4631,Maj_NGC4631,Min_NGC4631)"
   ]
  },
  {
   "cell_type": "code",
   "execution_count": 87,
   "metadata": {
    "collapsed": true
   },
   "outputs": [],
   "source": [
    "def dis_GC_R(raGC,decGC,Data,Maj,Min):\n",
    "    \"\"\"\n",
    "    raGC: float- the ra of the galatic center\n",
    "    decGC: float the dec of the galatic center\n",
    "    raA, array- A array of the ra's of the objects that you want to know the distances from the GC\n",
    "    decGC array- A array of the dec's of the objects that you want to know the distacnes from the GC\n",
    "    returns: array- the distances of each object away from the center of the galaxy\n",
    "    \n",
    "    This fucntion takes the inputs for the ra of the GC, the Dec of the GC, the ra's of an array of objects and the\n",
    "    declinations of an array of objects and returns an array that is those objects distances from the center of the\n",
    "    galaxy\n",
    "    \"\"\"\n",
    "    import math\n",
    "    decA=Data['dec']\n",
    "    raA=Data['ra']\n",
    "    Maj=Maj/3600\n",
    "    Min=Min/3600\n",
    "    S_Maj=Maj/2\n",
    "    S_Min=Min/2\n",
    "    disA=[math.sqrt(((decGC-dec)**2)+((raGC-ra)**2)) for dec,ra in zip(decA,raA)]\n",
    "    plt.vlines(S_Maj,0,20,color='red')\n",
    "    plt.vlines(S_Min,0,20,color='blue')\n",
    "    plt.hist(disA)\n",
    "    plt.plot()\n",
    "    plt.show()"
   ]
  },
  {
   "cell_type": "code",
   "execution_count": 88,
   "metadata": {
    "collapsed": false
   },
   "outputs": [],
   "source": [
    "dis_GC_R(ra_NGC2403,dec_NGC2403,data_NGC2403,Maj_NGC2403,Min_NGC2403)"
   ]
  },
  {
   "cell_type": "code",
   "execution_count": 89,
   "metadata": {
    "collapsed": false
   },
   "outputs": [],
   "source": [
    "dis_GC_R(ra_NGC4631,dec_NGC4631,data_NGC4631,Maj_NGC4631,Min_NGC4631)"
   ]
  },
  {
   "cell_type": "code",
   "execution_count": 90,
   "metadata": {
    "collapsed": false
   },
   "outputs": [],
   "source": [
    "dis_GC_R(ra_NGC7331,dec_NGC7331,data_NGC7331,Maj_NGC7331,Min_NGC7331)"
   ]
  },
  {
   "cell_type": "code",
   "execution_count": 91,
   "metadata": {
    "collapsed": true
   },
   "outputs": [],
   "source": [
    "def dis_GC_R(raGC,decGC,Data,Maj,Min):\n",
    "    \"\"\"\n",
    "    raGC: float- the ra of the galatic center\n",
    "    decGC: float the dec of the galatic center\n",
    "    raA, array- A array of the ra's of the objects that you want to know the distances from the GC\n",
    "    decGC array- A array of the dec's of the objects that you want to know the distacnes from the GC\n",
    "    returns: array- the distances of each object away from the center of the galaxy\n",
    "    \n",
    "    This fucntion takes the inputs for the ra of the GC, the Dec of the GC, the ra's of an array of objects and the\n",
    "    declinations of an array of objects and returns an array that is those objects distances from the center of the\n",
    "    galaxy\n",
    "    \"\"\"\n",
    "    import math\n",
    "    decA=Data['dec']\n",
    "    raA=Data['ra']\n",
    "    Maj=Maj/3600\n",
    "    Min=Min/3600\n",
    "    S_Maj=Maj/2\n",
    "    S_Min=Min/2\n",
    "    disA=[math.sqrt(((decGC-dec)**2)+((raGC-ra)**2)) for dec,ra in zip(decA,raA)]\n",
    "    plt.vlines(S_Maj,0,35,color='red')\n",
    "    plt.vlines(S_Min,0,35,color='blue')\n",
    "    plt.hist(disA)\n",
    "    plt.plot()\n",
    "    plt.show()"
   ]
  },
  {
   "cell_type": "code",
   "execution_count": 92,
   "metadata": {
    "collapsed": true
   },
   "outputs": [],
   "source": [
    "dis_GC_R(ra_NGC7331,dec_NGC7331,data_NGC7331,Maj_NGC7331,Min_NGC7331)"
   ]
  },
  {
   "cell_type": "code",
   "execution_count": 93,
   "metadata": {
    "collapsed": true
   },
   "outputs": [],
   "source": [
    "from astroquery.ned import Ned"
   ]
  },
  {
   "cell_type": "code",
   "execution_count": 94,
   "metadata": {
    "collapsed": true
   },
   "outputs": [],
   "source": [
    "data2_NGC7331= Ned.query_object(\"NGC 7331\")"
   ]
  },
  {
   "cell_type": "code",
   "execution_count": 95,
   "metadata": {
    "collapsed": false
   },
   "outputs": [
    {
     "name": "stdout",
     "output_type": "stream",
     "text": [
      "No. Object Name      RA(deg)       ... Diameter Points Associations\n",
      "                     degrees       ...                             \n",
      "--- ----------- ------------------ ... --------------- ------------\n",
      "  1    NGC 7331 339.26672000000002 ...               8            0\n"
     ]
    }
   ],
   "source": [
    "print (data2_NGC7331)"
   ]
  },
  {
   "cell_type": "code",
   "execution_count": 96,
   "metadata": {
    "collapsed": false
   },
   "outputs": [
    {
     "data": {
      "text/html": [
       "&lt;MaskedColumn name=&apos;Object Name&apos; dtype=&apos;str30&apos; description=u&apos;NED preferred name for the object&apos; length=1&gt;\n",
       "<table>\n",
       "<tr><td>NGC 7331</td></tr>\n",
       "</table>"
      ],
      "text/plain": [
       "<MaskedColumn name='Object Name' dtype='str30' description=u'NED preferred name for the object' length=1>\n",
       "NGC 7331"
      ]
     },
     "execution_count": 96,
     "metadata": {},
     "output_type": "execute_result"
    }
   ],
   "source": [
    "data2_NGC7331['Object Name']"
   ]
  },
  {
   "cell_type": "code",
   "execution_count": 97,
   "metadata": {
    "collapsed": false
   },
   "outputs": [
    {
     "data": {
      "text/html": [
       "&lt;MaskedColumn name=&apos;Diameter Points&apos; dtype=&apos;int32&apos; description=u&apos;Number of diameter data points stored by NED for the object.&apos; length=1&gt;\n",
       "<table>\n",
       "<tr><td>8</td></tr>\n",
       "</table>"
      ],
      "text/plain": [
       "<MaskedColumn name='Diameter Points' dtype='int32' description=u'Number of diameter data points stored by NED for the object.' length=1>\n",
       "8"
      ]
     },
     "execution_count": 97,
     "metadata": {},
     "output_type": "execute_result"
    }
   ],
   "source": [
    "data2_NGC7331['Diameter Points']"
   ]
  },
  {
   "cell_type": "code",
   "execution_count": 98,
   "metadata": {
    "collapsed": false
   },
   "outputs": [
    {
     "data": {
      "text/html": [
       "&lt;MaskedColumn name=&apos;RA(deg)&apos; dtype=&apos;float64&apos; unit=&apos;degrees&apos; format=u&apos;%10r&apos; description=u&apos;Right Ascension in degrees (Equatorial J2000.0)&apos; length=1&gt;\n",
       "<table>\n",
       "<tr><td>339.26672000000002</td></tr>\n",
       "</table>"
      ],
      "text/plain": [
       "<MaskedColumn name='RA(deg)' dtype='float64' unit='degrees' format=u'%10r' description=u'Right Ascension in degrees (Equatorial J2000.0)' length=1>\n",
       "339.26672000000002"
      ]
     },
     "execution_count": 98,
     "metadata": {},
     "output_type": "execute_result"
    }
   ],
   "source": [
    "data2_NGC7331['RA(deg)']"
   ]
  },
  {
   "cell_type": "code",
   "execution_count": 99,
   "metadata": {
    "collapsed": false
   },
   "outputs": [],
   "source": [
    "ra2_NGC7331=float(data2_NGC7331['RA(deg)'])"
   ]
  },
  {
   "cell_type": "code",
   "execution_count": 100,
   "metadata": {
    "collapsed": false
   },
   "outputs": [
    {
     "name": "stdout",
     "output_type": "stream",
     "text": [
      "339.26672\n"
     ]
    }
   ],
   "source": [
    "print ra2_NGC7331"
   ]
  },
  {
   "cell_type": "code",
   "execution_count": 101,
   "metadata": {
    "collapsed": true
   },
   "outputs": [],
   "source": [
    "def dis_GC_R_N(Gname,Data,Maj,Min):\n",
    "    \"\"\"\n",
    "    raGC: float- the ra of the galatic center\n",
    "    decGC: float the dec of the galatic center\n",
    "    raA, array- A array of the ra's of the objects that you want to know the distances from the GC\n",
    "    decGC array- A array of the dec's of the objects that you want to know the distacnes from the GC\n",
    "    returns: array- the distances of each object away from the center of the galaxy\n",
    "    \n",
    "    This fucntion takes the inputs for the ra of the GC, the Dec of the GC, the ra's of an array of objects and the\n",
    "    declinations of an array of objects and returns an array that is those objects distances from the center of the\n",
    "    galaxy\n",
    "    \"\"\"\n",
    "    import math\n",
    "    decA=Data['dec']\n",
    "    raA=Data['ra']\n",
    "    Maj=Maj/3600\n",
    "    Min=Min/3600\n",
    "    S_Maj=Maj/2\n",
    "    S_Min=Min/2\n",
    "    G_Data= Ned.query_object(Gname)\n",
    "    raGC=float(G_Data['RA(deg)'])\n",
    "    decGC=float(G_Data['DEC(deg)'])\n",
    "    disA=[math.sqrt(((decGC-dec)**2)+((raGC-ra)**2)) for dec,ra in zip(decA,raA)]\n",
    "    plt.vlines(S_Maj,0,10,color='red')\n",
    "    plt.vlines(S_Min,0,10,color='blue')\n",
    "    plt.hist(disA)\n",
    "    plt.plot()\n",
    "    plt.show()"
   ]
  },
  {
   "cell_type": "code",
   "execution_count": 102,
   "metadata": {
    "collapsed": false
   },
   "outputs": [],
   "source": [
    "dis_GC_R_N('NGC 474',data_NGC474,Maj_NGC474,Min_NGC474)"
   ]
  },
  {
   "cell_type": "code",
   "execution_count": 103,
   "metadata": {
    "collapsed": true
   },
   "outputs": [],
   "source": [
    "def Area_GC_R_N(Gname,Data,Maj,Min):\n",
    "    \"\"\"\n",
    "    raGC: float- the ra of the galatic center\n",
    "    decGC: float the dec of the galatic center\n",
    "    raA, array- A array of the ra's of the objects that you want to know the distances from the GC\n",
    "    decGC array- A array of the dec's of the objects that you want to know the distacnes from the GC\n",
    "    returns: array- the distances of each object away from the center of the galaxy\n",
    "    \n",
    "    This fucntion takes the inputs for the ra of the GC, the Dec of the GC, the ra's of an array of objects and the\n",
    "    declinations of an array of objects and returns an array that is those objects distances from the center of the\n",
    "    galaxy\n",
    "    \"\"\"\n",
    "    import math\n",
    "    decA=Data['dec']\n",
    "    raA=Data['ra']\n",
    "    Maj=Maj/3600\n",
    "    Min=Min/3600\n",
    "    S_Maj=Maj/2\n",
    "    S_Min=Min/2\n",
    "    area_T=((S_Maj)**2)*math.pi\n",
    "    G_Data= Ned.query_object(Gname)\n",
    "    raGC=float(G_Data['RA(deg)'])\n",
    "    decGC=float(G_Data['DEC(deg)'])\n",
    "    area_A=[((((decGC-dec)**2)+((raGC-ra)**2)))*(math.pi) for dec,ra in zip(decA,raA)]\n",
    "    plt.vlines(area_T,0,10,color='red')\n",
    "    #plt.vlines(S_Min,0,10,color='blue')\n",
    "    plt.hist(area_A)\n",
    "    plt.plot()\n",
    "    plt.show()"
   ]
  },
  {
   "cell_type": "code",
   "execution_count": 104,
   "metadata": {
    "collapsed": false
   },
   "outputs": [],
   "source": [
    "Area_GC_R_N('NGC 474',data_NGC474,Maj_NGC474,Min_NGC474)"
   ]
  },
  {
   "cell_type": "code",
   "execution_count": 108,
   "metadata": {
    "collapsed": true
   },
   "outputs": [],
   "source": [
    "def Area_GC_R_N(Gname,Data,Maj):\n",
    "    \"\"\"\n",
    "    raGC: float- the ra of the galatic center\n",
    "    decGC: float the dec of the galatic center\n",
    "    raA, array- A array of the ra's of the objects that you want to know the distances from the GC\n",
    "    decGC array- A array of the dec's of the objects that you want to know the distacnes from the GC\n",
    "    returns: array- the distances of each object away from the center of the galaxy\n",
    "    \n",
    "    This fucntion takes the inputs for the ra of the GC, the Dec of the GC, the ra's of an array of objects and the\n",
    "    declinations of an array of objects and returns an array that is those objects distances from the center of the\n",
    "    galaxy\n",
    "    \"\"\"\n",
    "    import math\n",
    "    decA=Data['dec']\n",
    "    raA=Data['ra']\n",
    "    Maj=Maj/3600\n",
    "    S_Maj=Maj/2\n",
    "    area_T=((S_Maj)**2)*math.pi\n",
    "    G_Data= Ned.query_object(Gname)\n",
    "    raGC=float(G_Data['RA(deg)'])\n",
    "    decGC=float(G_Data['DEC(deg)'])\n",
    "    area_A=[((((decGC-dec)**2)+((raGC-ra)**2)))*(math.pi) for dec,ra in zip(decA,raA)]\n",
    "    plt.vlines(area_T,0,10,color='red')\n",
    "    plt.hist(area_A)\n",
    "    plt.plot()\n",
    "    plt.show()"
   ]
  },
  {
   "cell_type": "code",
   "execution_count": 109,
   "metadata": {
    "collapsed": true
   },
   "outputs": [],
   "source": [
    "Area_GC_R_N('NGC 474',data_NGC474,Maj_NGC474)"
   ]
  },
  {
   "cell_type": "code",
   "execution_count": 110,
   "metadata": {
    "collapsed": true
   },
   "outputs": [],
   "source": [
    "def Area_GC_R_N_F(Gname,Data,Maj):\n",
    "    \"\"\"\n",
    "    raGC: float- the ra of the galatic center\n",
    "    decGC: float the dec of the galatic center\n",
    "    raA, array- A array of the ra's of the objects that you want to know the distances from the GC\n",
    "    decGC array- A array of the dec's of the objects that you want to know the distacnes from the GC\n",
    "    returns: array- the distances of each object away from the center of the galaxy\n",
    "    \n",
    "    This fucntion takes the inputs for the ra of the GC, the Dec of the GC, the ra's of an array of objects and the\n",
    "    declinations of an array of objects and returns an array that is those objects distances from the center of the\n",
    "    galaxy\n",
    "    \"\"\"\n",
    "    import math\n",
    "    decA=Data['dec']\n",
    "    raA=Data['ra']\n",
    "    Maj=Maj/3600\n",
    "    S_Maj=Maj/2\n",
    "    area_T=((S_Maj)**2)*math.pi\n",
    "    G_Data= Ned.query_object(Gname)\n",
    "    raGC=float(G_Data['RA(deg)'])\n",
    "    decGC=float(G_Data['DEC(deg)'])\n",
    "    area_A=[((((((decGC-dec)**2)+((raGC-ra)**2)))*(math.pi))/area_T) for dec,ra in zip(decA,raA)]\n",
    "    #plt.vlines(1,0,10,color='red')\n",
    "    plt.hist(area_A)\n",
    "    plt.plot()\n",
    "    plt.show()"
   ]
  },
  {
   "cell_type": "code",
   "execution_count": 111,
   "metadata": {
    "collapsed": false
   },
   "outputs": [],
   "source": [
    "Area_GC_R_N_F('NGC 474',data_NGC474,Maj_NGC474)"
   ]
  },
  {
   "cell_type": "code",
   "execution_count": 112,
   "metadata": {
    "collapsed": false
   },
   "outputs": [
    {
     "ename": "NameError",
     "evalue": "name 'data_NGC1316' is not defined",
     "output_type": "error",
     "traceback": [
      "\u001b[1;31m---------------------------------------------------------------------------\u001b[0m",
      "\u001b[1;31mNameError\u001b[0m                                 Traceback (most recent call last)",
      "\u001b[1;32m<ipython-input-112-4c4be3c106f9>\u001b[0m in \u001b[0;36m<module>\u001b[1;34m()\u001b[0m\n\u001b[1;32m----> 1\u001b[1;33m \u001b[0mArea_GC_R_N_F\u001b[0m\u001b[1;33m(\u001b[0m\u001b[1;34m'NGC 1316'\u001b[0m\u001b[1;33m,\u001b[0m\u001b[0mdata_NGC1316\u001b[0m\u001b[1;33m,\u001b[0m\u001b[0mMaj_NGC1316\u001b[0m\u001b[1;33m)\u001b[0m\u001b[1;33m\u001b[0m\u001b[0m\n\u001b[0m",
      "\u001b[1;31mNameError\u001b[0m: name 'data_NGC1316' is not defined"
     ]
    }
   ],
   "source": [
    "Area_GC_R_N_F('NGC 1316',data_NGC1316,Maj_NGC1316)"
   ]
  },
  {
   "cell_type": "code",
   "execution_count": 113,
   "metadata": {
    "collapsed": true
   },
   "outputs": [],
   "source": [
    "Area_GC_R_N_F('NGC 2403',data_NGC2403,Maj_NGC2403)"
   ]
  },
  {
   "cell_type": "code",
   "execution_count": 114,
   "metadata": {
    "collapsed": true
   },
   "outputs": [],
   "source": [
    "Area_GC_R_N_F('NGC 3077',data_NGC3077,Maj_NGC3077)"
   ]
  },
  {
   "cell_type": "code",
   "execution_count": 115,
   "metadata": {
    "collapsed": true
   },
   "outputs": [],
   "source": [
    "Area_GC_R_N_F('NGC 4631',data_NGC4631,Maj_NGC4631)"
   ]
  },
  {
   "cell_type": "code",
   "execution_count": 116,
   "metadata": {
    "collapsed": false
   },
   "outputs": [],
   "source": [
    "Area_GC_R_N_F('NGC 4651',data,Maj_NGC4651)"
   ]
  },
  {
   "cell_type": "code",
   "execution_count": 117,
   "metadata": {
    "collapsed": true
   },
   "outputs": [],
   "source": [
    "Area_GC_R_N_F('NGC 7331',data_NGC7331,Maj_NGC7331)"
   ]
  },
  {
   "cell_type": "code",
   "execution_count": 118,
   "metadata": {
    "collapsed": true
   },
   "outputs": [],
   "source": [
    "def Area_GC_R_N_F_B(Gname,Data,Maj,B):\n",
    "    \"\"\"\n",
    "    raGC: float- the ra of the galatic center\n",
    "    decGC: float the dec of the galatic center\n",
    "    raA, array- A array of the ra's of the objects that you want to know the distances from the GC\n",
    "    decGC array- A array of the dec's of the objects that you want to know the distacnes from the GC\n",
    "    returns: array- the distances of each object away from the center of the galaxy\n",
    "    \n",
    "    This fucntion takes the inputs for the ra of the GC, the Dec of the GC, the ra's of an array of objects and the\n",
    "    declinations of an array of objects and returns an array that is those objects distances from the center of the\n",
    "    galaxy\n",
    "    \"\"\"\n",
    "    import math\n",
    "    decA=Data['dec']\n",
    "    raA=Data['ra']\n",
    "    Maj=Maj/3600\n",
    "    S_Maj=Maj/2\n",
    "    area_T=((S_Maj)**2)*math.pi\n",
    "    G_Data= Ned.query_object(Gname)\n",
    "    raGC=float(G_Data['RA(deg)'])\n",
    "    decGC=float(G_Data['DEC(deg)'])\n",
    "    area_A=[((((((decGC-dec)**2)+((raGC-ra)**2)))*(math.pi))/area_T) for dec,ra in zip(decA,raA)]\n",
    "    plt.vlines(1,0,10,color='red')\n",
    "    plt.hist(area_A,B)\n",
    "    plt.plot()\n",
    "    plt.show()"
   ]
  },
  {
   "cell_type": "code",
   "execution_count": 119,
   "metadata": {
    "collapsed": true
   },
   "outputs": [],
   "source": [
    "Area_GC_R_N_F_B('NGC 474',data_NGC474,Maj_NGC474,100)"
   ]
  },
  {
   "cell_type": "code",
   "execution_count": 120,
   "metadata": {
    "collapsed": false
   },
   "outputs": [
    {
     "ename": "NameError",
     "evalue": "name 'data_NGC1316' is not defined",
     "output_type": "error",
     "traceback": [
      "\u001b[1;31m---------------------------------------------------------------------------\u001b[0m",
      "\u001b[1;31mNameError\u001b[0m                                 Traceback (most recent call last)",
      "\u001b[1;32m<ipython-input-120-ab7493cb9aff>\u001b[0m in \u001b[0;36m<module>\u001b[1;34m()\u001b[0m\n\u001b[1;32m----> 1\u001b[1;33m \u001b[0mArea_GC_R_N_F_B\u001b[0m\u001b[1;33m(\u001b[0m\u001b[1;34m'NGC 1316'\u001b[0m\u001b[1;33m,\u001b[0m\u001b[0mdata_NGC1316\u001b[0m\u001b[1;33m,\u001b[0m\u001b[0mMaj_NGC1316\u001b[0m\u001b[1;33m,\u001b[0m\u001b[1;36m50\u001b[0m\u001b[1;33m)\u001b[0m\u001b[1;33m\u001b[0m\u001b[0m\n\u001b[0m",
      "\u001b[1;31mNameError\u001b[0m: name 'data_NGC1316' is not defined"
     ]
    }
   ],
   "source": [
    "Area_GC_R_N_F_B('NGC 1316',data_NGC1316,Maj_NGC1316,50)"
   ]
  },
  {
   "cell_type": "code",
   "execution_count": 121,
   "metadata": {
    "collapsed": true
   },
   "outputs": [],
   "source": [
    "Area_GC_R_N_F_B('NGC 2403',data_NGC2403,Maj_NGC2403,100)"
   ]
  },
  {
   "cell_type": "code",
   "execution_count": 122,
   "metadata": {
    "collapsed": true
   },
   "outputs": [],
   "source": [
    "Area_GC_R_N_F_B('NGC 3077',data_NGC3077,Maj_NGC3077,25)"
   ]
  },
  {
   "cell_type": "code",
   "execution_count": 123,
   "metadata": {
    "collapsed": true
   },
   "outputs": [],
   "source": [
    "Area_GC_R_N_F_B('NGC 4631',data_NGC4631,Maj_NGC4631,150)"
   ]
  },
  {
   "cell_type": "code",
   "execution_count": 128,
   "metadata": {
    "collapsed": false
   },
   "outputs": [],
   "source": [
    "Area_GC_R_N_F_B('NGC 4651',data,Maj_NGC4651,25)"
   ]
  },
  {
   "cell_type": "code",
   "execution_count": 129,
   "metadata": {
    "collapsed": true
   },
   "outputs": [],
   "source": [
    "Area_GC_R_N_F_B('NGC 7331',data_NGC7331,Maj_NGC7331,100)"
   ]
  },
  {
   "cell_type": "code",
   "execution_count": 130,
   "metadata": {
    "collapsed": true
   },
   "outputs": [],
   "source": [
    "Area_GC_R_N_F_B('NGC 7331',data_NGC7331,Maj_NGC7331,600)"
   ]
  },
  {
   "cell_type": "code",
   "execution_count": 131,
   "metadata": {
    "collapsed": true
   },
   "outputs": [],
   "source": [
    "def Area_GC_R_N(Gname,Data,Maj):\n",
    "    \"\"\"\n",
    "    raGC: float- the ra of the galatic center\n",
    "    decGC: float the dec of the galatic center\n",
    "    raA, array- A array of the ra's of the objects that you want to know the distances from the GC\n",
    "    decGC array- A array of the dec's of the objects that you want to know the distacnes from the GC\n",
    "    returns: array- the distances of each object away from the center of the galaxy\n",
    "    \n",
    "    This fucntion takes the inputs for the ra of the GC, the Dec of the GC, the ra's of an array of objects and the\n",
    "    declinations of an array of objects and returns an array that is those objects distances from the center of the\n",
    "    galaxy\n",
    "    \"\"\"\n",
    "    import math\n",
    "    decA=Data['dec']\n",
    "    raA=Data['ra']\n",
    "    Maj=Maj/3600\n",
    "    S_Maj=Maj/2\n",
    "    area_T=((S_Maj)**2)*math.pi\n",
    "    G_Data= Ned.query_object(Gname)\n",
    "    raGC=float(G_Data['RA(deg)'])\n",
    "    decGC=float(G_Data['DEC(deg)'])\n",
    "    area_A=[((((decGC-dec)**2)+((raGC-ra)**2)))*(math.pi) for dec,ra in zip(decA,raA)]\n",
    "    plt.vlines(area_T,0,10,color='red')\n",
    "    plt.hist(area_A)\n",
    "    plt.plot()\n",
    "    plt.show()"
   ]
  },
  {
   "cell_type": "code",
   "execution_count": 132,
   "metadata": {
    "collapsed": true
   },
   "outputs": [],
   "source": [
    "Area_GC_R_N('NGC 474',data_NGC474,Maj_NGC474)"
   ]
  },
  {
   "cell_type": "code",
   "execution_count": 133,
   "metadata": {
    "collapsed": false
   },
   "outputs": [
    {
     "ename": "NameError",
     "evalue": "name 'data_NGC1316' is not defined",
     "output_type": "error",
     "traceback": [
      "\u001b[1;31m---------------------------------------------------------------------------\u001b[0m",
      "\u001b[1;31mNameError\u001b[0m                                 Traceback (most recent call last)",
      "\u001b[1;32m<ipython-input-133-83918968c5d3>\u001b[0m in \u001b[0;36m<module>\u001b[1;34m()\u001b[0m\n\u001b[1;32m----> 1\u001b[1;33m \u001b[0mArea_GC_R_N\u001b[0m\u001b[1;33m(\u001b[0m\u001b[1;34m'NGC 1316'\u001b[0m\u001b[1;33m,\u001b[0m\u001b[0mdata_NGC1316\u001b[0m\u001b[1;33m,\u001b[0m\u001b[0mMaj_NGC1316\u001b[0m\u001b[1;33m)\u001b[0m\u001b[1;33m\u001b[0m\u001b[0m\n\u001b[0m",
      "\u001b[1;31mNameError\u001b[0m: name 'data_NGC1316' is not defined"
     ]
    }
   ],
   "source": [
    "Area_GC_R_N('NGC 1316',data_NGC1316,Maj_NGC1316)"
   ]
  },
  {
   "cell_type": "code",
   "execution_count": 134,
   "metadata": {
    "collapsed": true
   },
   "outputs": [],
   "source": [
    "Area_GC_R_N('NGC 2403',data_NGC2403,Maj_NGC2403)"
   ]
  },
  {
   "cell_type": "code",
   "execution_count": 135,
   "metadata": {
    "collapsed": true
   },
   "outputs": [],
   "source": [
    "Area_GC_R_N('NGC 3077',data_NGC3077,Maj_NGC3077)"
   ]
  },
  {
   "cell_type": "code",
   "execution_count": 136,
   "metadata": {
    "collapsed": true
   },
   "outputs": [],
   "source": [
    "Area_GC_R_N('NGC 4631',data_NGC4631,Maj_NGC4631)"
   ]
  },
  {
   "cell_type": "code",
   "execution_count": 137,
   "metadata": {
    "collapsed": true
   },
   "outputs": [],
   "source": [
    "Area_GC_R_N('NGC 4651',data,Maj_NGC4651)"
   ]
  },
  {
   "cell_type": "code",
   "execution_count": 138,
   "metadata": {
    "collapsed": true
   },
   "outputs": [],
   "source": [
    "Area_GC_R_N('NGC 7331',data_NGC7331,Maj_NGC7331)"
   ]
  },
  {
   "cell_type": "code",
   "execution_count": 182,
   "metadata": {
    "collapsed": true
   },
   "outputs": [],
   "source": [
    "def Area_GC_R_N_B(Gname,Data,Maj,B):\n",
    "    \"\"\"\n",
    "    raGC: float- the ra of the galatic center\n",
    "    decGC: float the dec of the galatic center\n",
    "    raA, array- A array of the ra's of the objects that you want to know the distances from the GC\n",
    "    decGC array- A array of the dec's of the objects that you want to know the distacnes from the GC\n",
    "    returns: array- the distances of each object away from the center of the galaxy\n",
    "    \n",
    "    This fucntion takes the inputs for the ra of the GC, the Dec of the GC, the ra's of an array of objects and the\n",
    "    declinations of an array of objects and returns an array that is those objects distances from the center of the\n",
    "    galaxy\n",
    "    \"\"\"\n",
    "    import math\n",
    "    decA=Data['dec']\n",
    "    raA=Data['ra']\n",
    "    Maj=Maj/3600\n",
    "    S_Maj=Maj/2\n",
    "    area_T=((S_Maj)**2)*math.pi\n",
    "    G_Data= Ned.query_object(Gname)\n",
    "    raGC=float(G_Data['RA(deg)'])\n",
    "    decGC=float(G_Data['DEC(deg)'])\n",
    "    area_A=[((((decGC-dec)**2)+((raGC-ra)**2)))*(math.pi) for dec,ra in zip(decA,raA)]\n",
    "    plt.vlines(area_T,0,10,color='red')\n",
    "    plt.hist(area_A,B)\n",
    "    plt.plot()\n",
    "    plt.show()"
   ]
  },
  {
   "cell_type": "code",
   "execution_count": 140,
   "metadata": {
    "collapsed": false
   },
   "outputs": [],
   "source": [
    "Area_GC_R_N_B('NGC 474',data_NGC474,Maj_NGC474,25)"
   ]
  },
  {
   "cell_type": "code",
   "execution_count": 141,
   "metadata": {
    "collapsed": false
   },
   "outputs": [],
   "source": [
    "Area_GC_R_N_B('NGC 2403',data_NGC2403,Maj_NGC2403,50)"
   ]
  },
  {
   "cell_type": "code",
   "execution_count": 142,
   "metadata": {
    "collapsed": false
   },
   "outputs": [],
   "source": [
    "Area_GC_R_N_B('NGC 4631',data_NGC4631,Maj_NGC4631,400)"
   ]
  },
  {
   "cell_type": "code",
   "execution_count": 143,
   "metadata": {
    "collapsed": true
   },
   "outputs": [],
   "source": [
    "Area_GC_R_N_B('NGC 7331',data_NGC7331,Maj_NGC7331,5000)"
   ]
  },
  {
   "cell_type": "code",
   "execution_count": 1,
   "metadata": {
    "collapsed": true
   },
   "outputs": [],
   "source": [
    "def Area_GC_R_N_B_M(Gname,Data,B):\n",
    "    import math\n",
    "    decA=Data['dec']\n",
    "    raA=Data['ra']\n",
    "    G_Data= Ned.query_object(Gname)\n",
    "    raGC=float(G_Data['RA(deg)'])\n",
    "    decGC=float(G_Data['DEC(deg)'])\n",
    "    Dia_A= Ned.get_table(Gname,table='diameters')\n",
    "    Dia_A2=Dia_A[6]\n",
    "    Maj=Dia_A2[18]\n",
    "    Min=Dia_A2[25]\n",
    "    Min=Min/3600\n",
    "    Maj=Maj/3600\n",
    "    S_Maj=Maj/2\n",
    "    area_T=((S_Maj)**2)*math.pi\n",
    "    area_A=[((((decGC-dec)**2)+((raGC-ra)**2)))*(math.pi) for dec,ra in zip(decA,raA)]\n",
    "    plt.vlines(area_T,0,10,color='red')\n",
    "    plt.hist(area_A,B)\n",
    "    plt.plot()\n",
    "    plt.show()\n",
    "    print Maj\n",
    "    print Min\n",
    "    print Dia_A"
   ]
  },
  {
   "cell_type": "code",
   "execution_count": 2,
   "metadata": {
    "collapsed": false
   },
   "outputs": [
    {
     "ename": "NameError",
     "evalue": "name 'data_NGC474' is not defined",
     "output_type": "error",
     "traceback": [
      "\u001b[1;31m---------------------------------------------------------------------------\u001b[0m",
      "\u001b[1;31mNameError\u001b[0m                                 Traceback (most recent call last)",
      "\u001b[1;32m<ipython-input-2-fca7de598cdc>\u001b[0m in \u001b[0;36m<module>\u001b[1;34m()\u001b[0m\n\u001b[1;32m----> 1\u001b[1;33m \u001b[0mArea_GC_R_N_B_M\u001b[0m\u001b[1;33m(\u001b[0m\u001b[1;34m'NGC 474'\u001b[0m\u001b[1;33m,\u001b[0m\u001b[0mdata_NGC474\u001b[0m\u001b[1;33m,\u001b[0m\u001b[1;36m25\u001b[0m\u001b[1;33m)\u001b[0m\u001b[1;33m\u001b[0m\u001b[0m\n\u001b[0m",
      "\u001b[1;31mNameError\u001b[0m: name 'data_NGC474' is not defined"
     ]
    }
   ],
   "source": [
    "Area_GC_R_N_B_M('NGC 474',data_NGC474,25)"
   ]
  },
  {
   "cell_type": "code",
   "execution_count": 186,
   "metadata": {
    "collapsed": false
   },
   "outputs": [],
   "source": [
    "Area_GC_R_N_B('NGC 474',data_NGC474,Maj_NGC474,25)"
   ]
  },
  {
   "cell_type": "code",
   "execution_count": 183,
   "metadata": {
    "collapsed": false
   },
   "outputs": [],
   "source": [
    "Area_GC_R_N_B('NGC 474',data_NGC474,Maj_NGC474,25)"
   ]
  },
  {
   "cell_type": "code",
   "execution_count": null,
   "metadata": {
    "collapsed": true
   },
   "outputs": [],
   "source": []
  }
 ],
 "metadata": {
  "kernelspec": {
   "display_name": "Python 2",
   "language": "python",
   "name": "python2"
  },
  "language_info": {
   "codemirror_mode": {
    "name": "ipython",
    "version": 2
   },
   "file_extension": ".py",
   "mimetype": "text/x-python",
   "name": "python",
   "nbconvert_exporter": "python",
   "pygments_lexer": "ipython2",
   "version": "2.7.11"
  }
 },
 "nbformat": 4,
 "nbformat_minor": 0
}
