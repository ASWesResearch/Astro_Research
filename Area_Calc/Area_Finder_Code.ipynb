{
 "cells": [
  {
   "cell_type": "code",
   "execution_count": 1,
   "metadata": {
    "collapsed": false
   },
   "outputs": [],
   "source": [
    "def Area_Finder(fname,xc,yc,ploystring,inner_r,rchange,outer_r):\n",
    "    cur_r=inner_r\n",
    "    n=1\n",
    "    string_outs=[]\n",
    "    while((cur_r)<=outer_r):\n",
    "        cur_r=(n*rchange) + inner_r\n",
    "        string_out='dmlist \"'+ str(fname)+ '[sky=circle(' + str(xc) +','+ str(yc)+','+ str(cur_r)+')'+ '-' + ploystring +']\"' + 'subspace | less | grep \"Region area\"'\n",
    "        n=n+1\n",
    "        string_outs.append(string_out)\n",
    "    print string_outs[0]"
   ]
  },
  {
   "cell_type": "code",
   "execution_count": 2,
   "metadata": {
    "collapsed": false
   },
   "outputs": [
    {
     "name": "stdout",
     "output_type": "stream",
     "text": [
      "dmlist \"acisf13831_repro_evt2.fits[sky=circle(4043.81,4028.713,1646.2995)-polygon(3451.3539,3178.1829,4048.4036,4003.2608,4048.4048,4048.8218,4048.3963,4048.8304,3224.9028,4648.0464,3178.9292,4648.0003,2581.6485,3822.9365,2581.6496,3777.3754,2581.6856,3777.1939,3405.4564,3178.1481)]\"subspace | less | grep \"Region area\"\n"
     ]
    }
   ],
   "source": [
    "Area_Finder('acisf13831_repro_evt2.fits',4043.81,4028.713,'polygon(3451.3539,3178.1829,4048.4036,4003.2608,4048.4048,4048.8218,4048.3963,4048.8304,3224.9028,4648.0464,3178.9292,4648.0003,2581.6485,3822.9365,2581.6496,3777.3754,2581.6856,3777.1939,3405.4564,3178.1481)',1353.59,292.70950,5000)"
   ]
  },
  {
   "cell_type": "code",
   "execution_count": 3,
   "metadata": {
    "collapsed": false
   },
   "outputs": [
    {
     "ename": "NameError",
     "evalue": "name 'fname' is not defined",
     "output_type": "error",
     "traceback": [
      "\u001b[0;31m---------------------------------------------------------------------------\u001b[0m",
      "\u001b[0;31mNameError\u001b[0m                                 Traceback (most recent call last)",
      "\u001b[0;32m<ipython-input-3-72f45217365d>\u001b[0m in \u001b[0;36m<module>\u001b[0;34m()\u001b[0m\n\u001b[0;32m----> 1\u001b[0;31m \u001b[0mk\u001b[0m\u001b[0;34m=\u001b[0m \u001b[0mstr\u001b[0m\u001b[0;34m(\u001b[0m\u001b[0mfname\u001b[0m\u001b[0;34m)\u001b[0m\u001b[0;34m+\u001b[0m \u001b[0;34m'[sky=circle('\u001b[0m \u001b[0;34m+\u001b[0m \u001b[0mstr\u001b[0m\u001b[0;34m(\u001b[0m\u001b[0mxc\u001b[0m\u001b[0;34m)\u001b[0m \u001b[0;34m+\u001b[0m\u001b[0;34m','\u001b[0m\u001b[0;34m+\u001b[0m \u001b[0mstr\u001b[0m\u001b[0;34m(\u001b[0m\u001b[0myc\u001b[0m\u001b[0;34m)\u001b[0m\u001b[0;34m+\u001b[0m\u001b[0;34m','\u001b[0m\u001b[0;34m+\u001b[0m \u001b[0mstr\u001b[0m\u001b[0;34m(\u001b[0m\u001b[0mcur_r\u001b[0m\u001b[0;34m)\u001b[0m\u001b[0;34m+\u001b[0m\u001b[0;34m')'\u001b[0m\u001b[0;34m+\u001b[0m \u001b[0;34m'-'\u001b[0m \u001b[0;34m+\u001b[0m \u001b[0mploystring\u001b[0m\u001b[0;34m+\u001b[0m\u001b[0;34m']'\u001b[0m\u001b[0;34m\u001b[0m\u001b[0m\n\u001b[0m",
      "\u001b[0;31mNameError\u001b[0m: name 'fname' is not defined"
     ]
    }
   ],
   "source": [
    "k= str(fname)+ '[sky=circle(' + str(xc) +','+ str(yc)+','+ str(cur_r)+')'+ '-' + ploystring+']'"
   ]
  },
  {
   "cell_type": "code",
   "execution_count": 5,
   "metadata": {
    "collapsed": true
   },
   "outputs": [],
   "source": [
    "def k(fname,xc,yc,ploystring,inner_r,rchange,outer_r):\n",
    "    cur_r=inner_r\n",
    "    n=1\n",
    "    string_outs=[]\n",
    "    while((cur_r)<=outer_r):\n",
    "        cur_r=(n*rchange) + inner_r\n",
    "        string_out='dmlist \"'+ str(fname)+ '[sky=circle(' + str(xc) +','+ str(yc)+','+ str(cur_r)+')'+ '-' + ploystring +']\"' + 'subspace | less | grep \"Region area\"'\n",
    "        n=n+1\n",
    "        k= str(fname)+ '[sky=circle(' + str(xc) +','+ str(yc)+','+ str(cur_r)+')'+ '-' + ploystring+']'\n",
    "        string_outs.append(string_out)\n",
    "    print k"
   ]
  },
  {
   "cell_type": "code",
   "execution_count": 7,
   "metadata": {
    "collapsed": false
   },
   "outputs": [
    {
     "name": "stdout",
     "output_type": "stream",
     "text": [
      "acisf13831_repro_evt2.fits[sky=circle(4043.81,4028.713,5158.8135)-polygon(3451.3539,3178.1829,4048.4036,4003.2608,4048.4048,4048.8218,4048.3963,4048.8304,3224.9028,4648.0464,3178.9292,4648.0003,2581.6485,3822.9365,2581.6496,3777.3754,2581.6856,3777.1939,3405.4564,3178.1481)]\n"
     ]
    }
   ],
   "source": [
    "k('acisf13831_repro_evt2.fits',4043.81,4028.713,'polygon(3451.3539,3178.1829,4048.4036,4003.2608,4048.4048,4048.8218,4048.3963,4048.8304,3224.9028,4648.0464,3178.9292,4648.0003,2581.6485,3822.9365,2581.6496,3777.3754,2581.6856,3777.1939,3405.4564,3178.1481)',1353.59,292.70950,5000)"
   ]
  },
  {
   "cell_type": "code",
   "execution_count": null,
   "metadata": {
    "collapsed": true
   },
   "outputs": [],
   "source": [
    "Area_Finder_2('acisf13831_repro_evt2.fits',4043.81,4028.713,'polygon(3451.3539,3178.1829,4048.4036,4003.2608,4048.4048,4048.8218,4048.3963,4048.8304,3224.9028,4648.0464,3178.9292,4648.0003,2581.6485,3822.9365,2581.6496,3777.3754,2581.6856,3777.1939,3405.4564,3178.1481)',1353.59,292.70950,5000)"
   ]
  }
 ],
 "metadata": {
  "kernelspec": {
   "display_name": "Python 2",
   "language": "python",
   "name": "python2"
  },
  "language_info": {
   "codemirror_mode": {
    "name": "ipython",
    "version": 2
   },
   "file_extension": ".py",
   "mimetype": "text/x-python",
   "name": "python",
   "nbconvert_exporter": "python",
   "pygments_lexer": "ipython2",
   "version": "2.7.11"
  }
 },
 "nbformat": 4,
 "nbformat_minor": 0
}
